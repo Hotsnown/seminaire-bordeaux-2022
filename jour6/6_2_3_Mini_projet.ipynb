{
  "cells": [
    {
      "cell_type": "code",
      "execution_count": null,
      "metadata": {},
      "outputs": [],
      "source": [
        "!git clone https://github.com/Hotsnown/seminaire-bordeaux-2022.git seminaire &> /dev/null\n",
        "%pip install nbautoeval &> /dev/null\n",
        "from seminaire.evaluation.jour1.strings.project import exo_identifiant"
      ]
    },
    {
      "cell_type": "markdown",
      "metadata": {},
      "source": [
        "### MINI-PROJET : \n",
        "\n",
        "Vous avez une liste de parties, mal formattée, pour lesquels on vous demande de créer une liste de nom de décisions.\n",
        "Une décision ressemble à ceci:"
      ]
    },
    {
      "cell_type": "code",
      "execution_count": null,
      "metadata": {},
      "outputs": [],
      "source": [
        "exo_identifiant.example()"
      ]
    },
    {
      "cell_type": "markdown",
      "metadata": {},
      "source": [
        "Les **demandeur** et **défenseur** ont été mal retranscrit. Corrigez les problèmes puis concaténez le demandeur bien formatté et le défenseur bien formatté. Enfin, assignez le résultat à **mon_nom**."
      ]
    },
    {
      "cell_type": "code",
      "execution_count": null,
      "metadata": {},
      "outputs": [
        {
          "data": {
            "application/vnd.jupyter.widget-view+json": {
              "model_id": "454c58264eb74217881d9dae10f11b85",
              "version_major": 2,
              "version_minor": 0
            },
            "text/plain": [
              "GridBox(children=(HTML(value='<span style=\"font-size:medium;\"\\'>appel</span>', _dom_classes=('header', '')), H…"
            ]
          },
          "metadata": {},
          "output_type": "display_data"
        }
      ],
      "source": [
        "def nom_décision(demandeur, défenseur):\n",
        "  # utilisez concat et les methodes que vous avez apprises\n",
        "  \n",
        "  mon_nom = #TODO\n",
        "  # Ne rien changer après cette ligne\n",
        "  return mon_nom\n",
        "\n",
        "exo_identifiant.correction(nom_décision)"
      ]
    },
    {
      "cell_type": "markdown",
      "metadata": {},
      "source": [
        "Astuce n°1 : Utilisez les méthodes (strip, capitalize, ...) sur **demandeur** et **défenseur**"
      ]
    }
  ],
  "metadata": {
    "colab": {
      "provenance": []
    },
    "kernelspec": {
      "display_name": "Python 3",
      "name": "python3"
    },
    "language_info": {
      "name": "python"
    }
  },
  "nbformat": 4,
  "nbformat_minor": 0
}
