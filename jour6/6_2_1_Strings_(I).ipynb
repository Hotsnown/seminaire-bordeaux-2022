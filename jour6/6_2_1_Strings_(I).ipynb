{
  "cells": [
    {
      "cell_type": "markdown",
      "metadata": {
        "id": "Th_O8onq3n2R"
      },
      "source": [
        "# Chaînes de caractères\n",
        "\n",
        "\n",
        "\n",
        "\n",
        "\n",
        "\n",
        "\n",
        "\n"
      ]
    },
    {
      "cell_type": "markdown",
      "metadata": {
        "id": "GfcoolzGZfRd"
      },
      "source": [
        "Le texte est un type de données \"string\". Toutes les données entre guillemets simples, doubles ou triples sont des strings. Il existe différentes méthodes et fonctions intégrées pour traiter les types de données de type chaîne. Pour vérifier la longueur d'une chaîne, utilisez la méthode len()."
      ]
    },
    {
      "cell_type": "markdown",
      "metadata": {
        "id": "jbCgq2hvZcqg"
      },
      "source": [
        "# Création d'une chaîne de caractères\n"
      ]
    },
    {
      "cell_type": "code",
      "execution_count": null,
      "metadata": {
        "id": "45YWlnNsZTXq"
      },
      "outputs": [],
      "source": [
        "lettre = 'P' # Une chaîne de caractères peut être un caractère unique ou un ensemble de textes.\n",
        "print(letter) # P\n",
        "print(len(letter))          # 1\n"
      ]
    },
    {
      "cell_type": "code",
      "execution_count": null,
      "metadata": {
        "id": "nzZlNI3wZUT4"
      },
      "outputs": [],
      "source": [
        "greeting1 = \"Hello, World !\"  # Une chaîne de caractères peut être composée d'un guillemet simple ou double, \"Hello, World !\".\n",
        "greeting2 = 'Hello, World !'  # Une chaîne de caractères peut être composée d'un guillemet simple ou double, \"Hello, World !\".\n",
        "\n",
        "print(greeting1) # Hello, World !\n",
        "print(greeting2) # Hello, World !\n",
        "print(len(greeting1))        # 13"
      ]
    },
    {
      "cell_type": "code",
      "execution_count": null,
      "metadata": {
        "id": "9Rv-asikZOgk"
      },
      "outputs": [],
      "source": [
        "phrase = \"J'espère que vous appréciez votre séminaire sur les humanités numériques\".\n",
        "print(phrase)"
      ]
    },
    {
      "cell_type": "markdown",
      "metadata": {
        "id": "35We5cOSZMaT"
      },
      "source": [
        "Une chaîne de caractères multiligne est créée en utilisant des triples apostrophes (''') ou triples guillemets (\"\"\"). Voir l'exemple ci-dessous."
      ]
    },
    {
      "cell_type": "code",
      "execution_count": null,
      "metadata": {
        "id": "cToKfO_AZJgW"
      },
      "outputs": [],
      "source": [
        "multiline_string = '''Je suis juriste et je programme.\n",
        "Je peux traiter des corpus de textes juridiques.\n",
        "Je peux traiter plus de documents que je ne pourrais en lire.''''\n",
        "print(multiline_string)\n",
        "\n"
      ]
    },
    {
      "cell_type": "markdown",
      "metadata": {
        "id": "762SyWViZIRF"
      },
      "source": [
        "Une autre façon de faire la même chose"
      ]
    },
    {
      "cell_type": "code",
      "execution_count": null,
      "metadata": {
        "id": "N8hQsDBJZCFG"
      },
      "outputs": [],
      "source": [
        "multiline_string = \"\"\"Je suis juriste et je programme.\n",
        "Je peux traiter des corpus de textes juridiques.\n",
        "Je peux traiter plus de documents que je ne pourrais en lire.\"\"\"\n",
        "print(multiline_string)"
      ]
    },
    {
      "cell_type": "markdown",
      "metadata": {
        "id": "j-uP0Qi_ZDMz"
      },
      "source": [
        "### Concaténation de chaînes de caractères\n"
      ]
    },
    {
      "cell_type": "markdown",
      "metadata": {
        "id": "Q2WYdvwJZArB"
      },
      "source": [
        "Nous pouvons connecter des chaînes de caractères ensemble. La fusion ou la connexion de chaînes de caractères est appelée concaténation. Voir l'exemple ci-dessous :"
      ]
    },
    {
      "cell_type": "code",
      "execution_count": null,
      "metadata": {
        "id": "Xw8Em3ELY_CX"
      },
      "outputs": [],
      "source": [
        "Prénom = \"Pierre\".\n",
        "nom_famille = 'Deboissy\n",
        "espace = ' '\n",
        "nom_complet = nom_prénom + espace + nom_famille\n",
        "print(nom_complet) # Pierre Deboissy"
      ]
    },
    {
      "cell_type": "markdown",
      "metadata": {
        "id": "Nbb-jqtKY9Vz"
      },
      "source": [
        "# Vérification de la longueur d'une chaîne de caractères à l'aide de la fonction intégrée len()"
      ]
    },
    {
      "cell_type": "code",
      "execution_count": null,
      "metadata": {
        "id": "qquw5QvLY7-N"
      },
      "outputs": [],
      "source": [
        "print(len(prénom)) \n",
        "print(len(nom_famille))  \n",
        "print(len(prénom) > len(nom_famille))\n",
        "print(len(nom_complet))\n"
      ]
    },
    {
      "cell_type": "markdown",
      "metadata": {
        "id": "R00dLh8MXRSY"
      },
      "source": [
        "### Séquences d'échappement dans les chaînes de caractères"
      ]
    },
    {
      "cell_type": "markdown",
      "metadata": {
        "id": "PksaqqvUXJku"
      },
      "source": [
        "En Python et dans d'autres langages de programmation, un caractère \"\\\" suivi d'un autre est un escape character. Voyons les escape character les plus courants :\n",
        "\n",
        "\\n : nouvelle ligne <br/>\n",
        "\\t : Tab signifie (8 espaces) <br/>\n",
        "\\\\N : Barre oblique arrière <br/>\n",
        "\\' : Guillemet simple (') <br/>\n",
        "\\\" : Guillemet double (\") <br/>\n",
        "Maintenant, voyons l'utilisation des séquences d'échappement ci-dessus à l'aide d'exemples."
      ]
    },
    {
      "cell_type": "code",
      "execution_count": null,
      "metadata": {
        "id": "qDxeINicXH35"
      },
      "outputs": [],
      "source": [
        "print(\"J'espère que tout le monde aime faire ces exercises.\\nEt toi ?\") # line break\n",
        "print('Séminaire\\tHumanité\\tNumérique') # ajout d'une tabulation ou de 4 espaces \n",
        "print('Jour 1\\t3\\t5')\n",
        "print('Jour 2\\t3\\t5')\n",
        "print('Jour 3\\t3\\t5')\n",
        "print('Jour 4\\t3\\t5')\n",
        "print('Ceci permet de print un antislahs (\\\\N)') # Pour écrire une barre oblique inverse\n",
        "print('Dans tous les langages de programmation, on commence par \\\"Hello, World!\\\"') # Pour écrire une double citation à l'intérieur d'une simple citation\n",
        "\n"
      ]
    },
    {
      "cell_type": "markdown",
      "metadata": {
        "id": "iwllaSGXW_1K"
      },
      "source": [
        "# Formatage des chaînes de caractères\n"
      ]
    },
    {
      "cell_type": "markdown",
      "metadata": {
        "id": "vb1bbcOFW9Ug"
      },
      "source": [
        "### Formatage des chaînes de caractères à l'ancienne (opérateur %)"
      ]
    },
    {
      "cell_type": "markdown",
      "metadata": {
        "id": "tYpacKGCW63j"
      },
      "source": [
        "En Python, il existe de nombreuses façons de formater les chaînes de caractères. Dans cette section, nous allons en aborder quelques-unes. L'opérateur \"%\" est utilisé pour formater un ensemble de variables contenues dans un \"tuple\" (une liste de taille fixe), ainsi qu'une chaîne de format, qui contient du texte normal ainsi que des \"spécificateurs d'arguments\", des symboles spéciaux comme \"%s\", \"%d\", \"%f\", \"%.number of digitsf\".\n",
        "\n",
        "%s - Chaîne (ou tout objet ayant une représentation sous forme de chaîne, comme les chiffres)\n",
        "%d - Nombres entiers\n",
        "%f - Nombres à virgule flottante\n",
        "\"%.number of digitsf\" - Nombres à virgule flottante avec une précision fixe."
      ]
    },
    {
      "cell_type": "markdown",
      "metadata": {
        "id": "sVAdEHf6W3T3"
      },
      "source": [
        "### Chaînes de caractères uniquement"
      ]
    },
    {
      "cell_type": "code",
      "execution_count": null,
      "metadata": {
        "id": "MsTcq4olWylE"
      },
      "outputs": [],
      "source": [
        "prénom = \"Pierre\n",
        "nom_de_famille = 'Deboissy'\n",
        "langue = 'Python\n",
        "chaîne_formatée = \"Je suis %s %s. J'apprends %s\" %(prénom, nom_de_famille, langue)\n",
        "print(chaîne_formatée)"
      ]
    },
    {
      "cell_type": "markdown",
      "metadata": {
        "id": "YNIIVerIWw-L"
      },
      "source": [
        "### Chaînes et nombres"
      ]
    },
    {
      "cell_type": "code",
      "execution_count": null,
      "metadata": {
        "id": "UyUPl1mrWvHQ"
      },
      "outputs": [],
      "source": [
        "rayon = 10\n",
        "pi = 3,14\n",
        "aire = pi * rayon ** 2\n",
        "Formated_string = \"L'aire du cercle de rayon %d est %.2f\". %(rayon,aire) # 2 désigne les 2 chiffres significatifs après le point"
      ]
    },
    {
      "cell_type": "code",
      "execution_count": null,
      "metadata": {
        "id": "RfplRAZZWtSH"
      },
      "outputs": [],
      "source": [
        "python_libraries = ['Django', 'Flask', 'NumPy', 'Matplotlib', 'Pandas']\n",
        "formated_string = 'The following are python libraries:%s' % (python_libraries)\n",
        "print(formated_string) # \"Les bibliothèques suivantes sont des bibliothèques python :['Django', 'Flask', 'NumPy', 'Matplotlib', 'Pandas']\".\n"
      ]
    },
    {
      "cell_type": "markdown",
      "metadata": {
        "id": "o8rjzFlZWofr"
      },
      "source": [
        "Nouveau style de formatage des chaînes de caractères (str.format)\n",
        "Ce formatage a été introduit dans la version 3 de Python.\n"
      ]
    },
    {
      "cell_type": "code",
      "execution_count": null,
      "metadata": {
        "id": "kPREwppjWk0c"
      },
      "outputs": [],
      "source": [
        "prénom = 'Pierre'.\n",
        "nom_de_famille = \"Deboissy\n",
        "langue = 'Python\n",
        "chaîne_formatée = \"Je suis {} {}. J'apprends {}\".format(prénom, nom_de_famille, langue)\n",
        "print(chaine_formatée)"
      ]
    },
    {
      "cell_type": "code",
      "execution_count": null,
      "metadata": {},
      "outputs": [],
      "source": [
        "a = 4\n",
        "b = 3\n",
        "\n",
        "print('{} + {} = {}'.format(a, b, a + b))\n",
        "print('{} - {} = {}'.format(a, b, a - b))\n",
        "print('{} * {} = {}'.format(a, b, a * b))\n",
        "print('{} / {} = { :.2f}'.format(a, b, a / b)) # limite à deux chiffres après la décimale\n",
        "print('{} % {} = {}'.format(a, b, a % b))\n",
        "print('{} // {} = {}'.format(a, b, a // b))\n",
        "print('{} ** {} = {}'.format(a, b, a ** b))"
      ]
    },
    {
      "cell_type": "markdown",
      "metadata": {
        "id": "UAjZki3yWfvG"
      },
      "source": [
        "### Chaînes et nombres"
      ]
    },
    {
      "cell_type": "code",
      "execution_count": null,
      "metadata": {
        "id": "wVuoHLUHWZet"
      },
      "outputs": [],
      "source": [
        "rayon = 10\n",
        "pi = 3,14\n",
        "aire = pi * rayon ** 2\n",
        "formated_string = \"L'aire d'un cercle de rayon {} est { :.2f}.\".format(rayon, aire) # 2 chiffres après la décimale\n",
        "print(chaine_formatée)\n"
      ]
    },
    {
      "cell_type": "markdown",
      "metadata": {
        "id": "PQA4ruzXU0HE"
      },
      "source": [
        "# Interpolation de chaînes / f-Strings (Python 3.6+)\n"
      ]
    },
    {
      "cell_type": "markdown",
      "metadata": {
        "id": "wjuwLlwKUy8r"
      },
      "source": [
        "Un autre nouveau formatage de chaîne est l'interpolation de chaînes de caractères, les f-strings. Les chaînes de caractères commencent par f et nous pouvons injecter les données dans leurs positions correspondantes."
      ]
    },
    {
      "cell_type": "code",
      "execution_count": null,
      "metadata": {
        "id": "WTjToTHpUwPY"
      },
      "outputs": [],
      "source": [
        "a = 4\n",
        "b = 3\n",
        "print(f '{a} + {b} = {a +b}')\n",
        "print(f'{a} - {b} = {a - b}')\n",
        "print(f '{a} * {b} = {a * b}')\n",
        "print(f'{a} / {b} = {a / b :.2f}')\n",
        "print(f'{a} % {b} = {a % b}')\n",
        "print(f'{a} // {b} = {a // b}')\n",
        "print(f'{a} ** {b} = {a ** b}')\n"
      ]
    },
    {
      "cell_type": "markdown",
      "metadata": {
        "id": "P4qu9LwzU4rm"
      },
      "source": [
        "### Chaînes Python en tant que séquences de caractères"
      ]
    },
    {
      "cell_type": "markdown",
      "metadata": {
        "id": "CxOrN7biUuHi"
      },
      "source": [
        "Les chaînes Python sont des séquences de caractères et partagent leurs méthodes d'accès de base avec d'autres séquences ordonnées d'objets Python - listes et tuples. La manière la plus simple d'extraire des caractères individuels des chaînes de caractères (et des membres individuels de toute séquence) est de les décomposer dans des variables correspondantes."
      ]
    },
    {
      "cell_type": "markdown",
      "metadata": {
        "id": "d9cDpa1dUqhB"
      },
      "source": [
        "### Décomposition des strings"
      ]
    },
    {
      "cell_type": "code",
      "execution_count": null,
      "metadata": {
        "id": "gKsCu9jBUpYl"
      },
      "outputs": [],
      "source": [
        "langue = 'Python\n",
        "a,b,c,d,e,f = langue # Décompression des caractères de la séquence dans les variables\n",
        "print(a) # P\n",
        "print(b) # y\n",
        "print(c) # t\n",
        "print(d) # h\n",
        "print(e) # o\n",
        "print(f) # n"
      ]
    },
    {
      "cell_type": "markdown",
      "metadata": {
        "id": "tElMIn09UlJJ"
      },
      "source": [
        "### Accès aux caractères des chaînes de caractères par index\n",
        "En programmation, le comptage commence à partir de zéro. Par conséquent, la première lettre d'une chaîne est à l'indice zéro et la dernière lettre d'une chaîne est la longueur de la chaîne moins un."
      ]
    },
    {
      "cell_type": "markdown",
      "metadata": {
        "id": "r_HWAPecUf2E"
      },
      "source": [
        "# Indexation"
      ]
    },
    {
      "cell_type": "code",
      "execution_count": null,
      "metadata": {
        "id": "GhWA29LbUeWi"
      },
      "outputs": [],
      "source": [
        "langue = 'Python\n",
        "première_lettre = langue[0]\n",
        "print(first_letter) # P\n"
      ]
    },
    {
      "cell_type": "code",
      "execution_count": null,
      "metadata": {},
      "outputs": [],
      "source": [
        "deuxième_lettre = langue[1]\n",
        "print(deuxième_lettre) # y\n"
      ]
    },
    {
      "cell_type": "code",
      "execution_count": null,
      "metadata": {},
      "outputs": [],
      "source": [
        "last_index = len(language) - 1\n",
        "last_letter = langue[last_index]\n",
        "print(last_letter) # n"
      ]
    },
    {
      "cell_type": "markdown",
      "metadata": {
        "id": "XdJmL8iFUa-o"
      },
      "source": [
        "Si nous voulons commencer par l'extrémité droite, nous pouvons utiliser une indexation négative. -1 est le dernier indice."
      ]
    },
    {
      "cell_type": "code",
      "execution_count": null,
      "metadata": {
        "id": "nH4Q2XC4UWqk"
      },
      "outputs": [],
      "source": [
        "langue = 'Python\n",
        "dernière_lettre = langue[-1]\n",
        "print(last_letter) # n"
      ]
    },
    {
      "cell_type": "code",
      "execution_count": null,
      "metadata": {
        "id": "W1Y_bIxYUTUA"
      },
      "outputs": [],
      "source": [
        "deuxième_dernière = langue[-2]\n",
        "print(second_last) # o\n"
      ]
    },
    {
      "cell_type": "markdown",
      "metadata": {
        "id": "wMp0QFFoURtW"
      },
      "source": [
        "Découpage de chaînes de caractères en Python\n",
        "En Python, nous pouvons découper des chaînes de caractères en sous-chaînes."
      ]
    },
    {
      "cell_type": "code",
      "execution_count": null,
      "metadata": {
        "id": "ZXfbVHR6UPtQ"
      },
      "outputs": [],
      "source": [
        "langue = 'Python\n",
        "first_three = language[0:3] # commence à l'indice zéro et jusqu'à 3 mais n'inclut pas 3\n",
        "print(first_three) #Pyt\n"
      ]
    },
    {
      "cell_type": "code",
      "execution_count": null,
      "metadata": {
        "id": "SoxJe7oWUNBz"
      },
      "outputs": [],
      "source": [
        "last_three = langage[3:6]\n",
        "print(last_three) # hon"
      ]
    },
    {
      "cell_type": "markdown",
      "metadata": {
        "id": "Io-ZWf4cUKyy"
      },
      "source": [
        "Une autre façon"
      ]
    },
    {
      "cell_type": "code",
      "execution_count": null,
      "metadata": {
        "id": "Op3QEiY1UI1o"
      },
      "outputs": [],
      "source": [
        "last_three = langue[-3 :]\n",
        "print(last_three) # hon\n"
      ]
    },
    {
      "cell_type": "code",
      "execution_count": null,
      "metadata": {
        "id": "z1C8Rg3vUJgP"
      },
      "outputs": [],
      "source": [
        "last_three = langue[3 :]\n",
        "print(last_three) # hon"
      ]
    },
    {
      "cell_type": "markdown",
      "metadata": {
        "id": "-sJWIQP0UCmt"
      },
      "source": [
        "### Inverser une chaîne de caractères\n",
        "Nous pouvons facilement inverser des chaînes de caractères en python.Inverser une chaîne de caractères\n",
        "Nous pouvons facilement inverser des chaînes de caractères en python."
      ]
    },
    {
      "cell_type": "code",
      "execution_count": null,
      "metadata": {
        "id": "Xu1DBrYwUACY"
      },
      "outputs": [],
      "source": [
        "greeting = 'Hello, World !\n",
        "print(greeting[::-1]) # !dlroW ,olleH"
      ]
    },
    {
      "cell_type": "markdown",
      "metadata": {
        "id": "i2tUwt39T9Ae"
      },
      "source": [
        "### Sauter des caractères pendant le découpage\n",
        "Il est possible de sauter des caractères lors du découpage en passant l'argument step à la méthode slice."
      ]
    },
    {
      "cell_type": "code",
      "execution_count": null,
      "metadata": {
        "id": "soxSXt0kT7C4"
      },
      "outputs": [],
      "source": [
        "langue = 'Python\n",
        "pto = language[0:6:2] #\n",
        "print(pto) # Pto"
      ]
    },
    {
      "cell_type": "markdown",
      "metadata": {},
      "source": [
        "Jour 6\n",
        "1.   Variables\n",
        "  *   [Hello World](https://colab.research.google.com/github/Hotsnown/seminaire-bordeaux-2022/blob/master/jour6/6_1_1_Hello_World.ipynb?hl=fr)\n",
        "  *   [Assignement](https://colab.research.google.com/github/Hotsnown/seminaire-bordeaux-2022/blob/master/jour6/6_1_2_Les_variables.ipynb?hl=fr)\n",
        "  *   [Mini-projet](https://colab.research.google.com/github/Hotsnown/seminaire-bordeaux-2022/blob/master/jour6/6_1_3_Mini_projet.ipynb?hl=fr)\n",
        "2.   String\n",
        "  *   [String (I)](https://colab.research.google.com/github/Hotsnown/seminaire-bordeaux-2022/blob/master/jour6/6_2_1_Strings_(I).ipynb?hl=fr)\n",
        "  *   [String (II)](https://colab.research.google.com/github/Hotsnown/seminaire-bordeaux-2022/blob/master/jour6/6_2_2_Strings_(II).ipynb?hl=fr)\n",
        "  *   [Mini-projet](https://colab.research.google.com/github/Hotsnown/seminaire-bordeaux-2022/blob/master/jour6/6_2_3_Mini_projet.ipynb?hl=fr)\n",
        "3.   Operateurs\n",
        "  *   [Opérateurs mathématiques](https://colab.research.google.com/github/Hotsnown/seminaire-bordeaux-2022/blob/master/jour6/6_3_1_Mathematical_opeators.ipynb?hl=fr)\n",
        "  *   [Opérateurs booléens](https://colab.research.google.com/github/Hotsnown/seminaire-bordeaux-2022/blob/master/jour6/6_3_2_Boolean_operators.ipynb?hl=fr)\n",
        "  *   [Mini-projet](https://colab.research.google.com/github/Hotsnown/seminaire-bordeaux-2022/blob/master/jour6/6_3_3_Mini_projet.ipynb?hl=fr)"
      ]
    }
  ],
  "metadata": {
    "colab": {
      "provenance": []
    },
    "kernelspec": {
      "display_name": "Python 3",
      "name": "python3"
    },
    "language_info": {
      "name": "python"
    }
  },
  "nbformat": 4,
  "nbformat_minor": 0
}
