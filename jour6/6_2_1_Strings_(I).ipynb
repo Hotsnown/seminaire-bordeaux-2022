{
  "nbformat": 4,
  "nbformat_minor": 0,
  "metadata": {
    "colab": {
      "provenance": []
    },
    "kernelspec": {
      "name": "python3",
      "display_name": "Python 3"
    },
    "language_info": {
      "name": "python"
    }
  },
  "cells": [
    {
      "cell_type": "markdown",
      "source": [
        "# Chaînes de caractères\n",
        "\n",
        "\n",
        "\n",
        "\n",
        "\n",
        "\n",
        "\n",
        "\n"
      ],
      "metadata": {
        "id": "Th_O8onq3n2R"
      }
    },
    {
      "cell_type": "markdown",
      "source": [
        "Le texte est un type de données de type chaîne. Tout type de données écrites sous forme de texte est une chaîne de caractères. Toutes les données entre guillemets simples, doubles ou triples sont des chaînes de caractères. Il existe différentes méthodes et fonctions intégrées pour traiter les types de données de type chaîne. Pour vérifier la longueur d'une chaîne, utilisez la méthode len()."
      ],
      "metadata": {
        "id": "GfcoolzGZfRd"
      }
    },
    {
      "cell_type": "markdown",
      "source": [
        "# Création d'une chaîne de caractères\n"
      ],
      "metadata": {
        "id": "jbCgq2hvZcqg"
      }
    },
    {
      "cell_type": "code",
      "source": [
        "letter = 'P' # Une chaîne de caractères peut être un caractère unique ou un ensemble de textes.\n",
        "print(letter) # P\n",
        "print(len(letter))          # 1\n"
      ],
      "metadata": {
        "id": "45YWlnNsZTXq"
      },
      "execution_count": null,
      "outputs": []
    },
    {
      "cell_type": "code",
      "source": [
        "greeting = 'Hello, World !  # Une chaîne de caractères peut être composée d'un guillemet simple ou double, \"Hello, World !\".\n",
        "print(greeting) # Hello, World !\n",
        "print(len(greeting))        # 13"
      ],
      "metadata": {
        "id": "nzZlNI3wZUT4"
      },
      "execution_count": null,
      "outputs": []
    },
    {
      "cell_type": "code",
      "source": [
        "sentence = \"J'espère que vous appréciez les 30 jours de défi Python\".\n",
        "print(phrase)\n"
      ],
      "metadata": {
        "id": "9Rv-asikZOgk"
      },
      "execution_count": null,
      "outputs": []
    },
    {
      "cell_type": "markdown",
      "source": [
        "Une chaîne de caractères multiligne est créée en utilisant des guillemets triples simples (''') ou triples doubles (\"\"\"). Voir l'exemple ci-dessous."
      ],
      "metadata": {
        "id": "35We5cOSZMaT"
      }
    },
    {
      "cell_type": "code",
      "source": [
        "multiline_string = '''Je suis professeur et j'aime enseigner.\n",
        "Je n'ai rien trouvé d'aussi gratifiant que de donner du pouvoir aux gens.\n",
        "C'est pourquoi j'ai créé 30 days of python.''''\n",
        "print(multiline_string)\n",
        "\n"
      ],
      "metadata": {
        "id": "cToKfO_AZJgW"
      },
      "execution_count": null,
      "outputs": []
    },
    {
      "cell_type": "markdown",
      "source": [
        "### Une autre façon de faire la même chose"
      ],
      "metadata": {
        "id": "762SyWViZIRF"
      }
    },
    {
      "cell_type": "code",
      "source": [
        "multiline_string = \"\"\"Je suis enseignant et j'aime enseigner.\n",
        "Je n'ai rien trouvé d'aussi gratifiant que de donner du pouvoir aux gens.\n",
        "C'est pourquoi j'ai créé 30 jours de python.\"\"\"\n",
        "print(multiline_string)\n"
      ],
      "metadata": {
        "id": "N8hQsDBJZCFG"
      },
      "execution_count": null,
      "outputs": []
    },
    {
      "cell_type": "markdown",
      "source": [
        "Concaténation de chaînes de caractères\n"
      ],
      "metadata": {
        "id": "j-uP0Qi_ZDMz"
      }
    },
    {
      "cell_type": "markdown",
      "source": [
        "Nous pouvons connecter des chaînes de caractères ensemble. La fusion ou la connexion de chaînes de caractères est appelée concaténation. Voir l'exemple ci-dessous :"
      ],
      "metadata": {
        "id": "Q2WYdvwJZArB"
      }
    },
    {
      "cell_type": "code",
      "source": [
        "Prénom = \"Asabeneh\".\n",
        "nom_famille = 'Yetayeh\n",
        "espace = ' '\n",
        "nom_complet = nom_prénom + espace + nom_famille\n",
        "print(full_name) # Asabeneh Yetayeh"
      ],
      "metadata": {
        "id": "Xw8Em3ELY_CX"
      },
      "execution_count": null,
      "outputs": []
    },
    {
      "cell_type": "markdown",
      "source": [
        "# Vérification de la longueur d'une chaîne de caractères à l'aide de la fonction intégrée len()"
      ],
      "metadata": {
        "id": "Nbb-jqtKY9Vz"
      }
    },
    {
      "cell_type": "code",
      "source": [
        "print(len(prénom))  # 8\n",
        "print(len(nom_famille))   # 7\n",
        "print(len(premier_nom) > len(dernier_nom)) # Vrai\n",
        "print(len(full_name)) # 16\n"
      ],
      "metadata": {
        "id": "qquw5QvLY7-N"
      },
      "execution_count": null,
      "outputs": []
    },
    {
      "cell_type": "markdown",
      "source": [
        "# Séquences d'échappement dans les chaînes de caractères"
      ],
      "metadata": {
        "id": "R00dLh8MXRSY"
      }
    },
    {
      "cell_type": "markdown",
      "source": [
        "En Python et dans d'autres langages de programmation, un caractère suivi d'un autre est une séquence d'échappement. Voyons les caractères d'échappement les plus courants :\n",
        "\n",
        "\\n : nouvelle ligne <br/>\n",
        "\\t : Tab signifie (8 espaces) <br/>\n",
        "\\\\N : Barre oblique arrière <br/>\n",
        "\\' : Guillemet simple (') <br/>\n",
        "\\\" : Guillemet double (\") <br/>\n",
        "Maintenant, voyons l'utilisation des séquences d'échappement ci-dessus à l'aide d'exemples."
      ],
      "metadata": {
        "id": "PksaqqvUXJku"
      }
    },
    {
      "cell_type": "code",
      "source": [
        "print('I hope everyone is enjoying the Python Challenge.\\nAre you?') # line break\n",
        "print('Days\\tTopics\\tExercises') # ajout d'une tabulation ou de 4 espaces \n",
        "print('Jour 1\\t3\\t5')\n",
        "print('Jour 2\\t3\\t5')\n",
        "print('Jour 3\\t3\\t5')\n",
        "print('Day 4\\t3\\t5')\n",
        "print('Ceci est un symbole de barre oblique inversée (\\\\N)') # Pour écrire une barre oblique inverse\n",
        "print('Dans tous les langages de programmation, ça commence par \\\"Hello, World!\\\"') # Pour écrire une double citation à l'intérieur d'une simple citation\n",
        "\n"
      ],
      "metadata": {
        "id": "qDxeINicXH35"
      },
      "execution_count": null,
      "outputs": []
    },
    {
      "cell_type": "markdown",
      "source": [
        "### sortie\n",
        "J'espère que tout le monde apprécie le défi Python.\n",
        "Et vous ?\n",
        "Jours Sujets Exercices\n",
        "Jour 1 5 5\n",
        "Jour 2 6 20\n",
        "Jour 3 5 23\n",
        "Jour 4 1 35\n",
        "Ceci est un symbole de barre oblique inversée (\\)\n",
        "Dans tous les langages de programmation, il commence par \"Hello, World !\"."
      ],
      "metadata": {
        "id": "zs_6h0A7XDoW"
      }
    },
    {
      "cell_type": "markdown",
      "source": [
        "# Formatage des chaînes de caractères\n"
      ],
      "metadata": {
        "id": "iwllaSGXW_1K"
      }
    },
    {
      "cell_type": "markdown",
      "source": [
        "### Formatage des chaînes de caractères à l'ancienne (opérateur %)"
      ],
      "metadata": {
        "id": "vb1bbcOFW9Ug"
      }
    },
    {
      "cell_type": "markdown",
      "source": [
        "En Python, il existe de nombreuses façons de formater les chaînes de caractères. Dans cette section, nous allons en aborder quelques-unes. L'opérateur \"%\" est utilisé pour formater un ensemble de variables contenues dans un \"tuple\" (une liste de taille fixe), ainsi qu'une chaîne de format, qui contient du texte normal ainsi que des \"spécificateurs d'arguments\", des symboles spéciaux comme \"%s\", \"%d\", \"%f\", \"%.number of digitsf\".\n",
        "\n",
        "%s - Chaîne (ou tout objet ayant une représentation sous forme de chaîne, comme les chiffres)\n",
        "%d - Nombres entiers\n",
        "%f - Nombres à virgule flottante\n",
        "\"%.number of digitsf\" - Nombres à virgule flottante avec une précision fixe."
      ],
      "metadata": {
        "id": "tYpacKGCW63j"
      }
    },
    {
      "cell_type": "markdown",
      "source": [
        "# Chaînes de caractères uniquement"
      ],
      "metadata": {
        "id": "sVAdEHf6W3T3"
      }
    },
    {
      "cell_type": "code",
      "source": [
        "prénom = \"Asabeneh\n",
        "last_name = 'Yetayeh' (nom de famille)\n",
        "langue = 'Python\n",
        "formated_string = 'Je suis %s %s. J'enseigne %s' %(first_name, last_name, language)\n",
        "print(chaîne_formatée)"
      ],
      "metadata": {
        "id": "MsTcq4olWylE"
      },
      "execution_count": null,
      "outputs": []
    },
    {
      "cell_type": "markdown",
      "source": [
        "# Chaînes et nombres"
      ],
      "metadata": {
        "id": "YNIIVerIWw-L"
      }
    },
    {
      "cell_type": "code",
      "source": [
        "rayon = 10\n",
        "pi = 3,14\n",
        "aire = pi * rayon ** 2\n",
        "Formated_string = 'L'aire du cercle de rayon %d est %.2f'. %(radius, area) # 2 désigne les 2 chiffres significatifs après le point"
      ],
      "metadata": {
        "id": "UyUPl1mrWvHQ"
      },
      "execution_count": null,
      "outputs": []
    },
    {
      "cell_type": "code",
      "source": [
        "python_libraries = ['Django', 'Flask', 'NumPy', 'Matplotlib', 'Pandas']\n",
        "formated_string = 'The following are python libraries:%s' % (python_libraries)\n",
        "print(formated_string) # \"Les bibliothèques suivantes sont des bibliothèques python :['Django', 'Flask', 'NumPy', 'Matplotlib', 'Pandas']\".\n"
      ],
      "metadata": {
        "id": "RfplRAZZWtSH"
      },
      "execution_count": null,
      "outputs": []
    },
    {
      "cell_type": "markdown",
      "source": [
        "Nouveau style de formatage des chaînes de caractères (str.format)\n",
        "Ce formatage a été introduit dans la version 3 de Python.\n"
      ],
      "metadata": {
        "id": "o8rjzFlZWofr"
      }
    },
    {
      "cell_type": "code",
      "source": [
        "Prénom = 'Asabeneh'.\n",
        "nom_de_famille = \"Yetayeh\n",
        "langue = 'Python\n",
        "chaîne_formatée = 'Je suis {} {}. J'enseigne {}'.format(first_name, last_name, language)\n",
        "print(chaine_formatée)\n",
        "a = 4\n",
        "b = 3\n",
        "\n",
        "print('{} + {} = {}'.format(a, b, a + b))\n",
        "print('{} - {} = {}'.format(a, b, a - b))\n",
        "print('{} * {} = {}'.format(a, b, a * b))\n",
        "print('{} / {} = { :.2f}'.format(a, b, a / b)) # limite à deux chiffres après la décimale\n",
        "print('{} % {} = {}'.format(a, b, a % b))\n",
        "print('{} // {} = {}'.format(a, b, a // b))\n",
        "print('{} ** {} = {}'.format(a, b, a ** b))\n"
      ],
      "metadata": {
        "id": "kPREwppjWk0c"
      },
      "execution_count": null,
      "outputs": []
    },
    {
      "cell_type": "markdown",
      "source": [
        "# sortie\n",
        "4 + 3 = 7\n",
        "4 - 3 = 1\n",
        "4 * 3 = 12\n",
        "4 / 3 = 1.33\n",
        "4 % 3 = 1\n",
        "4 // 3 = 1\n",
        "4 ** 3 = 64"
      ],
      "metadata": {
        "id": "fDt5B_x9WiEu"
      }
    },
    {
      "cell_type": "markdown",
      "source": [
        "# Chaînes et nombres"
      ],
      "metadata": {
        "id": "UAjZki3yWfvG"
      }
    },
    {
      "cell_type": "code",
      "source": [
        "rayon = 10\n",
        "pi = 3,14\n",
        "aire = pi * rayon ** 2\n",
        "formated_string = \"L'aire d'un cercle de rayon {} est { :.2f}.\".format(radius, area) # 2 chiffres après la décimale\n",
        "print(chaine_formatée)\n"
      ],
      "metadata": {
        "id": "wVuoHLUHWZet"
      },
      "execution_count": null,
      "outputs": []
    },
    {
      "cell_type": "markdown",
      "source": [
        "# Interpolation de chaînes / f-Strings (Python 3.6+)\n"
      ],
      "metadata": {
        "id": "PQA4ruzXU0HE"
      }
    },
    {
      "cell_type": "markdown",
      "source": [
        "Un autre nouveau formatage de chaîne est l'interpolation de chaînes de caractères, les f-strings. Les chaînes de caractères commencent par f et nous pouvons injecter les données dans leurs positions correspondantes."
      ],
      "metadata": {
        "id": "wjuwLlwKUy8r"
      }
    },
    {
      "cell_type": "code",
      "source": [
        "a = 4\n",
        "b = 3\n",
        "print(f '{a} + {b} = {a +b}')\n",
        "print(f'{a} - {b} = {a - b}')\n",
        "print(f '{a} * {b} = {a * b}')\n",
        "print(f'{a} / {b} = {a / b :.2f}')\n",
        "print(f'{a} % {b} = {a % b}')\n",
        "print(f'{a} // {b} = {a // b}')\n",
        "print(f'{a} ** {b} = {a ** b}')\n"
      ],
      "metadata": {
        "id": "WTjToTHpUwPY"
      },
      "execution_count": null,
      "outputs": []
    },
    {
      "cell_type": "markdown",
      "source": [
        "# Chaînes Python en tant que séquences de caractères"
      ],
      "metadata": {
        "id": "P4qu9LwzU4rm"
      }
    },
    {
      "cell_type": "markdown",
      "source": [
        "Les chaînes Python sont des séquences de caractères et partagent leurs méthodes d'accès de base avec d'autres séquences ordonnées d'objets Python - listes et tuples. La manière la plus simple d'extraire des caractères individuels des chaînes de caractères (et des membres individuels de toute séquence) est de les décompresser dans des variables correspondantes."
      ],
      "metadata": {
        "id": "CxOrN7biUuHi"
      }
    },
    {
      "cell_type": "markdown",
      "source": [
        "# Décompression des caractères\n"
      ],
      "metadata": {
        "id": "d9cDpa1dUqhB"
      }
    },
    {
      "cell_type": "code",
      "source": [
        "langue = 'Python\n",
        "a,b,c,d,e,f = langage # Décompression des caractères de la séquence dans les variables\n",
        "print(a) # P\n",
        "print(b) # y\n",
        "print(c) # t\n",
        "print(d) # h\n",
        "print(e) # o\n",
        "print(f) # n"
      ],
      "metadata": {
        "id": "gKsCu9jBUpYl"
      },
      "execution_count": null,
      "outputs": []
    },
    {
      "cell_type": "markdown",
      "source": [
        "Accès aux caractères des chaînes de caractères par index\n",
        "En programmation, le comptage commence à partir de zéro. Par conséquent, la première lettre d'une chaîne est à l'indice zéro et la dernière lettre d'une chaîne est la longueur de la chaîne moins un."
      ],
      "metadata": {
        "id": "tElMIn09UlJJ"
      }
    },
    {
      "cell_type": "markdown",
      "source": [
        "# Indexation"
      ],
      "metadata": {
        "id": "r_HWAPecUf2E"
      }
    },
    {
      "cell_type": "code",
      "source": [
        "langue = 'Python\n",
        "première_lettre = langue[0]\n",
        "print(first_letter) # P\n",
        "deuxième_lettre = langue[1]\n",
        "print(deuxième_lettre) # y\n",
        "last_index = len(language) - 1\n",
        "last_letter = langue[last_index]\n",
        "print(last_letter) # n"
      ],
      "metadata": {
        "id": "GhWA29LbUeWi"
      },
      "execution_count": null,
      "outputs": []
    },
    {
      "cell_type": "markdown",
      "source": [
        "Si nous voulons commencer par l'extrémité droite, nous pouvons utiliser une indexation négative. -1 est le dernier indice."
      ],
      "metadata": {
        "id": "XdJmL8iFUa-o"
      }
    },
    {
      "cell_type": "code",
      "source": [
        "langue = 'Python\n",
        "dernière_lettre = langue[-1]\n",
        "print(last_letter) # n"
      ],
      "metadata": {
        "id": "nH4Q2XC4UWqk"
      },
      "execution_count": null,
      "outputs": []
    },
    {
      "cell_type": "code",
      "source": [
        "deuxième_dernière = langue[-2]\n",
        "print(second_last) # o\n"
      ],
      "metadata": {
        "id": "W1Y_bIxYUTUA"
      },
      "execution_count": null,
      "outputs": []
    },
    {
      "cell_type": "markdown",
      "source": [
        "Découpage de chaînes de caractères en Python\n",
        "En Python, nous pouvons découper des chaînes de caractères en sous-chaînes."
      ],
      "metadata": {
        "id": "wMp0QFFoURtW"
      }
    },
    {
      "cell_type": "code",
      "source": [
        "langue = 'Python\n",
        "first_three = language[0:3] # commence à l'indice zéro et jusqu'à 3 mais n'inclut pas 3\n",
        "print(first_three) #Pyt\n"
      ],
      "metadata": {
        "id": "ZXfbVHR6UPtQ"
      },
      "execution_count": null,
      "outputs": []
    },
    {
      "cell_type": "code",
      "source": [
        "last_three = langage[3:6]\n",
        "print(last_three) # hon"
      ],
      "metadata": {
        "id": "SoxJe7oWUNBz"
      },
      "execution_count": null,
      "outputs": []
    },
    {
      "cell_type": "markdown",
      "source": [
        "# Une autre façon"
      ],
      "metadata": {
        "id": "Io-ZWf4cUKyy"
      }
    },
    {
      "cell_type": "code",
      "source": [
        "last_three = langue[-3 :]\n",
        "print(last_three) # hon\n"
      ],
      "metadata": {
        "id": "Op3QEiY1UI1o"
      },
      "execution_count": null,
      "outputs": []
    },
    {
      "cell_type": "code",
      "source": [
        "last_three = langue[3 :]\n",
        "print(last_three) # hon"
      ],
      "metadata": {
        "id": "z1C8Rg3vUJgP"
      },
      "execution_count": null,
      "outputs": []
    },
    {
      "cell_type": "markdown",
      "source": [
        "### Inverser une chaîne de caractères\n",
        "Nous pouvons facilement inverser des chaînes de caractères en python.Inverser une chaîne de caractères\n",
        "Nous pouvons facilement inverser des chaînes de caractères en python."
      ],
      "metadata": {
        "id": "-sJWIQP0UCmt"
      }
    },
    {
      "cell_type": "code",
      "source": [
        "greeting = 'Hello, World !\n",
        "print(greeting[::-1]) # !dlroW ,olleH"
      ],
      "metadata": {
        "id": "Xu1DBrYwUACY"
      },
      "execution_count": null,
      "outputs": []
    },
    {
      "cell_type": "markdown",
      "source": [
        "### Sauter des caractères pendant le découpage\n",
        "Il est possible de sauter des caractères lors du découpage en passant l'argument step à la méthode slice."
      ],
      "metadata": {
        "id": "i2tUwt39T9Ae"
      }
    },
    {
      "cell_type": "code",
      "source": [
        "langue = 'Python\n",
        "pto = language[0:6:2] #\n",
        "print(pto) # Pto"
      ],
      "metadata": {
        "id": "soxSXt0kT7C4"
      },
      "execution_count": null,
      "outputs": []
    }
  ]
}