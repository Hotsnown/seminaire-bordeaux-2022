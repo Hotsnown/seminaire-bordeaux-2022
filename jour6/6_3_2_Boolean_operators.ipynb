{
  "cells": [
    {
      "cell_type": "markdown",
      "metadata": {},
      "source": [
        "## Opérateurs de comparaison\n",
        "En programmation, nous comparons des valeurs, nous utilisons des opérateurs de comparaison pour comparer deux valeurs. Nous vérifions si une valeur est supérieure, inférieure ou égale à une autre valeur. Le tableau suivant montre les opérateurs de comparaison Python qui ont été pris de w3shool.\n",
        "\n",
        "### Exemple d'opérateurs de comparaison : Opérateurs de comparaison\n",
        "\n"
      ]
    },
    {
      "cell_type": "code",
      "execution_count": null,
      "metadata": {},
      "outputs": [],
      "source": [
        "print(3 > 2) # Vrai, car 3 est supérieur à 2\n",
        "print(3 >= 2) # Vrai, car 3 est supérieur à 2\n",
        "print(3 < 2) # Faux, car 3 est supérieur à 2\n",
        "print(2 < 3) # Vrai, car 2 est inférieur à 3\n",
        "print(2 <= 3) # Vrai, car 2 est inférieur à 3\n",
        "print(3 == 2) # Faux, car 3 n'est pas égal à 2\n",
        "print(3 != 2) # Vrai, car 3 n'est pas égal à 2\n",
        "print(len('mangue') == len('avocat'))  \n",
        "print(len('mangue') != len('avocat'))  \n",
        "print(len('mangue') < len('avocat'))   \n",
        "print(len('lait') != len('viande'))     \n",
        "print(len('lait') == len('viande'))      \n",
        "print(len('tomate') == len('pomme de terre'))  \n",
        "print(len('python') > len('dragon'))"
      ]
    },
    {
      "cell_type": "code",
      "execution_count": null,
      "metadata": {},
      "outputs": [],
      "source": [
        "# Comparer quelque chose donne soit un Vrai soit un Faux\n",
        "\n",
        "print('True == True : ', True == True)\n",
        "print('True == False : ', True == False)\n",
        "print('False == False : ', False == False)"
      ]
    },
    {
      "cell_type": "markdown",
      "metadata": {},
      "source": [
        "En plus de l'opérateur de comparaison ci-dessus, Python utilise :\n",
        "\n",
        "is : Retourne vrai si les deux variables sont le même objet(x is y)\n",
        "is not : Retourne vrai si les deux variables ne sont pas le même objet (x n'est pas y).\n",
        "in : Retourne Vrai si la liste interrogée contient un certain élément(x in y)\n",
        "not in : Retourne Vrai si la liste interrogée ne contient pas un certain élément(x in y)"
      ]
    },
    {
      "cell_type": "code",
      "execution_count": null,
      "metadata": {},
      "outputs": [],
      "source": [
        "print('1 is 1', 1 is 1) \n",
        "print('1 is not 2', 1 is not 2) \n",
        "print('P in Pierre', 'P' in 'Pierre') \n",
        "print('B in Pierre', 'B' in 'Pierre') \n",
        "print('séminaire' in 'séminaire humanité numérique')\n",
        "print('a in an:', 'a' in 'an')\n",
        "print('4 is 2 ** 2:', 4 is 2 ** 2)"
      ]
    },
    {
      "cell_type": "markdown",
      "metadata": {},
      "source": [
        "### Opérateurs logiques\n",
        "\n",
        "Contrairement aux autres langages de programmation, python utilise les mots-clés and, or et not pour les opérateurs logiques. Les opérateurs logiques sont utilisés pour combiner des déclarations conditionnelles :\n"
      ]
    },
    {
      "cell_type": "markdown",
      "metadata": {},
      "source": [
        "Opérateurs logiques"
      ]
    },
    {
      "cell_type": "code",
      "execution_count": null,
      "metadata": {},
      "outputs": [],
      "source": [
        "print(3 > 2 and 4 > 3) # Vrai - car les deux déclarations sont vraies\n",
        "print(3 > 2 and 4 < 3) # False - parce que la deuxième affirmation est fausse\n",
        "print(3 < 2 and 4 < 3) # Faux - parce que les deux affirmations sont fausses\n",
        "print('Vrai et Vrai : ', True and True)\n",
        "print(3 > 2 or 4 > 3) # Vrai - parce que les deux affirmations sont vraies\n",
        "print(3 > 2 or 4 < 3) # True - parce que l'une des déclarations est vraie\n",
        "print(3 < 2 or 4 < 3) # False - parce que les deux affirmations sont fausses\n",
        "print('Vrai ou Faux:', True or False)\n",
        "print(not 3 > 2) # False - parce que 3 > 2 est vrai, alors not True donne False\n",
        "print(not True) # False - La négation, l'opérateur not transforme le vrai en faux.\n",
        "print(not False) # Vrai\n",
        "print(not not True) # Vrai\n",
        "print(not not False) # Faux"
      ]
    },
    {
      "cell_type": "markdown",
      "metadata": {},
      "source": [
        "Jour 6\n",
        "1.   Variables\n",
        "  *   [Hello World](https://colab.research.google.com/github/Hotsnown/seminaire-bordeaux-2022/blob/master/jour6/6_1_1_Hello_World.ipynb?hl=fr)\n",
        "  *   [Assignement](https://colab.research.google.com/github/Hotsnown/seminaire-bordeaux-2022/blob/master/jour6/6_1_2_Les_variables.ipynb?hl=fr)\n",
        "  *   [Mini-projet](https://colab.research.google.com/github/Hotsnown/seminaire-bordeaux-2022/blob/master/jour6/6_1_3_Mini_projet.ipynb?hl=fr)\n",
        "2.   String\n",
        "  *   [String (I)](https://colab.research.google.com/github/Hotsnown/seminaire-bordeaux-2022/blob/master/jour6/6_2_1_Strings_(I).ipynb?hl=fr)\n",
        "  *   [String (II)](https://colab.research.google.com/github/Hotsnown/seminaire-bordeaux-2022/blob/master/jour6/6_2_2_Strings_(II).ipynb?hl=fr)\n",
        "  *   [Mini-projet](https://colab.research.google.com/github/Hotsnown/seminaire-bordeaux-2022/blob/master/jour6/6_2_3_Mini_projet.ipynb?hl=fr)\n",
        "3.   Operateurs\n",
        "  *   [Opérateurs mathématiques](https://colab.research.google.com/github/Hotsnown/seminaire-bordeaux-2022/blob/master/jour6/6_3_1_Mathematical_opeators.ipynb?hl=fr)\n",
        "  *   [Opérateurs booléens](https://colab.research.google.com/github/Hotsnown/seminaire-bordeaux-2022/blob/master/jour6/6_3_2_Boolean_operators.ipynb?hl=fr)\n",
        "  *   [Mini-projet](https://colab.research.google.com/github/Hotsnown/seminaire-bordeaux-2022/blob/master/jour6/6_3_3_Mini_projet.ipynb?hl=fr)"
      ]
    }
  ],
  "metadata": {
    "colab": {
      "provenance": []
    },
    "kernelspec": {
      "display_name": "Python 3",
      "name": "python3"
    },
    "language_info": {
      "name": "python"
    }
  },
  "nbformat": 4,
  "nbformat_minor": 0
}
