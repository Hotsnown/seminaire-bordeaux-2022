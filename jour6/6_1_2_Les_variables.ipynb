{
  "cells": [
    {
      "cell_type": "code",
      "execution_count": null,
      "metadata": {
        "id": "Yb4owdR2sBYZ"
      },
      "outputs": [],
      "source": [
        "!git clone https://github.com/Hotsnown/seminaire-bordeaux-2022.git seminaire &> /dev/null\n",
        "%pip install nbautoeval &> /dev/null\n",
        "from seminaire.evaluation.jour1.variables.helloworld import exo_helloworld"
      ]
    },
    {
      "cell_type": "markdown",
      "metadata": {
        "id": "XrvO5TVXrc4S"
      },
      "source": [
        "# Activité 6.1.2.2 : Les variables"
      ]
    },
    {
      "cell_type": "markdown",
      "metadata": {
        "id": "vqa9F3pwrc4U"
      },
      "source": [
        "Les variables sont des noms attribués aux données dans un programme. <br />\n",
        "Par exemple, supposons que votre programme doive stocker l'âge d'un utilisateur. <br />\n",
        "Pour ce faire, nous pouvons nommer cette données age et définir la variable age à l'aide de l'instruction suivante :"
      ]
    },
    {
      "cell_type": "code",
      "execution_count": null,
      "metadata": {
        "id": "RqVYCQfTrc4V"
      },
      "outputs": [],
      "source": [
        "age = 25"
      ]
    },
    {
      "cell_type": "markdown",
      "metadata": {
        "id": "tCc6uhWqrc4W"
      },
      "source": [
        "où **age** est le nom de la variable et **25** est une donnée."
      ]
    },
    {
      "cell_type": "markdown",
      "metadata": {
        "id": "SYT7itqqrc4W"
      },
      "source": [
        "\n",
        "Après avoir défini la variable age, votre programme allouera de la mémoire de votre ordinateur à ces données. <br />"
      ]
    },
    {
      "cell_type": "markdown",
      "metadata": {
        "id": "YyFaWHforc4X"
      },
      "source": [
        "### Ma première variable"
      ]
    },
    {
      "cell_type": "markdown",
      "metadata": {
        "id": "oHNW4KH1rc4Y"
      },
      "source": [
        "Créez une variable **nom** et attribuez lui votre nom, où votre nom est entre guillemets. Par exemple : nom = \"Pierre\""
      ]
    },
    {
      "cell_type": "code",
      "execution_count": null,
      "metadata": {
        "id": "85CKsRyjrc4Y"
      },
      "outputs": [],
      "source": [
        "#TODO"
      ]
    },
    {
      "cell_type": "markdown",
      "metadata": {
        "id": "pomuDkjbrc4Z"
      },
      "source": [
        "Les variables ne peuvent pas avoir n'importe quel nom.  <br />\n",
        "Dans les exercices suivants, corrigez le nom des variables.<br />"
      ]
    },
    {
      "cell_type": "markdown",
      "metadata": {
        "id": "ZthGMtkKsih7"
      },
      "source": [
        "# Activité 6.1.2.3 : La syntaxe des variables"
      ]
    },
    {
      "cell_type": "markdown",
      "metadata": {
        "id": "kdZxWmmKssxp"
      },
      "source": [
        "Les variables ne peuvent pas avoir n'importe quel nom.  <br />\n",
        "\n",
        "Règles pour les variables Python :\n",
        "- Un nom de variable doit commencer par une lettre ou \"_\".\n",
        "- Un nom de variable ne peut pas commencer par un chiffre.\n",
        "- Un nom de variable ne peut contenir que des caractères alphanumériques et des caractères de soulignement (A-z, 0-9 et _ ).\n",
        "- Les noms de variables sont sensibles à la casse (age, Age et AGE sont trois variables différentes).\n",
        "\n",
        "Dans les exercices suivants, corrigez le nom des variables.<br />"
      ]
    },
    {
      "cell_type": "markdown",
      "metadata": {
        "id": "exK8pvwHrc4a"
      },
      "source": [
        "### Pas d'espace\n",
        "\n",
        "Le nom d'une variable ne peut pas avoir d'espace."
      ]
    },
    {
      "cell_type": "code",
      "execution_count": null,
      "metadata": {
        "id": "r-WgS44Xrc4a"
      },
      "outputs": [],
      "source": [
        "def pas_espaces():\n",
        "  #TODO\n",
        "  ma variable = \"Hello World\"\n",
        "  \n",
        "  ## Ne rien changer après cette ligne\n",
        "  return \"Hello World\" \n",
        "\n",
        "exo_helloworld.correction(pas_espaces)"
      ]
    },
    {
      "cell_type": "markdown",
      "metadata": {
        "id": "I6aRaxpurc4b"
      },
      "source": [
        "### Identité\n",
        "\n",
        "Le nom de votre variable ne doit pas avoir de fautes d'orthographe."
      ]
    },
    {
      "cell_type": "code",
      "execution_count": null,
      "metadata": {
        "id": "q2xAPPccrc4c"
      },
      "outputs": [],
      "source": [
        "def mauvaise_orthographe():\n",
        "  #TODO\n",
        "  ma_variabe = \"Hello World\"\n",
        "  \n",
        "  ## Ne rien changer après cette ligne\n",
        "  return \"Hello World\" \n",
        "\n",
        "exo_helloworld.correction(mauvaise_orthographe)"
      ]
    },
    {
      "cell_type": "markdown",
      "metadata": {
        "id": "L_0Ug_LKrc4c"
      },
      "source": [
        "### Pas de nombre en première place\n",
        "\n",
        "Corrigez le nom de la variable"
      ]
    },
    {
      "cell_type": "code",
      "execution_count": null,
      "metadata": {
        "id": "plSF31LNrc4d"
      },
      "outputs": [],
      "source": [
        "def pas_de_nombre_en_première_place():\n",
        "  #TODO\n",
        "  01_ma_variable = \"Hello World\"\n",
        "  \n",
        "  ## Ne rien changer après cette ligne\n",
        "  return \"Hello World\" \n",
        "\n",
        "exo_helloworld.correction(pas_de_nombre_en_première_place)"
      ]
    },
    {
      "cell_type": "markdown",
      "metadata": {},
      "source": [
        "Jour 6\n",
        "1.   Variables\n",
        "  *   [Hello World](https://colab.research.google.com/github/Hotsnown/seminaire-bordeaux-2022/blob/master/jour6/6_1_1_Hello_World.ipynb?hl=fr)\n",
        "  *   [Assignement](https://colab.research.google.com/github/Hotsnown/seminaire-bordeaux-2022/blob/master/jour6/6_1_2_Les_variables.ipynb?hl=fr)\n",
        "  *   [Mini-projet](https://colab.research.google.com/github/Hotsnown/seminaire-bordeaux-2022/blob/master/jour6/6_1_3_Mini_projet.ipynb?hl=fr)\n",
        "2.   String\n",
        "  *   [String (I)](https://colab.research.google.com/github/Hotsnown/seminaire-bordeaux-2022/blob/master/jour6/6_2_1_Strings_(I).ipynb?hl=fr)\n",
        "  *   [String (II)](https://colab.research.google.com/github/Hotsnown/seminaire-bordeaux-2022/blob/master/jour6/6_2_2_Strings_(II).ipynb?hl=fr)\n",
        "  *   [Mini-projet](https://colab.research.google.com/github/Hotsnown/seminaire-bordeaux-2022/blob/master/jour6/6_2_3_Mini_projet.ipynb?hl=fr)\n",
        "3.   Operateurs\n",
        "  *   [Opérateurs mathématiques](https://colab.research.google.com/github/Hotsnown/seminaire-bordeaux-2022/blob/master/jour6/6_3_1_Mathematical_opeators.ipynb?hl=fr)\n",
        "  *   [Opérateurs booléens](https://colab.research.google.com/github/Hotsnown/seminaire-bordeaux-2022/blob/master/jour6/6_3_2_Boolean_operators.ipynb?hl=fr)\n",
        "  *   [Mini-projet](https://colab.research.google.com/github/Hotsnown/seminaire-bordeaux-2022/blob/master/jour6/6_3_3_Mini_projet.ipynb?hl=fr)"
      ]
    },
    {
      "cell_type": "code",
      "execution_count": null,
      "metadata": {
        "id": "67d_XitWsjKG"
      },
      "outputs": [],
      "source": []
    }
  ],
  "metadata": {
    "colab": {
      "provenance": []
    },
    "kernelspec": {
      "display_name": "Python 3",
      "name": "python3"
    },
    "language_info": {
      "name": "python"
    }
  },
  "nbformat": 4,
  "nbformat_minor": 0
}
