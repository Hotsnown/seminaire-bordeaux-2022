{
  "cells": [
    {
      "cell_type": "markdown",
      "metadata": {
        "id": "Gr6TZ3K_wp0P"
      },
      "source": [
        "# Activité 6.1.3.1"
      ]
    },
    {
      "cell_type": "markdown",
      "metadata": {
        "id": "sW8CiMZvwn29"
      },
      "source": [
        "- Ecrivez un commentaire python disant \"Jour 6 : Séminaires Humanités numériques\".\n"
      ]
    },
    {
      "cell_type": "code",
      "execution_count": null,
      "metadata": {},
      "outputs": [],
      "source": [
        "#TODO"
      ]
    },
    {
      "cell_type": "markdown",
      "metadata": {},
      "source": [
        "- Déclarez une variable prénom et attribuez-lui une valeur."
      ]
    },
    {
      "cell_type": "code",
      "execution_count": null,
      "metadata": {},
      "outputs": [],
      "source": [
        "#TODO"
      ]
    },
    {
      "cell_type": "markdown",
      "metadata": {},
      "source": [
        "- Déclareé une variable nom de famille et attribuez-lui une valeur"
      ]
    },
    {
      "cell_type": "code",
      "execution_count": null,
      "metadata": {},
      "outputs": [],
      "source": [
        "#TODO"
      ]
    },
    {
      "cell_type": "markdown",
      "metadata": {},
      "source": [
        "- Déclarez une variable nom complet (prénom + nom de famille) et attribuez-lui une valeur\n"
      ]
    },
    {
      "cell_type": "code",
      "execution_count": null,
      "metadata": {},
      "outputs": [],
      "source": [
        "#TODO"
      ]
    },
    {
      "cell_type": "markdown",
      "metadata": {},
      "source": [
        "- Déclarez une variable pays et attribuez-lui une valeur\n"
      ]
    },
    {
      "cell_type": "code",
      "execution_count": null,
      "metadata": {},
      "outputs": [],
      "source": [
        "#TODO"
      ]
    },
    {
      "cell_type": "markdown",
      "metadata": {},
      "source": [
        "- Déclarez une variable ville et attribuez-lui une valeur"
      ]
    },
    {
      "cell_type": "code",
      "execution_count": null,
      "metadata": {},
      "outputs": [],
      "source": [
        "#TODO"
      ]
    },
    {
      "cell_type": "markdown",
      "metadata": {},
      "source": [
        "- Déclarez une variable âge et attribuez-lui une valeur numérique\n"
      ]
    },
    {
      "cell_type": "code",
      "execution_count": null,
      "metadata": {},
      "outputs": [],
      "source": [
        "#TODO"
      ]
    },
    {
      "cell_type": "markdown",
      "metadata": {},
      "source": [
        "- Déclarez une variable année et attribuez-lui une valeur numérique"
      ]
    },
    {
      "cell_type": "code",
      "execution_count": null,
      "metadata": {},
      "outputs": [],
      "source": [
        "#TODO"
      ]
    },
    {
      "cell_type": "markdown",
      "metadata": {},
      "source": [
        "- Déclarez une variable est_marié et affectez-lui une valeur Vrai ou Faux"
      ]
    },
    {
      "cell_type": "code",
      "execution_count": null,
      "metadata": {},
      "outputs": [],
      "source": [
        "#TODO"
      ]
    },
    {
      "cell_type": "markdown",
      "metadata": {},
      "source": [
        "- Déclarez une variable est_vrai et attribuez-lui une valeur"
      ]
    },
    {
      "cell_type": "code",
      "execution_count": null,
      "metadata": {},
      "outputs": [],
      "source": [
        "#TODO"
      ]
    },
    {
      "cell_type": "markdown",
      "metadata": {},
      "source": [
        "- Déclarez une variable la_lambe_est_allumée et attribuez-lui une valeur"
      ]
    },
    {
      "cell_type": "code",
      "execution_count": null,
      "metadata": {},
      "outputs": [],
      "source": [
        "#TODO"
      ]
    },
    {
      "cell_type": "markdown",
      "metadata": {},
      "source": [
        "- Déclarez plusieurs variables sur une ligne"
      ]
    },
    {
      "cell_type": "code",
      "execution_count": null,
      "metadata": {},
      "outputs": [],
      "source": [
        "#TODO"
      ]
    },
    {
      "cell_type": "markdown",
      "metadata": {},
      "source": [
        "Jour 6\n",
        "1.   Variables\n",
        "  *   [Hello World](https://colab.research.google.com/github/Hotsnown/seminaire-bordeaux-2022/blob/master/jour6/6_1_1_Hello_World.ipynb?hl=fr)\n",
        "  *   [Assignement](https://colab.research.google.com/github/Hotsnown/seminaire-bordeaux-2022/blob/master/jour6/6_1_2_Les_variables.ipynb?hl=fr)\n",
        "  *   [Mini-projet](https://colab.research.google.com/github/Hotsnown/seminaire-bordeaux-2022/blob/master/jour6/6_1_3_Mini_projet.ipynb?hl=fr)\n",
        "2.   String\n",
        "  *   [String (I)](https://colab.research.google.com/github/Hotsnown/seminaire-bordeaux-2022/blob/master/jour6/6_2_1_Strings_(I).ipynb?hl=fr)\n",
        "  *   [String (II)](https://colab.research.google.com/github/Hotsnown/seminaire-bordeaux-2022/blob/master/jour6/6_2_2_Strings_(II).ipynb?hl=fr)\n",
        "  *   [Mini-projet](https://colab.research.google.com/github/Hotsnown/seminaire-bordeaux-2022/blob/master/jour6/6_2_3_Mini_projet.ipynb?hl=fr)\n",
        "3.   Operateurs\n",
        "  *   [Opérateurs mathématiques](https://colab.research.google.com/github/Hotsnown/seminaire-bordeaux-2022/blob/master/jour6/6_3_1_Mathematical_opeators.ipynb?hl=fr)\n",
        "  *   [Opérateurs booléens](https://colab.research.google.com/github/Hotsnown/seminaire-bordeaux-2022/blob/master/jour6/6_3_2_Boolean_operators.ipynb?hl=fr)\n",
        "  *   [Mini-projet](https://colab.research.google.com/github/Hotsnown/seminaire-bordeaux-2022/blob/master/jour6/6_3_3_Mini_projet.ipynb?hl=fr)"
      ]
    }
  ],
  "metadata": {
    "colab": {
      "provenance": []
    },
    "kernelspec": {
      "display_name": "Python 3",
      "name": "python3"
    },
    "language_info": {
      "name": "python"
    }
  },
  "nbformat": 4,
  "nbformat_minor": 0
}
