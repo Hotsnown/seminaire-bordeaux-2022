{
  "cells": [
    {
      "cell_type": "markdown",
      "metadata": {},
      "source": [
        "# Opérateurs\n",
        "Le langage Python supporte plusieurs types d'opérateurs. Dans cette section, nous allons nous concentrer sur quelques-uns d'entre eux.\n",
        "\n",
        "## Opérateurs d'assignation\n",
        "Les opérateurs d'assignation sont utilisés pour attribuer des valeurs aux variables. Prenons l'exemple de =. Le signe égal en mathématiques indique que deux valeurs sont égales, mais en Python, il signifie que nous stockons une valeur dans une certaine variable et nous l'appelons affectation ou attribution de valeur à une variable. Le tableau ci-dessous montre les différents types d'opérateurs d'affectation en Python, tirés de w3school.\n",
        "\n",
        "## Opérateurs d'affectation\n",
        "\n",
        "### Opérateurs arithmétiques :\n",
        "Addition(+) : a + b\n",
        "Soustraction(-) : a - b\n",
        "Multiplication(*) : a * b\n",
        "Division(/) : a / b\n",
        "Modulus(%) : a % b\n",
        "Division plancher(//) : a // b\n",
        "Exponentiation(**) : a ** b"
      ]
    },
    {
      "cell_type": "markdown",
      "metadata": {},
      "source": [
        "Opérateurs arithmétiques\n"
      ]
    },
    {
      "cell_type": "markdown",
      "metadata": {},
      "source": [
        "Exemple:Entiers\n"
      ]
    },
    {
      "cell_type": "code",
      "execution_count": null,
      "metadata": {},
      "outputs": [],
      "source": [
        "# Opérations arithmétiques en Python\n",
        "# Entiers\n",
        "\n",
        "print('Addition : ', 1 + 2) # 3\n",
        "print('Soustraction : ', 2 - 1) # 1\n",
        "print('Multiplication : ', 2 * 3) # 6\n",
        "print('Division : ', 4 / 2) # 2.0 La division en Python donne un nombre flottant\n",
        "print('Division : ', 6 / 2) # 3.0         \n",
        "print('Division : ', 7 / 2) # 3.5\n",
        "print('Division sans le reste : ', 7 // 2) # 3, donne sans le nombre flottant ou sans le reste\n",
        "print ('Division sans le reste : ',7 // 3) # 2\n",
        "print('Modulus : ', 3 % 2) # 1, Donne le reste\n",
        "print('Exponentiation : ', 2 ** 3) # 9 cela signifie 2 * 2 * 2"
      ]
    },
    {
      "cell_type": "markdown",
      "metadata": {},
      "source": [
        "Exemple : nombres flottants\n"
      ]
    },
    {
      "cell_type": "code",
      "execution_count": null,
      "metadata": {},
      "outputs": [],
      "source": [
        "# Nombres flottants\n",
        "print('Nombre à virgule flottante, PI', 3.14)\n",
        "print('Nombre en virgule flottante, gravité', 9.81)"
      ]
    },
    {
      "cell_type": "markdown",
      "metadata": {},
      "source": [
        "Exemple:Nombres complexes"
      ]
    },
    {
      "cell_type": "code",
      "execution_count": null,
      "metadata": {},
      "outputs": [],
      "source": [
        "# Nombres complexes\n",
        "print('Nombre complexe : ', 1 + 1j)\n",
        "print('Multiplication de nombres complexes : ',(1 + 1j) * (1 - 1j))\n",
        "\n",
        "\n"
      ]
    },
    {
      "cell_type": "markdown",
      "metadata": {},
      "source": [
        "Déclarons une variable et attribuons un type de données numérique. Je vais utiliser une variable à caractère unique, mais n'oubliez pas de ne pas prendre l'habitude de déclarer ce type de variables. Les noms de variables doivent toujours être mnémotechniques.\n",
        "\n",
        "Exemple :\n"
      ]
    },
    {
      "cell_type": "code",
      "execution_count": null,
      "metadata": {},
      "outputs": [],
      "source": [
        "# Déclarer d'abord la variable du début\n",
        "\n",
        "a = 3 # a est un nom de variable et 3 est un type de données entier\n",
        "b = 2 # b est un nom de variable et 3 est un type de données entier\n",
        "\n",
        "# Opérations arithmétiques et affectation du résultat à une variable\n",
        "total = a + b\n",
        "diff = a - b\n",
        "produit = a * b\n",
        "division = a / b\n",
        "reste = a % b\n",
        "division_fond = a // b\n",
        "exponentiel = a ** b\n",
        "\n",
        "# J'aurais dû utiliser sum au lieu de total mais sum est une fonction intégrée - essayez d'éviter de surcharger les fonctions intégrées\n",
        "print(total) # Si vous ne marquez pas votre impression avec une chaîne de caractères, vous ne saurez jamais d'où vient le résultat.\n",
        "print('a + b = ', total)\n",
        "print('a - b = ', diff)\n",
        "print('a * b = ', product)\n",
        "print('a / b = ', division)\n",
        "print('a % b = ', remainder)\n",
        "print('a // b = ', division_fond)\n",
        "print('a ** b = ', exponentiation)\n",
        "Exemple :\n",
        "\n",
        "print('== Addition, Soustraction, Multiplication, Division, Modulus ==')"
      ]
    },
    {
      "cell_type": "code",
      "execution_count": null,
      "metadata": {},
      "outputs": [],
      "source": [
        "# Déclarer des valeurs et les organiser ensemble\n",
        "num_one = 3\n",
        "num_two = 4\n",
        "\n",
        "# Opérations arithmétiques\n",
        "total = num_one + num_two\n",
        "diff = num_two - num_one\n",
        "produit = num_one * num_two\n",
        "div = num_two / num_one\n",
        "reste = num_two % num_one\n",
        "\n",
        "# Impression des valeurs avec étiquette\n",
        "print('total : ', total)\n",
        "print('différence : ', diff)\n",
        "print('produit : ', produit)\n",
        "print('division : ', div)\n",
        "print('remainder : ', remainder)"
      ]
    },
    {
      "cell_type": "markdown",
      "metadata": {},
      "source": [
        "Commençons à relier les points et à utiliser ce que nous savons déjà pour calculer (surface, volume, densité, poids, périmètre, distance, force).\n",
        "\n",
        "Exemple :"
      ]
    },
    {
      "cell_type": "code",
      "execution_count": null,
      "metadata": {},
      "outputs": [],
      "source": [
        "# Calcul de l'aire d'un cercle\n",
        "radius = 10 # rayon d'un cercle\n",
        "aire_du_cercle = 3,14 * rayon ** 2 # deux * signe signifie exposant ou puissance\n",
        "print('Surface d'un cercle:', surface_du_cercle)\n",
        "\n"
      ]
    },
    {
      "cell_type": "code",
      "execution_count": null,
      "metadata": {},
      "outputs": [],
      "source": [
        "# Calcul de l'aire d'un rectangle\n",
        "longueur = 10\n",
        "largeur = 20\n",
        "surface_du_rectangle = longueur * largeur\n",
        "print('Surface d'un rectangle:', surface_du_rectangle)"
      ]
    },
    {
      "cell_type": "code",
      "execution_count": null,
      "metadata": {},
      "outputs": [],
      "source": [
        "# Calculer le poids d'un objet\n",
        "masse = 75\n",
        "gravité = 9.81\n",
        "poids = masse * gravité\n",
        "print(weight, 'N') # Ajout d'une unité au poids"
      ]
    },
    {
      "cell_type": "code",
      "execution_count": null,
      "metadata": {},
      "outputs": [],
      "source": [
        "# Calculer la densité d'un liquide\n",
        "masse = 75 # en kg\n",
        "volume = 0,075 # en mètre cube\n",
        "densité = masse / volume # 1000 Kg/m^3"
      ]
    },
    {
      "cell_type": "markdown",
      "metadata": {
        "id": "B-Og7NiUwt0P"
      },
      "source": [
        "#Activité 6.3.1\n",
        "\n",
        "- Vérifier le type de données de toutes vos variables en utilisant la fonction intégrée type()\n",
        "En utilisant la fonction intégrée len(), trouvez la longueur de votre prénom.\n"
      ]
    },
    {
      "cell_type": "code",
      "execution_count": null,
      "metadata": {},
      "outputs": [],
      "source": []
    },
    {
      "cell_type": "markdown",
      "metadata": {},
      "source": [
        "- Comparez la longueur de votre prénom et de votre nom de famille.\n"
      ]
    },
    {
      "cell_type": "code",
      "execution_count": null,
      "metadata": {},
      "outputs": [],
      "source": []
    },
    {
      "cell_type": "markdown",
      "metadata": {},
      "source": [
        "- Déclarez 5 comme num_one et 4 comme num_two.\n"
      ]
    },
    {
      "cell_type": "code",
      "execution_count": null,
      "metadata": {},
      "outputs": [],
      "source": []
    },
    {
      "cell_type": "markdown",
      "metadata": {},
      "source": [
        "- Additionnez num_one et num_two et attribuez la valeur à la variable total.\n"
      ]
    },
    {
      "cell_type": "code",
      "execution_count": null,
      "metadata": {},
      "outputs": [],
      "source": []
    },
    {
      "cell_type": "markdown",
      "metadata": {},
      "source": [
        "- Soustraire le nombre_deux du nombre_un et affecter la valeur à une variable diff.\n"
      ]
    },
    {
      "cell_type": "code",
      "execution_count": null,
      "metadata": {},
      "outputs": [],
      "source": []
    },
    {
      "cell_type": "markdown",
      "metadata": {},
      "source": [
        "- Multipliez le nombre_deux et le nombre_deux et attribuez la valeur à une variable product.\n"
      ]
    },
    {
      "cell_type": "code",
      "execution_count": null,
      "metadata": {},
      "outputs": [],
      "source": []
    },
    {
      "cell_type": "markdown",
      "metadata": {},
      "source": [
        "- Diviser num_one par num_two et affecter la valeur à une variable division\n"
      ]
    },
    {
      "cell_type": "code",
      "execution_count": null,
      "metadata": {},
      "outputs": [],
      "source": []
    },
    {
      "cell_type": "markdown",
      "metadata": {},
      "source": [
        "- Utilisez la division modulaire pour trouver le nombre_deux divisé par le nombre_un et affectez la valeur à une variable reste.\n"
      ]
    },
    {
      "cell_type": "code",
      "execution_count": null,
      "metadata": {},
      "outputs": [],
      "source": []
    },
    {
      "cell_type": "markdown",
      "metadata": {},
      "source": [
        "- Calculez num_one à la puissance de num_two et attribuez la valeur à une variable exp.\n"
      ]
    },
    {
      "cell_type": "code",
      "execution_count": null,
      "metadata": {},
      "outputs": [],
      "source": []
    },
    {
      "cell_type": "markdown",
      "metadata": {},
      "source": [
        "- Trouvez la division plancher de num_one par num_two et attribuez la valeur à une variable - floor_division.\n"
      ]
    },
    {
      "cell_type": "code",
      "execution_count": null,
      "metadata": {},
      "outputs": [],
      "source": []
    },
    {
      "cell_type": "markdown",
      "metadata": {},
      "source": [
        "Le rayon d'un cercle est de 30 mètres.\n",
        "- Calculez l'aire d'un cercle et affectez la valeur à une variable nommée aire_du_cercle\n",
        "- Calculez la circonférence d'un cercle et attribuez la valeur à la variable circum_of_circle.\n",
        "- Prenez le rayon comme entrée utilisateur et calculez l'aire.\n",
        "- Utilisez la fonction de saisie intégrée pour obtenir le prénom, le nom, le pays et l'âge d'un utilisateur et stockez la valeur dans les noms de variables correspondants.\n",
        "- Exécutez help('keywords') dans le shell Python ou dans votre fichier pour vérifier les mots réservés ou les mots-clés Python."
      ]
    },
    {
      "cell_type": "markdown",
      "metadata": {},
      "source": []
    },
    {
      "cell_type": "markdown",
      "metadata": {},
      "source": [
        "Jour 6\n",
        "1.   Variables\n",
        "  *   [Hello World](https://colab.research.google.com/github/Hotsnown/seminaire-bordeaux-2022/blob/master/jour6/6_1_1_Hello_World.ipynb?hl=fr)\n",
        "  *   [Assignement](https://colab.research.google.com/github/Hotsnown/seminaire-bordeaux-2022/blob/master/jour6/6_1_2_Les_variables.ipynb?hl=fr)\n",
        "  *   [Mini-projet](https://colab.research.google.com/github/Hotsnown/seminaire-bordeaux-2022/blob/master/jour6/6_1_3_Mini_projet.ipynb?hl=fr)\n",
        "2.   String\n",
        "  *   [String (I)](https://colab.research.google.com/github/Hotsnown/seminaire-bordeaux-2022/blob/master/jour6/6_2_1_Strings_(I).ipynb?hl=fr)\n",
        "  *   [String (II)](https://colab.research.google.com/github/Hotsnown/seminaire-bordeaux-2022/blob/master/jour6/6_2_2_Strings_(II).ipynb?hl=fr)\n",
        "  *   [Mini-projet](https://colab.research.google.com/github/Hotsnown/seminaire-bordeaux-2022/blob/master/jour6/6_2_3_Mini_projet.ipynb?hl=fr)\n",
        "3.   Operateurs\n",
        "  *   [Opérateurs mathématiques](https://colab.research.google.com/github/Hotsnown/seminaire-bordeaux-2022/blob/master/jour6/6_3_1_Mathematical_opeators.ipynb?hl=fr)\n",
        "  *   [Opérateurs booléens](https://colab.research.google.com/github/Hotsnown/seminaire-bordeaux-2022/blob/master/jour6/6_3_2_Boolean_operators.ipynb?hl=fr)\n",
        "  *   [Mini-projet](https://colab.research.google.com/github/Hotsnown/seminaire-bordeaux-2022/blob/master/jour6/6_3_3_Mini_projet.ipynb?hl=fr)"
      ]
    }
  ],
  "metadata": {
    "colab": {
      "provenance": []
    },
    "kernelspec": {
      "display_name": "Python 3",
      "name": "python3"
    },
    "language_info": {
      "name": "python"
    }
  },
  "nbformat": 4,
  "nbformat_minor": 0
}
