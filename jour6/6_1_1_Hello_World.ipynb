{
  "nbformat": 4,
  "nbformat_minor": 0,
  "metadata": {
    "colab": {
      "provenance": []
    },
    "kernelspec": {
      "name": "python3",
      "display_name": "Python 3"
    },
    "language_info": {
      "name": "python"
    }
  },
  "cells": [
    {
      "cell_type": "code",
      "execution_count": null,
      "metadata": {
        "id": "-NCNi1OcrOPJ"
      },
      "outputs": [],
      "source": [
        "!git clone https://github.com/Hotsnown/seminaire-bordeaux-2022.git seminaire &> /dev/null\n",
        "%pip install nbautoeval &> /dev/null\n",
        "from seminaire.evaluation.jour1.variables.helloworld import exo_helloworld"
      ]
    },
    {
      "cell_type": "markdown",
      "source": [
        "### Activité 6.1.1.1 : Hello World!\n",
        "Remplacez #TODO par \"Hello World\" (avec des guillemets).\n"
      ],
      "metadata": {
        "id": "jSmbMmcvrYL0"
      }
    },
    {
      "cell_type": "code",
      "source": [
        "def hello_world():\n",
        "  return #TODO\n",
        "\n",
        "exo_helloworld.correction(hello_world)"
      ],
      "metadata": {
        "id": "3Ak6X2j6razY"
      },
      "execution_count": null,
      "outputs": []
    }
  ]
}