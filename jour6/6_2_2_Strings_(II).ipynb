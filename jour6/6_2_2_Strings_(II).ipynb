{
  "cells": [
    {
      "cell_type": "markdown",
      "metadata": {
        "id": "5je38Oe931cY"
      },
      "source": [
        "# Méthodes pour les chaînes de caractères\n",
        "\n",
        "Il existe de nombreuses méthodes pour les chaînes de caractères qui nous permettent de les formater. Voyez certaines de ces méthodes dans l'exemple suivant :\n",
        "\n",
        "\n",
        "\n",
        "\n",
        "\n"
      ]
    },
    {
      "cell_type": "markdown",
      "metadata": {
        "id": "39HihApYSJnO"
      },
      "source": [
        "capitalize() : Convertit le premier caractère de la chaîne en majuscule.\n"
      ]
    },
    {
      "cell_type": "code",
      "execution_count": null,
      "metadata": {
        "id": "WsIcaiOCSIjE"
      },
      "outputs": [],
      "source": [
        "challenge = \"séminaire humanité numérique\"\n",
        "print(challenge.capitalize())"
      ]
    },
    {
      "cell_type": "markdown",
      "metadata": {
        "id": "gUCRNh6ySHAs"
      },
      "source": [
        "count() : retourne les occurrences de la sous-chaîne dans la chaîne, count(substring, start=.., end=..). Le début est une indexation de départ pour le comptage et la fin est le dernier index à compter.\n"
      ]
    },
    {
      "cell_type": "code",
      "execution_count": null,
      "metadata": {
        "id": "jkc9y-LdSFp5"
      },
      "outputs": [],
      "source": [
        "challenge = \"séminaire humanité numérique\"\n",
        "print(challenge.count('é'))\n",
        "print(challenge.count('e', 7, 14))\n",
        "print(challenge.count('séminaire'))\n"
      ]
    },
    {
      "cell_type": "markdown",
      "metadata": {
        "id": "SNnZ1GFGSEKt"
      },
      "source": [
        "endswith() : Vérifie si une chaîne de caractères se termine par une terminaison spécifiée.\n"
      ]
    },
    {
      "cell_type": "code",
      "execution_count": null,
      "metadata": {
        "id": "lFcEmMzpSCpZ"
      },
      "outputs": [],
      "source": [
        "challenge = \"séminaire humanité numérique\"\n",
        "print(challenge.endswith('numérique'))   # Vrai\n",
        "print(challenge.endswith('séminaire')) # Faux # Faux\n"
      ]
    },
    {
      "cell_type": "markdown",
      "metadata": {
        "id": "B1osuD-hSA9G"
      },
      "source": [
        "expandtabs() : Remplace le caractère de tabulation par des espaces, la taille de tabulation par défaut est de 8. Elle prend l'argument de taille de tabulation\n"
      ]
    },
    {
      "cell_type": "code",
      "execution_count": null,
      "metadata": {
        "id": "pYBGn4VhR-IL"
      },
      "outputs": [],
      "source": [
        "challenge = \"séminaire\\thumanité\\tnumérique\"\n",
        "print(challenge.expandtabs())\n",
        "print(challenge.expandtabs(10))\n"
      ]
    },
    {
      "cell_type": "markdown",
      "metadata": {
        "id": "68jaslfGR9Eo"
      },
      "source": [
        "find() : Renvoie l'indice de la première occurrence d'une sous-chaîne, si elle n'est pas trouvée, elle renvoie -1.\n"
      ]
    },
    {
      "cell_type": "code",
      "execution_count": null,
      "metadata": {
        "id": "lWftURktR76N"
      },
      "outputs": [],
      "source": [
        "challenge = \"séminaire humanité numérique\"\n",
        "print(challenge.find('m'))\n",
        "print(challenge.find('num'))\n"
      ]
    },
    {
      "cell_type": "markdown",
      "metadata": {
        "id": "Y71ZvQ3oR6NG"
      },
      "source": [
        "rfind() : Renvoie l'indice de la dernière occurrence d'une sous-chaîne, si elle n'est pas trouvée, elle renvoie -1.\n"
      ]
    },
    {
      "cell_type": "code",
      "execution_count": null,
      "metadata": {
        "id": "CAfwNH9TR5MO"
      },
      "outputs": [],
      "source": [
        "challenge = \"séminaire humanité numérique\"\n",
        "print(challenge.rfind('é'))\n",
        "print(challenge.rfind('um'))"
      ]
    },
    {
      "cell_type": "markdown",
      "metadata": {
        "id": "bRU_5HUiRg1m"
      },
      "source": [
        "format() : formate la chaîne de caractères dans un format plus agréable.\n",
        "Pour en savoir plus sur le formatage des chaînes de caractères, consultez ce lien"
      ]
    },
    {
      "cell_type": "code",
      "execution_count": null,
      "metadata": {
        "id": "OXr9tjdXRfbT"
      },
      "outputs": [],
      "source": [
        "prénom = \"Pierre\"\n",
        "nom = 'Deboissy'\n",
        "profession = \"doctorant\"\n",
        "ville = \"Paris\"\n",
        "phrase = \"Je suis {} {}. Je suis un {}. Je vis à {}.\".format(prénom, nom, profession, ville)\n",
        "print(phrase)"
      ]
    },
    {
      "cell_type": "code",
      "execution_count": null,
      "metadata": {
        "id": "NrgYMY-ARcKz"
      },
      "outputs": [],
      "source": [
        "rayon = 10\n",
        "pi = 3,14\n",
        "aire = pi * rayon ** 2\n",
        "result = \"L'aire d'un cercle de rayon {} est {}\".format(str(rayon), str(aire))\n",
        "print(result) # L'aire d'un cercle de rayon 10 est 314\n"
      ]
    },
    {
      "cell_type": "markdown",
      "metadata": {
        "id": "T6k1BOhdRa69"
      },
      "source": [
        "index() : Renvoie l'indice le plus bas d'une sous-chaîne, les arguments supplémentaires indiquent l'indice de début et de fin (par défaut 0 et longueur de la chaîne - 1). Si la sous-chaîne n'est pas trouvée, une valueError est générée.\n"
      ]
    },
    {
      "cell_type": "code",
      "execution_count": null,
      "metadata": {
        "id": "9xQPiNG7RZ3T"
      },
      "outputs": [],
      "source": [
        "challenge = \"Séminaire Humanité Numérique\"\n",
        "sub_string = 'min'\n",
        "print(challenge.index(sub_string))"
      ]
    },
    {
      "cell_type": "markdown",
      "metadata": {
        "id": "WbDVdWSCRR-z"
      },
      "source": [
        "isalnum() : Vérifie les caractères alphanumériques\n"
      ]
    },
    {
      "cell_type": "code",
      "execution_count": null,
      "metadata": {
        "id": "GyLW-YDeROa_"
      },
      "outputs": [],
      "source": [
        "challenge = \"SéminaireHumanitéNumérique\"\n",
        "print(challenge.isalnum())\n",
        "\n"
      ]
    },
    {
      "cell_type": "code",
      "execution_count": null,
      "metadata": {
        "id": "34joE7edRMLk"
      },
      "outputs": [],
      "source": [
        "challenge = 'Jour6'\n",
        "print(challenge.isalnum()) # Vrai"
      ]
    },
    {
      "cell_type": "code",
      "execution_count": null,
      "metadata": {
        "id": "l7NKU27PRKmH"
      },
      "outputs": [],
      "source": [
        "défi = \"Séminaire Humanité Numérique\"\n",
        "print(challenge.isalnum()) # False, l'espace n'est pas un caractère alphanumérique"
      ]
    },
    {
      "cell_type": "code",
      "execution_count": null,
      "metadata": {
        "id": "3O6RMv1HRIju"
      },
      "outputs": [],
      "source": [
        "challenge = \"Séminaire Humanité Numérique 2022\"\n",
        "print(challenge.isalnum()) # Faux, l'espace n'est pas un caractère alphanumérique.\n"
      ]
    },
    {
      "cell_type": "markdown",
      "metadata": {
        "id": "4w9jEVoSRHem"
      },
      "source": [
        "isalpha() : Vérifie si tous les éléments de la chaîne sont des caractères de l'alphabet (a-z et A-Z)\n"
      ]
    },
    {
      "cell_type": "code",
      "execution_count": null,
      "metadata": {
        "id": "lM7yU6XcRGRI"
      },
      "outputs": [],
      "source": [
        "challenge = \"Séminaire Humanité Numérique\"\n",
        "print(challenge.isalpha()) # Faux, l'espace est une fois de plus exclu\n"
      ]
    },
    {
      "cell_type": "code",
      "execution_count": null,
      "metadata": {
        "id": "PvfZ5mFeRFHW"
      },
      "outputs": [],
      "source": [
        "challenge = \"SéminaireHumanitéNumérique\"\n",
        "print(challenge.isalpha()) # Vrai\n"
      ]
    },
    {
      "cell_type": "code",
      "execution_count": null,
      "metadata": {
        "id": "AnoetIVuRD5O"
      },
      "outputs": [],
      "source": [
        "num = '123'\n",
        "print(num.isalpha()) # Faux"
      ]
    },
    {
      "cell_type": "markdown",
      "metadata": {
        "id": "XCnkDAH9Q1kf"
      },
      "source": [
        "isdecimal() : Vérifie si tous les caractères d'une chaîne sont décimaux (0-9)\n"
      ]
    },
    {
      "cell_type": "code",
      "execution_count": null,
      "metadata": {
        "id": "6TaeNLaVQzRQ"
      },
      "outputs": [],
      "source": [
        "challenge = \"Séminaire Humanité Numérique\"\n",
        "print(challenge.isdecimal()) # Faux"
      ]
    },
    {
      "cell_type": "code",
      "execution_count": null,
      "metadata": {
        "id": "tDapyfAWQx84"
      },
      "outputs": [],
      "source": [
        "challenge = '123'\n",
        "print(challenge.isdecimal()) # Vrai"
      ]
    },
    {
      "cell_type": "code",
      "execution_count": null,
      "metadata": {
        "id": "JwTdtQYdQwni"
      },
      "outputs": [],
      "source": [
        "défi = '\\u00B2'\n",
        "print(challenge.isdigit()) # False"
      ]
    },
    {
      "cell_type": "code",
      "execution_count": null,
      "metadata": {
        "id": "Sl-6Y2phQu7e"
      },
      "outputs": [],
      "source": [
        "challenge = '12 3'\n",
        "print(challenge.isdecimal()) # False, espace non autorisé"
      ]
    },
    {
      "cell_type": "markdown",
      "metadata": {
        "id": "3XxebumhQtbk"
      },
      "source": [
        "isdigit() : Vérifie si tous les caractères d'une chaîne sont des chiffres (0-9 et quelques autres caractères unicode pour les chiffres)"
      ]
    },
    {
      "cell_type": "code",
      "execution_count": null,
      "metadata": {
        "id": "-aEA_M_GQr9A"
      },
      "outputs": [],
      "source": [
        "challenge = 'Trente'\n",
        "print(challenge.isdigit()) # Faux"
      ]
    },
    {
      "cell_type": "code",
      "execution_count": null,
      "metadata": {
        "id": "-vpdz1PcQqY8"
      },
      "outputs": [],
      "source": [
        "challenge = '30'\n",
        "print(challenge.isdigit()) # Vrai"
      ]
    },
    {
      "cell_type": "code",
      "execution_count": null,
      "metadata": {
        "id": "4EKovWnZQor4"
      },
      "outputs": [],
      "source": [
        "challenge = '\\u00B2'\n",
        "print(challenge.isdigit()) # True"
      ]
    },
    {
      "cell_type": "markdown",
      "metadata": {
        "id": "diOdxsUdQnAE"
      },
      "source": [
        "isnumeric() : Vérifie si tous les caractères d'une chaîne sont des nombres ou apparentés à des nombres (comme isdigit(), mais accepte plus de symboles, comme ½)"
      ]
    },
    {
      "cell_type": "code",
      "execution_count": null,
      "metadata": {
        "id": "rAmBCtqWQlrm"
      },
      "outputs": [],
      "source": [
        "num = '10'\n",
        "print(num.isnumeric()) # Vrai"
      ]
    },
    {
      "cell_type": "code",
      "execution_count": null,
      "metadata": {
        "id": "qKXC03ejQkBR"
      },
      "outputs": [],
      "source": [
        "num = '\\u00BD' # ½\n",
        "print(num.isnumeric()) # Vrai"
      ]
    },
    {
      "cell_type": "code",
      "execution_count": null,
      "metadata": {
        "id": "lLxbmOD9Qi0o"
      },
      "outputs": [],
      "source": [
        "num = '10.5'\n",
        "print(num.isnumeric()) # Faux"
      ]
    },
    {
      "cell_type": "markdown",
      "metadata": {
        "id": "xEiijApZQdCw"
      },
      "source": [
        "isidentifier() : Vérifie un identifiant valide - il vérifie si une chaîne de caractères est un nom de variable valide."
      ]
    },
    {
      "cell_type": "code",
      "execution_count": null,
      "metadata": {
        "id": "X1VRJwz2QbBU"
      },
      "outputs": [],
      "source": [
        "challenge = \"06Séminaire_Humanité_Numérique\"\n",
        "print(challenge.isidentifier()) # False, car il commence par un nombre"
      ]
    },
    {
      "cell_type": "code",
      "execution_count": null,
      "metadata": {
        "id": "a2tin2R-QZWY"
      },
      "outputs": [],
      "source": [
        "défi = \"Séminaire_Humanité_Numérique\"\n",
        "print(challenge.isidentifier()) # Vrai"
      ]
    },
    {
      "cell_type": "markdown",
      "metadata": {
        "id": "DmrBIROPQXbs"
      },
      "source": [
        "islower() : Vérifie si tous les caractères alphabétiques de la chaîne sont en minuscules"
      ]
    },
    {
      "cell_type": "code",
      "execution_count": null,
      "metadata": {
        "id": "DJL62skpQVXP"
      },
      "outputs": [],
      "source": [
        "challenge = \"séminaire humanité numérique\"\n",
        "print(challenge.islower()) # True"
      ]
    },
    {
      "cell_type": "code",
      "execution_count": null,
      "metadata": {
        "id": "Dk4uPFLVQTep"
      },
      "outputs": [],
      "source": [
        "challenge = \"Séminaire humanité numérique\"\n",
        "print(challenge.islower()) # False"
      ]
    },
    {
      "cell_type": "markdown",
      "metadata": {
        "id": "2Xm3D4spQQb5"
      },
      "source": [
        "isupper() : Vérifie si tous les caractères alphabétiques de la chaîne de caractères sont en majuscules."
      ]
    },
    {
      "cell_type": "code",
      "execution_count": null,
      "metadata": {
        "id": "Bm7RJOMgQO0A"
      },
      "outputs": [],
      "source": [
        "challenge = \"séminaire humanité numérique\"\n",
        "print(challenge.isupper()) # False"
      ]
    },
    {
      "cell_type": "code",
      "execution_count": null,
      "metadata": {
        "id": "iGUfM7PHQNIT"
      },
      "outputs": [],
      "source": [
        "challenge = \"SEMINAIRE HUMANITE NUMERIQUE\"\n",
        "print(challenge.isupper()) # Vrai"
      ]
    },
    {
      "cell_type": "markdown",
      "metadata": {
        "id": "1kJJys2GQK8r"
      },
      "source": [
        "join() : Retourne une chaîne concaténée"
      ]
    },
    {
      "cell_type": "code",
      "execution_count": null,
      "metadata": {
        "id": "Hf2umR0CQI9j"
      },
      "outputs": [],
      "source": [
        "web_tech = ['HTML', 'CSS', 'JavaScript', 'React']\n",
        "result = ' '.join(web_tech)\n",
        "print(result) # 'HTML CSS JavaScript React' (HTML CSS JavaScript React)"
      ]
    },
    {
      "cell_type": "code",
      "execution_count": null,
      "metadata": {
        "id": "4kMTOy5KQG1t"
      },
      "outputs": [],
      "source": [
        "web_tech = ['HTML', 'CSS', 'JavaScript', 'React']\n",
        "result = '# '.join(web_tech)\n",
        "print(result) # \"HTML# CSS# JavaScript# React"
      ]
    },
    {
      "cell_type": "markdown",
      "metadata": {
        "id": "h3_OF_yhQEh7"
      },
      "source": [
        "strip() : Supprime tous les caractères donnés à partir du début et de la fin de la chaîne."
      ]
    },
    {
      "cell_type": "code",
      "execution_count": null,
      "metadata": {
        "id": "95CJkC1aQA0K"
      },
      "outputs": [],
      "source": [
        "challenge = \"séminaire humanité numérique\"\n",
        "print(challenge.strip('sémin')) \n"
      ]
    },
    {
      "cell_type": "markdown",
      "metadata": {
        "id": "cj1O2osOP_ey"
      },
      "source": [
        "replace() : Remplace la sous-chaîne par une chaîne donnée"
      ]
    },
    {
      "cell_type": "code",
      "execution_count": null,
      "metadata": {
        "id": "z4kqFmg0P92v"
      },
      "outputs": [],
      "source": [
        "challenge = \"séminaire humanité numérique\"\n",
        "print(challenge.replace('séminaire', 'formation'))"
      ]
    },
    {
      "cell_type": "markdown",
      "metadata": {
        "id": "rZxBaifHP7td"
      },
      "source": [
        "split() : Divise la chaîne de caractères, en utilisant une chaîne de caractères ou un espace comme séparateur"
      ]
    },
    {
      "cell_type": "code",
      "execution_count": null,
      "metadata": {
        "id": "qw8xocBeP16Z"
      },
      "outputs": [],
      "source": [
        "challenge = \"séminaire humanité numérique\"\n",
        "print(challenge.split())\n"
      ]
    },
    {
      "cell_type": "code",
      "execution_count": null,
      "metadata": {
        "id": "v__95G3dPz9w"
      },
      "outputs": [],
      "source": [
        "challenge = \"séminaire,humanité,numérique\"\n",
        "print(challenge.split(', '))"
      ]
    },
    {
      "cell_type": "markdown",
      "metadata": {
        "id": "YFLoEA9CPi4C"
      },
      "source": [
        "startswith() : Vérifie si la chaîne commence par la chaîne spécifiée"
      ]
    },
    {
      "cell_type": "code",
      "execution_count": null,
      "metadata": {
        "id": "KnS3HMPOPhFU"
      },
      "outputs": [],
      "source": [
        "challenge = \"séminaire humanité numérique\"\n",
        "print(challenge.startswith('séminaire')) # Vrai"
      ]
    },
    {
      "cell_type": "code",
      "execution_count": null,
      "metadata": {
        "id": "RJJjoXi3Pdk0"
      },
      "outputs": [],
      "source": [
        "challenge = \"séminaire humanité numérique\"\n",
        "print(challenge.startswith('humanité')) # Faux"
      ]
    },
    {
      "cell_type": "markdown",
      "metadata": {
        "id": "FhWiyoyxPaZ3"
      },
      "source": [
        "1. Concaténez la chaîne \"Séminaire\" \"Humanité\" \"Numérique\" en un seul string\n",
        "\n",
        "\n",
        "\n",
        "\n",
        "\n",
        "\n",
        "\n",
        "\n",
        "\n",
        "\n",
        "\n",
        "\n",
        "\n"
      ]
    },
    {
      "cell_type": "code",
      "execution_count": null,
      "metadata": {},
      "outputs": [],
      "source": [
        "#TODO"
      ]
    },
    {
      "cell_type": "markdown",
      "metadata": {},
      "source": [
        "2. Concaténez la chaîne de caractères 'Droit', 'et', 'Informatique' en un seul string"
      ]
    },
    {
      "cell_type": "code",
      "execution_count": null,
      "metadata": {},
      "outputs": [],
      "source": [
        "#TODO"
      ]
    },
    {
      "cell_type": "markdown",
      "metadata": {},
      "source": [
        "3. Déclarez une variable nommée test et lui attribuer une valeur initiale \"Droit et Informatique\".\n"
      ]
    },
    {
      "cell_type": "code",
      "execution_count": null,
      "metadata": {},
      "outputs": [],
      "source": [
        "#TODO"
      ]
    },
    {
      "cell_type": "markdown",
      "metadata": {},
      "source": [
        "4. Imprimez la variable test en utilisant print().\n"
      ]
    },
    {
      "cell_type": "code",
      "execution_count": null,
      "metadata": {},
      "outputs": [],
      "source": [
        "#TODO"
      ]
    },
    {
      "cell_type": "markdown",
      "metadata": {},
      "source": [
        "5. Imprimez la longueur de test en utilisant la méthode len() et print().\n"
      ]
    },
    {
      "cell_type": "code",
      "execution_count": null,
      "metadata": {},
      "outputs": [],
      "source": [
        "#TODO"
      ]
    },
    {
      "cell_type": "markdown",
      "metadata": {},
      "source": [
        "6. Changez tous les caractères en lettres majuscules à l'aide de la méthode upper().\n"
      ]
    },
    {
      "cell_type": "code",
      "execution_count": null,
      "metadata": {},
      "outputs": [],
      "source": [
        "#TODO"
      ]
    },
    {
      "cell_type": "markdown",
      "metadata": {},
      "source": [
        "7. Changez tous les caractères en minuscules à l'aide de la méthode lower()."
      ]
    },
    {
      "cell_type": "code",
      "execution_count": null,
      "metadata": {},
      "outputs": [],
      "source": [
        "#TODO"
      ]
    },
    {
      "cell_type": "markdown",
      "metadata": {},
      "source": [
        "8. Utilisez les méthodes capitalize(), title(), swapcase() pour formater \"séminaire humanité numérique\""
      ]
    },
    {
      "cell_type": "code",
      "execution_count": null,
      "metadata": {},
      "outputs": [],
      "source": [
        "#TODO"
      ]
    },
    {
      "cell_type": "markdown",
      "metadata": {},
      "source": [
        "9. Couper le premier mot de la chaîne \"séminaire humanité numérique\"\n"
      ]
    },
    {
      "cell_type": "code",
      "execution_count": null,
      "metadata": {},
      "outputs": [],
      "source": [
        "#TODO"
      ]
    },
    {
      "cell_type": "markdown",
      "metadata": {},
      "source": [
        "10. Vérifier si la chaîne \"séminaire humanité numérique\" contient un mot \"séminaire\" en utilisant la méthode index, find ou d'autres méthodes.\n"
      ]
    },
    {
      "cell_type": "code",
      "execution_count": null,
      "metadata": {},
      "outputs": [],
      "source": [
        "#TODO"
      ]
    },
    {
      "cell_type": "markdown",
      "metadata": {},
      "source": [
        "11. Remplacez le mot \"séminaire\" dans la chaîne \"séminaire humanité numérique\"\n"
      ]
    },
    {
      "cell_type": "code",
      "execution_count": null,
      "metadata": {},
      "outputs": [],
      "source": [
        "#TODO"
      ]
    },
    {
      "cell_type": "markdown",
      "metadata": {},
      "source": [
        "12. Remplacez numérique dans \"séminaire humanité numérique\"\n"
      ]
    },
    {
      "cell_type": "code",
      "execution_count": null,
      "metadata": {},
      "outputs": [],
      "source": [
        "#TODO"
      ]
    },
    {
      "cell_type": "markdown",
      "metadata": {},
      "source": [
        "13. Divisez la chaîne \"séminaire,humanité,numérique\" en utilisant l'espace comme séparateur (split()) .\n",
        "Faites la même chose avec le stirng : \"Facebook, Google, Microsoft, Apple, IBM, Oracle, Amazon\""
      ]
    },
    {
      "cell_type": "code",
      "execution_count": null,
      "metadata": {},
      "outputs": [],
      "source": [
        "#TODO"
      ]
    },
    {
      "cell_type": "markdown",
      "metadata": {},
      "source": [
        "14. Quel est le caractère à l'indice 0 dans la chaîne \"séminaire humanité numérique\"\n"
      ]
    },
    {
      "cell_type": "code",
      "execution_count": null,
      "metadata": {},
      "outputs": [],
      "source": [
        "#TODO"
      ]
    },
    {
      "cell_type": "markdown",
      "metadata": {},
      "source": [
        "15. Quel est le dernier indice de la chaîne \"séminaire humanité numérique\"\n"
      ]
    },
    {
      "cell_type": "code",
      "execution_count": null,
      "metadata": {},
      "outputs": [],
      "source": [
        "#TODO"
      ]
    },
    {
      "cell_type": "markdown",
      "metadata": {},
      "source": [
        "16. Quel est le caractère à l'index 10 dans la chaîne \"séminaire humanité numérique\""
      ]
    },
    {
      "cell_type": "code",
      "execution_count": null,
      "metadata": {},
      "outputs": [],
      "source": [
        "#TODO"
      ]
    },
    {
      "cell_type": "markdown",
      "metadata": {},
      "source": [
        "17. Créez un acronyme ou une abréviation pour le nom \"séminaire humanité numérique\""
      ]
    },
    {
      "cell_type": "code",
      "execution_count": null,
      "metadata": {},
      "outputs": [],
      "source": [
        "#TODO"
      ]
    },
    {
      "cell_type": "markdown",
      "metadata": {},
      "source": [
        "18. Créez un acronyme ou une abréviation pour le nom \"Droit et Informatique\".\n"
      ]
    },
    {
      "cell_type": "code",
      "execution_count": null,
      "metadata": {},
      "outputs": [],
      "source": [
        "#TODO"
      ]
    },
    {
      "cell_type": "markdown",
      "metadata": {},
      "source": [
        "19. Utilisez l'index pour déterminer la position de la première occurrence de \"é\" dans \"séminaire humanité numérique\""
      ]
    },
    {
      "cell_type": "code",
      "execution_count": null,
      "metadata": {},
      "outputs": [],
      "source": [
        "#TODO"
      ]
    },
    {
      "cell_type": "markdown",
      "metadata": {},
      "source": [
        "20. Utilisez index pour déterminer la position de la première occurrence de \"m\" dans \"séminaire humanité numérique\"\n"
      ]
    },
    {
      "cell_type": "code",
      "execution_count": null,
      "metadata": {},
      "outputs": [],
      "source": [
        "#TODO"
      ]
    },
    {
      "cell_type": "markdown",
      "metadata": {},
      "source": [
        "21. Utilisez rfind pour déterminer la position de la dernière occurrence de \"m\" dans \"séminaire humanité numérique\""
      ]
    },
    {
      "cell_type": "code",
      "execution_count": null,
      "metadata": {},
      "outputs": [],
      "source": [
        "#TODO"
      ]
    },
    {
      "cell_type": "markdown",
      "metadata": {},
      "source": [
        "22. Utilisez index ou find pour trouver la position de la première occurrence du mot 'parce que' dans la phrase suivante : 'On ne peut pas terminer une phrase par parce que parce que est une conjonction'.\n"
      ]
    },
    {
      "cell_type": "code",
      "execution_count": null,
      "metadata": {},
      "outputs": [],
      "source": [
        "#TODO"
      ]
    },
    {
      "cell_type": "markdown",
      "metadata": {},
      "source": [
        "23. Utilisez rindex pour trouver la position de la dernière occurrence du mot \"parce que\" dans la phrase suivante : \"Vous ne pouvez pas terminer une phrase avec parce que parce que est une conjonction\"."
      ]
    },
    {
      "cell_type": "code",
      "execution_count": null,
      "metadata": {},
      "outputs": [],
      "source": [
        "#TODO"
      ]
    },
    {
      "cell_type": "markdown",
      "metadata": {},
      "source": [
        "24. Découpez l'expression \"parce que parce que\" dans la phrase suivante : \"On ne peut pas terminer une phrase par parce que parce que est une conjonction\".\n"
      ]
    },
    {
      "cell_type": "code",
      "execution_count": null,
      "metadata": {},
      "outputs": [],
      "source": [
        "#TODO"
      ]
    },
    {
      "cell_type": "markdown",
      "metadata": {},
      "source": [
        "25. Trouvez la position de la première occurrence du mot \"parce que\" dans la phrase suivante : \"On ne peut pas terminer une phrase par parce que parce que est une conjonction\"."
      ]
    },
    {
      "cell_type": "code",
      "execution_count": null,
      "metadata": {},
      "outputs": [],
      "source": [
        "#TODO"
      ]
    },
    {
      "cell_type": "markdown",
      "metadata": {},
      "source": [
        "26. Découpez l'expression \"parce que parce que\" dans la phrase suivante : \"On ne peut pas terminer une phrase par parce que parce que est une conjonction\".\n"
      ]
    },
    {
      "cell_type": "code",
      "execution_count": null,
      "metadata": {},
      "outputs": [],
      "source": [
        "#TODO"
      ]
    },
    {
      "cell_type": "markdown",
      "metadata": {},
      "source": [
        "27. Est-ce que \"séminaire humanité numrique\" commence par une sous-chaîne \"séminaire\" ?\n"
      ]
    },
    {
      "cell_type": "code",
      "execution_count": null,
      "metadata": {},
      "outputs": [],
      "source": [
        "#TODO"
      ]
    },
    {
      "cell_type": "markdown",
      "metadata": {},
      "source": [
        "28. supprimez les espaces de gauche et de droite de\" séminaire humanité numérique \""
      ]
    },
    {
      "cell_type": "code",
      "execution_count": null,
      "metadata": {},
      "outputs": [],
      "source": [
        "#TODO"
      ]
    },
    {
      "cell_type": "markdown",
      "metadata": {},
      "source": [
        "29. Laquelle des variables suivantes renvoie True lorsque nous utilisons la méthode isidentifier() :\n",
        "\"6ème_jour\"\n",
        "\"Sixième_jour\""
      ]
    },
    {
      "cell_type": "code",
      "execution_count": null,
      "metadata": {},
      "outputs": [],
      "source": [
        "#TODO"
      ]
    },
    {
      "cell_type": "markdown",
      "metadata": {},
      "source": [
        "30. La liste suivante contient les noms de certaines bibliothèques python : ['Django', 'Flask', 'Bottle', 'Pyramid', 'Falcon']. Joignez la liste avec espace."
      ]
    },
    {
      "cell_type": "code",
      "execution_count": null,
      "metadata": {},
      "outputs": [],
      "source": [
        "#TODO"
      ]
    },
    {
      "cell_type": "markdown",
      "metadata": {},
      "source": [
        "31. Utilisez \"\\n\" pour joindre les phrases suivantes.\n",
        "J'apprécie ce défi.\n",
        "Je me demande juste ce qui va suivre."
      ]
    },
    {
      "cell_type": "code",
      "execution_count": null,
      "metadata": {},
      "outputs": [],
      "source": [
        "#TODO"
      ]
    },
    {
      "cell_type": "markdown",
      "metadata": {},
      "source": [
        "31. Utilisez \"\\t\" pour joindre les phrases suivantes.\n",
        "Prénom Nom Pays Ville\n",
        "Pierre Deboissy France Paris"
      ]
    },
    {
      "cell_type": "code",
      "execution_count": null,
      "metadata": {},
      "outputs": [],
      "source": [
        "#TODO"
      ]
    },
    {
      "cell_type": "markdown",
      "metadata": {},
      "source": [
        "34. Utilisez la méthode de formatage des chaînes de caractères pour afficher les lignes suivantes :\n",
        "rayon = 10\n",
        "aire = 3,14 * rayon ** 2\n",
        "L'aire d'un cercle de rayon 10 est de 314 mètres carrés."
      ]
    },
    {
      "cell_type": "code",
      "execution_count": null,
      "metadata": {},
      "outputs": [],
      "source": [
        "#TODO"
      ]
    },
    {
      "cell_type": "markdown",
      "metadata": {},
      "source": [
        "Jour 6\n",
        "1.   Variables\n",
        "  *   [Hello World](https://colab.research.google.com/github/Hotsnown/seminaire-bordeaux-2022/blob/master/jour6/6_1_1_Hello_World.ipynb?hl=fr)\n",
        "  *   [Assignement](https://colab.research.google.com/github/Hotsnown/seminaire-bordeaux-2022/blob/master/jour6/6_1_2_Les_variables.ipynb?hl=fr)\n",
        "  *   [Mini-projet](https://colab.research.google.com/github/Hotsnown/seminaire-bordeaux-2022/blob/master/jour6/6_1_3_Mini_projet.ipynb?hl=fr)\n",
        "2.   String\n",
        "  *   [String (I)](https://colab.research.google.com/github/Hotsnown/seminaire-bordeaux-2022/blob/master/jour6/6_2_1_Strings_(I).ipynb?hl=fr)\n",
        "  *   [String (II)](https://colab.research.google.com/github/Hotsnown/seminaire-bordeaux-2022/blob/master/jour6/6_2_2_Strings_(II).ipynb?hl=fr)\n",
        "  *   [Mini-projet](https://colab.research.google.com/github/Hotsnown/seminaire-bordeaux-2022/blob/master/jour6/6_2_3_Mini_projet.ipynb?hl=fr)\n",
        "3.   Operateurs\n",
        "  *   [Opérateurs mathématiques](https://colab.research.google.com/github/Hotsnown/seminaire-bordeaux-2022/blob/master/jour6/6_3_1_Mathematical_opeators.ipynb?hl=fr)\n",
        "  *   [Opérateurs booléens](https://colab.research.google.com/github/Hotsnown/seminaire-bordeaux-2022/blob/master/jour6/6_3_2_Boolean_operators.ipynb?hl=fr)\n",
        "  *   [Mini-projet](https://colab.research.google.com/github/Hotsnown/seminaire-bordeaux-2022/blob/master/jour6/6_3_3_Mini_projet.ipynb?hl=fr)"
      ]
    }
  ],
  "metadata": {
    "colab": {
      "provenance": []
    },
    "kernelspec": {
      "display_name": "Python 3",
      "name": "python3"
    },
    "language_info": {
      "name": "python"
    }
  },
  "nbformat": 4,
  "nbformat_minor": 0
}
