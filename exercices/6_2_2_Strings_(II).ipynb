{
  "nbformat": 4,
  "nbformat_minor": 0,
  "metadata": {
    "colab": {
      "provenance": []
    },
    "kernelspec": {
      "name": "python3",
      "display_name": "Python 3"
    },
    "language_info": {
      "name": "python"
    }
  },
  "cells": [
    {
      "cell_type": "markdown",
      "source": [
        "Méthodes pour les chaînes de caractères\n",
        "\n",
        "Il existe de nombreuses méthodes pour les chaînes de caractères qui nous permettent de les formater. Voyez certaines de ces méthodes dans l'exemple suivant :\n",
        "\n",
        "\n",
        "\n",
        "\n",
        "\n"
      ],
      "metadata": {
        "id": "5je38Oe931cY"
      }
    },
    {
      "cell_type": "markdown",
      "source": [
        "capitalize() : Convertit le premier caractère de la chaîne en majuscule.\n"
      ],
      "metadata": {
        "id": "39HihApYSJnO"
      }
    },
    {
      "cell_type": "code",
      "source": [
        "challenge = \"trente jours de python\".\n",
        "print(challenge.capitalize()) # 'Trente jours de python'."
      ],
      "metadata": {
        "id": "WsIcaiOCSIjE"
      },
      "execution_count": null,
      "outputs": []
    },
    {
      "cell_type": "markdown",
      "source": [
        "count() : retourne les occurrences de la sous-chaîne dans la chaîne, count(substring, start=.., end=..). Le début est une indexation de départ pour le comptage et la fin est le dernier index à compter.\n"
      ],
      "metadata": {
        "id": "gUCRNh6ySHAs"
      }
    },
    {
      "cell_type": "code",
      "source": [
        "challenge = \"trente jours de python\".\n",
        "print(challenge.count('y')) # 3\n",
        "print(challenge.count('y', 7, 14)) # 1, \n",
        "print(challenge.count('th')) # 2`\n"
      ],
      "metadata": {
        "id": "jkc9y-LdSFp5"
      },
      "execution_count": null,
      "outputs": []
    },
    {
      "cell_type": "markdown",
      "source": [
        "endswith() : Vérifie si une chaîne de caractères se termine par une terminaison spécifiée.\n"
      ],
      "metadata": {
        "id": "SNnZ1GFGSEKt"
      }
    },
    {
      "cell_type": "code",
      "source": [
        "challenge = 'thirty days of python' (trente jours de python)\n",
        "print(challenge.endswith('on'))   # Vrai\n",
        "print(challenge.endswith('tion')) # Faux # Faux\n"
      ],
      "metadata": {
        "id": "lFcEmMzpSCpZ"
      },
      "execution_count": null,
      "outputs": []
    },
    {
      "cell_type": "markdown",
      "source": [
        "expandtabs() : Remplace le caractère de tabulation par des espaces, la taille de tabulation par défaut est de 8. Elle prend l'argument de taille de tabulation\n"
      ],
      "metadata": {
        "id": "B1osuD-hSA9G"
      }
    },
    {
      "cell_type": "code",
      "source": [
        "défi = 'trente\\tdays\\tof\\tpython'\n",
        "print(challenge.expandtabs()) # \"trente jours de python\".\n",
        "print(challenge.expandtabs(10)) # 'trente jours de python'.\n"
      ],
      "metadata": {
        "id": "pYBGn4VhR-IL"
      },
      "execution_count": null,
      "outputs": []
    },
    {
      "cell_type": "markdown",
      "source": [
        "find() : Renvoie l'indice de la première occurrence d'une sous-chaîne, si elle n'est pas trouvée, elle renvoie -1.\n"
      ],
      "metadata": {
        "id": "68jaslfGR9Eo"
      }
    },
    {
      "cell_type": "code",
      "source": [
        "challenge = 'trente jours de python'.\n",
        "print(challenge.find('y'))  # 16\n",
        "print(challenge.find('th')) # 17\n"
      ],
      "metadata": {
        "id": "lWftURktR76N"
      },
      "execution_count": null,
      "outputs": []
    },
    {
      "cell_type": "markdown",
      "source": [
        "rfind() : Renvoie l'indice de la dernière occurrence d'une sous-chaîne, si elle n'est pas trouvée, elle renvoie -1.\n"
      ],
      "metadata": {
        "id": "Y71ZvQ3oR6NG"
      }
    },
    {
      "cell_type": "code",
      "source": [
        "challenge = \"trente jours de python\".\n",
        "print(challenge.rfind('y'))  # 5\n",
        "print(challenge.rfind('th')) # 1"
      ],
      "metadata": {
        "id": "CAfwNH9TR5MO"
      },
      "execution_count": null,
      "outputs": []
    },
    {
      "cell_type": "markdown",
      "source": [
        "format() : formate la chaîne de caractères dans un format plus agréable.\n",
        "Pour en savoir plus sur le formatage des chaînes de caractères, consultez ce lien"
      ],
      "metadata": {
        "id": "bRU_5HUiRg1m"
      }
    },
    {
      "cell_type": "code",
      "source": [
        "Prénom = \"Asabeneh\".\n",
        "nom de famille = 'Yetayeh\n",
        "âge = 250\n",
        "profession = \"professeur\n",
        "pays = \"Finlande\n",
        "phrase = \"Je suis {} {}. Je suis un {}. J'ai {} ans. Je vis à {}.\".format(prénom, nom, âge, emploi, pays)\n",
        "print(phrase) # Je suis Asabeneh Yetayeh. J'ai 250 ans. Je suis professeur. J'habite en Finlande."
      ],
      "metadata": {
        "id": "OXr9tjdXRfbT"
      },
      "execution_count": null,
      "outputs": []
    },
    {
      "cell_type": "code",
      "source": [
        "rayon = 10\n",
        "pi = 3,14\n",
        "aire = pi * rayon ** 2\n",
        "result = 'L'aire d'un cercle de rayon {} est {}'.format(str(radius), str(area))\n",
        "print(result) # L'aire d'un cercle de rayon 10 est 314\n"
      ],
      "metadata": {
        "id": "NrgYMY-ARcKz"
      },
      "execution_count": null,
      "outputs": []
    },
    {
      "cell_type": "markdown",
      "source": [
        "index() : Renvoie l'indice le plus bas d'une sous-chaîne, les arguments supplémentaires indiquent l'indice de début et de fin (par défaut 0 et longueur de la chaîne - 1). Si la sous-chaîne n'est pas trouvée, une valueError est générée.\n"
      ],
      "metadata": {
        "id": "T6k1BOhdRa69"
      }
    },
    {
      "cell_type": "code",
      "source": [
        "challenge = \"trente jours de python\".\n",
        "sous-chaîne = 'da\n",
        "print(challenge.index(sub_string))  # 7\n",
        "print(challenge.index(sub_string, 9)) # erreur"
      ],
      "metadata": {
        "id": "9xQPiNG7RZ3T"
      },
      "execution_count": null,
      "outputs": []
    },
    {
      "cell_type": "markdown",
      "source": [
        "rindex() : Retourne l'indice le plus élevé d'une sous-chaîne, les arguments supplémentaires indiquent l'indice de début et de fin (par défaut 0 et longueur de la chaîne - 1)"
      ],
      "metadata": {
        "id": "9Dk3xDR9RX8P"
      }
    },
    {
      "cell_type": "code",
      "source": [
        "challenge = \"trente jours de python\".\n",
        "sous-chaîne = 'da\n",
        "print(challenge.rindex(sub_string))  # 8\n",
        "print(challenge.rindex(sub_string, 9)) # erreur"
      ],
      "metadata": {
        "id": "IvckD7BRRUJ9"
      },
      "execution_count": null,
      "outputs": []
    },
    {
      "cell_type": "markdown",
      "source": [
        "isalnum() : Vérifie les caractères alphanumériques\n"
      ],
      "metadata": {
        "id": "WbDVdWSCRR-z"
      }
    },
    {
      "cell_type": "code",
      "source": [
        "challenge = 'ThirtyDaysPython' (Trente jours Python)\n",
        "print(challenge.isalnum()) # vrai\n",
        "\n"
      ],
      "metadata": {
        "id": "GyLW-YDeROa_"
      },
      "execution_count": null,
      "outputs": []
    },
    {
      "cell_type": "code",
      "source": [
        "challenge = '30DaysPython'\n",
        "print(challenge.isalnum()) # Vrai\n",
        "\n"
      ],
      "metadata": {
        "id": "34joE7edRMLk"
      },
      "execution_count": null,
      "outputs": []
    },
    {
      "cell_type": "code",
      "source": [
        "défi = \"trente jours de python\".\n",
        "print(challenge.isalnum()) # False, l'espace n'est pas un caractère alphanumérique"
      ],
      "metadata": {
        "id": "l7NKU27PRKmH"
      },
      "execution_count": null,
      "outputs": []
    },
    {
      "cell_type": "code",
      "source": [
        "challenge = 'trente jours de python 2019' (thirty days of python 2019)\n",
        "print(challenge.isalnum()) # Faux, l'espace n'est pas un caractère alphanumérique.\n"
      ],
      "metadata": {
        "id": "3O6RMv1HRIju"
      },
      "execution_count": null,
      "outputs": []
    },
    {
      "cell_type": "markdown",
      "source": [
        "isalpha() : Vérifie si tous les éléments de la chaîne sont des caractères de l'alphabet (a-z et A-Z)\n"
      ],
      "metadata": {
        "id": "4w9jEVoSRHem"
      }
    },
    {
      "cell_type": "code",
      "source": [
        "challenge = \"trente jours de python\".\n",
        "print(challenge.isalpha()) # Faux, l'espace est une fois de plus exclu\n"
      ],
      "metadata": {
        "id": "lM7yU6XcRGRI"
      },
      "execution_count": null,
      "outputs": []
    },
    {
      "cell_type": "code",
      "source": [
        "challenge = 'Trente jours de python'.\n",
        "print(challenge.isalpha()) # Vrai\n"
      ],
      "metadata": {
        "id": "PvfZ5mFeRFHW"
      },
      "execution_count": null,
      "outputs": []
    },
    {
      "cell_type": "code",
      "source": [
        "num = '123\n",
        "print(num.isalpha()) # Faux"
      ],
      "metadata": {
        "id": "AnoetIVuRD5O"
      },
      "execution_count": null,
      "outputs": []
    },
    {
      "cell_type": "markdown",
      "source": [
        "isdecimal() : Vérifie si tous les caractères d'une chaîne sont décimaux (0-9)\n"
      ],
      "metadata": {
        "id": "XCnkDAH9Q1kf"
      }
    },
    {
      "cell_type": "code",
      "source": [
        "challenge = \"trente jours de python\".\n",
        "print(challenge.isdecimal()) # Faux"
      ],
      "metadata": {
        "id": "6TaeNLaVQzRQ"
      },
      "execution_count": null,
      "outputs": []
    },
    {
      "cell_type": "code",
      "source": [
        "challenge = '123\n",
        "print(challenge.isdecimal()) # Vrai"
      ],
      "metadata": {
        "id": "tDapyfAWQx84"
      },
      "execution_count": null,
      "outputs": []
    },
    {
      "cell_type": "code",
      "source": [
        "défi = '\\u00B2' (en anglais)\n",
        "print(challenge.isdigit()) # False"
      ],
      "metadata": {
        "id": "JwTdtQYdQwni"
      },
      "execution_count": null,
      "outputs": []
    },
    {
      "cell_type": "code",
      "source": [
        "challenge = '12 3'\n",
        "print(challenge.isdecimal()) # False, espace non autorisé"
      ],
      "metadata": {
        "id": "Sl-6Y2phQu7e"
      },
      "execution_count": null,
      "outputs": []
    },
    {
      "cell_type": "markdown",
      "source": [
        "isdigit() : Vérifie si tous les caractères d'une chaîne sont des chiffres (0-9 et quelques autres caractères unicode pour les chiffres)"
      ],
      "metadata": {
        "id": "3XxebumhQtbk"
      }
    },
    {
      "cell_type": "code",
      "source": [
        "challenge = 'Thirty' (Trente)\n",
        "print(challenge.isdigit()) # Faux"
      ],
      "metadata": {
        "id": "-aEA_M_GQr9A"
      },
      "execution_count": null,
      "outputs": []
    },
    {
      "cell_type": "code",
      "source": [
        "challenge = '30\n",
        "print(challenge.isdigit()) # Vrai"
      ],
      "metadata": {
        "id": "-vpdz1PcQqY8"
      },
      "execution_count": null,
      "outputs": []
    },
    {
      "cell_type": "code",
      "source": [
        "challenge = '\\u00B2'\n",
        "print(challenge.isdigit()) # True"
      ],
      "metadata": {
        "id": "4EKovWnZQor4"
      },
      "execution_count": null,
      "outputs": []
    },
    {
      "cell_type": "markdown",
      "source": [
        "isnumeric() : Vérifie si tous les caractères d'une chaîne sont des nombres ou apparentés à des nombres (comme isdigit(), mais accepte plus de symboles, comme ½)"
      ],
      "metadata": {
        "id": "diOdxsUdQnAE"
      }
    },
    {
      "cell_type": "code",
      "source": [
        "num = '10\n",
        "print(num.isnumeric()) # Vrai"
      ],
      "metadata": {
        "id": "rAmBCtqWQlrm"
      },
      "execution_count": null,
      "outputs": []
    },
    {
      "cell_type": "code",
      "source": [
        "num = '\\u00BD' # ½\n",
        "print(num.isnumeric()) # Vrai"
      ],
      "metadata": {
        "id": "qKXC03ejQkBR"
      },
      "execution_count": null,
      "outputs": []
    },
    {
      "cell_type": "code",
      "source": [
        "num = '10.5\n",
        "print(num.isnumeric()) # Faux"
      ],
      "metadata": {
        "id": "lLxbmOD9Qi0o"
      },
      "execution_count": null,
      "outputs": []
    },
    {
      "cell_type": "markdown",
      "source": [
        "isidentifier() : Vérifie un identifiant valide - il vérifie si une chaîne de caractères est un nom de variable valide."
      ],
      "metadata": {
        "id": "xEiijApZQdCw"
      }
    },
    {
      "cell_type": "code",
      "source": [
        "challenge = '30DaysOfPython\n",
        "print(challenge.isidentifier()) # False, car il commence par un nombre"
      ],
      "metadata": {
        "id": "X1VRJwz2QbBU"
      },
      "execution_count": null,
      "outputs": []
    },
    {
      "cell_type": "code",
      "source": [
        "défi = 'trente_jours_de_python'.\n",
        "print(challenge.isidentifier()) # Vrai"
      ],
      "metadata": {
        "id": "a2tin2R-QZWY"
      },
      "execution_count": null,
      "outputs": []
    },
    {
      "cell_type": "markdown",
      "source": [
        "islower() : Vérifie si tous les caractères alphabétiques de la chaîne sont en minuscules"
      ],
      "metadata": {
        "id": "DmrBIROPQXbs"
      }
    },
    {
      "cell_type": "code",
      "source": [
        "challenge = 'trente jours de python'.\n",
        "print(challenge.islower()) # True"
      ],
      "metadata": {
        "id": "DJL62skpQVXP"
      },
      "execution_count": null,
      "outputs": []
    },
    {
      "cell_type": "code",
      "source": [
        "challenge = 'Trente jours de python'.\n",
        "print(challenge.islower()) # False"
      ],
      "metadata": {
        "id": "Dk4uPFLVQTep"
      },
      "execution_count": null,
      "outputs": []
    },
    {
      "cell_type": "markdown",
      "source": [
        "isupper() : Vérifie si tous les caractères alphabétiques de la chaîne de caractères sont en majuscules."
      ],
      "metadata": {
        "id": "2Xm3D4spQQb5"
      }
    },
    {
      "cell_type": "code",
      "source": [
        "challenge = \"trente jours de python\".\n",
        "print(challenge.isupper()) # False"
      ],
      "metadata": {
        "id": "Bm7RJOMgQO0A"
      },
      "execution_count": null,
      "outputs": []
    },
    {
      "cell_type": "code",
      "source": [
        "challenge = 'THIRTY DAYS OF PYTHON' (trente jours de python)\n",
        "print(challenge.isupper()) # Vrai"
      ],
      "metadata": {
        "id": "iGUfM7PHQNIT"
      },
      "execution_count": null,
      "outputs": []
    },
    {
      "cell_type": "markdown",
      "source": [
        "join() : Retourne une chaîne concaténée"
      ],
      "metadata": {
        "id": "1kJJys2GQK8r"
      }
    },
    {
      "cell_type": "code",
      "source": [
        "web_tech = ['HTML', 'CSS', 'JavaScript', 'React']\n",
        "result = ' '.join(web_tech)\n",
        "print(result) # 'HTML CSS JavaScript React' (HTML CSS JavaScript React)"
      ],
      "metadata": {
        "id": "Hf2umR0CQI9j"
      },
      "execution_count": null,
      "outputs": []
    },
    {
      "cell_type": "code",
      "source": [
        "web_tech = ['HTML', 'CSS', 'JavaScript', 'React']\n",
        "result = '# '.join(web_tech)\n",
        "print(result) # \"HTML# CSS# JavaScript# React"
      ],
      "metadata": {
        "id": "4kMTOy5KQG1t"
      },
      "execution_count": null,
      "outputs": []
    },
    {
      "cell_type": "markdown",
      "source": [
        "strip() : Supprime tous les caractères donnés à partir du début et de la fin de la chaîne."
      ],
      "metadata": {
        "id": "h3_OF_yhQEh7"
      }
    },
    {
      "cell_type": "code",
      "source": [
        "challenge = \"trente jours de python\".\n",
        "print(challenge.strip('noth')) # 'irty days of py' (soixante jours de py)\n"
      ],
      "metadata": {
        "id": "95CJkC1aQA0K"
      },
      "execution_count": null,
      "outputs": []
    },
    {
      "cell_type": "markdown",
      "source": [
        "replace() : Remplace la sous-chaîne par une chaîne donnée"
      ],
      "metadata": {
        "id": "cj1O2osOP_ey"
      }
    },
    {
      "cell_type": "code",
      "source": [
        "challenge = \"trente jours de python\".\n",
        "print(challenge.replace('python', 'coding')) # 'trente jours de codage'."
      ],
      "metadata": {
        "id": "z4kqFmg0P92v"
      },
      "execution_count": null,
      "outputs": []
    },
    {
      "cell_type": "markdown",
      "source": [
        "split() : Divise la chaîne de caractères, en utilisant une chaîne de caractères ou un espace comme séparateur"
      ],
      "metadata": {
        "id": "rZxBaifHP7td"
      }
    },
    {
      "cell_type": "code",
      "source": [
        "challenge = \"trente jours de python\".\n",
        "print(challenge.split()) # ['trente', 'jours', 'de', 'python']\n",
        "challenge = 'trente, jours, de, python'."
      ],
      "metadata": {
        "id": "qw8xocBeP16Z"
      },
      "execution_count": null,
      "outputs": []
    },
    {
      "cell_type": "code",
      "source": [
        "print(challenge.split(', ')) # ['trente', 'jours', 'de', 'python']\n",
        "title() : Retourne une chaîne de caractères avec le titre"
      ],
      "metadata": {
        "id": "v__95G3dPz9w"
      },
      "execution_count": null,
      "outputs": []
    },
    {
      "cell_type": "code",
      "source": [
        "challenge = \"trente jours de python\".\n",
        "print(challenge.title()) # Trente jours de Python\n"
      ],
      "metadata": {
        "id": "UWa5Q--2Pvrp"
      },
      "execution_count": null,
      "outputs": []
    },
    {
      "cell_type": "markdown",
      "source": [
        "swapcase() : Convertit tous les caractères majuscules en minuscules et tous les caractères minuscules en majuscules."
      ],
      "metadata": {
        "id": "UzVR0MxMPwZ2"
      }
    },
    {
      "cell_type": "code",
      "source": [
        "challenge = 'thirty days of python' (trente jours de python)\n",
        "print(challenge.swapcase()) # THIRTY DAYS OF PYTHON"
      ],
      "metadata": {
        "id": "NY9jTWi6PnY1"
      },
      "execution_count": null,
      "outputs": []
    },
    {
      "cell_type": "code",
      "source": [
        "challenge = 'Trente jours de Python' (Thirty Days Of Python)\n",
        "print(challenge.swapcase()) # tHIRTY dAYS oF pYTHON"
      ],
      "metadata": {
        "id": "sGwgoSLbPlLZ"
      },
      "execution_count": null,
      "outputs": []
    },
    {
      "cell_type": "markdown",
      "source": [
        "startswith() : Vérifie si la chaîne commence par la chaîne spécifiée"
      ],
      "metadata": {
        "id": "YFLoEA9CPi4C"
      }
    },
    {
      "cell_type": "code",
      "source": [
        "challenge = 'thirty days of python' (trente jours de python)\n",
        "print(challenge.startswith('thirty')) # Vrai"
      ],
      "metadata": {
        "id": "KnS3HMPOPhFU"
      },
      "execution_count": null,
      "outputs": []
    },
    {
      "cell_type": "code",
      "source": [
        "challenge = '30 jours de python'.\n",
        "print(challenge.startswith('thirty')) # Faux"
      ],
      "metadata": {
        "id": "RJJjoXi3Pdk0"
      },
      "execution_count": null,
      "outputs": []
    },
    {
      "cell_type": "markdown",
      "source": [
        "1. Concaténer la chaîne 'Trente', 'Jours', 'De', 'Python' en une seule chaîne, 'Trente Jours De Python'.\n",
        "2. Concaténer la chaîne de caractères 'Coding', 'For', 'All' en une seule chaîne de caractères, 'Coding For All'.\n",
        "3. Déclarer une variable nommée compagnie et lui attribuer une valeur initiale \"Coding For All\".\n",
        "4. Imprimez la variable compagnie en utilisant print().\n",
        "5. Imprimez la longueur de la chaîne de la société en utilisant la méthode len() et print().\n",
        "6. Changez tous les caractères en lettres majuscules à l'aide de la méthode upper().\n",
        "7. Changez tous les caractères en minuscules à l'aide de la méthode lower().\n",
        "8. Utilisez les méthodes capitalize(), title(), swapcase() pour formater la valeur de la chaîne Codage pour tous.\n",
        "9. Couper le premier mot de la chaîne Coding For All.\n",
        "10. Vérifier si la chaîne Coding For All contient un mot Coding en utilisant la méthode index, find ou d'autres méthodes.\n",
        "11. Remplacez le mot codage dans la chaîne 'Codage pour tous' par Python.\n",
        "12. Remplacez Python pour tous par Python pour tous en utilisant la méthode replace ou d'autres méthodes.\n",
        "13. Divisez la chaîne 'Coding For All' en utilisant l'espace comme séparateur (split()) .\n",
        "\"Facebook, Google, Microsoft, Apple, IBM, Oracle, Amazon\" divise la chaîne à la virgule.\n",
        "14. Quel est le caractère à l'indice 0 dans la chaîne Coding For All.\n",
        "15. Quel est le dernier indice de la chaîne Coding For All.\n",
        "16. Quel est le caractère à l'index 10 dans la chaîne \"Coding For All\".\n",
        "17. Créez un acronyme ou une abréviation pour le nom \"Python pour tous\".\n",
        "18. Créez un acronyme ou une abréviation pour le nom \"Coding For All\".\n",
        "19. Utilisez l'index pour déterminer la position de la première occurrence de C dans Coding For All.\n",
        "20. Utilisez index pour déterminer la position de la première occurrence de F dans Coding For All.\n",
        "21. Utilisez rfind pour déterminer la position de la dernière occurrence de l dans Coding For All People.\n",
        "22. Utilisez index ou find pour trouver la position de la première occurrence du mot 'parce que' dans la phrase suivante : 'On ne peut pas terminer une phrase par parce que parce que est une conjonction'.\n",
        "23. Utilisez rindex pour trouver la position de la dernière occurrence du mot \"parce que\" dans la phrase suivante : \"Vous ne pouvez pas terminer une phrase avec parce que parce que est une conjonction\".\n",
        "24. Découpez l'expression \"parce que parce que\" dans la phrase suivante : \"On ne peut pas terminer une phrase par parce que parce que est une conjonction\".\n",
        "25. Trouvez la position de la première occurrence du mot \"parce que\" dans la phrase suivante : \"On ne peut pas terminer une phrase par parce que parce que est une conjonction\".\n",
        "26. Découpez l'expression \"parce que parce que\" dans la phrase suivante : \"On ne peut pas terminer une phrase par parce que parce que est une conjonction\".\n",
        "27. Est-ce que ''Coding For All'' commence par une sous-chaîne Coding ?\n",
        "28. Est-ce que ''Coding For All'' se termine par un sous-titre coding ?\n",
        "' Coding For All ' , supprime les espaces de gauche et de droite de la chaîne de caractères donnée.\n",
        "29. Laquelle des variables suivantes renvoie True lorsque nous utilisons la méthode isidentifier() :\n",
        "30DaysOfPython\n",
        "trente_jours_de_python\n",
        "30. La liste suivante contient les noms de certaines bibliothèques python : ['Django', 'Flask', 'Bottle', 'Pyramid', 'Falcon']. Joignez la liste avec une chaîne de hachage avec espace.\n",
        "31. Utilisez la nouvelle séquence d'échappement de ligne pour séparer les phrases suivantes.\n",
        "J'apprécie ce défi.\n",
        "Je me demande juste ce qui va suivre.\n",
        "32. Utilisez la séquence d'échappement tabulation pour écrire les lignes suivantes.\n",
        "Nom Âge Pays Ville\n",
        "Asabeneh 250 Finlande Helsinki\n",
        "34. Utilisez la méthode de formatage des chaînes de caractères pour afficher les lignes suivantes :\n",
        "rayon = 10\n",
        "aire = 3,14 * rayon ** 2\n",
        "35. L'aire d'un cercle de rayon 10 est de 314 mètres carrés.\n",
        "36. Réalisez ce qui suit à l'aide de la méthode de mise en forme des chaînes de caractères :\n",
        "8 + 6 = 14\n",
        "8 - 6 = 2\n",
        "8 * 6 = 48\n",
        "8 / 6 = 1.33\n",
        "8 % 6 = 2\n",
        "8 // 6 = 1\n",
        "8 ** 6 = 262144"
      ],
      "metadata": {
        "id": "FhWiyoyxPaZ3"
      }
    }
  ]
}