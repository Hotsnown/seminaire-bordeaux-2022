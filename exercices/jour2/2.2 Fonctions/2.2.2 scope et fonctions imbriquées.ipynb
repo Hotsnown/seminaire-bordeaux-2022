{
 "cells": [
  {
   "cell_type": "code",
   "execution_count": null,
   "metadata": {},
   "outputs": [],
   "source": [
    "%git clone https://github.com/Hotsnown/seminaire-bordeaux-2022.git seminaire &> /dev/null\n",
    "%pip install nbautoeval &> /dev/null\n",
    "from evaluation.jour2.listes.listes import exo_create_list, exo_add_list, exo_lenght, exo_get_item, exo_is_empty, exo_less_than_5, exo_first_last"
   ]
  },
  {
   "cell_type": "markdown",
   "metadata": {},
   "source": [
    "### Valeur retournée et Conditions"
   ]
  },
  {
   "cell_type": "markdown",
   "metadata": {},
   "source": [
    "Notez qu'il est possible de conditionner la valeur retournée d'une fonction. <br/>\n",
    "\n",
    "Par exemple, la fonction **max_entre_2** a deux arguments **x** et **y** et retourne la valeur la plus grande entre ces deux."
   ]
  },
  {
   "cell_type": "code",
   "execution_count": null,
   "metadata": {},
   "outputs": [],
   "source": [
    "def max_entre_2( x, y ):\n",
    "    if x > y:\n",
    "        return x\n",
    "    return y\n",
    "\n",
    "max_entre_2(5, 10)"
   ]
  },
  {
   "cell_type": "markdown",
   "metadata": {},
   "source": [
    "En utilisant la technique des retours conditionnels, créez une fonction **max_entre_3(x, y, z)** qui retourne la valeur la plus grande entre **x**, **y** et **z**"
   ]
  },
  {
   "cell_type": "code",
   "execution_count": null,
   "metadata": {},
   "outputs": [],
   "source": [
    "exo_max_entre_3.example()"
   ]
  },
  {
   "cell_type": "code",
   "execution_count": null,
   "metadata": {},
   "outputs": [],
   "source": [
    "#Créez la fonction max_entre_3(x, y, z) ici:\n",
    "\n",
    "# Ne rien changer après cette ligne\n",
    "exo_max_entre_3.correction(max_entre_3)"
   ]
  },
  {
   "cell_type": "markdown",
   "metadata": {},
   "source": [
    "En utilisant la technique des retours conditionnels, créez une fonction **est_pair(x)** qui retourne **True** si x est pair sinon **False**"
   ]
  },
  {
   "cell_type": "code",
   "execution_count": null,
   "metadata": {},
   "outputs": [],
   "source": [
    "#Créez la fonction est_pair(x) ici:\n",
    "\n",
    "# Ne rien changer après cette ligne\n",
    "exo_est_pair.correction(est_pair)"
   ]
  },
  {
   "cell_type": "markdown",
   "metadata": {},
   "source": [
    "### Méthodes"
   ]
  },
  {
   "cell_type": "markdown",
   "metadata": {},
   "source": [
    "Difference between Method and Function in Python\n",
    "\n",
    "Here, key differences between Method and Function in Python are explained. Java is also an OOP language, but there is no concept of Function in it. But Python has both concept of Method and Function.\n",
    "\n",
    "Python Method\n",
    "\n",
    "Method is called by its name, but it is associated to an object (dependent).\n",
    "- A method definition always includes ‘self’ as its first parameter.\n",
    "- A method is implicitly passed the object on which it is invoked.\n",
    "- It may or may not return any data.\n",
    "- A method can operate on the data (instance variables) that is contained by the corresponding class\n",
    "- Basic Method Structure in Python : "
   ]
  },
  {
   "cell_type": "markdown",
   "metadata": {},
   "source": [
    "### Enchainer les fonctions"
   ]
  },
  {
   "cell_type": "code",
   "execution_count": null,
   "metadata": {},
   "outputs": [],
   "source": [
    "# Use method chaining\n",
    "so_survey_df['RawSalary'] = so_survey_df['RawSalary']\\\n",
    "                              .____\\\n",
    "                              .____\\\n",
    "                              .____\\\n",
    "                              .____\n",
    " \n",
    "# Print the RawSalary column\n",
    "print(so_survey_df['RawSalary'])"
   ]
  }
 ],
 "metadata": {
  "kernelspec": {
   "display_name": "Python 3.10.7 64-bit (microsoft store)",
   "language": "python",
   "name": "python3"
  },
  "language_info": {
   "name": "python",
   "version": "3.10.8"
  },
  "orig_nbformat": 4,
  "vscode": {
   "interpreter": {
    "hash": "ab330c63be1774c7d4efd28485dada9f7c6eb3392ec4de9472ccb4da1daed7d7"
   }
  }
 },
 "nbformat": 4,
 "nbformat_minor": 2
}
