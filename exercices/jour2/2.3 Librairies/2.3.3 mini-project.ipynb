{
 "cells": [
  {
   "cell_type": "code",
   "execution_count": null,
   "metadata": {},
   "outputs": [],
   "source": [
    "%git clone https://github.com/Hotsnown/seminaire-bordeaux-2022.git seminaire &> /dev/null\n",
    "%pip install nbautoeval &> /dev/null\n",
    "\n",
    "from seminaire.evaluation.jour2.fonctions.project import exo_end_of_sentence_marker"
   ]
  },
  {
   "cell_type": "markdown",
   "metadata": {},
   "source": [
    "# Mapping courts\n"
   ]
  },
  {
   "cell_type": "code",
   "execution_count": null,
   "metadata": {},
   "outputs": [],
   "source": [
    "import os\n",
    "import sys\n",
    "sys.path.append('..')\n",
    "\n",
    "import googlemaps\n",
    "\n",
    "import csv\n",
    "import json\n",
    "import requests\n",
    "\n",
    "import pandas as pd\n",
    "import plotly.plotly as py\n",
    "\n",
    "import matplotlib\n",
    "%matplotlib inline\n",
    "\n",
    "from config import settings"
   ]
  },
  {
   "cell_type": "markdown",
   "metadata": {},
   "source": [
    "### Getting all courts from CAP API\n"
   ]
  },
  {
   "cell_type": "markdown",
   "metadata": {},
   "source": [
    "Create a CSV file with all of the courts that exist in the CAP databse.\n",
    "For each court, add the full jurisdiction name. This will be useful for locating it on a Google map."
   ]
  },
  {
   "cell_type": "code",
   "execution_count": null,
   "metadata": {},
   "outputs": [],
   "source": [
    "data_dir = \"../%s/court_map\" % settings.DATA_DIR\n",
    "# Create data directory for the project if it doesn't already exist\n",
    "if not os.path.exists(data_dir):\n",
    "    os.mkdir(data_dir)\n",
    "    print(\"Created %s\" % data_dir)"
   ]
  },
  {
   "cell_type": "code",
   "execution_count": null,
   "metadata": {},
   "outputs": [],
   "source": [
    "# Create courts csv if it doesn't already exist\n",
    "all_courts_file = '%s/courts.csv' % data_dir\n",
    "courts_fieldnames = ['court_id', 'court_slug', 'court_name', 'jurisdiction_name', 'jurisdiction_slug']\n",
    "if not os.path.exists(all_courts_file):\n",
    "    with open(all_courts_file, 'w+') as csvfile:\n",
    "        writer = csv.DictWriter(csvfile, fieldnames=courts_fieldnames)\n",
    "        writer.writeheader()\n",
    "    print(\"Created %s\" % all_courts_file)\n",
    "    \n",
    "    # Get 100 courts at a time\n",
    "    # For each court, get full jurisdiction name to help in Google Map searching\n",
    "    courts_url = \"%s/%s/courts/?format=json\" % (settings.API_URL, settings.API_VERSION)\n",
    "    res = requests.get(courts_url).json()\n",
    "    while True:\n",
    "        with open(all_courts_file, 'a+', newline='') as csvfile:\n",
    "            writer = csv.DictWriter(csvfile, fieldnames=courts_fieldnames)\n",
    "            for court in res['results']:\n",
    "                jurisdiction_url = court['jurisdiction_url']\n",
    "\n",
    "                if not jurisdiction_url:\n",
    "                    # if jurisdiction doesn't exist, skip\n",
    "                    continue\n",
    "\n",
    "                jur_res = requests.get(jurisdiction_url).json()\n",
    "\n",
    "                writer.writerow({\n",
    "                    'court_id': court['id'],\n",
    "                    'court_slug': court['slug'],\n",
    "                    'court_name': court['name'],\n",
    "                    'jurisdiction_name': jur_res['name_long'],\n",
    "                    'jurisdiction_slug': jur_res['slug']                    \n",
    "                })\n",
    "\n",
    "        if res['next']:\n",
    "            # Get the next page of court results\n",
    "\n",
    "            res = requests.get(res['next']).json()\n",
    "\n",
    "        else:\n",
    "            # That's it! No more results. \n",
    "            print(\"Done.\")\n",
    "            break"
   ]
  },
  {
   "cell_type": "code",
   "execution_count": null,
   "metadata": {},
   "outputs": [],
   "source": [
    "df = pd.read_csv(all_courts_file)\n",
    "df.head()"
   ]
  },
  {
   "cell_type": "code",
   "execution_count": null,
   "metadata": {},
   "outputs": [],
   "source": [
    "# remove extra fields for graphing purposes\n",
    "df.drop(columns=['court_id', 'court_slug', 'jurisdiction_slug'], inplace=True)\n",
    "df.head()"
   ]
  },
  {
   "cell_type": "markdown",
   "metadata": {},
   "source": [
    "Graph court numbers per jurisdiction\n"
   ]
  },
  {
   "cell_type": "code",
   "execution_count": null,
   "metadata": {},
   "outputs": [],
   "source": [
    "aggregated_df = df.groupby(['jurisdiction_name']).agg(['count'])\n",
    "aggregated_df.plot(kind='bar', legend=False, figsize=(50, 20), fontsize=30)"
   ]
  }
 ],
 "metadata": {
  "kernelspec": {
   "display_name": "Python 3.10.7 64-bit (microsoft store)",
   "language": "python",
   "name": "python3"
  },
  "language_info": {
   "name": "python",
   "version": "3.10.8"
  },
  "orig_nbformat": 4,
  "vscode": {
   "interpreter": {
    "hash": "ab330c63be1774c7d4efd28485dada9f7c6eb3392ec4de9472ccb4da1daed7d7"
   }
  }
 },
 "nbformat": 4,
 "nbformat_minor": 2
}
