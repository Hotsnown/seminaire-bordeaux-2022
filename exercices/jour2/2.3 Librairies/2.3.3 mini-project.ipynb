{
 "cells": [
  {
   "cell_type": "code",
   "execution_count": null,
   "metadata": {},
   "outputs": [],
   "source": [
    "%git clone https://github.com/Hotsnown/seminaire-bordeaux-2022.git seminaire &> /dev/null\n",
    "%pip install nbautoeval &> /dev/null\n",
    "from evaluation.jour2.listes.listes import exo_create_list, exo_add_list, exo_lenght, exo_get_item, exo_is_empty, exo_less_than_5, exo_first_last"
   ]
  },
  {
   "cell_type": "markdown",
   "metadata": {},
   "source": [
    "# Get judges from case\n",
    "Get cases json from the API, return all judges from that case\n",
    "\n",
    "Map the judges to a CourtListener URL"
   ]
  },
  {
   "cell_type": "code",
   "execution_count": null,
   "metadata": {},
   "outputs": [],
   "source": [
    "import re\n",
    "import os\n",
    "import sys\n",
    "sys.path.append('..')\n",
    "\n",
    "import requests\n",
    "\n",
    "from config import settings\n",
    "import utils"
   ]
  },
  {
   "cell_type": "code",
   "execution_count": null,
   "metadata": {},
   "outputs": [],
   "source": [
    "url = utils.get_api_url() + 'cases/?jurisdiction=ill&full_case=true&format=json&search=rainbow'\n",
    "headers = {'AUTHORIZATION': 'Token {}'.format(settings.API_KEY)}\n",
    "response = requests.get(url, headers=headers)\n",
    "res = response.json()"
   ]
  },
  {
   "cell_type": "code",
   "execution_count": null,
   "metadata": {},
   "outputs": [],
   "source": [
    "cases = res['results']\n",
    "print(len(cases), \"results found\")"
   ]
  },
  {
   "cell_type": "code",
   "execution_count": null,
   "metadata": {},
   "outputs": [],
   "source": [
    "not_useful = [\"memorandum\", \"chief\", \"circuit\",\"justice\", \"per curiam\",\"senior\", \"district\", \"judge\",  \"justice\",\"and\", \"associate\",\"mr\", \"mrs\", \"ms\", \"presiding\",\"opinion\",\"the court\", \"dissenting\"]\n",
    "courtlistener_people_api = \"https://www.courtlistener.com/api/rest/v3/people/\"\n",
    "\n",
    "def get_author_name(idx, opinion):\n",
    "    judges = []\n",
    "    try:\n",
    "        authors = opinion['author'].split(', ')\n",
    "        for author in authors:\n",
    "            original_author = author\n",
    "            author_name = fix_name(author)\n",
    "            first_name = ''\n",
    "            name_parts = author_name.split(' ')\n",
    "            if len(name_parts) > 1:\n",
    "                author_name = name_parts[-1]\n",
    "                if len(name_parts[0]) > 1:\n",
    "                    first_name = name_parts[0]\n",
    "            if len(author_name) > 1:\n",
    "                author_name = author_name.capitalize() \n",
    "                if '-' in author_name:\n",
    "                    # keep hyphenations in people's names, capitalize each hyphenated part\n",
    "                    name_parts = author_name.split('-')\n",
    "                    author_name = ''\n",
    "                    for idx,part in enumerate(name_parts):\n",
    "                        if idx < len(name_parts) - 1:\n",
    "                            author_name += part.capitalize() + '-' \n",
    "                        else:\n",
    "                            author_name += part.capitalize()\n",
    "                url = \"%s?name_last=%s\" % (courtlistener_people_api, author_name)\n",
    "                if first_name:\n",
    "                    url += \"&name_first=%s\" % first_name.capitalize()\n",
    "                judges.append([idx, opinion['type'], url, original_author, author_name, first_name.capitalize()])\n",
    "    except:\n",
    "        # for one reason or another the opinion doesn't have an author. \n",
    "        # Sometimes it's because the judges have decided that case is not to be treated as precedential\n",
    "        pass\n",
    "    return judges\n",
    "\n",
    "def fix_name(name):\n",
    "    name = re.sub('[^0-9a-zA-Z\\-\\s]+', '', name.lower())\n",
    "    for nu in not_useful:\n",
    "        name = name.replace(nu,'')    \n",
    "    return name.strip()\n",
    "\n",
    "\n",
    "def get_all_judges(cases, opinion_type=None):\n",
    "    judge_results = []\n",
    "    for case in cases:\n",
    "\n",
    "        opinions = case['casebody']['data']['opinions']\n",
    "\n",
    "        for opinion in opinions:\n",
    "            if opinion_type:\n",
    "                if opinion['type'] == opinion_type:\n",
    "                    names = get_author_name(case['id'],opinion)\n",
    "            else:\n",
    "                names = get_author_name(case['id'],opinion)\n",
    "            if names:\n",
    "                judge_results += names\n",
    "    return judge_results\n",
    "judges = get_all_judges(cases)\n",
    "\n",
    "# print first five\n",
    "print(judges[0:5])"
   ]
  },
  {
   "cell_type": "code",
   "execution_count": null,
   "metadata": {},
   "outputs": [],
   "source": [
    "import pandas as pd\n",
    "judge_df = pd.DataFrame(data=judges, columns=[\"id\",\"type\",\"best_guess_url\",\"original\", \"last_name\",\"first_name\"])\n",
    "judge_df.head()"
   ]
  }
 ],
 "metadata": {
  "kernelspec": {
   "display_name": "Python 3.10.7 64-bit (microsoft store)",
   "language": "python",
   "name": "python3"
  },
  "language_info": {
   "name": "python",
   "version": "3.10.7"
  },
  "orig_nbformat": 4,
  "vscode": {
   "interpreter": {
    "hash": "ab330c63be1774c7d4efd28485dada9f7c6eb3392ec4de9472ccb4da1daed7d7"
   }
  }
 },
 "nbformat": 4,
 "nbformat_minor": 2
}
