{
 "cells": [
  {
   "cell_type": "code",
   "execution_count": 1,
   "metadata": {},
   "outputs": [
    {
     "name": "stderr",
     "output_type": "stream",
     "text": [
      "UsageError: Line magic function `%git` not found.\n"
     ]
    }
   ],
   "source": [
    "%git clone https://github.com/Hotsnown/seminaire-bordeaux-2022.git seminaire &> /dev/null\n",
    "%pip install nbautoeval &> /dev/null\n",
    "from evaluation.jour2.listes.listes import exo_create_list, exo_add_list, exo_lenght, exo_get_item, exo_get_second, exo_is_empty, exo_less_than_5, exo_first_last"
   ]
  },
  {
   "cell_type": "markdown",
   "metadata": {},
   "source": [
    "### Créer une liste"
   ]
  },
  {
   "cell_type": "code",
   "execution_count": 14,
   "metadata": {},
   "outputs": [
    {
     "data": {
      "application/vnd.jupyter.widget-view+json": {
       "model_id": "7cb0111b154841648825ce2bd16a9952",
       "version_major": 2,
       "version_minor": 0
      },
      "text/plain": [
       "GridBox(children=(HTML(value='<span style=\"font-size:medium;\"\\'>appel</span>', _dom_classes=('header', '')), H…"
      ]
     },
     "execution_count": 14,
     "metadata": {},
     "output_type": "execute_result"
    }
   ],
   "source": [
    "def create_list_3(a, b, c):\n",
    "    list_3 = #TODO\n",
    "\n",
    "    return list_3\n",
    "\n",
    "exo_create_list.correction(create_list_3)"
   ]
  },
  {
   "cell_type": "code",
   "execution_count": 15,
   "metadata": {},
   "outputs": [
    {
     "data": {
      "application/vnd.jupyter.widget-view+json": {
       "model_id": "b8b3bc142ffe4939a60d8216079f4936",
       "version_major": 2,
       "version_minor": 0
      },
      "text/plain": [
       "GridBox(children=(HTML(value='<span style=\"font-size:medium;\"\\'>appel</span>', _dom_classes=('header', '')), H…"
      ]
     },
     "execution_count": 15,
     "metadata": {},
     "output_type": "execute_result"
    }
   ],
   "source": [
    "def create_list_4(a, b, c, d):\n",
    "    list_4 = #TODO\n",
    "    return list_4\n",
    "\n",
    "exo_create_list.correction(create_list_4)"
   ]
  },
  {
   "cell_type": "code",
   "execution_count": 16,
   "metadata": {},
   "outputs": [
    {
     "data": {
      "application/vnd.jupyter.widget-view+json": {
       "model_id": "6049a0986e494412a25b68ab11462719",
       "version_major": 2,
       "version_minor": 0
      },
      "text/plain": [
       "GridBox(children=(HTML(value='<span style=\"font-size:medium;\"\\'>appel</span>', _dom_classes=('header', '')), H…"
      ]
     },
     "execution_count": 16,
     "metadata": {},
     "output_type": "execute_result"
    }
   ],
   "source": [
    "def create_list_5(a, b, c, d, e):\n",
    "    list_5 = #TODO\n",
    "    return list_5\n",
    "\n",
    "exo_create_list.correction(create_list_5)"
   ]
  },
  {
   "cell_type": "markdown",
   "metadata": {},
   "source": [
    "### Ajouter un élément à une liste\n"
   ]
  },
  {
   "cell_type": "code",
   "execution_count": 17,
   "metadata": {},
   "outputs": [
    {
     "ename": "NameError",
     "evalue": "name 'exo_add_list' is not defined",
     "output_type": "error",
     "traceback": [
      "\u001b[1;31m---------------------------------------------------------------------------\u001b[0m",
      "\u001b[1;31mNameError\u001b[0m                                 Traceback (most recent call last)",
      "Cell \u001b[1;32mIn [17], line 4\u001b[0m\n\u001b[0;32m      1\u001b[0m \u001b[38;5;28;01mdef\u001b[39;00m \u001b[38;5;21madd_list\u001b[39m(liste, x):\n\u001b[0;32m      2\u001b[0m     \u001b[38;5;28;01mreturn\u001b[39;00m liste\u001b[38;5;241m.\u001b[39mappend(x)\n\u001b[1;32m----> 4\u001b[0m \u001b[43mexo_add_list\u001b[49m\u001b[38;5;241m.\u001b[39mcorrection(add_list)\n",
      "\u001b[1;31mNameError\u001b[0m: name 'exo_add_list' is not defined"
     ]
    }
   ],
   "source": [
    "def add_list(liste, x):\n",
    "\n",
    "    new_list = liste.#TODO\n",
    "    return new_list\n",
    "\n",
    "exo_add_list.correction(add_list)"
   ]
  },
  {
   "cell_type": "markdown",
   "metadata": {},
   "source": [
    "### Extraire un élément d'une liste"
   ]
  },
  {
   "cell_type": "code",
   "execution_count": null,
   "metadata": {},
   "outputs": [],
   "source": [
    "def get_item(liste, x):\n",
    "    mon_élément = #TODO\n",
    "    return mon_élément\n",
    "\n",
    "exo_get_item.correction(get_item)"
   ]
  },
  {
   "cell_type": "markdown",
   "metadata": {},
   "source": [
    "Return the second element of the given list. If the list has no second element, return None."
   ]
  },
  {
   "cell_type": "code",
   "execution_count": null,
   "metadata": {},
   "outputs": [],
   "source": [
    "def get_second(liste):\n",
    "    mon_second_élément = #TODO\n",
    "    return mon_second_élément\n",
    "    \n",
    "exo_get_second.correction(get_second)"
   ]
  },
  {
   "cell_type": "markdown",
   "metadata": {},
   "source": [
    "Write a program that takes a list of numbers (for example, a = [5, 10, 15, 20, 25])\n",
    "and makes a new list of only the first and last elements of the given list. For\n",
    "practice, write this code inside a function."
   ]
  },
  {
   "cell_type": "code",
   "execution_count": null,
   "metadata": {},
   "outputs": [],
   "source": [
    "def first_last(liste):\n",
    "    ma_liste_premier_dernier = #TODO\n",
    "    return ma_liste_premier_dernier\n",
    "\n",
    "exo_first_last.correction(first_last)"
   ]
  },
  {
   "cell_type": "markdown",
   "metadata": {},
   "source": [
    "### Length"
   ]
  },
  {
   "cell_type": "code",
   "execution_count": 22,
   "metadata": {},
   "outputs": [
    {
     "ename": "NameError",
     "evalue": "name 'exo_lenght' is not defined",
     "output_type": "error",
     "traceback": [
      "\u001b[1;31m---------------------------------------------------------------------------\u001b[0m",
      "\u001b[1;31mNameError\u001b[0m                                 Traceback (most recent call last)",
      "Cell \u001b[1;32mIn [22], line 4\u001b[0m\n\u001b[0;32m      1\u001b[0m \u001b[38;5;28;01mdef\u001b[39;00m \u001b[38;5;21mlenght\u001b[39m(liste):\n\u001b[0;32m      2\u001b[0m     \u001b[38;5;28;01mreturn\u001b[39;00m \u001b[38;5;28mlen\u001b[39m(liste)\n\u001b[1;32m----> 4\u001b[0m \u001b[43mexo_lenght\u001b[49m\u001b[38;5;241m.\u001b[39mcorrection(lenght)\n",
      "\u001b[1;31mNameError\u001b[0m: name 'exo_lenght' is not defined"
     ]
    }
   ],
   "source": [
    "def lenght(liste):\n",
    "    longueur = #TODO\n",
    "    return longueur\n",
    "\n",
    "exo_lenght.correction(lenght)"
   ]
  },
  {
   "cell_type": "code",
   "execution_count": null,
   "metadata": {},
   "outputs": [],
   "source": [
    "def is_empty(liste):\n",
    "    est_vide = #TODO\n",
    "    return est_vide\n",
    "\n",
    "exo_is_empty.correction(is_empty)"
   ]
  },
  {
   "cell_type": "markdown",
   "metadata": {},
   "source": [
    "### Looping through a list"
   ]
  },
  {
   "cell_type": "markdown",
   "metadata": {},
   "source": [
    "Complétez le code suivant, puis exécutez la cellule pour faire apparaître la liste suivante:\n",
    "\n",
    "janvier<br>\n",
    "février<br>\n",
    "mars<br>\n",
    "avril<br>\n",
    "mai<br>\n",
    "juin<br>\n",
    "juillet<br>\n",
    "août<br>\n",
    "septembre<br>\n",
    "octobre<br>\n",
    "novembre<br>\n",
    "décembre<br>"
   ]
  },
  {
   "cell_type": "code",
   "execution_count": 24,
   "metadata": {},
   "outputs": [
    {
     "name": "stdout",
     "output_type": "stream",
     "text": [
      "janvier\n",
      "février\n",
      "mars\n",
      "avril\n",
      "mai\n",
      "juin\n",
      "juillet\n",
      "août\n",
      "septembre\n",
      "octobre\n",
      "novembre\n",
      "décembre\n"
     ]
    }
   ],
   "source": [
    "def loop_over(liste):\n",
    "    ... item ... liste:\n",
    "        print(item)\n",
    "\n",
    "loop_over([\"janvier\", \"février\", \"mars\", \"avril\", \"mai\", \"juin\", \"juillet\", \"août\", \"septembre\", \"octobre\", \"novembre\", \"décembre\"])"
   ]
  },
  {
   "cell_type": "markdown",
   "metadata": {},
   "source": [
    "### Vérifier si un élémen existe dans une liste"
   ]
  },
  {
   "cell_type": "markdown",
   "metadata": {},
   "source": [
    "Si 3 est dans **liste**, alors assignez *True* à **existe_dans_liste**, sinon assignez *False*."
   ]
  },
  {
   "cell_type": "code",
   "execution_count": null,
   "metadata": {},
   "outputs": [],
   "source": [
    "exo_trois_existe_dans_liste.example()"
   ]
  },
  {
   "cell_type": "code",
   "execution_count": null,
   "metadata": {},
   "outputs": [],
   "source": [
    "def trois_existe_dans_liste(liste):\n",
    "    existe_dans_liste = \n",
    "\n",
    "    # Ne rien changer après cette ligne\n",
    "    return existe_dans_liste\n",
    "\n",
    "exo_trois_existe_dans_liste.correction(trois_existe_dans_liste)"
   ]
  },
  {
   "cell_type": "markdown",
   "metadata": {},
   "source": [
    "### Vérifier si un élémen est plus grand que 5 dans une liste"
   ]
  },
  {
   "cell_type": "markdown",
   "metadata": {},
   "source": [
    "Prenez une liste, celle-ci par exemple : "
   ]
  },
  {
   "cell_type": "code",
   "execution_count": null,
   "metadata": {},
   "outputs": [],
   "source": [
    "exo_less_than_10.example()"
   ]
  },
  {
   "cell_type": "markdown",
   "metadata": {},
   "source": [
    "Assignez la liste de tous les éléments de **liste_moins_que_5** inférieur à 5 à **moins_que_5**. S'il n'y a pas d'élément inférieur à 5, alors assignez une liste vide à **liste_moins_que_5**"
   ]
  },
  {
   "cell_type": "code",
   "execution_count": null,
   "metadata": {},
   "outputs": [],
   "source": [
    "def less_than_5(liste):\n",
    "    liste_moins_que_5 = #TODO\n",
    "\n",
    "    # Ne rien changer après cette ligne\n",
    "    return liste_moins_que_5\n",
    "\n",
    "exo_less_than_5.correction(less_than_5)"
   ]
  }
 ],
 "metadata": {
  "kernelspec": {
   "display_name": "Python 3.10.7 64-bit (microsoft store)",
   "language": "python",
   "name": "python3"
  },
  "language_info": {
   "codemirror_mode": {
    "name": "ipython",
    "version": 3
   },
   "file_extension": ".py",
   "mimetype": "text/x-python",
   "name": "python",
   "nbconvert_exporter": "python",
   "pygments_lexer": "ipython3",
   "version": "3.10.8"
  },
  "orig_nbformat": 4,
  "vscode": {
   "interpreter": {
    "hash": "ab330c63be1774c7d4efd28485dada9f7c6eb3392ec4de9472ccb4da1daed7d7"
   }
  }
 },
 "nbformat": 4,
 "nbformat_minor": 2
}
