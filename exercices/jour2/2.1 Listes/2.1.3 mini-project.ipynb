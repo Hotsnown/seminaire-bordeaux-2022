{
 "cells": [
  {
   "cell_type": "code",
   "execution_count": null,
   "metadata": {},
   "outputs": [],
   "source": [
    "%git clone https://github.com/Hotsnown/seminaire-bordeaux-2022.git seminaire &> /dev/null\n",
    "%pip install nbautoeval &> /dev/null\n",
    "from seminaire.evaluation.jour2.listes.project import exo_remove_ponctuation, exo_palindrome, exo_inverser_string"
   ]
  },
  {
   "cell_type": "markdown",
   "metadata": {},
   "source": [
    "### Supprimer la ponctuation"
   ]
  },
  {
   "cell_type": "markdown",
   "metadata": {},
   "source": [
    "astuce : Dans ce programme, nous définissons d'abord une chaîne de ponctuations. Ensuite, nous itérons sur la chaîne fournie en utilisant une boucle for.\n",
    "\n",
    "A chaque itération, nous vérifions si le caractère est un signe de ponctuation ou non en utilisant le test d'appartenance. Nous avons une chaîne vide à laquelle nous ajoutons (concaténons) le caractère s'il n'est pas une ponctuation. Enfin, nous affichons la chaîne nettoyée."
   ]
  },
  {
   "cell_type": "code",
   "execution_count": null,
   "metadata": {},
   "outputs": [],
   "source": [
    "def remove_punct(string):\n",
    "    return \"\"\n",
    "\n",
    "exo_remove_ponctuation.correction(remove_punct)"
   ]
  },
  {
   "cell_type": "markdown",
   "metadata": {},
   "source": [
    "### Supprimer les emojis"
   ]
  },
  {
   "cell_type": "markdown",
   "metadata": {},
   "source": [
    "astuce : Dans ce programme, nous définissons d'abord une chaîne de ponctuations. Ensuite, nous itérons sur **string** en utilisant une boucle for.\n",
    "\n",
    "A chaque itération, nous vérifions si le caractère est un signe de ponctuation ou non en utilisant le test d'appartenance. Nous avons une chaîne vide à laquelle nous ajoutons (concaténons) le caractère s'il n'est pas une ponctuation. Enfin, nous affichons la chaîne nettoyée."
   ]
  },
  {
   "cell_type": "code",
   "execution_count": null,
   "metadata": {},
   "outputs": [],
   "source": [
    "def remove_emojis(string):\n",
    "    return \"\"\n",
    "\n",
    "exo_remove_emojis.correction(remove_emojis)"
   ]
  },
  {
   "cell_type": "markdown",
   "metadata": {},
   "source": [
    "### Renverser le string"
   ]
  },
  {
   "cell_type": "markdown",
   "metadata": {},
   "source": [
    "L'inverse de *emphytéotique* est *euqitoétyhpme*\n",
    "\n",
    "Assignez l'inverse de **string** à **mon_string_inversé**."
   ]
  },
  {
   "cell_type": "code",
   "execution_count": null,
   "metadata": {},
   "outputs": [],
   "source": [
    "exo_inverser_string.example()"
   ]
  },
  {
   "cell_type": "code",
   "execution_count": null,
   "metadata": {},
   "outputs": [],
   "source": [
    "def inverser_string(string):\n",
    "\n",
    "    mon_string_inversé = \n",
    "\n",
    "    #Ne rien changer après cette ligne\n",
    "    return mon_string_inversé\n",
    "\n",
    "exo_inverser_string.correction(inverser_string)"
   ]
  },
  {
   "cell_type": "markdown",
   "metadata": {},
   "source": [
    "### Palindrome"
   ]
  },
  {
   "cell_type": "markdown",
   "metadata": {},
   "source": [
    "Une phrase ou un mot est un palindrome si l'ordre des lettres reste le même qu'on les lise de gauche à droite ou de droite à gauche. Par exemple, \"radar\" est un palindrome, mais \"radix\" n'est pas un palindrome.\n",
    "\n",
    "Assignez **True** à **est_palindrome** si **string** est un palindrome, sinon assignez **False**. <br/>"
   ]
  },
  {
   "cell_type": "code",
   "execution_count": null,
   "metadata": {},
   "outputs": [],
   "source": [
    "exo_palindrome.example()"
   ]
  },
  {
   "cell_type": "code",
   "execution_count": null,
   "metadata": {},
   "outputs": [],
   "source": [
    "def est_palindrome(string):\n",
    "    return False\n",
    "\n",
    "exo_palindrome.correction(est_palindrome)"
   ]
  }
 ],
 "metadata": {
  "kernelspec": {
   "display_name": "Python 3.10.7 64-bit (microsoft store)",
   "language": "python",
   "name": "python3"
  },
  "language_info": {
   "name": "python",
   "version": "3.10.8"
  },
  "orig_nbformat": 4,
  "vscode": {
   "interpreter": {
    "hash": "ab330c63be1774c7d4efd28485dada9f7c6eb3392ec4de9472ccb4da1daed7d7"
   }
  }
 },
 "nbformat": 4,
 "nbformat_minor": 2
}
