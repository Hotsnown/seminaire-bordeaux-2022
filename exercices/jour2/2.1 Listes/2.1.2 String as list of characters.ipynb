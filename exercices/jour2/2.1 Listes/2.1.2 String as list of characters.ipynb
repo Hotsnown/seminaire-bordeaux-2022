{
 "cells": [
  {
   "cell_type": "code",
   "execution_count": null,
   "metadata": {},
   "outputs": [],
   "source": [
    "%git clone https://github.com/Hotsnown/seminaire-bordeaux-2022.git seminaire &> /dev/null\n",
    "%pip install nbautoeval &> /dev/null\n",
    "from evaluation.jour2.listes.listes import exo_create_list, exo_add_list, exo_lenght, exo_get_item, exo_is_empty, exo_less_than_5, exo_first_last"
   ]
  },
  {
   "cell_type": "markdown",
   "metadata": {},
   "source": [
    "## Strings as lists"
   ]
  },
  {
   "cell_type": "markdown",
   "metadata": {},
   "source": [
    "Given a list of strings. The task is to find the index of the character position for the word, which lies at the Kth index in the list of strings."
   ]
  },
  {
   "cell_type": "code",
   "execution_count": null,
   "metadata": {},
   "outputs": [],
   "source": [
    "def "
   ]
  },
  {
   "cell_type": "markdown",
   "metadata": {},
   "source": [
    "## String to list"
   ]
  },
  {
   "cell_type": "markdown",
   "metadata": {},
   "source": [
    "### SPLIT"
   ]
  },
  {
   "cell_type": "markdown",
   "metadata": {},
   "source": [
    "Split the string based on space character: \" \"."
   ]
  },
  {
   "cell_type": "code",
   "execution_count": null,
   "metadata": {},
   "outputs": [],
   "source": [
    "exo_split_espace.example()"
   ]
  },
  {
   "cell_type": "code",
   "execution_count": null,
   "metadata": {},
   "outputs": [],
   "source": [
    "def split_espace(string):\n",
    "    ma_liste = #TODO\n",
    "    \n",
    "    #Ne rien changer après cette ligne\n",
    "    return ma_liste"
   ]
  },
  {
   "cell_type": "markdown",
   "metadata": {},
   "source": [
    "Split the numbers.\n",
    "\n",
    "Astuce : .split(\"mon_caractère\") method can be used to split strings based on a given character. It returns a list of split substrings."
   ]
  },
  {
   "cell_type": "code",
   "execution_count": null,
   "metadata": {},
   "outputs": [],
   "source": [
    "exo_split_douple_point.example()"
   ]
  },
  {
   "cell_type": "code",
   "execution_count": null,
   "metadata": {},
   "outputs": [],
   "source": [
    "def split_double_point(string):\n",
    "    ma_liste = #TODO\n",
    "    \n",
    "    #Ne rien changer après cette ligne\n",
    "    return ma_liste\n",
    "\n",
    "exo_split_douple_point.correction(split_double_point)"
   ]
  },
  {
   "cell_type": "markdown",
   "metadata": {},
   "source": [
    "Using the split method, split the string with semi colon (;) first. Then, print only the last element."
   ]
  },
  {
   "cell_type": "code",
   "execution_count": null,
   "metadata": {},
   "outputs": [],
   "source": [
    "exo_split_point_virgule.example()"
   ]
  },
  {
   "cell_type": "code",
   "execution_count": null,
   "metadata": {},
   "outputs": [],
   "source": [
    "def split_point_virgule(string):\n",
    "    ma_liste = #TODO\n",
    "    \n",
    "    #Ne rien changer après cette ligne\n",
    "    return ma_liste\n",
    "\n",
    "exo_split_point_virgule.correction(split_point_virgule)"
   ]
  },
  {
   "cell_type": "markdown",
   "metadata": {},
   "source": [
    "### JOIN"
   ]
  },
  {
   "cell_type": "markdown",
   "metadata": {},
   "source": [
    "Transformez **liste** en string, joint par des espaces, et assignez la à **mon_string**"
   ]
  },
  {
   "cell_type": "code",
   "execution_count": null,
   "metadata": {},
   "outputs": [],
   "source": [
    "exo_liste_vers_string.example()"
   ]
  },
  {
   "cell_type": "code",
   "execution_count": null,
   "metadata": {},
   "outputs": [],
   "source": [
    "def liste_vers_string(liste):\n",
    "    mon_string = \n",
    "    \n",
    "    # Ne rien changer après cette ligne\n",
    "    return mon_string\n",
    "\n",
    "exo_liste_vers_string.correction(liste_vers_string)"
   ]
  },
  {
   "cell_type": "markdown",
   "metadata": {},
   "source": [
    "Transformez **liste** en string, joint par des virgules, et assignez la à **mon_string**"
   ]
  },
  {
   "cell_type": "code",
   "execution_count": null,
   "metadata": {},
   "outputs": [],
   "source": [
    "exo_liste_vers_string_avec_espaces.example()"
   ]
  },
  {
   "cell_type": "code",
   "execution_count": null,
   "metadata": {},
   "outputs": [],
   "source": [
    "def liste_vers_string_avec_espaces(liste):\n",
    "    mon_string = \n",
    "    \n",
    "    # Ne rien changer après cette ligne\n",
    "    return mon_string\n",
    "\n",
    "exo_liste_vers_string_avec_espaces.correction(liste_vers_string_avec_espaces)"
   ]
  },
  {
   "cell_type": "markdown",
   "metadata": {},
   "source": [
    "\"\\n\" est un caractère qui crée une nouvelle ligne. (Comme lorsque vous appuyez sur la touche Entrée dans votre éditeur de texte).<br/>\n",
    "\n",
    "À l'aide du caractère \"\\n\" et de la méthode .join(), transformez **liste** en string, joint par des retours à la ligne, et assignez la à **mon_string** de manière à ce que **mon_string** ressemblent à un véritable poème."
   ]
  },
  {
   "cell_type": "code",
   "execution_count": null,
   "metadata": {},
   "outputs": [],
   "source": [
    "def liste_vers_string_avec_retour_ligne(liste):\n",
    "    mon_string = \n",
    "    \n",
    "    # Ne rien changer après cette ligne\n",
    "    return mon_string\n",
    "\n",
    "exo_liste_vers_string_avec_retour_ligne.correction(liste_vers_string_avec_retour_ligne)"
   ]
  }
 ],
 "metadata": {
  "kernelspec": {
   "display_name": "Python 3.10.7 64-bit (microsoft store)",
   "language": "python",
   "name": "python3"
  },
  "language_info": {
   "codemirror_mode": {
    "name": "ipython",
    "version": 3
   },
   "file_extension": ".py",
   "mimetype": "text/x-python",
   "name": "python",
   "nbconvert_exporter": "python",
   "pygments_lexer": "ipython3",
   "version": "3.10.8"
  },
  "orig_nbformat": 4,
  "vscode": {
   "interpreter": {
    "hash": "ab330c63be1774c7d4efd28485dada9f7c6eb3392ec4de9472ccb4da1daed7d7"
   }
  }
 },
 "nbformat": 4,
 "nbformat_minor": 2
}
