{
  "nbformat": 4,
  "nbformat_minor": 0,
  "metadata": {
    "colab": {
      "provenance": []
    },
    "kernelspec": {
      "name": "python3",
      "display_name": "Python 3"
    },
    "language_info": {
      "name": "python"
    }
  },
  "cells": [
    {
      "cell_type": "code",
      "execution_count": null,
      "metadata": {
        "id": "qsNNNrHQx07g"
      },
      "outputs": [],
      "source": [
        "Opérateurs de comparaison\n",
        "En programmation, nous comparons des valeurs, nous utilisons des opérateurs de comparaison pour comparer deux valeurs. Nous vérifions si une valeur est supérieure, inférieure ou égale à une autre valeur. Le tableau suivant montre les opérateurs de comparaison Python qui ont été pris de w3shool.\n",
        "\n",
        "Exemple d'opérateurs de comparaison : Opérateurs de comparaison\n",
        "\n",
        "print(3 > 2) # Vrai, car 3 est supérieur à 2\n",
        "print(3 >= 2) # Vrai, car 3 est supérieur à 2\n",
        "print(3 < 2) # Faux, car 3 est supérieur à 2\n",
        "print(2 < 3) # Vrai, car 2 est inférieur à 3\n",
        "print(2 <= 3) # Vrai, car 2 est inférieur à 3\n",
        "print(3 == 2) # Faux, car 3 n'est pas égal à 2\n",
        "print(3 != 2) # Vrai, car 3 n'est pas égal à 2\n",
        "print(len('mango') == len('avocado'))  # Faux\n",
        "print(len('mango') != len('avocado'))  # Vrai\n",
        "print(len('mango') < len('avocado'))   # Vrai\n",
        "print(len('milk') != len('meat'))      # Faux\n",
        "print(len('milk') == len('meat'))      # Vrai\n",
        "print(len('tomate') == len('pomme de terre'))  # vrai\n",
        "print(len('python') > len('dragon'))   # Faux\n",
        "\n",
        "\n",
        "# Comparer quelque chose donne soit un Vrai soit un Faux\n",
        "\n",
        "print('True == True : ', True == True)\n",
        "print('True == False : ', True == False)\n",
        "print('False == False : ', False == False)\n",
        "En plus de l'opérateur de comparaison ci-dessus, Python utilise :\n",
        "\n",
        "is : Retourne vrai si les deux variables sont le même objet(x is y)\n",
        "is not : Retourne vrai si les deux variables ne sont pas le même objet (x n'est pas y).\n",
        "in : Retourne Vrai si la liste interrogée contient un certain élément(x in y)\n",
        "not in : Retourne Vrai si la liste interrogée ne contient pas un certain élément(x in y)\n",
        "print('1 is 1', 1 is 1) # Vrai - parce que les valeurs des données sont les mêmes\n",
        "print('1 is not 2', 1 is not 2) # Vrai - parce que 1 n'est pas 2\n",
        "print('A in Asabeneh', 'A' in 'Asabeneh') # Vrai - A trouvé dans la chaîne de caractères\n",
        "print('B in Asabeneh', 'B' in 'Asabeneh') # False - il n'y a pas de B majuscule\n",
        "print('coding' in 'coding for all') # True - car coding for all contient le mot coding\n",
        "print('a in an:', 'a' in 'an') # Vrai\n",
        "print('4 is 2 ** 2:', 4 is 2 ** 2) # Vrai\n",
        "Opérateurs logiques\n",
        "Contrairement aux autres langages de programmation, python utilise les mots-clés and, or et not pour les opérateurs logiques. Les opérateurs logiques sont utilisés pour combiner des déclarations conditionnelles :\n",
        "\n",
        "Opérateurs logiques\n",
        "\n",
        "print(3 > 2 et 4 > 3) # Vrai - car les deux déclarations sont vraies\n",
        "print(3 > 2 and 4 < 3) # False - parce que la deuxième affirmation est fausse\n",
        "print(3 < 2 et 4 < 3) # Faux - parce que les deux affirmations sont fausses\n",
        "print('Vrai et Vrai : ', Vrai et Vrai)\n",
        "print(3 > 2 ou 4 > 3) # Vrai - parce que les deux affirmations sont vraies\n",
        "print(3 > 2 or 4 < 3) # True - parce que l'une des déclarations est vraie\n",
        "print(3 < 2 ou 4 < 3) # False - parce que les deux affirmations sont fausses\n",
        "print('Vrai ou Faux:', Vrai ou Faux)\n",
        "print(not 3 > 2) # False - parce que 3 > 2 est vrai, alors not True donne False\n",
        "print(not True) # False - La négation, l'opérateur not transforme le vrai en faux.\n",
        "print(not False) # Vrai\n",
        "print(not not True) # Vrai\n",
        "print(not not False) # Faux\n",
        "🌕 Vous avez une énergie débordante. Vous venez de terminer les défis du troisième jour et vous avez trois pas d'avance sur votre chemin vers la grandeur. Maintenant, faites quelques exercices pour votre cerveau et vos muscles."
      ]
    }
  ]
}