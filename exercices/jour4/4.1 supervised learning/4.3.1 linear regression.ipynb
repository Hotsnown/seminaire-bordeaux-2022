{
  "cells": [
    {
      "cell_type": "code",
      "execution_count": null,
      "metadata": {},
      "outputs": [],
      "source": [
        "!git clone https://github.com/Hotsnown/seminaire-bordeaux-2022.git seminaire &> /dev/null\n",
        "%pip install nbautoeval &> /dev/null\n",
        "!git clone https://github.com/chinmusique/outcome-prediction.git &> /dev/null\n",
        "import pandas as pd\n",
        "import matplotlib.pyplot as plt\n",
        "#from seminaire.evaluation.jour4.supervisedlearning.linear_regression import "
      ]
    },
    {
      "cell_type": "markdown",
      "metadata": {
        "id": "RpoIB_ELGV-P"
      },
      "source": [
        "# Régression Linéaire\n",
        "\n",
        "Une introduction aux statistiques\n",
        "\n",
        "### I. Import"
      ]
    },
    {
      "cell_type": "code",
      "execution_count": null,
      "metadata": {},
      "outputs": [],
      "source": [
        "import pandas as pd\n",
        "df = pd.read_csv(\"préavis2.csv\")\n",
        "\n",
        "#TODO: Quelles sont les colonnes de ce dataset ?"
      ]
    },
    {
      "cell_type": "markdown",
      "metadata": {},
      "source": [
        "### II. Régression linéaire à une variable\n"
      ]
    },
    {
      "cell_type": "code",
      "execution_count": null,
      "metadata": {},
      "outputs": [],
      "source": [
        "#Scatter plot\n",
        "plt.figure(figsize=(15,10))\n",
        "plt.scatter(df['Durée de la relation (en mois)'], df['Durée raisonnable'])\n",
        "\n",
        "#Légendes\n",
        "plt.xlabel(\"Durée de la relation (en mois)\", fontsize = 12)\n",
        "plt.ylabel(\"Durée Préavis\", fontsize = 12)\n",
        "plt.title(\"Relation entre la durée de la relation et la durée raisonnable de préavis\")\n",
        "\n",
        "plt.show()"
      ]
    },
    {
      "cell_type": "markdown",
      "metadata": {},
      "source": [
        "La façon la plus simple de prédire le résultat d'une décision de justice en matière de rupture brutale - sans utiliser aucune autre variable - est de prendre la durée moyenne jugée raisonnable par les magistrats :\n"
      ]
    },
    {
      "cell_type": "code",
      "execution_count": null,
      "metadata": {},
      "outputs": [],
      "source": [
        "baseline = df['Durée raisonnable'].mean()\n",
        "print (baseline)"
      ]
    },
    {
      "cell_type": "markdown",
      "metadata": {},
      "source": [
        "Disons que la moyenne est de 8.7.\n",
        "\n",
        "Si je veux prédire la durée raisonnable  de préavis, je dis simplement qu'elle doit être de 8,7 mois, indépendamment de tous les autres facteurs qui influent sur le caractère raisonnable.\n",
        "\n",
        "Cette moyenne simple est appelée baseline (car si vous la placez dans un graphique, elle sera une ligne droite, indépendamment de toute autre variable) :"
      ]
    },
    {
      "cell_type": "code",
      "execution_count": null,
      "metadata": {
        "colab": {
          "base_uri": "https://localhost:8080/",
          "height": 625
        },
        "id": "8CmtPG6bGdFX",
        "outputId": "b55dc862-0c53-4992-e19e-189574be156c"
      },
      "outputs": [
        {
          "data": {
            "image/png": "[encoded data removed]",
            "text/plain": [
              "<Figure size 1080x720 with 1 Axes>"
            ]
          },
          "metadata": {},
          "output_type": "display_data"
        }
      ],
      "source": [
        "%matplotlib inline\n",
        "\n",
        "import matplotlib.pyplot as plt\n",
        "plt.figure(figsize=(40, 20))\n",
        "plt.scatter(df['Durée de la relation (en mois)'], df['Durée raisonnable'])\n",
        "plt.hlines(baseline, 0, 800, color = 'red', label=\"Baseline\")\n",
        "\n",
        "plt.xlabel(\"Durée de la relation (en mois)\", fontsize = 30)\n",
        "plt.ylabel(\"Durée Préavis\", fontsize = 30)\n",
        "plt.title(\"Relation entre la durée de la relation et la durée raisonnable de préavis\")\n",
        "\n",
        "plt.show()"
      ]
    },
    {
      "cell_type": "markdown",
      "metadata": {},
      "source": [
        "Comme vous pouvez le constater, dans cet exemple, la ligne de base ne prédit jamais la valeur correcte, s'en rapproche seulement quelques fois mais - pire encore - ne suit pas du tout la tendance : si la température est inférieure ou supérieure à la moyenne, cela n'a aucune importance.\n",
        "\n",
        "Voyons maintenant un modèle statistique plus sophistiqué : le modèle de régression linéaire et voyons s'il est meilleur que notre modèle de base.\n",
        "\n",
        "La régression linéaire est l'un (un simple) des algorithmes d'apprentissage supervisé faisant partie de l'apprentissage automatique.\n",
        "\n",
        "L'apprentissage supervisé signifie que des exemples avec les bonnes réponses (labels) sont utilisés pour construire (ou former) le modèle qui extrapole et prédit ensuite les résultats en fonction de différentes entrées. L'apprentissage non supervisé se fait sans données étiquetées au préalable.\n",
        "\n",
        "Dans notre cas, nous disposons de données étiquetées : la durée jugée raisonnable par les magistrats. L'idée est de \"former\" notre modèle sur ces exemples afin qu'il soit capable de prédire les décisions futures."
      ]
    },
    {
      "cell_type": "markdown",
      "metadata": {},
      "source": [
        "#### A. Le modèle de régression linéaire"
      ]
    },
    {
      "cell_type": "code",
      "execution_count": 6,
      "metadata": {
        "id": "W0x46NxHGW_W"
      },
      "outputs": [],
      "source": [
        "import pandas as pd\n",
        "import numpy as np\n",
        "import matplotlib.pyplot as plt\n",
        "import sklearn.linear_model as lm\n",
        "import math\n",
        "from scipy import stats"
      ]
    },
    {
      "cell_type": "markdown",
      "metadata": {},
      "source": [
        "Le modèle de régression de base est le modèle de régression à variable unique, où la variable indépendante - x - est unique :"
      ]
    },
    {
      "cell_type": "markdown",
      "metadata": {},
      "source": [
        "$$y=\\beta_0+\\beta_1⋅x$$"
      ]
    },
    {
      "cell_type": "markdown",
      "metadata": {},
      "source": [
        "Le but de la régression linéaire est de créer une ligne prédictive à travers les données.\n",
        "- Bêta0 et Bêta1 sont des coefficients spécialement sélectionnés.\n",
        "- Bêta0 = intercept de la ligne\n",
        "- Bêta1 = pente de la ligne\n",
        "\n",
        "Voyons un exemple, en utilisant comme variable indépendante x la durée de la relation :\n",
        "- y = durée jugée raisonnable de préavis\n",
        "- x = durée de la relation\n",
        "\n",
        "Cela signifie que la durée jugée raisonnable augmentera / diminuera linéairement en fonction de l'augmentation / diminution de la durée de la relation. Voyons à quoi ressemblerait la relation avec y = 1/12 * x - 0 (coefficients bêta choisis arbitrairement, juste pour suivre plus ou moins la tendance) :"
      ]
    },
    {
      "cell_type": "code",
      "execution_count": null,
      "metadata": {},
      "outputs": [],
      "source": [
        "import numpy as np\n",
        "x = np.linspace(0, 800, 10)  \n",
        "y = (1/12) * x - 0\n",
        "plt.figure(figsize=(40, 20))\n",
        "plt.scatter(df['Durée de la relation (en mois)'], df['Durée raisonnable'])\n",
        "plt.hlines(baseline, 0, 800, color = 'red', label=\"Baseline\")\n",
        "\n",
        "plt.plot(x,y, label=\"Régression Linéaire Simple\")\n",
        "plt.legend(loc=\"upper left\")\n",
        "plt.xlabel(\"Durée de la relation (en mois)\", fontsize = 30)\n",
        "plt.ylabel(\"Durée Préavis\", fontsize = 30)\n",
        "plt.title(\"Relation entre la durée de la relation et la durée raisonnable de préavis\",  fontsize = 30)\n",
        "plt.grid()\n",
        "plt.show()"
      ]
    },
    {
      "cell_type": "markdown",
      "metadata": {},
      "source": [
        "TODO: Quelle est la ligne qui correspond le mieux aux données ?<br/>\n",
        "TODO: La fonction y = 1/12 * x - 0 n'a pas été choisie au hasard. Quelle est sa signification?<br/>"
      ]
    },
    {
      "cell_type": "markdown",
      "metadata": {},
      "source": [
        "### B. Comment trouver le meilleur modèle"
      ]
    },
    {
      "cell_type": "markdown",
      "metadata": {},
      "source": [
        "La simple ligne bleue semble meilleure que la ligne de base, mais l'est-elle vraiment ?<br/>\n",
        "Et existe-t-il de meilleurs modèles ?<br/>\n",
        "Comment mesurer l'\"adéquation\" d'un modèle ?<br/>\n",
        "\n",
        "Chaque modèle fait des erreurs.<br/>\n",
        "\n",
        "Nous pouvons représenter la relation entre les observations et les prédictions comme suit :<br/>"
      ]
    },
    {
      "cell_type": "markdown",
      "metadata": {},
      "source": [
        "$$y_i=\\beta_0+\\beta_1⋅x_i+\\varepsilon_i$$"
      ]
    },
    {
      "cell_type": "markdown",
      "metadata": {},
      "source": [
        "$$ \\beta_0 $$= variable dépendante (durée jugée raisonnable) pour la i-ème observation (Cible).<br/>\n",
        "\n",
        "\n",
        "$$ \\beta_1 $$ = Variable indépendante (durée de la relation) pour la i-ème observation (Caractéristiques).<br/>\n",
        "\n",
        "\n",
        "$$ \\varepsilon_i $$ = terme d'erreur pour la i-ème observation (Résidu).<br/>\n",
        "\n",
        "\n",
        "Ces résidus sont la clé pour mesurer la qualité d'un modèle et pour comparer les modèles entre eux. Voyons un exemple lié au premier point de données :"
      ]
    },
    {
      "cell_type": "code",
      "execution_count": null,
      "metadata": {},
      "outputs": [],
      "source": [
        "df.iloc[0]\n"
      ]
    },
    {
      "cell_type": "markdown",
      "metadata": {},
      "source": [
        "la durée de la relation était de 48 mois pour cette décision, et la durée jugée raisonnable est de 6 mois.\n",
        "\n"
      ]
    },
    {
      "cell_type": "code",
      "execution_count": null,
      "metadata": {},
      "outputs": [],
      "source": [
        "durée_raisonnable_2017 = df.iloc[0][\"Durée raisonnable\"]\n",
        "durée_raisonnable_2017\n"
      ]
    },
    {
      "cell_type": "code",
      "execution_count": null,
      "metadata": {},
      "outputs": [],
      "source": [
        "durée_relation_2017 = df.iloc[0][\"Durée de la relation (en mois)\"]\n",
        "durée_relation_2017"
      ]
    },
    {
      "cell_type": "markdown",
      "metadata": {},
      "source": [
        "Le modèle simple y=(1/12) * x - 0 prédirait pour une durée de la relation de 48 mois une durée raisonnable de 4 mois :\n",
        "\n"
      ]
    },
    {
      "cell_type": "code",
      "execution_count": null,
      "metadata": {},
      "outputs": [],
      "source": [
        "durée_prédite = (1/12) * durée_relation_2017 - 0; print (durée_prédite)\n",
        "durée_prédite"
      ]
    },
    {
      "cell_type": "markdown",
      "metadata": {},
      "source": [
        "La différence entre la valeur réelle (6 mois) et la valeur prédite (4 mois) est le résidu.\n",
        "\n"
      ]
    },
    {
      "cell_type": "code",
      "execution_count": null,
      "metadata": {},
      "outputs": [],
      "source": [
        "durée_raisonnable_2017 - durée_prédite\n"
      ]
    },
    {
      "cell_type": "markdown",
      "metadata": {},
      "source": [
        "Le premier point de données est alors représenté par cette formule incluant les tracés résiduels :"
      ]
    },
    {
      "cell_type": "markdown",
      "metadata": {},
      "source": [
        "$$y_1=-0+(1/12)*⋅x_1+2$$"
      ]
    },
    {
      "cell_type": "markdown",
      "metadata": {},
      "source": [
        "#### C. Traces Résiduelles"
      ]
    },
    {
      "cell_type": "markdown",
      "metadata": {},
      "source": [
        "Traçons les résidus liés à cette ligne de régression simple, c'est-à-dire les lignes verticales qui séparent le point réel du point prédit.\n",
        "\n"
      ]
    },
    {
      "cell_type": "code",
      "execution_count": null,
      "metadata": {},
      "outputs": [],
      "source": [
        "y_bottom = 0\n",
        "y_top = 60\n",
        "y_range = y_top - y_bottom\n",
        "\n",
        "plt.figure(figsize=(40, 20))\n",
        "\n",
        "plt.ylim(y_bottom, y_top)\n",
        "plt.scatter(df[\"Durée de la relation (en mois)\"], df[\"Durée raisonnable\"]) # the actual points\n",
        "plt.plot(x,y, label=\"Simple Regression Linéaire\") # the regression line\n",
        "\n",
        "# now let's plot the residuals\n",
        "for i in range(0, len(df)):\n",
        "    # first we need the coordinates of the actual point\n",
        "    x_point = df[\"Durée de la relation (en mois)\"][i]\n",
        "    y_point = df[\"Durée raisonnable\"][i]\n",
        "    # then we need the say how long is the vertical line\n",
        "    # the vertical line must be between 0 and 1\n",
        "    y1 = (y_point - y_bottom) / y_range  # scale\n",
        "    y2 = (((1/12) * x_point - 0) - y_bottom) / y_range  # scale\n",
        "    # now we can plot the vertical RED residual line\n",
        "    plt.axvline(x_point, ymin=y1, ymax=y2, color=\"red\") \n",
        "\n",
        "plt.xlabel(\"Durée de la relation (en mois)\", fontsize = 30)\n",
        "plt.ylabel(\"Durée Préavis\", fontsize = 30)\n",
        "plt.title(\"Relation entre la durée de la relation et la durée raisonnable de préavis\",  fontsize = 30)\n",
        "plt.grid()"
      ]
    },
    {
      "cell_type": "markdown",
      "metadata": {},
      "source": [
        "Les résidus sont les lignes verticales rouges\n",
        "\n"
      ]
    },
    {
      "cell_type": "markdown",
      "metadata": {},
      "source": [
        "TODO : Quelle est le problème de l'heuristique y = (1/12) * x ?"
      ]
    },
    {
      "cell_type": "markdown",
      "metadata": {},
      "source": [
        "1. Jour 1\n",
        "    * Variables\n",
        "        * [exercice1](https://colab.research.google.com/github/Hotsnown/seminaire-bordeaux-2022/blob/master/exercices/jour1/1.%20variables/1.1%20helloworld.ipynb)\n",
        "        * [exercice2](https://colab.research.google.com/github/Hotsnown/seminaire-bordeaux-2022/blob/master/exercices/jour1/1.%20variables/1.2%20%C3%A9viter%20les%20errreurs%20de%20nommage.ipynb)\n",
        "        * [mini-projet](https://colab.research.google.com/github/Hotsnown/seminaire-bordeaux-2022/blob/master/exercices/jour1/1.%20variables/1.3%20mini-project.ipynb#scrollTo=RPB2xCMdA6lV)\n",
        "    * Strings\n",
        "        * [exercice1](https://colab.research.google.com/github/Hotsnown/seminaire-bordeaux-2022/blob/master/exercices/jour1/2.%20strings/2.1%20concat.ipynb)\n",
        "        * [exercice2](https://colab.research.google.com/github/Hotsnown/seminaire-bordeaux-2022/blob/master/exercices/jour1/2.%20strings/2.2%20string_methods.ipynb)\n",
        "        * [mini-projet](https://colab.research.google.com/github/Hotsnown/seminaire-bordeaux-2022/blob/master/exercices/jour1/2.%20strings/2.3%20mini-project.ipynb)\n",
        "    * Opérations\n",
        "        * [exercice1](https://colab.research.google.com/github/Hotsnown/seminaire-bordeaux-2022/blob/master/exercices/jour1/3.%20operations/3.1%20math.ipynb)\n",
        "        * [exercice2](https://colab.research.google.com/github/Hotsnown/seminaire-bordeaux-2022/blob/master/exercices/jour1/3.%20operations/3.2%20bool%C3%A9en.ipynb)\n",
        "        * [mini-projet](https://colab.research.google.com/github/Hotsnown/seminaire-bordeaux-2022/blob/master/exercices/jour1/3.%20operations/3.3%20mini-project.ipynb)\n",
        "\n",
        "2. Jour 2\n",
        "    * Listes\n",
        "        * [Définition](https://colab.research.google.com/github/Hotsnown/seminaire-bordeaux-2022/blob/master/exercices/jour2/2.1%20Listes/2.1.1%20d%C3%A9finition%20liste.ipynb?hl=fr)\n",
        "        * [Strings et listes](https://colab.research.google.com/github/Hotsnown/seminaire-bordeaux-2022/blob/master/exercices/jour2/2.1%20Listes/2.1.2%20String%20as%20list%20of%20characters.ipynb?hl=fr)\n",
        "        * [Mini-projet](https://colab.research.google.com/github/Hotsnown/seminaire-bordeaux-2022/blob/master/exercices/jour2/2.1%20Listes/2.1.3%20mini-project.ipynb?hl=fr)\n",
        "    * Fonctions\n",
        "        * [Définition I](https://colab.research.google.com/github/Hotsnown/seminaire-bordeaux-2022/blob/master/exercices/jour2/2.2%20Fonctions/2.2.1%20d%C3%A9finition%20fonctions.ipynb?hl=fr)\n",
        "        * [Définition II](https://colab.research.google.com/github/Hotsnown/seminaire-bordeaux-2022/blob/master/exercices/jour2/2.2%20Fonctions/2.2.2%20scope%20et%20fonctions%20imbriqu%C3%A9es.ipynb?hl=fr)\n",
        "        * [Mini-projet](https://colab.research.google.com/github/Hotsnown/seminaire-bordeaux-2022/blob/master/exercices/jour2/2.2%20Fonctions/2.2.3%20mini-project.ipynb?hl=fr) \n",
        "    * Librairies\n",
        "        * [Pandas](https://colab.research.google.com/github/Hotsnown/seminaire-bordeaux-2022/blob/master/exercices/jour2/2.3%20Librairies/2.3.1%20Pandas.ipynb?hl=fr)\n",
        "        * [Matplotlib](https://colab.research.google.com/github/Hotsnown/seminaire-bordeaux-2022/blob/master/exercices/jour2/2.3%20Librairies/2.3.2%20Matplotlib.ipynb?hl=fr)\n",
        "        * [Mini-projet](https://colab.research.google.com/github/Hotsnown/seminaire-bordeaux-2022/blob/master/exercices/jour2/2.3%20Librairies/2.3.3%20mini-project.ipynb?hl=fr) \n",
        "3. Jour 3\n",
        "    * Introduction à la NLP\n",
        "        * [Charger des un corpus](https://colab.research.google.com/github/Hotsnown/seminaire-bordeaux-2022/blob/master/exercices/jour3/3.1%20what%20is%20nlp/3.1.1%20Accessing%20Text.ipynb?hl=fr)\n",
        "        * [Traitement de texte dans Pandas](https://colab.research.google.com/github/Hotsnown/seminaire-bordeaux-2022/blob/master/exercices/jour3/3.1%20what%20is%20nlp/3.1.2%20Working%20with%20text%20data%20in%20pandas.ipynb?hl=fr)\n",
        "        * [Mini-projet](https://colab.research.google.com/github/Hotsnown/seminaire-bordeaux-2022/blob/master/exercices/jour3/3.1%20what%20is%20nlp/3.1.3%20mini-project.ipynb?hl=fr)\n",
        "    * Segmentation\n",
        "        * [Segmentation de tokens](https://colab.research.google.com/github/Hotsnown/seminaire-bordeaux-2022/blob/master/exercices/jour3/3.2%20Segmentation/3.2.1%20Token%20segmentation.ipynb?hl=fr)\n",
        "        * [Segmentation de phrase](https://colab.research.google.com/github/Hotsnown/seminaire-bordeaux-2022/blob/master/exercices/jour3/3.2%20Segmentation/3.2.2%20Sentence%20segmentation.ipynb?hl=fr)\n",
        "        * [Mini-projet](https://colab.research.google.com/github/Hotsnown/seminaire-bordeaux-2022/blob/master/exercices/jour3/3.2%20Segmentation/3.2.3%20mini-project.ipynb?hl=fr)\n",
        "    * Nettoyage de texte\n",
        "        * [Stopwords](https://colab.research.google.com/github/Hotsnown/seminaire-bordeaux-2022/blob/master/exercices/jour3/3.3%20text%20cleaning.ipynb/3.3.1%20stopwords.ipynb?hl=fr)\n",
        "        * [Normalisation](https://colab.research.google.com/github/Hotsnown/seminaire-bordeaux-2022/blob/master/exercices/jour3/3.3%20text%20cleaning.ipynb/3.3.2%20Normalizing%20Text.ipynb?hl=fr)\n",
        "        * [Mini-projet](https://colab.research.google.com/github/Hotsnown/seminaire-bordeaux-2022/blob/master/exercices/jour3/3.3%20text%20cleaning.ipynb/3.3.3%20mini-project.ipynb?hl=fr)\n",
        "4. Jour 4\n",
        "    * Apprentissage supervisé\n",
        "        * [Régression linéaire](https://colab.research.google.com/github/Hotsnown/seminaire-bordeaux-2022/blob/master/exercices/jour4/4.1%20supervised%20learning/4.3.1%20linear%20regression.ipynb?hl=fr)\n",
        "        * [Evaluation](https://colab.research.google.com/github/Hotsnown/seminaire-bordeaux-2022/blob/master/exercices/jour4/4.1%20supervised%20learning/4.3.2%20evaluale.ipynb?hl=fr)\n",
        "        * [Mini-projet](https://colab.research.google.com/github/Hotsnown/seminaire-bordeaux-2022/blob/master/exercices/jour4/4.1%20supervised%20learning/4.3.3%20mini-project.ipynb?hl=fr)\n",
        "    * Pré-traitement de texte\n",
        "        * [Featurization de textes](https://colab.research.google.com/github/Hotsnown/seminaire-bordeaux-2022/blob/master/exercices/jour4/4.2%20text%20preprocessing/4.2.1%20text%20featurization.ipynb?hl=fr)\n",
        "        * [Featurization de labels](https://colab.research.google.com/github/Hotsnown/seminaire-bordeaux-2022/blob/master/exercices/jour4/4.2%20text%20preprocessing/4.2.2%20label%20featurization.ipynb?hl=fr)\n",
        "        * [Mini-projet](https://colab.research.google.com/github/Hotsnown/seminaire-bordeaux-2022/blob/master/exercices/jour4/4.2%20text%20preprocessing/4.2.3%20mini-project.ipynb?hl=fr)\n",
        "    * Classification de texte\n",
        "        * [EDA](https://colab.research.google.com/github/Hotsnown/seminaire-bordeaux-2022/blob/master/exercices/jour4/4.3%20text%20classification/4.1.1%20EDA.ipynb?hl=fr)\n",
        "        * [Apprentissage supervisé textuel](https://colab.research.google.com/github/Hotsnown/seminaire-bordeaux-2022/blob/master/exercices/jour4/4.3%20text%20classification/4.1.1%20EDA.ipynb?hl=fr)\n",
        "        * [Mini-projet](https://colab.research.google.com/github/Hotsnown/seminaire-bordeaux-2022/blob/master/exercices/jour4/4.3%20text%20classification/4.1.3%20mini-project.ipynb?hl=fr)\n",
        "5. Jour 5\n",
        "    * [Projet final](https://colab.research.google.com/github/Hotsnown/seminaire-bordeaux-2022/blob/master/exercices/jour5/final-project.ipynb?hl=fr)"
      ]
    }
  ],
  "metadata": {
    "colab": {
      "provenance": []
    },
    "kernelspec": {
      "display_name": "Python 3.10.8 64-bit (microsoft store)",
      "language": "python",
      "name": "python3"
    },
    "language_info": {
      "codemirror_mode": {
        "name": "ipython",
        "version": 3
      },
      "file_extension": ".py",
      "mimetype": "text/x-python",
      "name": "python",
      "nbconvert_exporter": "python",
      "pygments_lexer": "ipython3",
      "version": "3.10.8"
    },
    "vscode": {
      "interpreter": {
        "hash": "ab330c63be1774c7d4efd28485dada9f7c6eb3392ec4de9472ccb4da1daed7d7"
      }
    }
  },
  "nbformat": 4,
  "nbformat_minor": 0
}
