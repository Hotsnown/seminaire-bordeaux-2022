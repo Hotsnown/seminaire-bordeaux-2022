{
  "cells": [
    {
      "cell_type": "code",
      "execution_count": 3,
      "metadata": {
        "id": "yTc8zCKOLfRk"
      },
      "outputs": [],
      "source": [
        "!git clone https://github.com/Hotsnown/seminaire-bordeaux-2022.git seminaire &> /dev/null"
      ]
    },
    {
      "cell_type": "markdown",
      "metadata": {},
      "source": [
        "# Introduction à l'apprentissage supervisé"
      ]
    },
    {
      "cell_type": "markdown",
      "metadata": {
        "id": "b0ivxfzoLfRp"
      },
      "source": [
        "### Étape 1 : Chargement des données"
      ]
    },
    {
      "cell_type": "code",
      "execution_count": null,
      "metadata": {
        "id": "5Vb7TZJnONxt"
      },
      "outputs": [],
      "source": [
        "import pandas as pd\n",
        "\n",
        "df = pd.read_csv(\"/content/seminaire/exercices/jour4/4.1 supervised learning/préavis2.csv\")\n",
        "df.head()"
      ]
    },
    {
      "cell_type": "markdown",
      "metadata": {
        "id": "YYePRX7eOR6l"
      },
      "source": [
        "TODO: Décrivez votre ensemble de données\n",
        "- Combien il y a t'il d'échantillons ?\n",
        "- Combien il y a t'il d'échantillons vides (N/A) ?"
      ]
    },
    {
      "cell_type": "code",
      "execution_count": null,
      "metadata": {
        "id": "v5Wsu5SuLfRp"
      },
      "outputs": [],
      "source": [
        "df = df.dropna()\n",
        "\n",
        "# stocker les features dans \"X\"\n",
        "X = df[\"Durée de la relation (en mois)\"]\n",
        "X= X.to_numpy().reshape(-1, 1)\n",
        "\n",
        "# stocker la cible dans \"y\"\n",
        "y = df[\"Durée du préavis\"]"
      ]
    },
    {
      "cell_type": "markdown",
      "metadata": {
        "id": "a7wD6X2cOTnN"
      },
      "source": [
        "Classification par K voisins les plus proches (KNN)<br/>\n",
        "\n",
        "1. Choisissez une valeur pour K.<br/>\n",
        "2. Recherchez les K observations de durée de relation dans les données d'apprentissage qui sont \"les plus proches\" des durées jugées raisonnables.<br/>\n",
        "3. Utilisez la valeur de réponse la plus populaire parmi les K voisins les plus proches comme valeur de réponse prédite pour la durée raisonnable.<br/>"
      ]
    },
    {
      "cell_type": "markdown",
      "metadata": {
        "id": "f04Iw8a9LfRr"
      },
      "source": [
        "### Étape 2 : Instancier l'estimateur.\n",
        "\n",
        "\"Estimateur\" est le terme de scikit-learn pour un modèle."
      ]
    },
    {
      "cell_type": "code",
      "execution_count": 24,
      "metadata": {
        "id": "2MPVfURdLfRr"
      },
      "outputs": [],
      "source": [
        "from sklearn.neighbors import KNeighborsClassifier\n",
        "\n",
        "#TODO: Instanciez un estimateur KNeighborsClassifier avec n_neighbors=1\n",
        "knn = \n"
      ]
    },
    {
      "cell_type": "markdown",
      "metadata": {
        "id": "H1-mSadALfRr"
      },
      "source": [
        "Le nom de l'objet n'a pas d'importance<br/>\n",
        "Vous pouvez spécifier les paramètres d'ajustement (aussi appelés \"hyperparamètres\") au cours de cette étape.<br/>\n",
        "Tous les paramètres non spécifiés sont définis par défaut.<br/>"
      ]
    },
    {
      "cell_type": "code",
      "execution_count": 25,
      "metadata": {
        "colab": {
          "base_uri": "https://localhost:8080/"
        },
        "id": "K8faM0caLfRr",
        "outputId": "7023a0fa-0ce3-4a9a-82ad-d2a8dd7a7ffa"
      },
      "outputs": [
        {
          "name": "stdout",
          "output_type": "stream",
          "text": [
            "KNeighborsClassifier(n_neighbors=1)\n"
          ]
        }
      ],
      "source": [
        "print(knn)"
      ]
    },
    {
      "cell_type": "markdown",
      "metadata": {
        "id": "9Q7ztwmBLfRs"
      },
      "source": [
        "### Étape 3 : Ajuster le modèle aux données (aussi appelé \"entraînement du modèle\")\n",
        "\n",
        "Le modèle apprend la relation entre X et y"
      ]
    },
    {
      "cell_type": "code",
      "execution_count": 26,
      "metadata": {
        "colab": {
          "base_uri": "https://localhost:8080/"
        },
        "id": "U3juZcpMLfRs",
        "outputId": "c3961992-0868-48ef-f95a-aa481d4dfc2c"
      },
      "outputs": [
        {
          "data": {
            "text/plain": [
              "KNeighborsClassifier(n_neighbors=1)"
            ]
          },
          "execution_count": 26,
          "metadata": {},
          "output_type": "execute_result"
        }
      ],
      "source": [
        "#TODO Utilisez la méthode .fit de votre estimateur knn pour apprendre la relation entre X et y\n",
        "#eg : knn.fit(mon_X, mon_y)"
      ]
    },
    {
      "cell_type": "markdown",
      "metadata": {
        "id": "icnO_48ULfRs"
      },
      "source": [
        "### Étape 4 : Prédire la réponse pour une nouvelle observation\n",
        "\n",
        "Grâce à l'entrainement, on peut utiliser les informations apprises pour prédire quelle est la durée raisonnable en fonction du cas d'espèce."
      ]
    },
    {
      "cell_type": "code",
      "execution_count": 32,
      "metadata": {
        "colab": {
          "base_uri": "https://localhost:8080/"
        },
        "id": "lHcdd3ySLfRs",
        "outputId": "20c6d708-682e-4d9e-f47c-2b2fff501f48"
      },
      "outputs": [
        {
          "data": {
            "text/plain": [
              "array([3.])"
            ]
          },
          "execution_count": 32,
          "metadata": {},
          "output_type": "execute_result"
        }
      ],
      "source": [
        "import numpy as np\n",
        "print(knn.predict(np.array([480]).reshape(-1, 1)))\n",
        "print(knn.predict(np.array([120]).reshape(-1, 1)))\n",
        "print(knn.predict(np.array([50]).reshape(-1, 1)))"
      ]
    },
    {
      "cell_type": "markdown",
      "metadata": {
        "id": "fGGR1OR6LfRt"
      },
      "source": [
        "Utilisation d'un modèle de classification différent"
      ]
    },
    {
      "cell_type": "code",
      "execution_count": 37,
      "metadata": {
        "colab": {
          "base_uri": "https://localhost:8080/"
        },
        "id": "TUKkZMGHLfRt",
        "outputId": "242b2ec9-3ad8-43fe-cd07-a72c7db03160"
      },
      "outputs": [
        {
          "data": {
            "text/plain": [
              "array([3.])"
            ]
          },
          "execution_count": 37,
          "metadata": {},
          "output_type": "execute_result"
        }
      ],
      "source": [
        "# importer la classe\n",
        "from sklearn.linear_model import LinearRegression\n",
        "\n",
        "# instancier le modèle (en utilisant les paramètres par défaut)\n",
        "linreg = LinearRegression()\n",
        "\n",
        "# ajuster le modèle avec les données\n",
        "linreg.fit(X, y)\n",
        "\n",
        "# prédire la réponse pour de nouvelles observations\n",
        "logreg.predict(np.array([480]).reshape(-1, 1))"
      ]
    },
    {
      "cell_type": "markdown",
      "metadata": {},
      "source": [
        "1. Jour 1\n",
        "    * Variables\n",
        "        * [exercice1](https://colab.research.google.com/github/Hotsnown/seminaire-bordeaux-2022/blob/master/exercices/jour1/1.%20variables/1.1%20helloworld.ipynb)\n",
        "        * [exercice2](https://colab.research.google.com/github/Hotsnown/seminaire-bordeaux-2022/blob/master/exercices/jour1/1.%20variables/1.2%20%C3%A9viter%20les%20errreurs%20de%20nommage.ipynb)\n",
        "        * [mini-projet](https://colab.research.google.com/github/Hotsnown/seminaire-bordeaux-2022/blob/master/exercices/jour1/1.%20variables/1.3%20mini-project.ipynb#scrollTo=RPB2xCMdA6lV)\n",
        "    * Strings\n",
        "        * [exercice1](https://colab.research.google.com/github/Hotsnown/seminaire-bordeaux-2022/blob/master/exercices/jour1/2.%20strings/2.1%20concat.ipynb)\n",
        "        * [exercice2](https://colab.research.google.com/github/Hotsnown/seminaire-bordeaux-2022/blob/master/exercices/jour1/2.%20strings/2.2%20string_methods.ipynb)\n",
        "        * [mini-projet](https://colab.research.google.com/github/Hotsnown/seminaire-bordeaux-2022/blob/master/exercices/jour1/2.%20strings/2.3%20mini-project.ipynb)\n",
        "    * Opérations\n",
        "        * [exercice1](https://colab.research.google.com/github/Hotsnown/seminaire-bordeaux-2022/blob/master/exercices/jour1/3.%20operations/3.1%20math.ipynb)\n",
        "        * [exercice2](https://colab.research.google.com/github/Hotsnown/seminaire-bordeaux-2022/blob/master/exercices/jour1/3.%20operations/3.2%20bool%C3%A9en.ipynb)\n",
        "        * [mini-projet](https://colab.research.google.com/github/Hotsnown/seminaire-bordeaux-2022/blob/master/exercices/jour1/3.%20operations/3.3%20mini-project.ipynb)\n",
        "\n",
        "2. Jour 2\n",
        "    * Listes\n",
        "        * [Définition](https://colab.research.google.com/github/Hotsnown/seminaire-bordeaux-2022/blob/master/exercices/jour2/2.1%20Listes/2.1.1%20d%C3%A9finition%20liste.ipynb?hl=fr)\n",
        "        * [Strings et listes](https://colab.research.google.com/github/Hotsnown/seminaire-bordeaux-2022/blob/master/exercices/jour2/2.1%20Listes/2.1.2%20String%20as%20list%20of%20characters.ipynb?hl=fr)\n",
        "        * [Mini-projet](https://colab.research.google.com/github/Hotsnown/seminaire-bordeaux-2022/blob/master/exercices/jour2/2.1%20Listes/2.1.3%20mini-project.ipynb?hl=fr)\n",
        "    * Fonctions\n",
        "        * [Définition I](https://colab.research.google.com/github/Hotsnown/seminaire-bordeaux-2022/blob/master/exercices/jour2/2.2%20Fonctions/2.2.1%20d%C3%A9finition%20fonctions.ipynb?hl=fr)\n",
        "        * [Définition II](https://colab.research.google.com/github/Hotsnown/seminaire-bordeaux-2022/blob/master/exercices/jour2/2.2%20Fonctions/2.2.2%20scope%20et%20fonctions%20imbriqu%C3%A9es.ipynb?hl=fr)\n",
        "        * [Mini-projet](https://colab.research.google.com/github/Hotsnown/seminaire-bordeaux-2022/blob/master/exercices/jour2/2.2%20Fonctions/2.2.3%20mini-project.ipynb?hl=fr) \n",
        "    * Librairies\n",
        "        * [Pandas](https://colab.research.google.com/github/Hotsnown/seminaire-bordeaux-2022/blob/master/exercices/jour2/2.3%20Librairies/2.3.1%20Pandas.ipynb?hl=fr)\n",
        "        * [Matplotlib](https://colab.research.google.com/github/Hotsnown/seminaire-bordeaux-2022/blob/master/exercices/jour2/2.3%20Librairies/2.3.2%20Matplotlib.ipynb?hl=fr)\n",
        "        * [Mini-projet](https://colab.research.google.com/github/Hotsnown/seminaire-bordeaux-2022/blob/master/exercices/jour2/2.3%20Librairies/2.3.3%20mini-project.ipynb?hl=fr) \n",
        "3. Jour 3\n",
        "    * Introduction à la NLP\n",
        "        * [Charger des un corpus](https://colab.research.google.com/github/Hotsnown/seminaire-bordeaux-2022/blob/master/exercices/jour3/3.1%20what%20is%20nlp/3.1.1%20Accessing%20Text.ipynb?hl=fr)\n",
        "        * [Traitement de texte dans Pandas](https://colab.research.google.com/github/Hotsnown/seminaire-bordeaux-2022/blob/master/exercices/jour3/3.1%20what%20is%20nlp/3.1.2%20Working%20with%20text%20data%20in%20pandas.ipynb?hl=fr)\n",
        "        * [Mini-projet](https://colab.research.google.com/github/Hotsnown/seminaire-bordeaux-2022/blob/master/exercices/jour3/3.1%20what%20is%20nlp/3.1.3%20mini-project.ipynb?hl=fr)\n",
        "    * Segmentation\n",
        "        * [Segmentation de tokens](https://colab.research.google.com/github/Hotsnown/seminaire-bordeaux-2022/blob/master/exercices/jour3/3.2%20Segmentation/3.2.1%20Token%20segmentation.ipynb?hl=fr)\n",
        "        * [Segmentation de phrase](https://colab.research.google.com/github/Hotsnown/seminaire-bordeaux-2022/blob/master/exercices/jour3/3.2%20Segmentation/3.2.2%20Sentence%20segmentation.ipynb?hl=fr)\n",
        "        * [Mini-projet](https://colab.research.google.com/github/Hotsnown/seminaire-bordeaux-2022/blob/master/exercices/jour3/3.2%20Segmentation/3.2.3%20mini-project.ipynb?hl=fr)\n",
        "    * Nettoyage de texte\n",
        "        * [Stopwords](https://colab.research.google.com/github/Hotsnown/seminaire-bordeaux-2022/blob/master/exercices/jour3/3.3%20text%20cleaning.ipynb/3.3.1%20stopwords.ipynb?hl=fr)\n",
        "        * [Normalisation](https://colab.research.google.com/github/Hotsnown/seminaire-bordeaux-2022/blob/master/exercices/jour3/3.3%20text%20cleaning.ipynb/3.3.2%20Normalizing%20Text.ipynb?hl=fr)\n",
        "        * [Mini-projet](https://colab.research.google.com/github/Hotsnown/seminaire-bordeaux-2022/blob/master/exercices/jour3/3.3%20text%20cleaning.ipynb/3.3.3%20mini-project.ipynb?hl=fr)\n",
        "4. Jour 4\n",
        "    * Apprentissage supervisé\n",
        "        * [Régression linéaire](https://colab.research.google.com/github/Hotsnown/seminaire-bordeaux-2022/blob/master/exercices/jour4/4.1%20supervised%20learning/4.3.1%20linear%20regression.ipynb?hl=fr)\n",
        "        * [Mini-projet](https://colab.research.google.com/github/Hotsnown/seminaire-bordeaux-2022/blob/master/exercices/jour4/4.1%20supervised%20learning/4.3.3%20mini-project.ipynb?hl=fr)\n",
        "    * Pré-traitement de texte\n",
        "        * [Featurization de textes](https://colab.research.google.com/github/Hotsnown/seminaire-bordeaux-2022/blob/master/exercices/jour4/4.2%20text%20preprocessing/4.2.1%20text%20featurization.ipynb?hl=fr)\n",
        "        * [Featurization de labels](https://colab.research.google.com/github/Hotsnown/seminaire-bordeaux-2022/blob/master/exercices/jour4/4.2%20text%20preprocessing/4.2.2%20label%20featurization.ipynb?hl=fr)\n",
        "        * [Mini-projet](https://colab.research.google.com/github/Hotsnown/seminaire-bordeaux-2022/blob/master/exercices/jour4/4.2%20text%20preprocessing/4.2.3%20mini-project.ipynb?hl=fr)\n",
        "    * Classification de texte\n",
        "        * [Mini-projet](https://colab.research.google.com/github/Hotsnown/seminaire-bordeaux-2022/blob/master/exercices/jour4/4.3%20text%20classification/4.1.3%20mini-project.ipynb?hl=fr)\n",
        "5. Jour 5\n",
        "    * [Projet final](https://colab.research.google.com/github/Hotsnown/seminaire-bordeaux-2022/blob/master/exercices/jour5/final-project.ipynb?hl=fr)"
      ]
    },
    {
      "cell_type": "code",
      "execution_count": null,
      "metadata": {},
      "outputs": [],
      "source": []
    }
  ],
  "metadata": {
    "colab": {
      "provenance": []
    },
    "kernelspec": {
      "display_name": "Python 3.10.7 64-bit (microsoft store)",
      "language": "python",
      "name": "python3"
    },
    "language_info": {
      "name": "python",
      "version": "3.10.8"
    },
    "orig_nbformat": 4,
    "vscode": {
      "interpreter": {
        "hash": "ab330c63be1774c7d4efd28485dada9f7c6eb3392ec4de9472ccb4da1daed7d7"
      }
    }
  },
  "nbformat": 4,
  "nbformat_minor": 0
}
