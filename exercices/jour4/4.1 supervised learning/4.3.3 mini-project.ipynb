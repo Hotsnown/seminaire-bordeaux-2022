{
  "cells": [
    {
      "cell_type": "code",
      "execution_count": 3,
      "metadata": {
        "id": "yTc8zCKOLfRk"
      },
      "outputs": [],
      "source": [
        "!git clone https://github.com/Hotsnown/seminaire-bordeaux-2022.git seminaire &> /dev/null\n",
        "%pip install nbautoeval &> /dev/null"
      ]
    },
    {
      "cell_type": "markdown",
      "metadata": {
        "id": "3kChysA3LfRm"
      },
      "source": [
        "# Training a machine learning model with scikit-learn\n",
        "\n",
        "Agenda\n",
        "What is the K-nearest neighbors classification model?\n",
        "What are the four steps for model training and prediction in scikit-learn?\n",
        "How can I apply this pattern to other machine learning models?\n",
        "Reviewing the iris dataset"
      ]
    },
    {
      "cell_type": "markdown",
      "metadata": {
        "id": "b0ivxfzoLfRp"
      },
      "source": [
        "### Step 1: Loading the data"
      ]
    },
    {
      "cell_type": "code",
      "execution_count": null,
      "metadata": {
        "id": "5Vb7TZJnONxt"
      },
      "outputs": [],
      "source": [
        "import pandas as pd\n",
        "\n",
        "df = pd.read_csv(\"/content/seminaire/exercices/jour4/4.1 supervised learning/préavis2.csv\")\n",
        "df.head()"
      ]
    },
    {
      "cell_type": "markdown",
      "metadata": {
        "id": "YYePRX7eOR6l"
      },
      "source": [
        "150 observations\n",
        "4 features (sepal length, sepal width, petal length, petal width)\n",
        "Response variable is the iris species\n",
        "Classification problem since response is categorical\n",
        "More information in the UCI Machine Learning Repository"
      ]
    },
    {
      "cell_type": "code",
      "execution_count": 21,
      "metadata": {
        "id": "v5Wsu5SuLfRp"
      },
      "outputs": [],
      "source": [
        "from sklearn.datasets import load_iris\n",
        "\n",
        "df = df.dropna()\n",
        "\n",
        "# store feature matrix in \"X\"\n",
        "X = df[\"Durée de la relation (en mois)\"]\n",
        "X= X.to_numpy().reshape(-1, 1)\n",
        "\n",
        "# store response vector in \"y\"\n",
        "y = df[\"Durée du préavis\"]"
      ]
    },
    {
      "cell_type": "code",
      "execution_count": 22,
      "metadata": {
        "colab": {
          "base_uri": "https://localhost:8080/"
        },
        "id": "vOuqVD_ILfRp",
        "outputId": "22278e4f-bad7-4b7d-d5bd-3c5a76f33384"
      },
      "outputs": [
        {
          "name": "stdout",
          "output_type": "stream",
          "text": [
            "(1, 1)\n",
            "(1,)\n"
          ]
        }
      ],
      "source": [
        "# print the shapes of X and y\n",
        "print(X.shape)\n",
        "print(y.shape)"
      ]
    },
    {
      "cell_type": "markdown",
      "metadata": {
        "id": "a7wD6X2cOTnN"
      },
      "source": [
        "K-nearest neighbors (KNN) classification\n",
        "Pick a value for K.\n",
        "Search for the K observations in the training data that are \"nearest\" to the measurements of the unknown iris.\n",
        "Use the most popular response value from the K nearest neighbors as the predicted response value for the unknown iris."
      ]
    },
    {
      "cell_type": "markdown",
      "metadata": {
        "id": "f04Iw8a9LfRr"
      },
      "source": [
        "### Step 2: \"Instantiate\" the \"estimator\"\n",
        "\n",
        "\"Estimator\" is scikit-learn's term for model\n",
        "\"Instantiate\" means \"make an instance of\""
      ]
    },
    {
      "cell_type": "code",
      "execution_count": 24,
      "metadata": {
        "id": "2MPVfURdLfRr"
      },
      "outputs": [],
      "source": [
        "from sklearn.neighbors import KNeighborsClassifier\n",
        "\n",
        "knn = KNeighborsClassifier(n_neighbors=1)\n"
      ]
    },
    {
      "cell_type": "markdown",
      "metadata": {
        "id": "H1-mSadALfRr"
      },
      "source": [
        "Name of the object does not matter\n",
        "Can specify tuning parameters (aka \"hyperparameters\") during this step\n",
        "All parameters not specified are set to their defaults"
      ]
    },
    {
      "cell_type": "code",
      "execution_count": 25,
      "metadata": {
        "colab": {
          "base_uri": "https://localhost:8080/"
        },
        "id": "K8faM0caLfRr",
        "outputId": "7023a0fa-0ce3-4a9a-82ad-d2a8dd7a7ffa"
      },
      "outputs": [
        {
          "name": "stdout",
          "output_type": "stream",
          "text": [
            "KNeighborsClassifier(n_neighbors=1)\n"
          ]
        }
      ],
      "source": [
        "print(knn)"
      ]
    },
    {
      "cell_type": "markdown",
      "metadata": {
        "id": "9Q7ztwmBLfRs"
      },
      "source": [
        "### Step 3: Fit the model with data (aka \"model training\")\n",
        "\n",
        "Model is learning the relationship between X and y\n",
        "Occurs in-place"
      ]
    },
    {
      "cell_type": "code",
      "execution_count": 26,
      "metadata": {
        "colab": {
          "base_uri": "https://localhost:8080/"
        },
        "id": "U3juZcpMLfRs",
        "outputId": "c3961992-0868-48ef-f95a-aa481d4dfc2c"
      },
      "outputs": [
        {
          "data": {
            "text/plain": [
              "KNeighborsClassifier(n_neighbors=1)"
            ]
          },
          "execution_count": 26,
          "metadata": {},
          "output_type": "execute_result"
        }
      ],
      "source": [
        "knn.fit(X, y)"
      ]
    },
    {
      "cell_type": "markdown",
      "metadata": {
        "id": "icnO_48ULfRs"
      },
      "source": [
        "### Step 4: Predict the response for a new observation\n",
        "\n",
        "New observations are called \"out-of-sample\" data\n",
        "Uses the information it learned during the model training process"
      ]
    },
    {
      "cell_type": "code",
      "execution_count": 32,
      "metadata": {
        "colab": {
          "base_uri": "https://localhost:8080/"
        },
        "id": "lHcdd3ySLfRs",
        "outputId": "20c6d708-682e-4d9e-f47c-2b2fff501f48"
      },
      "outputs": [
        {
          "data": {
            "text/plain": [
              "array([3.])"
            ]
          },
          "execution_count": 32,
          "metadata": {},
          "output_type": "execute_result"
        }
      ],
      "source": [
        "import numpy as np\n",
        "knn.predict(np.array([480]).reshape(-1, 1))"
      ]
    },
    {
      "cell_type": "markdown",
      "metadata": {
        "id": "meEAQaZBLfRt"
      },
      "source": [
        "Using a different value for K\n"
      ]
    },
    {
      "cell_type": "code",
      "execution_count": 35,
      "metadata": {
        "colab": {
          "base_uri": "https://localhost:8080/",
          "height": 346
        },
        "id": "n-CediVdLfRt",
        "outputId": "0b9da496-7887-414a-fa37-36794b472153"
      },
      "outputs": [
        {
          "ename": "ValueError",
          "evalue": "ignored",
          "output_type": "error",
          "traceback": [
            "\u001b[0;31m---------------------------------------------------------------------------\u001b[0m",
            "\u001b[0;31mValueError\u001b[0m                                Traceback (most recent call last)",
            "\u001b[0;32m<ipython-input-35-8a4545c59e6e>\u001b[0m in \u001b[0;36m<module>\u001b[0;34m\u001b[0m\n\u001b[1;32m      6\u001b[0m \u001b[0;34m\u001b[0m\u001b[0m\n\u001b[1;32m      7\u001b[0m \u001b[0;31m# predict the response for new observations\u001b[0m\u001b[0;34m\u001b[0m\u001b[0;34m\u001b[0m\u001b[0;34m\u001b[0m\u001b[0m\n\u001b[0;32m----> 8\u001b[0;31m \u001b[0mknn\u001b[0m\u001b[0;34m.\u001b[0m\u001b[0mpredict\u001b[0m\u001b[0;34m(\u001b[0m\u001b[0mnp\u001b[0m\u001b[0;34m.\u001b[0m\u001b[0marray\u001b[0m\u001b[0;34m(\u001b[0m\u001b[0;34m[\u001b[0m\u001b[0;36m480\u001b[0m\u001b[0;34m]\u001b[0m\u001b[0;34m)\u001b[0m\u001b[0;34m.\u001b[0m\u001b[0mreshape\u001b[0m\u001b[0;34m(\u001b[0m\u001b[0;34m-\u001b[0m\u001b[0;36m1\u001b[0m\u001b[0;34m,\u001b[0m \u001b[0;36m1\u001b[0m\u001b[0;34m)\u001b[0m\u001b[0;34m)\u001b[0m\u001b[0;34m\u001b[0m\u001b[0;34m\u001b[0m\u001b[0m\n\u001b[0m",
            "\u001b[0;32m/usr/local/lib/python3.7/dist-packages/sklearn/neighbors/_classification.py\u001b[0m in \u001b[0;36mpredict\u001b[0;34m(self, X)\u001b[0m\n\u001b[1;32m    212\u001b[0m             \u001b[0mClass\u001b[0m \u001b[0mlabels\u001b[0m \u001b[0;32mfor\u001b[0m \u001b[0meach\u001b[0m \u001b[0mdata\u001b[0m \u001b[0msample\u001b[0m\u001b[0;34m.\u001b[0m\u001b[0;34m\u001b[0m\u001b[0;34m\u001b[0m\u001b[0m\n\u001b[1;32m    213\u001b[0m         \"\"\"\n\u001b[0;32m--> 214\u001b[0;31m         \u001b[0mneigh_dist\u001b[0m\u001b[0;34m,\u001b[0m \u001b[0mneigh_ind\u001b[0m \u001b[0;34m=\u001b[0m \u001b[0mself\u001b[0m\u001b[0;34m.\u001b[0m\u001b[0mkneighbors\u001b[0m\u001b[0;34m(\u001b[0m\u001b[0mX\u001b[0m\u001b[0;34m)\u001b[0m\u001b[0;34m\u001b[0m\u001b[0;34m\u001b[0m\u001b[0m\n\u001b[0m\u001b[1;32m    215\u001b[0m         \u001b[0mclasses_\u001b[0m \u001b[0;34m=\u001b[0m \u001b[0mself\u001b[0m\u001b[0;34m.\u001b[0m\u001b[0mclasses_\u001b[0m\u001b[0;34m\u001b[0m\u001b[0;34m\u001b[0m\u001b[0m\n\u001b[1;32m    216\u001b[0m         \u001b[0m_y\u001b[0m \u001b[0;34m=\u001b[0m \u001b[0mself\u001b[0m\u001b[0;34m.\u001b[0m\u001b[0m_y\u001b[0m\u001b[0;34m\u001b[0m\u001b[0;34m\u001b[0m\u001b[0m\n",
            "\u001b[0;32m/usr/local/lib/python3.7/dist-packages/sklearn/neighbors/_base.py\u001b[0m in \u001b[0;36mkneighbors\u001b[0;34m(self, X, n_neighbors, return_distance)\u001b[0m\n\u001b[1;32m    727\u001b[0m             raise ValueError(\n\u001b[1;32m    728\u001b[0m                 \u001b[0;34m\"Expected n_neighbors <= n_samples, \"\u001b[0m\u001b[0;34m\u001b[0m\u001b[0;34m\u001b[0m\u001b[0m\n\u001b[0;32m--> 729\u001b[0;31m                 \u001b[0;34m\" but n_samples = %d, n_neighbors = %d\"\u001b[0m \u001b[0;34m%\u001b[0m \u001b[0;34m(\u001b[0m\u001b[0mn_samples_fit\u001b[0m\u001b[0;34m,\u001b[0m \u001b[0mn_neighbors\u001b[0m\u001b[0;34m)\u001b[0m\u001b[0;34m\u001b[0m\u001b[0;34m\u001b[0m\u001b[0m\n\u001b[0m\u001b[1;32m    730\u001b[0m             )\n\u001b[1;32m    731\u001b[0m \u001b[0;34m\u001b[0m\u001b[0m\n",
            "\u001b[0;31mValueError\u001b[0m: Expected n_neighbors <= n_samples,  but n_samples = 1, n_neighbors = 5"
          ]
        }
      ],
      "source": [
        "# instantiate the model (using the value K=5)\n",
        "knn = KNeighborsClassifier(n_neighbors=5)\n",
        "\n",
        "# fit the model with data\n",
        "knn.fit(X, y)\n",
        "\n",
        "# predict the response for new observations\n",
        "knn.predict(np.array([480]).reshape(-1, 1))"
      ]
    },
    {
      "cell_type": "markdown",
      "metadata": {
        "id": "fGGR1OR6LfRt"
      },
      "source": [
        "Using a different classification model\n"
      ]
    },
    {
      "cell_type": "code",
      "execution_count": 37,
      "metadata": {
        "colab": {
          "base_uri": "https://localhost:8080/"
        },
        "id": "TUKkZMGHLfRt",
        "outputId": "242b2ec9-3ad8-43fe-cd07-a72c7db03160"
      },
      "outputs": [
        {
          "data": {
            "text/plain": [
              "array([3.])"
            ]
          },
          "execution_count": 37,
          "metadata": {},
          "output_type": "execute_result"
        }
      ],
      "source": [
        "# import the class\n",
        "from sklearn.linear_model import LinearRegression\n",
        "\n",
        "# instantiate the model (using the default parameters)\n",
        "logreg = LinearRegression()\n",
        "\n",
        "# fit the model with data\n",
        "logreg.fit(X, y)\n",
        "\n",
        "# predict the response for new observations\n",
        "logreg.predict(np.array([480]).reshape(-1, 1))"
      ]
    },
    {
      "cell_type": "markdown",
      "metadata": {
        "id": "Jl-ESIAFLfRt"
      },
      "source": [
        "Resources\n",
        "\n",
        "- Nearest Neighbors (user guide), KNeighborsClassifier (class documentation)\n",
        "- Logistic Regression (user guide), LogisticRegression (class documentation)\n",
        "- Videos from An Introduction to Statistical Learning\n",
        "- Classification Problems and K-Nearest Neighbors (Chapter 2)\n",
        "- Introduction to Classification (Chapter 4)\n",
        "- Logistic Regression and Maximum Likelihood (Chapter 4)"
      ]
    }
  ],
  "metadata": {
    "colab": {
      "provenance": []
    },
    "kernelspec": {
      "display_name": "Python 3.10.7 64-bit (microsoft store)",
      "language": "python",
      "name": "python3"
    },
    "language_info": {
      "name": "python",
      "version": "3.10.8"
    },
    "orig_nbformat": 4,
    "vscode": {
      "interpreter": {
        "hash": "ab330c63be1774c7d4efd28485dada9f7c6eb3392ec4de9472ccb4da1daed7d7"
      }
    }
  },
  "nbformat": 4,
  "nbformat_minor": 0
}
