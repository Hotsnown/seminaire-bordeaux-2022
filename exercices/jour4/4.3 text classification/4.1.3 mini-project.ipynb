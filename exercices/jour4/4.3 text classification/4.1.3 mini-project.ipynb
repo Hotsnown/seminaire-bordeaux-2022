{
  "cells": [
    {
      "cell_type": "code",
      "execution_count": 23,
      "metadata": {
        "id": "yHTPino3zbv9"
      },
      "outputs": [],
      "source": [
        "!git clone https://github.com/Hotsnown/seminaire-bordeaux-2022.git seminaire &> /dev/null\n"
      ]
    },
    {
      "cell_type": "markdown",
      "metadata": {
        "id": "PgSzvgzizbwC"
      },
      "source": [
        "# Classification Textuelle\n",
        "\n"
      ]
    },
    {
      "cell_type": "markdown",
      "metadata": {
        "id": "XcTFpqSwzbwI"
      },
      "source": [
        "### Importer les données"
      ]
    },
    {
      "cell_type": "code",
      "execution_count": 33,
      "metadata": {
        "id": "52ugWs3hzbwK"
      },
      "outputs": [],
      "source": [
        "# lire les données dans un DataFrame Pandas\n",
        "import pandas as pd\n",
        "df = pd.read_csv(\"/content/seminaire/exercices/jour4/4.3 text classification/outcome_prediction.csv\")"
      ]
    },
    {
      "cell_type": "code",
      "execution_count": 34,
      "metadata": {
        "colab": {
          "base_uri": "https://localhost:8080/",
          "height": 214
        },
        "id": "QfEV8qsvzbwL",
        "outputId": "a9652a3d-169b-48c4-8514-190dad88aa70"
      },
      "outputs": [
        {
          "data": {
            "text/html": [
              "\n",
              "  <div id=\"df-1f25da6a-12c1-429c-a521-0e0bbc4851e1\">\n",
              "    <div class=\"colab-df-container\">\n",
              "      <div>\n",
              "<style scoped>\n",
              "    .dataframe tbody tr th:only-of-type {\n",
              "        vertical-align: middle;\n",
              "    }\n",
              "\n",
              "    .dataframe tbody tr th {\n",
              "        vertical-align: top;\n",
              "    }\n",
              "\n",
              "    .dataframe thead th {\n",
              "        text-align: right;\n",
              "    }\n",
              "</style>\n",
              "<table border=\"1\" class=\"dataframe\">\n",
              "  <thead>\n",
              "    <tr style=\"text-align: right;\">\n",
              "      <th></th>\n",
              "      <th>Unnamed: 0</th>\n",
              "      <th>content</th>\n",
              "      <th>role</th>\n",
              "    </tr>\n",
              "  </thead>\n",
              "  <tbody>\n",
              "    <tr>\n",
              "      <th>0</th>\n",
              "      <td>0</td>\n",
              "      <td>Because CHAMPUS is not a party to this appeal ...</td>\n",
              "      <td>Complex</td>\n",
              "    </tr>\n",
              "    <tr>\n",
              "      <th>1</th>\n",
              "      <td>1</td>\n",
              "      <td>We affirm on all issues raised in the appeal a...</td>\n",
              "      <td>Affirm</td>\n",
              "    </tr>\n",
              "    <tr>\n",
              "      <th>2</th>\n",
              "      <td>2</td>\n",
              "      <td>For the reasons that follow, we affirm.</td>\n",
              "      <td>Affirm</td>\n",
              "    </tr>\n",
              "    <tr>\n",
              "      <th>3</th>\n",
              "      <td>3</td>\n",
              "      <td>. We affirm.</td>\n",
              "      <td>Affirm</td>\n",
              "    </tr>\n",
              "    <tr>\n",
              "      <th>4</th>\n",
              "      <td>4</td>\n",
              "      <td>We reverse and remand for further proceedings ...</td>\n",
              "      <td>Reverse</td>\n",
              "    </tr>\n",
              "  </tbody>\n",
              "</table>\n",
              "</div>\n",
              "      <button class=\"colab-df-convert\" onclick=\"convertToInteractive('df-1f25da6a-12c1-429c-a521-0e0bbc4851e1')\"\n",
              "              title=\"Convert this dataframe to an interactive table.\"\n",
              "              style=\"display:none;\">\n",
              "        \n",
              "  <svg xmlns=\"http://www.w3.org/2000/svg\" height=\"24px\"viewBox=\"0 0 24 24\"\n",
              "       width=\"24px\">\n",
              "    <path d=\"M0 0h24v24H0V0z\" fill=\"none\"/>\n",
              "    <path d=\"M18.56 5.44l.94 2.06.94-2.06 2.06-.94-2.06-.94-.94-2.06-.94 2.06-2.06.94zm-11 1L8.5 8.5l.94-2.06 2.06-.94-2.06-.94L8.5 2.5l-.94 2.06-2.06.94zm10 10l.94 2.06.94-2.06 2.06-.94-2.06-.94-.94-2.06-.94 2.06-2.06.94z\"/><path d=\"M17.41 7.96l-1.37-1.37c-.4-.4-.92-.59-1.43-.59-.52 0-1.04.2-1.43.59L10.3 9.45l-7.72 7.72c-.78.78-.78 2.05 0 2.83L4 21.41c.39.39.9.59 1.41.59.51 0 1.02-.2 1.41-.59l7.78-7.78 2.81-2.81c.8-.78.8-2.07 0-2.86zM5.41 20L4 18.59l7.72-7.72 1.47 1.35L5.41 20z\"/>\n",
              "  </svg>\n",
              "      </button>\n",
              "      \n",
              "  <style>\n",
              "    .colab-df-container {\n",
              "      display:flex;\n",
              "      flex-wrap:wrap;\n",
              "      gap: 12px;\n",
              "    }\n",
              "\n",
              "    .colab-df-convert {\n",
              "      background-color: #E8F0FE;\n",
              "      border: none;\n",
              "      border-radius: 50%;\n",
              "      cursor: pointer;\n",
              "      display: none;\n",
              "      fill: #1967D2;\n",
              "      height: 32px;\n",
              "      padding: 0 0 0 0;\n",
              "      width: 32px;\n",
              "    }\n",
              "\n",
              "    .colab-df-convert:hover {\n",
              "      background-color: #E2EBFA;\n",
              "      box-shadow: 0px 1px 2px rgba(60, 64, 67, 0.3), 0px 1px 3px 1px rgba(60, 64, 67, 0.15);\n",
              "      fill: #174EA6;\n",
              "    }\n",
              "\n",
              "    [theme=dark] .colab-df-convert {\n",
              "      background-color: #3B4455;\n",
              "      fill: #D2E3FC;\n",
              "    }\n",
              "\n",
              "    [theme=dark] .colab-df-convert:hover {\n",
              "      background-color: #434B5C;\n",
              "      box-shadow: 0px 1px 3px 1px rgba(0, 0, 0, 0.15);\n",
              "      filter: drop-shadow(0px 1px 2px rgba(0, 0, 0, 0.3));\n",
              "      fill: #FFFFFF;\n",
              "    }\n",
              "  </style>\n",
              "\n",
              "      <script>\n",
              "        const buttonEl =\n",
              "          document.querySelector('#df-1f25da6a-12c1-429c-a521-0e0bbc4851e1 button.colab-df-convert');\n",
              "        buttonEl.style.display =\n",
              "          google.colab.kernel.accessAllowed ? 'block' : 'none';\n",
              "\n",
              "        async function convertToInteractive(key) {\n",
              "          const element = document.querySelector('#df-1f25da6a-12c1-429c-a521-0e0bbc4851e1');\n",
              "          const dataTable =\n",
              "            await google.colab.kernel.invokeFunction('convertToInteractive',\n",
              "                                                     [key], {});\n",
              "          if (!dataTable) return;\n",
              "\n",
              "          const docLinkHtml = 'Like what you see? Visit the ' +\n",
              "            '<a target=\"_blank\" href=https://colab.research.google.com/notebooks/data_table.ipynb>data table notebook</a>'\n",
              "            + ' to learn more about interactive tables.';\n",
              "          element.innerHTML = '';\n",
              "          dataTable['output_type'] = 'display_data';\n",
              "          await google.colab.output.renderOutput(dataTable, element);\n",
              "          const docLink = document.createElement('div');\n",
              "          docLink.innerHTML = docLinkHtml;\n",
              "          element.appendChild(docLink);\n",
              "        }\n",
              "      </script>\n",
              "    </div>\n",
              "  </div>\n",
              "  "
            ],
            "text/plain": [
              "   Unnamed: 0                                            content     role\n",
              "0           0  Because CHAMPUS is not a party to this appeal ...  Complex\n",
              "1           1  We affirm on all issues raised in the appeal a...   Affirm\n",
              "2           2            For the reasons that follow, we affirm.   Affirm\n",
              "3           3                                       . We affirm.   Affirm\n",
              "4           4  We reverse and remand for further proceedings ...  Reverse"
            ]
          },
          "execution_count": 34,
          "metadata": {},
          "output_type": "execute_result"
        }
      ],
      "source": [
        "# print les 5 premières lignes de données\n",
        "df.head()"
      ]
    },
    {
      "cell_type": "markdown",
      "metadata": {
        "id": "cCMT2OIMzbwM"
      },
      "source": [
        "Question : Peut-on prédire la nature des motifs ?"
      ]
    },
    {
      "cell_type": "code",
      "execution_count": 41,
      "metadata": {
        "id": "PE6id9q6zbwN"
      },
      "outputs": [],
      "source": [
        "# définir X et y\n",
        "from sklearn.feature_extraction.text import CountVectorizer\n",
        "vectorizer = CountVectorizer()\n",
        "X = vectorizer.fit_transform(df[\"content\"])\n",
        "y = [0 if y == \"Reverse\" else 1 for y in df[\"role\"]]"
      ]
    },
    {
      "cell_type": "code",
      "execution_count": 42,
      "metadata": {
        "id": "k73YOmYBzbwO"
      },
      "outputs": [],
      "source": [
        "# diviser X et y en ensembles d'entraînement et de test\n",
        "from sklearn.model_selection import train_test_split\n",
        "X_train, X_test, y_train, y_test = train_test_split(X, y, random_state=0)"
      ]
    },
    {
      "cell_type": "code",
      "execution_count": 43,
      "metadata": {
        "colab": {
          "base_uri": "https://localhost:8080/"
        },
        "id": "VWj2Ie0GzbwO",
        "outputId": "1576ce54-9d9e-47a6-b2bb-1af4f99bcb03"
      },
      "outputs": [
        {
          "data": {
            "text/plain": [
              "LogisticRegression()"
            ]
          },
          "execution_count": 43,
          "metadata": {},
          "output_type": "execute_result"
        }
      ],
      "source": [
        "# Entraînement d'un modèle de régression logistique sur l'ensemble d'entraînement.\n",
        "from sklearn.linear_model import LogisticRegression\n",
        "\n",
        "TODO : Créez un estimateur LogisticRegression, puis entraînez-le sur X_train et y_train\n",
        " "
      ]
    },
    {
      "cell_type": "code",
      "execution_count": 44,
      "metadata": {
        "id": "FEixeVvQzbwP"
      },
      "outputs": [],
      "source": [
        "# faire des prédictions de classe pour l'ensemble de test\n",
        "y_pred_class = logreg.predict(X_test)"
      ]
    },
    {
      "cell_type": "markdown",
      "metadata": {
        "id": "h-wunsU3zbwQ"
      },
      "source": [
        "### Précision de la classification : pourcentage de prédictions correctes"
      ]
    },
    {
      "cell_type": "code",
      "execution_count": 45,
      "metadata": {
        "colab": {
          "base_uri": "https://localhost:8080/"
        },
        "id": "I88kcavPzbwQ",
        "outputId": "cb070c90-4e5d-4a9b-82af-33633ff443bb"
      },
      "outputs": [
        {
          "name": "stdout",
          "output_type": "stream",
          "text": [
            "0.904\n"
          ]
        }
      ],
      "source": [
        "# calculer la précision\n",
        "from sklearn import metrics\n",
        "print(metrics.accuracy_score(y_test, y_pred_class))"
      ]
    },
    {
      "cell_type": "markdown",
      "metadata": {
        "id": "q2cveVZ0zbwR"
      },
      "source": [
        "Précision nulle : précision qui pourrait être obtenue en prédisant toujours la classe la plus fréquente."
      ]
    },
    {
      "cell_type": "code",
      "execution_count": 49,
      "metadata": {
        "colab": {
          "base_uri": "https://localhost:8080/"
        },
        "id": "ed-2P-28zbwR",
        "outputId": "739c1c08-b84b-44a4-8c24-16187caf5b6d"
      },
      "outputs": [
        {
          "data": {
            "text/plain": [
              "1    86\n",
              "0    39\n",
              "dtype: int64"
            ]
          },
          "execution_count": 49,
          "metadata": {},
          "output_type": "execute_result"
        }
      ],
      "source": [
        "# examiner la distribution des classes de l'ensemble de test (en utilisant une méthode Pandas Series)\n",
        "y_test = pd.Series(y_test)\n",
        "\n",
        "y_test.value_counts()"
      ]
    },
    {
      "cell_type": "code",
      "execution_count": 50,
      "metadata": {
        "colab": {
          "base_uri": "https://localhost:8080/"
        },
        "id": "n2tcXIK2zbwR",
        "outputId": "475c066b-eda3-4e85-9a1a-8aea78b0fd04"
      },
      "outputs": [
        {
          "data": {
            "text/plain": [
              "0.688"
            ]
          },
          "execution_count": 50,
          "metadata": {},
          "output_type": "execute_result"
        }
      ],
      "source": [
        "# calculer le pourcentage de 1\n",
        "y_test.mean()"
      ]
    },
    {
      "cell_type": "code",
      "execution_count": 51,
      "metadata": {
        "colab": {
          "base_uri": "https://localhost:8080/"
        },
        "id": "fkQqhDIjzbwS",
        "outputId": "235dc8c9-18ba-451f-9c77-a2ff72cb6ca8"
      },
      "outputs": [
        {
          "data": {
            "text/plain": [
              "0.31200000000000006"
            ]
          },
          "execution_count": 51,
          "metadata": {},
          "output_type": "execute_result"
        }
      ],
      "source": [
        "# calculer le pourcentage de zéros\n",
        "1 - y_test.mean()"
      ]
    },
    {
      "cell_type": "code",
      "execution_count": 52,
      "metadata": {
        "colab": {
          "base_uri": "https://localhost:8080/"
        },
        "id": "e4JsEQGfzbwT",
        "outputId": "612040e7-51b8-436b-f8a6-cc55eeee5e28"
      },
      "outputs": [
        {
          "data": {
            "text/plain": [
              "0.688"
            ]
          },
          "execution_count": 52,
          "metadata": {},
          "output_type": "execute_result"
        }
      ],
      "source": [
        "# calculer la précision nulle (pour les problèmes de classification binaire codés comme 0/1)\n",
        "max(y_test.mean(), 1 - y_test.mean())"
      ]
    },
    {
      "cell_type": "markdown",
      "metadata": {
        "id": "UTJWQbJrzbwT"
      },
      "source": [
        "Comparaison des valeurs de réponse réelles et prédites"
      ]
    },
    {
      "cell_type": "code",
      "execution_count": 54,
      "metadata": {
        "colab": {
          "base_uri": "https://localhost:8080/"
        },
        "id": "_6YON8x5zbwU",
        "outputId": "1f0a5eae-ddab-425c-d687-9f8062ac8c41"
      },
      "outputs": [
        {
          "name": "stdout",
          "output_type": "stream",
          "text": [
            "True: [0 1 0 1 1 1 0 1 1 1 0 1 1 1 1 0 1 1 1 1 0 1 1 0 0]\n",
            "Pred: [0 1 0 1 1 1 0 1 0 1 0 1 1 1 1 0 0 1 1 1 0 1 1 1 0]\n"
          ]
        }
      ],
      "source": [
        "# imprimer les 25 premières réponses vraies et prédites\n",
        "from __future__ import print_function\n",
        "print('True:', y_test.values[0:25])\n",
        "print('Pred:', y_pred_class[0:25])"
      ]
    },
    {
      "cell_type": "markdown",
      "metadata": {
        "id": "TCcqp-1ezbwU"
      },
      "source": [
        "Conclusion :\n",
        "\n",
        "* La précision de la classification est la mesure de classification la plus facile à comprendre.\n",
        "* Mais, elle ne vous indique pas la distribution sous-jacente des valeurs de réponse.\n",
        "* Et elle ne vous dit pas quels \"types\" d'erreurs votre classificateur commet."
      ]
    },
    {
      "cell_type": "markdown",
      "metadata": {
        "id": "qTwfAxJtzbwU"
      },
      "source": [
        "### Matrice de confusion (confusion matrix)"
      ]
    },
    {
      "cell_type": "markdown",
      "metadata": {
        "id": "_6jChKaWzbwU"
      },
      "source": [
        "Tableau qui décrit la performance d'un modèle de classification"
      ]
    },
    {
      "cell_type": "code",
      "execution_count": 55,
      "metadata": {
        "colab": {
          "base_uri": "https://localhost:8080/"
        },
        "id": "0NhxI7qSzbwV",
        "outputId": "53168d1c-1d96-4f8d-a38d-9475fa42ca48"
      },
      "outputs": [
        {
          "name": "stdout",
          "output_type": "stream",
          "text": [
            "[[29 10]\n",
            " [ 2 84]]\n"
          ]
        }
      ],
      "source": [
        "# IMPORTANT : le premier argument est les valeurs réelles, le second argument est les valeurs prédites.\n",
        "print(metrics.confusion_matrix(y_test, y_pred_class))"
      ]
    },
    {
      "cell_type": "markdown",
      "metadata": {
        "id": "c0XXUAnEzbwV"
      },
      "source": [
        "Chaque observation de l'ensemble de test est représentée dans une seule case.\n",
        "Il s'agit d'une matrice 2x2 car il y a deux classes de réponses.\n",
        "Le format présenté ici n'est pas universel"
      ]
    },
    {
      "cell_type": "markdown",
      "metadata": {
        "id": "oznzGaHTzbwV"
      },
      "source": [
        "Terminologie de base\n",
        "\n",
        "* Vrais positifs (TP) : nous avons correctement prédit que le motif rejette la décision.\n",
        "* Vrais négatifs (TN) : nous avons correctement prédit que le motif ne rejette pas la décision.\n",
        "* Faux positifs (FP) : nous avons prédit à tort que le motif rejette la décision (une \"erreur de type I\").\n",
        "* Faux négatifs (FN) : nous avons prédit à tort que le motif ne rejette pas la décision (une \"erreur de type II\")."
      ]
    },
    {
      "cell_type": "code",
      "execution_count": 56,
      "metadata": {
        "colab": {
          "base_uri": "https://localhost:8080/"
        },
        "id": "i7hyUQl8zbwV",
        "outputId": "7090628f-6ea5-48d5-9cdb-b94c92175339"
      },
      "outputs": [
        {
          "name": "stdout",
          "output_type": "stream",
          "text": [
            "True: [0 1 0 1 1 1 0 1 1 1 0 1 1 1 1 0 1 1 1 1 0 1 1 0 0]\n",
            "Pred: [0 1 0 1 1 1 0 1 0 1 0 1 1 1 1 0 0 1 1 1 0 1 1 1 0]\n"
          ]
        }
      ],
      "source": [
        "# IMPORTANT : le premier argument est les valeurs réelles, le second argument est les valeurs prédites.\n",
        "print('True:', y_test.values[0:25])\n",
        "print('Pred:', y_pred_class[0:25])"
      ]
    },
    {
      "cell_type": "code",
      "execution_count": 57,
      "metadata": {
        "id": "f64kNlxnzbwW"
      },
      "outputs": [],
      "source": [
        "# IMPORTANT : le premier argument est les valeurs réelles, le second argument est les valeurs prédites.\n",
        "confusion = metrics.confusion_matrix(y_test, y_pred_class)\n",
        "TP = confusion[1, 1]\n",
        "TN = confusion[0, 0]\n",
        "FP = confusion[0, 1]\n",
        "FN = confusion[1, 0]"
      ]
    },
    {
      "cell_type": "markdown",
      "metadata": {
        "id": "Yu7GM1IJzbwW"
      },
      "source": [
        "### Métriques calculées à partir d'une matrice de confusion"
      ]
    },
    {
      "cell_type": "markdown",
      "metadata": {
        "id": "Qnn6f-swzbwW"
      },
      "source": [
        "Précision de la classification : Globalement, combien de fois le classificateur est-il correct ?"
      ]
    },
    {
      "cell_type": "code",
      "execution_count": 58,
      "metadata": {
        "colab": {
          "base_uri": "https://localhost:8080/"
        },
        "id": "nGg6FUJfzbwW",
        "outputId": "535d6630-d6e2-4518-e2fb-8626c62dc3f7"
      },
      "outputs": [
        {
          "name": "stdout",
          "output_type": "stream",
          "text": [
            "0.904\n",
            "0.904\n"
          ]
        }
      ],
      "source": [
        "print((TP + TN) / float(TP + TN + FP + FN))\n",
        "print(metrics.accuracy_score(y_test, y_pred_class))\n",
        "\n",
        "import seaborn as sns\n",
        "sns.heatmap(confusion, annot=True)"
      ]
    },
    {
      "cell_type": "markdown",
      "metadata": {
        "id": "JmAc4FcgzbwW"
      },
      "source": [
        "Erreur de classification : Globalement, combien de fois le classificateur est-il incorrect ?\n",
        "\n",
        "Également connu sous le nom de \"taux de classification erronée\"."
      ]
    },
    {
      "cell_type": "code",
      "execution_count": 59,
      "metadata": {
        "colab": {
          "base_uri": "https://localhost:8080/"
        },
        "id": "LitbPITBzbwX",
        "outputId": "4a921843-b7db-4e51-b3dc-9b4c9a9cb0af"
      },
      "outputs": [
        {
          "name": "stdout",
          "output_type": "stream",
          "text": [
            "0.096\n",
            "0.09599999999999997\n"
          ]
        }
      ],
      "source": [
        "print((FP + FN) / float(TP + TN + FP + FN))\n",
        "print(1 - metrics.accuracy_score(y_test, y_pred_class))"
      ]
    },
    {
      "cell_type": "markdown",
      "metadata": {
        "id": "Bu6BZhL-zbwX"
      },
      "source": [
        "Sensibilité : Lorsque la valeur réelle est positive, combien de fois la prédiction est-elle correcte ?\n",
        "\n",
        "Dans quelle mesure le classificateur est-il \"sensible\" à la détection d'instances positives ?\n",
        "Également connu sous le nom de \"taux de vrais positifs\" ou \"rappel\"."
      ]
    },
    {
      "cell_type": "code",
      "execution_count": 60,
      "metadata": {
        "colab": {
          "base_uri": "https://localhost:8080/"
        },
        "id": "loLOTk2dzbwY",
        "outputId": "0c70c0e4-979a-4679-a5f5-3128eb755fc8"
      },
      "outputs": [
        {
          "name": "stdout",
          "output_type": "stream",
          "text": [
            "0.9767441860465116\n",
            "0.9767441860465116\n"
          ]
        }
      ],
      "source": [
        "print(TP / float(TP + FN))\n",
        "print(metrics.recall_score(y_test, y_pred_class))"
      ]
    },
    {
      "cell_type": "markdown",
      "metadata": {
        "id": "RAJfcQvEzbwY"
      },
      "source": [
        "Spécificité : Lorsque la valeur réelle est négative, combien de fois la prédiction est-elle correcte ?\n",
        "\n",
        "Dans quelle mesure le classificateur est-il \"spécifique\" (ou \"sélectif\") pour prédire des instances positives ?"
      ]
    },
    {
      "cell_type": "code",
      "execution_count": 61,
      "metadata": {
        "colab": {
          "base_uri": "https://localhost:8080/"
        },
        "id": "JVNsbYyBzbwY",
        "outputId": "9b4e2973-5c3c-46b9-b0c8-d0ddbf868523"
      },
      "outputs": [
        {
          "name": "stdout",
          "output_type": "stream",
          "text": [
            "0.7435897435897436\n"
          ]
        }
      ],
      "source": [
        "print(TN / float(TN + FP))"
      ]
    },
    {
      "cell_type": "markdown",
      "metadata": {
        "id": "2Ts4YrnwzbwY"
      },
      "source": [
        "Taux de faux positifs : Lorsque la valeur réelle est négative, combien de fois la prédiction est-elle incorrecte ?"
      ]
    },
    {
      "cell_type": "code",
      "execution_count": 62,
      "metadata": {
        "colab": {
          "base_uri": "https://localhost:8080/"
        },
        "id": "w5g0SqtKzbwZ",
        "outputId": "1c63fa13-b43c-47c2-9e31-4d9a41c0f0a1"
      },
      "outputs": [
        {
          "name": "stdout",
          "output_type": "stream",
          "text": [
            "0.2564102564102564\n"
          ]
        }
      ],
      "source": [
        "print(FP / float(TN + FP))"
      ]
    },
    {
      "cell_type": "markdown",
      "metadata": {
        "id": "Ry83KCoKzbwZ"
      },
      "source": [
        "La précision : Lorsqu'une valeur positive est prédite, combien de fois la prédiction est-elle correcte ?\n",
        "\n",
        "Quelle est la \"précision\" du classifieur lorsqu'il prédit des instances positives ?"
      ]
    },
    {
      "cell_type": "code",
      "execution_count": 63,
      "metadata": {
        "colab": {
          "base_uri": "https://localhost:8080/"
        },
        "id": "banMPnaIzbwZ",
        "outputId": "9f8a95d6-37d2-48ec-9b44-d0a72cff3c00"
      },
      "outputs": [
        {
          "name": "stdout",
          "output_type": "stream",
          "text": [
            "0.8936170212765957\n",
            "0.8936170212765957\n"
          ]
        }
      ],
      "source": [
        "print(TP / float(TP + FP))\n",
        "print(metrics.precision_score(y_test, y_pred_class))"
      ]
    },
    {
      "cell_type": "markdown",
      "metadata": {
        "id": "Yq2t0MWazbwZ"
      },
      "source": [
        "Conclusion :\n",
        "\n",
        "La matrice de confusion vous donne une image plus complète de la performance de votre classificateur.\n",
        "Elle vous permet également de calculer diverses métriques de classification, et ces métriques peuvent guider votre sélection de modèle."
      ]
    },
    {
      "cell_type": "markdown",
      "metadata": {
        "id": "NpYetS-4zbwZ"
      },
      "source": [
        "1. Jour 1\n",
        "    * Variables\n",
        "        * [exercice1](https://colab.research.google.com/github/Hotsnown/seminaire-bordeaux-2022/blob/master/exercices/jour1/1.%20variables/1.1%20helloworld.ipynb)\n",
        "        * [exercice2](https://colab.research.google.com/github/Hotsnown/seminaire-bordeaux-2022/blob/master/exercices/jour1/1.%20variables/1.2%20%C3%A9viter%20les%20errreurs%20de%20nommage.ipynb)\n",
        "        * [mini-projet](https://colab.research.google.com/github/Hotsnown/seminaire-bordeaux-2022/blob/master/exercices/jour1/1.%20variables/1.3%20mini-project.ipynb#scrollTo=RPB2xCMdA6lV)\n",
        "    * Strings\n",
        "        * [exercice1](https://colab.research.google.com/github/Hotsnown/seminaire-bordeaux-2022/blob/master/exercices/jour1/2.%20strings/2.1%20concat.ipynb)\n",
        "        * [exercice2](https://colab.research.google.com/github/Hotsnown/seminaire-bordeaux-2022/blob/master/exercices/jour1/2.%20strings/2.2%20string_methods.ipynb)\n",
        "        * [mini-projet](https://colab.research.google.com/github/Hotsnown/seminaire-bordeaux-2022/blob/master/exercices/jour1/2.%20strings/2.3%20mini-project.ipynb)\n",
        "    * Opérations\n",
        "        * [exercice1](https://colab.research.google.com/github/Hotsnown/seminaire-bordeaux-2022/blob/master/exercices/jour1/3.%20operations/3.1%20math.ipynb)\n",
        "        * [exercice2](https://colab.research.google.com/github/Hotsnown/seminaire-bordeaux-2022/blob/master/exercices/jour1/3.%20operations/3.2%20bool%C3%A9en.ipynb)\n",
        "        * [mini-projet](https://colab.research.google.com/github/Hotsnown/seminaire-bordeaux-2022/blob/master/exercices/jour1/3.%20operations/3.3%20mini-project.ipynb)\n",
        "\n",
        "2. Jour 2\n",
        "    * Listes\n",
        "        * [Définition](https://colab.research.google.com/github/Hotsnown/seminaire-bordeaux-2022/blob/master/exercices/jour2/2.1%20Listes/2.1.1%20d%C3%A9finition%20liste.ipynb?hl=fr)\n",
        "        * [Strings et listes](https://colab.research.google.com/github/Hotsnown/seminaire-bordeaux-2022/blob/master/exercices/jour2/2.1%20Listes/2.1.2%20String%20as%20list%20of%20characters.ipynb?hl=fr)\n",
        "        * [Mini-projet](https://colab.research.google.com/github/Hotsnown/seminaire-bordeaux-2022/blob/master/exercices/jour2/2.1%20Listes/2.1.3%20mini-project.ipynb?hl=fr)\n",
        "    * Fonctions\n",
        "        * [Définition I](https://colab.research.google.com/github/Hotsnown/seminaire-bordeaux-2022/blob/master/exercices/jour2/2.2%20Fonctions/2.2.1%20d%C3%A9finition%20fonctions.ipynb?hl=fr)\n",
        "        * [Définition II](https://colab.research.google.com/github/Hotsnown/seminaire-bordeaux-2022/blob/master/exercices/jour2/2.2%20Fonctions/2.2.2%20scope%20et%20fonctions%20imbriqu%C3%A9es.ipynb?hl=fr)\n",
        "        * [Mini-projet](https://colab.research.google.com/github/Hotsnown/seminaire-bordeaux-2022/blob/master/exercices/jour2/2.2%20Fonctions/2.2.3%20mini-project.ipynb?hl=fr) \n",
        "    * Librairies\n",
        "        * [Pandas](https://colab.research.google.com/github/Hotsnown/seminaire-bordeaux-2022/blob/master/exercices/jour2/2.3%20Librairies/2.3.1%20Pandas.ipynb?hl=fr)\n",
        "        * [Matplotlib](https://colab.research.google.com/github/Hotsnown/seminaire-bordeaux-2022/blob/master/exercices/jour2/2.3%20Librairies/2.3.2%20Matplotlib.ipynb?hl=fr)\n",
        "        * [Mini-projet](https://colab.research.google.com/github/Hotsnown/seminaire-bordeaux-2022/blob/master/exercices/jour2/2.3%20Librairies/2.3.3%20mini-project.ipynb?hl=fr) \n",
        "3. Jour 3\n",
        "    * Introduction à la NLP\n",
        "        * [Charger des un corpus](https://colab.research.google.com/github/Hotsnown/seminaire-bordeaux-2022/blob/master/exercices/jour3/3.1%20what%20is%20nlp/3.1.1%20Accessing%20Text.ipynb?hl=fr)\n",
        "        * [Traitement de texte dans Pandas](https://colab.research.google.com/github/Hotsnown/seminaire-bordeaux-2022/blob/master/exercices/jour3/3.1%20what%20is%20nlp/3.1.2%20Working%20with%20text%20data%20in%20pandas.ipynb?hl=fr)\n",
        "        * [Mini-projet](https://colab.research.google.com/github/Hotsnown/seminaire-bordeaux-2022/blob/master/exercices/jour3/3.1%20what%20is%20nlp/3.1.3%20mini-project.ipynb?hl=fr)\n",
        "    * Segmentation\n",
        "        * [Segmentation de tokens](https://colab.research.google.com/github/Hotsnown/seminaire-bordeaux-2022/blob/master/exercices/jour3/3.2%20Segmentation/3.2.1%20Token%20segmentation.ipynb?hl=fr)\n",
        "        * [Segmentation de phrase](https://colab.research.google.com/github/Hotsnown/seminaire-bordeaux-2022/blob/master/exercices/jour3/3.2%20Segmentation/3.2.2%20Sentence%20segmentation.ipynb?hl=fr)\n",
        "        * [Mini-projet](https://colab.research.google.com/github/Hotsnown/seminaire-bordeaux-2022/blob/master/exercices/jour3/3.2%20Segmentation/3.2.3%20mini-project.ipynb?hl=fr)\n",
        "    * Nettoyage de texte\n",
        "        * [Stopwords](https://colab.research.google.com/github/Hotsnown/seminaire-bordeaux-2022/blob/master/exercices/jour3/3.3%20text%20cleaning.ipynb/3.3.1%20stopwords.ipynb?hl=fr)\n",
        "        * [Normalisation](https://colab.research.google.com/github/Hotsnown/seminaire-bordeaux-2022/blob/master/exercices/jour3/3.3%20text%20cleaning.ipynb/3.3.2%20Normalizing%20Text.ipynb?hl=fr)\n",
        "        * [Mini-projet](https://colab.research.google.com/github/Hotsnown/seminaire-bordeaux-2022/blob/master/exercices/jour3/3.3%20text%20cleaning.ipynb/3.3.3%20mini-project.ipynb?hl=fr)\n",
        "4. Jour 4\n",
        "    * Apprentissage supervisé\n",
        "        * [Régression linéaire](https://colab.research.google.com/github/Hotsnown/seminaire-bordeaux-2022/blob/master/exercices/jour4/4.1%20supervised%20learning/4.3.1%20linear%20regression.ipynb?hl=fr)\n",
        "        * [Mini-projet](https://colab.research.google.com/github/Hotsnown/seminaire-bordeaux-2022/blob/master/exercices/jour4/4.1%20supervised%20learning/4.3.3%20mini-project.ipynb?hl=fr)\n",
        "    * Pré-traitement de texte\n",
        "        * [Featurization de textes](https://colab.research.google.com/github/Hotsnown/seminaire-bordeaux-2022/blob/master/exercices/jour4/4.2%20text%20preprocessing/4.2.1%20text%20featurization.ipynb?hl=fr)\n",
        "        * [Featurization de labels](https://colab.research.google.com/github/Hotsnown/seminaire-bordeaux-2022/blob/master/exercices/jour4/4.2%20text%20preprocessing/4.2.2%20label%20featurization.ipynb?hl=fr)\n",
        "        * [Mini-projet](https://colab.research.google.com/github/Hotsnown/seminaire-bordeaux-2022/blob/master/exercices/jour4/4.2%20text%20preprocessing/4.2.3%20mini-project.ipynb?hl=fr)\n",
        "    * Classification de texte\n",
        "        * [Mini-projet](https://colab.research.google.com/github/Hotsnown/seminaire-bordeaux-2022/blob/master/exercices/jour4/4.3%20text%20classification/4.1.3%20mini-project.ipynb?hl=fr)\n",
        "5. Jour 5\n",
        "    * [Projet final](https://colab.research.google.com/github/Hotsnown/seminaire-bordeaux-2022/blob/master/exercices/jour5/final-project.ipynb?hl=fr)"
      ]
    }
  ],
  "metadata": {
    "colab": {
      "provenance": []
    },
    "kernelspec": {
      "display_name": "Python 3.10.7 64-bit (microsoft store)",
      "language": "python",
      "name": "python3"
    },
    "language_info": {
      "codemirror_mode": {
        "name": "ipython",
        "version": 3
      },
      "file_extension": ".py",
      "mimetype": "text/x-python",
      "name": "python",
      "nbconvert_exporter": "python",
      "pygments_lexer": "ipython3",
      "version": "3.10.8"
    },
    "orig_nbformat": 4,
    "vscode": {
      "interpreter": {
        "hash": "ab330c63be1774c7d4efd28485dada9f7c6eb3392ec4de9472ccb4da1daed7d7"
      }
    }
  },
  "nbformat": 4,
  "nbformat_minor": 0
}
