{
  "cells": [
    {
      "cell_type": "code",
      "execution_count": 1,
      "metadata": {
        "colab": {
          "base_uri": "https://localhost:8080/",
          "height": 130
        },
        "id": "iglLoKy87uRr",
        "outputId": "6bbd54d1-6929-42c6-cba8-98c5bca88749"
      },
      "outputs": [
        {
          "ename": "SyntaxError",
          "evalue": "ignored",
          "output_type": "error",
          "traceback": [
            "\u001b[0;36m  File \u001b[0;32m\"<ipython-input-1-42528949d68b>\"\u001b[0;36m, line \u001b[0;32m4\u001b[0m\n\u001b[0;31m    from seminaire.evaluation.jour2.listes.listes import\u001b[0m\n\u001b[0m                                                         ^\u001b[0m\n\u001b[0;31mSyntaxError\u001b[0m\u001b[0;31m:\u001b[0m invalid syntax\n"
          ]
        }
      ],
      "source": [
        "!git clone https://github.com/Hotsnown/seminaire-bordeaux-2022.git seminaire &> /dev/null\n",
        "%pip install nbautoeval &> /dev/null\n",
        "from seminaire.evaluation.jour3.cleaning.project import remove_html_tags_func, remove_url_func, remove_accented_chars_func, remove_punctuation_func,remove_irr_char_func, remove_extra_whitespaces_func, word_count_func\n",
        "!git clone https://github.com/chinmusique/outcome-prediction.git &> /dev/null"
      ]
    },
    {
      "cell_type": "markdown",
      "metadata": {
        "id": "DVlFFgti7uRt"
      },
      "source": [
        "# Nettoyer l'ensemble de données d'identification des résultats"
      ]
    },
    {
      "cell_type": "markdown",
      "metadata": {
        "id": "KgWMpKxE7uRu"
      },
      "source": [
        "## 2 Importer les bibliothèques et les données"
      ]
    },
    {
      "cell_type": "markdown",
      "metadata": {
        "id": "NQHAQUE27uRv"
      },
      "source": [
        "Si vous utilisez la bibliothèque nltk pour la première fois, vous devez importer et télécharger les éléments suivants :"
      ]
    },
    {
      "cell_type": "code",
      "execution_count": 2,
      "metadata": {
        "colab": {
          "base_uri": "https://localhost:8080/"
        },
        "id": "LDg7T4BR7uRv",
        "outputId": "2f73d19a-14b9-4c30-edd5-ca9c8c61a4ce"
      },
      "outputs": [
        {
          "name": "stderr",
          "output_type": "stream",
          "text": [
            "[nltk_data] Downloading package punkt to /root/nltk_data...\n",
            "[nltk_data]   Unzipping tokenizers/punkt.zip.\n",
            "[nltk_data] Downloading package stopwords to /root/nltk_data...\n",
            "[nltk_data]   Unzipping corpora/stopwords.zip.\n",
            "[nltk_data] Downloading package wordnet to /root/nltk_data...\n",
            "[nltk_data] Downloading package averaged_perceptron_tagger to\n",
            "[nltk_data]     /root/nltk_data...\n",
            "[nltk_data]   Unzipping taggers/averaged_perceptron_tagger.zip.\n",
            "[nltk_data] Downloading package maxent_ne_chunker to\n",
            "[nltk_data]     /root/nltk_data...\n",
            "[nltk_data]   Unzipping chunkers/maxent_ne_chunker.zip.\n"
          ]
        },
        {
          "data": {
            "text/plain": [
              "True"
            ]
          },
          "execution_count": 2,
          "metadata": {},
          "output_type": "execute_result"
        }
      ],
      "source": [
        "import nltk\n",
        "nltk.download('punkt')\n",
        "nltk.download('stopwords')\n",
        "nltk.download('wordnet')\n",
        "nltk.download('averaged_perceptron_tagger')\n",
        "nltk.download('maxent_ne_chunker')"
      ]
    },
    {
      "cell_type": "code",
      "execution_count": 3,
      "metadata": {
        "id": "fB6APzIY7uRv"
      },
      "outputs": [],
      "source": [
        "import pandas as pd\n",
        "import numpy as np\n",
        "\n",
        "import pickle as pk\n",
        "\n",
        "import warnings\n",
        "warnings.filterwarnings(\"ignore\")\n",
        "\n",
        "\n",
        "from bs4 import BeautifulSoup\n",
        "import unicodedata\n",
        "import re\n",
        "\n",
        "from nltk.tokenize import word_tokenize\n",
        "from nltk.tokenize import sent_tokenize\n",
        "\n",
        "from nltk.corpus import stopwords\n",
        "\n",
        "\n",
        "from nltk.corpus import wordnet\n",
        "from nltk import pos_tag\n",
        "from nltk import ne_chunk\n",
        "\n",
        "from nltk.stem.porter import PorterStemmer\n",
        "from nltk.stem.wordnet import WordNetLemmatizer\n",
        "\n",
        "from nltk.probability import FreqDist\n",
        "import matplotlib.pyplot as plt\n",
        "from wordcloud import WordCloud"
      ]
    },
    {
      "cell_type": "code",
      "execution_count": 5,
      "metadata": {
        "colab": {
          "base_uri": "https://localhost:8080/",
          "height": 380
        },
        "id": "UArHxjN57uRw",
        "outputId": "06e1fd0e-9010-4096-ecb5-9409b8d78028"
      },
      "outputs": [
        {
          "name": "stdout",
          "output_type": "stream",
          "text": [
            "Cloning into 'outcome-prediction'...\n",
            "remote: Enumerating objects: 584, done.\u001b[K\n",
            "remote: Counting objects: 100% (22/22), done.\u001b[K\n",
            "remote: Compressing objects: 100% (22/22), done.\u001b[K\n",
            "remote: Total 584 (delta 3), reused 0 (delta 0), pack-reused 562\u001b[K\n",
            "Receiving objects: 100% (584/584), 5.20 MiB | 10.82 MiB/s, done.\n",
            "Resolving deltas: 100% (11/11), done.\n",
            "Index(['_id', 'role', 'content', 'class', 'index', 'contentIdx.start',\n",
            "       'contentIdx.end', 'file_name'],\n",
            "      dtype='object')\n"
          ]
        },
        {
          "data": {
            "text/html": [
              "\n",
              "  <div id=\"df-737429bf-3b0e-4187-8a59-9c1b22535731\">\n",
              "    <div class=\"colab-df-container\">\n",
              "      <div>\n",
              "<style scoped>\n",
              "    .dataframe tbody tr th:only-of-type {\n",
              "        vertical-align: middle;\n",
              "    }\n",
              "\n",
              "    .dataframe tbody tr th {\n",
              "        vertical-align: top;\n",
              "    }\n",
              "\n",
              "    .dataframe thead th {\n",
              "        text-align: right;\n",
              "    }\n",
              "</style>\n",
              "<table border=\"1\" class=\"dataframe\">\n",
              "  <thead>\n",
              "    <tr style=\"text-align: right;\">\n",
              "      <th></th>\n",
              "      <th>content</th>\n",
              "      <th>file_name</th>\n",
              "    </tr>\n",
              "  </thead>\n",
              "  <tbody>\n",
              "    <tr>\n",
              "      <th>0</th>\n",
              "      <td>We reverse the orders of the trial court denyi...</td>\n",
              "      <td>77129.json</td>\n",
              "    </tr>\n",
              "    <tr>\n",
              "      <th>1</th>\n",
              "      <td>We therefore reverse Defendant's conviction an...</td>\n",
              "      <td>77129.json</td>\n",
              "    </tr>\n",
              "    <tr>\n",
              "      <th>2</th>\n",
              "      <td>NaN</td>\n",
              "      <td>77129.json</td>\n",
              "    </tr>\n",
              "    <tr>\n",
              "      <th>3</th>\n",
              "      <td>For the reasons discussed herein, we reverse ...</td>\n",
              "      <td>18357.json</td>\n",
              "    </tr>\n",
              "    <tr>\n",
              "      <th>4</th>\n",
              "      <td>Accordingly, the cause is reversed and remande...</td>\n",
              "      <td>18357.json</td>\n",
              "    </tr>\n",
              "  </tbody>\n",
              "</table>\n",
              "</div>\n",
              "      <button class=\"colab-df-convert\" onclick=\"convertToInteractive('df-737429bf-3b0e-4187-8a59-9c1b22535731')\"\n",
              "              title=\"Convert this dataframe to an interactive table.\"\n",
              "              style=\"display:none;\">\n",
              "        \n",
              "  <svg xmlns=\"http://www.w3.org/2000/svg\" height=\"24px\"viewBox=\"0 0 24 24\"\n",
              "       width=\"24px\">\n",
              "    <path d=\"M0 0h24v24H0V0z\" fill=\"none\"/>\n",
              "    <path d=\"M18.56 5.44l.94 2.06.94-2.06 2.06-.94-2.06-.94-.94-2.06-.94 2.06-2.06.94zm-11 1L8.5 8.5l.94-2.06 2.06-.94-2.06-.94L8.5 2.5l-.94 2.06-2.06.94zm10 10l.94 2.06.94-2.06 2.06-.94-2.06-.94-.94-2.06-.94 2.06-2.06.94z\"/><path d=\"M17.41 7.96l-1.37-1.37c-.4-.4-.92-.59-1.43-.59-.52 0-1.04.2-1.43.59L10.3 9.45l-7.72 7.72c-.78.78-.78 2.05 0 2.83L4 21.41c.39.39.9.59 1.41.59.51 0 1.02-.2 1.41-.59l7.78-7.78 2.81-2.81c.8-.78.8-2.07 0-2.86zM5.41 20L4 18.59l7.72-7.72 1.47 1.35L5.41 20z\"/>\n",
              "  </svg>\n",
              "      </button>\n",
              "      \n",
              "  <style>\n",
              "    .colab-df-container {\n",
              "      display:flex;\n",
              "      flex-wrap:wrap;\n",
              "      gap: 12px;\n",
              "    }\n",
              "\n",
              "    .colab-df-convert {\n",
              "      background-color: #E8F0FE;\n",
              "      border: none;\n",
              "      border-radius: 50%;\n",
              "      cursor: pointer;\n",
              "      display: none;\n",
              "      fill: #1967D2;\n",
              "      height: 32px;\n",
              "      padding: 0 0 0 0;\n",
              "      width: 32px;\n",
              "    }\n",
              "\n",
              "    .colab-df-convert:hover {\n",
              "      background-color: #E2EBFA;\n",
              "      box-shadow: 0px 1px 2px rgba(60, 64, 67, 0.3), 0px 1px 3px 1px rgba(60, 64, 67, 0.15);\n",
              "      fill: #174EA6;\n",
              "    }\n",
              "\n",
              "    [theme=dark] .colab-df-convert {\n",
              "      background-color: #3B4455;\n",
              "      fill: #D2E3FC;\n",
              "    }\n",
              "\n",
              "    [theme=dark] .colab-df-convert:hover {\n",
              "      background-color: #434B5C;\n",
              "      box-shadow: 0px 1px 3px 1px rgba(0, 0, 0, 0.15);\n",
              "      filter: drop-shadow(0px 1px 2px rgba(0, 0, 0, 0.3));\n",
              "      fill: #FFFFFF;\n",
              "    }\n",
              "  </style>\n",
              "\n",
              "      <script>\n",
              "        const buttonEl =\n",
              "          document.querySelector('#df-737429bf-3b0e-4187-8a59-9c1b22535731 button.colab-df-convert');\n",
              "        buttonEl.style.display =\n",
              "          google.colab.kernel.accessAllowed ? 'block' : 'none';\n",
              "\n",
              "        async function convertToInteractive(key) {\n",
              "          const element = document.querySelector('#df-737429bf-3b0e-4187-8a59-9c1b22535731');\n",
              "          const dataTable =\n",
              "            await google.colab.kernel.invokeFunction('convertToInteractive',\n",
              "                                                     [key], {});\n",
              "          if (!dataTable) return;\n",
              "\n",
              "          const docLinkHtml = 'Like what you see? Visit the ' +\n",
              "            '<a target=\"_blank\" href=https://colab.research.google.com/notebooks/data_table.ipynb>data table notebook</a>'\n",
              "            + ' to learn more about interactive tables.';\n",
              "          element.innerHTML = '';\n",
              "          dataTable['output_type'] = 'display_data';\n",
              "          await google.colab.output.renderOutput(dataTable, element);\n",
              "          const docLink = document.createElement('div');\n",
              "          docLink.innerHTML = docLinkHtml;\n",
              "          element.appendChild(docLink);\n",
              "        }\n",
              "      </script>\n",
              "    </div>\n",
              "  </div>\n",
              "  "
            ],
            "text/plain": [
              "                                             content   file_name\n",
              "0  We reverse the orders of the trial court denyi...  77129.json\n",
              "1  We therefore reverse Defendant's conviction an...  77129.json\n",
              "2                                                NaN  77129.json\n",
              "3   For the reasons discussed herein, we reverse ...  18357.json\n",
              "4  Accordingly, the cause is reversed and remande...  18357.json"
            ]
          },
          "execution_count": 5,
          "metadata": {},
          "output_type": "execute_result"
        }
      ],
      "source": [
        "import json\n",
        "import pandas as pd\n",
        "from pathlib import Path\n",
        "\n",
        "!git clone https://github.com/chinmusique/outcome-prediction.git\n",
        "\n",
        "# creating list of json files with full paths\n",
        "paths = Path(r'/content/outcome-prediction/data/manual_annotation').glob(\"*.json\")\n",
        "\n",
        "df_list = [] # empty list to store dataframes during the loop\n",
        "for p in paths:\n",
        "    data = json.load(open(p))\n",
        "    data = data[\"annotations\"]\n",
        "    df_nested_list = pd.json_normalize(\n",
        "        data,\n",
        "        meta=['name','description','custom_fields'],)\n",
        "    df_nested_list['file_name'] = p.name  # creating column to store file name: p.name\n",
        "    df_list.append(df_nested_list) # dataframe to the list\n",
        "\n",
        "df_raw = pd.concat(df_list, axis=0, ignore_index=True) # creating One Large Dataframe from all stored in the list\n",
        "print(df_raw.columns)\n",
        "\n",
        "df = df_raw.drop(columns=[\"role\",\t\"class\",\t\"index\",\t\"contentIdx.start\",\t\"contentIdx.end\", \"_id\", \"index\"])\n",
        "df.head()"
      ]
    },
    {
      "cell_type": "markdown",
      "metadata": {
        "id": "5Em_JCm27uRx"
      },
      "source": [
        "Cependant, nous ne travaillerons qu'avec la partie suivante de l'ensemble de données :"
      ]
    },
    {
      "cell_type": "markdown",
      "metadata": {
        "id": "0kOXM8pi7uRx"
      },
      "source": [
        "Examinons de plus près la première série d'examens :"
      ]
    },
    {
      "cell_type": "code",
      "execution_count": 9,
      "metadata": {
        "colab": {
          "base_uri": "https://localhost:8080/",
          "height": 35
        },
        "id": "IJDU-ZgT7uRy",
        "outputId": "8a4fd6a6-cefc-428a-ce51-2ddb9d741bab"
      },
      "outputs": [
        {
          "data": {
            "application/vnd.google.colaboratory.intrinsic+json": {
              "type": "string"
            },
            "text/plain": [
              "\"We reverse the orders of the trial court denying Defendant's motion to dismiss the indictment.\""
            ]
          },
          "execution_count": 9,
          "metadata": {},
          "output_type": "execute_result"
        }
      ],
      "source": [
        "df = df[[\"content\"]]\n",
        "\n",
        "df['content'].iloc[0]\n"
      ]
    },
    {
      "cell_type": "code",
      "execution_count": 10,
      "metadata": {
        "colab": {
          "base_uri": "https://localhost:8080/"
        },
        "id": "9I8xCZl77uRy",
        "outputId": "8f67ce28-814b-4bfb-e20f-bcf980ffdaa0"
      },
      "outputs": [
        {
          "data": {
            "text/plain": [
              "content    object\n",
              "dtype: object"
            ]
          },
          "execution_count": 10,
          "metadata": {},
          "output_type": "execute_result"
        }
      ],
      "source": [
        "df.dtypes\n"
      ]
    },
    {
      "cell_type": "markdown",
      "metadata": {
        "id": "NmF6tzx77uRy"
      },
      "source": [
        "Pour plus de sécurité, je convertis les avis sous forme de chaînes pour pouvoir les utiliser correctement."
      ]
    },
    {
      "cell_type": "code",
      "execution_count": 12,
      "metadata": {
        "id": "c91_Ylpp7uRy"
      },
      "outputs": [],
      "source": [
        "df['content'] = df['content'].astype(str)"
      ]
    },
    {
      "cell_type": "markdown",
      "metadata": {
        "id": "ird7qD4M7uR0"
      },
      "source": [
        "### 3 Prétraitement du texte"
      ]
    },
    {
      "cell_type": "markdown",
      "metadata": {
        "id": "wK0eaK137uR0"
      },
      "source": [
        "Il y a quelques étapes de prétraitement du texte à prendre en compte et quelques autres que vous pouvez faire. Dans cet article, je parlerai du nettoyage de texte."
      ]
    },
    {
      "cell_type": "markdown",
      "metadata": {
        "id": "m7qfBEqV7uR0"
      },
      "source": [
        "#### 3.1 Nettoyage du texte"
      ]
    },
    {
      "cell_type": "markdown",
      "metadata": {
        "id": "nfbnxhRP7uR0"
      },
      "source": [
        "Ici, j'ai créé un exemple de chaîne, où vous pouvez très bien comprendre les étapes suivantes."
      ]
    },
    {
      "cell_type": "code",
      "execution_count": 21,
      "metadata": {
        "colab": {
          "base_uri": "https://localhost:8080/",
          "height": 70
        },
        "id": "oLFoac6L7uR0",
        "outputId": "5423c1d6-e018-4936-a0f7-e677d422ce60"
      },
      "outputs": [
        {
          "data": {
            "application/vnd.google.colaboratory.intrinsic+json": {
              "type": "string"
            },
            "text/plain": [
              "\"Hi e-v-e-r-y-o-n-e !!!@@@!!! I gave a 5-star rating. Bought this special product here: https://www.amazon.com/. Another link: www.amazon.com/ Here the HTML-Tag as well:  <a href='https://www.amazon.com/'> …</a>. I HIGHLY RECOMMEND THIS PRDUCT !! I @ (love) [it] <for> {all} ~it's* |/ #special / ^^characters;! I am currently investigating the special device and am excited about the features. Love it! Furthermore, I found the support really great. Paid about 180$ for it (5.7inch version, 4.8'' screen). Sómě special Áccěntěd těxt and words like résumé, café or exposé.\""
            ]
          },
          "execution_count": 21,
          "metadata": {},
          "output_type": "execute_result"
        }
      ],
      "source": [
        "messy_text = \\\n",
        "\"Hi e-v-e-r-y-o-n-e !!!@@@!!! I gave a 5-star rating. \\\n",
        "Bought this special product here: https://www.amazon.com/. Another link: www.amazon.com/ \\\n",
        "Here the HTML-Tag as well:  <a href='https://www.amazon.com/'> …</a>. \\\n",
        "I HIGHLY RECOMMEND THIS PRDUCT !! \\\n",
        "I @ (love) [it] <for> {all} ~it's* |/ #special / ^^characters;! \\\n",
        "I am currently investigating the special device and am excited about the features. Love it! \\\n",
        "Furthermore, I found the support really great. Paid about 180$ for it (5.7inch version, 4.8'' screen). \\\n",
        "Sómě special Áccěntěd těxt and words like résumé, café or exposé.\\\n",
        "\"\n",
        "messy_text"
      ]
    },
    {
      "cell_type": "markdown",
      "metadata": {
        "id": "7ThJ2cw57uR1"
      },
      "source": [
        "Dans ce qui suit, je vais effectuer les étapes individuelles pour le nettoyage du texte et utiliser toujours des parties de la chaîne messy_text."
      ]
    },
    {
      "cell_type": "markdown",
      "metadata": {
        "id": "790mosEO7uR1"
      },
      "source": [
        "#### 3.1.1 Conversion en minuscules"
      ]
    },
    {
      "cell_type": "markdown",
      "metadata": {
        "id": "IWqVGR2o7uR1"
      },
      "source": [
        "En général, il est conseillé de formater le texte entièrement en minuscules."
      ]
    },
    {
      "cell_type": "code",
      "execution_count": 22,
      "metadata": {
        "colab": {
          "base_uri": "https://localhost:8080/",
          "height": 35
        },
        "id": "3qp2ctxi7uR1",
        "outputId": "7f1a9d30-5416-4659-8660-7e9e992d81b3"
      },
      "outputs": [
        {
          "data": {
            "application/vnd.google.colaboratory.intrinsic+json": {
              "type": "string"
            },
            "text/plain": [
              "'I HIGHLY RECOMMEND THIS PRDUCT !!'"
            ]
          },
          "execution_count": 22,
          "metadata": {},
          "output_type": "execute_result"
        }
      ],
      "source": [
        "messy_text_lower_case = \\\n",
        "\"I HIGHLY RECOMMEND THIS PRDUCT !!\\\n",
        "\"\n",
        "messy_text_lower_case"
      ]
    },
    {
      "cell_type": "code",
      "execution_count": null,
      "metadata": {
        "colab": {
          "base_uri": "https://localhost:8080/",
          "height": 35
        },
        "id": "ojJOGBl-_6Z_",
        "outputId": "74c624b2-9bb1-4364-ea47-fc3edb49725c"
      },
      "outputs": [
        {
          "data": {
            "application/vnd.google.colaboratory.intrinsic+json": {
              "type": "string"
            },
            "text/plain": [
              "'i highly recommend this prduct !!'"
            ]
          },
          "execution_count": 23,
          "metadata": {},
          "output_type": "execute_result"
        }
      ],
      "source": [
        "#TODO mettez messy_text_lower_case en minuscule\n"
      ]
    },
    {
      "cell_type": "markdown",
      "metadata": {
        "id": "kgxT2nak7uR1"
      },
      "source": [
        "#### 3.1.2 Suppression des balises HTML"
      ]
    },
    {
      "cell_type": "code",
      "execution_count": 24,
      "metadata": {
        "colab": {
          "base_uri": "https://localhost:8080/",
          "height": 35
        },
        "id": "7f4OjHbV7uR1",
        "outputId": "71fcd2d3-9944-4a92-af72-eeb8fdf0e438"
      },
      "outputs": [
        {
          "data": {
            "application/vnd.google.colaboratory.intrinsic+json": {
              "type": "string"
            },
            "text/plain": [
              "\"Here the HTML-Tag as well:  <a href='https://www.amazon.com/'> …</a>.\""
            ]
          },
          "execution_count": 24,
          "metadata": {},
          "output_type": "execute_result"
        }
      ],
      "source": [
        "messy_text_html = \\\n",
        "\"Here the HTML-Tag as well:  <a href='https://www.amazon.com/'> …</a>.\\\n",
        "\"\n",
        "messy_text_html"
      ]
    },
    {
      "cell_type": "code",
      "execution_count": null,
      "metadata": {
        "id": "-j1qGLAD7uR1"
      },
      "outputs": [],
      "source": [
        "#TODO : créez une fonction supprimer_html(text) qui supprime les balises html. \n",
        "#Si vous n'y arrivez pas, vous pouvez utiliser la fonction remove_html_tags_func."
      ]
    },
    {
      "cell_type": "code",
      "execution_count": 26,
      "metadata": {
        "colab": {
          "base_uri": "https://localhost:8080/",
          "height": 35
        },
        "id": "jC0Pdgbz7uR1",
        "outputId": "44139fd4-3186-4d72-8cee-ed03636f16f5"
      },
      "outputs": [
        {
          "data": {
            "application/vnd.google.colaboratory.intrinsic+json": {
              "type": "string"
            },
            "text/plain": [
              "'Here the HTML-Tag as well:   ….'"
            ]
          },
          "execution_count": 26,
          "metadata": {},
          "output_type": "execute_result"
        }
      ],
      "source": [
        "#remove_html_tags_func(messy_text_html)"
      ]
    },
    {
      "cell_type": "markdown",
      "metadata": {
        "id": "HMGGigS37uR2"
      },
      "source": [
        "#### 3.1.3 Suppression d'URL"
      ]
    },
    {
      "cell_type": "code",
      "execution_count": 27,
      "metadata": {
        "colab": {
          "base_uri": "https://localhost:8080/",
          "height": 35
        },
        "id": "bIzvNgv17uR2",
        "outputId": "7c91163e-ace0-4238-8812-1dbc82a610dc"
      },
      "outputs": [
        {
          "data": {
            "application/vnd.google.colaboratory.intrinsic+json": {
              "type": "string"
            },
            "text/plain": [
              "'Bought this product here: https://www.amazon.com/. Another link: www.amazon.com/'"
            ]
          },
          "execution_count": 27,
          "metadata": {},
          "output_type": "execute_result"
        }
      ],
      "source": [
        "messy_text_url = \\\n",
        "\"Bought this product here: https://www.amazon.com/. Another link: www.amazon.com/\\\n",
        "\"\n",
        "messy_text_url"
      ]
    },
    {
      "cell_type": "code",
      "execution_count": 28,
      "metadata": {
        "id": "92zDoXnI7uR2"
      },
      "outputs": [],
      "source": [
        "#TODO : créez une fonction supprimer_url(text) qui supprime les urls. \n",
        "#Si vous n'y arrivez pas, vous pouvez utiliser la fonction remove_url_func."
      ]
    },
    {
      "cell_type": "code",
      "execution_count": 29,
      "metadata": {
        "colab": {
          "base_uri": "https://localhost:8080/",
          "height": 35
        },
        "id": "yhLZwiPm7uR2",
        "outputId": "93909e26-4a74-4126-f3de-99a5e0fc0819"
      },
      "outputs": [
        {
          "data": {
            "application/vnd.google.colaboratory.intrinsic+json": {
              "type": "string"
            },
            "text/plain": [
              "'Bought this product here:  Another link: '"
            ]
          },
          "execution_count": 29,
          "metadata": {},
          "output_type": "execute_result"
        }
      ],
      "source": [
        "#remove_url_func(messy_text_url)\n"
      ]
    },
    {
      "cell_type": "markdown",
      "metadata": {
        "id": "hu2AK-u-7uR2"
      },
      "source": [
        "#### 3.1.4 Suppression des caractères accentués"
      ]
    },
    {
      "cell_type": "code",
      "execution_count": 30,
      "metadata": {
        "colab": {
          "base_uri": "https://localhost:8080/",
          "height": 35
        },
        "id": "NPHfLTgz7uR2",
        "outputId": "c9233580-4985-4f3d-dad5-987e3b75f52a"
      },
      "outputs": [
        {
          "data": {
            "application/vnd.google.colaboratory.intrinsic+json": {
              "type": "string"
            },
            "text/plain": [
              "'Sómě Áccěntěd těxt and words like résumé, café or exposé.'"
            ]
          },
          "execution_count": 30,
          "metadata": {},
          "output_type": "execute_result"
        }
      ],
      "source": [
        "messy_text_accented_chars = \\\n",
        "\"Sómě Áccěntěd těxt and words like résumé, café or exposé.\\\n",
        "\"\n",
        "messy_text_accented_chars"
      ]
    },
    {
      "cell_type": "code",
      "execution_count": 31,
      "metadata": {
        "id": "uPmfwK337uR2"
      },
      "outputs": [],
      "source": [
        "#TODO : créez une fonction supprimer_accent(text) qui supprime les accents. \n",
        "#Si vous n'y arrivez pas, vous pouvez utiliser la fonction remove_accented_chars_func."
      ]
    },
    {
      "cell_type": "code",
      "execution_count": 32,
      "metadata": {
        "colab": {
          "base_uri": "https://localhost:8080/",
          "height": 35
        },
        "id": "LSqiA61P7uR2",
        "outputId": "177aec94-2415-4224-e4ce-1ba5bcd01209"
      },
      "outputs": [
        {
          "data": {
            "application/vnd.google.colaboratory.intrinsic+json": {
              "type": "string"
            },
            "text/plain": [
              "'Some Accented text and words like resume, cafe or expose.'"
            ]
          },
          "execution_count": 32,
          "metadata": {},
          "output_type": "execute_result"
        }
      ],
      "source": [
        "#remove_accented_chars_func(messy_text_accented_chars)\n"
      ]
    },
    {
      "cell_type": "markdown",
      "metadata": {
        "id": "VFKN8FX47uR3"
      },
      "source": [
        "#### 3.1.5 Supprimer la ponctuation"
      ]
    },
    {
      "cell_type": "markdown",
      "metadata": {
        "id": "mzYh_FHC7uR3"
      },
      "source": [
        "Punctuation is essentially the following set of symbols: [!”#$%&’()*+,-./:;<=>?@[]^_`{|}~]"
      ]
    },
    {
      "cell_type": "code",
      "execution_count": 33,
      "metadata": {
        "colab": {
          "base_uri": "https://localhost:8080/",
          "height": 35
        },
        "id": "feXHgAAE7uR3",
        "outputId": "61bf4991-953e-47c7-d1b9-35f6d3d54a06"
      },
      "outputs": [
        {
          "data": {
            "application/vnd.google.colaboratory.intrinsic+json": {
              "type": "string"
            },
            "text/plain": [
              "\"Furthermore, I found the support really great. Paid about 180$ for it (5.7inch version, 4.8'' screen).\""
            ]
          },
          "execution_count": 33,
          "metadata": {},
          "output_type": "execute_result"
        }
      ],
      "source": [
        "messy_text_remove_punctuation = \\\n",
        "\"Furthermore, I found the support really great. Paid about 180$ for it (5.7inch version, 4.8'' screen).\\\n",
        "\"\n",
        "messy_text_remove_punctuation"
      ]
    },
    {
      "cell_type": "code",
      "execution_count": 34,
      "metadata": {
        "id": "v5dlqQn17uR3"
      },
      "outputs": [],
      "source": [
        "#TODO : créez une fonction supprimer_ponctuation(text) qui supprime les accents. \n",
        "#Si vous n'y arrivez pas, vous pouvez utiliser la fonction remove_accented_chars_func."
      ]
    },
    {
      "cell_type": "code",
      "execution_count": 35,
      "metadata": {
        "colab": {
          "base_uri": "https://localhost:8080/",
          "height": 35
        },
        "id": "u-0z7rA17uR3",
        "outputId": "7d59a0be-86fa-488a-b189-67688f28ce77"
      },
      "outputs": [
        {
          "data": {
            "application/vnd.google.colaboratory.intrinsic+json": {
              "type": "string"
            },
            "text/plain": [
              "'Furthermore  I found the support really great  Paid about 180  for it  5 7inch version  4 8   screen  '"
            ]
          },
          "execution_count": 35,
          "metadata": {},
          "output_type": "execute_result"
        }
      ],
      "source": [
        "#remove_punctuation_func(messy_text_remove_punctuation)\n"
      ]
    },
    {
      "cell_type": "markdown",
      "metadata": {
        "id": "KZMi23r47uR3"
      },
      "source": [
        "#### 3.1.6 Suppression des caractères non pertinents (chiffres et ponctuation)"
      ]
    },
    {
      "cell_type": "code",
      "execution_count": 36,
      "metadata": {
        "colab": {
          "base_uri": "https://localhost:8080/",
          "height": 35
        },
        "id": "u9Oh7r_B7uR3",
        "outputId": "1c6ebcd4-d0f4-40ba-810a-9bd76774d8dd"
      },
      "outputs": [
        {
          "data": {
            "application/vnd.google.colaboratory.intrinsic+json": {
              "type": "string"
            },
            "text/plain": [
              "\"Furthermore, I found the support really great. Paid about 180$ for it (5.7inch version, 4.8'' screen).\""
            ]
          },
          "execution_count": 36,
          "metadata": {},
          "output_type": "execute_result"
        }
      ],
      "source": [
        "messy_text_irr_char = \\\n",
        "\"Furthermore, I found the support really great. Paid about 180$ for it (5.7inch version, 4.8'' screen).\\\n",
        "\"\n",
        "messy_text_irr_char"
      ]
    },
    {
      "cell_type": "code",
      "execution_count": 37,
      "metadata": {
        "id": "dmAbHuGZ7uR3"
      },
      "outputs": [],
      "source": [
        "#TODO : créez une fonction supprimer_caractères_spéciaux(text) qui supprime les caractères_spéciaux. \n",
        "#Si vous n'y arrivez pas, vous pouvez utiliser la fonction remove_irr_char_func."
      ]
    },
    {
      "cell_type": "code",
      "execution_count": 38,
      "metadata": {
        "colab": {
          "base_uri": "https://localhost:8080/",
          "height": 35
        },
        "id": "lSwVhNpC7uR3",
        "outputId": "83b9e365-d7da-46bf-948b-b987b4d639ce"
      },
      "outputs": [
        {
          "data": {
            "application/vnd.google.colaboratory.intrinsic+json": {
              "type": "string"
            },
            "text/plain": [
              "'Furthermore  I found the support really great  Paid about      for it     inch version        screen  '"
            ]
          },
          "execution_count": 38,
          "metadata": {},
          "output_type": "execute_result"
        }
      ],
      "source": [
        "#remove_irr_char_func(messy_text_irr_char)\n"
      ]
    },
    {
      "cell_type": "markdown",
      "metadata": {
        "id": "LETot_W97uR4"
      },
      "source": [
        "#### 3.1.7 Suppression des espaces blancs supplémentaires"
      ]
    },
    {
      "cell_type": "code",
      "execution_count": 39,
      "metadata": {
        "colab": {
          "base_uri": "https://localhost:8080/",
          "height": 35
        },
        "id": "m5NLW0oX7uR4",
        "outputId": "ed70602e-678b-4f22-de0c-ad74bb237df2"
      },
      "outputs": [
        {
          "data": {
            "application/vnd.google.colaboratory.intrinsic+json": {
              "type": "string"
            },
            "text/plain": [
              "'I  am   a  text    with  many   whitespaces.'"
            ]
          },
          "execution_count": 39,
          "metadata": {},
          "output_type": "execute_result"
        }
      ],
      "source": [
        "messy_text_extra_whitespaces = \\\n",
        "\"I  am   a  text    with  many   whitespaces.\\\n",
        "\"\n",
        "messy_text_extra_whitespaces"
      ]
    },
    {
      "cell_type": "code",
      "execution_count": 40,
      "metadata": {
        "id": "Px8HEPsw7uR4"
      },
      "outputs": [],
      "source": [
        "#TODO : créez une fonction supprimer_extra_espaces(text) qui supprime les doubles espaces. \n",
        "#Si vous n'y arrivez pas, vous pouvez utiliser la fonction remove_extra_whitespaces_func."
      ]
    },
    {
      "cell_type": "code",
      "execution_count": 41,
      "metadata": {
        "colab": {
          "base_uri": "https://localhost:8080/",
          "height": 35
        },
        "id": "em80dhrk7uR4",
        "outputId": "081bc690-a000-49f6-d30d-98d3f49d5f32"
      },
      "outputs": [
        {
          "data": {
            "application/vnd.google.colaboratory.intrinsic+json": {
              "type": "string"
            },
            "text/plain": [
              "'I am a text with many whitespaces.'"
            ]
          },
          "execution_count": 41,
          "metadata": {},
          "output_type": "execute_result"
        }
      ],
      "source": [
        "#remove_extra_whitespaces_func(messy_text_extra_whitespaces)"
      ]
    },
    {
      "cell_type": "markdown",
      "metadata": {
        "id": "qAPxQM3Q7uR4"
      },
      "source": [
        "Cette fonction est utile à la fin, pour corriger les problèmes de formattage causés par la suppression de la ponctuation ou des mots vides."
      ]
    },
    {
      "cell_type": "markdown",
      "metadata": {
        "id": "-BldD-vI7uR4"
      },
      "source": [
        "#### 3.1.8 Extra : Compter les mots"
      ]
    },
    {
      "cell_type": "markdown",
      "metadata": {
        "id": "hcQWHr7Z7uR4"
      },
      "source": [
        "Il est intéressant d'afficher le nombre de mots existants, notamment pour la validation des étapes de pré-traitement. Nous utiliserons cette fonction encore et encore dans les étapes ultérieures."
      ]
    },
    {
      "cell_type": "code",
      "execution_count": 42,
      "metadata": {
        "colab": {
          "base_uri": "https://localhost:8080/",
          "height": 35
        },
        "id": "8RcZ_T_Q7uR4",
        "outputId": "6acd79a6-5025-48a9-c8bd-29f8ccc28384"
      },
      "outputs": [
        {
          "data": {
            "application/vnd.google.colaboratory.intrinsic+json": {
              "type": "string"
            },
            "text/plain": [
              "'How many words do you think I will contain?'"
            ]
          },
          "execution_count": 42,
          "metadata": {},
          "output_type": "execute_result"
        }
      ],
      "source": [
        "messy_text_word_count = \\\n",
        "\"How many words do you think I will contain?\\\n",
        "\"\n",
        "messy_text_word_count"
      ]
    },
    {
      "cell_type": "code",
      "execution_count": 43,
      "metadata": {
        "id": "eU8HnbN27uR5"
      },
      "outputs": [],
      "source": [
        "#TODO : créez une fonction compter_mots(text) qui compte les mots. \n",
        "#Si vous n'y arrivez pas, vous pouvez utiliser la fonction word_count_func."
      ]
    },
    {
      "cell_type": "code",
      "execution_count": 44,
      "metadata": {
        "colab": {
          "base_uri": "https://localhost:8080/"
        },
        "id": "-Pdcuf8F7uR5",
        "outputId": "eddc7923-4795-4d48-945d-79758a8ab545"
      },
      "outputs": [
        {
          "data": {
            "text/plain": [
              "9"
            ]
          },
          "execution_count": 44,
          "metadata": {},
          "output_type": "execute_result"
        }
      ],
      "source": [
        "#word_count_func(messy_text_word_count)"
      ]
    },
    {
      "cell_type": "markdown",
      "metadata": {
        "id": "J-R1E5qE7uR6"
      },
      "source": [
        "#### 3.1.10 Application à l'exemple de chaîne"
      ]
    },
    {
      "cell_type": "markdown",
      "metadata": {
        "id": "EjekUer57uR6"
      },
      "source": [
        "Avant cela, j'ai utilisé des modules de texte individuels pour montrer comment fonctionnent toutes les étapes de nettoyage de texte. Il est maintenant temps d'appliquer ces fonctions à Example String (et ensuite au DataFrame) l'une après l'autre."
      ]
    },
    {
      "cell_type": "code",
      "execution_count": 48,
      "metadata": {
        "colab": {
          "base_uri": "https://localhost:8080/",
          "height": 70
        },
        "id": "TBuDGS9t7uR6",
        "outputId": "4d94d9d8-cdf2-4389-d11b-21e521695c18"
      },
      "outputs": [
        {
          "data": {
            "application/vnd.google.colaboratory.intrinsic+json": {
              "type": "string"
            },
            "text/plain": [
              "\"Hi e-v-e-r-y-o-n-e !!!@@@!!! I gave a 5-star rating. Bought this special product here: https://www.amazon.com/. Another link: www.amazon.com/ Here the HTML-Tag as well:  <a href='https://www.amazon.com/'> …</a>. I HIGHLY RECOMMEND THIS PRDUCT !! I @ (love) [it] <for> {all} ~it's* |/ #special / ^^characters;! I am currently investigating the special device and am excited about the features. Love it! Furthermore, I found the support really great. Paid about 180$ for it (5.7inch version, 4.8'' screen). Sómě special Áccěntěd těxt and words like résumé, café or exposé.\""
            ]
          },
          "execution_count": 48,
          "metadata": {},
          "output_type": "execute_result"
        }
      ],
      "source": [
        "messy_text\n"
      ]
    },
    {
      "cell_type": "code",
      "execution_count": 49,
      "metadata": {
        "colab": {
          "base_uri": "https://localhost:8080/",
          "height": 70
        },
        "id": "EqT4_TKY7uR6",
        "outputId": "8d46d789-03eb-4259-a437-fb59c16788c2"
      },
      "outputs": [
        {
          "data": {
            "application/vnd.google.colaboratory.intrinsic+json": {
              "type": "string"
            },
            "text/plain": [
              "\"hi e-v-e-r-y-o-n-e !!!@@@!!! i gave a 5-star rating. bought this special product here: https://www.amazon.com/. another link: www.amazon.com/ here the html-tag as well:  <a href='https://www.amazon.com/'> …</a>. i highly recommend this prduct !! i @ (love) [it] <for> {all} ~it's* |/ #special / ^^characters;! i am currently investigating the special device and am excited about the features. love it! furthermore, i found the support really great. paid about 180$ for it (5.7inch version, 4.8'' screen). sómě special áccěntěd těxt and words like résumé, café or exposé.\""
            ]
          },
          "execution_count": 49,
          "metadata": {},
          "output_type": "execute_result"
        }
      ],
      "source": [
        "messy_text_lower = #TODO\n",
        "messy_text_lower"
      ]
    },
    {
      "cell_type": "code",
      "execution_count": 50,
      "metadata": {
        "colab": {
          "base_uri": "https://localhost:8080/",
          "height": 53
        },
        "id": "-WR14lVF7uR6",
        "outputId": "5366058e-aba9-45b6-a5c4-ffb9547f06b6"
      },
      "outputs": [
        {
          "data": {
            "application/vnd.google.colaboratory.intrinsic+json": {
              "type": "string"
            },
            "text/plain": [
              "\"hi e-v-e-r-y-o-n-e !!!@@@!!! i gave a 5-star rating. bought this special product here: https://www.amazon.com/. another link: www.amazon.com/ here the html-tag as well:   …. i highly recommend this prduct !! i @ (love) [it]  {all} ~it's* |/ #special / ^^characters;! i am currently investigating the special device and am excited about the features. love it! furthermore, i found the support really great. paid about 180$ for it (5.7inch version, 4.8'' screen). sómě special áccěntěd těxt and words like résumé, café or exposé.\""
            ]
          },
          "execution_count": 50,
          "metadata": {},
          "output_type": "execute_result"
        }
      ],
      "source": [
        "messy_text_wo_html = #TODO\n",
        "messy_text_wo_html"
      ]
    },
    {
      "cell_type": "code",
      "execution_count": 51,
      "metadata": {
        "colab": {
          "base_uri": "https://localhost:8080/",
          "height": 53
        },
        "id": "40J4Un4v7uR6",
        "outputId": "2c2f5cf8-1ae4-4d55-8b42-442da55afeae"
      },
      "outputs": [
        {
          "data": {
            "application/vnd.google.colaboratory.intrinsic+json": {
              "type": "string"
            },
            "text/plain": [
              "\"hi e-v-e-r-y-o-n-e !!!@@@!!! i gave a 5-star rating. bought this special product here:  another link:  here the html-tag as well:   …. i highly recommend this prduct !! i @ (love) [it]  {all} ~it's* |/ #special / ^^characters;! i am currently investigating the special device and am excited about the features. love it! furthermore, i found the support really great. paid about 180$ for it (5.7inch version, 4.8'' screen). sómě special áccěntěd těxt and words like résumé, café or exposé.\""
            ]
          },
          "execution_count": 51,
          "metadata": {},
          "output_type": "execute_result"
        }
      ],
      "source": [
        "messy_text_wo_url = #TODO\n",
        "messy_text_wo_url"
      ]
    },
    {
      "cell_type": "code",
      "execution_count": 52,
      "metadata": {
        "colab": {
          "base_uri": "https://localhost:8080/",
          "height": 53
        },
        "id": "_PRvSPhC7uR6",
        "outputId": "8b26112f-bbf2-4525-ff02-cd42ffce2bfc"
      },
      "outputs": [
        {
          "data": {
            "application/vnd.google.colaboratory.intrinsic+json": {
              "type": "string"
            },
            "text/plain": [
              "\"hi e-v-e-r-y-o-n-e !!!@@@!!! i gave a 5-star rating. bought this special product here:  another link:  here the html-tag as well:   .... i highly recommend this prduct !! i @ (love) [it]  {all} ~it's* |/ #special / ^^characters;! i am currently investigating the special device and am excited about the features. love it! furthermore, i found the support really great. paid about 180$ for it (5.7inch version, 4.8'' screen). some special accented text and words like resume, cafe or expose.\""
            ]
          },
          "execution_count": 52,
          "metadata": {},
          "output_type": "execute_result"
        }
      ],
      "source": [
        "messy_text_wo_acc_chars = #TODO\n",
        "messy_text_wo_acc_chars"
      ]
    },
    {
      "cell_type": "code",
      "execution_count": 53,
      "metadata": {
        "colab": {
          "base_uri": "https://localhost:8080/",
          "height": 53
        },
        "id": "j2Z9sMbk7uR6",
        "outputId": "8962b236-46d5-4da5-d51b-584e122a5e00"
      },
      "outputs": [
        {
          "data": {
            "application/vnd.google.colaboratory.intrinsic+json": {
              "type": "string"
            },
            "text/plain": [
              "'hi e v e r y o n e           i gave a 5 star rating  bought this special product here   another link   here the html tag as well         i highly recommend this prduct    i    love   it    all   it s      special     characters   i am currently investigating the special device and am excited about the features  love it  furthermore  i found the support really great  paid about 180  for it  5 7inch version  4 8   screen   some special accented text and words like resume  cafe or expose '"
            ]
          },
          "execution_count": 53,
          "metadata": {},
          "output_type": "execute_result"
        }
      ],
      "source": [
        "messy_text_wo_punct = #TODO\n",
        "messy_text_wo_punct"
      ]
    },
    {
      "cell_type": "code",
      "execution_count": 54,
      "metadata": {
        "colab": {
          "base_uri": "https://localhost:8080/",
          "height": 53
        },
        "id": "afCVXZv07uR6",
        "outputId": "4f0e8a0f-5134-441a-adc4-c46bfebe67bd"
      },
      "outputs": [
        {
          "data": {
            "application/vnd.google.colaboratory.intrinsic+json": {
              "type": "string"
            },
            "text/plain": [
              "'hi e v e r y o n e           i gave a   star rating  bought this special product here   another link   here the html tag as well         i highly recommend this prduct    i    love   it    all   it s      special     characters   i am currently investigating the special device and am excited about the features  love it  furthermore  i found the support really great  paid about      for it     inch version        screen   some special accented text and words like resume  cafe or expose '"
            ]
          },
          "execution_count": 54,
          "metadata": {},
          "output_type": "execute_result"
        }
      ],
      "source": [
        "messy_text_wo_irr_char = #TODO\n",
        "messy_text_wo_irr_char"
      ]
    },
    {
      "cell_type": "code",
      "execution_count": 55,
      "metadata": {
        "colab": {
          "base_uri": "https://localhost:8080/",
          "height": 53
        },
        "id": "0ixuhg_v7uR6",
        "outputId": "da729ad2-f23c-4f80-cf62-5cac8a238160"
      },
      "outputs": [
        {
          "data": {
            "application/vnd.google.colaboratory.intrinsic+json": {
              "type": "string"
            },
            "text/plain": [
              "'hi e v e r y o n e i gave a star rating bought this special product here another link here the html tag as well i highly recommend this prduct i love it all it s special characters i am currently investigating the special device and am excited about the features love it furthermore i found the support really great paid about for it inch version screen some special accented text and words like resume cafe or expose'"
            ]
          },
          "execution_count": 55,
          "metadata": {},
          "output_type": "execute_result"
        }
      ],
      "source": [
        "clean_text = #TODO\n",
        "clean_text"
      ]
    },
    {
      "cell_type": "code",
      "execution_count": 56,
      "metadata": {
        "colab": {
          "base_uri": "https://localhost:8080/"
        },
        "id": "mt4D5s377uR6",
        "outputId": "5484c68f-1e0e-42ff-886b-aaf69a299cb3"
      },
      "outputs": [
        {
          "name": "stdout",
          "output_type": "stream",
          "text": [
            "Number of words: 80\n"
          ]
        }
      ],
      "source": [
        "print('Nombre de mots: ' + str(word_count_func(clean_text)))\n"
      ]
    },
    {
      "cell_type": "markdown",
      "metadata": {
        "id": "qUmfLk6s7uR7"
      },
      "source": [
        "#### 3.1.11 Application au DataFrame"
      ]
    },
    {
      "cell_type": "markdown",
      "metadata": {
        "id": "fNiS2Rwh7uR7"
      },
      "source": [
        "Maintenant, nous appliquons les étapes de nettoyage de texte indiquées ci-dessus au DataFrame :"
      ]
    },
    {
      "cell_type": "code",
      "execution_count": 57,
      "metadata": {
        "colab": {
          "base_uri": "https://localhost:8080/",
          "height": 206
        },
        "id": "HmIyeppq7uR7",
        "outputId": "0ac1a4e1-b25a-438a-d565-5865bee67615"
      },
      "outputs": [
        {
          "data": {
            "text/html": [
              "\n",
              "  <div id=\"df-c9baf108-7c09-4638-bdac-49a3914f8b7e\">\n",
              "    <div class=\"colab-df-container\">\n",
              "      <div>\n",
              "<style scoped>\n",
              "    .dataframe tbody tr th:only-of-type {\n",
              "        vertical-align: middle;\n",
              "    }\n",
              "\n",
              "    .dataframe tbody tr th {\n",
              "        vertical-align: top;\n",
              "    }\n",
              "\n",
              "    .dataframe thead th {\n",
              "        text-align: right;\n",
              "    }\n",
              "</style>\n",
              "<table border=\"1\" class=\"dataframe\">\n",
              "  <thead>\n",
              "    <tr style=\"text-align: right;\">\n",
              "      <th></th>\n",
              "      <th>content</th>\n",
              "    </tr>\n",
              "  </thead>\n",
              "  <tbody>\n",
              "    <tr>\n",
              "      <th>0</th>\n",
              "      <td>We reverse the orders of the trial court denyi...</td>\n",
              "    </tr>\n",
              "    <tr>\n",
              "      <th>1</th>\n",
              "      <td>We therefore reverse Defendant's conviction an...</td>\n",
              "    </tr>\n",
              "    <tr>\n",
              "      <th>2</th>\n",
              "      <td>nan</td>\n",
              "    </tr>\n",
              "    <tr>\n",
              "      <th>3</th>\n",
              "      <td>For the reasons discussed herein, we reverse ...</td>\n",
              "    </tr>\n",
              "    <tr>\n",
              "      <th>4</th>\n",
              "      <td>Accordingly, the cause is reversed and remande...</td>\n",
              "    </tr>\n",
              "  </tbody>\n",
              "</table>\n",
              "</div>\n",
              "      <button class=\"colab-df-convert\" onclick=\"convertToInteractive('df-c9baf108-7c09-4638-bdac-49a3914f8b7e')\"\n",
              "              title=\"Convert this dataframe to an interactive table.\"\n",
              "              style=\"display:none;\">\n",
              "        \n",
              "  <svg xmlns=\"http://www.w3.org/2000/svg\" height=\"24px\"viewBox=\"0 0 24 24\"\n",
              "       width=\"24px\">\n",
              "    <path d=\"M0 0h24v24H0V0z\" fill=\"none\"/>\n",
              "    <path d=\"M18.56 5.44l.94 2.06.94-2.06 2.06-.94-2.06-.94-.94-2.06-.94 2.06-2.06.94zm-11 1L8.5 8.5l.94-2.06 2.06-.94-2.06-.94L8.5 2.5l-.94 2.06-2.06.94zm10 10l.94 2.06.94-2.06 2.06-.94-2.06-.94-.94-2.06-.94 2.06-2.06.94z\"/><path d=\"M17.41 7.96l-1.37-1.37c-.4-.4-.92-.59-1.43-.59-.52 0-1.04.2-1.43.59L10.3 9.45l-7.72 7.72c-.78.78-.78 2.05 0 2.83L4 21.41c.39.39.9.59 1.41.59.51 0 1.02-.2 1.41-.59l7.78-7.78 2.81-2.81c.8-.78.8-2.07 0-2.86zM5.41 20L4 18.59l7.72-7.72 1.47 1.35L5.41 20z\"/>\n",
              "  </svg>\n",
              "      </button>\n",
              "      \n",
              "  <style>\n",
              "    .colab-df-container {\n",
              "      display:flex;\n",
              "      flex-wrap:wrap;\n",
              "      gap: 12px;\n",
              "    }\n",
              "\n",
              "    .colab-df-convert {\n",
              "      background-color: #E8F0FE;\n",
              "      border: none;\n",
              "      border-radius: 50%;\n",
              "      cursor: pointer;\n",
              "      display: none;\n",
              "      fill: #1967D2;\n",
              "      height: 32px;\n",
              "      padding: 0 0 0 0;\n",
              "      width: 32px;\n",
              "    }\n",
              "\n",
              "    .colab-df-convert:hover {\n",
              "      background-color: #E2EBFA;\n",
              "      box-shadow: 0px 1px 2px rgba(60, 64, 67, 0.3), 0px 1px 3px 1px rgba(60, 64, 67, 0.15);\n",
              "      fill: #174EA6;\n",
              "    }\n",
              "\n",
              "    [theme=dark] .colab-df-convert {\n",
              "      background-color: #3B4455;\n",
              "      fill: #D2E3FC;\n",
              "    }\n",
              "\n",
              "    [theme=dark] .colab-df-convert:hover {\n",
              "      background-color: #434B5C;\n",
              "      box-shadow: 0px 1px 3px 1px rgba(0, 0, 0, 0.15);\n",
              "      filter: drop-shadow(0px 1px 2px rgba(0, 0, 0, 0.3));\n",
              "      fill: #FFFFFF;\n",
              "    }\n",
              "  </style>\n",
              "\n",
              "      <script>\n",
              "        const buttonEl =\n",
              "          document.querySelector('#df-c9baf108-7c09-4638-bdac-49a3914f8b7e button.colab-df-convert');\n",
              "        buttonEl.style.display =\n",
              "          google.colab.kernel.accessAllowed ? 'block' : 'none';\n",
              "\n",
              "        async function convertToInteractive(key) {\n",
              "          const element = document.querySelector('#df-c9baf108-7c09-4638-bdac-49a3914f8b7e');\n",
              "          const dataTable =\n",
              "            await google.colab.kernel.invokeFunction('convertToInteractive',\n",
              "                                                     [key], {});\n",
              "          if (!dataTable) return;\n",
              "\n",
              "          const docLinkHtml = 'Like what you see? Visit the ' +\n",
              "            '<a target=\"_blank\" href=https://colab.research.google.com/notebooks/data_table.ipynb>data table notebook</a>'\n",
              "            + ' to learn more about interactive tables.';\n",
              "          element.innerHTML = '';\n",
              "          dataTable['output_type'] = 'display_data';\n",
              "          await google.colab.output.renderOutput(dataTable, element);\n",
              "          const docLink = document.createElement('div');\n",
              "          docLink.innerHTML = docLinkHtml;\n",
              "          element.appendChild(docLink);\n",
              "        }\n",
              "      </script>\n",
              "    </div>\n",
              "  </div>\n",
              "  "
            ],
            "text/plain": [
              "                                             content\n",
              "0  We reverse the orders of the trial court denyi...\n",
              "1  We therefore reverse Defendant's conviction an...\n",
              "2                                                nan\n",
              "3   For the reasons discussed herein, we reverse ...\n",
              "4  Accordingly, the cause is reversed and remande..."
            ]
          },
          "execution_count": 57,
          "metadata": {},
          "output_type": "execute_result"
        }
      ],
      "source": [
        "df.head()\n"
      ]
    },
    {
      "cell_type": "code",
      "execution_count": 59,
      "metadata": {
        "colab": {
          "base_uri": "https://localhost:8080/",
          "height": 206
        },
        "id": "rUF1y-qA7uR7",
        "outputId": "665d0593-8d4b-480b-ec4c-8474b834f67f"
      },
      "outputs": [
        {
          "data": {
            "text/html": [
              "\n",
              "  <div id=\"df-ca69a68e-5672-468e-9439-fd80a7c09c88\">\n",
              "    <div class=\"colab-df-container\">\n",
              "      <div>\n",
              "<style scoped>\n",
              "    .dataframe tbody tr th:only-of-type {\n",
              "        vertical-align: middle;\n",
              "    }\n",
              "\n",
              "    .dataframe tbody tr th {\n",
              "        vertical-align: top;\n",
              "    }\n",
              "\n",
              "    .dataframe thead th {\n",
              "        text-align: right;\n",
              "    }\n",
              "</style>\n",
              "<table border=\"1\" class=\"dataframe\">\n",
              "  <thead>\n",
              "    <tr style=\"text-align: right;\">\n",
              "      <th></th>\n",
              "      <th>content</th>\n",
              "      <th>clean_content</th>\n",
              "    </tr>\n",
              "  </thead>\n",
              "  <tbody>\n",
              "    <tr>\n",
              "      <th>0</th>\n",
              "      <td>We reverse the orders of the trial court denyi...</td>\n",
              "      <td>we reverse the orders of the trial court denyi...</td>\n",
              "    </tr>\n",
              "    <tr>\n",
              "      <th>1</th>\n",
              "      <td>We therefore reverse Defendant's conviction an...</td>\n",
              "      <td>we therefore reverse defendant s conviction an...</td>\n",
              "    </tr>\n",
              "    <tr>\n",
              "      <th>2</th>\n",
              "      <td>nan</td>\n",
              "      <td>nan</td>\n",
              "    </tr>\n",
              "    <tr>\n",
              "      <th>3</th>\n",
              "      <td>For the reasons discussed herein, we reverse ...</td>\n",
              "      <td>for the reasons discussed herein we reverse an...</td>\n",
              "    </tr>\n",
              "    <tr>\n",
              "      <th>4</th>\n",
              "      <td>Accordingly, the cause is reversed and remande...</td>\n",
              "      <td>accordingly the cause is reversed and remanded...</td>\n",
              "    </tr>\n",
              "  </tbody>\n",
              "</table>\n",
              "</div>\n",
              "      <button class=\"colab-df-convert\" onclick=\"convertToInteractive('df-ca69a68e-5672-468e-9439-fd80a7c09c88')\"\n",
              "              title=\"Convert this dataframe to an interactive table.\"\n",
              "              style=\"display:none;\">\n",
              "        \n",
              "  <svg xmlns=\"http://www.w3.org/2000/svg\" height=\"24px\"viewBox=\"0 0 24 24\"\n",
              "       width=\"24px\">\n",
              "    <path d=\"M0 0h24v24H0V0z\" fill=\"none\"/>\n",
              "    <path d=\"M18.56 5.44l.94 2.06.94-2.06 2.06-.94-2.06-.94-.94-2.06-.94 2.06-2.06.94zm-11 1L8.5 8.5l.94-2.06 2.06-.94-2.06-.94L8.5 2.5l-.94 2.06-2.06.94zm10 10l.94 2.06.94-2.06 2.06-.94-2.06-.94-.94-2.06-.94 2.06-2.06.94z\"/><path d=\"M17.41 7.96l-1.37-1.37c-.4-.4-.92-.59-1.43-.59-.52 0-1.04.2-1.43.59L10.3 9.45l-7.72 7.72c-.78.78-.78 2.05 0 2.83L4 21.41c.39.39.9.59 1.41.59.51 0 1.02-.2 1.41-.59l7.78-7.78 2.81-2.81c.8-.78.8-2.07 0-2.86zM5.41 20L4 18.59l7.72-7.72 1.47 1.35L5.41 20z\"/>\n",
              "  </svg>\n",
              "      </button>\n",
              "      \n",
              "  <style>\n",
              "    .colab-df-container {\n",
              "      display:flex;\n",
              "      flex-wrap:wrap;\n",
              "      gap: 12px;\n",
              "    }\n",
              "\n",
              "    .colab-df-convert {\n",
              "      background-color: #E8F0FE;\n",
              "      border: none;\n",
              "      border-radius: 50%;\n",
              "      cursor: pointer;\n",
              "      display: none;\n",
              "      fill: #1967D2;\n",
              "      height: 32px;\n",
              "      padding: 0 0 0 0;\n",
              "      width: 32px;\n",
              "    }\n",
              "\n",
              "    .colab-df-convert:hover {\n",
              "      background-color: #E2EBFA;\n",
              "      box-shadow: 0px 1px 2px rgba(60, 64, 67, 0.3), 0px 1px 3px 1px rgba(60, 64, 67, 0.15);\n",
              "      fill: #174EA6;\n",
              "    }\n",
              "\n",
              "    [theme=dark] .colab-df-convert {\n",
              "      background-color: #3B4455;\n",
              "      fill: #D2E3FC;\n",
              "    }\n",
              "\n",
              "    [theme=dark] .colab-df-convert:hover {\n",
              "      background-color: #434B5C;\n",
              "      box-shadow: 0px 1px 3px 1px rgba(0, 0, 0, 0.15);\n",
              "      filter: drop-shadow(0px 1px 2px rgba(0, 0, 0, 0.3));\n",
              "      fill: #FFFFFF;\n",
              "    }\n",
              "  </style>\n",
              "\n",
              "      <script>\n",
              "        const buttonEl =\n",
              "          document.querySelector('#df-ca69a68e-5672-468e-9439-fd80a7c09c88 button.colab-df-convert');\n",
              "        buttonEl.style.display =\n",
              "          google.colab.kernel.accessAllowed ? 'block' : 'none';\n",
              "\n",
              "        async function convertToInteractive(key) {\n",
              "          const element = document.querySelector('#df-ca69a68e-5672-468e-9439-fd80a7c09c88');\n",
              "          const dataTable =\n",
              "            await google.colab.kernel.invokeFunction('convertToInteractive',\n",
              "                                                     [key], {});\n",
              "          if (!dataTable) return;\n",
              "\n",
              "          const docLinkHtml = 'Like what you see? Visit the ' +\n",
              "            '<a target=\"_blank\" href=https://colab.research.google.com/notebooks/data_table.ipynb>data table notebook</a>'\n",
              "            + ' to learn more about interactive tables.';\n",
              "          element.innerHTML = '';\n",
              "          dataTable['output_type'] = 'display_data';\n",
              "          await google.colab.output.renderOutput(dataTable, element);\n",
              "          const docLink = document.createElement('div');\n",
              "          docLink.innerHTML = docLinkHtml;\n",
              "          element.appendChild(docLink);\n",
              "        }\n",
              "      </script>\n",
              "    </div>\n",
              "  </div>\n",
              "  "
            ],
            "text/plain": [
              "                                             content  \\\n",
              "0  We reverse the orders of the trial court denyi...   \n",
              "1  We therefore reverse Defendant's conviction an...   \n",
              "2                                                nan   \n",
              "3   For the reasons discussed herein, we reverse ...   \n",
              "4  Accordingly, the cause is reversed and remande...   \n",
              "\n",
              "                                       clean_content  \n",
              "0  we reverse the orders of the trial court denyi...  \n",
              "1  we therefore reverse defendant s conviction an...  \n",
              "2                                                nan  \n",
              "3  for the reasons discussed herein we reverse an...  \n",
              "4  accordingly the cause is reversed and remanded...  "
            ]
          },
          "execution_count": 59,
          "metadata": {},
          "output_type": "execute_result"
        }
      ],
      "source": [
        "df['clean_content'] = df['content'].str.lower()\n",
        "df['clean_content'] = df['clean_content'].apply(#TODO)\n",
        "df['clean_content'] = df['clean_content'].apply(#TODO)\n",
        "df['clean_content'] = df['clean_content'].apply(#TODO)\n",
        "df['clean_content'] = df['clean_content'].apply(#TODO)\n",
        "df['clean_content'] = df['clean_content'].apply(#TODO)\n",
        "df['clean_content'] = df['clean_content'].apply(#TODO)\n",
        "\n",
        "df.head()"
      ]
    },
    {
      "cell_type": "markdown",
      "metadata": {
        "id": "eF1rKIfN7uR7"
      },
      "source": [
        "Let’s now compare the sentences from line 1 with the ones we have now edited:\n",
        "\n"
      ]
    },
    {
      "cell_type": "code",
      "execution_count": 63,
      "metadata": {
        "colab": {
          "base_uri": "https://localhost:8080/",
          "height": 35
        },
        "id": "sQU6GVID7uR7",
        "outputId": "19e1ee50-466e-4229-a96c-cbb3254e6c32"
      },
      "outputs": [
        {
          "data": {
            "application/vnd.google.colaboratory.intrinsic+json": {
              "type": "string"
            },
            "text/plain": [
              "\"We reverse the orders of the trial court denying Defendant's motion to dismiss the indictment.\""
            ]
          },
          "execution_count": 63,
          "metadata": {},
          "output_type": "execute_result"
        }
      ],
      "source": [
        "df['content'].iloc[0]"
      ]
    },
    {
      "cell_type": "code",
      "execution_count": 62,
      "metadata": {
        "colab": {
          "base_uri": "https://localhost:8080/",
          "height": 35
        },
        "id": "xJRR2apD7uR7",
        "outputId": "7a9e9181-14e5-45f8-ad9e-889b2d614d54"
      },
      "outputs": [
        {
          "data": {
            "application/vnd.google.colaboratory.intrinsic+json": {
              "type": "string"
            },
            "text/plain": [
              "'we reverse the orders of the trial court denying defendant s motion to dismiss the indictment'"
            ]
          },
          "execution_count": 62,
          "metadata": {},
          "output_type": "execute_result"
        }
      ],
      "source": [
        "df['clean_content'].iloc[0]\n"
      ]
    },
    {
      "cell_type": "markdown",
      "metadata": {
        "id": "5BnQNCYQ7uR7"
      },
      "source": [
        "Enfin, nous sortons le nombre de mots et les stockons dans une colonne séparée. De cette façon, nous pouvons voir si et dans quelle mesure le nombre de mots a changé dans les étapes suivantes."
      ]
    },
    {
      "cell_type": "code",
      "execution_count": 66,
      "metadata": {
        "colab": {
          "base_uri": "https://localhost:8080/",
          "height": 206
        },
        "id": "ua6meh-x7uR7",
        "outputId": "9dacd3ae-58ab-4a79-d03c-73023c84b3d8"
      },
      "outputs": [
        {
          "data": {
            "text/html": [
              "\n",
              "  <div id=\"df-1e12e088-41c3-4bc7-9fd2-102761b96acc\">\n",
              "    <div class=\"colab-df-container\">\n",
              "      <div>\n",
              "<style scoped>\n",
              "    .dataframe tbody tr th:only-of-type {\n",
              "        vertical-align: middle;\n",
              "    }\n",
              "\n",
              "    .dataframe tbody tr th {\n",
              "        vertical-align: top;\n",
              "    }\n",
              "\n",
              "    .dataframe thead th {\n",
              "        text-align: right;\n",
              "    }\n",
              "</style>\n",
              "<table border=\"1\" class=\"dataframe\">\n",
              "  <thead>\n",
              "    <tr style=\"text-align: right;\">\n",
              "      <th></th>\n",
              "      <th>clean_content</th>\n",
              "      <th>Word_Count</th>\n",
              "    </tr>\n",
              "  </thead>\n",
              "  <tbody>\n",
              "    <tr>\n",
              "      <th>0</th>\n",
              "      <td>we reverse the orders of the trial court denyi...</td>\n",
              "      <td>16</td>\n",
              "    </tr>\n",
              "    <tr>\n",
              "      <th>1</th>\n",
              "      <td>we therefore reverse defendant s conviction an...</td>\n",
              "      <td>15</td>\n",
              "    </tr>\n",
              "    <tr>\n",
              "      <th>2</th>\n",
              "      <td>nan</td>\n",
              "      <td>1</td>\n",
              "    </tr>\n",
              "    <tr>\n",
              "      <th>3</th>\n",
              "      <td>for the reasons discussed herein we reverse an...</td>\n",
              "      <td>12</td>\n",
              "    </tr>\n",
              "    <tr>\n",
              "      <th>4</th>\n",
              "      <td>accordingly the cause is reversed and remanded...</td>\n",
              "      <td>14</td>\n",
              "    </tr>\n",
              "  </tbody>\n",
              "</table>\n",
              "</div>\n",
              "      <button class=\"colab-df-convert\" onclick=\"convertToInteractive('df-1e12e088-41c3-4bc7-9fd2-102761b96acc')\"\n",
              "              title=\"Convert this dataframe to an interactive table.\"\n",
              "              style=\"display:none;\">\n",
              "        \n",
              "  <svg xmlns=\"http://www.w3.org/2000/svg\" height=\"24px\"viewBox=\"0 0 24 24\"\n",
              "       width=\"24px\">\n",
              "    <path d=\"M0 0h24v24H0V0z\" fill=\"none\"/>\n",
              "    <path d=\"M18.56 5.44l.94 2.06.94-2.06 2.06-.94-2.06-.94-.94-2.06-.94 2.06-2.06.94zm-11 1L8.5 8.5l.94-2.06 2.06-.94-2.06-.94L8.5 2.5l-.94 2.06-2.06.94zm10 10l.94 2.06.94-2.06 2.06-.94-2.06-.94-.94-2.06-.94 2.06-2.06.94z\"/><path d=\"M17.41 7.96l-1.37-1.37c-.4-.4-.92-.59-1.43-.59-.52 0-1.04.2-1.43.59L10.3 9.45l-7.72 7.72c-.78.78-.78 2.05 0 2.83L4 21.41c.39.39.9.59 1.41.59.51 0 1.02-.2 1.41-.59l7.78-7.78 2.81-2.81c.8-.78.8-2.07 0-2.86zM5.41 20L4 18.59l7.72-7.72 1.47 1.35L5.41 20z\"/>\n",
              "  </svg>\n",
              "      </button>\n",
              "      \n",
              "  <style>\n",
              "    .colab-df-container {\n",
              "      display:flex;\n",
              "      flex-wrap:wrap;\n",
              "      gap: 12px;\n",
              "    }\n",
              "\n",
              "    .colab-df-convert {\n",
              "      background-color: #E8F0FE;\n",
              "      border: none;\n",
              "      border-radius: 50%;\n",
              "      cursor: pointer;\n",
              "      display: none;\n",
              "      fill: #1967D2;\n",
              "      height: 32px;\n",
              "      padding: 0 0 0 0;\n",
              "      width: 32px;\n",
              "    }\n",
              "\n",
              "    .colab-df-convert:hover {\n",
              "      background-color: #E2EBFA;\n",
              "      box-shadow: 0px 1px 2px rgba(60, 64, 67, 0.3), 0px 1px 3px 1px rgba(60, 64, 67, 0.15);\n",
              "      fill: #174EA6;\n",
              "    }\n",
              "\n",
              "    [theme=dark] .colab-df-convert {\n",
              "      background-color: #3B4455;\n",
              "      fill: #D2E3FC;\n",
              "    }\n",
              "\n",
              "    [theme=dark] .colab-df-convert:hover {\n",
              "      background-color: #434B5C;\n",
              "      box-shadow: 0px 1px 3px 1px rgba(0, 0, 0, 0.15);\n",
              "      filter: drop-shadow(0px 1px 2px rgba(0, 0, 0, 0.3));\n",
              "      fill: #FFFFFF;\n",
              "    }\n",
              "  </style>\n",
              "\n",
              "      <script>\n",
              "        const buttonEl =\n",
              "          document.querySelector('#df-1e12e088-41c3-4bc7-9fd2-102761b96acc button.colab-df-convert');\n",
              "        buttonEl.style.display =\n",
              "          google.colab.kernel.accessAllowed ? 'block' : 'none';\n",
              "\n",
              "        async function convertToInteractive(key) {\n",
              "          const element = document.querySelector('#df-1e12e088-41c3-4bc7-9fd2-102761b96acc');\n",
              "          const dataTable =\n",
              "            await google.colab.kernel.invokeFunction('convertToInteractive',\n",
              "                                                     [key], {});\n",
              "          if (!dataTable) return;\n",
              "\n",
              "          const docLinkHtml = 'Like what you see? Visit the ' +\n",
              "            '<a target=\"_blank\" href=https://colab.research.google.com/notebooks/data_table.ipynb>data table notebook</a>'\n",
              "            + ' to learn more about interactive tables.';\n",
              "          element.innerHTML = '';\n",
              "          dataTable['output_type'] = 'display_data';\n",
              "          await google.colab.output.renderOutput(dataTable, element);\n",
              "          const docLink = document.createElement('div');\n",
              "          docLink.innerHTML = docLinkHtml;\n",
              "          element.appendChild(docLink);\n",
              "        }\n",
              "      </script>\n",
              "    </div>\n",
              "  </div>\n",
              "  "
            ],
            "text/plain": [
              "                                       clean_content  Word_Count\n",
              "0  we reverse the orders of the trial court denyi...          16\n",
              "1  we therefore reverse defendant s conviction an...          15\n",
              "2                                                nan           1\n",
              "3  for the reasons discussed herein we reverse an...          12\n",
              "4  accordingly the cause is reversed and remanded...          14"
            ]
          },
          "execution_count": 66,
          "metadata": {},
          "output_type": "execute_result"
        }
      ],
      "source": [
        "df['Word_Count'] = df['clean_content'].apply(word_count_func)\n",
        "\n",
        "df[['clean_content', 'Word_Count']].head()"
      ]
    },
    {
      "cell_type": "markdown",
      "metadata": {
        "id": "TkajoRNE7uR7"
      },
      "source": [
        "Voici le nombre moyen de mots :"
      ]
    },
    {
      "cell_type": "code",
      "execution_count": 67,
      "metadata": {
        "colab": {
          "base_uri": "https://localhost:8080/"
        },
        "id": "rBYgCnjx7uR7",
        "outputId": "0282e883-3a87-4b61-f7b8-e4000b0287a2"
      },
      "outputs": [
        {
          "name": "stdout",
          "output_type": "stream",
          "text": [
            "Average of words counted: 15.227422907488986\n"
          ]
        }
      ],
      "source": [
        "print('Average of words counted: ' + str(df['Word_Count'].mean()))\n"
      ]
    },
    {
      "cell_type": "markdown",
      "metadata": {},
      "source": [
        "1. Jour 1\n",
        "    * Variables\n",
        "        * [exercice1](https://colab.research.google.com/github/Hotsnown/seminaire-bordeaux-2022/blob/master/exercices/jour1/1.%20variables/1.1%20helloworld.ipynb)\n",
        "        * [exercice2](https://colab.research.google.com/github/Hotsnown/seminaire-bordeaux-2022/blob/master/exercices/jour1/1.%20variables/1.2%20%C3%A9viter%20les%20errreurs%20de%20nommage.ipynb)\n",
        "        * [mini-projet](https://colab.research.google.com/github/Hotsnown/seminaire-bordeaux-2022/blob/master/exercices/jour1/1.%20variables/1.3%20mini-project.ipynb#scrollTo=RPB2xCMdA6lV)\n",
        "    * Strings\n",
        "        * [exercice1](https://colab.research.google.com/github/Hotsnown/seminaire-bordeaux-2022/blob/master/exercices/jour1/2.%20strings/2.1%20concat.ipynb)\n",
        "        * [exercice2](https://colab.research.google.com/github/Hotsnown/seminaire-bordeaux-2022/blob/master/exercices/jour1/2.%20strings/2.2%20string_methods.ipynb)\n",
        "        * [mini-projet](https://colab.research.google.com/github/Hotsnown/seminaire-bordeaux-2022/blob/master/exercices/jour1/2.%20strings/2.3%20mini-project.ipynb)\n",
        "    * Opérations\n",
        "        * [exercice1](https://colab.research.google.com/github/Hotsnown/seminaire-bordeaux-2022/blob/master/exercices/jour1/3.%20operations/3.1%20math.ipynb)\n",
        "        * [exercice2](https://colab.research.google.com/github/Hotsnown/seminaire-bordeaux-2022/blob/master/exercices/jour1/3.%20operations/3.2%20bool%C3%A9en.ipynb)\n",
        "        * [mini-projet](https://colab.research.google.com/github/Hotsnown/seminaire-bordeaux-2022/blob/master/exercices/jour1/3.%20operations/3.3%20mini-project.ipynb)\n",
        "\n",
        "2. Jour 2\n",
        "    * Listes\n",
        "        * [Définition](https://colab.research.google.com/github/Hotsnown/seminaire-bordeaux-2022/blob/master/exercices/jour2/2.1%20Listes/2.1.1%20d%C3%A9finition%20liste.ipynb?hl=fr)\n",
        "        * [Strings et listes](https://colab.research.google.com/github/Hotsnown/seminaire-bordeaux-2022/blob/master/exercices/jour2/2.1%20Listes/2.1.2%20String%20as%20list%20of%20characters.ipynb?hl=fr)\n",
        "        * [Mini-projet](https://colab.research.google.com/github/Hotsnown/seminaire-bordeaux-2022/blob/master/exercices/jour2/2.1%20Listes/2.1.3%20mini-project.ipynb?hl=fr)\n",
        "    * Fonctions\n",
        "        * [Définition I](https://colab.research.google.com/github/Hotsnown/seminaire-bordeaux-2022/blob/master/exercices/jour2/2.2%20Fonctions/2.2.1%20d%C3%A9finition%20fonctions.ipynb?hl=fr)\n",
        "        * [Définition II](https://colab.research.google.com/github/Hotsnown/seminaire-bordeaux-2022/blob/master/exercices/jour2/2.2%20Fonctions/2.2.2%20scope%20et%20fonctions%20imbriqu%C3%A9es.ipynb?hl=fr)\n",
        "        * [Mini-projet](https://colab.research.google.com/github/Hotsnown/seminaire-bordeaux-2022/blob/master/exercices/jour2/2.2%20Fonctions/2.2.3%20mini-project.ipynb?hl=fr) \n",
        "    * Librairies\n",
        "        * [Pandas](https://colab.research.google.com/github/Hotsnown/seminaire-bordeaux-2022/blob/master/exercices/jour2/2.3%20Librairies/2.3.1%20Pandas.ipynb?hl=fr)\n",
        "        * [Matplotlib](https://colab.research.google.com/github/Hotsnown/seminaire-bordeaux-2022/blob/master/exercices/jour2/2.3%20Librairies/2.3.2%20Matplotlib.ipynb?hl=fr)\n",
        "        * [Mini-projet](https://colab.research.google.com/github/Hotsnown/seminaire-bordeaux-2022/blob/master/exercices/jour2/2.3%20Librairies/2.3.3%20mini-project.ipynb?hl=fr) \n",
        "3. Jour 3\n",
        "    * Introduction à la NLP\n",
        "        * [Charger des un corpus](https://colab.research.google.com/github/Hotsnown/seminaire-bordeaux-2022/blob/master/exercices/jour3/3.1%20what%20is%20nlp/3.1.1%20Accessing%20Text.ipynb?hl=fr)\n",
        "        * [Traitement de texte dans Pandas](https://colab.research.google.com/github/Hotsnown/seminaire-bordeaux-2022/blob/master/exercices/jour3/3.1%20what%20is%20nlp/3.1.2%20Working%20with%20text%20data%20in%20pandas.ipynb?hl=fr)\n",
        "        * [Mini-projet](https://colab.research.google.com/github/Hotsnown/seminaire-bordeaux-2022/blob/master/exercices/jour3/3.1%20what%20is%20nlp/3.1.3%20mini-project.ipynb?hl=fr)\n",
        "    * Segmentation\n",
        "        * [Segmentation de tokens](https://colab.research.google.com/github/Hotsnown/seminaire-bordeaux-2022/blob/master/exercices/jour3/3.2%20Segmentation/3.2.1%20Token%20segmentation.ipynb?hl=fr)\n",
        "        * [Segmentation de phrase](https://colab.research.google.com/github/Hotsnown/seminaire-bordeaux-2022/blob/master/exercices/jour3/3.2%20Segmentation/3.2.2%20Sentence%20segmentation.ipynb?hl=fr)\n",
        "        * [Mini-projet](https://colab.research.google.com/github/Hotsnown/seminaire-bordeaux-2022/blob/master/exercices/jour3/3.2%20Segmentation/3.2.3%20mini-project.ipynb?hl=fr)\n",
        "    * Nettoyage de texte\n",
        "        * [Stopwords](https://colab.research.google.com/github/Hotsnown/seminaire-bordeaux-2022/blob/master/exercices/jour3/3.3%20text%20cleaning.ipynb/3.3.1%20stopwords.ipynb?hl=fr)\n",
        "        * [Normalisation](https://colab.research.google.com/github/Hotsnown/seminaire-bordeaux-2022/blob/master/exercices/jour3/3.3%20text%20cleaning.ipynb/3.3.2%20Normalizing%20Text.ipynb?hl=fr)\n",
        "        * [Mini-projet](https://colab.research.google.com/github/Hotsnown/seminaire-bordeaux-2022/blob/master/exercices/jour3/3.3%20text%20cleaning.ipynb/3.3.3%20mini-project.ipynb?hl=fr)\n",
        "4. Jour 4\n",
        "    * Apprentissage supervisé\n",
        "        * [Régression linéaire](https://colab.research.google.com/github/Hotsnown/seminaire-bordeaux-2022/blob/master/exercices/jour4/4.1%20supervised%20learning/4.3.1%20linear%20regression.ipynb?hl=fr)\n",
        "        * [Evaluation](https://colab.research.google.com/github/Hotsnown/seminaire-bordeaux-2022/blob/master/exercices/jour4/4.1%20supervised%20learning/4.3.2%20evaluale.ipynb?hl=fr)\n",
        "        * [Mini-projet](https://colab.research.google.com/github/Hotsnown/seminaire-bordeaux-2022/blob/master/exercices/jour4/4.1%20supervised%20learning/4.3.3%20mini-project.ipynb?hl=fr)\n",
        "    * Pré-traitement de texte\n",
        "        * [Featurization de textes](https://colab.research.google.com/github/Hotsnown/seminaire-bordeaux-2022/blob/master/exercices/jour4/4.2%20text%20preprocessing/4.2.1%20text%20featurization.ipynb?hl=fr)\n",
        "        * [Featurization de labels](https://colab.research.google.com/github/Hotsnown/seminaire-bordeaux-2022/blob/master/exercices/jour4/4.2%20text%20preprocessing/4.2.2%20label%20featurization.ipynb?hl=fr)\n",
        "        * [Mini-projet](https://colab.research.google.com/github/Hotsnown/seminaire-bordeaux-2022/blob/master/exercices/jour4/4.2%20text%20preprocessing/4.2.3%20mini-project.ipynb?hl=fr)\n",
        "    * Classification de texte\n",
        "        * [EDA](https://colab.research.google.com/github/Hotsnown/seminaire-bordeaux-2022/blob/master/exercices/jour4/4.3%20text%20classification/4.1.1%20EDA.ipynb?hl=fr)\n",
        "        * [Apprentissage supervisé textuel](https://colab.research.google.com/github/Hotsnown/seminaire-bordeaux-2022/blob/master/exercices/jour4/4.3%20text%20classification/4.1.1%20EDA.ipynb?hl=fr)\n",
        "        * [Mini-projet](https://colab.research.google.com/github/Hotsnown/seminaire-bordeaux-2022/blob/master/exercices/jour4/4.3%20text%20classification/4.1.3%20mini-project.ipynb?hl=fr)\n",
        "5. Jour 5\n",
        "    * [Projet final](https://colab.research.google.com/github/Hotsnown/seminaire-bordeaux-2022/blob/master/exercices/jour5/final-project.ipynb?hl=fr)"
      ]
    }
  ],
  "metadata": {
    "colab": {
      "provenance": [],
      "toc_visible": true
    },
    "kernelspec": {
      "display_name": "Python 3.10.7 64-bit (microsoft store)",
      "language": "python",
      "name": "python3"
    },
    "language_info": {
      "name": "python",
      "version": "3.10.8"
    },
    "orig_nbformat": 4,
    "vscode": {
      "interpreter": {
        "hash": "ab330c63be1774c7d4efd28485dada9f7c6eb3392ec4de9472ccb4da1daed7d7"
      }
    }
  },
  "nbformat": 4,
  "nbformat_minor": 0
}
