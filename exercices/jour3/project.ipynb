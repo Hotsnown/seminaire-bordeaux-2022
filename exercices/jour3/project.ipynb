{
 "cells": [
  {
   "cell_type": "code",
   "execution_count": null,
   "metadata": {},
   "outputs": [],
   "source": [
    "import json\n",
    "import pandas as pd\n",
    "from pathlib import Path\n",
    "\n",
    "# creating list of json files with full paths\n",
    "paths = Path(r'/content/outcome-prediction/data/manual_annotation').glob(\"*.json\")\n",
    "\n",
    "df_list = [] # empty list to store dataframes during the loop\n",
    "for p in paths:\n",
    "    data = json.load(open(p))\n",
    "    df_nested_list = pd.json_normalize(\n",
    "        data,\n",
    "        meta=['name','description','custom_fields'],)\n",
    "    df_nested_list['file_name'] = p.name  # creating column to store file name: p.name\n",
    "    df_list.append(df_nested_list) # dataframe to the list\n",
    "\n",
    "\n",
    "df = pd.concat(df_list, axis=0, ignore_index=True) # creating One Large Dataframe from all stored in the list\n",
    "print(df.columns)"
   ]
  },
  {
   "cell_type": "code",
   "execution_count": null,
   "metadata": {},
   "outputs": [],
   "source": [
    "import nltk\n",
    "nltk.download('punkt')\n",
    "\n",
    "from nltk.tokenize import sent_tokenize\n",
    "text = \"God is Great! I won a lottery.\"\n",
    "\n",
    "sentences = []\n",
    "for text in df.content:\n",
    "  sentences.extend(sent_tokenize(text))"
   ]
  }
 ],
 "metadata": {
  "kernelspec": {
   "display_name": "Python 3.10.8 64-bit (microsoft store)",
   "language": "python",
   "name": "python3"
  },
  "language_info": {
   "name": "python",
   "version": "3.10.8"
  },
  "orig_nbformat": 4,
  "vscode": {
   "interpreter": {
    "hash": "ab330c63be1774c7d4efd28485dada9f7c6eb3392ec4de9472ccb4da1daed7d7"
   }
  }
 },
 "nbformat": 4,
 "nbformat_minor": 2
}
