{
  "cells": [
    {
      "cell_type": "code",
      "execution_count": 8,
      "metadata": {
        "colab": {
          "base_uri": "https://localhost:8080/",
          "height": 339
        },
        "id": "eiDSJ-qukqSL",
        "outputId": "c762f6e0-b18b-4df8-852d-c26ef17d76ce"
      },
      "outputs": [
        {
          "ename": "ImportError",
          "evalue": "ignored",
          "output_type": "error",
          "traceback": [
            "\u001b[0;31m---------------------------------------------------------------------------\u001b[0m",
            "\u001b[0;31mImportError\u001b[0m                               Traceback (most recent call last)",
            "\u001b[0;32m<ipython-input-8-a232e023ee3f>\u001b[0m in \u001b[0;36m<module>\u001b[0;34m\u001b[0m\n\u001b[1;32m      2\u001b[0m \u001b[0mget_ipython\u001b[0m\u001b[0;34m(\u001b[0m\u001b[0;34m)\u001b[0m\u001b[0;34m.\u001b[0m\u001b[0mrun_line_magic\u001b[0m\u001b[0;34m(\u001b[0m\u001b[0;34m'pip'\u001b[0m\u001b[0;34m,\u001b[0m \u001b[0;34m'install nbautoeval &> /dev/null'\u001b[0m\u001b[0;34m)\u001b[0m\u001b[0;34m\u001b[0m\u001b[0;34m\u001b[0m\u001b[0m\n\u001b[1;32m      3\u001b[0m \u001b[0mget_ipython\u001b[0m\u001b[0;34m(\u001b[0m\u001b[0;34m)\u001b[0m\u001b[0;34m.\u001b[0m\u001b[0msystem\u001b[0m\u001b[0;34m(\u001b[0m\u001b[0;34m'git clone https://github.com/chinmusique/outcome-prediction.git &> /dev/null'\u001b[0m\u001b[0;34m)\u001b[0m\u001b[0;34m\u001b[0m\u001b[0;34m\u001b[0m\u001b[0m\n\u001b[0;32m----> 4\u001b[0;31m \u001b[0;32mfrom\u001b[0m \u001b[0mseminaire\u001b[0m\u001b[0;34m.\u001b[0m\u001b[0mevaluation\u001b[0m\u001b[0;34m.\u001b[0m\u001b[0mjour2\u001b[0m\u001b[0;34m.\u001b[0m\u001b[0mlistes\u001b[0m\u001b[0;34m.\u001b[0m\u001b[0mlistes\u001b[0m \u001b[0;32mimport\u001b[0m \u001b[0mexo_create_list\u001b[0m\u001b[0;34m,\u001b[0m \u001b[0mexo_add_list\u001b[0m\u001b[0;34m,\u001b[0m \u001b[0mexo_lenght\u001b[0m\u001b[0;34m,\u001b[0m \u001b[0mexo_get_item\u001b[0m\u001b[0;34m,\u001b[0m \u001b[0mexo_is_empty\u001b[0m\u001b[0;34m,\u001b[0m \u001b[0mexo_less_than_5\u001b[0m\u001b[0;34m,\u001b[0m \u001b[0mexo_first_last\u001b[0m\u001b[0;34m\u001b[0m\u001b[0;34m\u001b[0m\u001b[0m\n\u001b[0m",
            "\u001b[0;31mImportError\u001b[0m: cannot import name 'exo_get_item' from 'seminaire.evaluation.jour2.listes.listes' (/content/seminaire/evaluation/jour2/listes/listes.py)",
            "",
            "\u001b[0;31m---------------------------------------------------------------------------\u001b[0;32m\nNOTE: If your import is failing due to a missing package, you can\nmanually install dependencies using either !pip or !apt.\n\nTo view examples of installing some common dependencies, click the\n\"Open Examples\" button below.\n\u001b[0;31m---------------------------------------------------------------------------\u001b[0m\n"
          ]
        }
      ],
      "source": [
        "!git clone https://github.com/Hotsnown/seminaire-bordeaux-2022.git seminaire &> /dev/null\n",
        "%pip install nbautoeval &> /dev/null\n",
        "!git clone https://github.com/chinmusique/outcome-prediction.git &> /dev/null\n",
        "from seminaire.evaluation.jour2.listes.listes import "
      ]
    },
    {
      "cell_type": "markdown",
      "metadata": {
        "id": "ydj2NdK6kqSM"
      },
      "source": [
        "# 1 Introduction"
      ]
    },
    {
      "cell_type": "markdown",
      "metadata": {
        "id": "Tx_sC5mtkqSM"
      },
      "source": [
        "In my last publication, I started the post series on the topic of text pre-processing. In it, I first covered all the possible applications of Text Cleaning.\n",
        "\n",
        "Now I will continue with the topics Tokenization and Stop Words.\n",
        "\n",
        "For this publication the processed dataset Amazon Unlocked Mobile from the statistic platform “Kaggle” was used as well as the created Example String. You can download both files from my “GitHub Repository”."
      ]
    },
    {
      "cell_type": "markdown",
      "metadata": {
        "id": "BMA3U8HtkqSN"
      },
      "source": [
        "# Import the Libraries and the Data\n"
      ]
    },
    {
      "cell_type": "code",
      "execution_count": 42,
      "metadata": {
        "colab": {
          "base_uri": "https://localhost:8080/"
        },
        "id": "tGW73v8TkqSN",
        "outputId": "9bc407c7-e42e-49d2-fe5d-161649dfcf9b"
      },
      "outputs": [
        {
          "name": "stderr",
          "output_type": "stream",
          "text": [
            "[nltk_data] Downloading package punkt to /root/nltk_data...\n",
            "[nltk_data]   Unzipping tokenizers/punkt.zip.\n"
          ]
        }
      ],
      "source": [
        "import pandas as pd\n",
        "import numpy as np\n",
        "\n",
        "import pickle as pk\n",
        "\n",
        "import warnings\n",
        "warnings.filterwarnings(\"ignore\")\n",
        "\n",
        "\n",
        "from bs4 import BeautifulSoup\n",
        "import unicodedata\n",
        "import re\n",
        "\n",
        "import nltk\n",
        "\n",
        "nltk.download('punkt')\n",
        "\n",
        "from nltk.tokenize import word_tokenize\n",
        "from nltk.tokenize import sent_tokenize\n",
        "\n",
        "from nltk.corpus import stopwords\n",
        "\n",
        "\n",
        "from nltk.corpus import wordnet\n",
        "from nltk import pos_tag\n",
        "from nltk import ne_chunk\n",
        "\n",
        "from nltk.stem.porter import PorterStemmer\n",
        "from nltk.stem.wordnet import WordNetLemmatizer\n",
        "\n",
        "from nltk.probability import FreqDist\n",
        "import matplotlib.pyplot as plt\n",
        "from wordcloud import WordCloud"
      ]
    },
    {
      "cell_type": "code",
      "execution_count": 31,
      "metadata": {
        "colab": {
          "base_uri": "https://localhost:8080/"
        },
        "id": "l6E20F-8kqSO",
        "outputId": "8c9c2c60-c722-4b42-9338-dc0b183e1465"
      },
      "outputs": [
        {
          "name": "stdout",
          "output_type": "stream",
          "text": [
            "fatal: destination path 'outcome-prediction' already exists and is not an empty directory.\n",
            "Index(['_id', 'role', 'content', 'class', 'index', 'contentIdx.start',\n",
            "       'contentIdx.end', 'file_name'],\n",
            "      dtype='object')\n",
            "Index(['content', 'file_name'], dtype='object')\n"
          ]
        }
      ],
      "source": [
        "import json\n",
        "import pandas as pd\n",
        "from pathlib import Path\n",
        "\n",
        "!git clone https://github.com/chinmusique/outcome-prediction.git\n",
        "\n",
        "# creating list of json files with full paths\n",
        "paths = Path(r'/content/outcome-prediction/data/manual_annotation').glob(\"*.json\")\n",
        "\n",
        "df_list = [] # empty list to store dataframes during the loop\n",
        "for p in paths:\n",
        "    data = json.load(open(p))\n",
        "    data = data[\"annotations\"]\n",
        "    df_nested_list = pd.json_normalize(\n",
        "        data,\n",
        "        meta=['name','description','custom_fields'],)\n",
        "    df_nested_list['file_name'] = p.name  # creating column to store file name: p.name\n",
        "    df_list.append(df_nested_list) # dataframe to the list\n",
        "\n",
        "df_raw = pd.concat(df_list, axis=0, ignore_index=True) # creating One Large Dataframe from all stored in the list\n",
        "print(df_raw.columns)\n",
        "\n",
        "df = df_raw.drop(columns=[\"role\",\t\"class\",\t\"index\",\t\"contentIdx.start\",\t\"contentIdx.end\", \"_id\", \"index\"])\n",
        "print(df.columns)"
      ]
    },
    {
      "cell_type": "code",
      "execution_count": 32,
      "metadata": {
        "colab": {
          "base_uri": "https://localhost:8080/",
          "height": 206
        },
        "id": "k8YIXo6VkqSO",
        "outputId": "f7f3f6a3-580f-4ace-f77e-0b045beddcce"
      },
      "outputs": [
        {
          "data": {
            "text/html": [
              "\n",
              "  <div id=\"df-7265bf40-f7d8-4bdb-a15d-11202ba00b5d\">\n",
              "    <div class=\"colab-df-container\">\n",
              "      <div>\n",
              "<style scoped>\n",
              "    .dataframe tbody tr th:only-of-type {\n",
              "        vertical-align: middle;\n",
              "    }\n",
              "\n",
              "    .dataframe tbody tr th {\n",
              "        vertical-align: top;\n",
              "    }\n",
              "\n",
              "    .dataframe thead th {\n",
              "        text-align: right;\n",
              "    }\n",
              "</style>\n",
              "<table border=\"1\" class=\"dataframe\">\n",
              "  <thead>\n",
              "    <tr style=\"text-align: right;\">\n",
              "      <th></th>\n",
              "      <th>content</th>\n",
              "      <th>file_name</th>\n",
              "    </tr>\n",
              "  </thead>\n",
              "  <tbody>\n",
              "    <tr>\n",
              "      <th>0</th>\n",
              "      <td>We reverse the orders of the trial court denyi...</td>\n",
              "      <td>77129.json</td>\n",
              "    </tr>\n",
              "    <tr>\n",
              "      <th>1</th>\n",
              "      <td>We therefore reverse Defendant's conviction an...</td>\n",
              "      <td>77129.json</td>\n",
              "    </tr>\n",
              "    <tr>\n",
              "      <th>2</th>\n",
              "      <td>NaN</td>\n",
              "      <td>77129.json</td>\n",
              "    </tr>\n",
              "    <tr>\n",
              "      <th>3</th>\n",
              "      <td>For the reasons discussed herein, we reverse ...</td>\n",
              "      <td>18357.json</td>\n",
              "    </tr>\n",
              "    <tr>\n",
              "      <th>4</th>\n",
              "      <td>Accordingly, the cause is reversed and remande...</td>\n",
              "      <td>18357.json</td>\n",
              "    </tr>\n",
              "  </tbody>\n",
              "</table>\n",
              "</div>\n",
              "      <button class=\"colab-df-convert\" onclick=\"convertToInteractive('df-7265bf40-f7d8-4bdb-a15d-11202ba00b5d')\"\n",
              "              title=\"Convert this dataframe to an interactive table.\"\n",
              "              style=\"display:none;\">\n",
              "        \n",
              "  <svg xmlns=\"http://www.w3.org/2000/svg\" height=\"24px\"viewBox=\"0 0 24 24\"\n",
              "       width=\"24px\">\n",
              "    <path d=\"M0 0h24v24H0V0z\" fill=\"none\"/>\n",
              "    <path d=\"M18.56 5.44l.94 2.06.94-2.06 2.06-.94-2.06-.94-.94-2.06-.94 2.06-2.06.94zm-11 1L8.5 8.5l.94-2.06 2.06-.94-2.06-.94L8.5 2.5l-.94 2.06-2.06.94zm10 10l.94 2.06.94-2.06 2.06-.94-2.06-.94-.94-2.06-.94 2.06-2.06.94z\"/><path d=\"M17.41 7.96l-1.37-1.37c-.4-.4-.92-.59-1.43-.59-.52 0-1.04.2-1.43.59L10.3 9.45l-7.72 7.72c-.78.78-.78 2.05 0 2.83L4 21.41c.39.39.9.59 1.41.59.51 0 1.02-.2 1.41-.59l7.78-7.78 2.81-2.81c.8-.78.8-2.07 0-2.86zM5.41 20L4 18.59l7.72-7.72 1.47 1.35L5.41 20z\"/>\n",
              "  </svg>\n",
              "      </button>\n",
              "      \n",
              "  <style>\n",
              "    .colab-df-container {\n",
              "      display:flex;\n",
              "      flex-wrap:wrap;\n",
              "      gap: 12px;\n",
              "    }\n",
              "\n",
              "    .colab-df-convert {\n",
              "      background-color: #E8F0FE;\n",
              "      border: none;\n",
              "      border-radius: 50%;\n",
              "      cursor: pointer;\n",
              "      display: none;\n",
              "      fill: #1967D2;\n",
              "      height: 32px;\n",
              "      padding: 0 0 0 0;\n",
              "      width: 32px;\n",
              "    }\n",
              "\n",
              "    .colab-df-convert:hover {\n",
              "      background-color: #E2EBFA;\n",
              "      box-shadow: 0px 1px 2px rgba(60, 64, 67, 0.3), 0px 1px 3px 1px rgba(60, 64, 67, 0.15);\n",
              "      fill: #174EA6;\n",
              "    }\n",
              "\n",
              "    [theme=dark] .colab-df-convert {\n",
              "      background-color: #3B4455;\n",
              "      fill: #D2E3FC;\n",
              "    }\n",
              "\n",
              "    [theme=dark] .colab-df-convert:hover {\n",
              "      background-color: #434B5C;\n",
              "      box-shadow: 0px 1px 3px 1px rgba(0, 0, 0, 0.15);\n",
              "      filter: drop-shadow(0px 1px 2px rgba(0, 0, 0, 0.3));\n",
              "      fill: #FFFFFF;\n",
              "    }\n",
              "  </style>\n",
              "\n",
              "      <script>\n",
              "        const buttonEl =\n",
              "          document.querySelector('#df-7265bf40-f7d8-4bdb-a15d-11202ba00b5d button.colab-df-convert');\n",
              "        buttonEl.style.display =\n",
              "          google.colab.kernel.accessAllowed ? 'block' : 'none';\n",
              "\n",
              "        async function convertToInteractive(key) {\n",
              "          const element = document.querySelector('#df-7265bf40-f7d8-4bdb-a15d-11202ba00b5d');\n",
              "          const dataTable =\n",
              "            await google.colab.kernel.invokeFunction('convertToInteractive',\n",
              "                                                     [key], {});\n",
              "          if (!dataTable) return;\n",
              "\n",
              "          const docLinkHtml = 'Like what you see? Visit the ' +\n",
              "            '<a target=\"_blank\" href=https://colab.research.google.com/notebooks/data_table.ipynb>data table notebook</a>'\n",
              "            + ' to learn more about interactive tables.';\n",
              "          element.innerHTML = '';\n",
              "          dataTable['output_type'] = 'display_data';\n",
              "          await google.colab.output.renderOutput(dataTable, element);\n",
              "          const docLink = document.createElement('div');\n",
              "          docLink.innerHTML = docLinkHtml;\n",
              "          element.appendChild(docLink);\n",
              "        }\n",
              "      </script>\n",
              "    </div>\n",
              "  </div>\n",
              "  "
            ],
            "text/plain": [
              "                                             content   file_name\n",
              "0  We reverse the orders of the trial court denyi...  77129.json\n",
              "1  We therefore reverse Defendant's conviction an...  77129.json\n",
              "2                                                NaN  77129.json\n",
              "3   For the reasons discussed herein, we reverse ...  18357.json\n",
              "4  Accordingly, the cause is reversed and remande...  18357.json"
            ]
          },
          "execution_count": 32,
          "metadata": {},
          "output_type": "execute_result"
        }
      ],
      "source": [
        "df.head()\n"
      ]
    },
    {
      "cell_type": "markdown",
      "metadata": {
        "id": "xWF9qesokqSP"
      },
      "source": [
        "### 3 Definition of required Functions\n"
      ]
    },
    {
      "cell_type": "markdown",
      "metadata": {
        "id": "z8fESb0OkqSP"
      },
      "source": [
        "All functions are summarized here. I will show them again where they are used during this post if they are new and have not been explained yet.\n",
        "\n"
      ]
    },
    {
      "cell_type": "code",
      "execution_count": 36,
      "metadata": {
        "id": "rp6m0meRkqSQ"
      },
      "outputs": [],
      "source": [
        "def word_count_func(text):\n",
        "    '''\n",
        "    Counts words within a string\n",
        "    \n",
        "    Args:\n",
        "        text (str): String to which the function is to be applied, string\n",
        "    \n",
        "    Returns:\n",
        "        Number of words within a string, integer\n",
        "    ''' \n",
        "    return len(text.split())"
      ]
    },
    {
      "cell_type": "code",
      "execution_count": 37,
      "metadata": {
        "id": "eYPMiK4RkqSQ"
      },
      "outputs": [],
      "source": [
        "def remove_english_stopwords_func(text):\n",
        "    '''\n",
        "    Removes Stop Words (also capitalized) from a string, if present\n",
        "    \n",
        "    Args:\n",
        "        text (str): String to which the function is to be applied, string\n",
        "    \n",
        "    Returns:\n",
        "        Clean string without Stop Words\n",
        "    ''' \n",
        "    # check in lowercase \n",
        "    t = [token for token in text if token.lower() not in stopwords.words(\"english\")]\n",
        "    text = ' '.join(t)    \n",
        "    return text"
      ]
    },
    {
      "cell_type": "markdown",
      "metadata": {
        "id": "2EaH0a9ekqSQ"
      },
      "source": [
        "## 4 Text Pre-Processing\n"
      ]
    },
    {
      "cell_type": "markdown",
      "metadata": {
        "id": "ajuUegUUkqSQ"
      },
      "source": [
        "### 4.1 (Text Cleaning)\n"
      ]
    },
    {
      "cell_type": "markdown",
      "metadata": {
        "id": "zrUsT4NWkqSQ"
      },
      "source": [
        "I have already described this part in the previous post. See here: Text Cleaning"
      ]
    },
    {
      "cell_type": "markdown",
      "metadata": {
        "id": "wJ6ogQ6XkqSR"
      },
      "source": [
        "### 4.2 Tokenization\n"
      ]
    },
    {
      "cell_type": "markdown",
      "metadata": {
        "id": "p7zbSkogkqSR"
      },
      "source": [
        "Tokenisation is a technique for breaking down a piece of text into small units, called tokens. A token may be a word, part of a word or just characters like punctuation.\n",
        "\n",
        "Tokenisation can therefore be roughly divided into three groups:\n",
        "\n",
        "Word Tokenization\n",
        "Character Tokenization and\n",
        "Partial Word Tokenization (n-gram characters)\n",
        "In the following I will present two tokenizers:\n",
        "\n",
        "Word Tokenizer\n",
        "Sentence Tokenizer\n",
        "Of course there are some more. Find the one on the NLTK Homepage which fits best to your data or to your problem solution.\n",
        "\n"
      ]
    },
    {
      "cell_type": "code",
      "execution_count": 38,
      "metadata": {
        "colab": {
          "base_uri": "https://localhost:8080/",
          "height": 35
        },
        "id": "PJn8-_1IkqSR",
        "outputId": "9ce8b157-ea91-4033-f3fa-c7afd557415f"
      },
      "outputs": [
        {
          "data": {
            "application/vnd.google.colaboratory.intrinsic+json": {
              "type": "string"
            },
            "text/plain": [
              "'Hi my name is Michael. I am an enthusiastic Data Scientist. Currently I am working on a post about NLP, more specifically about the Pre-Processing Steps.'"
            ]
          },
          "execution_count": 38,
          "metadata": {},
          "output_type": "execute_result"
        }
      ],
      "source": [
        "text_for_tokenization = \\\n",
        "\"Hi my name is Michael. \\\n",
        "I am an enthusiastic Data Scientist. \\\n",
        "Currently I am working on a post about NLP, more specifically about the Pre-Processing Steps.\"\n",
        "\n",
        "text_for_tokenization"
      ]
    },
    {
      "cell_type": "markdown",
      "metadata": {
        "id": "ietjPyMukqSR"
      },
      "source": [
        "### 4.2.1 Word Tokenizer\n"
      ]
    },
    {
      "cell_type": "markdown",
      "metadata": {
        "id": "160I8Jw-kqSR"
      },
      "source": [
        "To break a sentence into words, the word_tokenize() function can be used. Based on this, further text cleaning steps can be taken such as removing stop words or normalising text blocks. In addition, machine learning models need numerical data to be trained and make predictions. Again, tokenisation of words is a crucial part of converting text into numerical data.\n",
        "\n"
      ]
    },
    {
      "cell_type": "code",
      "execution_count": 43,
      "metadata": {
        "colab": {
          "base_uri": "https://localhost:8080/"
        },
        "id": "iDe0dPJikqSR",
        "outputId": "c1b3a954-fcd5-4ebc-c980-689fab1bcd9b"
      },
      "outputs": [
        {
          "name": "stdout",
          "output_type": "stream",
          "text": [
            "['Hi', 'my', 'name', 'is', 'Michael', '.', 'I', 'am', 'an', 'enthusiastic', 'Data', 'Scientist', '.', 'Currently', 'I', 'am', 'working', 'on', 'a', 'post', 'about', 'NLP', ',', 'more', 'specifically', 'about', 'the', 'Pre-Processing', 'Steps', '.']\n"
          ]
        }
      ],
      "source": [
        "words = word_tokenize(text_for_tokenization)\n",
        "print(words)"
      ]
    },
    {
      "cell_type": "code",
      "execution_count": 44,
      "metadata": {
        "colab": {
          "base_uri": "https://localhost:8080/"
        },
        "id": "hnvdf5mgkqSS",
        "outputId": "589e652b-d03c-498f-8888-2425870a0352"
      },
      "outputs": [
        {
          "name": "stdout",
          "output_type": "stream",
          "text": [
            "Number of tokens found: 30\n"
          ]
        }
      ],
      "source": [
        "print('Number of tokens found: ' + str(len(words)))\n"
      ]
    },
    {
      "cell_type": "markdown",
      "metadata": {
        "id": "N-WZCMtvkqSS"
      },
      "source": [
        "### 4.2.2 Sentence Tokenizer\n"
      ]
    },
    {
      "cell_type": "markdown",
      "metadata": {
        "id": "KBBC56qqkqSS"
      },
      "source": [
        "Now the question arises, why do I actually need to tokenise sentences when I can tokenise individual words?\n",
        "\n",
        "An example of use would be if you want to count the average number of words per sentence. How can I do that with the Word Tokenizer alone? I can’t, I need both the sent_tokenize() function and the word_tokenize() function to calculate the ratio."
      ]
    },
    {
      "cell_type": "code",
      "execution_count": 45,
      "metadata": {
        "colab": {
          "base_uri": "https://localhost:8080/"
        },
        "id": "tn8pEGJ5kqSS",
        "outputId": "d23041a3-3605-4b3d-f89c-f5d4abc07327"
      },
      "outputs": [
        {
          "name": "stdout",
          "output_type": "stream",
          "text": [
            "['Hi my name is Michael.', 'I am an enthusiastic Data Scientist.', 'Currently I am working on a post about NLP, more specifically about the Pre-Processing Steps.']\n"
          ]
        }
      ],
      "source": [
        "sentences = sent_tokenize(text_for_tokenization)\n",
        "print(sentences)"
      ]
    },
    {
      "cell_type": "code",
      "execution_count": 46,
      "metadata": {
        "colab": {
          "base_uri": "https://localhost:8080/"
        },
        "id": "NssGloR8kqSS",
        "outputId": "8e628024-7d98-42ca-f225-db927f631e08"
      },
      "outputs": [
        {
          "name": "stdout",
          "output_type": "stream",
          "text": [
            "Number of sentences found: 3\n"
          ]
        }
      ],
      "source": [
        "print('Number of sentences found: ' + str(len(sentences)))\n"
      ]
    },
    {
      "cell_type": "code",
      "execution_count": 47,
      "metadata": {
        "colab": {
          "base_uri": "https://localhost:8080/"
        },
        "id": "kbZKzoP_kqSS",
        "outputId": "3c01e6f6-4c46-474a-bd00-1a837ac155e9"
      },
      "outputs": [
        {
          "name": "stdout",
          "output_type": "stream",
          "text": [
            "Hi my name is Michael.\n",
            "I am an enthusiastic Data Scientist.\n",
            "Currently I am working on a post about NLP, more specifically about the Pre-Processing Steps.\n"
          ]
        }
      ],
      "source": [
        "for each_sentence in sentences:\n",
        "    n_words=word_tokenize(each_sentence)\n",
        "    print(each_sentence)   "
      ]
    },
    {
      "cell_type": "code",
      "execution_count": 48,
      "metadata": {
        "colab": {
          "base_uri": "https://localhost:8080/"
        },
        "id": "Xi9EwnyjkqSS",
        "outputId": "383ac838-c7a7-4658-98cc-811629d75deb"
      },
      "outputs": [
        {
          "name": "stdout",
          "output_type": "stream",
          "text": [
            "6\n",
            "7\n",
            "17\n"
          ]
        }
      ],
      "source": [
        "for each_sentence in sentences:\n",
        "    n_words=word_tokenize(each_sentence)\n",
        "    print(len(n_words))"
      ]
    },
    {
      "cell_type": "markdown",
      "metadata": {
        "id": "dohVnM2zkqSS"
      },
      "source": [
        "### 4.2.3 Application to the Example String\n"
      ]
    },
    {
      "cell_type": "code",
      "execution_count": null,
      "metadata": {
        "colab": {
          "base_uri": "https://localhost:8080/"
        },
        "id": "4Rv9zXd9kqSS",
        "outputId": "efaf1d85-99ed-44f4-a8fe-5160f567d7e4"
      },
      "outputs": [],
      "source": [
        "tokens_clean_text = word_tokenize(\".\".join(df[\"content\"].tolist()))\n",
        "print(tokens_clean_text)"
      ]
    },
    {
      "cell_type": "code",
      "execution_count": 54,
      "metadata": {
        "colab": {
          "base_uri": "https://localhost:8080/"
        },
        "id": "rAe3tnZ6kqST",
        "outputId": "f619841d-d933-4827-cf14-0e74cd89b880"
      },
      "outputs": [
        {
          "name": "stdout",
          "output_type": "stream",
          "text": [
            "Number of tokens found: 30301\n"
          ]
        }
      ],
      "source": [
        "print('Number of tokens found: ' + str(len(tokens_clean_text)))\n"
      ]
    },
    {
      "cell_type": "markdown",
      "metadata": {
        "id": "vjgJp3xckqST"
      },
      "source": [
        "### 4.2.4 Application to the DataFrame\n"
      ]
    },
    {
      "cell_type": "code",
      "execution_count": 55,
      "metadata": {
        "colab": {
          "base_uri": "https://localhost:8080/",
          "height": 206
        },
        "id": "8WYDODSOkqST",
        "outputId": "8c530ef8-9614-4a82-facc-fccf0a7958c4"
      },
      "outputs": [
        {
          "data": {
            "text/html": [
              "\n",
              "  <div id=\"df-76650e8f-285c-40d3-a655-6d67bce8883a\">\n",
              "    <div class=\"colab-df-container\">\n",
              "      <div>\n",
              "<style scoped>\n",
              "    .dataframe tbody tr th:only-of-type {\n",
              "        vertical-align: middle;\n",
              "    }\n",
              "\n",
              "    .dataframe tbody tr th {\n",
              "        vertical-align: top;\n",
              "    }\n",
              "\n",
              "    .dataframe thead th {\n",
              "        text-align: right;\n",
              "    }\n",
              "</style>\n",
              "<table border=\"1\" class=\"dataframe\">\n",
              "  <thead>\n",
              "    <tr style=\"text-align: right;\">\n",
              "      <th></th>\n",
              "      <th>content</th>\n",
              "      <th>file_name</th>\n",
              "      <th>clean_content</th>\n",
              "    </tr>\n",
              "  </thead>\n",
              "  <tbody>\n",
              "    <tr>\n",
              "      <th>0</th>\n",
              "      <td>We reverse the orders of the trial court denyi...</td>\n",
              "      <td>77129.json</td>\n",
              "      <td>We reverse the orders of the trial court denyi...</td>\n",
              "    </tr>\n",
              "    <tr>\n",
              "      <th>1</th>\n",
              "      <td>We therefore reverse Defendant's conviction an...</td>\n",
              "      <td>77129.json</td>\n",
              "      <td>We therefore reverse Defendant's conviction an...</td>\n",
              "    </tr>\n",
              "    <tr>\n",
              "      <th>2</th>\n",
              "      <td>nan</td>\n",
              "      <td>77129.json</td>\n",
              "      <td>nan</td>\n",
              "    </tr>\n",
              "    <tr>\n",
              "      <th>3</th>\n",
              "      <td>For the reasons discussed herein, we reverse ...</td>\n",
              "      <td>18357.json</td>\n",
              "      <td>For the reasons discussed herein, we reverse ...</td>\n",
              "    </tr>\n",
              "    <tr>\n",
              "      <th>4</th>\n",
              "      <td>Accordingly, the cause is reversed and remande...</td>\n",
              "      <td>18357.json</td>\n",
              "      <td>Accordingly, the cause is reversed and remande...</td>\n",
              "    </tr>\n",
              "  </tbody>\n",
              "</table>\n",
              "</div>\n",
              "      <button class=\"colab-df-convert\" onclick=\"convertToInteractive('df-76650e8f-285c-40d3-a655-6d67bce8883a')\"\n",
              "              title=\"Convert this dataframe to an interactive table.\"\n",
              "              style=\"display:none;\">\n",
              "        \n",
              "  <svg xmlns=\"http://www.w3.org/2000/svg\" height=\"24px\"viewBox=\"0 0 24 24\"\n",
              "       width=\"24px\">\n",
              "    <path d=\"M0 0h24v24H0V0z\" fill=\"none\"/>\n",
              "    <path d=\"M18.56 5.44l.94 2.06.94-2.06 2.06-.94-2.06-.94-.94-2.06-.94 2.06-2.06.94zm-11 1L8.5 8.5l.94-2.06 2.06-.94-2.06-.94L8.5 2.5l-.94 2.06-2.06.94zm10 10l.94 2.06.94-2.06 2.06-.94-2.06-.94-.94-2.06-.94 2.06-2.06.94z\"/><path d=\"M17.41 7.96l-1.37-1.37c-.4-.4-.92-.59-1.43-.59-.52 0-1.04.2-1.43.59L10.3 9.45l-7.72 7.72c-.78.78-.78 2.05 0 2.83L4 21.41c.39.39.9.59 1.41.59.51 0 1.02-.2 1.41-.59l7.78-7.78 2.81-2.81c.8-.78.8-2.07 0-2.86zM5.41 20L4 18.59l7.72-7.72 1.47 1.35L5.41 20z\"/>\n",
              "  </svg>\n",
              "      </button>\n",
              "      \n",
              "  <style>\n",
              "    .colab-df-container {\n",
              "      display:flex;\n",
              "      flex-wrap:wrap;\n",
              "      gap: 12px;\n",
              "    }\n",
              "\n",
              "    .colab-df-convert {\n",
              "      background-color: #E8F0FE;\n",
              "      border: none;\n",
              "      border-radius: 50%;\n",
              "      cursor: pointer;\n",
              "      display: none;\n",
              "      fill: #1967D2;\n",
              "      height: 32px;\n",
              "      padding: 0 0 0 0;\n",
              "      width: 32px;\n",
              "    }\n",
              "\n",
              "    .colab-df-convert:hover {\n",
              "      background-color: #E2EBFA;\n",
              "      box-shadow: 0px 1px 2px rgba(60, 64, 67, 0.3), 0px 1px 3px 1px rgba(60, 64, 67, 0.15);\n",
              "      fill: #174EA6;\n",
              "    }\n",
              "\n",
              "    [theme=dark] .colab-df-convert {\n",
              "      background-color: #3B4455;\n",
              "      fill: #D2E3FC;\n",
              "    }\n",
              "\n",
              "    [theme=dark] .colab-df-convert:hover {\n",
              "      background-color: #434B5C;\n",
              "      box-shadow: 0px 1px 3px 1px rgba(0, 0, 0, 0.15);\n",
              "      filter: drop-shadow(0px 1px 2px rgba(0, 0, 0, 0.3));\n",
              "      fill: #FFFFFF;\n",
              "    }\n",
              "  </style>\n",
              "\n",
              "      <script>\n",
              "        const buttonEl =\n",
              "          document.querySelector('#df-76650e8f-285c-40d3-a655-6d67bce8883a button.colab-df-convert');\n",
              "        buttonEl.style.display =\n",
              "          google.colab.kernel.accessAllowed ? 'block' : 'none';\n",
              "\n",
              "        async function convertToInteractive(key) {\n",
              "          const element = document.querySelector('#df-76650e8f-285c-40d3-a655-6d67bce8883a');\n",
              "          const dataTable =\n",
              "            await google.colab.kernel.invokeFunction('convertToInteractive',\n",
              "                                                     [key], {});\n",
              "          if (!dataTable) return;\n",
              "\n",
              "          const docLinkHtml = 'Like what you see? Visit the ' +\n",
              "            '<a target=\"_blank\" href=https://colab.research.google.com/notebooks/data_table.ipynb>data table notebook</a>'\n",
              "            + ' to learn more about interactive tables.';\n",
              "          element.innerHTML = '';\n",
              "          dataTable['output_type'] = 'display_data';\n",
              "          await google.colab.output.renderOutput(dataTable, element);\n",
              "          const docLink = document.createElement('div');\n",
              "          docLink.innerHTML = docLinkHtml;\n",
              "          element.appendChild(docLink);\n",
              "        }\n",
              "      </script>\n",
              "    </div>\n",
              "  </div>\n",
              "  "
            ],
            "text/plain": [
              "                                             content   file_name  \\\n",
              "0  We reverse the orders of the trial court denyi...  77129.json   \n",
              "1  We therefore reverse Defendant's conviction an...  77129.json   \n",
              "2                                                nan  77129.json   \n",
              "3   For the reasons discussed herein, we reverse ...  18357.json   \n",
              "4  Accordingly, the cause is reversed and remande...  18357.json   \n",
              "\n",
              "                                       clean_content  \n",
              "0  We reverse the orders of the trial court denyi...  \n",
              "1  We therefore reverse Defendant's conviction an...  \n",
              "2                                                nan  \n",
              "3   For the reasons discussed herein, we reverse ...  \n",
              "4  Accordingly, the cause is reversed and remande...  "
            ]
          },
          "execution_count": 55,
          "metadata": {},
          "output_type": "execute_result"
        }
      ],
      "source": [
        "df.head()"
      ]
    },
    {
      "cell_type": "markdown",
      "metadata": {
        "id": "YR1A0abrkqST"
      },
      "source": [
        "Here I set a limit for the column width so that it remains clear. This setting should be reset at the end, otherwise it will remain.\n",
        "\n"
      ]
    },
    {
      "cell_type": "code",
      "execution_count": 56,
      "metadata": {
        "id": "R2s8sQfZkqST"
      },
      "outputs": [],
      "source": [
        "pd.set_option('display.max_colwidth', 30)\n"
      ]
    },
    {
      "cell_type": "code",
      "execution_count": 67,
      "metadata": {
        "id": "mmE8h-IJkqST"
      },
      "outputs": [],
      "source": [
        "df['tokens'] = df['content'].apply(word_tokenize)\n",
        "df['Word_Count'] = df['content'].apply(word_count_func)\n"
      ]
    },
    {
      "cell_type": "code",
      "execution_count": 65,
      "metadata": {
        "colab": {
          "base_uri": "https://localhost:8080/",
          "height": 206
        },
        "id": "kaEz9Tr_kqST",
        "outputId": "9b791930-e7b0-4d03-b950-8f7a37a651f8"
      },
      "outputs": [
        {
          "data": {
            "text/html": [
              "\n",
              "  <div id=\"df-37a1df8d-96fb-47c1-a512-ae1418d816ed\">\n",
              "    <div class=\"colab-df-container\">\n",
              "      <div>\n",
              "<style scoped>\n",
              "    .dataframe tbody tr th:only-of-type {\n",
              "        vertical-align: middle;\n",
              "    }\n",
              "\n",
              "    .dataframe tbody tr th {\n",
              "        vertical-align: top;\n",
              "    }\n",
              "\n",
              "    .dataframe thead th {\n",
              "        text-align: right;\n",
              "    }\n",
              "</style>\n",
              "<table border=\"1\" class=\"dataframe\">\n",
              "  <thead>\n",
              "    <tr style=\"text-align: right;\">\n",
              "      <th></th>\n",
              "      <th>content</th>\n",
              "      <th>file_name</th>\n",
              "      <th>clean_content</th>\n",
              "      <th>tokens</th>\n",
              "      <th>Token_Count</th>\n",
              "      <th>Word_Count</th>\n",
              "    </tr>\n",
              "  </thead>\n",
              "  <tbody>\n",
              "    <tr>\n",
              "      <th>0</th>\n",
              "      <td>We reverse the orders of t...</td>\n",
              "      <td>77129.json</td>\n",
              "      <td>We reverse the orders of t...</td>\n",
              "      <td>[We, reverse, the, orders,...</td>\n",
              "      <td>17</td>\n",
              "      <td>15</td>\n",
              "    </tr>\n",
              "    <tr>\n",
              "      <th>1</th>\n",
              "      <td>We therefore reverse Defen...</td>\n",
              "      <td>77129.json</td>\n",
              "      <td>We therefore reverse Defen...</td>\n",
              "      <td>[We, therefore, reverse, D...</td>\n",
              "      <td>16</td>\n",
              "      <td>14</td>\n",
              "    </tr>\n",
              "    <tr>\n",
              "      <th>2</th>\n",
              "      <td>nan</td>\n",
              "      <td>77129.json</td>\n",
              "      <td>nan</td>\n",
              "      <td>[nan]</td>\n",
              "      <td>1</td>\n",
              "      <td>1</td>\n",
              "    </tr>\n",
              "    <tr>\n",
              "      <th>3</th>\n",
              "      <td>For the reasons discussed...</td>\n",
              "      <td>18357.json</td>\n",
              "      <td>For the reasons discussed...</td>\n",
              "      <td>[For, the, reasons, discus...</td>\n",
              "      <td>14</td>\n",
              "      <td>12</td>\n",
              "    </tr>\n",
              "    <tr>\n",
              "      <th>4</th>\n",
              "      <td>Accordingly, the cause is ...</td>\n",
              "      <td>18357.json</td>\n",
              "      <td>Accordingly, the cause is ...</td>\n",
              "      <td>[Accordingly, ,, the, caus...</td>\n",
              "      <td>16</td>\n",
              "      <td>14</td>\n",
              "    </tr>\n",
              "  </tbody>\n",
              "</table>\n",
              "</div>\n",
              "      <button class=\"colab-df-convert\" onclick=\"convertToInteractive('df-37a1df8d-96fb-47c1-a512-ae1418d816ed')\"\n",
              "              title=\"Convert this dataframe to an interactive table.\"\n",
              "              style=\"display:none;\">\n",
              "        \n",
              "  <svg xmlns=\"http://www.w3.org/2000/svg\" height=\"24px\"viewBox=\"0 0 24 24\"\n",
              "       width=\"24px\">\n",
              "    <path d=\"M0 0h24v24H0V0z\" fill=\"none\"/>\n",
              "    <path d=\"M18.56 5.44l.94 2.06.94-2.06 2.06-.94-2.06-.94-.94-2.06-.94 2.06-2.06.94zm-11 1L8.5 8.5l.94-2.06 2.06-.94-2.06-.94L8.5 2.5l-.94 2.06-2.06.94zm10 10l.94 2.06.94-2.06 2.06-.94-2.06-.94-.94-2.06-.94 2.06-2.06.94z\"/><path d=\"M17.41 7.96l-1.37-1.37c-.4-.4-.92-.59-1.43-.59-.52 0-1.04.2-1.43.59L10.3 9.45l-7.72 7.72c-.78.78-.78 2.05 0 2.83L4 21.41c.39.39.9.59 1.41.59.51 0 1.02-.2 1.41-.59l7.78-7.78 2.81-2.81c.8-.78.8-2.07 0-2.86zM5.41 20L4 18.59l7.72-7.72 1.47 1.35L5.41 20z\"/>\n",
              "  </svg>\n",
              "      </button>\n",
              "      \n",
              "  <style>\n",
              "    .colab-df-container {\n",
              "      display:flex;\n",
              "      flex-wrap:wrap;\n",
              "      gap: 12px;\n",
              "    }\n",
              "\n",
              "    .colab-df-convert {\n",
              "      background-color: #E8F0FE;\n",
              "      border: none;\n",
              "      border-radius: 50%;\n",
              "      cursor: pointer;\n",
              "      display: none;\n",
              "      fill: #1967D2;\n",
              "      height: 32px;\n",
              "      padding: 0 0 0 0;\n",
              "      width: 32px;\n",
              "    }\n",
              "\n",
              "    .colab-df-convert:hover {\n",
              "      background-color: #E2EBFA;\n",
              "      box-shadow: 0px 1px 2px rgba(60, 64, 67, 0.3), 0px 1px 3px 1px rgba(60, 64, 67, 0.15);\n",
              "      fill: #174EA6;\n",
              "    }\n",
              "\n",
              "    [theme=dark] .colab-df-convert {\n",
              "      background-color: #3B4455;\n",
              "      fill: #D2E3FC;\n",
              "    }\n",
              "\n",
              "    [theme=dark] .colab-df-convert:hover {\n",
              "      background-color: #434B5C;\n",
              "      box-shadow: 0px 1px 3px 1px rgba(0, 0, 0, 0.15);\n",
              "      filter: drop-shadow(0px 1px 2px rgba(0, 0, 0, 0.3));\n",
              "      fill: #FFFFFF;\n",
              "    }\n",
              "  </style>\n",
              "\n",
              "      <script>\n",
              "        const buttonEl =\n",
              "          document.querySelector('#df-37a1df8d-96fb-47c1-a512-ae1418d816ed button.colab-df-convert');\n",
              "        buttonEl.style.display =\n",
              "          google.colab.kernel.accessAllowed ? 'block' : 'none';\n",
              "\n",
              "        async function convertToInteractive(key) {\n",
              "          const element = document.querySelector('#df-37a1df8d-96fb-47c1-a512-ae1418d816ed');\n",
              "          const dataTable =\n",
              "            await google.colab.kernel.invokeFunction('convertToInteractive',\n",
              "                                                     [key], {});\n",
              "          if (!dataTable) return;\n",
              "\n",
              "          const docLinkHtml = 'Like what you see? Visit the ' +\n",
              "            '<a target=\"_blank\" href=https://colab.research.google.com/notebooks/data_table.ipynb>data table notebook</a>'\n",
              "            + ' to learn more about interactive tables.';\n",
              "          element.innerHTML = '';\n",
              "          dataTable['output_type'] = 'display_data';\n",
              "          await google.colab.output.renderOutput(dataTable, element);\n",
              "          const docLink = document.createElement('div');\n",
              "          docLink.innerHTML = docLinkHtml;\n",
              "          element.appendChild(docLink);\n",
              "        }\n",
              "      </script>\n",
              "    </div>\n",
              "  </div>\n",
              "  "
            ],
            "text/plain": [
              "                         content   file_name                  clean_content  \\\n",
              "0  We reverse the orders of t...  77129.json  We reverse the orders of t...   \n",
              "1  We therefore reverse Defen...  77129.json  We therefore reverse Defen...   \n",
              "2                            nan  77129.json                            nan   \n",
              "3   For the reasons discussed...  18357.json   For the reasons discussed...   \n",
              "4  Accordingly, the cause is ...  18357.json  Accordingly, the cause is ...   \n",
              "\n",
              "                          tokens  Token_Count  Word_Count  \n",
              "0  [We, reverse, the, orders,...           17          15  \n",
              "1  [We, therefore, reverse, D...           16          14  \n",
              "2                          [nan]            1           1  \n",
              "3  [For, the, reasons, discus...           14          12  \n",
              "4  [Accordingly, ,, the, caus...           16          14  "
            ]
          },
          "execution_count": 65,
          "metadata": {},
          "output_type": "execute_result"
        }
      ],
      "source": [
        "df.head()\n"
      ]
    },
    {
      "cell_type": "code",
      "execution_count": 68,
      "metadata": {
        "colab": {
          "base_uri": "https://localhost:8080/",
          "height": 206
        },
        "id": "VPiF5bEYkqST",
        "outputId": "3840aead-937d-484c-a98a-0a11e10aa01a"
      },
      "outputs": [
        {
          "data": {
            "text/html": [
              "\n",
              "  <div id=\"df-6934274c-9355-410a-b80a-6137ad5cac2f\">\n",
              "    <div class=\"colab-df-container\">\n",
              "      <div>\n",
              "<style scoped>\n",
              "    .dataframe tbody tr th:only-of-type {\n",
              "        vertical-align: middle;\n",
              "    }\n",
              "\n",
              "    .dataframe tbody tr th {\n",
              "        vertical-align: top;\n",
              "    }\n",
              "\n",
              "    .dataframe thead th {\n",
              "        text-align: right;\n",
              "    }\n",
              "</style>\n",
              "<table border=\"1\" class=\"dataframe\">\n",
              "  <thead>\n",
              "    <tr style=\"text-align: right;\">\n",
              "      <th></th>\n",
              "      <th>content</th>\n",
              "      <th>file_name</th>\n",
              "      <th>clean_content</th>\n",
              "      <th>tokens</th>\n",
              "      <th>Token_Count</th>\n",
              "      <th>Word_Count</th>\n",
              "    </tr>\n",
              "  </thead>\n",
              "  <tbody>\n",
              "    <tr>\n",
              "      <th>0</th>\n",
              "      <td>We reverse the orders of t...</td>\n",
              "      <td>77129.json</td>\n",
              "      <td>We reverse the orders of t...</td>\n",
              "      <td>[We, reverse, the, orders,...</td>\n",
              "      <td>17</td>\n",
              "      <td>15</td>\n",
              "    </tr>\n",
              "    <tr>\n",
              "      <th>1</th>\n",
              "      <td>We therefore reverse Defen...</td>\n",
              "      <td>77129.json</td>\n",
              "      <td>We therefore reverse Defen...</td>\n",
              "      <td>[We, therefore, reverse, D...</td>\n",
              "      <td>16</td>\n",
              "      <td>14</td>\n",
              "    </tr>\n",
              "    <tr>\n",
              "      <th>2</th>\n",
              "      <td>nan</td>\n",
              "      <td>77129.json</td>\n",
              "      <td>nan</td>\n",
              "      <td>[nan]</td>\n",
              "      <td>1</td>\n",
              "      <td>1</td>\n",
              "    </tr>\n",
              "    <tr>\n",
              "      <th>3</th>\n",
              "      <td>For the reasons discussed...</td>\n",
              "      <td>18357.json</td>\n",
              "      <td>For the reasons discussed...</td>\n",
              "      <td>[For, the, reasons, discus...</td>\n",
              "      <td>14</td>\n",
              "      <td>12</td>\n",
              "    </tr>\n",
              "    <tr>\n",
              "      <th>4</th>\n",
              "      <td>Accordingly, the cause is ...</td>\n",
              "      <td>18357.json</td>\n",
              "      <td>Accordingly, the cause is ...</td>\n",
              "      <td>[Accordingly, ,, the, caus...</td>\n",
              "      <td>16</td>\n",
              "      <td>14</td>\n",
              "    </tr>\n",
              "  </tbody>\n",
              "</table>\n",
              "</div>\n",
              "      <button class=\"colab-df-convert\" onclick=\"convertToInteractive('df-6934274c-9355-410a-b80a-6137ad5cac2f')\"\n",
              "              title=\"Convert this dataframe to an interactive table.\"\n",
              "              style=\"display:none;\">\n",
              "        \n",
              "  <svg xmlns=\"http://www.w3.org/2000/svg\" height=\"24px\"viewBox=\"0 0 24 24\"\n",
              "       width=\"24px\">\n",
              "    <path d=\"M0 0h24v24H0V0z\" fill=\"none\"/>\n",
              "    <path d=\"M18.56 5.44l.94 2.06.94-2.06 2.06-.94-2.06-.94-.94-2.06-.94 2.06-2.06.94zm-11 1L8.5 8.5l.94-2.06 2.06-.94-2.06-.94L8.5 2.5l-.94 2.06-2.06.94zm10 10l.94 2.06.94-2.06 2.06-.94-2.06-.94-.94-2.06-.94 2.06-2.06.94z\"/><path d=\"M17.41 7.96l-1.37-1.37c-.4-.4-.92-.59-1.43-.59-.52 0-1.04.2-1.43.59L10.3 9.45l-7.72 7.72c-.78.78-.78 2.05 0 2.83L4 21.41c.39.39.9.59 1.41.59.51 0 1.02-.2 1.41-.59l7.78-7.78 2.81-2.81c.8-.78.8-2.07 0-2.86zM5.41 20L4 18.59l7.72-7.72 1.47 1.35L5.41 20z\"/>\n",
              "  </svg>\n",
              "      </button>\n",
              "      \n",
              "  <style>\n",
              "    .colab-df-container {\n",
              "      display:flex;\n",
              "      flex-wrap:wrap;\n",
              "      gap: 12px;\n",
              "    }\n",
              "\n",
              "    .colab-df-convert {\n",
              "      background-color: #E8F0FE;\n",
              "      border: none;\n",
              "      border-radius: 50%;\n",
              "      cursor: pointer;\n",
              "      display: none;\n",
              "      fill: #1967D2;\n",
              "      height: 32px;\n",
              "      padding: 0 0 0 0;\n",
              "      width: 32px;\n",
              "    }\n",
              "\n",
              "    .colab-df-convert:hover {\n",
              "      background-color: #E2EBFA;\n",
              "      box-shadow: 0px 1px 2px rgba(60, 64, 67, 0.3), 0px 1px 3px 1px rgba(60, 64, 67, 0.15);\n",
              "      fill: #174EA6;\n",
              "    }\n",
              "\n",
              "    [theme=dark] .colab-df-convert {\n",
              "      background-color: #3B4455;\n",
              "      fill: #D2E3FC;\n",
              "    }\n",
              "\n",
              "    [theme=dark] .colab-df-convert:hover {\n",
              "      background-color: #434B5C;\n",
              "      box-shadow: 0px 1px 3px 1px rgba(0, 0, 0, 0.15);\n",
              "      filter: drop-shadow(0px 1px 2px rgba(0, 0, 0, 0.3));\n",
              "      fill: #FFFFFF;\n",
              "    }\n",
              "  </style>\n",
              "\n",
              "      <script>\n",
              "        const buttonEl =\n",
              "          document.querySelector('#df-6934274c-9355-410a-b80a-6137ad5cac2f button.colab-df-convert');\n",
              "        buttonEl.style.display =\n",
              "          google.colab.kernel.accessAllowed ? 'block' : 'none';\n",
              "\n",
              "        async function convertToInteractive(key) {\n",
              "          const element = document.querySelector('#df-6934274c-9355-410a-b80a-6137ad5cac2f');\n",
              "          const dataTable =\n",
              "            await google.colab.kernel.invokeFunction('convertToInteractive',\n",
              "                                                     [key], {});\n",
              "          if (!dataTable) return;\n",
              "\n",
              "          const docLinkHtml = 'Like what you see? Visit the ' +\n",
              "            '<a target=\"_blank\" href=https://colab.research.google.com/notebooks/data_table.ipynb>data table notebook</a>'\n",
              "            + ' to learn more about interactive tables.';\n",
              "          element.innerHTML = '';\n",
              "          dataTable['output_type'] = 'display_data';\n",
              "          await google.colab.output.renderOutput(dataTable, element);\n",
              "          const docLink = document.createElement('div');\n",
              "          docLink.innerHTML = docLinkHtml;\n",
              "          element.appendChild(docLink);\n",
              "        }\n",
              "      </script>\n",
              "    </div>\n",
              "  </div>\n",
              "  "
            ],
            "text/plain": [
              "                         content   file_name                  clean_content  \\\n",
              "0  We reverse the orders of t...  77129.json  We reverse the orders of t...   \n",
              "1  We therefore reverse Defen...  77129.json  We therefore reverse Defen...   \n",
              "2                            nan  77129.json                            nan   \n",
              "3   For the reasons discussed...  18357.json   For the reasons discussed...   \n",
              "4  Accordingly, the cause is ...  18357.json  Accordingly, the cause is ...   \n",
              "\n",
              "                          tokens  Token_Count  Word_Count  \n",
              "0  [We, reverse, the, orders,...           17          15  \n",
              "1  [We, therefore, reverse, D...           16          14  \n",
              "2                          [nan]            1           1  \n",
              "3  [For, the, reasons, discus...           14          12  \n",
              "4  [Accordingly, ,, the, caus...           16          14  "
            ]
          },
          "execution_count": 68,
          "metadata": {},
          "output_type": "execute_result"
        }
      ],
      "source": [
        "df['Token_Count'] = df['tokens'].str.len()\n",
        "\n",
        "df.head()"
      ]
    },
    {
      "cell_type": "markdown",
      "metadata": {
        "id": "T3mY311EkqSU"
      },
      "source": [
        "It is always worthwhile (I have made a habit of doing this) to have the number of remaining words or tokens displayed and also to store them in the data record. The advantage of this is that (especially in later process steps) it is very quick and easy to see what influence the operation has had on the quality of my information. Of course, this can only be done on a random basis, but it is easy to see whether the function applied had negative effects that were not intended. Or you look at a case difference if you don’t know which type of algorithm (for example, in normalisation) fits my data better.\n",
        "\n"
      ]
    },
    {
      "cell_type": "code",
      "execution_count": 69,
      "metadata": {
        "colab": {
          "base_uri": "https://localhost:8080/"
        },
        "id": "zk0bQ6EvkqSU",
        "outputId": "4821bb82-e5ba-4f6b-fbfd-c7ac1fb6ee9d"
      },
      "outputs": [
        {
          "name": "stdout",
          "output_type": "stream",
          "text": [
            "Average of words counted: 14.843612334801762\n",
            "Average of tokens counted: 16.868392070484582\n"
          ]
        }
      ],
      "source": [
        "print('Average of words counted: ' + str(df['Word_Count'].mean()))\n",
        "print('Average of tokens counted: ' + str(df['Token_Count'].mean()))\n"
      ]
    },
    {
      "cell_type": "markdown",
      "metadata": {
        "id": "P9aYbNFBkqSU"
      },
      "source": [
        "Ok interesting, the average number of words has increased slightly. Let’s take a look at what caused that:\n",
        "\n"
      ]
    },
    {
      "cell_type": "code",
      "execution_count": 72,
      "metadata": {
        "colab": {
          "base_uri": "https://localhost:8080/",
          "height": 424
        },
        "id": "5eGx5IQVkqSU",
        "outputId": "eca95379-8189-487d-e30b-6ee41d272b75"
      },
      "outputs": [
        {
          "data": {
            "text/html": [
              "\n",
              "  <div id=\"df-233a8119-f598-4542-af0d-6dd8fa78793a\">\n",
              "    <div class=\"colab-df-container\">\n",
              "      <div>\n",
              "<style scoped>\n",
              "    .dataframe tbody tr th:only-of-type {\n",
              "        vertical-align: middle;\n",
              "    }\n",
              "\n",
              "    .dataframe tbody tr th {\n",
              "        vertical-align: top;\n",
              "    }\n",
              "\n",
              "    .dataframe thead th {\n",
              "        text-align: right;\n",
              "    }\n",
              "</style>\n",
              "<table border=\"1\" class=\"dataframe\">\n",
              "  <thead>\n",
              "    <tr style=\"text-align: right;\">\n",
              "      <th></th>\n",
              "      <th>content</th>\n",
              "      <th>Word_Count</th>\n",
              "      <th>tokens</th>\n",
              "      <th>Token_Count</th>\n",
              "      <th>Diff</th>\n",
              "    </tr>\n",
              "  </thead>\n",
              "  <tbody>\n",
              "    <tr>\n",
              "      <th>1740</th>\n",
              "      <td>Therefore, we reverse and ...</td>\n",
              "      <td>40</td>\n",
              "      <td>[Therefore, ,, we, reverse...</td>\n",
              "      <td>61</td>\n",
              "      <td>21</td>\n",
              "    </tr>\n",
              "    <tr>\n",
              "      <th>886</th>\n",
              "      <td>We uphold the district cou...</td>\n",
              "      <td>43</td>\n",
              "      <td>[We, uphold, the, district...</td>\n",
              "      <td>61</td>\n",
              "      <td>18</td>\n",
              "    </tr>\n",
              "    <tr>\n",
              "      <th>737</th>\n",
              "      <td>Concluding that Defendant ...</td>\n",
              "      <td>61</td>\n",
              "      <td>[Concluding, that, Defenda...</td>\n",
              "      <td>76</td>\n",
              "      <td>15</td>\n",
              "    </tr>\n",
              "    <tr>\n",
              "      <th>1236</th>\n",
              "      <td>We affirm the trial court'...</td>\n",
              "      <td>76</td>\n",
              "      <td>[We, affirm, the, trial, c...</td>\n",
              "      <td>90</td>\n",
              "      <td>14</td>\n",
              "    </tr>\n",
              "    <tr>\n",
              "      <th>1456</th>\n",
              "      <td>We note jurisdiction under...</td>\n",
              "      <td>27</td>\n",
              "      <td>[We, note, jurisdiction, u...</td>\n",
              "      <td>40</td>\n",
              "      <td>13</td>\n",
              "    </tr>\n",
              "    <tr>\n",
              "      <th>...</th>\n",
              "      <td>...</td>\n",
              "      <td>...</td>\n",
              "      <td>...</td>\n",
              "      <td>...</td>\n",
              "      <td>...</td>\n",
              "    </tr>\n",
              "    <tr>\n",
              "      <th>1307</th>\n",
              "      <td>We affirm the decision of ...</td>\n",
              "      <td>8</td>\n",
              "      <td>[We, affirm, the, decision...</td>\n",
              "      <td>9</td>\n",
              "      <td>1</td>\n",
              "    </tr>\n",
              "    <tr>\n",
              "      <th>1305</th>\n",
              "      <td>We affirm.</td>\n",
              "      <td>2</td>\n",
              "      <td>[We, affirm, .]</td>\n",
              "      <td>3</td>\n",
              "      <td>1</td>\n",
              "    </tr>\n",
              "    <tr>\n",
              "      <th>1303</th>\n",
              "      <td>We affirm the Court of Ap...</td>\n",
              "      <td>22</td>\n",
              "      <td>[We, affirm, the, Court, o...</td>\n",
              "      <td>23</td>\n",
              "      <td>1</td>\n",
              "    </tr>\n",
              "    <tr>\n",
              "      <th>1302</th>\n",
              "      <td>We now affirm the Court of...</td>\n",
              "      <td>11</td>\n",
              "      <td>[We, now, affirm, the, Cou...</td>\n",
              "      <td>12</td>\n",
              "      <td>1</td>\n",
              "    </tr>\n",
              "    <tr>\n",
              "      <th>901</th>\n",
              "      <td>We affirm.</td>\n",
              "      <td>2</td>\n",
              "      <td>[We, affirm, .]</td>\n",
              "      <td>3</td>\n",
              "      <td>1</td>\n",
              "    </tr>\n",
              "  </tbody>\n",
              "</table>\n",
              "<p>1304 rows × 5 columns</p>\n",
              "</div>\n",
              "      <button class=\"colab-df-convert\" onclick=\"convertToInteractive('df-233a8119-f598-4542-af0d-6dd8fa78793a')\"\n",
              "              title=\"Convert this dataframe to an interactive table.\"\n",
              "              style=\"display:none;\">\n",
              "        \n",
              "  <svg xmlns=\"http://www.w3.org/2000/svg\" height=\"24px\"viewBox=\"0 0 24 24\"\n",
              "       width=\"24px\">\n",
              "    <path d=\"M0 0h24v24H0V0z\" fill=\"none\"/>\n",
              "    <path d=\"M18.56 5.44l.94 2.06.94-2.06 2.06-.94-2.06-.94-.94-2.06-.94 2.06-2.06.94zm-11 1L8.5 8.5l.94-2.06 2.06-.94-2.06-.94L8.5 2.5l-.94 2.06-2.06.94zm10 10l.94 2.06.94-2.06 2.06-.94-2.06-.94-.94-2.06-.94 2.06-2.06.94z\"/><path d=\"M17.41 7.96l-1.37-1.37c-.4-.4-.92-.59-1.43-.59-.52 0-1.04.2-1.43.59L10.3 9.45l-7.72 7.72c-.78.78-.78 2.05 0 2.83L4 21.41c.39.39.9.59 1.41.59.51 0 1.02-.2 1.41-.59l7.78-7.78 2.81-2.81c.8-.78.8-2.07 0-2.86zM5.41 20L4 18.59l7.72-7.72 1.47 1.35L5.41 20z\"/>\n",
              "  </svg>\n",
              "      </button>\n",
              "      \n",
              "  <style>\n",
              "    .colab-df-container {\n",
              "      display:flex;\n",
              "      flex-wrap:wrap;\n",
              "      gap: 12px;\n",
              "    }\n",
              "\n",
              "    .colab-df-convert {\n",
              "      background-color: #E8F0FE;\n",
              "      border: none;\n",
              "      border-radius: 50%;\n",
              "      cursor: pointer;\n",
              "      display: none;\n",
              "      fill: #1967D2;\n",
              "      height: 32px;\n",
              "      padding: 0 0 0 0;\n",
              "      width: 32px;\n",
              "    }\n",
              "\n",
              "    .colab-df-convert:hover {\n",
              "      background-color: #E2EBFA;\n",
              "      box-shadow: 0px 1px 2px rgba(60, 64, 67, 0.3), 0px 1px 3px 1px rgba(60, 64, 67, 0.15);\n",
              "      fill: #174EA6;\n",
              "    }\n",
              "\n",
              "    [theme=dark] .colab-df-convert {\n",
              "      background-color: #3B4455;\n",
              "      fill: #D2E3FC;\n",
              "    }\n",
              "\n",
              "    [theme=dark] .colab-df-convert:hover {\n",
              "      background-color: #434B5C;\n",
              "      box-shadow: 0px 1px 3px 1px rgba(0, 0, 0, 0.15);\n",
              "      filter: drop-shadow(0px 1px 2px rgba(0, 0, 0, 0.3));\n",
              "      fill: #FFFFFF;\n",
              "    }\n",
              "  </style>\n",
              "\n",
              "      <script>\n",
              "        const buttonEl =\n",
              "          document.querySelector('#df-233a8119-f598-4542-af0d-6dd8fa78793a button.colab-df-convert');\n",
              "        buttonEl.style.display =\n",
              "          google.colab.kernel.accessAllowed ? 'block' : 'none';\n",
              "\n",
              "        async function convertToInteractive(key) {\n",
              "          const element = document.querySelector('#df-233a8119-f598-4542-af0d-6dd8fa78793a');\n",
              "          const dataTable =\n",
              "            await google.colab.kernel.invokeFunction('convertToInteractive',\n",
              "                                                     [key], {});\n",
              "          if (!dataTable) return;\n",
              "\n",
              "          const docLinkHtml = 'Like what you see? Visit the ' +\n",
              "            '<a target=\"_blank\" href=https://colab.research.google.com/notebooks/data_table.ipynb>data table notebook</a>'\n",
              "            + ' to learn more about interactive tables.';\n",
              "          element.innerHTML = '';\n",
              "          dataTable['output_type'] = 'display_data';\n",
              "          await google.colab.output.renderOutput(dataTable, element);\n",
              "          const docLink = document.createElement('div');\n",
              "          docLink.innerHTML = docLinkHtml;\n",
              "          element.appendChild(docLink);\n",
              "        }\n",
              "      </script>\n",
              "    </div>\n",
              "  </div>\n",
              "  "
            ],
            "text/plain": [
              "                            content  Word_Count  \\\n",
              "1740  Therefore, we reverse and ...          40   \n",
              "886   We uphold the district cou...          43   \n",
              "737   Concluding that Defendant ...          61   \n",
              "1236  We affirm the trial court'...          76   \n",
              "1456  We note jurisdiction under...          27   \n",
              "...                             ...         ...   \n",
              "1307  We affirm the decision of ...           8   \n",
              "1305                     We affirm.           2   \n",
              "1303   We affirm the Court of Ap...          22   \n",
              "1302  We now affirm the Court of...          11   \n",
              "901                      We affirm.           2   \n",
              "\n",
              "                             tokens  Token_Count  Diff  \n",
              "1740  [Therefore, ,, we, reverse...           61    21  \n",
              "886   [We, uphold, the, district...           61    18  \n",
              "737   [Concluding, that, Defenda...           76    15  \n",
              "1236  [We, affirm, the, trial, c...           90    14  \n",
              "1456  [We, note, jurisdiction, u...           40    13  \n",
              "...                             ...          ...   ...  \n",
              "1307  [We, affirm, the, decision...            9     1  \n",
              "1305                [We, affirm, .]            3     1  \n",
              "1303  [We, affirm, the, Court, o...           23     1  \n",
              "1302  [We, now, affirm, the, Cou...           12     1  \n",
              "901                 [We, affirm, .]            3     1  \n",
              "\n",
              "[1304 rows x 5 columns]"
            ]
          },
          "execution_count": 72,
          "metadata": {},
          "output_type": "execute_result"
        }
      ],
      "source": [
        "df_subset = df[['content', 'Word_Count', 'tokens', 'Token_Count']]\n",
        "df_subset['Diff'] = df_subset['Token_Count'] - df_subset['Word_Count']\n",
        "\n",
        "\n",
        "df_subset = df_subset[(df_subset[\"Diff\"] != 0)]\n",
        "df_subset.sort_values(by='Diff', ascending=False)\n"
      ]
    },
    {
      "cell_type": "markdown",
      "metadata": {
        "id": "78RA05J_kqSU"
      },
      "source": [
        "Note: In the following I do not take the first row from the sorted dataset, but from the created dataset df_subset.\n",
        "\n"
      ]
    },
    {
      "cell_type": "code",
      "execution_count": 78,
      "metadata": {
        "colab": {
          "base_uri": "https://localhost:8080/"
        },
        "id": "HDyEi6gHkqSU",
        "outputId": "e198cfbc-546a-4822-a158-51e9ba41f2ce"
      },
      "outputs": [
        {
          "data": {
            "text/plain": [
              "['We',\n",
              " 'reverse',\n",
              " 'the',\n",
              " 'orders',\n",
              " 'of',\n",
              " 'the',\n",
              " 'trial',\n",
              " 'court',\n",
              " 'denying',\n",
              " \"Defendant's\",\n",
              " 'motion',\n",
              " 'to',\n",
              " 'dismiss',\n",
              " 'the',\n",
              " 'indictment.']"
            ]
          },
          "execution_count": 78,
          "metadata": {},
          "output_type": "execute_result"
        }
      ],
      "source": [
        "df_subset['content'].str.split().iloc[0]\n"
      ]
    },
    {
      "cell_type": "code",
      "execution_count": 75,
      "metadata": {
        "colab": {
          "base_uri": "https://localhost:8080/"
        },
        "id": "Nq4W5T-OkqSU",
        "outputId": "2a360d8e-ccb1-436a-d1b4-492177706dd3"
      },
      "outputs": [
        {
          "data": {
            "text/plain": [
              "['We',\n",
              " 'reverse',\n",
              " 'the',\n",
              " 'orders',\n",
              " 'of',\n",
              " 'the',\n",
              " 'trial',\n",
              " 'court',\n",
              " 'denying',\n",
              " 'Defendant',\n",
              " \"'s\",\n",
              " 'motion',\n",
              " 'to',\n",
              " 'dismiss',\n",
              " 'the',\n",
              " 'indictment',\n",
              " '.']"
            ]
          },
          "execution_count": 75,
          "metadata": {},
          "output_type": "execute_result"
        }
      ],
      "source": [
        "df_subset['tokens'].iloc[0]\n"
      ]
    },
    {
      "cell_type": "markdown",
      "metadata": {
        "id": "Zze2n4J5kqSU"
      },
      "source": [
        "Here we see the reason: The tokenizer has turned ‘cannot’ into ‘can not’."
      ]
    }
  ],
  "metadata": {
    "colab": {
      "provenance": []
    },
    "kernelspec": {
      "display_name": "Python 3.10.7 64-bit (microsoft store)",
      "language": "python",
      "name": "python3"
    },
    "language_info": {
      "name": "python",
      "version": "3.10.8"
    },
    "orig_nbformat": 4,
    "vscode": {
      "interpreter": {
        "hash": "ab330c63be1774c7d4efd28485dada9f7c6eb3392ec4de9472ccb4da1daed7d7"
      }
    }
  },
  "nbformat": 4,
  "nbformat_minor": 0
}
