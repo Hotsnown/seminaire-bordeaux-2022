{
  "cells": [
    {
      "cell_type": "code",
      "execution_count": 8,
      "metadata": {
        "colab": {
          "base_uri": "https://localhost:8080/",
          "height": 339
        },
        "id": "eiDSJ-qukqSL",
        "outputId": "c762f6e0-b18b-4df8-852d-c26ef17d76ce"
      },
      "outputs": [
        {
          "ename": "ImportError",
          "evalue": "ignored",
          "output_type": "error",
          "traceback": [
            "\u001b[0;31m---------------------------------------------------------------------------\u001b[0m",
            "\u001b[0;31mImportError\u001b[0m                               Traceback (most recent call last)",
            "\u001b[0;32m<ipython-input-8-a232e023ee3f>\u001b[0m in \u001b[0;36m<module>\u001b[0;34m\u001b[0m\n\u001b[1;32m      2\u001b[0m \u001b[0mget_ipython\u001b[0m\u001b[0;34m(\u001b[0m\u001b[0;34m)\u001b[0m\u001b[0;34m.\u001b[0m\u001b[0mrun_line_magic\u001b[0m\u001b[0;34m(\u001b[0m\u001b[0;34m'pip'\u001b[0m\u001b[0;34m,\u001b[0m \u001b[0;34m'install nbautoeval &> /dev/null'\u001b[0m\u001b[0;34m)\u001b[0m\u001b[0;34m\u001b[0m\u001b[0;34m\u001b[0m\u001b[0m\n\u001b[1;32m      3\u001b[0m \u001b[0mget_ipython\u001b[0m\u001b[0;34m(\u001b[0m\u001b[0;34m)\u001b[0m\u001b[0;34m.\u001b[0m\u001b[0msystem\u001b[0m\u001b[0;34m(\u001b[0m\u001b[0;34m'git clone https://github.com/chinmusique/outcome-prediction.git &> /dev/null'\u001b[0m\u001b[0;34m)\u001b[0m\u001b[0;34m\u001b[0m\u001b[0;34m\u001b[0m\u001b[0m\n\u001b[0;32m----> 4\u001b[0;31m \u001b[0;32mfrom\u001b[0m \u001b[0mseminaire\u001b[0m\u001b[0;34m.\u001b[0m\u001b[0mevaluation\u001b[0m\u001b[0;34m.\u001b[0m\u001b[0mjour2\u001b[0m\u001b[0;34m.\u001b[0m\u001b[0mlistes\u001b[0m\u001b[0;34m.\u001b[0m\u001b[0mlistes\u001b[0m \u001b[0;32mimport\u001b[0m \u001b[0mexo_create_list\u001b[0m\u001b[0;34m,\u001b[0m \u001b[0mexo_add_list\u001b[0m\u001b[0;34m,\u001b[0m \u001b[0mexo_lenght\u001b[0m\u001b[0;34m,\u001b[0m \u001b[0mexo_get_item\u001b[0m\u001b[0;34m,\u001b[0m \u001b[0mexo_is_empty\u001b[0m\u001b[0;34m,\u001b[0m \u001b[0mexo_less_than_5\u001b[0m\u001b[0;34m,\u001b[0m \u001b[0mexo_first_last\u001b[0m\u001b[0;34m\u001b[0m\u001b[0;34m\u001b[0m\u001b[0m\n\u001b[0m",
            "\u001b[0;31mImportError\u001b[0m: cannot import name 'exo_get_item' from 'seminaire.evaluation.jour2.listes.listes' (/content/seminaire/evaluation/jour2/listes/listes.py)",
            "",
            "\u001b[0;31m---------------------------------------------------------------------------\u001b[0;32m\nNOTE: If your import is failing due to a missing package, you can\nmanually install dependencies using either !pip or !apt.\n\nTo view examples of installing some common dependencies, click the\n\"Open Examples\" button below.\n\u001b[0;31m---------------------------------------------------------------------------\u001b[0m\n"
          ]
        }
      ],
      "source": [
        "!git clone https://github.com/Hotsnown/seminaire-bordeaux-2022.git seminaire &> /dev/null\n",
        "%pip install nbautoeval &> /dev/null\n",
        "!git clone https://github.com/chinmusique/outcome-prediction.git &> /dev/null\n",
        "from seminaire.evaluation.jour2.listes.listes import "
      ]
    },
    {
      "cell_type": "markdown",
      "metadata": {
        "id": "ydj2NdK6kqSM"
      },
      "source": [
        "# 1 Introduction"
      ]
    },
    {
      "cell_type": "markdown",
      "metadata": {
        "id": "Tx_sC5mtkqSM"
      },
      "source": [
        "In my last publication, I started the post series on the topic of text pre-processing. In it, I first covered all the possible applications of Text Cleaning.\n",
        "\n",
        "Now I will continue with the topics Tokenization and Stop Words.\n",
        "\n",
        "For this publication the processed dataset Amazon Unlocked Mobile from the statistic platform “Kaggle” was used as well as the created Example String. You can download both files from my “GitHub Repository”."
      ]
    },
    {
      "cell_type": "markdown",
      "metadata": {
        "id": "BMA3U8HtkqSN"
      },
      "source": [
        "# Import the Libraries and the Data\n"
      ]
    },
    {
      "cell_type": "code",
      "execution_count": 42,
      "metadata": {
        "colab": {
          "base_uri": "https://localhost:8080/"
        },
        "id": "tGW73v8TkqSN",
        "outputId": "9bc407c7-e42e-49d2-fe5d-161649dfcf9b"
      },
      "outputs": [
        {
          "name": "stderr",
          "output_type": "stream",
          "text": [
            "[nltk_data] Downloading package punkt to /root/nltk_data...\n",
            "[nltk_data]   Unzipping tokenizers/punkt.zip.\n"
          ]
        }
      ],
      "source": [
        "import pandas as pd\n",
        "import numpy as np\n",
        "\n",
        "import pickle as pk\n",
        "\n",
        "import warnings\n",
        "warnings.filterwarnings(\"ignore\")\n",
        "\n",
        "\n",
        "from bs4 import BeautifulSoup\n",
        "import unicodedata\n",
        "import re\n",
        "\n",
        "import nltk\n",
        "\n",
        "nltk.download('punkt')\n",
        "\n",
        "from nltk.tokenize import word_tokenize\n",
        "from nltk.tokenize import sent_tokenize\n",
        "\n",
        "from nltk.corpus import stopwords\n",
        "\n",
        "\n",
        "from nltk.corpus import wordnet\n",
        "from nltk import pos_tag\n",
        "from nltk import ne_chunk\n",
        "\n",
        "from nltk.stem.porter import PorterStemmer\n",
        "from nltk.stem.wordnet import WordNetLemmatizer\n",
        "\n",
        "from nltk.probability import FreqDist\n",
        "import matplotlib.pyplot as plt\n",
        "from wordcloud import WordCloud"
      ]
    },
    {
      "cell_type": "code",
      "execution_count": 31,
      "metadata": {
        "colab": {
          "base_uri": "https://localhost:8080/"
        },
        "id": "l6E20F-8kqSO",
        "outputId": "8c9c2c60-c722-4b42-9338-dc0b183e1465"
      },
      "outputs": [
        {
          "name": "stdout",
          "output_type": "stream",
          "text": [
            "fatal: destination path 'outcome-prediction' already exists and is not an empty directory.\n",
            "Index(['_id', 'role', 'content', 'class', 'index', 'contentIdx.start',\n",
            "       'contentIdx.end', 'file_name'],\n",
            "      dtype='object')\n",
            "Index(['content', 'file_name'], dtype='object')\n"
          ]
        }
      ],
      "source": [
        "import json\n",
        "import pandas as pd\n",
        "from pathlib import Path\n",
        "\n",
        "!git clone https://github.com/chinmusique/outcome-prediction.git\n",
        "\n",
        "# creating list of json files with full paths\n",
        "paths = Path(r'/content/outcome-prediction/data/manual_annotation').glob(\"*.json\")\n",
        "\n",
        "df_list = [] # empty list to store dataframes during the loop\n",
        "for p in paths:\n",
        "    data = json.load(open(p))\n",
        "    data = data[\"annotations\"]\n",
        "    df_nested_list = pd.json_normalize(\n",
        "        data,\n",
        "        meta=['name','description','custom_fields'],)\n",
        "    df_nested_list['file_name'] = p.name  # creating column to store file name: p.name\n",
        "    df_list.append(df_nested_list) # dataframe to the list\n",
        "\n",
        "df_raw = pd.concat(df_list, axis=0, ignore_index=True) # creating One Large Dataframe from all stored in the list\n",
        "print(df_raw.columns)\n",
        "\n",
        "df = df_raw.drop(columns=[\"role\",\t\"class\",\t\"index\",\t\"contentIdx.start\",\t\"contentIdx.end\", \"_id\", \"index\"])\n",
        "print(df.columns)"
      ]
    },
    {
      "cell_type": "code",
      "execution_count": 32,
      "metadata": {
        "colab": {
          "base_uri": "https://localhost:8080/",
          "height": 206
        },
        "id": "k8YIXo6VkqSO",
        "outputId": "f7f3f6a3-580f-4ace-f77e-0b045beddcce"
      },
      "outputs": [
        {
          "data": {
            "text/html": [
              "\n",
              "  <div id=\"df-7265bf40-f7d8-4bdb-a15d-11202ba00b5d\">\n",
              "    <div class=\"colab-df-container\">\n",
              "      <div>\n",
              "<style scoped>\n",
              "    .dataframe tbody tr th:only-of-type {\n",
              "        vertical-align: middle;\n",
              "    }\n",
              "\n",
              "    .dataframe tbody tr th {\n",
              "        vertical-align: top;\n",
              "    }\n",
              "\n",
              "    .dataframe thead th {\n",
              "        text-align: right;\n",
              "    }\n",
              "</style>\n",
              "<table border=\"1\" class=\"dataframe\">\n",
              "  <thead>\n",
              "    <tr style=\"text-align: right;\">\n",
              "      <th></th>\n",
              "      <th>content</th>\n",
              "      <th>file_name</th>\n",
              "    </tr>\n",
              "  </thead>\n",
              "  <tbody>\n",
              "    <tr>\n",
              "      <th>0</th>\n",
              "      <td>We reverse the orders of the trial court denyi...</td>\n",
              "      <td>77129.json</td>\n",
              "    </tr>\n",
              "    <tr>\n",
              "      <th>1</th>\n",
              "      <td>We therefore reverse Defendant's conviction an...</td>\n",
              "      <td>77129.json</td>\n",
              "    </tr>\n",
              "    <tr>\n",
              "      <th>2</th>\n",
              "      <td>NaN</td>\n",
              "      <td>77129.json</td>\n",
              "    </tr>\n",
              "    <tr>\n",
              "      <th>3</th>\n",
              "      <td>For the reasons discussed herein, we reverse ...</td>\n",
              "      <td>18357.json</td>\n",
              "    </tr>\n",
              "    <tr>\n",
              "      <th>4</th>\n",
              "      <td>Accordingly, the cause is reversed and remande...</td>\n",
              "      <td>18357.json</td>\n",
              "    </tr>\n",
              "  </tbody>\n",
              "</table>\n",
              "</div>\n",
              "      <button class=\"colab-df-convert\" onclick=\"convertToInteractive('df-7265bf40-f7d8-4bdb-a15d-11202ba00b5d')\"\n",
              "              title=\"Convert this dataframe to an interactive table.\"\n",
              "              style=\"display:none;\">\n",
              "        \n",
              "  <svg xmlns=\"http://www.w3.org/2000/svg\" height=\"24px\"viewBox=\"0 0 24 24\"\n",
              "       width=\"24px\">\n",
              "    <path d=\"M0 0h24v24H0V0z\" fill=\"none\"/>\n",
              "    <path d=\"M18.56 5.44l.94 2.06.94-2.06 2.06-.94-2.06-.94-.94-2.06-.94 2.06-2.06.94zm-11 1L8.5 8.5l.94-2.06 2.06-.94-2.06-.94L8.5 2.5l-.94 2.06-2.06.94zm10 10l.94 2.06.94-2.06 2.06-.94-2.06-.94-.94-2.06-.94 2.06-2.06.94z\"/><path d=\"M17.41 7.96l-1.37-1.37c-.4-.4-.92-.59-1.43-.59-.52 0-1.04.2-1.43.59L10.3 9.45l-7.72 7.72c-.78.78-.78 2.05 0 2.83L4 21.41c.39.39.9.59 1.41.59.51 0 1.02-.2 1.41-.59l7.78-7.78 2.81-2.81c.8-.78.8-2.07 0-2.86zM5.41 20L4 18.59l7.72-7.72 1.47 1.35L5.41 20z\"/>\n",
              "  </svg>\n",
              "      </button>\n",
              "      \n",
              "  <style>\n",
              "    .colab-df-container {\n",
              "      display:flex;\n",
              "      flex-wrap:wrap;\n",
              "      gap: 12px;\n",
              "    }\n",
              "\n",
              "    .colab-df-convert {\n",
              "      background-color: #E8F0FE;\n",
              "      border: none;\n",
              "      border-radius: 50%;\n",
              "      cursor: pointer;\n",
              "      display: none;\n",
              "      fill: #1967D2;\n",
              "      height: 32px;\n",
              "      padding: 0 0 0 0;\n",
              "      width: 32px;\n",
              "    }\n",
              "\n",
              "    .colab-df-convert:hover {\n",
              "      background-color: #E2EBFA;\n",
              "      box-shadow: 0px 1px 2px rgba(60, 64, 67, 0.3), 0px 1px 3px 1px rgba(60, 64, 67, 0.15);\n",
              "      fill: #174EA6;\n",
              "    }\n",
              "\n",
              "    [theme=dark] .colab-df-convert {\n",
              "      background-color: #3B4455;\n",
              "      fill: #D2E3FC;\n",
              "    }\n",
              "\n",
              "    [theme=dark] .colab-df-convert:hover {\n",
              "      background-color: #434B5C;\n",
              "      box-shadow: 0px 1px 3px 1px rgba(0, 0, 0, 0.15);\n",
              "      filter: drop-shadow(0px 1px 2px rgba(0, 0, 0, 0.3));\n",
              "      fill: #FFFFFF;\n",
              "    }\n",
              "  </style>\n",
              "\n",
              "      <script>\n",
              "        const buttonEl =\n",
              "          document.querySelector('#df-7265bf40-f7d8-4bdb-a15d-11202ba00b5d button.colab-df-convert');\n",
              "        buttonEl.style.display =\n",
              "          google.colab.kernel.accessAllowed ? 'block' : 'none';\n",
              "\n",
              "        async function convertToInteractive(key) {\n",
              "          const element = document.querySelector('#df-7265bf40-f7d8-4bdb-a15d-11202ba00b5d');\n",
              "          const dataTable =\n",
              "            await google.colab.kernel.invokeFunction('convertToInteractive',\n",
              "                                                     [key], {});\n",
              "          if (!dataTable) return;\n",
              "\n",
              "          const docLinkHtml = 'Like what you see? Visit the ' +\n",
              "            '<a target=\"_blank\" href=https://colab.research.google.com/notebooks/data_table.ipynb>data table notebook</a>'\n",
              "            + ' to learn more about interactive tables.';\n",
              "          element.innerHTML = '';\n",
              "          dataTable['output_type'] = 'display_data';\n",
              "          await google.colab.output.renderOutput(dataTable, element);\n",
              "          const docLink = document.createElement('div');\n",
              "          docLink.innerHTML = docLinkHtml;\n",
              "          element.appendChild(docLink);\n",
              "        }\n",
              "      </script>\n",
              "    </div>\n",
              "  </div>\n",
              "  "
            ],
            "text/plain": [
              "                                             content   file_name\n",
              "0  We reverse the orders of the trial court denyi...  77129.json\n",
              "1  We therefore reverse Defendant's conviction an...  77129.json\n",
              "2                                                NaN  77129.json\n",
              "3   For the reasons discussed herein, we reverse ...  18357.json\n",
              "4  Accordingly, the cause is reversed and remande...  18357.json"
            ]
          },
          "execution_count": 32,
          "metadata": {},
          "output_type": "execute_result"
        }
      ],
      "source": [
        "df.head()\n"
      ]
    },
    {
      "cell_type": "markdown",
      "metadata": {
        "id": "xWF9qesokqSP"
      },
      "source": [
        "3 Definition of required Functions\n"
      ]
    },
    {
      "cell_type": "markdown",
      "metadata": {
        "id": "z8fESb0OkqSP"
      },
      "source": [
        "All functions are summarized here. I will show them again where they are used during this post if they are new and have not been explained yet.\n",
        "\n"
      ]
    },
    {
      "cell_type": "code",
      "execution_count": 36,
      "metadata": {
        "id": "rp6m0meRkqSQ"
      },
      "outputs": [],
      "source": [
        "def word_count_func(text):\n",
        "    '''\n",
        "    Counts words within a string\n",
        "    \n",
        "    Args:\n",
        "        text (str): String to which the function is to be applied, string\n",
        "    \n",
        "    Returns:\n",
        "        Number of words within a string, integer\n",
        "    ''' \n",
        "    return len(text.split())"
      ]
    },
    {
      "cell_type": "code",
      "execution_count": 37,
      "metadata": {
        "id": "eYPMiK4RkqSQ"
      },
      "outputs": [],
      "source": [
        "def remove_english_stopwords_func(text):\n",
        "    '''\n",
        "    Removes Stop Words (also capitalized) from a string, if present\n",
        "    \n",
        "    Args:\n",
        "        text (str): String to which the function is to be applied, string\n",
        "    \n",
        "    Returns:\n",
        "        Clean string without Stop Words\n",
        "    ''' \n",
        "    # check in lowercase \n",
        "    t = [token for token in text if token.lower() not in stopwords.words(\"english\")]\n",
        "    text = ' '.join(t)    \n",
        "    return text"
      ]
    },
    {
      "cell_type": "markdown",
      "metadata": {
        "id": "2EaH0a9ekqSQ"
      },
      "source": [
        "## 4 Text Pre-Processing\n"
      ]
    },
    {
      "cell_type": "markdown",
      "metadata": {
        "id": "ajuUegUUkqSQ"
      },
      "source": [
        "### 4.1 (Text Cleaning)\n"
      ]
    },
    {
      "cell_type": "markdown",
      "metadata": {
        "id": "zrUsT4NWkqSQ"
      },
      "source": [
        "I have already described this part in the previous post. See here: Text Cleaning"
      ]
    },
    {
      "cell_type": "markdown",
      "metadata": {
        "id": "wJ6ogQ6XkqSR"
      },
      "source": [
        "### 4.2 Tokenization\n"
      ]
    },
    {
      "cell_type": "markdown",
      "metadata": {
        "id": "p7zbSkogkqSR"
      },
      "source": [
        "Tokenisation is a technique for breaking down a piece of text into small units, called tokens. A token may be a word, part of a word or just characters like punctuation.\n",
        "\n",
        "Tokenisation can therefore be roughly divided into three groups:\n",
        "\n",
        "Word Tokenization\n",
        "Character Tokenization and\n",
        "Partial Word Tokenization (n-gram characters)\n",
        "In the following I will present two tokenizers:\n",
        "\n",
        "Word Tokenizer\n",
        "Sentence Tokenizer\n",
        "Of course there are some more. Find the one on the NLTK Homepage which fits best to your data or to your problem solution.\n",
        "\n"
      ]
    },
    {
      "cell_type": "code",
      "execution_count": 38,
      "metadata": {
        "colab": {
          "base_uri": "https://localhost:8080/",
          "height": 35
        },
        "id": "PJn8-_1IkqSR",
        "outputId": "9ce8b157-ea91-4033-f3fa-c7afd557415f"
      },
      "outputs": [
        {
          "data": {
            "application/vnd.google.colaboratory.intrinsic+json": {
              "type": "string"
            },
            "text/plain": [
              "'Hi my name is Michael. I am an enthusiastic Data Scientist. Currently I am working on a post about NLP, more specifically about the Pre-Processing Steps.'"
            ]
          },
          "execution_count": 38,
          "metadata": {},
          "output_type": "execute_result"
        }
      ],
      "source": [
        "text_for_tokenization = \\\n",
        "\"Hi my name is Michael. \\\n",
        "I am an enthusiastic Data Scientist. \\\n",
        "Currently I am working on a post about NLP, more specifically about the Pre-Processing Steps.\"\n",
        "\n",
        "text_for_tokenization"
      ]
    },
    {
      "cell_type": "markdown",
      "metadata": {
        "id": "ietjPyMukqSR"
      },
      "source": [
        "### 4.2.1 Word Tokenizer\n"
      ]
    },
    {
      "cell_type": "markdown",
      "metadata": {
        "id": "160I8Jw-kqSR"
      },
      "source": [
        "To break a sentence into words, the word_tokenize() function can be used. Based on this, further text cleaning steps can be taken such as removing stop words or normalising text blocks. In addition, machine learning models need numerical data to be trained and make predictions. Again, tokenisation of words is a crucial part of converting text into numerical data.\n",
        "\n"
      ]
    },
    {
      "cell_type": "code",
      "execution_count": 43,
      "metadata": {
        "colab": {
          "base_uri": "https://localhost:8080/"
        },
        "id": "iDe0dPJikqSR",
        "outputId": "c1b3a954-fcd5-4ebc-c980-689fab1bcd9b"
      },
      "outputs": [
        {
          "name": "stdout",
          "output_type": "stream",
          "text": [
            "['Hi', 'my', 'name', 'is', 'Michael', '.', 'I', 'am', 'an', 'enthusiastic', 'Data', 'Scientist', '.', 'Currently', 'I', 'am', 'working', 'on', 'a', 'post', 'about', 'NLP', ',', 'more', 'specifically', 'about', 'the', 'Pre-Processing', 'Steps', '.']\n"
          ]
        }
      ],
      "source": [
        "words = word_tokenize(text_for_tokenization)\n",
        "print(words)"
      ]
    },
    {
      "cell_type": "code",
      "execution_count": 44,
      "metadata": {
        "colab": {
          "base_uri": "https://localhost:8080/"
        },
        "id": "hnvdf5mgkqSS",
        "outputId": "589e652b-d03c-498f-8888-2425870a0352"
      },
      "outputs": [
        {
          "name": "stdout",
          "output_type": "stream",
          "text": [
            "Number of tokens found: 30\n"
          ]
        }
      ],
      "source": [
        "print('Number of tokens found: ' + str(len(words)))\n"
      ]
    },
    {
      "cell_type": "markdown",
      "metadata": {
        "id": "N-WZCMtvkqSS"
      },
      "source": [
        "### 4.2.2 Sentence Tokenizer\n"
      ]
    },
    {
      "cell_type": "markdown",
      "metadata": {
        "id": "KBBC56qqkqSS"
      },
      "source": [
        "Now the question arises, why do I actually need to tokenise sentences when I can tokenise individual words?\n",
        "\n",
        "An example of use would be if you want to count the average number of words per sentence. How can I do that with the Word Tokenizer alone? I can’t, I need both the sent_tokenize() function and the word_tokenize() function to calculate the ratio."
      ]
    },
    {
      "cell_type": "code",
      "execution_count": 45,
      "metadata": {
        "colab": {
          "base_uri": "https://localhost:8080/"
        },
        "id": "tn8pEGJ5kqSS",
        "outputId": "d23041a3-3605-4b3d-f89c-f5d4abc07327"
      },
      "outputs": [
        {
          "name": "stdout",
          "output_type": "stream",
          "text": [
            "['Hi my name is Michael.', 'I am an enthusiastic Data Scientist.', 'Currently I am working on a post about NLP, more specifically about the Pre-Processing Steps.']\n"
          ]
        }
      ],
      "source": [
        "sentences = sent_tokenize(text_for_tokenization)\n",
        "print(sentences)"
      ]
    },
    {
      "cell_type": "code",
      "execution_count": 46,
      "metadata": {
        "colab": {
          "base_uri": "https://localhost:8080/"
        },
        "id": "NssGloR8kqSS",
        "outputId": "8e628024-7d98-42ca-f225-db927f631e08"
      },
      "outputs": [
        {
          "name": "stdout",
          "output_type": "stream",
          "text": [
            "Number of sentences found: 3\n"
          ]
        }
      ],
      "source": [
        "print('Number of sentences found: ' + str(len(sentences)))\n"
      ]
    },
    {
      "cell_type": "code",
      "execution_count": 47,
      "metadata": {
        "colab": {
          "base_uri": "https://localhost:8080/"
        },
        "id": "kbZKzoP_kqSS",
        "outputId": "3c01e6f6-4c46-474a-bd00-1a837ac155e9"
      },
      "outputs": [
        {
          "name": "stdout",
          "output_type": "stream",
          "text": [
            "Hi my name is Michael.\n",
            "I am an enthusiastic Data Scientist.\n",
            "Currently I am working on a post about NLP, more specifically about the Pre-Processing Steps.\n"
          ]
        }
      ],
      "source": [
        "for each_sentence in sentences:\n",
        "    n_words=word_tokenize(each_sentence)\n",
        "    print(each_sentence)   "
      ]
    },
    {
      "cell_type": "code",
      "execution_count": 48,
      "metadata": {
        "colab": {
          "base_uri": "https://localhost:8080/"
        },
        "id": "Xi9EwnyjkqSS",
        "outputId": "383ac838-c7a7-4658-98cc-811629d75deb"
      },
      "outputs": [
        {
          "name": "stdout",
          "output_type": "stream",
          "text": [
            "6\n",
            "7\n",
            "17\n"
          ]
        }
      ],
      "source": [
        "for each_sentence in sentences:\n",
        "    n_words=word_tokenize(each_sentence)\n",
        "    print(len(n_words))"
      ]
    },
    {
      "cell_type": "markdown",
      "metadata": {
        "id": "dohVnM2zkqSS"
      },
      "source": [
        "### 4.2.3 Application to the Example String\n"
      ]
    },
    {
      "cell_type": "code",
      "execution_count": 53,
      "metadata": {
        "colab": {
          "base_uri": "https://localhost:8080/"
        },
        "id": "4Rv9zXd9kqSS",
        "outputId": "efaf1d85-99ed-44f4-a8fe-5160f567d7e4"
      },
      "outputs": [
        {
          "name": "stdout",
          "output_type": "stream",
          "text": [
            "['We', 'reverse', 'the', 'orders', 'of', 'the', 'trial', 'court', 'denying', 'Defendant', \"'s\", 'motion', 'to', 'dismiss', 'the', 'indictment', '..', 'We', 'therefore', 'reverse', 'Defendant', \"'s\", 'conviction', 'and', 'remand', 'the', 'case', 'with', 'instructions', 'to', 'discharge', 'Defendant', '..', 'nan', '.', 'For', 'the', 'reasons', 'discussed', 'herein', ',', 'we', 'reverse', 'and', 'remand', 'for', 'further', 'proceedings', '..', 'Accordingly', ',', 'the', 'cause', 'is', 'reversed', 'and', 'remanded', 'for', 'further', 'proceedings', 'consistent', 'with', 'this', 'opinion', '..', 'nan', '.', 'For', 'the', 'reasons', 'that', 'follow', ',', 'we', 'affirm', '..', 'Based', 'on', 'the', 'foregoing', ',', 'we', 'affirm', 'the', 'district', 'court', \"'s\", 'judgment', '..', 'nan.We', 'hold', 'that', 'the', 'Department', 'properly', 'considered', 'the', 'applicable', 'regulatory', 'requirements', ',', 'reject', 'the', 'other', 'claims', ',', 'and', 'affirm', '..', 'The', 'decision', 'of', 'the', 'Secretary', 'granting', 'the', 'permit', 'to', 'Rhino', 'is', 'affirmed', '..', 'nan.A', 's', 'to', 'Defendant', \"'s\", 'first', 'three', 'arguments', ',', 'we', 'affirm', 'the', 'trial', 'court', '..', 'We', 'affirm', 'Defendant', \"'s\", 'conviction', 'for', 'DWI', '..', 'nan', '.', 'We', 'conclude', 'that', 'the', 'children', \"'s\", 'court', 'properly', 'applied', 'the', 'rebuttable', 'presumption', 'relating', 'to', 'the', 'statement', 'of', 'a', 'thirteen-', 'or', 'fourteen-year-old', 'under', 'Section', '32A-2-14', '(', 'F', ')', 'and', 'affirm', '..', 'We', 'affirm', 'the', 'order', 'of', 'the', 'children', \"'s\", 'court', 'granting', 'Child', \"'s\", 'motion', 'to', 'suppress', '..', 'nan.The', 'district', 'court', 'denied', 'Inca', 'relief', 'and', 'we', 'now', 'affirm', '..', 'We', 'affirm', 'the', 'trial', 'court', \"'s\", 'decision', 'denying', 'Inca', \"'s\", 'petition', 'for', 'a', 'writ', 'of', 'mandamus', 'and', 'injunctive', 'relief', '..', 'nan.We', 'agree', 'that', 'the', 'protest', 'was', 'not', 'timely', 'and', 'affirm', '..', 'We', 'affirm', 'the', 'district', 'court', '..', 'nan', '.', 'We', 'reverse', 'and', 'remand', 'for', 'a', 'new', 'trial', 'in', 'negligence', '..', 'Because', 'the', 'jury', 'should', 'not', 'have', 'been', 'instructed', 'o', 'n', 'Plaintiffs', 'contract', 'claim', ',', 'and', 'because', 'the', 'jury', 'could', 'have', 'awarded', 'contract', 'damages', 'in', 'this', 'ease', ',', 'we', 'also', 'reverse', 'on', 'this', 'issue', '..', 'We', 'agree', 'with', 'the', 'Village', 'that', 'the', 'mediator', \"'s\", 'fee', 'should', 'not', ',', 'in', 'this', 'case', ',', 'be', 'taxed', 'as', 'a', 'cost', ',', 'and', 'we', 'reverse', 'on', 'this', 'issue', '.', '{', '.We', 'reverse', 'and', 'remand', 'for', 'a', 'new', 'trial', 'consistent', 'with', 'our', 'opinion', '..', 'nan.We', 'reverse', 'the', 'presentenee', 'credit', 'allowed', 'by', 'the', 'trial', 'court', 'and', 'affirm', 'as', 'to', 'suspension', 'of', 'Defendant', \"'s\", 'sentence', 'conditioned', 'upon', 'attendance', 'at', 'the', 'treatment', 'facility', '..', 'The', 'grant', 'of', 'credit', 'for', 'the', 'presentence', 'alcohol', 'treatment', 'is', 'reversed', '..', 'The', 'postsentence', 'offset', ',', 'treated', 'as', 'a', 'suspension', 'with', 'conditions', ',', 'is', 'affirmed', '..', 'nan.We', 'affirm', 'the', 'convictions', '..', 'nan.We', 'affirm', '..', 'We', 'affirm', 'the', 'trial', 'court', \"'s\", 'decision', 'to', 'deny', 'an', 'instruction', 'on', 'a', 'lesser', 'included', 'offense', 'of', 'murder', '..', 'Hence', ',', 'we', 'affirm', 'the', 'conviction', 'for', 'unlawful', 'taking', 'of', 'a', 'vehicle', '..', 'We', 'therefore', 'hold', 'that', 'substantial', 'evidence', 'existed', 'to', 'support', 'McGruder', \"'s\", 'conviction', 'on', 'this', 'charge', ',', 'and', 'we', 'affirm', 'the', 'conviction', 'of', 'the', 'child', 'abuse', 'charge', '..', 'We', 'affirm', '..', 'nan.We', 'order', 'that', 'the', 'finding', 'of', 'Father', \"'s\", 'contempt', 'be', 'stricken', 'as', 'surplusage', 'and', 'reverse', 'those', 'provisions', 'of', 'the', 'district', 'court', \"'s\", 'order', 'that', 'included', 'recreational', 'expenses', 'in', 'the', 'calculation', 'of', 'child', 'support', 'and', 'that', 'directed', 'the', 'transfer', 'of', 'the', 'case', 'to', 'Tennessee', '.', 'We', 'affirm', 'on', 'all', 'other', 'grounds', '..', 'We', 'therefore', 'affirm', 'the', 'district', 'court', 'in', 'this', 'regard', '..', 'We', 'therefore', 'reverse', 'and', 'remand', 'with', 'instructions', 'to', 'delete', 'from', 'the', 'order', 'the', 'provision', 'transferring', 'this', 'case', 'to', 'Tennessee', '..', 'For', 'the', 'above', 'reasons', 'we', 'affirm', 'the', 'order', 'of', 'the', 'district', 'court', 'except', 'that', 'we', 'reverse', 'and', 'remand', 'with', 'instructions', 'to', 'the', 'district', 'court', 'to', '(', '1', ')', 'recalculate', 'child', 'support', 'without', 'consideration', 'of', 'the', 'monthly', 'expense', 'for', '``', 'sports', ',', \"''\", '(', '2', ')', 'delete', 'the', 'language', 'in', 'Paragraph', '21', 'finding', 'Father', 'in', 'contempt', ',', 'and', '(', '3', ')', 'delete', 'the', 'language', 'in', 'Paragraph', '25', 'transferring', 'jurisdiction', 'to', 'Tennessee', '..', 'nan.We', 'granted', 'certiorari', ',', 'and', 'affirm', 'the', 'Court', 'of', 'Appeals', 'decision', '..', 'We', 'also', 'affirm', 'the', 'Court', 'of', 'Appeals', 'decision', 'that', '``', '[', 't', ']', 'he', 'cause', 'of', 'action', 'for', 'loss', 'of', 'consortium', 'would', 'be', 'a', 'remedy', 'at', 'law', 'barred', 'by', 'the', 'exclusivity', 'provision', '.', \"''\", 'Singhas', ',', '120', 'N.M.', 'at', '480', ',', '902', 'P.2d', 'at', '1083', '..', 'We', 'affirm', 'the', 'Court', 'of', 'Appeals', 'holding', 'that', 'the', 'State', 'of', 'New', 'Mexico', 'was', 'the', 'employer', 'of', 'Singhas', 'and', 'Veronica', 'Soriano', 'for', 'the', 'purposes', 'of', 'the', 'exclusivity', 'provision', 'of', 'the', 'Workers', \"'\", 'Compensation', 'Act', ',', 'that', 'the', '``', 'Dual', 'Persona', \"''\", 'doctrine', 'does', 'not', 'provide', 'an', 'exception', 'to', 'the', 'exclusivity', 'provision', 'in', 'this', 'case', ',', 'and', 'that', 'Dan', 'Soriano', \"'s\", 'claim', 'for', 'loss', 'of', 'consortium', 'is', 'barred', 'by', 'the', 'exclusivity', 'provision', 'of', 'the', 'Workers', \"'\", 'Compensation', 'Act', '..', 'nan.On', 'the', 'merits', ',', 'we', 'reverse', 'the', 'trial', 'court', \"'s\", 'decision', 'because', 'its', 'failure', 'to', 'follow', 'the', 'mandatory', 'procedures', 'set', 'forth', 'in', 'the', 'Children', \"'s\", 'Code', 'raises', 'significant', 'issues', 'of', 'whether', 'Child', \"'s\", 'admission', 'was', 'supported', 'by', 'an', 'adequate', 'factual', 'basis', 'and', 'whether', 'Child', \"'s\", 'admission', 'was', 'knowing', ',', 'intelligent', ',', 'and', 'voluntary', '..', 'We', 'remand', 'Child', \"'s\", 'case', 'to', 'the', 'same', 'judge', 'for', 'further', 'proceedings', 'consistent', 'with', 'this', 'opinion', '..', 'For', 'the', 'reasons', 'stated', ',', 'we', 'reverse', 'and', 'remand', 'with', 'instruction', 'to', 'hold', 'a', 'new', 'hearing', 'on', 'the', 'petition', 'to', 'revoke', 'probation', '..', 'nan', '.', 'We', 'therefore', 'reverse', '..', 'We', 'therefore', 'reverse', 'and', 'remand', 'with', 'instruc', 'tions', 'to', 'set', 'aside', 'the', 'alternative', 'writ', 'and', 'peremptory', 'writ', 'and', 'to', 'dismiss', 'Petitioners', \"'\", 'action', 'against', 'the', 'District', '..', 'nan.We', 'therefore', 'reverse', 'the', 'judgment', 'of', 'the', 'district', 'court', 'and', 'remand', 'this', 'case', 'for', 'further', 'proceedings', 'consistent', 'with', 'this', 'opinion', '..', 'On', 'remand', ',', 'the', 'district', 'court', 'should', 'proceed', 'to', 'consider', 'Tri-State', \"'s\", 'applications', 'in', 'accordance', 'with', 'Section', '42A-1-9', '..', 'nan.We', 'affirm', 'Defendant', \"'s\", 'convictions', '..', 'We', 'therefore', 'affirm', 'Defendant', \"'s\", 'convictions', '..', 'nan.We', 'affirm', '..', 'Operator', 'now', 'appeals', ',', 'and', 'we', 'affirm', '..', 'We', 'affirm', '..', 'nan.We', 'affirm', 'the', 'conviction', 'but', 'set', 'aside', 'the', 'challenged', 'condition', 'of', 'probation', '..', 'We', 'affirm', 'Defendant', \"'s\", 'conviction', 'and', 'sentence', 'except', 'that', 'we', 'remand', 'to', 'the', 'district', 'court', 'for', 'deletion', 'of', 'the', 'banishment', 'condition', 'of', 'probation', '..', 'nan.B', 'ecause', 'we', 'reverse', 'the', 'independent', 'arbitrator', \"'s\", 'decision', 'upholding', 'the', 'local', 'school', 'board', \"'s\", 'termination', 'of', 'Kibbe', 'on', 'this', 'ground', ',', 'we', 'do', 'not', 'reach', 'Kibbe', \"'s\", 'arguments', 'concerning', 'the', 'COEA', '..', 'We', 'reverse', 'Kibbe', \"'s\", 'termination', 'on', 'the', 'basis', 'that', 'the', 'school', 'board', \"'s\", 'decision', 'is', 'not', 'supported', 'by', 'substantial', 'evidence', 'in', 'the', 'record', 'as', 'a', 'whole', 'and', 'was', 'arbitrary', 'and', 'capricious', '..', 'We', 'therefore', 'reverse', 'the', 'independent', 'arbitrator', \"'s\", 'decision', '..', 'nan.For', 'the', 'reasons', 'discussed', 'herein', ',', 'we', 'affirm', 'the', 'district', 'court', \"'s\", 'judgment', 'and', 'sentence', '..', 'The', 'judgment', 'and', 'sentence', 'are', 'affirmed', '..', 'nan.We', 'therefore', 'deny', 'EPEC', \"'s\", 'motion', 'to', 'permit', 'further', 'briefing', ',', 'quash', 'our', 'order', 'accepting', 'certification', ',', 'and', 'now', 'decline', 'to', 'accept', 'certification', '..', 'nan.We', 'therefore', 'reverse', 'the', 'trial', 'court', \"'s\", 'denial', 'of', 'Defendant', \"'s\", 'motion', 'to', 'suppress', 'under', 'the', 'first', 'and', 'second', 'issues', '..', 'Defendant', \"'s\", 'conviction', 'is', 'therefore', 'reversed', 'and', 'this', 'case', 'is', 'remanded', 'for', 'a', 'new', 'trial', 'and', 'for', 'proceedings', 'consistent', 'with', 'this', 'opinion', '..', 'nan.For', 'the', 'reasons', 'discussed', 'herein', ',', 'we', 'affirm', '..', 'We', 'affirm', ',', 'and', 'we', 'remand', 'to', 'the', 'trial', 'court', 'for', 'an', 'award', 'of', 'reasonable', 'attorney', 'fees', 'for', 'G', '&', 'amp', ';', 'G', 'incident', 'to', 'this', 'appeal', '..', 'nan', '.', 'We', 'affirm', 'the', 'trial', 'court', \"'s\", 'decree', 'of', 'foreclosure', ',', 'including', 'interest', 'accrued', ',', 'to', 'be', 'paid', 'from', 'the', 'foreclosure', 'sale', 'proceeds', '.', 'However', ',', 'we', 'reverse', ',', 'in', 'part', ',', 'because', 'of', 'restrictions', 'imposed', 'by', 'the', 'court', 'on', 'the', 'builder', \"'s\", 'ability', 'to', 'execute', 'upon', 'its', 'judgment', 'and', 'to', 'obtain', 'a', 'deficiency', 'judgment', 'for', 'its', 'damages', 'against', 'the', 'buyer', '..', 'We', 'remand', 'for', 'further', 'proceedings', 'as', 'outlined', 'herein', '..', 'We', 'reverse', 'that', 'portion', 'of', 'the', 'judgment', 'and', 'hold', 'as', 'a', 'matter', 'of', 'law', 'that', 'after', 'exhausting', 'what', 'is', 'left', 'of', 'the', 'net', 'proceeds', ',', 'the', 'Springer', 'Group', 'may', 'satisfy', 'the', 'unpaid', 'portion', 'of', 'its', 'judgment', 'against', 'personal', 'assets', 'of', 'the', 'Wittelsohns', 'as', 'otherwise', 'authorized', 'by', 'law', '..', 'Therefore', ',', 'we', 'affirm', 'the', 'court', \"'s\", 'determination', 'that', 'the', 'Wittelsohns', \"'\", 'interest', 'in', 'the', 'proceeds', 'from', 'the', 'sale', 'of', 'the', 'property', 'is', 'subject', 'to', 'the', 'Springer', 'Group', \"'s\", 'breach', 'of', 'contract', 'judgment', ',', 'including', 'interest', 'on', 'that', 'judgment', '..', 'We', 'affirm', 'the', 'court', \"'s\", 'foreclosure', 'of', 'the', 'Placitas', 'property', '.', '.We', 'reverse', 'the', 'trial', 'court', \"'s\", 'restriction', 'with', 'respect', 'to', 'a', 'deficiency', 'for', 'the', 'Springer', 'Group', ',', 'after', 'the', 'net', 'proceeds', 'from', 'the', 'sale', 'are', 'exhausted', '.', 'We', 'also', 'reverse', 'the', 'categorical', 'denial', 'of', 'attorney', 'fees', 'for', 'the', 'Springers', 'individually', 'that', 'were', 'incurred', 'in', 'the', 'foreclosure', 'proceedings', 'and', 'that', 'are', 'collectible', 'solely', 'from', 'sale', 'proceeds', '..', 'We', 'remand', 'for', 'further', 'proceedings', '..', 'nan.We', 'affirm', '..', 'We', 'affirm', 'the', 'trial', 'court', \"'s\", 'order', 'granting', 'Defendant', \"'s\", 'motion', 'to', 'suppress', 'the', 'evidence', 'seized', 'from', 'the', 'Buick.nan.Because', 'the', 'district', 'court', 'engaged', 'in', 'fact-finding', 'functions', 'and', 'otherwise', 'failed', 'to', 'follow', 'the', 'limited', 'review', 'of', 'an', 'appellate', 'court', ',', 'we', 'reverse', 'and', 'remand', 'with', 'instructions', 'to', 'affirm', 'the', 'board', \"'s\", 'decision', 'revoking', 'the', 'professional', 'license', '..', 'We', 'reverse', 'and', 'remand', 'with', 'instructions', 'that', 'the', 'Board', \"'s\", 'revocation', 'of', 'Land', \"'s\", 'professional', 'license', 'be', 'affirmed', '..', 'nan', '.', 'We', 'affirm', ',', 'holding', 'there', 'was', 'no', 'evidence', 'on', 'which', 'either', 'the', 'owner', 'or', 'operator', 'of', 'the', 'other', 'car', 'could', 'be', 'held', 'liable', 'to', 'Baldonado', ';', 'therefore', ',', 'State', 'Farm', 'was', 'not', 'liable', 'under', 'its', 'policies', '..', 'We', 'affirm', 'the', 'summary', 'judgment', 'entered', 'in', 'favor', 'of', 'State', 'Farm', 'dismissing', 'Baldonado', \"'s\", 'complaint', 'seeking', 'uninsured', 'motorist', 'and', 'medical', 'payment', 'coverages', 'under', 'his', 'aunt', \"'s\", 'State', 'Farm', 'policies', '..', 'nan', '.', 'We', 'hold', 'that', 'the', 'hearsay', 'evidence', 'upon', 'which', 'the', 'Personnel', 'Board', 'relied', 'is', 'inadmissible', 'and', 'reverse', '..', 'We', 'reverse', 'the', 'ruling', 'of', 'the', 'district', 'court', '..', 'nan.Not', 'persuaded', 'by', 'the', 'memorandum', ',', 'we', 'affirm', '..', 'We', 'reject', 'this', 'after-the-fact', 'attempt', 'to', 'impose', 'conditions', 'on', 'a', 'full', ',', 'express', ',', 'and', 'unconditional', 'waiver', 'of', 'the', 'ninety-day', 'time', 'period', ',', 'and', 'affirm', 'on', 'this', 'issue', '..', 'Suazo', 'is', 'therefore', 'inapplicable', ',', 'and', 'we', 'affirm', 'on', 'this', 'issue', 'as', 'well', '..', 'Based', 'on', 'the', 'foregoing', ',', 'we', 'hold', 'that', 'Driver', \"'s\", 'due', 'process', 'rights', 'were', 'not', 'violated', 'when', 'his', 'general', 'request', 'to', 'take', 'depositions', 'was', 'refused', ':', 'We', 'also', 'hold', 'that', 'no', 'other', 'ground', 'for', 'error', 'exists', ',', 'and', 'we', 'affirm', 'the', 'district', 'court', 'and', ',', 'in', 'turn', ',', 'MVD', \"'s\", 'revocation', 'of', 'Driver', \"'s\", 'license', '..', 'nan.We', 'affirm', 'the', 'trial', 'court', \"'s\", 'denial', 'of', 'the', 'permanent', 'injunction', '..', 'The', 'trial', 'court', \"'s\", 'judgment', 'is', 'therefore', 'affirmed', '..', 'nan.We', 'affirm', 'the', 'judgment', 'against', 'the', 'School', 'District', ',', 'except', 'that', 'we', 'remand', 'for', 'reconsideration', 'of', 'attorney', \"'s\", 'fees', '..', 'We', 'reverse', 'the', 'judgments', 'against', 'the', 'individual', 'Defendants', ',', 'but', 'we', 'permit', 'retrial', 'with', 'respect', 'to', '(', 'a', ')', 'Kennedy', \"'s\", 'claims', 'for', 'compensatory', 'damages', 'against', 'Superintendent', 'Derrick', ',', 'Principal', 'Warren', ',', 'and', 'his', 'secretary', ',', 'Rodriguez', ';', '.Therefore', ',', 'we', 'will', 'not', 'reverse', 'the', 'judgment', 'on', 'this', 'ground', '..', 'We', 'therefore', 'set', 'aside', 'the', 'verdicts', 'against', 'the', 'individual', 'Defendants', 'and', 'remand', 'for', 'a', 'new', 'trial', 'of', 'Defendants', 'Derrick', ',', 'Warren', ',', 'and', 'Rodriguez', 'with', 'respect', 'to', 'the', 'search', 'of', 'Kennedy', 'and', 'a', 'new', 'trial', 'of', 'Warren', 'with', 'respect', 'to', 'the', 'search', 'of', 'Ford', '..', 'We', 'will', 'not', 'reverse', 'on', 'this', 'ground', '..', 'We', 'affirm', 'the', 'judgment', 'against', 'Dexter', 'Consolidated', 'Schools', '.', 'We', 'reverse', 'the', 'judgment', 'against', 'Kent', 'Perry', 'for', 'compensatory', 'and', 'punitive', 'damages', ',', 'because', 'he', 'was', 'entitled', 'to', 'qualified', 'immunity', '.', 'We', 'reverse', 'the', 'judgment', 'in', 'favor', 'of', 'Randy', 'Ford', 'against', 'James', 'Derrick', 'because', 'Derrick', 'was', 'entitled', 'to', 'qualified', 'immunity', 'on', 'that', 'claim', '.', 'We', 'reverse', 'the', 'award', 'of', 'punitive', 'damages', 'to', 'Crystal', 'Kennedy', 'against', 'Sue', 'Rodriguez', 'because', 'of', 'insufficient', 'evidence', 'of', 'the', 'requisite', 'state', 'of', 'mind', '.', 'We', 'reverse', 'the', 'judgments', 'against', 'Donald', 'Warren', 'for', 'compensatory', 'and', 'punitive', 'damages', ',', 'the', 'judgment', 'against', 'Sue', 'Rodriguez', 'for', 'compensatory', 'damages', ',', 'and', 'the', 'judgment', 'in', 'favor', 'of', 'Kennedy', 'against', 'Derrick', ',', 'but', 'we', 'remand', 'for', 'retrial', 'of', 'those', 'claims', '.', 'We', 'also', 'reverse', 'the', 'award', 'of', 'attorney', \"'s\", 'fees', 'and', 'remand', 'for', 'further', 'proceedings', 'in', 'that', 'regard', '..', 'nan.We', 'hold', 'in', 'Augustin', 'M.', 'that', 'Child', 'does', 'not', 'have', 'an', 'immediate', 'right', 'to', 'appeal', 'and', 'we', 'therefore', 'dismiss', 'the', 'appeal.', '.', 'We', 'affirm', 'Flenniken', '.', 'We', 'reverse', 'Chavez', '..', 'We', 'dismiss', 'the', 'appeal', 'in', 'Augustin', 'M.', 'for', 'absence', 'of', 'a', 'right', 'to', 'an', 'immediate', 'appeal', 'from', 'the', 'denial', 'of', 'Child', \"'s\", 'motion', 'to', 'quash', 'the', 'grand', 'jury', 'indictment', '..', 'We', 'affirm', 'the', 'district', 'court', \"'s\", 'denial', 'in', 'Flenniken', 'of', 'Defendant', \"'s\", 'motion', 'to', 'dismiss', 'the', 'grand', 'jury', 'indictment', '..', 'We', 'reverse', 'the', 'district', 'court', \"'s\", 'grant', 'in', 'Chavez', 'of', 'Defendant', \"'s\", 'motion', 'to', 'dismiss', 'the', 'grand', 'jury', 'indictment', ',', 'and', 'we', 'remand', 'with', 'instructions', 'to', 'the', 'district', 'court', 'to', 'reinstate', 'the', 'indictment', '..', 'nan.We', 'conclude', 'that', 'it', 'was', 'not', ',', 'and', 'therefore', 'we', 'affirm', '..', 'Accordingly', ',', 'we', 'affirm', '..', 'nan.We', 'affirm', '..', 'We', 'affirm', 'the', 'district', 'court', \"'s\", 'summary', 'judgment', 'in', 'favor', 'of', 'Allstate', '..', 'nan.We', 'take', 'jurisdiction', 'of', 'this', 'case', 'and', 'reverse', '..', 'For', 'the', 'reasons', 'stated', 'above', ',', 'we', 'reverse', 'summary', 'judgment', 'and', 'remand', 'for', 'a', 'trial', 'on', 'the', 'merits', '..', 'nan', '.', 'We', 'granted', 'the', 'petition', ',', 'and', 'for', 'the', 'reasons', 'set', 'forth', 'below', ',', 'we', 'reverse', '..', 'We', 'reverse', 'the', 'district', 'court', 'and', 'reinstate', 'the', 'decision', 'of', 'the', 'Mining', 'Commission', 'upholding', 'the', 'notices', 'of', 'violation', '..', 'nan.Thus', ',', 'we', 'affirm', 'the', 'trial', 'court', \"'s\", 'grant', 'of', 'summary', 'judgment', 'for', 'Defendants', '..', 'We', 'reverse', 'the', 'Court', 'of', 'Appeals', '..', 'nan.We', 'hold', 'that', 'the', 'record', 'is', 'not', 'sufficient', 'to', 'support', 'the', 'trial', 'court', \"'s\", 'decision', ',', 'and', 'we', 'therefore', 'reverse', 'the', 'trial', 'court', \"'s\", 'order', 'granting', 'Halliburton', \"'s\", 'motion', 'to', 'compel', 'arbitration', '.', 'We', 'remand', 'for', 'reconsideration', 'of', 'Halliburton', \"'s\", 'motion', '..', 'Accordingly', ',', 'we', 'reverse', 'the', 'trial', 'court', \"'s\", 'grant', 'of', 'Halliburtoii', \"'s\", 'motion', 'to', 'compel', 'arbitration', ',', 'and', 'we', 'remand', 'for', 'the', 'trial', 'court', 'to', 'consider', 'the', 'matter', 'in', 'light', 'of', 'our', 'clarification', 'that', 'Halliburton', 'must', 'prove', 'DeArmond', 'had', 'actual', 'knowledge', 'of', 'the', 'offer', 'to', 'arbitrate', 'and', 'of', 'Halliburton', \"'s\", 'invitation', 'to', 'accept', 'the', 'offer', 'by', 'continued', 'employment', '..', 'Because', 'the', 'resolution', 'of', 'DeArmond', \"'s\", 'other', 'issues', 'regarding', 'lack', 'of', 'consideration', 'and', 'waiver', 'must', 'wait', 'for', 'a', 'determination', 'of', 'this', 'preliminary', 'issue', ',', 'we', 'direct', 'the', 'trial', 'court', 'to', 'address', 'these', 'remaining', 'issues', 'as', 'necessary', '..', 'nan.We', 'reverse', 'the', 'denial', 'of', 'the', 'motion', 'to', 'set', 'aside', 'the', 'decree', 'and', 'remand', 'for', 'further', 'proceedings', '..', 'Because', 'the', 'applicable', 'legal', 'test', 'for', 'setting', 'aside', 'the', 'clerk', \"'s\", 'entry', 'of', 'default', 'is', 'whether', 'there', 'is', '``', 'good', 'cause', \"''\", 'rather', 'than', 'the', 'Rule', '1-060', '(', 'B', ')', 'grounds', 'applied', 'by', 'the', 'district', 'court', 'for', 'setting', 'aside', 'the', 'default', 'decree', ',', 'we', 'reverse', 'the', 'district', 'court', 'and', 'remand', 'for', 'a', 'hearing', 'on', 'whether', 'there', 'was', '``', 'good', 'cause', \"''\", 'to', 'set', 'aside', 'the', 'district', 'court', 'clerk', \"'s\", 'entry', 'of', 'default', '..', 'We', 'reverse', 'the', 'district', 'court', \"'s\", 'order', 'denying', 'the', 'motion', 'to', 'set', 'aside', 'the', 'default', 'decree', '..', 'nan', '.', 'Finding', 'no', 'error', 'below', ',', 'we', 'affirm', 'the', 'district', 'court', \"'s\", 'order', '..', 'We', 'therefore', 'affirm', 'the', 'district', 'court', \"'s\", 'entry', 'of', 'summary', 'judgment', 'in', 'Defendants', \"'\", 'favor', '..', 'nan', '.', 'For', 'the', 'reasons', 'set', 'forth', 'below', ',', 'we', 'reject', 'Defendant', \"'s\", 'contentions', 'and', 'affirm', 'the', 'judgment', 'of', 'the', 'trial', 'court', '..', 'For', 'the', 'reasons', 'set', 'forth', 'above', ',', 'we', 'affirm', 'the', 'Judgment', 'below', '..', 'nan.Based', 'on', 'the', 'statutory', 'authority', 'for', 'inmate', 'release', 'programs', 'at', 'local', 'jails', 'and', 'our', 'holding', 'in', 'State', 'v.', 'Guillen', ',', '2001-NMCA-079', ',', '11', ',', '130', 'N.M.', '803', ',', '32', 'P.3d', '812', ',', 'we', 'affirm', '..', 'The', 'sentence', 'of', 'the', 'trial', 'court', 'is', 'affirmed', '..', 'nan.We', 'agree', 'with', 'Employer', 'that', 'there', 'is', 'no', 'compelling', 'reason', 'to', 'depart', 'from', 'the', 'plain', ',', 'unambiguous', 'language', 'of', 'the', 'statute', ',', 'and', 'reverse', '..', 'Accordingly', ',', 'we', 'reverse', '..', 'nan.Because', 'the', 'WCJ', 'found', 'the', 'amount', 'of', 'hours', 'expended', 'by', 'counsel', 'to', 'be', 'reasonable', 'and', 'necessary', 'and', 'because', 'the', 'particular', 'communication', 'here', 'did', 'not', 'appear', 'improper', ',', 'we', 'can', 'not', 'affirm', 'the', 'reduction', 'in', 'attorney', 'fees', 'in', 'this', 'case', '.', 'Therefore', ',', 'we', 'remand', 'to', 'the', 'WCJ', 'to', 'reconsider', 'the', 'award', 'of', 'attorney', 'fees', '..', 'Although', 'the', 'amount', 'of', 'fees', 'awarded', 'in', 'this', 'case', 'represented', '15.6', '%', 'of', 'Worker', \"'s\", 'recovery', 'and', 'although', 'Worker', \"'s\", 'relative', 'success', 'would', 'support', 'the', 'award', ',', 'we', 'nonetheless', 'conclude', 'that', 'remanding', 'this', 'case', 'for', 'reconsideration', 'of', 'the', 'fee', 'award', 'is', 'proper', 'in', 'light', 'of', 'the', 'inconsistent', 'findings', 'discussed', 'above', '..', 'This', 'ease', 'is', 'remanded', 'for', 'reconsideration', 'of', 'attorney', 'fees', 'awarded', 'below', 'and', 'to', 'consider', 'whether', 'attorney', 'fees', 'on', 'appeal', 'should', 'be', 'awarded', '..', 'nan.Applying', 'the', 'guidelines', 'we', 'adopt', 'herein', ',', 'we', 'deny', 'Defendant', \"'s\", 'application', 'for', 'appeal', '..', 'For', 'these', 'reasons', ',', 'Defendants', \"'\", 'application', 'for', 'review', 'of', 'the', 'district', 'court', 'order', 'granting', 'class', 'certification', 'is', 'denied', '..', 'nan.Therefore', ',', 'we', 'vacate', 'the', 'Commission', \"'s\", 'order', '..', 'We', 'conclude', 'the', 'Commission', \"'s\", 'Final', 'Order', 'on', 'Remand', 'is', 'unlawful', 'and', 'we', 'annul', 'and', 'vacate', 'the', 'Order', '..', 'nan.We', 'therefore', 'affirm', 'the', 'dismissal', 'of', 'Plaintiffs', 'complaint', '..', 'Accordingly', ',', 'we', 'affirm', 'the', 'trial', 'court', \"'s\", 'dismissal', 'of', 'this', 'claim', 'pursuant', 'to', 'Rule', '1-012', '(', 'B', ')', '(', '6', ')', 'for', 'failure', 'to', 'state', 'a', 'claim', 'upon', 'which', 'relief', 'can', 'be', 'granted', '..', 'We', 'affirm', 'the', 'trial', 'court', \"'s\", 'dismissal', 'of', 'Plaintiffs', 'claim', 'of', 'prima', 'facie', 'tort', '..', 'We', 'affirm', '..', 'nan.We', 'affirm', 'on', 'all', 'issues', 'raised', 'in', 'the', 'appeal', 'and', 'the', 'cross-appeal', '..', 'Given', 'the', 'ambiguity', 'of', 'the', '``', 'non-profit', \"''\", 'agreement', 'of', 'the', 'lease', ',', 'we', 'affirm', 'the', 'trial', 'court', \"'s\", 'determination', 'that', 'Landlord', 'could', 'only', 'transfer', 'actual', 'costs', 'of', 'the', 'maintenance.', '.', 'In', 'light', 'of', 'the', 'pending', 'litigation', 'and', 'Landlord', \"'s\", 'own', 'concession', 'that', 'a', 'major', 'impediment', 'to', 'settlement', 'still', 'existed', ',', 'we', 'affirm', 'the', 'trial', 'court', \"'s\", 'finding', 'that', 'Landlord', 'acted', 'with', 'the', 'requisite', 'culpable', 'mental', 'state', 'in', 'going', 'ahead', 'with', 'construction', '..', 'We', 'therefore', 'affirm', 'Landlord', \"'s\", 'issue', 'on', 'the', 'ground', 'that', 'it', 'may', 'not', 'complain', 'on', 'appeal', 'about', 'relief', 'that', 'was', 'requested', 'and', 'granted', 'below.We', 'affirm', 'the', 'decision', 'of', 'the', 'trial', 'court', '..', 'For', 'the', 'reasons', 'set', 'forth', 'above', ',', 'we', 'affirm', 'on', 'all', 'issues', ',', 'including', 'the', 'trial', 'court', \"'s\", 'mandatory', 'injunction', 'ordering', 'the', 'removal', 'of', 'the', 'disputed', 'building', '..', 'nan', '.', 'We', 'therefore', 'reverse', 'and', 'remand', 'this', 'case', 'to', 'the', 'district', 'court', 'with', 'instructions', 'to', 'review', 'the', 'petition', 'to', 'determine', 'if', 'Petitioner', 'was', 'wrongfully', 'deprived', 'of', 'good-time', 'credits', 'as', 'the', 'result', 'of', 'an', 'improper', 'basis', 'being', 'used', 'to', 'elevate', 'the', 'sentence', ',', 'and', 'to', 'hold', 'an', 'evidentiary', 'hearing', 'on', 'the', 'actual', 'notice', 'claim', 'to', 'determine', 'if', 'he', 'was', 'wrongfully', 'deprived', 'without', 'sufficient', 'notice', 'of', 'the', 'possible', 'elevation', '.', '.Therefore', ',', 'we', 'remand', 'this', 'case', 'to', 'the', 'district', 'court', 'to', 'review', 'the', 'claims', 'presented', 'in', 'the', 'petition', 'and', 'to', 'conduct', 'an', 'evidentiary', 'hearing', 'on', 'the', 'actual', 'notice', 'claim', '..', 'nan.We', 'reverse', 'his', 'felony', 'conviction', 'and', 'affirm', 'his', 'misdemeanor', 'conviction', '..', 'Therefore', 'we', 'affirm', 'this', 'conviction', '..', 'The', 'felony', 'conviction', 'for', 'driving', 'under', 'the', 'influence', 'of', 'intoxicating', 'liquor', 'or', 'drugs', 'is', 'reversed', 'and', 'remanded', 'for', 'a', 'new', 'trial', '.', 'Defendant', \"'s\", 'misdemeanor', 'conviction', 'for', 'failure', 'to', 'carry', 'evidence', 'of', 'financial', 'responsibility', 'is', 'affirmed', '..', 'nan.We', 'conclude', 'that', 'the', 'district', 'court', 'abused', 'its', 'discretion', 'by', 'reducing', 'Chrysler', \"'s\", 'total', 'costs', 'and', 'remand', 'for', 'a', 'new', 'evidentiary', 'hearing', 'on', 'this', 'issue', 'consistent', 'with', 'this', 'opinion', ',', 'but', 'we', 'affirm', 'the', 'district', 'court', \"'s\", 'decision', 'regarding', 'computer-assisted', 'legal', 'research', '..', 'We', 'therefore', 'remand', 'on', 'this', 'issue', 'for', 'further', 'proceedings', 'so', 'that', 'the', 'district', 'court', 'may', 'consider', 'evidence', 'and', 'argument', 'consistent', 'with', 'this', 'opinion', 'and', 'articulate', 'findings', 'and', 'conclusions', 'supporting', 'which', 'and', 'how', 'much', 'of', 'Chrysler', \"'s\", 'costs', 'are', 'allowable', '..', 'Thus', ',', 'we', 'reverse', 'the', 'district', 'court', 'on', 'this', 'issue', '.', 'However', ',', 'we', 'affirm', 'the', 'district', 'court', 'with', 'regard', 'to', 'the', 'second', 'issue', '..', 'We', 'remand', 'to', 'the', 'district', 'court', 'for', 'an', 'evidentiary', 'hearing', 'and', 'reconsideration', 'consistent', 'with', 'this', 'opinion', '..', 'nan.Accordingly', ',', 'this', 'Court', 'affirms', 'the', 'trial', 'court', \"'s\", 'ruling', 'that', 'Defendant', 'Jaequez', 'was', 'entitled', 'to', 'presentenee', 'confinement', 'credit', '..', 'Accordingly', ',', 'we', 'remand', 'each', 'case', 'so', 'that', 'the', 'various', 'trial', 'courts', 'can', 'calculate', 'their', 'credit', 'time', 'in', 'a', 'manner', 'consistent', 'with', 'this', 'opinion', '..', 'nan', '.', 'For', 'the', 'reasons', 'that', 'follow', ',', 'we', 'affirm', '..', 'Therefore', ',', 'we', 'affirm', 'the', 'trial', 'court', \"'s\", 'finding', 'that', 'the', 'discrepancies', 'in', 'the', 'dates', 'of', 'the', 'documents', 'did', 'not', 'amount', 'to', 'án', 'effort', 'to', 'conceal', 'the', 'property', 'report', 'or', 'to', 'engage', 'in', 'any', 'misleading', 'practice', ',', 'device', ',', 'or', 'representation', '..', 'Because', 'Las', 'Campanas', \"'\", 'technical', 'violation', 'of', '24', 'C.F.R', '.', 'Section', '1710.118', '(', 'b', ')', 'did', 'not', 'provide', 'grounds', 'for', 'rescission', 'under', 'the', 'circumstances', 'of', 'this', 'case', ',', 'and', 'Pribble', 'failed', 'to', 'establish', 'any', 'other', 'basis', 'for', 'his', 'counterclaim', ',', 'we', 'affirm', 'the', 'trial', 'court', \"'s\", 'decision', 'not', 'to', 'rescind', 'the', 'contract', 'or', 'cancel', 'Pribble', \"'s\", 'obligations', 'under', 'the', 'promissory', 'note', 'and', 'mortgage', '..', 'Because', 'Pribble', 'failed', 'to', 'make', 'a', 'specific', 'objection', 'to', 'these', 'costs', ',', 'however', ',', 'we', 'affirm', 'this', 'issue', '..', 'For', 'the', 'foregoing', 'reasons', ',', 'the', 'judgment', 'of', 'the', 'trial', 'court', 'is', 'affirmed', '..', 'nan.We', 'disagree', 'and', 'affirm', '..', 'We', 'affirm', 'the', 'termination', 'of', 'Mother', \"'s\", 'parental', 'rights', 'to', 'Child', '..', 'nan', '.', 'Because', 'we', 'hold', 'that', 'the', 'agreement', 'to', 'arbitrate', 'is', 'illusory', 'in', 'this', 'case', ',', 'we', 'affirm', 'the', 'trial', 'court', \"'s\", 'denial', 'of', 'the', 'employer', \"'s\", 'motion', 'to', 'compel', 'arbitration', '..', 'For', 'the', 'above', 'reasons', ',', 'we', 'affirm', 'the', 'trial', 'court', \"'s\", 'denial', 'of', 'Defendants', \"'\", 'motion', 'to', 'compel', 'arbitration', '..', 'nan.We', 'affirm', 'on', 'all', 'issues', '..', 'Based', 'on', 'the', 'foregoing', ',', 'we', 'affirm', 'the', 'district', 'court', 'on', 'all', 'issues', '..', 'nan.We', 'affirm', '..', 'We', 'affirm', '..', 'nan.We', 'therefore', 'reverse', 'the', 'trial', 'court', \"'s\", 'order', 'refusing', 'to', 'suppress', 'marijuana', 'subsequently', 'seized', 'during', 'a', 'search', 'of', 'Defendant', \"'s\", 'ear', '..', 'We', 'reverse', 'the', 'trial', 'court', \"'s\", 'order', 'denying', 'Defendant', \"'s\", 'motion', 'to', 'suppress', 'and', 'remand', 'for', 'further', 'proceedings', 'consistent', 'with', 'this', 'opinion', '..', 'nan.We', 'therefore', 'reverse', 'the', 'trial', 'court', \"'s\", 'judgment', '..', 'Therefore', ',', 'we', 'also', 'reverse', 'the', 'trial', 'court', \"'s\", 'award', 'of', 'attorney', 'fees', 'in', 'favor', 'of', 'Plaintiff', '..', 'For', 'the', 'foregoing', 'reasons', ',', 'we', 'reverse', 'the', 'judgment', 'in', 'favor', 'of', 'Plaintiff', 'and', 're', 'mand', 'for', 'entry', 'of', 'judgment', 'in', 'favor', 'of', 'Buyer', '..', 'nan.We', 'review', 'whether', 'Petitioners', 'have', 'stated', 'a', 'claim', 'of', 'public', 'nuisance', 'pursuant', 'to', 'NMSA', '1978', ',', 'Section', '30-8-l', '(', 'B', ')', '(', 'Repl.Pamp.1994', ')', ',', 'and', 'affirm', '..', 'For', 'the', 'foregoing', 'reasons', ',', 'we', 'affirm', 'the', 'order', 'of', 'the', 'district', 'court', 'dismissing', 'the', 'petition', '..', 'nan.On', 'interlocutory', 'appeal', 'from', 'that', 'ruling', ',', 'we', 'reverse', 'and', 'remand', 'for', 'trial', 'without', 'a', 'jury', '..', 'The', 'Children', \"'s\", 'Court', 'having', 'ruled', 'otherwise', ',', 'we', 'hereby', 'reverse', 'that', 'decision', 'and', 'remand', 'this', 'matter', 'for', 'further', 'proceedings', 'consistent', 'herewith', '..', 'nan.On', 'interlocutory', 'appeal', ',', 'we', 'affirm', 'and', 'remand', 'to', 'the', 'district', 'court', 'for', 'prosecution', 'of', 'the', 'felony', 'indictment.Accordingly', ',', 'we', 'affirm', 'the', 'district', 'court', \"'s\", 'refusal', 'to', 'remand', 'this', 'case', 'to', 'the', 'metropolitan', 'court', ',', 'and', 'we', 'remand', 'to', 'the', 'district', 'court', 'for', 'further', 'proceedings', '..', 'nan.Because', 'we', 'agree', 'with', 'the', 'concession', ',', 'cf', '.', 'State', 'v.', 'Maes', ',', '100', 'N.M.', '78', ',', '80-81', ',', '665', 'P.2d', '1169', ',', '1171-72', '(', 'Ct.', 'App.1983', ')', '(', 'appellate', 'court', 'rejected', 'State', \"'s\", 'concession', 'that', 'evidence', 'was', 'insufficient', ')', ',', 'we', 'reverse', 'that', 'finding', 'and', 'limit', 'our', 'attention', 'to', 'the', 'conspiracy', 'charge', '..', 'We', 'hold', 'that', 'there', 'was', 'insufficient', 'evidence', 'of', 'that', 'charge', 'also', 'and', 'reverse', 'the', 'adjudication', 'of', 'delinquency', '..', 'We', 'therefore', 'reverse', 'the', 'adjudication', 'of', 'the', 'Child', 'as', 'a', 'delinquent', 'offender', '..', 'nan.We', 'reverse', '..', 'In', 'light', 'of', 'the', 'foregoing', ',', 'we', 'reverse', 'the', 'district', 'court', \"'s\", 'decision', 'and', 'remand', 'for', 'entry', 'of', 'an', 'Amended', 'Order', 'of', 'Conditional', 'Discharge', 'consistent', 'with', 'this', 'opinion', '..', 'nan.For', 'the', 'reasons', 'discussed', 'herein', ',', 'we', 'affirm', '..', 'The', 'order', 'denying', 'the', 'motion', 'to', 'suppress', ',', 'and', 'the', 'judgment', 'and', 'disposition', 'entered', 'by', 'the', 'children', \"'s\", 'court', ',', 'are', 'affirmed', '..', 'nan', '.', 'We', 'affirm', 'and', 'remand', '..', 'Based', 'on', 'the', 'foregoing', ',', 'we', 'affirm', 'the', 'district', 'court', \"'s\", 'determination', 'that', 'the', 'adoption', 'decree', 'should', 'be', 'reopened', '.', 'We', 'remand', ',', 'however', ',', 'for', 'a', 'hearing', 'concerning', 'the', 'best', 'interests', 'of', 'the', 'Child', 'with', 'regard', 'to', 'her', 'custody', 'and', 'control', '..', 'nan.We', 'therefore', 'affirm', '..', 'For', 'the', 'foregoing', 'reasons', ',', 'we', 'affirm', 'both', 'the', 'district', 'court', \"'s\", 'grant', 'of', 'summary', 'judgment', 'in', 'favor', 'of', 'Defendants', 'and', 'the', 'denial', 'of', 'Plaintiffs', \"'\", 'motion', 'to', 'amend', 'the', 'complaint', '..', 'nan', '.', 'Not', 'persuaded', 'by', 'Defendant', \"'s\", 'arguments', ',', 'we', 'affirm', 'on', 'all', 'issues', '..', 'We', 'therefore', 'affirm', '..', 'nan.We', 'hold', 'that', ',', 'under', 'the', 'circumstances', 'of', 'this', 'case', ',', 'the', 'trial', 'court', 'correctly', 'ruled', 'that', 'coverage', 'issues', 'are', 'arbitrable', ',', 'and', 'affirm', '..', 'We', 'affirm', 'the', 'order', 'of', 'the', 'district', 'court', 'compelling', 'arbitration', '..', 'nan.We', 'conclude', 'that', 'the', 'regulation', 'discriminates', 'against', 'Plaintiffs', 'on', 'the', 'basis', 'of', 'their', 'disabilities', 'in', 'violation', 'of', 'Title', 'II', 'of', 'the', 'ADA', ',', 'and', 'affirm', 'the', 'Order', 'invalidating', 'the', 'HSD', 'regulation', 'which', 'imposed', 'a', 'twelve-month', 'maximum', 'period', 'of', 'eligibility', 'for', 'disabled', 'adults', 'receiving', 'benefits', 'under', 'the', 'General', 'Assistance', 'Program', '..', 'Therefore', ',', 'we', 'affirm', 'the', 'district', 'court', 'Order', 'granting', 'summary', 'judgment', 'in', 'favor', 'of', 'Plaintiffs', 'and', 'invalidating', 'FAP-419.24', '..', 'nan.We', 'hold', 'that', 'Defendant', 'was', 'entitled', 'to', 'a', 'jury', 'trial', 'in', 'the', 'district', 'court', 'and', 'therefore', 'reverse', 'his', 'conviction', 'and', 'remand', 'for', 'a', 'new', 'trial', '..', 'We', 'reverse', 'Defendant', \"'s\", 'conviction', 'of', 'DWI', ',', 'first', 'offense', ',', 'because', 'Defendant', 'was', 'entitled', 'to', 'a', 'jury', 'trial', 'based', 'upon', 'the', 'charge', 'of', 'DWI', ',', 'second', 'offense', '..', 'nan.We', 'affirm', 'the', 'trial', 'court', 'on', 'all', 'issues', 'but', 'the', 'issue', 'of', 'the', 'award', 'of', 'attorney', 'fees', ',', 'and', 'we', 'particularly', 'affirm', 'the', 'trial', 'court', \"'s\", 'view', 'that', 'the', 'UORRA', 'applies', 'to', 'the', 'extent', 'that', 'the', 'parties', \"'\", 'agreement', 'was', 'a', 'lease', 'and', 'does', 'not', 'apply', 'to', 'the', 'extent', 'it', 'was', 'a', 'sale', '..', 'We', 'reverse', 'on', 'the', 'attorney', 'fee', 'issue', 'and', 'remand', 'to', 'the', 'trial', 'court', 'to', 'make', 'a', 'determination', 'as', 'to', 'the', 'prevailing', 'party', 'and', 'as', 'to', 'the', 'amount', 'of', 'attorney', 'fees', 'to', 'be', 'awarded', ',', 'consistent', 'with', 'this', 'opinion.We', 'reverse', 'on', 'the', 'issue', 'of', 'attorney', 'fees', 'and', 'costs', 'and', 'remand', 'to', 'the', 'trial', 'court', 'to', 'determine', 'the', 'prevailing', 'party', 'in', 'this', 'ease', 'and', 'to', 'apportion', 'an', 'award', 'of', 'attorney', 'fees', 'and', 'costs', 'commensurate', 'with', 'that', 'determination', '.', 'We', 'affirm', 'the', 'trial', 'court', 'in', 'all', 'other', 'respects', '..', 'nan.We', 'dismiss', 'Jones', \"'s\", 'appeal', 'because', 'it', 'was', 'untimely', 'and', 'presents', 'no', 'unusual', 'circumstances', 'warranting', 'a', 'hearing', 'on', 'the', 'merits', '..', 'Because', 'Jones', \"'s\", 'second', 'extension', 'is', 'unauthorized', ',', 'and', 'no', 'unusual', 'circumstances', 'warrant', 'hearing', 'his', 'untimely', 'appeal', ',', 'we', 'dismiss', 'Jones', \"'s\", 'appeal', '..', 'nan.Pursuant', 'to', 'NMSA', '1978', ',', '62-11-5', '(', '1982', ')', ',', 'under', 'which', 'this', 'Court', 'may', 'affirm', 'or', 'annul', 'an', 'action', 'by', 'the', 'Commission', ',', 'we', 'are', 'asked', 'to', 'annul', 'and', 'vacate', 'the', 'order', 'of', 'the', 'Commission', '..', 'Having', 'found', 'the', 'Commission', \"'s\", 'decision', 'on', 'the', 'disallowance', 'of', 'Zia', \"'s\", 'actual', 'tax', 'expenses', 'to', 'have', 'been', 'arbitrary', ',', 'the', 'determination', 'of', 'zero', 'cash', 'working', 'capital', 'to', 'have', 'been', 'lacking', 'a', 'basis', 'in', 'substantial', 'evidence', 'and', 'the', 'award', 'of', '$', '24,252.92', 'in', 'aircraft', 'expenses', 'to', 'have', 'been', 'unsupported', 'by', 'substantial', 'evidence', ',', 'we', 'vacate', 'the', 'order', 'in', 'toto', 'and', 'remand', 'this', 'matter', 'to', 'the', 'Commission', '..', 'nan', '.', 'We', 'affirm', 'the', 'spoliation', 'sanction', 'and', 'reverse', 'on', 'the', 'issue', 'of', 'third-party', 'liability', '..', 'Based', 'on', 'our', 'review', 'of', 'the', 'record', ',', 'we', 'agree', 'with', 'K-Mart', 'and', 'reverse', '..', 'Accordingly', ',', 'we', 'reverse', 'and', 'remand', 'for', 'a', 'new', 'trial', 'in', 'which', 'K-Mart', 'may', 'pursue', 'its', 'Bartlett', 'defense', 'to', 'its', 'logical', 'conclusion', 'consistent', 'with', 'the', 'evidence.Admission', 'of', 'the', 'Medical', 'Bills', '{', '25', '}', 'K-Mart', 'argues', 'that', 'the', 'trial', 'court', 'erroneously', 'allowed', 'the', 'jury', 'to', 'consider', 'hearsay', 'evidence', 'in', 'determining', 'Segura', \"'s\", 'medical', 'expenses', '..', 'We', 'reverse', 'the', 'trial', 'court', \"'s\", 'order', 'precluding', 'K-Mart', 'from', 'arguing', 'third-party', 'comparative', 'fault', 'and', 'remand', 'for', 'a', 'new', 'trial', '.', 'We', 'affirm', 'the', 'court', \"'s\", 'spoliation', 'sanction', 'and', 'hold', 'that', 'the', 'same', 'sanction', 'should', 'apply', 'on', 'remand', '..', 'nan.We', 'affirm', 'as', 'to', 'all', 'issues', 'except', 'the', 'directed', 'verdict', 'as', 'to', 'the', 'loss', 'of', 'consortium', 'claim', ',', 'and', 'the', 'verdict', 'of', 'no', 'negligence', 'as', 'to', 'one', 'of', 'the', 'Defendants', '..', 'We', 'therefore', 'affirm', 'in', 'part', ',', 'reverse', 'in', 'part', ',', 'and', 'remand', 'for', 'further', 'proceedings', '..', 'We', 'address', 'each', 'argument', 'in', 'turn', ',', 'and', 'hold', 'that', 'the', 'district', 'court', 'should', 'be', 'affirmed', 'as', 'to', 'all', 'issues', ',', 'except', 'the', 'directed', 'verdict', 'as', 'to', 'Sara', \"'s\", 'loss', 'of', 'consortium', 'claim', ',', 'and', 'the', 'verdict', 'of', 'no', 'negligence', 'on', 'the', 'part', 'of', 'Mr.', 'McWaters', '..', 'We', 'therefore', 'reverse', 'the', 'jury', 'verdict', 'as', 'to', 'Mr.', 'McWaters', '..', 'We', 'reverse', 'as', 'to', 'the', 'jury', \"'s\", 'conclusion', 'that', 'Mr.', 'McWaters', 'was', 'not', 'negligent', 'in', 'the', 'second', 'accident', ',', 'for', 'lack', 'of', 'substantial', 'evidence', '..', 'We', 'therefore', 'affirm', 'with', 'regard', 'to', 'all', 'claims', 'except', 'the', 'loss', 'of', 'consortium', 'claim', ',', 'and', 'the', 'verdict', 'of', 'no', 'negligence', 'on', 'the', 'part', 'of', 'Mr.', 'McWaters', ',', 'and', 'remand', 'for', 'a', 'new', 'trial', 'limited', 'to', 'those', 'issues', '..', 'nan.We', 'reverse', '..', 'We', 'reverse', 'the', 'district', 'court', \"'s\", 'dismissal', 'of', 'Ms.', 'Kesterson', \"'s\", 'claims', 'against', 'the', 'estate', 'for', 'child', 'support', '.', 'We', 'remand', 'to', 'the', 'district', 'court', 'for', 'further', 'proceedings', '..', 'nan.We', 'reverse', 'and', 'remand', 'for', 'further', 'proceedings', '..', 'For', 'the', 'above', 'reasons', ',', 'we', 'reverse', 'the', 'district', 'court', \"'s\", 'summary', 'judgment', 'in', 'favor', 'of', 'United', 'and', 'remand', 'for', 'further', 'proceedings', 'consistent', 'with', 'this', 'opinion', '..', 'nan.As', 'a', 'result', ',', 'we', 'reverse', 'the', 'district', 'court', 'and', 'affirm', 'the', 'annexation', 'proceedings', 'of', 'the', 'Commission', '..', 'Accordingly', ',', 'we', 'reverse', 'the', 'decision', 'of', 'the', 'district', 'court', 'and', 'affirm', 'the', 'order', 'of', 'the', 'Commission', 'granting', 'Sunland', 'Park', \"'s\", 'petition', 'for', 'annexation', '..', 'nan', '.', 'Therefore', ',', 'we', 'decline', 'to', 'address', 'issues', 'not', 'properly', 'before', 'us.nan.We', 'remand', 'for', 'dismissal', 'of', 'the', 'death-penalty', 'proceedings', 'without', 'prejudice', '..', 'nan.We', 'affirm', 'in', 'part', ',', 'reverse', 'in', 'part', ',', 'and', 'remand', 'for', 'imposition', 'of', 'new', 'sentence.For', 'the', 'foregoing', 'reasons', ',', 'as', 'well', 'as', 'those', 'set', 'forth', 'in', 'the', 'unpublished', 'portion', 'of', 'this', 'opinion', ',', 'we', 'vacate', 'Defendant', \"'s\", 'sentence', 'and', 'remand', 'to', 'the', 'district', 'court', 'to', 'impose', 'a', 'new', 'sentence', 'without', 'consideration', 'given', 'to', 'Defendant', \"'s\", '1955', 'Texas', 'conviction', '.', 'We', 'affirm', 'in', 'all', 'other', 'respects', 'the', 'matters', 'appealed', 'by', 'Defendant', '..', 'nan.For', 'the', 'reasons', 'discussed', 'herein', ',', 'we', 'reverse', '..', 'The', 'WCJ', \"'s\", 'order', 'modifying', 'compensation', 'order', 'is', 'reversed', 'and', 'the', 'initial', 'December', '10,1997', ',', 'compensation', 'order', 'is', 'directed', 'to', 'be', 'reinstated', '..', 'nan.We', 'are', 'unpersuaded', 'that', 'the', 'trial', 'court', 'abused', 'its', 'discretion', 'and', 'therefore', 'affirm', '..', 'We', 'therefore', 'affirm', '..', 'nan.We', 'affirm', 'the', 'Court', 'of', 'Appeals', \"'\", 'holding', 'that', 'the', 'operation', 'of', 'wave', 'pools', 'is', 'not', 'an', 'inherently', 'dangerous', 'activity', '.', 'However', ',', 'we', 'reverse', 'the', 'Court', 'of', 'Appeals', 'to', 'the', 'extent', 'that', 'we', 'hold', 'that', 'negligent', 'entrustment', 'of', 'real', 'property', 'by', 'a', 'non-possessory', 'landlord', 'is', 'not', 'a', 'cause', 'of', 'action', 'recognized', 'under', 'New', 'Mexico', 'law', '..', 'For', 'the', 'foregoing', 'reasons', ',', 'we', 'conclude', 'that', 'operation', 'of', 'a', 'wave', 'pool', 'is', 'not', 'an', 'inherently', 'dangerous', 'activity', 'and', 'affirm', 'the', 'Court', 'of', 'Appeals', \"'\", 'ruling', 'on', 'this', 'issue', '..', 'We', 'affirm', 'the', 'Court', 'of', 'Appeals', \"'\", 'holding', 'that', 'the', 'operation', 'of', 'wave', 'pools', 'is', 'not', 'an', 'inherently', 'dangerous', 'activity', ';', 'however', ',', 'we', 'reverse', 'the', 'Court', 'of', 'Appeals', 'to', 'the', 'extent', 'that', 'we', 'hold', 'that', 'negligent', 'entrustment', 'of', 'real', 'property', 'by', 'a', 'non-possessory', 'landlord', 'is', 'not', 'a', 'cause', 'of', 'action', 'recognized', 'under', 'New', 'Mexico', 'law', '..', 'nan', '.', 'We', 'affirm', '..', 'We', 'affirm', '..', 'nan.We', 'affirm', 'as', 'to', 'the', 'Village', ',', 'but', 'in', 'doing', 'so', ',', 'we', 'clarify', 'the', 'reach', 'and', 'meaning', 'of', 'the', 'judgment', 'in', 'favor', 'of', 'the', 'Village', '..', 'We', 'affirm', 'in', 'part', 'and', 'reverse', 'in', 'part', 'as', 'to', 'the', 'Berbers', '..', 'To', 'the', 'extent', 'the', 'district', 'court', 'order', 'granting', 'summary', 'judgment', 'purports', 'to', 'grant', 'the', 'Berbers', 'an', 'interest', 'greater', 'than', 'an', 'easement', 'in', 'the', 'distribution', 'components', 'located', 'on', 'Trust', 'land', ',', 'it', 'is', 'in', 'error', 'and', 'must', 'be', 'reversed.', '.', 'Rather', 'we', 'remand', 'to', 'the', 'district', 'court', 'for', 'further', 'proceedings', 'as', 'may', 'be', 'requested', 'by', 'the', 'parties', '..', 'We', 'reverse', 'the', 'district', 'court', 'as', 'to', 'this', 'issue', 'and', 'remand', 'for', 'further', 'proceedings', '..', 'he', 'order', 'of', 'the', 'district', 'court', 'granting', 'summary', 'judgment', 'to', 'the', 'Village', 'is', 'affirmed', 'except', 'to', 'the', 'extent', '—', 'as', 'explained', 'above', '—', 'that', 'it', 'may', 'purport', 'to', 'recognize', 'a', 'water', 'right', ',', 'as', 'such', ',', 'in', 'the', 'Village', 'flowing', 'from', 'the', 'Contract', 'and', 'Indenture', '..', 'The', 'order', 'of', 'the', 'district', 'court', 'granting', 'summary', 'judgment', 'to', 'the', 'Berbers', 'is', 'affirmed', 'except', 'with', 'regard', 'to', 'the', 'issues', 'of', 'the', 'ownership', 'of', 'the', 'distribution', 'system', 'and', 'the', 'benefits', 'flowing', 'from', 'the', 'Contract', 'and', 'Indenture', '.', 'As', 'to', 'these', 'two', 'issues', ',', 'the', 'district', 'court', 'order', 'in', 'favor', 'of', 'the', 'Berbers', 'is', 'reversed', 'and', 'remanded', '..', 'nan.We', 'affirm', '..', 'Therefore', ',', 'we', 'dismiss', 'the', 'cross-appeal', '..', 'Turning', 'to', 'that', 'argument', ',', 'we', 'do', 'not', 'believe', 'the', 'statute', 'can', 'bear', 'the', 'Division', \"'s\", 'expansive', 'interpretation', ',', 'and', 'we', 'thus', 'affirm', 'the', 'trial', 'court', \"'s\", 'denial', 'of', 'the', 'motion', 'for', 'summary', 'judgment', '..', 'We', 'affirm', 'on', 'all', 'issues', 'raised', 'in', 'the', 'appeal', '.', 'We', 'dismiss', 'the', 'cross-appeal', '..', 'nan.We', 'affirm', '..', 'Accordingly', ',', 'we', 'affirm', '..', 'nan.For', 'the', 'reasons', 'discussed', 'herein', ',', 'we', 'affirm', 'in', 'part', 'and', 'reverse', 'in', 'part.Because', 'we', 'conclude', 'that', 'Durham', \"'s\", 'action', 'for', 'an', 'accounting', 'is', 'barred', 'by', 'the', 'statute', 'of', 'limitations', 'and', 'the', 'timely', 'filing', 'of', 'a', 'claim', 'for', 'an', 'accounting', 'is', 'a', 'prerequisite', 'to', 'pursuing', 'each', 'of', 'his', 'other', 'claims', ',', 'we', 'affirm', 'the', 'rulings', 'of', 'the', 'trial', 'courts', 'below', 'and', 'then-dismissal', 'of', 'each', 'of', 'Durham', \"'s\", 'claims', '..', 'The', 'orders', 'of', 'dismissal', 'and', 'summary', 'judgment', 'are', 'affirmed', 'in', 'their', 'entirety', 'as', 'to', 'each', 'of', 'Durham', \"'s\", 'claims', '..', 'The', 'orders', 'dismissing', 'Peterson', \"'s\", 'claims', 'for', 'an', 'accounting', 'in', 'the', 'first', 'action', ',', 'and', 'the', 'award', 'of', 'summary', 'judgment', 'dismissing', 'Peterson', \"'s\", 'claims', 'against', 'Defendants', 'in', 'the', 'second', 'action', 'are', 'reversed', ',', 'and', 'the', 'cases', 'are', 'remanded', 'for', 'further', 'proceedings', 'consistent', 'herewith', '..', 'nan.Deciding', 'that', 'the', 'record', 'does', 'not', 'support', 'a', 'finding', 'either', 'that', 'she', 'did', 'or', 'that', 'she', 'waived', 'such', 'notice', ',', 'we', 'reverse', 'the', 'order', 'of', 'permanent', 'guardianship', 'and', 'remand', 'to', 'the', 'district', 'court', 'for', 'it', 'to', 'decide', 'after', 'an', 'evidentiary', 'hearing', 'whether', 'it', 'should', 'continue', 'the', 'temporary', 'guardianship', 'or', 'issue', 'a', 'permanent', 'guardianship', 'consistent', 'with', 'the', 'best', 'interests', 'of', 'the', 'child', '..', 'As', 'there', 'is', 'nothing', 'in', 'the', 'record', 'on', 'which', 'the', 'children', \"'s\", 'court', 'could', 'have', 'validly', 'found', 'that', 'Mother', 'waived', 'notice', 'and', 'opportunity', 'to', 'present', 'her', 'case', 'concerning', 'the', 'guardianship', 'petition', ',', 'we', 'set', 'aside', 'the', 'order', 'granting', 'the', 'permanent', 'guardianship', 'and', 'remand', 'to', 'the', 'children', \"'s\", 'court', 'for', 'a', 'determination', 'of', 'the', 'best', 'interests', 'of', 'the', 'child', 'under', 'the', 'statutory', 'provision', 'found', 'in', 'the', 'old', 'children', \"'s\", 'code', '.', '.We', 'reverse', 'and', 'remand', 'for', 'further', 'proceedings', 'consistent', 'with', 'this', 'opinion', '..', 'nan', '.', 'For', 'the', 'following', 'reasons', ',', 'we', 'affirm', '..', 'For', 'the', 'foregoing', 'reasons', ',', 'we', 'affirm', 'Defendant', \"'s\", 'convictions', '..', 'nan.We', 'affirm', 'in', 'part', ',', 'reverse', 'in', 'part', ',', 'and', 'remand', '..', 'Thus', ',', 'we', 'remand', 'to', 'the', 'trial', 'court', 'for', 'consideration', 'of', 'Plaintiffs', \"'\", 'request', 'for', 'the', 'award', 'of', 'a', 'reasonable', 'expert', 'witness', 'fee', 'and', 'sanctions', 'against', 'Severo', '..', 'The', 'judgment', 'quieting', 'title', 'to', 'the', 'subject', 'property', 'in', 'Plaintiffs', 'is', 'affirmed', '.', 'The', 'order', 'denying', 'an', 'award', 'of', 'reasonable', 'costs', 'for', 'Plaintiffs', \"'\", 'expert', 'witness', 'and', 'for', 'imposition', 'of', 'sanctions', 'against', 'Severo', 'is', 'reversed', 'and', 'remanded', 'for', 'further', 'proceedings', 'consistent', 'with', 'this', 'opinion', '..', 'nan.We', 'affirm', ',', 'finding', 'that', 'the', 'Appellants', 'are', 'not', '``', 'condemnees', \"''\", 'within', 'the', 'meaning', 'of', 'the', 'Eminent', 'Domain', 'Code', ',', 'and', 'therefore', 'do', 'not', 'have', 'standing', 'to', 'argue', 'the', 'issues', 'raised', 'on', 'appeal', '..', 'We', 'therefore', 'dismiss', 'their', 'appeals', 'and', 'affirm', 'the', 'district', 'court', '..', 'nan.For', 'the', 'reasons', 'discussed', 'herein', ',', 'we', 'affirm', '..', 'Thus', ',', 'we', 'affirm', 'the', 'district', 'court', 'and', 'uphold', 'the', 'validity', 'of', 'the', 'territorial', 'limitation', 'contained', 'in', 'the', 'policy', '..', 'Based', 'on', 'Plaintiffs', 'significant', 'delay', 'in', 'seeking', 'any', 'amendment', ',', 'Plaintiffs', 'failure', 'to', 'show', 'good', 'cause', 'for', 'not', 'raising', 'the', 'claim', 'earlier', ',', 'and', 'the', 'fact', 'that', 'the', 'district', 'court', 'had', 'granted', 'Dairyland', \"'s\", 'motion', 'for', 'summary', 'judgment', 'before', 'Plaintiff', 'sought', 'to', 'amend', 'the', 'complaint', ',', 'we', 'affirm', 'the', 'denial', 'of', 'Plaintiff', \"'s\", 'motion', 'to', 'amend', 'the', 'complaint', 'as', 'within', 'the', 'district', 'court', \"'s\", 'discretion', '..', 'The', 'district', 'court', \"'s\", 'orders', 'granting', 'Dairyland', \"'s\", 'motion', 'for', 'summary', 'judgment', 'and', 'denying', 'Plaintiffs', 'motion', 'to', 'amend', 'his', 'complaint', 'are', 'affirmed', '..', 'nan.Therefore', ',', 'we', 'affirm', '..', 'Nonetheless', ',', 'we', 'affirm', 'the', 'district', 'court', \"'s\", 'decision', ',', 'holding', 'that', 'Petitioner', 'has', 'failed', 'to', 'present', 'compelling', 'circumstances', 'to', 'justify', 'expungement', '..', 'Therefore', ',', 'we', 'affirm', '..', 'nan.Because', 'there', 'is', 'insufficient', 'evidence', 'in', 'the', 'record', 'to', 'support', 'a', 'finding', 'of', 'fraud', 'on', 'Varbel', \"'s\", 'part', ',', 'we', 'reverse', '..', 'For', 'the', 'foregoing', 'reasons', 'we', 'reverse', 'and', 'remand', 'to', 'the', 'WCJ', 'to', 'reinstate', 'Varbel', \"'s\", 'TTD', 'benefits', 'and', 'to', 'award', 'her', 'reasonable', 'attorney', \"'s\", 'fees', '..', 'nan.We', 'vacate', 'the', 'district', 'court', 'order', 'affirming', 'the', 'award', 'and', 'remand', 'the', 'case', 'to', 'a', 'new', 'panel', 'of', 'arbitrators', 'to', 'evaluate', 'the', 'merits', 'of', 'the', 'original', 'claim', '..', 'Thus', ',', 'pursuant', 'to', 'Section', '44-7-12', '(', 'B', ')', ',', 'we', 'vacate', 'the', 'arbitration', 'award', '..', 'Furthermore', ',', 'under', '44-7-12', '(', 'C', ')', ',', 'we', 'order', 'a', 'rehearing', 'before', 'a', 'new', 'panel', 'of', 'arbitrators', 'to', 'determine', 'whether', 'Medina', 'is', 'entitled', 'to', 'an', 'award', 'under', 'the', 'true', 'facts', 'relevant', 'to', 'this', 'claim.nan', '.', 'We', 'affirm', '..', 'Accordingly', ',', 'we', 'affirm', 'the', 'trial', 'court', \"'s\", 'conclusion', 'that', 'the', 'State', 'did', 'not', 'violate', 'Defendant', \"'s\", 'right', 'to', 'speedy', 'sentencing', '..', 'For', 'the', 'reasons', 'stated', 'above', ',', 'we', 'affirm', '..', 'nan.Accordingly', ',', 'we', 'affirm', 'the', 'Court', 'of', 'Appeals', ',', 'which', 'had', 'affirmed', 'Baca', \"'s\", 'conviction', 'in', 'an', 'unpublished', 'decision', '..', 'We', 'therefore', 'affirm', 'the', 'judgment', 'of', 'the', 'trial', 'court', 'and', 'the', 'memorandum', 'opinion', 'of', 'the', 'Court', 'of', 'Appeals', '..', 'nan.We', 'also', 'reverse', 'the', 'Court', 'of', 'Appeals', \"'\", 'holding', 'that', 'the', 'district', 'court', 'failed', 'to', 'fully', 'evaluate', 'the', 'merits', 'of', 'the', 'motion', 'and', 'we', 'affirm', 'the', 'district', 'court', \"'s\", 'denial', 'of', 'plaintiffs', \"'\", 'Rule', '1-060', '(', 'B', ')', '(', '6', ')', 'motion', '..', 'We', 'also', 'reverse', ',', 'the', 'Court', 'of', 'Appeals', \"'\", 'order', 'remanding', 'the', 'matter', 'and', 'conclude', 'that', 'the', 'district', 'court', 'sufficiently', 'addressed', 'the', 'merits', 'of', 'plaintiffs', \"'\", 'motion', '.', '.Accordingly', ',', 'we', 'affirm', 'the', 'district', 'court', \"'s\", 'denial', 'of', 'plaintiffs', \"'\", 'motion', 'on', 'the', 'merits.I.For', 'the', 'foregoing', 'reasons', ',', 'we', 'reverse', 'the', 'Court', 'of', 'Appeals', 'and', 'affirm', 'the', 'district', 'court', \"'s\", 'denial', 'of', 'plaintiffs', \"'\", 'Rule', '1-060', '(', 'B', ')', '(', '6', ')', 'motion', 'for', 'relief', '..', 'nan.For', 'the', 'reasons', 'that', 'follow', ',', 'we', 'affirm', 'the', 'trial', 'court', \"'s\", 'denial', 'of', 'Prudential', \"'s\", 'motion', 'for', 'summary', 'judgment', ',', 'reverse', 'the', 'grant', 'of', 'partial', 'summary', 'judgment', 'in', 'favor', 'of', 'Plaintiffs', ',', 'and', 'remand', 'for', 'further', 'proceedings', 'consistent', 'with', 'this', 'opinion', '..', 'We', 'therefore', 'reverse', 'the', 'grant', 'of', 'partial', 'summary', 'judgment', 'against', 'Prudential', 'and', 'remand', 'for', 'further', 'proceedings', 'on', 'the', 'issue', 'of', 'duty', 'and', 'materiality', '.', '.Because', 'we', 'conclude', 'that', 'the', 'trial', 'court', 'erred', 'in', 'granting', 'partial', 'summary', 'judgment', 'in', 'favor', 'of', 'Plaintiffs', ',', 'and', 'it', 'is', 'not', 'clear', 'what', 'the', 'rationale', 'of', 'the', 'court', 'was', 'when', 'it', 'denied', 'Prudential', \"'s\", 'primary', 'jurisdiction', 'motion', ',', 'we', 'remand', 'the', 'issue', 'of', 'primary', 'jurisdiction', 'to', 'the', 'trial', 'court', 'for', 'reconsideration', '.', '.Finally', ',', 'because', 'it', 'is', 'not', 'clear', 'on', 'what', 'basis', 'the', 'trial', 'court', 'denied', 'Prudential', \"'s\", 'motion', 'to', 'refer', 'claims', 'to', 'the', 'primary', 'jurisdiction', 'of', 'the', 'Insurance', 'Division', ',', 'we', 'remand', 'the', 'issue', 'of', 'primary', 'jurisdiction', 'to', 'the', 'trial', 'court', 'for', 'reconsideration', '..', 'Accordingly', ',', 'we', 'affirm', 'the', 'denial', 'of', 'Prudential', \"'s\", 'motion', 'for', 'summary', 'judgment', ',', 'reverse', 'the', 'grant', 'of', 'partial', 'summary', 'judgment', 'in', 'favor', 'of', 'Plaintiffs', ',', 'reverse', 'the', 'denial', 'of', 'Prudential', \"'s\", 'primary', 'jurisdiction', 'motion', ',', 'and', 'remand', 'for', 'further', 'proceedings', 'consistent', 'with', 'this', 'opinion', '..', 'nan.We', 'hold', 'that', 'Garrison', 'P.', 'controls', 'under', 'the', 'circumstances', 'of', 'this', 'case', 'and', ',', 'accordingly', ',', 'reverse', '..', 'We', 'reverse', 'Child', \"'s\", 'conviction', 'for', 'assault', 'and', 'remand', 'with', 'instructions', 'to', 'dismiss', 'the', 'petition', '..', 'nan.Accordingly', ',', 'we', 'affirm', 'the', 'judgment', 'terminating', 'Father', \"'s\", 'parental', 'rights', '..', 'For', 'the', 'foregoing', 'reasons', ',', 'we', 'affirm', '..', 'nan.We', 'affirm', '..', 'For', 'the', 'foregoing', 'reasons', ',', 'we', 'affirm', '..', 'nan.We', 'agree', 'and', 'reverse', '..', 'We', 'therefore', 'reverse', 'the', 'children', \"'s\", 'court', \"'s\", 'order', 'denying', 'Child', \"'s\", 'motion', 'to', 'suppress', 'and', 'remand', 'for', 'further', 'proceedings', 'consistent', 'with', 'this', 'opinion', '..', 'I', 'would', 'remand', 'to', 'the', 'trial', 'court', 'with', 'directions', 'to', 'make', 'findings', 'of', 'fact', 'and', 'to', 'determine', 'whether', 'there', 'was', 'probable', 'cause', 'to', 'justify', 'the', 'warrantless', 'search', 'of', 'Child', 'as', 'a', 'search', 'incident', 'to', 'arrest', '..', 'I', 'would', 'remand', 'and', 'direct', 'the', 'court', 'to', 'make', 'findings', 'of', 'fact', 'on', 'the', 'critical', 'issues', 'and', 'to', 'apply', 'the', 'probable', 'cause', 'standard', 'for', 'the', 'search', ',', 'but', 'without', 'taking', 'additional', 'evidence', '..', 'nan.We', 'affirm', '..', 'For', 'the', 'foregoing', 'reasons', ',', 'we', 'affirm', 'the', 'decision', 'of', 'the', 'trial', 'court', '..', 'nan.We', 'affirm', 'the', 'ruling', 'of', 'the', 'trial', 'court', '..', 'We', 'affirm', '..', 'nan.We', 'affirm', 'the', 'district', 'court', \"'s\", 'decision', 'to', 'that', 'effect', ',', 'and', 'therefore', 'we', 'do', 'not', 'address', 'the', 'court', \"'s\", 'alternative', 'ground', 'for', 'denying', 'coverage', '..', 'For', 'the', 'reasons', 'that', 'follow', ',', 'we', 'affirm', '..', 'For', 'the', 'foregoing', 'reasons', 'we', 'affirm', 'the', 'district', 'court', \"'s\", 'decision', '..', 'nan', '.', 'We', 'agree', 'with', 'Petitioners', 'and', 'dismiss', 'the', 'appeal', 'for', 'lack', 'of', 'appellate', 'jurisdiction', '..', 'We', 'dismiss', 'the', 'appeal', '..', 'nan.We', 'affirm', '..', 'We', 'affirm', 'the', 'order', 'of', 'the', 'children', \"'s\", 'court', 'transferring', 'the', 'Child', 'to', 'stand', 'trial', 'as', 'an', 'adult', 'and', 'denying', 'the', 'motion', 'to', 'dismiss', '..', 'nan.We', 'reverse', 'the', 'district', 'court', \"'s\", 'denial', 'of', 'the', 'motion', 'to', 'suppress', '..', 'We', 'reverse', 'the', 'district', 'court', \"'s\", 'decision', 'and', 'order', 'and', 'remand', 'to', 'the', 'district', 'court', 'with', 'instructions', 'to', 'grant', 'the', 'motion', 'to', 'suppress', '..', 'nan.We', 'agree', 'and', 'reverse', 'and', 'remand', 'to', 'the', 'district', 'court', 'for', 'entry', 'of', 'an', 'amended', 'judgment', '..', 'Consequently', ',', 'we', 'reverse', 'and', 'remand', 'to', 'the', 'district', 'court', 'for', 'entry', 'of', 'an', 'amended', 'judgment', 'consistent', 'with', 'this', 'opinion', '..', 'nan.We', 'therefore', 'reverse', 'Defendant', \"'s\", 'sentence', 'under', 'the', 'Act.Commencement', 'of', 'Trial', 'Under', 'Rule', '5-60U', '{', '2', '}', 'After', 'Defendant', 'was', 'convicted', 'of', 'forgery', ',', 'the', 'State', 'filed', 'a', 'supplemental', 'information', 'to', 'enhance', 'Defendant', \"'s\", 'sentence', 'under', 'the', 'Act', '.', 'Section', '31-18-17', '..', 'We', 'reverse', 'Defendant', \"'s\", 'sentence', 'under', 'the', 'Act', '..', 'nan.We', 'further', 'hold', 'that', 'the', 'State', 'violated', 'Defendant', \"'s\", 'right', 'to', 'a', 'speedy', 'trial', ',', 'and', 'we', 'therefore', 'reverse', 'his', 'convictions', 'and', 'remand', 'for', 'the', 'district', 'court', 'to', 'enter', 'an', 'order', 'dismissing', 'the', 'charges', 'against', 'Defendant', '.', '.We', 'therefore', 'remand', 'for', 'the', 'district', 'court', 'to', 'set', 'aside', 'the', 'judgment', 'and', 'sentence', 'and', 'to', 'enter', 'an', 'order', 'dismissing', 'the', 'charges', 'against', 'Defendant', '..', 'nan', '.', 'For', 'the', 'reasons', 'set', 'out', 'below', ',', 'we', 'affirm', 'the', 'amended', 'judgment', 'and', 'sentence', '..', 'For', 'the', 'reasons', 'set', 'out', 'above', ',', 'we', 'affirm', 'the', 'amended', 'judgment', 'and', 'sentence', '..', 'nan.The', 'May', '24', ',', '2001', 'judgment', 'is', 'vacated', 'and', 'this', 'case', 'is', 'remanded', 'with', 'instructions', 'to', 'reinstate', 'the', 'August', '3', ',', '1999', 'judgment', '.', 'Plaintiffs', 'cross-appeal', 'is', 'dismissed', '..', 'nan.We', 'affirm', '..', 'For', 'the', 'foregoing', 'reasons', ',', 'we', 'affirm', 'the', 'district', 'court', \"'s\", 'grant', 'of', 'partial', 'summary', 'judgment', 'quieting', 'title', 'to', 'the', 'Shearton', 'Property', 'in', 'Plaintiff', '.', 'We', 'also', 'affirm', 'the', 'district', 'court', \"'s\", 'judgment', 'quieting', 'title', 'to', 'the', 'roads', 'in', 'Plaintiff', '..', 'nan.We', 'reverse', 'the', 'grant', 'of', 'partial', 'summary', 'judgment', 'and', 'remand', 'the', 'case', 'to', 'the', 'district', 'court', 'for', 'further', 'proceedings', 'on', 'these', 'claims', '.', 'We', 'affirm', 'the', 'district', 'court', \"'s\", 'refusal', 'to', 'instruct', 'the', 'jury', 'on', 'punitive', 'damages', '..', 'Accordingly', ',', 'we', 'remand', 'the', 'case', 'for', 'further', 'proceedings', '..', 'We', 'reverse', 'the', 'summary', 'judgment', 'dismissing', 'Plaintiffs', \"'\", 'trespass', 'and', 'conversion', 'claims', 'because', 'we', 'find', 'that', 'reasonable', 'minds', 'could', 'attach', 'different', 'meanings', 'to', 'the', 'Release', 'on', 'its', 'face', '.', 'Accordingly', ',', 'we', 'remand', 'the', 'case', 'on', 'the', 'issue', 'of', 'these', 'claims', 'for', 'further', 'proceedings', '.', '{', '43', '}', 'We', 'affirm', 'the', 'district', 'court', \"'s\", 'decision', 'to', 'direct', 'a', 'verdict', 'in', 'Rice', \"'s\", 'favor', 'on', 'the', 'issue', 'of', 'punitive', 'damages', '..', 'nan', '.', 'We', 'affirm', '..', 'We', 'affirm', '..', 'nan.We', 'affirm', 'the', 'City', 'Council', \"'s\", 'decision', '..', 'The', 'decision', 'of', 'the', 'Albuquerque', 'City', 'Council', 'approving', 'annexation', 'and', 'special', 'use', 'zoning', 'of', 'the', 'Property', 'in', 'this', 'case', 'is', 'affirmed', '..', 'nan', '.', 'For', 'the', 'reasons', 'discussed', 'below', ',', 'we', 'reverse', 'the', 'trial', 'court', \"'s\", 'decision', 'rejecting', 'the', 'self-defense', 'instruction', 'and', 'remand', 'for', 'a', 'new', 'trial', '..', 'We', 'reverse', 'Defendant', \"'s\", 'conviction', 'and', 'remand', 'for', 'a', 'new', 'trial', 'at', 'which', 'a', 'proper', 'self-defense', 'instruction', 'will', 'be', 'given', ',', 'assuming', 'the', 'evidence', 'at', 'retrial', 'warrants', 'such', 'an', 'instruction', '..', 'nan.Accordingly', ',', 'we', 'reverse', 'the', 'summary', 'judgment', 'on', 'Garcia', \"'s\", 'strict', 'products', 'liability', 'claim', 'and', 'remand', 'for', 'further', 'proceedings', '..', 'We', 'therefore', 'reverse', 'summary', 'judgment', 'on', 'that', 'issue', '..', 'Having', 'adopted', 'the', 'product-line', 'exception', 'and', 'having', 'determined', 'that', 'there', 'may', 'be', 'genuine', 'issues', 'of', 'material', 'fact', 'affecting', 'its', 'application', ',', 'we', 'reverse', 'the', 'summary', 'judgment', 'dismissing', 'Garcia', \"'s\", 'strict', 'liability', 'claim', '..', 'Accordingly', ',', 'we', 'reverse', 'the', 'summary', 'judgment', 'regarding', 'Garcia', \"'s\", 'negligence', 'claim', 'and', 'remand', 'for', 'further', 'proceedings', 'consistent', 'with', 'this', 'opinion', '..', 'nan.We', 'reverse', 'the', 'district', 'court', 'grant', 'of', 'summary', 'judgment', 'in', 'favor', 'of', 'Eaton', ',', 'Martinez', '&', 'amp', ';', 'Hart', ',', 'P.C', '.', 'and', 'grant', 'summary', 'judgment', 'in', 'favor', 'of', 'University', 'Hospital', '.', 'We', 'affirm', 'the', 'district', 'court', 'decision', 'in', 'favor', 'of', 'Memorial', 'Hospital', 'in', 'the', 'consolidated', 'case', 'of', 'Crawford', 'v.', 'Scully', '..', 'nan.Concluding', 'that', 'under', 'its', 'own', 'language', 'the', 'bond', 'remained', 'in', 'place', 'if', 'the', 'appeal', 'was', 'dismissed', ',', 'we', 'reverse', '..', 'Thus', ',', 'the', 'bond', \"'s\", 'validity', 'as', 'a', 'common', 'law', 'obligation', 'provides', 'another', 'basis', 'for', 'our', 'decision', 'to', 'reverse', '..', 'The', 'court', \"'s\", 'order', 'releasing', 'the', 'bond', 'is', 'reversed', ',', 'and', 'the', 'case', 'is', 'remanded', 'for', 'entry', 'of', 'judgment', 'against', 'the', 'Surety', '..', 'nan.Consequently', ',', 'we', 'reverse', '..', 'Accordingly', ',', 'the', 'order', 'granting', 'summary', 'judgment', 'and', 'the', 'order', 'excluding', 'the', 'testimony', 'of', 'Dr.', 'Ross', 'are', 'reversed', 'and', 'this', 'matter', 'is', 'remanded', 'to', 'the', 'Administration', 'for', 'further', 'proceedings', '..', 'nan', '.', 'We', 'hold', 'that', 'Reed', 'is', 'not', 'a', 'fugitive', 'from', 'justice', 'and', 'affirm', 'the', 'writ', 'of', 'habeas', 'corpus', '..', 'However', ',', 'we', 'affirm', 'the', 'district', 'court', \"'s\", 'grant', 'of', 'habeas', 'corpus', 'because', 'Reed', 'is', 'not', 'a', 'fugitive', 'from', 'justice', '..', 'We', 'affirm', 'the', 'district', 'court', 'in', 'granting', 'his', 'writ', 'of', 'habeas', 'corpus', '..', 'Nevertheless', ',', 'I', 'agree', 'with', 'the', 'majority', 'that', ',', 'on', 'these', 'facts', ',', 'the', 'district', 'court', \"'s\", 'decision', 'should', 'be', 'affirmed', '..', 'As', 'a', 'result', ',', 'I', 'would', 'affirm', 'the', 'grant', 'of', 'the', 'writ', 'of', 'habeas', 'corpus', 'for', 'Ohio', \"'s\", 'failure', 'to', 'substantially', 'charge', 'Reed', 'with', 'a', 'parole', 'violation', '..', 'Therefore', ',', 'I', 'would', 'affirm', 'the', 'district', 'court', \"'s\", 'grant', 'of', 'the', 'writ', 'of', 'habeas', 'corpus', 'and', 'deny', 'extradition', 'to', 'Ohio', '...', 'Therefore', ',', 'I', 'would', 'affirm', 'the', 'district', 'court', '..', 'Because', 'Ohio', 'has', 'not', 'demonstrated', 'a', 'finding', 'of', 'probable', 'cause', 'and', 'could', 'not', 'now', 'hold', 'a', 'preliminary', 'hearing', ',', 'I', 'would', 'affirm', 'the', 'district', 'court', \"'s\", 'grant', \"'\", 'of', 'the', 'writ', 'of', 'habeas', 'corpus', '..', 'nan.We', 'affirm', '..', 'Accordingly', ',', 'we', 'affirm', '..', 'nan.Affirming', 'in', 'part', 'and', 'reversing', 'in', 'part', ',', 'we', 'address', '(', '1', ')', 'the', 'proper', 'role', 'of', 'the', 'trial', 'court', 'when', 'considering', 'a', 'pretrial', 'motion', 'to', 'dismiss', 'an', 'indictment', 'on', 'free', 'speech', 'grounds', ',', '(', '2', ')', 'the', 'nature', 'of', 'the', 'conduct', 'prohibited', 'by', 'the', 'Act', 'and', 'the', 'elements', 'of', 'proof', 'required', 'by', 'the', 'Act', ',', 'and', '(', '3', ')', 'the', 'federal', 'and', 'state', 'constitutional', 'limits', 'on', 'prosecutions', 'under', 'the', 'Act', '..', 'We', 'affirm', 'the', 'district', 'court', \"'s\", 'rulings', 'on', 'the', 'criminal', 'sexual', 'contact', 'and', 'child', 'abuse', 'counts', '..', 'Accordingly', ',', 'we', 'reverse', 'the', 'dismissal', 'of', 'counts', '18-23', 'and', 'remand', 'this', 'matter', 'to', 'the', 'district', 'court', 'for', 'reconsideration', 'of', 'these', 'charges', 'in', 'accordance', 'with', 'the', 'standards', 'outlined', 'in', 'this', 'opinion', '..', 'Having', 'failed', 'to', 'meet', 'statutory', 'requirements', ',', 'we', 'find', 'these', 'photos', 'must', 'be', 'dismissed', 'as', 'a', 'matter', 'of', 'law', 'and', 'affirm', 'the', 'court', \"'s\", 'decision', 'to', 'dismiss', 'any', 'related', 'counts', 'of', 'sexual', 'exploitation', '..', 'Accordingly', ',', 'we', 'affirm', 'the', 'district', 'court', \"'s\", 'ruling', 'that', 'any', 'charges', 'of', 'sexual', 'exploitation', 'that', 'are', 'based', 'on', 'exhibits', '37-38', 'and', '40-45', 'must', 'be', 'dismissed.We', 'reverse', 'that', 'decision', 'with', 'respect', 'to', 'any', 'charges', 'of', 'sexual', 'exploitation', 'that', 'are', 'based', 'on', 'exhibits', '39', 'and', '46', '..', 'Accordingly', ',', 'the', 'dismissal', 'of', 'counts', '29', 'and', '30', 'as', 'to', 'Rendleman', 'are', 'affirmed', '..', 'Accordingly', ',', 'we', 'reverse', 'the', 'district', 'court', \"'s\", 'decision', 'dismissing', 'these', 'photos', '..', 'We', ',', 'therefore', ',', 'reverse', 'the', 'district', 'court', 'judgment', 'refusing', 'to', 'dismiss', 'the', 'Cave', 'Shoot', 'Photos', 'to', 'the', 'extent', 'that', 'exhibits', '12-18', ',', '20', ',', 'and', '27-32', 'were', 'relied', 'on', 'to', 'sustain', 'charges', 'of', 'sexual', 'exploitation', '.', '.We', 'affirm', 'the', 'decision', 'to', 'prosecute', 'charges', 'of', 'sexual', 'exploitation', 'with', 'respect', 'to', 'exhibits', '19', 'and', '21-26', '..', 'To', 'summarize', ',', 'we', 'affirm', 'the', 'ruling', 'of', 'the', 'district', 'court', 'dismissing', 'the', 'Rio', 'Arriba', 'indictment', 'with', 'respect', 'to', 'sexual', 'exploita', 'tion', 'counts', '24', ',', '25', ',', '29', ',', '30', 'against', 'Rendleman', 'and', 'sexual', 'exploitation', 'counts', '18', 'and', '19', 'against', 'Barbosa', ',', 'except', 'as', 'to', 'any', 'counts', 'that', 'rely', 'on', 'exhibits', '39', 'and', '46', '.', 'As', 'to', 'counts', '18-23', ',', 'we', 'reverse', 'the', 'dismissal', 'of', 'all', 'counts', 'charging', 'sexual', 'exploitation', 'by', 'videotaping', 'the', 'children', 'and', 'remand', 'to', 'the', 'district', 'court', 'for', 'reconsideration', '...', 'We', 'reverse', 'in', 'part', 'the', 'district', 'court', \"'s\", 'decision', 'to', 'deny', 'the', 'motion', 'to', 'dismiss', 'the', 'Rio', 'Arriba', 'indictment', 'with', 'respect', 'to', 'counts', '1-3', 'and', '12-14', 'against', 'Rendleman', 'and', 'counts', '1-6', 'against', 'Barbosa', 'and', 'hereby', 'dismiss', 'those', 'counts', 'to', 'the', 'extent', 'that', 'they', 'rely', 'on', 'exhibits', '12-18', 'and', '27-32', '..', 'We', 'affirm', 'the', 'court', \"'s\", 'decision', 'as', 'to', 'any', 'remaining', 'counts', 'that', 'rely', 'on', 'exhibits', '19', 'and', '21-26', '.', '.We', 'also', 'reverse', 'the', 'dismissal', 'of', 'Santa', 'Fe', 'County', 'indictment', ',', 'count', '1', 'against', 'Rendleman', ',', 'but', 'affirm', 'the', 'court', \"'s\", 'decision', 'to', 'reject', 'grand', 'jury', 'exhibits', '3', 'and', '5', 'as', 'a', 'matter', 'of', 'law', '.', '.Accordingly', 'we', 'affirm', 'the', 'district', 'court', 'decision', 'with', 'respect', 'to', 'Rendleman', ',', 'counts', '4-11', ',', '15-17', ',', 'and', '28', 'and', 'with', 'respect', 'to', 'Barbosa', ',', 'counts', '7-17', 'and', '20', '..', 'This', 'matter', 'is', 'remanded', 'to', 'the', 'district', 'court', 'for', 'further', 'proceedings', 'not', 'inconsistent', 'herewith', '..', 'nan', '.', 'For', 'the', 'reasons', 'that', 'follow', ',', 'we', 'affirm', '..', 'Accordingly', ',', 'we', 'affirm', 'the', 'order', 'of', 'the', 'Workers', \"'\", 'Compensation', 'Administration', '..', 'nan.We', 'answer', 'the', 'question', 'in', 'the', 'negative', 'and', 'affirm', 'the', 'conviction', 'of', 'Defendant', 'Paul', 'Torres', 'in', 'this', 'case', '..', 'We', 'therefore', 'affirm', 'his', 'conviction', '..', 'nan', '.', 'Because', 'we', 'reverse', 'as', 'to', 'the', 'second', 'issue', ',', 'we', 'need', 'not', 'decide', 'the', 'first', 'issue', 'raised', 'by', 'Defendant', '..', 'Therefore', ',', 'we', 'reverse', 'the', 'convictions', ',', 'and', 'remand', 'for', 'a', 'new', 'trial', 'consistent', 'with', 'this', 'opinion', '..', 'nan.We', 'consolidate', 'the', 'issues', 'into', 'three', 'areas', 'for', 'discussion', 'and', 'affirm', '..', 'We', 'affirm', '..', 'nan.We', 'affirm', 'the', 'trial', 'court', \"'s\", 'decision', 'in', 'both', 'the', 'direct', 'and', 'cross-appeal', '..', 'Viewing', 'Plaintiffs', \"'\", 'contentions', 'in', 'that', 'light', ',', 'we', 'affirm', 'the', 'trial', 'court', \"'s\", 'decision', 'that', 'there', 'was', 'no', 'injury', ',', 'no', 'involuntary', 'removal', 'from', 'the', 'market', ',', 'no', 'unlawful', 'conduct', ',', 'and', 'thus', ',', 'no', 'antitrust', 'violation', '..', 'We', 'therefore', 'affirm', 'the', 'trial', 'court', \"'s\", 'decision', 'in', 'both', 'the', 'appeal', 'and', 'cross-appeal', '..', 'nan', '.', 'Because', 'we', 'find', 'that', 'the', 'exclusionary', 'rule', 'of', 'Article', 'II', ',', 'Section', '10', 'of', 'the', 'New', 'Mexico', 'Constitution', 'applies', 'in', 'probation', 'revocation', 'hearings', ',', 'we', 'reverse', 'and', 'remand', 'for', 'further', 'proceedings', '..', 'Because', 'the', 'trial', 'court', 'relied', 'upon', 'evidence', 'claimed', 'to', 'have', 'been', 'unlawfully', 'obtained', 'in', 'violation', 'of', 'Defendant', \"'s\", 'Article', 'II', ',', 'Section', '10', 'rights', ',', 'and', 'because', 'the', 'trial', 'court', 'did', 'not', 'indicate', 'whether', ',', 'if', 'the', 'other', 'evidence', 'is', 'determined', 'to', 'be', 'subject', 'to', 'exclusion', ',', 'Defendant', \"'s\", 'motor', 'vehicle', 'license', 'violations', ',', 'alone', ',', 'under', 'the', 'circumstances', 'warrant', 'revocation', 'of', 'Defendant', \"'s\", 'probation', ',', 'we', 'remand', 'to', 'the', 'trial', 'court', 'for', 'consideration', 'of', 'these', 'issues', '..', 'The', 'trial', 'court', \"'s\", 'order', 'revoking', 'Defendant', \"'s\", 'probation', 'is', 'reversed', ',', 'and', 'the', 'cause', 'is', 'remanded', 'with', 'instructions', 'to', 'redetermine', 'the', 'probation', 'status', 'and', 'for', 'further', 'proceedings', 'consistent', 'with', 'this', 'opinion', '..', 'nan.We', 'therefore', 'reverse', 'the', 'Court', 'of', 'Appeals.We', 'reverse', 'the', 'Court', 'of', 'Appeals', 'and', 'affirm', 'the', 'district', 'court', \"'s\", 'granting', 'of', 'the', 'State', \"'s\", 'petition', 'to', 'extend', '.', 'We', 'remand', 'this', 'ease', 'to', 'the', 'Court', 'of', 'Appeals', 'for', 'resolution', 'of', 'Defendant', \"'s\", 'remaining', 'claims', 'on', 'appeal', '..', 'nan', '.', 'We', 'affirm', '..', 'For', 'the', 'reasons', 'stated', 'above', ',', 'we', 'affirm', 'the', 'district', 'court', \"'s\", 'grant', 'of', 'Defendants', \"'\", 'motion', 'to', 'dismiss', 'for', 'failure', 'to', 'state', 'a', 'claim', 'upon', 'which', 'relief', 'can', 'be', 'granted', '..', 'nan.We', 'reverse', '..', 'We', 'reverse', 'and', 'remand', 'to', 'the', 'district', 'court', 'for', 'proceedings', 'consistent', 'with', 'this', 'opinion', '..', 'nan.We', 'affirm', 'the', 'Court', 'of', 'Appeals', '..', 'We', 'therefore', 'affirm', 'the', 'Court', 'of', 'Appeals', ',', 'and', 'remand', 'to', 'the', 'district', 'court', 'for', 'entry', 'of', 'an', 'order', 'affirming', 'the', 'Commission', \"'s\", 'September', '16', ',', '1998', 'order', 'upholding', 'the', 'Director', \"'s\", 'revision', 'of', 'Copar', \"'s\", 'mining', 'permit', 'for', 'Las', 'Conchas', 'to', 'include', 'the', 'El', 'Cajete', 'mining', 'unit', '..', 'nan.We', 'affirm', '..', 'We', 'affirm', '..', 'nan.We', 'affirm', '..', 'We', 'conclude', 'that', 'the', 'motion', 'to', 'suppress', 'and', 'the', 'motion', 'for', 'mistrial', 'were', 'properly', 'denied', 'and', 'affirm', 'Defendant', \"'s\", 'conviction', '..', 'nan.We', 'affirm', 'the', 'grant', 'of', 'summary', 'judgment', 'and', 'the', 'order', 'denying', 'GCM', \"'s\", 'motion', 'for', 'reconsideration', '..', 'Therefore', ',', 'we', 'affirm', 'the', 'denial', 'of', 'the', 'motion', 'for', 'reconsideration', '..', 'Therefore', ',', 'we', 'affirm', 'the', 'district', 'court', \"'s\", 'grant', 'of', 'summary', 'judgment', 'in', 'favor', 'of', 'Kentucky', 'Central', '..', 'Because', 'GCM', 'failed', 'to', 'demonstrate', 'an', 'abuse', 'of', 'discretion', 'by', 'the', 'trial', 'judge', ',', 'we', 'also', 'affirm', 'the', 'denial', 'of', 'the', 'motion', 'for', 'reconsideration', '..', 'nan.We', 'affirm', '..', 'Accordingly', ',', 'we', 'affirm', 'on', 'this', 'issue', 'and', 'hold', 'that', 'the', 'district', 'court', 'did', 'not', 'abuse', 'its', 'discretion', 'when', 'it', 'denied', 'Plaintiffs', 'motion', 'to', 'amend', '..', 'We', 'affirm', 'that', 'ruling', '..', 'We', 'affirm', 'the', 'district', 'court', \"'s\", 'ruling', 'that', 'the', 'Department', 'did', 'not', 'intentionally', 'discriminate', 'against', 'Plaintiff', '.', 'Because', 'we', 'affirm', 'on', 'the', 'grounds', 'articulated', 'by', 'the', 'district', 'court', ',', 'we', 'do', 'not', 'address', 'the', 'Department', \"'s\", 'estoppel', 'argument', '..', 'nan.Because', 'neither', 'party', 'entered', 'the', 'UM', 'Policy', 'into', 'the', 'record', 'before', 'the', 'district', 'court', 'dismissed', 'this', 'action', ',', 'we', 'are', 'unable', 'to', 'decide', 'this', 'issue', 'at', 'this', 'time', '..', 'However', ',', 'since', 'it', 'is', 'possible', 'that', 'the', 'later', 'date', 'is', 'the', 'correct', 'one', ',', 'we', 'reverse', 'the', 'district', 'court', \"'s\", 'dismissal', 'of', 'Ellis', \"'s\", 'complaint', 'for', 'failure', 'to', 'bring', 'suit', 'within', 'the', 'six-year', 'limitation', 'period', '..', 'We', 'remand', 'for', 'further', 'proceedings', 'consistent', 'with', 'this', 'opinion', '..', 'Ellis', 'appealed', ',', 'and', 'we', 'now', 'affirm', 'in', 'part', ',', 'reverse', 'in', 'part', ',', 'and', 'remand', '..', 'We', 'affirm', 'the', 'district', 'court', \"'s\", 'judgment', 'that', 'the', 'limitation', 'period', 'for', 'contract', 'actions', 'applies', 'to', 'this', 'case', '..', 'For', 'the', 'foregoing', 'reasons', ',', 'we', 'affirm', 'the', 'district', 'court', \"'s\", 'determination', 'that', 'the', 'limitation', 'period', 'of', 'six', 'years', 'for', 'contract', 'actions', 'applies', 'in', 'this', 'case', '..', 'Since', 'the', 'UM', 'Policy', 'may', 'show', 'that', 'Ellis', \"'s\", 'claim', 'against', 'Cigna', 'arose', 'within', 'the', 'six-year', 'limitation', 'period', ',', 'we', 'reverse', 'the', 'judgment', 'of', 'the', 'district', 'court', 'holding', 'that', 'the', 'statute', 'of', 'limitations', 'began', 'to', 'run', 'from', 'the', 'date', 'Ellis', 'was', 'shot', '..', 'Therefore', ',', 'we', 'also', 'reverse', 'the', 'district', 'court', \"'s\", 'dismissal', 'of', 'Ellis', \"'s\", 'suit', 'for', 'failure', 'to', 'state', 'a', 'claim', 'upon', 'which', 'relief', 'can', 'be', 'granted', '.', 'This', 'action', 'is', 'remanded', 'to', 'the', 'district', 'court', 'for', 'further', 'proceedings', 'consistent', 'with', 'this', 'opinion', ',', 'including', 'consideration', 'of', 'the', 'actual', 'UM', 'Policy', 'issued', 'by', 'Cigna', 'to', 'Ellis', '..', 'nan.We', 'affirm', 'the', 'orders', 'of', 'the', 'WCJ', '..', 'We', 'affirm', 'the', 'order', 'of', 'the', 'Workers', \"'\", 'Compensation', 'Judge', '..', 'nan.We', 'reverse', 'the', 'conviction', 'and', 'remand', 'for', 'a', 'new', 'trial', '..', 'For', 'the', 'foregoing', 'reasons', 'the', 'judgment', 'of', 'the', 'trial', 'court', 'is', 'reversed', ',', 'and', 'this', 'case', 'is', 'remanded', 'for', 'a', 'new', 'trial', 'on', 'the', 'bigamy', 'charge', '..', 'nan.We', 'reverse', 'the', 'summary', 'judgment', 'and', 'remand', 'for', 'further', 'proceedings.We', 'therefore', 'reverse', 'summary', 'judgment', '..', 'We', 'remand', 'for', 'further', 'consideration', 'of', 'the', 'factors', 'in', 'accordance', 'with', 'this', 'opinion', '..', 'Because', 'additional', 'facts', 'must', 'be', 'developed', 'to', 'determine', 'whether', 'Emeterio', 'was', 'a', 'resident', 'of', 'the', 'Apodacas', \"'\", 'home', ',', 'we', 'reverse', 'summary', 'judgment', '.', 'We', 'remand', 'for', 'further', 'proceedings', 'consistent', 'with', 'this', 'opinion', '..', 'nan', '.', 'Today', ',', 'we', 'reverse', 'only', 'the', 'portion', 'of', 'the', 'Court', 'of', 'Appeals', \"'\", 'decision', 'that', 'discusses', 'statements', 'against', 'penal', 'interest', 'because', 'it', 'applied', 'the', 'incorrect', 'standard', 'of', 'review', '.', 'Accordingly', ',', 'we', 'remand', 'to', 'the', 'district', 'court', 'as', 'ordered', 'by', 'the', 'Court', 'of', 'Appeals', '..', 'It', 'is', 'further', 'ordered', 'that', 'the', 'portion', 'of', 'the', 'Court', 'of', 'Appeals', \"'\", 'opinion', 'regarding', 'statements', 'against', 'penal', 'interest', 'in', 'State', 'v.', 'Benavidez', ',', '1999-NMCA-053', ',', '54-58', ',', '127', 'N.M.', '189', ',', '979', 'P.2d', '234', 'is', 'vacated', '..', 'nan', '.', 'We', 'affirm', 'the', 'court', \"'s\", 'arrearages', 'award', 'and', 'denial', 'of', 'attorney', 'fees', '.', 'We', 'reverse', 'the', 'court', \"'s\", 'denial', 'of', 'interest', '..', 'We', 'affirm', 'the', 'arrearages', 'award', 'and', 'the', 'denial', 'of', 'attorney', 'fees', '.', 'We', 'reverse', 'the', 'denial', 'of', 'interest', 'and', 'remand', 'for', 'a', 'determination', 'of', 'interest', 'due', 'Mother', 'on', 'the', 'arrearages', 'award', '..', 'nan', '.', 'We', 'therefore', 'affirm', 'the', 'trial', 'court', \"'s\", 'order', 'directing', 'that', 'the', 'mortgage', 'held', 'by', 'Mortgagee', 'was', 'satisfied', 'and', 'that', 'the', 'transcript', 'of', 'judgment', 'held', 'by', 'Judgment', 'Creditor', 'was', 'subject', 'to', 'the', 'exemption', 'and', 'should', 'be', 'released', '..', 'We', 'therefore', 'affirm', 'the', 'trial', 'court', \"'s\", 'order', 'allowing', 'Mortgagor', \"'s\", 'homestead', 'exemption', 'against', 'Judgment', 'Creditor', \"'s\", 'transcript', 'of', 'judgment', '..', 'nan.We', 'affirm', '..', 'We', 'therefore', 'affirm', 'the', 'WCJ', \"'s\", 'refusal', 'to', 'preclude', 'back', 'surgery', 'as', 'an', 'appropriate', 'treatment', 'in', 'this', 'case', '..', 'Since', 'we', 'have', 'rejected', 'Employer', \"'s\", 'judicial', 'estoppel', 'argument', 'on', 'this', 'issue', ',', 'we', 'affirm', 'the', 'WCJ', \"'s\", 'award', '..', 'Having', 'affirmed', 'all', 'of', 'the', 'points', 'awarded', 'by', 'the', 'WCJ', ',', 'we', 'also', 'affirm', 'the', '38', '%', 'disability', 'award', ',', 'calculated', 'by', 'multiplying', 'seven', '(', 'education', 'points', 'plus', 'skills', 'points', 'plus', 'vocational', 'pursuit', 'point', ')', 'times', 'four', '(', 'residual', 'physical', 'capacity', 'points', ')', ',', 'and', 'adding', 'the', 'result', 'of', 'twenty-eight', 'to', 'Worker', \"'s\", '10', '%', 'impairment', '...', 'Based', 'on', 'the', 'foregoing', ',', 'we', 'affirm', 'the', 'disability', 'award', 'to', 'Worker', ',', 'and', 'the', 'decision', 'to', 'allow', 'Worker', 'to', 'undergo', 'back', 'surgery', 'if', 'an', 'authorized', 'treating', 'physician', 'or', 'agreed-upon', 'expert', 'recommends', 'that', 'course', 'of', 'treatment', '..', 'The', 'compensation', 'order', 'entered', 'by', 'the', 'WCJ', 'is', 'therefore', 'affirmed', 'in', 'its', 'entirety', '..', 'nan.We', 'conclude', 'that', 'sufficient', 'evidence', 'supports', 'the', 'first', 'degree', 'kidnapping', 'conviction', 'and', 'that', 'the', 'kidnapping', 'statute', 'passes', 'constitutional', 'muster', '.', 'We', 'also', 'hold', 'that', 'double', 'jeopardy', 'has', 'been', 'violated', 'and', 'remand', 'to', 'vacate', 'the', 'enticement', 'conviction', 'and', 'one', 'of', 'the', 'attempted', 'CSCM', 'convictions', '..', 'Sufficient', 'evidence', 'supports', 'the', 'first', 'degree', 'kidnapping', 'conviction', '..', 'Therefore', ',', 'we', 'reverse', 'and', 'remand', 'to', 'allow', 'the', 'district', 'court', 'to', 'vacate', 'the', 'enticement-of-a-child', 'conviction', 'and', 'to', 'vacate', 'one', 'of', 'the', 'two', 'attempted', 'CSCM', ';', 'convictions', '..', 'nan.We', 'agree', 'and', 'affirm', '..', 'We', 'affirm', 'dismissal', 'of', 'the', 'indictment', 'with', 'prejudice', 'on', 'the', 'basis', 'that', 'under', 'the', 'evidence', 'presented', 'to', 'the', 'grand', 'jury', ',', 'there', 'was', 'no', 'probable', 'cause', 'to', 'charge', 'Defendant', 'with', 'criminal', 'damage', 'to', 'property', 'in', 'violation', 'of', 'Section', '30-15-1', ',', 'as', 'a', 'matter', 'of', 'law', '..', 'I', 'therefore', 'agree', 'with', 'the', 'majority', 'to', 'affirm', 'the', 'dismissal', 'of', 'the', 'indictment', 'and', 'suggest', 'that', 'if', 'my', 'reading', 'of', 'the', 'legislative', 'intent', 'is', 'correct', ',', 'legislative', 'action', 'is', 'necessary', '.', '.nan.Because', 'we', 'believe', 'genuine', 'issues', 'of', 'material', 'fact', 'preclude', 'judgment', 'as', 'a', 'matter', 'of', 'law', ',', 'we', 'reverse', 'and', 'remand', '..', 'We', 'now', 'reverse', '..', 'Accordingly', ',', 'we', 'reverse', 'the', 'grant', 'of', 'summary', 'judgment', 'by', 'the', 'district', 'court', 'and', 'the', 'affirmance', 'by', 'the', 'Court', 'of', 'Appeals', '.', 'We', 'remand', 'this', 'cause', 'for', 'trial', 'on', 'the', 'merits', 'of', 'DeVaney', \"'s\", 'claim', 'as', 'one', 'of', 'malicious', 'abuse', 'of', 'process', '..', 'nan.Because', 'the', 'jury', 'was', 'not', 'instructed', 'on', 'unlawfulness', 'in', 'these', 'terms', ',', 'we', 'reverse', '..', 'Accordingly', ',', 'we', 'reverse', 'the', 'judgment', 'of', 'conviction', 'under', 'Counts', 'I', ',', 'II', ',', 'and', 'III', 'and', 'remand', 'for', 'a', 'new', 'trial', 'under', 'proper', 'instructions', 'should', 'the', 'State', 'choose', 'to', 'exercise', 'its', 'prosecutorial', 'discretion', 'to', 'do', 'so', '..', 'Because', 'Padilla', \"'s\", 'other', 'convictions', 'for', 'assault', '(', 'Count', 'V', ')', 'and', 'battery', '(', 'Count', 'IV', ')', 'remain', 'in', 'force', ',', 'and', 'because', 'they', 'are', 'enhanced', 'by', 'his', 'habitual', 'offender', 'status', ',', 'Padilla', 'must', 'still', 'serve', 'his', 'sentence', 'of', 'nine', 'and', 'one-half', 'years', '..', 'nan.Not', 'persuaded', ',', 'we', 'affirm', '..', 'We', 'affirm', 'the', 'trial', 'court', \"'s\", 'denial', 'of', 'Child', \"'s\", 'motion', 'to', 'suppress', '..', 'nan.We', 'reverse', 'and', 'remand', 'to', 'the', 'trial', 'court', 'to', 'conduct', 'a', 'new', 'hearing', 'pursuant', 'to', 'Section', '31-9-1', '..', 'We', 'reverse', 'and', 'remand', 'to', 'the', 'trial', 'court', 'to', 'conduct', 'a', 'new', 'Section', '31-9-1.5', 'hearing', ',', 'disallowing', 'the', 'statements', 'made', 'after', 'Defendant', 'was', 'advised', 'of', 'her', 'Miranda', 'rights', ',', 'unless', 'the', 'State', 'wishes', 'the', 'trial', 'court', 'to', 'simply', 'rule', 'on', 'the', 'Section', '31-9-1.5', 'issues', 'on', 'the', 'basis', 'of', 'the', 'existing', 'evidence', ',', 'but', 'without', 'the', 'statements', 'we', 'hold', 'must', 'be', 'suppressed', '.', '.We', 'reverse', 'and', 'remand', 'to', 'the', 'trial', 'court', 'to', 'conduct', 'a', 'new', 'Section', '31-9-1.5', 'hearing', 'consistent', 'with', 'this', 'opinion', '..', 'nan.We', 'affirm', '..', 'We', 'affirm', 'the', 'district', 'court', \"'s\", 'dismissal', 'of', 'the', 'claims', '..', 'nan.We', 'affirm', 'and', 'address', 'the', 'nature', 'of', 'the', 'fiduciary', 'duties', 'shareholders', 'and', 'directors', 'of', 'close', 'corporations', 'owe', 'to', 'each', 'other', '..', 'Finding', 'no', 'error', 'in', 'the', 'trial', 'court', \"'s\", 'submission', 'of', 'punitive', 'damages', 'to', 'the', 'jury', ',', 'and', 'finding', 'substantial', 'evidence', 'to', 'support', 'the', 'jury', \"'s\", 'verdict', ',', 'we', 'affirm', '..', 'nan.We', 'vacate', 'the', 'district', 'court', \"'s\", 'order', 'denying', 'De', 'fendant', \"'s\", 'motion', 'to', 'dismiss', 'and', 'remand', 'for', 'further', 'proceedings', 'on', 'the', 'issue', 'of', 'manifest', 'necessity', '..', 'Accordingly', ',', 'we', 'reverse', 'the', 'district', 'court', \"'s\", 'order', 'denying', 'Defendant', \"'s\", 'motion', 'to', 'dismiss', 'and', 'remand', 'for', 'reconsideration', 'of', 'the', 'merits', 'of', 'the', 'motion', '..', 'For', 'the', 'reasons', 'stated', 'above', ',', 'we', 'reverse', 'the', 'district', 'court', \"'s\", 'denial', 'of', 'defendant', \"'s\", 'motion', 'to', 'dismiss', 'and', 'remand', 'for', 'reconsideration', 'consistent', 'with', 'this', 'opinion', '..', 'nan.We', 'affirm', '..', 'We', 'affirm', 'the', 'decision', 'of', 'the', 'district', 'court', 'suppressing', 'Pereyra', \"'s\", 'testimony', '..', 'nan', '.', 'Therefore', ',', 'we', 'reverse', 'the', 'order', 'dismissing', 'the', 'claim', ',', 'and', 'we', 'remand', 'for', 'further', 'proceedings', 'on', 'the', 'merits', 'of', 'the', 'claim', '..', 'Therefore', ',', 'we', 'reverse', 'the', 'order', 'and', 'the', 'affirmance', 'by', 'the', 'Court', 'of', 'Appeals', ',', 'and', 'we', 'remand', 'for', 'a', 'determination', 'of', 'Torres', \"'s\", 'entitlement', 'to', 'workers', \"'\", 'compensation', 'disability', 'benefits', '..', 'nan', '.', 'We', 'also', 'affirm', 'the', 'award', 'of', 'attorney', 'fees', 'to', 'Autos', 'II', 'as', 'a', 'sanction', 'against', 'Avlin', 'for', 'non-compliance', 'with', 'Rule', '1-056', '(', 'D', ')', ',', 'NMRA', '1997', '..', 'We', 'determine', 'that', 'the', 'description', 'of', 'the', 'collateral', 'was', 'inadequate', 'and', 'affirm', 'the', 'judgment', 'of', 'the', 'trial', 'court', 'as', 'to', 'this', 'issue', '..', 'We', 'affirm', 'the', 'award', 'of', '$', '100', 'against', 'Avlin', 'as', 'being', 'within', 'the', 'inherent', 'authority', 'of', 'the', 'district', 'court', '..', 'We', 'affirm', 'the', 'judgment', 'in', 'favor', 'of', 'Autos', 'II', 'declaring', 'its', 'rights', 'in', 'the', 'three', 'vehicles', 'as', 'against', 'Avlin', \"'s\", 'rights', '..', 'We', 'affirm', 'the', 'award', 'of', 'sanctions', 'against', 'Avlin', 'as', 'within', 'the', 'district', 'court', \"'s\", 'inherent', 'powers', 'and', 'within', 'its', 'discretion', '..', 'nan.We', 'reverse', 'and', 'grant', 'summary', 'judgment', 'based', 'on', 'that', 'exclusion', '..', 'We', 'reverse', 'the', 'district', 'court', \"'s\", 'grant', 'of', 'summary', 'judgment', 'to', 'Northbrook', 'and', 'Allstate', 'and', 'the', 'denial', 'of', 'summary', 'judgment', 'to', 'Wausau', '..', 'nan', '.', 'We', 'conclude', 'the', 'trial', 'court', 'erred', 'and', 'reverse', 'and', 'remand', 'for', 'a', 'redetermination', 'of', 'child', 'support', ',', 'as', 'well', 'as', 'attorney', 'fees', '..', 'In', 'light', 'of', 'our', 'reversal', 'and', 'remand', 'for', 'redetermination', 'of', 'child', 'support', ',', 'we', 'also', 'reverse', 'the', 'award', 'of', 'attorney', 'fees', '..', 'nan.We', 'therefore', 'affirm', 'the', 'Court', 'of', 'Appeals', '..', 'We', 'remand', 'for', 'further', 'proceedings', 'consistent', 'with', 'this', 'opinion', '..', 'For', 'these', 'reasons', ',', 'we', 'affirm', 'the', 'Court', 'of', 'Appeals', '..', 'The', 'report', ',', 'testimony', ',', 'and', 'testing', 'should', 'be', 'considered', 'on', 'remand', '..', 'nan.Accordingly', ',', 'we', 'reverse', 'and', 'remand', 'this', 'case', 'to', 'state', 'district', 'court', 'to', 'determine', 'whether', 'Navajo', 'law', 'applies', 'to', 'Belone', \"'s\", 'wrongful', 'repossession', 'counterclaim', '..', 'We', 'overrule', 'Chischilly', 'in', 'accordance', 'with', 'the', 'Supreme', 'Court', \"'s\", 'holdings', 'that', 'Indian', 'nations', 'have', 'civil', ',', 'as', 'well', 'as', 'criminal', ',', 'jurisdiction', 'over', 'allotted', 'Indian', 'lands', '.', 'We', 'remand', 'this', 'case', 'to', 'state', 'district', 'court', 'for', 'further', 'proceedings', 'consistent', 'with', 'this', 'opinion', '..', 'nan.We', 'hold', 'that', 'the', 'matter', 'must', 'be', 'dismissed', 'be', 'cause', 'the', 'Plaintiffs', 'can', 'not', 'join', 'certain', 'indispensable', 'parties', ',', 'namely', 'the', 'various', 'Tribes', 'and', 'Pueblos', 'that', 'have', 'gaming', 'compacts', 'with', 'the', 'state', '.', 'We', 'also', 'reverse', 'the', 'district', 'court', \"'s\", 'grant-of', 'standing', 'to', 'Plaintiffs', 'under', 'the', 'great', 'public', 'importance', 'doctrine', ',', 'and', 'hold', 'that', 'mandamus', 'is', 'not', 'proper', 'in', 'the', 'circumstances', 'of', 'this', 'case', '...', 'After', 'a', 'careful', 'review', 'of', 'the', 'Plaintiffs', \"'\", 'amended', 'complaint', 'and', 'all', 'four', 'Rule', '1-019', '(', 'B', ')', 'factors', ',', 'a', 'review', 'that', 'is', 'informed', 'by', 'our', 'recent', 'precedent', 'on', 'the', 'issue', 'of', 'indispensable', 'parties', 'in', 'Indian', 'gaming', 'cases', ',', 'we', 'reverse', 'the', 'district', 'court', \"'s\", 'denial', 'of', 'the', 'motions', 'to', 'dismiss', 'for', 'failure', 'to', 'join', 'indispensable', 'parties', '..', 'Hence', ',', 'on', 'all', 'of', 'the', 'foregoing', 'claims', ',', 'where', \"'Plaintiffs\", 'have', 'asserted', 'only', 'an', 'abstract', 'right', 'owed', 'to', 'the', 'people', 'of', 'the', 'state', 'as', 'a', 'whole', ',', 'we', 'affirm', 'the', 'district', 'court', \"'s\", 'conclusion', 'that', 'Plaintiffs', '``', 'do', 'not', 'have', 'standing', 'based', 'upon', 'direct', 'and', 'personal', 'harm', '.', '``', '.We', 'conclude', 'that', 'the', 'indispensability', 'rule', 'announced', 'in', 'Johnson', 'does', 'not', 'apply', 'to', 'this', 'case', ',', 'and', 'we', 'reverse', 'the', 'district', 'court', \"'s\", 'decision', 'to', 'confer', 'standing', 'on', 'Plaintiffs', 'based', 'on', 'great', 'public', 'importance', '.', '.Hence', ',', 'we', 'also', 'reverse', 'the', 'district', 'court', \"'s\", 'denial', 'of', 'Defendants', \"'\", 'Rule', '1-019', 'motions', 'and', 'require', 'that', 'this', 'action', 'be', 'dismissed', '..', 'nan', '.', 'This', 'Court', 'declines', 'to', 'abate', 'this', 'ease', 'ab', 'initio', ',', 'upholding', 'the', 'conviction', 'and', 'concluding', 'that', 'no', 'error', 'occurred', 'warranting', 'relief', '...', 'Second', ',', 'we', 'affirm', 'the', 'jury', \"'s\", 'verdict', ',', 'concluding', 'that', 'there', 'is', 'no', 'requirement', 'of', 'jury', 'unanimity', 'on', 'a', 'single', 'theory', 'of', 'first', 'degree', 'murder', 'where', 'alternative', 'theories', 'of', 'first', 'degree', 'murder', 'are', 'submitted', 'and', 'where', 'substantial', 'evidence', 'exists', 'in', 'the', 'record', 'supporting', 'at', 'least', 'one', 'of', 'the', 'theories', 'presented', '..', 'We', 'also', 'affirm', 'the', 'conviction', ',', 'holding', 'that', 'the', 'trial', 'court', 'correctly', 'instructed', 'the', 'jury', 'that', 'unanimity', 'is', 'not', 'required', 'as', 'to', 'one', 'particular', 'theory', 'of', 'first', 'degree', 'murder', 'where', 'alternative', 'theories', 'are', 'presented', 'and', 'substantial', 'evidence', 'exists', 'to', 'support', 'at', 'least', 'one', 'of', 'the', 'theories', 'of', 'the', 'crime', '..', 'nan.We', 'affirm', 'in', 'part', ',', 'reverse', 'in', 'part', ',', 'and', 'remand', 'to', 'the', 'district', 'court', 'with', 'instructions', 'to', 'appoint', 'an', 'attorney', 'or', 'attorney', 'guardian', 'ad', 'litem', 'to', 'represent', 'the', 'child', \"'s\", 'interest', 'in', 'the', 'proceeding', 'still', 'pending', 'before', 'the', 'Panel', 'and', ',', 'if', 'necessary', ',', 'in', 'the', 'district', 'court', '..', 'Accordingly', ',', 'we', 'remand', 'to', 'the', 'district', 'court', 'for', 'the', 'limited', 'purpose', 'of', 'appointment', 'of', 'an', 'attorney', 'or', 'attorney', 'guardian', 'ad', 'litem', 'for', 'the', 'minor', 'child', 'to', 'represent', 'him', 'in', 'the', 'Panel', 'proceedings', 'and', ',', 'if', 'necessary', ',', 'in', 'the', 'court', 'proceedings', 'below', '..', 'nan.Accordingly', ',', 'we', 'affirm', 'in', 'part', ',', 'reverse', 'in', 'part', ',', 'and', 'remand', '..', 'We', 'affirm', 'the', 'trial', 'court', \"'s\", 'grant', 'of', 'Allstate', \"'s\", 'motion', 'for', 'summary', 'judgment', 'that', 'the', 'tortfeasors', \"'\", 'liability', 'payments', 'totaling', '$', '75,000', 'should', 'be', 'offset', 'against', 'Martinez', \"'s\", 'stacked', 'underinsured', 'motorist', 'coverage', 'of', '$', '100,000', '..', 'We', 'reverse', 'that', 'portion', 'of', 'the', 'summary', 'judgment', 'that', \"'\", 'eliminated', 'Martinez', \"'s\", 'remaining', 'underinsured', 'motorist', 'coverage', 'of', '$', '25,000', 'on', 'the', 'basis', 'of', 'the', 'household', 'exemption', '.', 'We', 'remand', 'this', 'cause', 'to', 'the', 'trial', 'court', 'for', 'further', 'proceedings', 'in', 'accordance', 'with', 'this', 'opinion', '..', 'nan.We', 'affirm', 'the', 'trial', 'court', 'on', 'all', 'issues', 'except', 'the', 'sentencing', 'of', 'Defendant', 'for', 'both', 'felony', 'murder', 'and', 'intentional', 'child', 'abuse', 'resulting', 'in', 'death', ';', 'therefore', ',', 'we', 'need', 'not', 'address', 'the', 'issue', 'of', 'whether', 'cumulative', 'error', 'deprived', 'Defendant', 'of', 'a', 'fair', 'trial', '..', 'Because', 'we', 'affirm', 'Defendant', \"'s\", 'felony', 'murder', 'conviction', ',', 'we', 'remand', 'this', 'case', 'to', 'the', 'district', 'court', 'with', 'the', 'instruction', 'that', 'Defendant', \"'s\", 'conviction', 'for', 'intentional', 'child', 'abuse', 'resulting', 'in', 'death', 'be', 'vacated', '..', 'We', 'affirm', 'Defendant', \"'s\", 'convictions', 'for', 'felony', 'murder', 'and', 'criminal', 'sexual', 'contact', 'in', 'the', 'third', 'degree', '..', 'We', 'remand', 'this', 'case', 'to', 'the', 'district', 'court', 'with', 'the', 'directions', 'that', 'Defendant', \"'s\", 'conviction', 'for', 'intentional', 'child', 'abuse', 'resulting', 'in', 'death', 'be', 'vacated', ',', 'and', 'that', 'Defendant', \"'s\", 'judgment', 'and', 'sentence', 'should', 'be', 'amended', 'to', 'reflect', 'sentences', 'for', 'both', 'criminal', 'sexual', 'contact', 'of', 'a', 'minor', 'and', 'felony', 'murder', '..', 'nan.We', 'affirm', 'the', 'district', 'court.We', 'affirm', 'the', 'district', 'court', '..', 'nan.We', 'conclude', 'that', 'Coffin', \"'s\", 'arguments', 'are', 'without', 'merit', 'and', 'therefore', 'affirm', 'his', 'convictions', '..', 'We', 'affirm', 'Coffin', \"'s\", 'convictions', '..', 'nan.In', 'an', 'issue', 'of', 'first', 'impression', 'in', 'New', 'Mexico', ',', 'we', 'hold', 'that', 'the', 'Constitution', 'grants', 'the', 'state', 'no', 'such', 'right', ',', 'and', 'we', 'reverse', '..', 'Accord', 'ingly', ',', 'the', 'order', 'granting', 'the', 'writ', 'is', 'reversed', 'and', 'the', 'writ', 'is', 'hereby', 'quashed', '..', 'nan.We', 'reverse', 'because', 'we', 'conclude', 'that', 'the', '``', 'general/specific', 'rule', \"''\", 'is', 'inapplicable', '..', 'We', 'reverse', 'the', 'district', 'court', \"'s\", 'dismissal', 'of', 'the', 'amended', 'criminal', 'complaint', 'charging', 'Defendant', 'with', 'criminal', 'damage', 'to', 'property', 'and', 'remand', 'for', 'proceedings', 'consistent', 'with', 'this', 'opinion', '..', 'nan.We', 'therefore', 'reverse', '..', 'We', 'therefore', 'reverse', 'and', 'remand', 'to', 'the', 'trial', 'court', 'with', 'directions', 'to', 'consider', 'the', 'petition', 'as', 'timely', '..', 'nan.We', 'affirm', 'the', 'decision', 'of', 'the', 'trial', 'court', 'with', 'respect', 'to', 'the', 'reasonableness', 'of', 'the', 'initial', 'search', 'of', 'the', 'front', 'seat', 'and', 'floor', 'area', 'of', 'Defendant', \"'s\", 'vehicle', 'and', 'the', 'seizure', 'of', 'marijuana', 'and', 'drug', 'paraphernalia', 'found', 'as', 'a', 'result', 'of', 'that', 'search', '.', 'However', ',', 'we', 'reverse', 'the', 'ruling', 'of', 'the', 'trial', 'court', 'which', 'denied', 'suppression', 'of', 'other', 'drugs', 'found', 'as', 'a', 'result', 'of', 'the', 'expanded', 'warrantless', 'search', 'of', 'Defendant', \"'s\", 'vehicle', 'for', 'drug', 'evidence', '..', 'We', 'affirm', 'the', 'trial', 'court', \"'s\", 'ruling', 'that', 'the', 'discovery', 'and', 'seizure', 'of', 'the', 'marijuana', 'and', 'drug', 'paraphernalia', 'on', 'the', 'floor', 'of', 'Defendant', \"'s\", 'vehicle', 'was', 'reasonable', '..', 'The', 'trial', 'court', \"'s\", 'decision', 'is', 'affirmed', 'with', 'respect', 'to', 'the', 'seizure', 'of', 'the', 'marijuana', 'and', 'drug', 'paraphernalia', 'found', 'on', 'the', 'floor', 'of', 'Defendant', \"'s\", 'vehicle', '.', 'With', 'respect', 'to', 'the', 'seizure', 'of', 'the', 'cocaine', 'found', 'within', 'the', 'hole', 'in', 'the', 'dashboard', 'of', 'Defendant', \"'s\", 'vehicle', ',', 'we', 'reverse', 'and', 'remand', 'for', 'entry', 'of', 'an', 'amended', 'order', 'suppressing', 'other', 'drugs', 'found', 'in', 'Defendant', \"'s\", 'vehicle', 'following', 'the', 'expanded', 'warrantless', 'search', 'of', 'the', 'vehicle', 'for', 'drug', 'evidence', '..', 'nan', '.', 'We', 'affirm', 'on', 'issues', 'one', 'and', 'five', 'and', 'reverse', 'on', 'issue', 'two', '..', 'We', 'affirm', 'the', 'trial', 'court', \"'s\", 'decision', 'that', 'forfeiture', 'was', 'not', 'unconscionable', ',', 'and', 'we', 'also', 'hold', 'that', 'the', 'trial', 'court', 'did', 'not', 'abuse', 'its', 'discretion', 'in', 'denying', 'equitable', 'relief', 'to', 'Buyer', '..', 'Because', 'as', 'a', 'matter', 'of', 'law', 'Seller', 'is', 'prohibited', 'from', 'recovering', 'both', 'the', 'land', 'and', 'his', 'expectancy', 'damages', ',', 'we', 'reverse', 'the', 'trial', 'court', '..', 'We', 'affirm', 'the', 'trial', 'court', 'as', 'to', 'the', 'forfeiture', 'and', 'the', 'award', 'of', 'attorney', 'fees', 'under', 'the', 'UPA', '.', 'We', 'reverse', 'the', 'trial', 'court', 'as', 'to', 'the', 'recovery', 'of', 'contract', 'damages', ',', 'and', 'we', 'deny', 'Seller', \"'s\", 'request', 'for', 'attorney', 'fees', 'on', 'appeal', '..', 'nan.Accordingly', ',', 'we', 'reverse', '..', 'We', 'reverse', '..', 'We', 'therefore', 'reverse', 'the', 'order', 'of', 'the', 'district', 'court', 'vacating', 'the', 'Navajo', 'Tribal', 'Court', \"'s\", 'award', 'of', 'punitive', 'damages', 'and', 'remand', 'with', 'instructions', 'for', 'the', 'district', 'court', 'to', 'enforce', 'the', 'entire', 'judgment', '..', 'nan.The', 'Court', 'of', 'Appeals', 'having', 'decided', 'differently', ',', 'we', 'now', 'reverse', 'and', 'affirm', 'the', 'convictions', 'below', '..', 'Therefore', ',', 'we', 'affirm', 'the', 'district', 'court', 'and', 'reverse', 'the', 'Court', 'of', 'Appeals', '..', 'nan.We', 'determine', 'that', 'the', 'WCJ', 'incorrectly', 'applied', 'the', 'law', 'to', 'the', 'facts', 'of', 'this', 'ease', ',', 'and', 'therefore', 'reverse', 'and', 'remand', '..', 'Accordingly', ',', 'we', 'reverse', 'and', 'remand', 'with', 'instructions', 'for', 'the', 'WCJ', 'to', 'apply', 'the', 'standard', 'outlined', 'herein', 'to', 'the', 'facts', 'of', 'record', 'and', 'recalculate', 'Worker', \"'s\", 'permanent', 'partial', 'disability', 'in', 'conformity', 'therewith.nan.We', 'reverse', 'and', 'remand', 'to', 'the', 'district', 'court', 'with', 'instructions', 'to', 'enter', 'a', 'judgment', 'granting', 'Allianz', \"'s\", 'motion', 'to', 'compel', 'arbitration', '..', 'We', 'reverse', 'the', 'judgment', 'of', 'the', 'district', 'court', 'and', 'remand', 'for', 'proceedings', 'not', 'inconsistent', 'with', 'this', 'opinion', '..', 'nan.nan.We', 'consolidate', 'the', 'appeals', 'for', 'purposes', 'of', 'this', 'opinion', 'and', 'affirm', '..', 'Summary', 'judgment', 'in', 'favor', 'of', 'St.', 'Paul', 'in', 'each', 'case', 'is', 'affirmed', '..', 'nan', '.', 'We', 'also', 'affirm', 'the', 'trial', 'court', \"'s\", 'decision', 'to', 'increase', 'Defendant', \"'s\", 'sentence', 'for', 'criminal', 'sexual', 'penetration', 'because', 'of', 'aggravating', 'circumstances', '..', 'Therefore', ',', 'we', 'affirm', 'the', 'district', 'court', \"'s\", 'conclusion', 'that', 'Defendant', \"'s\", 'constitutional', 'right', 'to', 'a', 'speedy', 'trial', 'was', 'not', 'violated', 'in', 'this', 'case', '..', 'We', 'therefore', 'affirm', 'the', 'trial', 'court', \"'s\", 'decision', 'to', 'enhance', 'Defendant', \"'s\", 'sentence', 'by', 'three', 'years', 'because', 'of', 'aggravating', 'circumstances', '..', 'For', 'the', 'foregoing', 'reasons', ',', 'we', 'affirm', 'Defendant', \"'s\", 'convictions', 'and', 'the', 'enhancement', 'of', 'his', 'sentence', 'for', 'aggravating', 'circumstances.nan.We', 'reverse', 'and', 'remand', 'for', 'further', 'proceedings', 'consistent', 'with', 'this', 'opinion', '.', '.Consequently', ',', 'we', 'reverse', 'the', 'district', 'court', \"'s\", 'judgment', 'and', 'remand', 'to', 'the', 'hearing', 'officer', 'to', 'clarify', 'the', 'findings', 'concerning', 'the', 'amount', 'of', 'compensation', 'to', 'be', 'awarded', 'under', 'Subsection', 'B', ',', 'and', 'the', 'amount', 'of', 'damages', 'to', 'be', 'awarded', 'under', 'Subsection', 'C', '..', 'For', 'the', 'foregoing', 'reasons', 'we', 'reverse', 'the', 'district', 'court', ',', 'and', 'remand', 'to', 'the', 'hearing', 'officer', 'for', 'proceedings', 'consistent', 'with', 'this', 'opinion', '..', 'nan', '.', 'Thus', ',', 'we', 'disavow', 'the', 'natural', 'and', 'probable', 'consequence', 'standard', 'of', 'accessory', 'liability', 'and', 'affirm', 'the', 'intent', 'requirement', 'New', 'Mexico', 'has', 'embodied', 'in', 'its', 'uniform', 'jury', 'instructions', 'for', 'accessory', 'liability', '..', 'Applying', 'UJI', '14-2822', ',', 'we', 'affirm', 'the', 'Court', 'of', 'Appeals', \"'\", 'holding', 'that', 'a', 'rational', 'jury', 'could', 'find', ',', 'based', 'on', 'the', 'evidence', 'presented', 'at', 'trial', ',', 'that', 'Defendant', 'is', 'guilty', 'of', 'accessory', 'to', 'assault', 'with', 'intent', 'to', 'commit', 'a', 'violent', 'felony', '(', 'robbery', ')', ',', 'aggravated', 'battery', ',', 'and', 'false', 'imprisonment', '..', 'We', 'affirm', 'the', 'Court', 'of', 'Appeals', \"'\", 'holding', 'that', 'the', 'evidence', 'presented', 'at', 'trial', 'was', 'sufficient', 'to', 'permit', 'a', 'rational', 'jury', 'to', 'find', 'Defendant', 'was', 'a', 'co-conspirator', 'and', 'accessory', 'to', 'each', 'of', 'the', 'charged', 'offenses', '..', 'However', ',', 'to', 'the', 'extent', 'the', 'opinion', 'of', 'the', 'Court', 'of', 'Appeals', 'expands', 'the', 'standard', 'for', 'a', 'finding', 'of', 'accessory', 'liability', 'under', 'the', 'natural', 'and', 'probable', 'consequence', 'standard', ',', 'we', 'reverse', 'and', 'instruct', 'the', 'trial', 'court', 'to', 'apply', 'UJI', '14-2822', 'as', 'it', 'exists', '..', 'Therefore', ',', 'this', 'case', 'is', 'remanded', 'for', 're-trial', ',', 'pursuant', 'to', 'the', 'Court', 'of', 'Appeals', \"'\", 'holding', 'that', 'the', 'prosecutor', 'improperly', 'commented', 'at', 'trial', 'on', 'Defendant', \"'s\", 'post-arrest', 'silence', '..', 'nan.We', 'reverse', 'Defendant', \"'s\", 'conviction', 'for', 'abuse', 'of', 'a', 'child', 'and', 'remand', 'for', 're-sentencing', '.', 'We', 'affirm', 'his', 'conviction', 'for', 'criminal', 'sexual', 'penetration', ',', 'and', 'affirm', 'the', 'trial', 'court', 'in', 'all', 'other', 'respects', '..', 'We', 'find', 'error', 'as', 'to', 'the', 'conviction', 'for', 'child', 'abuse', ',', 'and', 'reverse', 'that', 'conviction', 'herein', '..', 'We', 'reverse', 'Defendant', \"'s\", 'conviction', 'for', 'child', 'abuse', 'by', 'endangerment', ',', 'affirm', 'the', 'trial', 'court', 'in', 'all', 'other', 'respects', ',', 'and', 'remand', 'for', 're-sentencing', '..', 'nan.We', 'reverse', 'the', 'partial', 'summary', 'judgment', 'and', 'remand', 'for', 'further', 'proceedings', 'on', 'the', 'oral-contract', 'claim', '.', 'We', 'affirm', 'the', 'judgment', 'in', 'favor', 'of', 'RRA', 'and', 'Rashkin', '(', 'Defendants', ')', 'on', 'the', 'written-contract', 'claim', '..', 'We', 'therefore', 'reverse', 'the', 'partial', 'summary', 'judgment', 'and', 'remand', 'for', 'further', 'proceedings', 'on', 'the', 'oral-contract', 'claim', '..', 'We', 'therefore', 'affirm', 'the', 'district', 'court', \"'s\", 'judgment', 'pursuant', 'to', 'Rule', '1-041', '(', 'B', ')', '..', 'For', 'the', 'above', 'reasons', ',', 'we', 'affirm', 'the', 'judgment', 'in', 'favor', 'of', 'RRA', 'and', 'Rashkin', 'on', 'the', 'written-contract', 'claim', '.', 'With', 'respect', 'to', 'the', 'oral-contract', 'claim', ',', 'we', 'reverse', 'the', 'partial', 'summary', 'judgment', 'and', 'remand', 'for', 'further', 'proceedings', '..', 'nan.We', 'affirm', '..', 'For', 'the', 'foregoing', 'reasons', 'we', 'affirm', 'Defendant', \"'s\", 'convictions', 'for', 'second', 'degree', 'murder', 'as', 'an', 'accessory', ',', 'aggravated', 'assault', 'with', 'a', 'deadly', 'weapon', ',', 'tampering', 'with', 'evidence', 'as', 'an', 'accessory', ',', 'and', 'aggravated', 'battery', 'with', 'a', 'deadly', 'weapon', '..', 'nan.We', 'affirm', '..', 'We', 'affirm', 'the', 'district', 'court', \"'s\", 'decision', 'that', 'the', 'County', \"'s\", 'denial', 'of', 'the', 'requested', 'materials', 'was', 'unreasonable', 'and', 'a', 'violation', 'of', 'IPRA', '.', 'We', ',', 'thus', ',', 'also', 'affirm', 'the', 'award', 'of', 'attorney', 'fees', '..', 'nan', '.', 'We', 'hold', 'that', 'the', 'district', 'court', 'erred', ',', 'and', 'we', 'reverse', '..', 'The', 'decision', 'of', 'the', 'district', 'court', 'is', 'reversed', '..', 'nan.We', 'affirm', 'the', 'Judgment', 'appointing', 'Father', 'as', 'personal', 'representative', 'of', 'Kirsten', \"'s\", 'estate', '.', 'We', 'reverse', 'the', 'district', 'court', \"'s\", 'determination', 'that', 'Father', 'is', 'the', 'sole', 'Section', '41-2-3', 'beneficiary', 'of', 'the', 'action', 'for', 'Kirsten', \"'s\", 'wrongful', 'death', '.', 'We', 'affirm', 'the', 'district', 'court', \"'s\", 'determination', 'that', 'Father', 'has', 'not', 'been', 'divested', 'of', 'his', 'interest', 'in', 'any', 'recovery', 'for', 'Kirsten', \"'s\", 'wrongful', 'death', '..', 'nan.We', 'reverse', 'the', 'trial', 'court', \"'s\", 'order', 'dismissing', 'the', 'petition', '..', 'Because', 'the', 'February', '5', ',', '1996', ',', 'trial', 'setting', 'did', 'not', 'violate', 'the', 'time', 'limits', 'in', 'Rule', '10-226', '(', 'A', ')', ',', 'we', 'reverse', 'the', 'order', 'of', 'the', 'children', \"'s\", 'court', 'that', 'granted', 'Child', \"'s\", 'motion', 'to', 'dismiss', '..', 'nan.We', 'affirm', '..', 'Based', 'upon', 'the', 'foregoing', ',', 'we', 'affirm', 'Defendant', \"'s\", 'conviction', '..', 'nan.We', 'affirm', '..', 'We', 'affirm', 'Branchal', ':', 'a', 'self', 'defense', 'instruction', 'is', 'required', '``', 'whenever', 'a', 'defendant', 'presents', 'evidence', 'sufficient', 'to', 'allow', 'reasonable', 'minds', 'to', 'differ', 'as', 'to', 'all', 'elements', 'of', 'the', 'defense', '.', '``', '.Defendant', \"'s\", 'convictions', 'for', 'first', 'degree', 'murder', ',', 'false', 'imprisonment', ',', 'and', 'tampering', 'with', 'evidence', 'are', 'affirmed', '..', 'nan.Concluding', 'that', 'Defendant', 'was', 'convicted', 'of', 'CSCM', 'and', 'attempted', 'CSPM', 'based', 'on', 'unitary', 'conduct', 'and', 'that', 'the', 'legislature', 'has', 'not', 'clearly', 'expressed', 'an', 'intention', 'for', 'multiple', 'punishments', 'for', 'unitary', 'conduct', 'that', 'violates', 'NMSA', '1978', ',', 'Section', '30-9-11', '(', '0', '(', '2001', ')', ',', 'and', 'NMSA', '1978', ',', 'Section', '30-9-13', '(', 'A', ')', '(', '2001', ')', ',', 'we', 'reverse', 'and', 'remand', 'to', 'the', 'trial', 'court', 'with', 'instructions', 'to', 'vacate', 'Defendant', \"'s\", 'conviction', 'and', 'sentence', 'for', 'CSCM', '..', 'We', 'affirm', 'in', 'all', 'other', 'respects', '..', 'We', 'reverse', 'and', 'remand', 'to', 'the', 'trial', 'court', 'with', 'instructions', 'to', 'vacate', 'Defendant', \"'s\", 'conviction', 'and', 'sentence', 'for', 'CSCM', '.', 'We', 'affirm', 'in', 'all', 'other', 'respects', '..', 'nan', '.', 'Concluding', 'that', 'the', 'Bassetts', 'failed', 'to', 'successfully', 'sever', 'the', 'water', 'rights', 'from', 'the', 'land', 'prior', 'to', 'sale', 'of', 'the', 'property', ',', 'and', 'concluding', 'that', 'adverse', 'possession', 'of', 'water', 'rights', 'can', 'not', 'occur', 'in', 'New', 'Mexico', ',', 'we', 'reverse', 'and', 'remand', 'for', 'trial', 'on', 'the', 'merits', 'on', 'Turner', \"'s\", 'action', 'to', 'quiet', 'title', ',', 'and', 'for', 'trial', 'on', 'the', 'merits', 'of', 'Turner', \"'s\", 'remaining', 'claims', 'for', 'restitution', 'and', 'declaratory', 'judgment', '..', 'We', 'affirm', 'on', 'preservation', 'grounds', 'the', 'trial', 'court', \"'s\", 'dismissal', 'of', 'Turner', \"'s\", 'claims', 'for', 'negligent', 'misrepresentation', 'and', 'conversion', '..', 'We', 'reverse', 'the', 'trial', 'court', \"'s\", 'determination', 'that', 'the', 'water', 'rights', 'had', 'been', 'severed', 'from', 'the', 'property', 'prior', 'to', 'the', 'sale', '.', 'We', 'remand', 'for', 'further', 'proceedings', 'consistent', 'with', 'this', 'opinion', '..', 'Accordingly', ',', 'we', 'reverse', 'the', 'trial', 'court', \"'s\", 'determination', 'that', 'Section', '37-1-22', 'acts', 'to', 'bar', 'Turner', \"'s\", 'action', '..', 'Accordingly', ',', 'we', 'affirm', 'the', 'dismissal', 'of', 'Turner', \"'s\", 'negligent', 'misrepresentation', 'and', 'conversion', 'claims', '..', 'We', 'reverse', 'and', 'remand', 'for', 'trial', 'on', 'the', 'merits', 'of', 'Turner', \"'s\", 'quiet', 'title', 'claims', 'as', 'well', 'as', 'his', 'remaining', 'claims', 'for', 'restitution', 'and', 'declaratory', 'judgment', 'subject', 'to', 'the', 'Bassetts', \"'\", 'defenses', '.', 'We', 'affirm', 'the', 'trial', 'court', \"'s\", 'dismissal', 'of', 'Turner', \"'s\", 'claims', 'for', 'negligent', 'misrepresentation', 'and', 'conversion', '..', 'nan.We', 'affirm', '..', 'We', 'affirm', 'the', 'amended', 'Judgment', 'and', 'Sentence', 'imposed', 'by', 'the', 'trial', 'court', ',', 'subject', 'to', 'Defendant', \"'s\", 'right', 'to', 'seek', 'relief', 'under', 'Rule', '5-801', '..', 'nan.We', 'reverse', '..', 'Therefore', ',', 'we', 'reverse', 'the', 'district', 'court', \"'s\", 'order', 'suppressing', 'the', 'evidence', 'and', 'remand', 'for', 'further', 'proceedings', '..', 'nan.Holding', 'that', 'the', 'duty', 'to', 'compensate', 'still', 'exists', ',', 'we', 'reverse', 'the', 'district', 'court', \"'s\", 'order', 'granting', 'summary', 'judgment', '..', 'For', 'the', 'above', 'reasons', ',', 'we', 'reverse', 'the', 'summary', 'judgment', 'in', 'favor', 'of', 'the', 'Board', 'and', 'remand', 'for', 'further', 'proceedings', 'consistent', 'with', 'this', 'opinion', '..', 'nan.We', 'affirm', '..', 'We', 'therefore', 'affirm', 'the', 'judgment', 'of', 'the', 'trial', 'court', '..', 'nan.We', 'affirm', 'his', 'sentence', '..', 'We', 'affirm', 'Clark', \"'s\", 'sentence', '..', 'nan.We', 'affirm', 'the', 'judgment', 'of', 'the', 'trial', 'court', '..', 'We', 'are', 'not', 'persuaded', 'by', 'these', 'arguments', 'and', 'for', 'the', 'reasons', 'discussed', 'below', ',', 'we', 'affirm', 'the', 'conviction', '..', 'For', 'the', 'foregoing', 'reasons', ',', 'we', 'affirm', 'Defendant', \"'s\", 'conviction', 'for', 'DWI', ',', 'first', 'offense', '..', 'nan.We', 'reverse', '..', 'We', 'reverse', '..', 'nan.We', 'therefore', 'remand', 'the', 'issue', 'of', 'sanctions', '.', 'In', 'other', 'respects', ',', 'we', 'affirm', '..', 'Accordingly', ',', 'we', 'must', 'remand', 'for', 'the', 'district', 'court', 'to', 'make', 'those', 'findings', '..', 'Therefore', ',', 'we', 'remand', 'so', 'that', 'the', 'district', 'court', 'may', 'make', 'appropriate', 'findings', ',', 'or', 'for', 'further', 'proceedings', 'if', 'necessary', '..', 'We', 'affirm', 'the', 'district', 'court', \"'s\", 'power', 'to', 'award', 'sanctions', 'under', 'its', 'inherent', 'authority', 'under', 'the', 'facts', 'of', 'this', 'case', 'and', 'affirm', 'the', 'district', 'court', \"'s\", 'limitation', 'on', 'Father', \"'s\", 'visitation', 'with', 'Child', '..', 'We', 'deny', 'Father', \"'s\", 'request', 'to', 'assign', 'a', 'different', 'judge', '.', 'We', 'remand', 'for', 'the', 'district', 'court', 'to', 'either', 'make', 'the', 'findings', 'necessary', 'to', 'the', 'exercise', 'of', 'its', 'inherent', 'power', 'or', ',', 'failing', 'that', ',', 'to', 'determine', 'whether', 'res', 'judicata', 'applies', 'to', 'the', 'ordinary', 'award', 'of', 'fees', 'and', 'costs', 'incident', 'to', 'domestic', 'relations', 'litigation', ',', 'bearing', 'in', 'mind', 'that', 'on', 'the', 'current', 'record', ',', 'it', 'does', 'so', 'apply', '..', 'nan', '.', 'We', 'reverse', 'summary', 'judgment', 'on', 'both', 'claims', 'and', 'remand', 'for', 'further', 'proceedings', '..', 'We', 'reverse', 'the', 'entry', 'of', 'summary', 'judgment', 'against', 'Hagebak', 'and', 'remand', 'for', 'further', 'proceedings', '..', 'nan', '.', 'We', 'reverse', 'the', 'jury', \"'s\", 'award', 'of', 'nominal', 'damages', 'and', 'punitive', 'damages', 'for', 'fraudulent', 'misrepresentation', '.', 'We', 'affirm', 'the', 'trial', 'court', \"'s\", 'award', 'of', 'nominal', 'damages', 'and', 'punitive', 'damages', 'for', 'breach', 'of', 'fiduciary', 'duty', 'and', 'its', 'award', 'of', 'attorney', \"'s\", 'fees', '..', 'We', 'reverse', 'the', 'jury', 'award', 'and', 'affirm', 'the', 'trial', 'court', \"'s\", 'award', 'of', 'punitive', 'damages', '..', 'Based', 'on', 'the', 'foregoing', ',', 'we', 'reverse', 'the', 'jury', \"'s\", 'award', 'and', 'affirm', 'the', 'trial', 'court', \"'s\", 'award', 'of', '$', '50,000', 'in', 'punitive', 'damages', 'for', 'breach', 'of', 'fiduciary', 'duty', '..', 'We', 'find', 'MidAmerica', 'to', 'be', 'persuasive', 'authority', 'on', 'this', 'issue', ',', 'and', 'we', 'affirm', 'the', 'award', 'of', 'attorney', \"'s\", 'fees', 'under', 'Section', '57-12-10', '(', 'C', ')', '..', 'We', 'reverse', 'the', 'jury', \"'s\", 'award', 'of', '$', '1', 'in', 'nominal', 'damages', 'and', '$', '25,000', 'in', 'punitive', 'damages', 'for', 'fraudulent', 'misrepresentation', '.', 'We', 'affirm', 'the', 'trial', 'court', \"'s\", 'award', 'of', 'nominal', 'damages', 'and', 'punitive', 'damages', 'for', 'breach', 'of', 'fiduciary', 'duty', '.', 'We', 'affirm', 'the', 'trial', 'court', \"'s\", 'award', 'of', 'attorney', \"'s\", 'fees', ',', 'and', 'we', 'remand', 'for', 'an', 'award', 'to', 'Plaintiff', 'of', 'such', 'attorney', \"'s\", 'fees', 'as', 'the', 'trial', 'court', 'finds', 'reasonable', 'for', 'services', 'on', 'appeal', '..', 'nan.Thus', ',', 'we', 'reverse', 'the', 'Court', 'of', 'Appeals', 'and', 'affirm', 'the', 'trial', 'court', \"'s\", 'grant', 'of', 'summary', 'judgment', '..', 'We', 'reverse', 'the', 'Court', 'of', 'Appeals', 'and', 'affirm', 'the', 'trial', 'court', \"'s\", 'grant', 'of', 'summary', 'judgment', 'for', 'Homeowner', '..', 'nan.We', 'reverse', 'the', 'trial', 'court', 'and', 'hold', 'that', 'the', 'Legislature', 'removed', 'all', 'discretion', 'from', 'the', 'trial', 'court', 'in', 'determining', 'whether', 'to', 'impose', 'consecutive', 'or', 'concurrent', 'sentences', 'on', 'inmates', 'for', 'felonies', 'committed', 'during', 'incarceration', ',', 'and', 'as', 'such', 'all', 'sentences', 'for', 'inmate', 'committed', 'crimes', 'are', 'to', 'be', 'consecutive', 'to', 'the', 'total', 'of', 'all', 'combined', 'sentences', '..', 'We', 'reverse', 'and', 'remand', 'to', 'the', 'trial', 'court', 'to', 'enter', 'judgment', 'denying', 'Defendant', \"'s\", 'writ', 'of', 'habeas', 'corpus', 'consistent', 'with', 'this', 'opinion', '..', 'nan', '.', 'We', 'affirm', 'the', 'district', 'court', \"'s\", 'decision', 'to', 'impute', 'income', 'based', 'upon', 'Father', \"'s\", 'underemployment', 'and', 'failure', 'to', 'make', 'a', 'good', 'faith', 'effort', 'to', 'become', 'fully', 'employed', '.', 'We', 'reverse', 'the', 'amount', 'of', 'the', 'income', 'imputation', 'for', 'lack', 'of', 'evidence', 'and', 'remand', 'for', 'the', 'district', 'court', 'to', 'determine', 'Father', \"'s\", 'earning', 'capacity', 'for', 'purposes', 'of', 'imputed', 'income', '..', 'Therefore', ',', 'we', 'will', 'affirm', 'the', 'findings', 'on', 'Father', \"'s\", 'lack', 'of', 'good', 'faith', 'absent', 'an', 'abuse', 'of', 'discretion', '..', 'We', 'therefore', 'remand', 'for', 'the', 'district', 'court', 'to', 'determine', ',', 'based', 'upon', 'evidence', 'presented', ',', 'Father', \"'s\", 'earning', 'potential', 'and', 'his', 'resources', 'outside', 'of', 'earnings', ',', 'if', 'any.', '.', 'We', 'remand', 'for', 'the', 'district', 'court', 'to', 'determine', 'Father', \"'s\", 'earning', 'potential', '..', 'nan.Because', 'we', 'agree', 'that', 'the', 'WCJ', 'based', 'the', 'award', 'on', 'improper', 'considerations', ',', 'we', 'reverse', 'the', 'award', '..', 'Therefore', ',', 'we', 'remand', 'for', 'further', 'proceedings', '..', 'With', 'respect', 'to', 'the', 'attorney', \"'s\", 'efforts', 'to', 'obtain', 'medical', 'benefits', ',', 'the', 'panel', 'is', 'divided', 'on', 'the', 'standard', 'for', 'awarding', 'a', 'fee', '.', 'On', 'that', 'matter', 'this', 'opinion', 'represents', 'a', 'dissenting', 'view', '..', 'We', 'therefore', ',', 'reverse', 'the', 'award', 'of', 'attorney', \"'s\", 'fees', 'for', 'efforts', 'in', 'obtaining', 'disability', 'benefits', 'and', 'remand', 'for', 'the', 'WCJ', 'to', 'decide', 'whether', 'an', 'attorney', \"'s\", 'fee', 'award', 'is', 'appropriate', 'under', 'Section', '52-1-54', '(', '0', ')', 'and', ',', 'if', 'so', ',', 'the', 'size', 'of', 'the', 'award', '..', 'For', 'the', 'above', 'reasons', ',', 'we', 'set', 'aside', 'the', 'WCJ', \"'s\", 'award', 'of', 'attorney', \"'s\", 'fees', 'and', 'remand', 'for', 'further', 'proceedings', '..', 'Because', 'the', 'record', 'is', 'unclear', ',', 'we', 'reverse', 'and', 'remand', 'on', 'this', 'issue', 'for', 'further', 'consideration', 'of', 'an', 'appropriate', 'attorney', \"'s\", 'fee', 'award', '..', 'Accordingly', ',', 'we', 'remand', 'to', 'the', 'WCJ', 'for', 'a', 'reconsideration', 'of', 'the', 'attorney', \"'s\", 'fees', 'question', ',', 'along', 'with', 'appropriate', 'findings', ',', 'which', 'would', 'include', 'a', 'fair', 'and', 'reasonable', 'fee', 'for', 'services', 'expended', 'by', 'Worker', \"'s\", 'attorney', 'on', 'appeal', '..', 'nan.Determining', 'that', 'Worker', 'had', 'no', 'such', 'right', ',', 'we', 'reverse', 'the', 'district', 'court', 'and', 'affirm', 'the', 'Board', \"'s\", 'final', 'order', '..', 'We', 'therefore', 'reverse', 'the', 'district', 'court', \"'s\", 'judgment', 'and', 'affirm', 'the', 'Board', \"'s\", 'final', 'order', '.', '.nan', '.', 'For', 'the', 'foregoing', 'reasons', ',', 'we', 'reverse', 'the', 'trial', 'court', \"'s\", 'February', '16', ',', '1996', ',', 'order', 'awarding', 'a', 'share', 'of', 'Husband', \"'s\", 'military', 'retirement', 'pay', 'to', 'Wife', '..', 'nan', '.', 'We', 'affirm', '..', 'Accordingly', ',', 'we', 'affirm', 'Defendant', \"'s\", 'sentence', '..', 'nan.We', 'disagree', 'and', 'reverse', 'the', 'district', 'court', '..', 'We', 'reverse', 'the', 'district', 'court', \"'s\", 'grant', 'of', 'a', 'writ', 'of', 'prohibition', 'and', 'remand', 'this', 'matter', 'to', 'metropolitan', 'court', 'with', 'instructions', 'to', 'schedule', 'this', 'matter', 'for', 'a', 'trial', 'on', 'the', 'merits', 'within', 'a', 'reasonable', 'period', 'of', 'time', 'from', 'its', 'reinstatement', 'on', 'the', 'metropolitan', 'court', 'docket', '..', 'nan.We', 'affirm', '..', 'We', 'affirm', 'the', 'district', 'court', \"'s\", 'judgment', '..', 'nan.We', 'therefore', 'reverse', 'the', 'district', 'court', 'on', 'that', 'issue', 'and', 'remand', 'for', 'further', 'proceedings', 'consistent', 'with', 'this', 'opinion', '..', 'We', 'further', 'find', 'the', 'remainder', 'of', 'Defendant', \"'s\", 'contentions', 'to', 'be', 'without', 'merit', 'and', 'affirm', 'the', 'district', 'court', '..', 'here', 'being', 'no', 'evidence', 'before', 'us', 'to', 'indicate', 'that', 'the', 'district', 'court', 'entered', 'an', 'illegal', 'sentence', ',', 'we', 'affirm', 'the', 'court', \"'s\", 'enhancement', 'of', 'Defendant', \"'s\", 'sentence', '..', 'Based', 'on', 'the', 'strength', 'of', 'this', 'evidence', ',', 'we', 'find', 'it', 'sufficient', 'and', 'affirm', 'Defendant', \"'s\", 'convictions', 'on', 'those', 'charges', '..', 'Given', 'the', 'lack', 'of', 'evidence', 'to', 'support', 'the', 'charge', 'that', 'Defendant', \"'s\", 'conduct', 'placed', 'his', 'children', \"'s\", 'life', 'or', 'health', 'in', 'danger', ',', 'we', 'reverse', 'Defendant', \"'s\", 'child', 'abuse', 'conviction', '..', 'For', 'the', 'reasons', 'stated', 'above', ',', 'we', 'reverse', 'the', 'child', 'abuse', 'charge', 'and', 'we', 'affirm', 'the', 'remainder', 'of', 'Defendant', \"'s\", 'convictions', '..', 'nan.We', 'affirm', '..', 'The', 'judgment', 'and', 'sentence', 'entered', 'under', 'Section', '66-8-102', '(', 'G', ')', 'is', 'affirmed', '..', 'nan.Finding', 'that', 'substantial', 'evidence', 'supports', 'the', 'district', 'court', \"'s\", 'conelusion', 'that', 'the', 'underlying', 'lawsuit', 'was', 'brought', 'without', 'the', 'necessary', 'probable', 'cause', ',', 'we', 'affirm', 'the', 'judgment', '..', 'For', 'the', 'foregoing', 'reasons', ',', 'we', 'affirm', 'the', 'judgment', 'of', 'the', 'district', 'court', '..', 'nan', '..', 'We', 'reverse', 'the', 'Court', 'of', 'Appeals', \"'\", 'decision', 'and', 'affirm', 'the', 'district', 'court', \"'s\", 'order', '..', 'Accordingly', ',', 'we', 'reverse', 'the', 'Court', 'of', 'Appeals', \"'\", 'decision', 'below', 'and', 'affirm', 'the', 'district', 'court', '..', 'nan', '.', 'We', 'affirm', '..', 'We', 'affirm', 'the', 'district', 'court', \"'s\", 'denial', 'of', 'Defendant', \"'s\", 'motion', 'to', 'suppress', '..', 'nan.Accordingly', ',', 'we', 'affirm', 'in', 'part', 'and', 'dismiss', 'the', 'appeal', 'in', 'part', '..', 'Therefore', ',', 'we', 'conclude', 'that', ',', 'to', 'the', 'extent', 'that', 'the', 'trial', 'court', \"'s\", 'order', 'resolved', 'matters', 'beyond', 'immunity', 'under', 'Section', '37-1-23', '(', 'A', ')', ',', 'it', 'would', 'be', 'inappropriate', 'to', 'apply', 'the', 'collateral', 'order', 'doctrine', ',', 'and', 'we', 'dismiss', 'UNM', \"'s\", 'appeal', 'from', 'this', 'portion', 'of', 'the', 'trial', 'court', \"'s\", 'order', '.', '.We', 'conclude', 'that', 'the', 'trial', 'court', 'properly', 'denied', 'UNM', \"'s\", 'claim', 'of', 'governmental', 'immunity', 'under', 'Section', '37-1-23', '(', 'A', ')', ',', 'and', 'we', 'apply', 'the', 'finality', 'of', 'judgments', 'rule', 'to', 'the', 'remainder', 'of', 'UNM', \"'s\", 'claims', 'on', 'appeal', '..', 'nan.We', 'determine', 'that', 'it', 'was', 'and', 'reverse', '..', 'Ordinarily', ',', 'when', 'we', 'rule', 'that', 'certain', 'evidence', 'should', 'have', 'been', 'suppressed', ',', 'we', 'remand', 'to', 'the', 'lower', 'court', 'to', 'suppress', 'the', 'particular', 'evidence', 'and', 'proceed', 'accordingly', '..', 'Accordingly', ',', 'for', 'the', 'reasons', 'stated', 'herein', ',', 'we', 'reverse', '..', 'I', 'would', 'affirm', 'the', 'ruling', 'of', 'the', 'children', \"'s\", 'court', '.', '.Under', 'these', 'circumstances', ',', 'I', 'would', 'defer', 'to', 'the', 'children', \"'s\", 'court', \"'s\", 'determination', 'of', 'the', 'underlying', 'facts', 'and', 'affirm', 'its', 'ruling', 'concerning', 'the', 'admissibility', 'of', 'the', 'evidence', '..', 'nan', '.', 'We', 'reverse', 'and', 'remand', 'for', 'proceedings', 'consistent', 'with', 'this', 'opinion', '..', 'We', 'therefore', 'reverse', 'the', 'trial', 'court', 'and', 'remand', 'for', 'proceedings', 'consistent', 'with', 'this', 'opinion', '..', 'nan.We', 'agree', 'with', 'Defendant', 'that', 'the', 'EBT', 'card', 'is', 'not', 'a', 'credit', 'card', 'under', 'Section', '30-16-33', 'and', 'therefore', 'reverse', '..', 'Because', 'the', 'EBT', 'card', 'issued', 'to', 'a', 'client', 'of', 'the', 'Income', 'Support', 'Division', 'does', 'not', 'fall', 'within', 'the', 'definition', 'of', '``', 'credit', 'card', \"''\", 'in', 'Section', '30-16-25', '(', 'B', ')', ',', 'we', 'reverse', 'Defen-', ',', 'dant', \"'s\", 'conviction', '..', 'nan.Finally', ',', 'we', 'grant', 'P', '&', 'amp', ';', 'A', \"'s\", 'June', '11', ',', '1999', ',', 'motion', 'to', 'dismiss', 'the', 'appeal', '..', 'The', 'appeal', 'is', 'dismissed', '..', 'nan', '.', 'We', 'reverse', 'the', 'trial', 'court', \"'s\", 'ruling', 'and', 'remand', 'for', 'a', 'new', 'trial', '..', 'We', 'reverse', 'Defendant', \"'s\", 'conviction', 'and', 'remand', 'to', 'the', 'trial', 'court', 'for', 'a', 'new', 'trial', '..', 'nan.We', 'therefore', 'remand', 'for', 'entry', 'of', 'a', 'new', 'award', ',', 'requiring', 'Employer', 'to', 'bear', 'one', 'hundred', 'percent', 'of', 'Worker', \"'s\", 'attorney', \"'s\", 'fees', '..', 'nan.We', 'affirm', '..', 'Nevertheless', ',', 'we', 'affirm', 'the', 'award', 'of', '$', '1900', 'as', 'direct', 'damages', '.', '.We', 'affirm', 'the', 'judgment', 'below', '..', 'nan.Deciding', 'that', 'the', 'court', 'erred', 'in', 'this', 'respect', ',', 'we', 'reverse', '..', 'We', 'reverse', 'the', 'trial', 'court', \"'s\", 'Order', 'and', 'remand', 'with', 'instructions', 'that', 'the', 'trial', 'court', 'order', 'the', 'disbursement', 'of', 'the', 'proceeds', 'of', 'Insurance', 'Policy', 'W-115', 'to', 'Appellants', 'for', 'the', 'benefit', 'of', 'Joshua', '.', '.nan.We', 'affirm', 'the', 'district', 'court', 'and', 'remand', 'for', 'a', 'fair', 'hearing', '..', 'Based', 'on', 'the', 'foregoing', ',', 'we', 'affirm', 'the', 'district', 'court', 'and', 'remand', 'for', 'a', 'fair', 'hearing', 'before', 'another', 'hearing', 'officer', '..', 'nan.For', 'these', 'reasons', ',', 'we', 'AFFIRM', '..', 'nan.We', 'affirm', '..', 'For', 'the', 'reasons', 'stated', 'above', ',', 'Defendant', \"'s\", 'convictions', 'are', 'affirmed', '..', 'nan.We', 'reverse', '..', 'We', 'reverse', 'the', 'district', 'court', \"'s\", 'grant', 'of', 'summary', 'judgment', 'to', 'Defendant', 'and', 'remand', 'for', 'further', 'proceedings', 'consistent', 'with', 'this', 'opinion', '..', 'nan.We', 'affirm', '..', 'We', 'affirm', 'the', 'summary', 'judgments', 'entered', 'in', 'favor', 'of', 'Hartford', 'and', 'Colonial', 'adjudging', 'that', 'only', 'one', 'liability', 'coverage', 'limit', 'of', '$', '100,000/', '$', '300,000', 'applies', 'to', 'the', 'use', 'of', 'and', 'accident', 'involving', 'the', 'non-owned', 'vehicle', '..', 'nan.For', 'the', 'reasons', 'that', 'follow', ',', 'we', 'affirm', 'Defendant', \"'s\", 'conviction', 'for', 'DWI', 'from', 'the', 'first', 'trial', 'in', 'this', 'ease', '.', 'With', 'regard', 'to', 'the', 'remainder', 'of', 'Defendant', \"'s\", 'convictions', 'following', 'the', 'third', 'trial', ',', 'we', 'reverse', 'and', 'remand', 'for', 'a', 'new', 'trial', '..', 'Under', 'the', 'circumstances', ',', 'we', 'affirm', 'the', 'district', 'court', \"'s\", 'decision', 'that', 'Defendant', \"'s\", 'waiver', 'of', 'counsel', 'was', 'knowing', ',', 'intelligent', ',', 'and', 'voluntary', '.', '.Defendant', \"'s\", 'conviction', 'for', 'DWI', 'after', 'the', 'first', 'trial', 'is', 'affirmed', '.', 'However', ',', 'because', 'we', 'conclude', 'that', 'the', 'district', 'court', 'should', 'not', 'have', 'changed', 'venue', 'from', 'Taos', 'County', ',', 'we', 'reverse', 'the', 'remainder', 'of', 'Defendant', \"'s\", 'convictions', 'after', 'the', 'third', 'trial', 'and', 'remand', 'for', 'a', 'new', 'trial', '..', 'nan.We', 'uphold', 'the', 'district', 'court', \"'s\", 'denial', 'of', 'the', 'motion', 'to', 'suppress', ',', 'but', 'reverse', 'Defendant', \"'s\", 'sentence', 'because', 'the', 'district', 'court', 'applied', 'the', 'habitual', 'offender', 'statute', ',', 'NMSA', '1978', ',', '31-18-17', '(', 'B', ')', '(', '1993', ')', ',', 'to', 'a', 'conditional', 'discharge', 'granted', 'under', 'NMSA', '1978', ',', '30-31-28', '(', 'A', ')', '(', '1972', ')', 'of', 'the', 'Controlled', 'Substances', 'Act', '..', 'We', 'affirm', 'Defendant', \"'s\", 'conviction', 'of', 'possession', 'of', 'methamphetamine', 'and', 'reverse', 'the', 'enhancement', 'of', 'Defendant', \"'s\", 'sentence', 'under', 'the', 'habitual', 'offender', 'statute', '..', 'nan.We', 'reverse', '..', 'We', 'reverse', 'the', 'district', 'court', \"'s\", 'order', 'of', 'revocation', 'of', 'Defendant', \"'s\", 'probation', '..', 'nan.Cunningham', \"'s\", 'conviction', 'is', 'therefore', 'affirmed.Therefore', ',', 'Cunningham', \"'s\", 'conviction', 'is', 'affirmed', '..', 'nan.We', 'affirm', '..', 'Defendant', \"'s\", 'conviction', 'is', 'affirmed', '..', 'nan.We', 'disagree', 'with', 'Taxpayer', \"'s\", 'arguments', 'and', 'affirm', '..', 'We', 'thus', 'affirm', '..', 'nan.We', 'affirm', '..', 'We', 'affirm', '..', 'nan.Having', 'carefully', 'reviewed', 'the', 'State', \"'s\", 'arguments', ',', 'and', 'being', 'unpersuaded', ',', 'we', 'reverse', '..', 'Accordingly', ',', 'we', 'reverse', 'the', 'conviction', 'and', 'remand', 'with', 'instructions', 'to', 'dismiss', 'the', 'charge', '..', 'We', 'reverse', 'Defendant', \"'s\", 'disorderly', 'conduct', 'conviction', 'and', 'remand', 'with', 'instructions', 'to', 'dismiss', 'the', 'charge', '.', 'We', 'reverse', 'Defendant', \"'s\", 'trafficking', 'conviction', 'and', 'remand', 'with', 'instructions', 'to', 'suppress', 'all', 'evidence', 'obtained', 'pursuant', 'to', 'the', 'strip', 'search', '..', 'nan.We', 'conclude', 'as', 'a', 'matter', 'of', 'first', 'impression', 'that', 'the', 'district', 'court', 'is', 'the', 'proper', 'forum', 'and', 'reverse', 'the', 'compensation', 'order', 'of', 'the', 'WCJ', '..', 'We', 'reverse', 'the', 'decision', 'of', 'the', 'WCJ', 'in', 'this', 'case', 'and', 'remand', 'with', 'instructions', 'that', 'the', 'WCJ', 'is', 'to', 'defer', 'further', 'action', 'on', 'Circle', 'K', \"'s\", 'claim', 'until', 'the', 'Estate', \"'s\", 'action', 'in', 'district', 'court', 'for', 'intentional', 'tort', 'has', 'been', 'resolved', 'either', 'in', 'that', 'court', 'or', 'on', 'appeal', '..', 'nan.Taxpayer', 'appeals', ',', 'and', 'be', 'cause', 'we', 'agree', 'with', 'the', 'hearing', 'officer', 'on', 'all', 'points', ',', 'we', 'affirm', '..', 'We', 'affirm', 'the', 'decision', 'of', 'the', 'hearing', 'officer', 'on', 'all', 'points', '..', 'nan.We', 'affirm', 'in', 'part', 'and', 'reverse', 'in', 'part', '..', 'We', 'reverse', 'that', 'portion', 'of', 'the', 'trial', 'court', \"'s\", 'order', 'granting', 'summary', 'judgment', 'on', 'Plaintiffs', 'claim', 'that', 'Defendant', 'breached', 'an', 'oral', ',', 'implied', 'agreement', 'not', 'to', 'terminate', 'her', 'because', 'of', 'her', 'illness-induced', 'absence', 'from', 'work', '.', 'We', 'affirm', 'the', 'trial', 'court', \"'s\", 'award', 'of', 'summary', 'judgment', 'on', 'Plaintiffs', 'claim', 'of', 'defamation', '..', 'nan.We', 'affirm', 'the', 'ruling', 'of', 'the', 'district', 'court', '.', '.Accordingly', ',', 'the', 'judgment', 'and', 'sentence', 'of', 'the', 'trial', 'court', 'is', 'hereby', 'affirmed', '..', 'nan', '.', 'Because', 'the', 'district', 'court', 'erred', 'in', 'applying', 'New', 'Mexico', 'law', ',', 'we', 'reverse', 'and', 'remand', 'with', 'instructions', 'to', 'distribute', 'the', 'proceeds', 'in', 'accordance', 'with', 'the', 'law', 'of', 'Texas', '..', 'We', 'reverse', 'the', 'judgment', 'of', 'the', 'district', 'court', 'and', 'remand', 'with', 'instructions', 'to', 'apply', 'the', 'law', 'of', 'Texas', 'in', 'distributing', 'the', 'proceeds', 'from', 'the', 'wrongful-death', 'claim', '..', 'nan.We', 'hold', 'that', 'it', 'does', 'and', 'reverse', 'the', 'decision', 'of', 'the', 'district', 'court', '..', 'We', 'reverse', 'the', 'decision', 'of', 'the', 'district', 'court', 'and', 'remand', 'for', 'entry', 'of', 'an', 'order', 'consistent', 'with', 'this', 'opinion', '..', 'nan.We', 'affirm', 'the', 'trial', 'court', \"'s\", 'order', 'granting', 'summary', 'judgment', 'for', 'Defendants', ';', 'we', 'reverse', 'the', 'trial', 'court', \"'s\", 'supplemental', 'order', 'imposing', 'costs', 'against', 'Defendants', ',', 'and', 'remand', 'for', 'further', 'proceedings', 'involving', 'the', 'assessment', 'of', 'costs', '..', 'Because', 'we', 'perceive', 'no', 'ambiguity', 'or', 'repugnancy', 'in', 'the', 'language', 'of', 'the', 'policy', ',', 'we', 'affirm', 'the', 'trial', 'court', \"'s\", 'grant', 'of', 'summary', 'judgment', 'concluding', 'that', 'Plaintiff', 'was', 'not', 'an', 'insured', 'in', 'this', 'case', '..', 'Under', 'these', 'circumstances', ',', 'we', 'deem', 'it', 'necessary', 'to', 'remand', 'for', 'entry', 'of', 'specific', 'findings', 'of', 'fact', 'and', 'conclusions', 'of', 'law', 'detailing', 'the', 'basis', 'for', 'the', 'court', \"'s\", 'award', 'of', 'costs.The', 'order', 'granting', 'summary', 'judgment', 'dismissing', 'Plaintiffs', 'claims', 'against', 'Defendants', 'is', 'affirmed', '.', 'The', 'supplemental', 'order', 'imposing', 'costs', 'against', 'Defendants', 'is', 'reversed', 'and', 'the', 'cause', 'is', 'remanded', 'to', 'the', 'trial', 'court', 'for', 'entry', 'of', 'an', 'amended', 'order', 'and', 'the', 'adoption', 'of', 'findings', 'of', 'fact', 'and', 'conclusions', 'of', 'law', 'detailing', 'the', 'basis', 'and', 'rationale', 'for', 'any', 'award', 'of', 'costs', '..', 'nan.We', 'therefore', 'reverse', 'the', 'district', 'court', \"'s\", 'order', 'and', 'remand', 'for', 'additional', 'proceedings', '..', 'We', 'reverse', 'the', 'district', 'court', \"'s\", '1993', 'order', 'remanding', 'the', 'matter', 'to', 'the', 'Personnel', 'Board', 'for', 'a', 'second', 'hearing', '.', 'We', 'remand', 'to', 'the', 'district', 'court', 'to', 'consider', 'the', 'other', 'issues', 'raised', 'by', 'Employee', \"'s\", 'original', 'appeal', 'from', 'the', 'Personnel', 'Board', \"'s\", 'first', 'decision', '..', 'We', 'therefore', 'consider', 'it', 'necessary', 'to', 'address', 'that', 'broader', 'issue', ',', 'and', ',', 'doing', 'so', ',', 'we', 'reverse', 'on', 'that', 'issue', 'as', 'well', '..', 'We', 'reverse', 'the', 'district', 'court', \"'s\", 'order', 'setting', 'aside', 'the', '1993', 'Personnel', 'Board', \"'s\", 'decision', 'to', 'terminate', 'Employee', \"'s\", 'employment', '..', 'We', 'therefore', 'remand', 'to', 'the', 'district', 'court', 'for', 'consideration', 'of', 'those', 'challenges', '..', 'We', 'remand', 'for', 'proceedings', 'consistent', 'with', 'this', 'opinion', '..', 'nan', '.', 'We', 'affirm', 'the', 'conviction', 'and', 'sentence', '..', 'We', 'affirm', 'Defendant', \"'s\", 'conviction', 'and', 'sentence', 'for', 'vehicular', 'homicide', '.', '{', '.nan.We', 'thus', 'affirm', 'the', 'judgment', 'and', 'disposition', ',', 'as', 'well', 'as', 'the', 'trial', 'court', \"'s\", 'denial', 'of', 'Student', \"'s\", 'motion', 'to', 'suppress', 'the', 'weapon', 'discovered', 'in', 'the', 'search', '..', 'We', 'therefore', 'affirm', 'the', 'trial', 'court', \"'s\", 'denial', 'of', 'Student', \"'s\", 'motion', 'to', 'suppress', '..', 'nan.We', 'hold', 'that', 'the', 'trial', 'court', 'imposed', 'an', 'unnecessary', 'requirement', 'of', '``', 'reasonableness', \"''\", 'to', 'issue', 'an', 'injunction', 'in', 'the', 'circumstances', 'of', 'this', 'case', 'and', 'reverse', '..', 'Plaintiffs', 'appeal', ',', 'and', 'we', 'reverse', '..', 'We', 'reversed', 'and', 'remanded', 'for', 'entry', 'of', 'an', 'order', 'granting', 'the', 'requested', 'injunctive', 'relief', '.', 'We', 'likewise', 'do', 'so', 'in', 'this', 'ease', '..', 'nan', '.', 'For', 'the', 'reasons', 'discussed', 'herein', ',', 'we', 'hold', 'that', 'Plaintiffs', 'appeal', 'was', 'untimely', 'and', 'dismiss', 'the', 'appeal', '..', 'The', 'motion', 'to', 'dismiss', 'the', 'appeal', 'is', 'granted', '..', 'nan', '.', 'We', 'affirm', '..', 'We', 'affirm', 'the', 'summary', 'judgment', 'entered', 'by', 'the', 'district', 'court', '..', 'nan', '.', 'Under', 'the', 'specific', 'facts', 'of', 'this', 'case', ',', 'we', 'answer', 'both', 'questions', 'in', 'the', 'affirmative', '..', 'We', 'affirm', 'on', 'the', 'appeal', ',', 'reverse', 'on', 'the', 'cross-appeal', ',', 'and', 'remand', 'for', 'further', 'proceedings', '..', 'For', 'the', 'foregoing', 'reasons', ',', 'we', 'affirm', 'the', 'judgment', 'against', 'Weststar', 'and', 'the', 'awards', 'of', 'compensatory', 'and', 'punitive', 'damages', 'to', 'Jackson', '..', 'We', 'reverse', 'the', 'trial', 'court', 'on', 'its', 'failure', 'to', 'award', 'post-judgment', 'interest', 'on', 'the', 'punitive', 'damages', 'award', 'and', 'remand', 'for', 'further', 'proceedings', 'consistent', 'with', 'this', 'opinion', '..', 'nan.We', 'affirm', '..', 'We', 'affirm', '..', 'nan.We', 'hold', 'that', 'NORA', 'is', 'hable', 'only', 'for', 'its', 'own', '60', '%', 'fault', ',', 'but', 'we', 'affirm', 'on', 'all', 'other', 'grounds', '..', 'We', 'affirm', 'on', 'all', 'grounds', 'except', 'the', 'imposition', 'of', 'joint', 'and', 'several', 'liability', 'upon', 'NORA', 'for', 'the', 'fault', 'of', 'Mr.', 'Velarde', '..', 'We', 'affirm', 'the', 'jury', \"'s\", 'allocation', 'of', 'fault', '..', 'The', 'judgment', 'is', 'modified', 'to', 'the', 'extent', 'that', 'NORA', 'is', 'not', 'jointly', 'and', 'severally', 'liable', 'for', 'the', 'apportioned', 'fault', 'of', 'Mr.', 'Velarde', ',', 'but', 'it', 'is', 'affirmed', 'in', 'all', 'other', 'respects', '..', 'Consequently', ',', 'we', 'dismiss', 'the', 'appeal', 'and', 'remand', 'to', 'the', 'district', 'court', 'to', 'conduct', 'proceedings', 'necessary', 'to', 'effectuate', 'the', 'settlement', '..', 'nan.We', 'affirm', '..', 'Because', 'all', 'material', 'facts', 'are', 'undisputed', ',', 'and', 'no', 'triable', 'issue', 'of', 'fact', 'exists', ',', 'we', 'affirm', 'the', 'district', 'court', \"'s\", 'granting', 'of', 'summary', 'judgment', 'on', 'the', 'issues', 'of', 'breach', 'of', 'implied', 'employment', 'contract', 'and', 'age', 'discrimination', '..', 'nan.We', 'hold', 'that', 'the', 'State', \"'s\", 'appeal', 'was', 'timely', 'filed', ',', 'and', 'we', 'reverse', 'because', 'the', 'district', 'court', 'applied', 'the', 'wrong', 'legal', 'standard', 'for', 'evaluating', 'a', 'facially', 'sufficient', 'search', 'warrant', 'affidavit', 'attacked', 'as', 'misleading', '.', 'We', 'remand', 'for', 'a', 'new', 'suppression', 'hearing', '..', 'We', 'reverse', 'on', 'the', 'merits', '..', 'We', 'then', 'analyze', 'the', 'law', 'and', 'conclude', 'by', 'reversing', 'the', 'suppression', 'order', '..', 'We', 'reverse', 'and', 'remand', 'for', 'a', 'new', 'suppression', 'hearing', 'because', 'the', 'court', 'applied', 'the', 'overruled', 'Gutierrez', 'standard', 'requiring', 'only', 'intentional', 'misrepresentations', ',', 'rather', 'than', 'the', 'proper', 'standards', 'of', 'deliberate', 'falsehood', 'and', 'reckless', 'disregard', 'for', 'the', 'truth', '..', 'nan.We', 'uphold', 'the', 'trial', 'court', 'on', 'all', 'challenges', 'and', 'affirm', 'the', 'conviction', '..', 'For', 'the', 'reasons', 'stated', 'in', 'this', 'opinion', ',', 'we', 'affirm', 'Defendant', \"'s\", 'convictions', '..', 'nan.Therefore', ',', 'we', 'reverse', 'and', 'remand', 'to', 'the', 'district', 'court', '..', 'nan.We', 'affirm', 'in', 'part', 'and', 'reverse', 'in', 'part', '..', 'Accordingly', ',', 'we', 'remand', 'to', 'the', 'district', 'court', 'to', 'address', 'the', 'question', 'of', 'whether', 'the', 'culverts', 'and', 'water', 'gates', 'unreasonably', 'interfere', 'with', 'the', 'Cox', 'family', \"'s\", 'Section', '73-2-5', 'rights', ',', 'and', ',', 'if', 'so', ',', 'to', 'take', 'remedial', 'action', 'in', 'accordance', 'with', 'Section', '73-2-5', '..', 'We', 'affirm', 'the', 'judgment', 'of', 'the', 'district', 'court', 'insofar', 'as', 'it', 'requires', 'the', 'Hanlens', 'to', 'restore', 'the', 'width', 'of', 'the', 'ditch', 'to', 'the', 'fence', 'line', 'established', 'in', 'the', 'David', 'Tibbetts', 'survey', 'of', 'May', '8,1995', 'and', 'to', 'remove', 'their', 'new', 'pipe', 'fence', 'and', 'not', 'rebuild', 'it', 'farther', 'north', 'than', 'the', \"'\", 'old', 'fence', 'line', 'established', 'in', 'the', 'David', 'Tibbetts', 'survey', 'of', 'May', '8', ',', '1995', '..', 'We', 'further', 'affirm', 'the', 'judgment', 'enjoining', 'the', 'Hanlens', 'from', 'making', 'further', 'modifications', 'to', 'the', 'ditch', 'which', 'unreasonably', 'interfere', 'with', 'the', 'Cox', 'family', \"'s\", 'use', ',', 'including', 'maintenance', ',', 'of', 'the', 'ditch', '..', 'We', 'reverse', 'the', 'judgment', 'with', 'respect', 'to', 'its', 'requirement', 'that', 'the', 'Hardens', 'remove', 'the', 'culverts', 'and', 'its', 'restrictions', 'upon', 'further', 'modifications', 'to', 'the', 'ditch', 'which', 'do', 'not', 'unreasonably', 'interfere', 'with', 'the', 'Cox', 'family', \"'s\", 'use', ',', 'including', 'maintenance', ',', 'of', 'the', 'ditch', '.', 'We', 'remand', 'to', 'the', 'district', 'court', 'to', 'determine', 'whether', 'the', 'culverts', 'and', 'the', 'water', 'gates', 'unreasonably', 'interfere', 'with', 'the', 'Cox', 'family', \"'s\", 'use', 'or', 'maintenance', 'of', 'the', 'ditch', '..', 'nan', '.', 'We', 'reverse', 'and', 'remand', 'for', 'further', 'proceedings', '..', 'We', 'reverse', 'and', 'remand', 'for', 'further', 'proceedings', '..', 'nan.We', 'therefore', 'affirm', '..', 'For', 'the', 'foregoing', 'reasons', ',', 'we', 'affirm', '..', 'nan', '.', 'We', 'affirm', '..', 'For', 'the', 'foregoing', 'reasons', ',', 'we', 'affirm', 'the', 'judgment', 'of', 'the', 'district', 'court', '..', 'nan.Finding', 'that', 'the', 'evidence', 'of', 'the', 'currency', 'was', 'properly', 'suppressed', ',', 'we', 'affirm', '.', '.For', 'the', 'aforementioned', 'reasons', ',', 'we', 'affirm', 'the', 'decision', 'of', 'the', 'district', 'court', 'suppressing', 'the', 'currency', 'evidence', '..', 'nan.We', 'hold', 'that', 'the', 'district', 'court', 'correctly', 'determined', 'that', 'Lexington', 'failed', 'to', 'raise', 'material', 'issues', 'of', 'fact', 'as', 'to', 'whether', 'ISLIC', 'committed', 'a', 'prima', 'facie', 'tort', 'and', 'we', 'affirm', 'the', 'order', 'granting', 'ISLIC', 'summary', 'judgment', '..', 'We', 'find', 'no', 'merit', 'in', 'Lexington', \"'s\", 'other', 'arguments', 'and', 'affirm', 'the', 'court', 'below', '..', 'nan.We', 'affirm', '..', 'For', 'the', 'foregoing', 'reasons', 'we', 'affirm', 'the', 'judgment', 'and', 'sentence', 'of', 'the', 'trial', 'court', '..', 'nan.We', 'disagree', 'and', 'affirm', '..', 'We', 'therefore', 'affirm', 'the', 'trial', 'court', \"'s\", 'denial', 'of', 'summary', 'judgment', '.', '.nan.Both', 'parties', 'have', 'responded', 'to', 'the', 'proposed', 'disposition', 'and', ',', 'having', 'considered', 'their', 'arguments', ',', 'we', 'reverse', 'the', 'order', 'denying', 'the', 'motion', 'to', 'dismiss', 'and', 'remand', 'to', 'the', 'district', 'court', 'for', 'reconsideration', 'in', 'light', 'of', 'the', 'standards', 'enunciated', 'below', '..', 'We', 'disagree', 'with', 'Plaintiffs', 'interpretation', 'of', 'Prieto', 'and', 'reverse', 'and', 'remand', 'this', 'matter', 'to', 'give', 'the', 'district', 'court', 'an', 'opportunity', 'to', 'reconsider', 'the', 'motion', '..', 'Because', 'the', 'district', 'court', \"'s\", 'letter', 'decision', 'indicates', 'that', 'it', 'denied', 'the', 'motion', 'based', 'on', 'the', 'failure', 'to', 'show', 'intentional', 'delay', ',', 'we', 'reverse', 'the', 'order', 'denying', 'Balcor', \"'s\", 'motion', 'to', 'dismiss', 'and', 'remand', 'to', 'allow', 'the', 'district', 'court', 'to', 'reconsider', 'the', 'motion', 'to', 'determine', 'if', 'the', 'plaintiff', 'failed', 'to', 'exercise', 'due', 'diligence', 'in', 'serving', 'process', 'on', 'Balcor', \"'s\", 'predecessor', 'in', 'interest', 'based', 'on', 'a', 'standard', 'of', 'objective', 'reasonableness', 'and', ',', 'if', 'so', ',', 'to', 'exercise', 'its', 'discretion', 'in', 'determining', 'whether', 'the', 'delay', 'warrants', 'a', 'dismissal', 'of', 'the', 'complaint', '..', 'The', 'order', 'denying', 'Balcor', \"'s\", 'motion', 'to', 'dismiss', 'is', 'reversed', 'and', 'this', 'matter', 'is', 'remanded', 'to', 'the', 'district', 'court', 'for', 'further', 'proceedings', '..', 'nan.Not', 'persuaded', 'by', 'his', 'arguments', ',', 'we', 'affirm', '..', 'The', 'judgment', 'and', 'sentence', 'of', 'the', 'district', 'court', 'are', 'affirmed', '..', 'nan.We', 'affirm', 'the', 'Court', 'of', 'Appeals', 'on', 'the', 'issue', 'of', 'whether', 'the', 'initial', 'pat', 'down', 'was', 'a', 'valid', 'protective', 'search', ',', 'though', 'we', 'base', 'our', 'holding', 'on', 'an', 'objective', 'standard', 'instead', 'of', 'an', 'analysis', 'of', 'whether', 'the', 'search', 'was', 'pretextual', '..', 'We', 'reverse', 'the', 'Court', 'of', 'Appeals', 'on', 'the', 'issue', 'of', 'whether', 'the', 'subsequent', 'search', 'of', 'Paul', \"'s\", 'pockets', 'was', 'reasonable', 'under', 'the', 'circumstances', '..', 'e', 'hold', 'that', 'the', 'search', 'of', 'Paul', \"'s\", 'pockets', 'was', 'unlawful', 'without', 'his', 'valid', 'consent', ',', 'and', 'therefore', 'we', 'remand', 'to', 'the', \"children's.court\", 'for', 'a', 'factual', 'determination', 'of', 'voluntariness', 'and', 'full', 'consideration', 'of', 'the', 'validity', 'of', 'Paul', \"'s\", 'consent', '..', 'After', 'the', 'Court', 'of', 'Appeals', 'affirmed', 'the', 'ruling', ',', 'we', 'granted', 'certiorari', 'and', 'now', 'affirm', 'in.part', ',', 'reverse', 'in', 'part', ',', 'and', 'remand', '..', 'Remand', 'is', 'therefore', 'appropriate', '..', 'For', 'the', 'reasons', 'discussed', 'above', ',', 'we', 'affirm', 'the', 'Court', 'of', 'Appeals', \"'\", 'judgment', 'that', 'Officer', 'Serna', \"'s\", 'initial', ',', 'limited', 'pat-down', 'search', 'of', 'Paul', 'was', 'justified', ';', 'we', 'reverse', 'the', 'Court', 'of', 'Appeals', \"'\", 'determination', 'that', 'the', 'subsequent', ',', 'expanded', 'search', 'of', 'Paul', \"'s\", 'pockets', 'was', 'lawful', ',', 'and', 'we', 'remand', 'to', 'the', 'children', \"'s\", 'court', 'for', 'further', 'proceedings', 'regarding', 'whether', 'Paul', \"'s\", 'consent', 'to', 'search', 'his', 'pockets', 'was', 'valid', '..', 'nan.We', 'affirm', 'the', 'Commission', \"'s\", 'Order', 'based', 'on', 'its', 'lack', 'of', 'jurisdiction', 'to', 'consider', 'the', 'requested', 'rate', 'increase', ',', 'rendering', 'resolution', 'of', 'all', 'other', 'appellate', 'issues', 'unnecessary', '.', 'Therefore', ',', 'we', 'affirm', 'the', 'Commission', \"'s\", 'dismissal', 'with', 'prejudice', 'of', 'PNM', \"'s\", 'rate', 'increase', 'application', ',', 'based', 'on', 'the', 'Commission', \"'s\", 'lack', 'of', 'jurisdiction', 'over', 'Southern', 'Union', 'and', 'the', 'particular', 'rate', 'increase', 'requested', '..', 'nan.We', 'therefore', 'reverse', 'in', 'part', 'and', 'affirm', 'in', 'part', '..', 'We', 'affirm', 'the', 'trial', 'court', \"'s\", 'dismissal', 'of', 'Victor', \"'s\", 'claim', 'that', 'wave', 'pools', 'are', 'inherently', 'dangerous', ',', 'thus', 'imposing', 'a', 'non-delega', 'ble', 'duty', 'on', 'Erisa', 'for', 'the', 'safety', 'of', 'water', 'park', 'patrons', '..', 'Dismissal', 'of', 'the', 'negligent', 'entrustment', 'claim', 'is', 'reversed', 'and', 'the', 'matter', 'is', 'remanded', 'for', 'further', 'proceedings', 'consistent', 'with', 'this', 'opinion', '..', 'nan.We', 'hold', 'that', 'the', 'Act', 'does', 'not', 'afford', 'Defendant', 'immunity', ',', 'and', 'we', 'reverse', 'the', 'district', 'court', \"'s\", 'order', 'to', 'the', 'contrary', 'and', 'remand', 'for', 'further', 'proceedings', '..', 'We', 'reverse', 'the', 'district', 'court', \"'s\", 'order', 'of', 'dismissal', 'and', 'remand', 'for', 'further', 'proceedings', 'consistent', 'with', 'this', 'opinion', '..', 'nan.We', 'dismiss', 'the', 'appeal', 'as', 'premature', 'because', 'it', 'does', 'not', 'originate', 'from', 'a', 'final', 'order', '..', 'Although', 'the', 'finality', 'issue', 'here', 'is', 'not', 'cut', 'and', 'dried', ',', 'we', 'err', 'on', 'the', 'side', 'of', 'avoiding', 'piecemeal', 'appeals', ',', 'enhancing', 'judicial', 'efficiency', ',', 'and', 'dismiss', 'this', 'appeal', 'as', 'premature', '..', 'The', 'appeal', 'is', 'dismissed', 'without', 'prejudice', '..', 'nan.We', 'affirm', 'Defendant', \"'s\", 'convictions', '..', 'nan', '.', 'The', 'summary', 'judgment', 'in', 'favor', 'of', 'Dr.', 'Nelson', 'is', 'affirmed', '..', 'The', 'order', 'granting', 'partial', 'summary', 'judgment', 'in', 'favor', 'of', 'PHS', 'is', 'reversed', '..', 'nan.We', 'reverse', 'and', 'remand', 'for', 'further', 'proceedings', 'in', 'district', 'court', '..', 'For', 'the', 'following', 'reasons', 'we', 'must', 'reverse', 'the', 'order', 'granting', 'summary', 'judgment', 'and', 'remand', 'for', 'fiirther', 'proceedings', 'in', 'the', 'district', 'court', '..', 'We', 'reverse', 'the', 'award', 'of', 'summary', 'judgment', 'to', 'San', 'Juan', 'and', 'remand', 'to', 'the', 'district', 'court', 'for', 'further', 'proceedings', 'consistent', 'with', 'this', 'opinion', '..', 'nan.We', 'affirm', '..', 'Therefore', ',', 'we', 'affirm', 'the', 'conviction', 'and', 'amended', 'sentence', '..', 'We', 'affirm', 'the', 'amended', 'judgment', 'and', 'sentence', '..', 'nan.We', 'affirm', 'the', 'judgment', 'of', 'the', 'trial', 'court', 'as', 'to', 'Plaintiffs', \"'\", 'points', 'one', 'through', 'five', ',', 'as', 'well', 'as', 'its', 'denial', 'of', 'costs.', '.', 'In', 'this', 'case', ',', 'Plaintiffs', 'do', 'not', 'really', 'contest', 'the', 'underlying', 'facts', 'for', 'the', 'trial', 'court', \"'s\", 'preliminary', 'determination', ',', 'and', 'we', 'therefore', 'affirm', 'on', 'the', 'issue', 'of', 'authenticity', 'under', 'Rule', '11-901', '..', 'For', 'the', 'reasons', 'stated', 'above', ',', 'we', 'affirm', 'the', 'judgment', 'below', '..', 'nan.Therefore', ',', 'we', 'reverse', 'Defendant', \"'s\", 'conviction', 'for', 'second', 'degree', 'murder', 'and', 'remand', 'for', 'a', 'new', 'trial', '..', 'Accordingly', ',', 'we', 'reverse', 'Defendant', \"'s\", 'conviction', 'for', 'second', 'degree', 'murder', 'and', 'remand', 'for', 'a', 'new', 'trial', '..', 'nan.Accordingly', ',', 'we', 'reverse', 'and', 'remand', 'for', 'further', 'proceedings', '..', 'For', 'the', 'foregoing', 'reasons', ',', 'we', 'reverse', 'the', 'Court', 'of', 'Appeals', \"'\", 'determination', 'that', 'the', 'district', 'court', 'correctly', 'ruled', 'the', 'lease', 'had', 'terminated', '..', 'We', 'remand', 'for', 'further', 'proceedings', 'consistent', 'with', 'this', 'opinion', '..', 'nan.We', 'take', 'this', 'opportunity', 'to', 'affirm', 'and', 'expand', 'our', 'holding', 'in', 'Eaton', ',', 'to', 'address', 'somewhat', 'different', 'arguments', 'raised', 'in', 'this', 'case', ',', 'and', 'to', 'clarify', 'what', 'constitutes', 'disbursement', 'of', 'insurance', 'policy', 'proceeds', 'triggering', 'the', 'commencement', 'of', 'the', 'period', 'by', 'which', 'the', 'statute', 'of', 'limitations', 'is', 'measured', '..', 'The', 'portion', 'of', 'the', 'district', 'court', 'order', 'which', 'applied', 'the', 'common-fund', 'doctrine', 'to', 'the', '$', '17,078.40', 'remaining', 'in', 'the', 'court', 'registry', 'is', 'reversed', 'and', 'this', 'case', 'is', 'remanded', 'for', 'an', 'entry', 'of', 'judgment', 'consistent', 'with', 'this', 'opinion', '..', 'nan.We', 'affirm', 'the', 'termination', 'of', 'Mother', \"'s\", 'parental', 'rights', 'and', 'conclude', 'there', 'was', 'clear', 'and', 'convincing', 'evidence', 'to', 'support', 'the', 'children', \"'s\", 'court', \"'s\", 'findings', '..', 'The', 'order', 'terminating', 'Mother', \"'s\", 'parental', 'rights', 'is', 'affirmed', '..', 'nan.For', 'tfie', 'reasons', 'discussed', 'below', ',', 'we', 'reverse', 'the', 'district', 'court', 'and', 'lift', 'the', 'injunction.We', 'therefore', 'reverse', 'the', 'district', 'court', 'and', 'lift', 'its', 'injunction', 'against', 'Defendants', '..', 'For', 'the', 'reasons', 'set', 'forth', 'above', ',', 'we', 'reverse', 'the', 'judgment', 'of', 'the', 'district', 'court', ',', 'holding', 'that', 'the', 'home', 'to', 'be', 'constructed', 'in', 'this', 'case', 'did', 'not', 'violate', 'the', 'covenants', 'invoked', '.', 'In', 'light', 'of', 'the', 'grounds', 'upon', 'which', 'we', 'base', 'our', 'decision', ',', 'we', 'need', 'not', 'address', 'Defendants', \"'\", 'estoppel', 'claims', '..', 'nan', '.', 'Unpersuaded', 'by', 'the', 'State', \"'s\", 'arguments', ',', 'we', 'affirm', '..', 'We', 'therefore', 'affirm', '..', 'nan.We', 'conclude', 'that', 'there', 'was', 'fundamental', 'error', 'in', 'the', 'jury', 'instruction', 'and', 'reverse', 'and', 'remand', 'for', 'a', 'new', 'trial', 'on', 'Defendant', \"'s\", 'conviction', 'for', 'intimidating', 'a', 'witness', '..', 'Because', 'Defendant', 'would', 'be', 'entitled', 'to', 'a', 'dismissal', 'of', 'the', 'charge', 'of', 'intimidating', 'a', 'witness', 'if', 'we', 'were', 'to', 'find', 'in', 'his', 'favor', 'regarding', 'the', 'constitutionality', 'of', 'the', 'statute', 'and', 'the', 'sufficiency', 'of', 'the', 'evidence', ',', 'we', 'also', 'address', 'these', 'issues', 'and', ',', 'finding', 'no', 'error', ',', 'affirm', '..', 'We', 'reverse', 'and', 'remand', 'for', 'a', 'new', 'trial', 'on', 'the', 'charge', 'of', 'intimidating', 'a', 'witness', '..', 'We', 'reverse', 'Defendant', \"'s\", 'conviction', 'for', 'intimidating', 'a', 'witness', 'because', 'of', 'error', 'in', 'the', 'jury', 'instructions', 'and', 'remand', 'for', 'a', 'new', 'trial', '.', 'We', 'affirm', 'the', 'constitutionality', 'of', 'the', 'statute', 'and', 'the', 'sufficiency', 'of', 'the', 'evidence', 'to', 'support', 'Defendant', \"'s\", 'conviction', '..', 'nan.Without', 'deciding', 'whether', 'either', 'of', 'those', 'two', 'issues', ',', 'standing', 'alone', ',', 'gave', 'rise', 'to', 'reversible', 'error', ',', 'we', 'determine', 'that', ',', 'together', ',', 'they', 'formed', 'the', 'basis', 'for', 'cumulative', 'error', 'requiring', 'reversal', '..', 'We', 'therefore', 'reverse', 'Defendant', \"'s\", 'convictions', 'and', 'remand', 'for', 'a', 'new', 'trial', '..', 'nan.We', 'affirm', 'and', 'remand', ',', 'directing', 'the', 'district', 'court', 'to', 'enter', 'an', 'amended', 'judgment', 'and', 'sentence', 'vacating', 'the', 'reckless', 'driving', 'conviction', '..', 'Based', 'on', 'the', 'foregoing', ',', 'we', 'affirm', 'Defendant', \"'s\", 'conviction', 'on', 'all', 'counts', '.', 'We', 'therefore', 'remand', 'the', 'case', 'to', 'the', 'district', 'court', 'to', 'amend', 'its', 'judgment', 'vacating', 'Defendant', \"'s\", 'convictions', 'for', 'reckless', 'driving', '..', 'nan.We', 'affirm', '..', 'We', 'therefore', 'affirm', '..', 'nan.We', 'hold', 'that', 'Section', '30-14~l.l', '(', 'D', ')', 'does', 'not', 'apply', 'to', 'subsurface', 'trespass', ',', 'and', 'therefore', 'we', 'reverse', 'the', 'imposition', 'of', 'double', 'damages', '..', 'We', 'affirm', 'the', 'trial', 'court', 'on', 'all', 'other', 'issues', '...', 'Accordingly', ',', 'we', 'remand', 'this', 'case', 'to', 'the', 'trial', 'court', 'with', 'instructions', 'to', 'vacate', 'the', 'judgment', 'and', 'enter', 'judgment', 'in', 'favor', 'of', 'Hartman', 'in', 'the', 'amount', 'determined', 'by', 'the', 'jury', '..', 'We', 'reject', 'all', 'of', 'Texaco', \"'s\", 'claims', 'of', 'error', 'relating', 'to', 'pretrial', 'and', 'trial', 'proceedings', '.', 'We', 'affirm', 'the', 'jury', \"'s\", 'verdict', 'in', 'favor', 'of', 'Hartman', '..', 'Accordingly', ',', 'we', 'remand', 'this', 'matter', 'to', 'the', 'trial', 'court', 'with', 'instructions', 'to', 'enter', 'judgment', 'in', 'favor', 'of', 'Hartman', 'and', 'against', 'Texaco', 'in', 'the', 'amount', 'awarded', 'Hartman', 'by', 'the', 'jury', '..', 'nan.Consequently', ',', 'we', 'reverse', '..', 'The', 'judgment', 'of', 'the', 'district', 'court', 'is', 'reversed', '..', 'nan', '.', 'We', 'affirm', 'but', 'remand', 'for', 'the', 'district', 'court', 'to', 'quash', 'its', 'order', 'requiring', 'Defendant', 'to', 'register', 'and', 'at', 'the', 'same', 'time', 'carry', 'out', 'its', 'duty', 'to', 'provide', 'Defendant', 'with', 'written', 'notice', 'of', 'his', 'duty', 'to', 'register', 'as', 'a', 'sex', 'offender', '..', 'We', 'remand', 'for', 'the', 'district', 'court', 'to', 'give', 'Defendant', 'written', 'notice', 'as', 'required', 'in', 'Section', '29-11A-7', '(', 'A', ')', '(', '2000', ')', '..', 'Because', 'SOR-NA', 'does', 'not', 'authorize', 'or', 'require', 'the', 'court', 'to', 'order', 'Defendant', 'to', 'register', ',', 'we', 'remand', 'for', 'the', 'district', 'court', 'to', 'quash', 'its', 'order', 'requiring', 'Defendant', 'to', 'register', '..', 'nan.We', 'agree', 'with', 'the', 'hearing', 'officer', 'and', 'affirm', 'his', 'decision', 'for', 'the', 'reasons', 'stated', 'below', '..', 'For', 'the', 'reasons', 'stated', ',', 'we', 'affirm', '..', 'nan.Because', 'Defendants', 'failed', 'to', 'timely', 'appeal', 'the', 'order', ',', 'and', 'instead', 'chose', 'to', 'postpone', 'an', 'appeal', 'until', 'after', 'an', 'arbitration', 'award', 'was', 'rendered', 'against', 'them', ',', 'we', 'dismiss', 'their', 'appeal', '..', 'Due', 'to', 'the', 'lack', 'of', 'circumstances', 'warranting', 'review', ',', 'we', 'dismiss', 'Defendants', \"'\", 'appeal', 'as', 'untimely', '..', 'For', 'the', 'foregoing', 'reasons', ',', 'we', 'dismiss', 'this', 'appeal', '..', 'nan.We', 'disagree', 'and', 'affirm', '..', 'The', 'decision', 'of', 'the', 'trial', 'court', ',', 'quieting', 'title', 'in', 'Plaintiffs', ',', 'is', 'affirmed', '..', 'nan.We', 'find', 'it', 'unnecessary', ',', 'however', ',', 'to', 'decide', 'whether', 'for', 'the', 'purpose', 'of', 'appeal', 'the', 'date', 'of', 'the', 'signing', ',', 'or', 'the', 'date', 'of', 'the', 'filing', 'and', 'recording', 'of', 'the', 'order', 'is', 'controlling', ',', 'for', 'the', 'reason', 'that', 'the', 'appeal', 'must', 'be', 'dismissed', 'upon', 'another', 'ground', ',', 'to-wit', ',', 'that', 'the', 'appeal', 'is', 'not', 'prosecuted', 'from', 'a', 'final', 'judgment', '..', 'The', 'court', 'being', 'without', 'jurisdiction', 'to', 'review', 'the', 'order', 'appealed', 'from', ',', 'the', 'appeal', 'must', 'be', 'dismissed', ',', 'and', 'it', 'is', 'so', 'ordered', '..', 'nan', '.', 'We', 'agree', 'that', 'the', 'State', 'failed', 'to', 'prove', 'exigent', 'circumstances', 'and', 'reverse', 'the', 'denial', 'of', 'Defendant', \"'s\", 'motion', 'to', 'suppress', '..', 'We', ',', 'therefore', ',', 'reverse', 'and', 'remand', 'to', 'the', 'trial', 'court', 'for', 'entry', 'of', 'an', 'order', 'suppressing', 'the', 'evidence', '..', 'nan.We', 'affirm', 'the', 'orders', 'of', 'the', 'district', 'court', 'affirming', 'these', 'dismissals', '..', 'nan.We', 'review', 'the', 'Commission', \"'s\", 'Order', 'pursuant', 'to', 'Rule', '12-102', '(', 'A', ')', '(', '3', ')', 'NMRA1997', ',', 'and', 'hold', 'that', 'the', 'contested', 'provisions', 'of', 'the', 'Order', 'were', 'lawful', ',', 'just', ',', 'and', 'reasonable', 'and', 'will', 'be', 'enforced', '..', 'Therefore', ',', 'we', 'affirm', 'the', 'Order', 'of', 'the', 'Commission', '..', 'nan.We', 'reverse', 'Defendant', \"'s\", 'probation', 'revocation', ',', 'we', 'remand', 'for', 'reinstatement', 'of', 'Defendant', \"'s\", 'probation', ',', 'and', 'we', 'determine', 'that', 'a', 'new', 'judge', 'is', 'required', 'to', 'preside', 'over', 'further', 'proceedings', 'in', 'this', 'case', '..', 'We', 'reverse', 'the', 'revocation', 'of', 'Defendant', \"'s\", 'probation', ',', 'reinstate', 'the', 'probation', ',', 'and', 'remand', 'to', 'the', 'trial', 'court', 'for', 'further', 'proceedings', ',', 'if', 'necessary', ',', 'upon', 'appropriate', 'notice', ',', 'before', 'a', 'different', 'judge', '..', 'nan.We', 'reverse', 'the', 'trial', 'court', \"'s\", 'order', 'to', 'seal', 'the', 'record', ',', 'remand', 'the', 'order', 'to', 'prohibit', 'further', 'hearings', ',', 'and', 'affirm', 'the', 'trial', 'court', 'in', 'all', 'other', 'regards', '..', 'Therefore', ',', 'we', 'remand', 'this', 'issue', 'to', 'the', 'trial', 'court', 'to', 'make', 'a', 'finding', 'as', 'to', 'whether', 'Wife', 'was', ',', 'in', 'fact', ',', 'indigent', ',', 'and', 'if', 'she', 'was', ',', 'to', 'reverse', 'the', 'order', 'prohibiting', 'further', 'hearings', 'for', 'nonpayment', 'of', 'the', 'GaL', \"'s\", 'fees', '..', 'We', 'reverse', 'the', 'trial', 'court', \"'s\", 'order', 'to', 'seal', 'the', 'record', '.', 'We', 'remand', 'the', 'issue', 'of', 'the', 'order', 'to', 'prohibit', 'hearings', 'for', 'a', 'determination', 'of', 'indigency', '.', 'If', 'Wife', 'is', 'found', 'to', 'be', 'indigent', ',', 'this', 'order', 'too', 'is', 'reversed', '.', 'The', 'trial', 'court', \"'s\", 'remaining', 'decisions', 'in', 'this', 'case', 'are', 'affirmed', '..', 'nan.We', 'reverse', 'and', 'remand', 'for', 'a', 'new', 'trial', 'on', 'the', 'grounds', 'that', 'Uniform', 'Jury', 'Instruction', '(', 'UJI', ')', ',', 'NMUJI', '1996', ',', '14-2228', ',', 'fails', 'to', 'instruct', 'the', 'jury', 'on', 'all', 'the', 'essential', 'elements', 'of', 'the', 'crime', 'of', 'escape', 'from', 'the', 'inmate-release', 'program', '..', 'We', 'do', 'not', 'address', 'the', 'remaining', 'issues', '..', 'Because', 'there', 'was', 'sufficient', 'evidence', 'to', 'convict', 'Defendant', 'under', 'the', 'erroneous', 'instruction', 'submitted', 'to', 'the', 'jury', ',', 'we', 'hold', 'that', 'retrial', 'is', 'permissible', 'and', 'remand', 'for', 'a', 'new', 'trial', 'consistent', 'with', 'this', 'opinion', '..', 'For', 'the', 'foregoing', 'reasons', ',', 'we', 'reverse', 'the', 'trial', 'court', 'for', 'failing', 'to', 'instruct', 'the', 'jury', 'on', 'the', 'essential', 'element', 'of', '``', 'willfulness', \"''\", 'for', 'the', 'crime', 'of', 'escape', 'from', 'the', 'inmate-release', 'program', ',', 'and', 'remand', 'for', 'a', 'new', 'trial', ',', 'at', 'which', 'time', 'the', 'jury', 'shall', 'be', 'instructed', 'on', 'the', 'element', 'of', 'willfulness', '..', 'nan.We', 'affirm', 'the', 'rulings', 'of', 'the', 'district', 'court', 'and', 'the', 'workers', \"'\", 'compensation', 'judge', '(', 'WCJ', ')', 'and', 'hold', 'that', 'Espinosa', 'may', 'not', 'pursue', 'a', 'tort', 'claim', 'in', 'district', 'court', 'to', 'recover', 'damages', 'for', 'the', 'injuries', 'he', 'sustained', 'in', 'this', 'accident', 'because', 'the', 'WCA', 'provides', 'the', 'exclusive', 'remedy', 'for', 'Espinosa', \"'s\", 'injuries', 'in', 'this', 'accident', '..', 'However', ',', 'our', 'Supreme', 'Court', 'precedent', 'compels', 'us', 'to', 'affirm', 'the', 'rulings', 'of', 'the', 'district', 'court', 'and', 'the', 'WCJ', 'which', 'conclude', 'that', 'the', 'WCA', 'provides', 'the', 'exclusive', 'remedy', 'for', 'the', 'injuries', 'sustained', 'in', 'Espinosa', \"'s\", 'accident', 'of', 'October', '22.1991', '..', 'nan.We', 'hold', 'that', 'Defendant', \"'s\", 'identity', 'was', 'adequately', 'proven', '.', 'However', ',', 'we', 'do', 'not', 'address', 'Defendant', \"'s\", 'claim', 'for', 'credit', 'on', 'his', 'sentence', 'as', 'the', 'issue', 'was', 'not', 'properly', 'preserved', 'below.Defendant', \"'s\", 'claim', 'for', 'credit', 'against', 'his', 'sentence', 'was', 'not', 'preserved', '.', 'Therefore', ',', 'we', 'do', 'not', 'address', 'it', '..', 'The', 'revocation', 'of', 'probation', 'and', 'reinstatement', 'of', 'sentence', 'is', 'affirmed', '..', 'nan', '.', 'We', 'conclude', 'that', 'Cooper', \"'s\", 'remarks', 'to', 'the', 'hostage', 'negotiators', 'were', 'voluntary', 'and', 'affirm', 'his', 'felony', 'murder', 'conviction', '..', 'We', 'vacate', 'the', 'unconstitutional', 'convictions', 'and', 'remand', 'for', 'resentencing', '..', 'We', 'affirm', 'in', 'part', ',', 'reverse', 'in', 'part', ',', 'and', 'remand', '..', 'We', 'vacate', 'Cooper', \"'s\", 'convictions', 'for', 'second-degree', 'murder', 'and', 'armed', 'robbery', ',', 'and', 'one', 'of', 'his', 'convictions', 'for', 'aggravated', 'battery', '..', 'We', 'conclude', 'that', 'the', 'second', 'aggravated', 'battery', 'conviction', 'should', 'not', 'be', 'vacated', '..', 'We', 'therefore', 'affirm', 'one', 'of', 'his', 'convictions', 'for', 'aggravated', 'battery', '..', 'We', 'affirm', 'his', 'conviction', 'for', 'felony', 'murder', 'and', 'one', 'of', 'his', 'aggravated', 'battery', 'convictions', '..', 'However', ',', 'because', \"Cooper's-multiple\", 'convictions', 'violate', 'Cooper', \"'s\", 'right', 'to', 'be', 'protected', 'from', 'double', 'jeopardy', ',', 'we', 'vacate', 'his', 'convictions', 'for', 'second-degree', 'murder', ',', 'armed', 'robbery', ',', 'and', 'one', 'of', 'Jiis', 'aggravated', 'battery', 'convictions', '.', 'We', 'remand', 'for', 'resentencing', 'in', 'accordance', 'with', 'this', 'opinion', '..', 'nan.We', 'affirm', 'the', 'trial', 'court', 'and', 'hold', 'that', ',', 'under', 'the', 'particular', 'facts', 'of', 'this', 'case', ',', 'the', 'rejection', 'form', 'signed', 'by', 'Genara', 'Vigil', 'was', 'valid', 'and', 'Plaintiffs', 'are', 'not', 'entitled', 'to', 'have', 'uninsured', 'motorists', 'coverage', 'read', 'into', 'their', 'policy', '.', '.Therefore', ',', 'for', 'the', 'reasons', 'stated', 'in', 'this', 'opinion', ',', 'we', 'affirm', 'the', 'trial', 'court', \"'s\", 'order', 'granting', 'summary', 'judgment', 'in', 'favor', 'of', 'Defendants.nan.We', 'reject', 'Duran', \"'s\", 'arguments', 'and', ',', 'for', 'the', 'reasons', 'stated', 'below', ',', 'we', 'affirm', '..', 'For', 'the', 'reasons', 'set', 'forth', 'below', ',', 'we', 'affirm', 'the', 'trial', 'court', \"'s\", 'decision', 'on', 'the', 'ground', 'that', 'the', 'Program', 'and', 'Marchal', 'were', 'entitled', 'to', 'judgment', 'as', 'a', 'matter', 'of', 'law', 'because', 'any', 'act', 'of', 'interference', 'attributable', 'to', 'the', 'Program', 'or', 'Marchal', 'can', 'be', 'justified', 'by', 'the', 'Agreement', 'and', 'Duran', \"'s\", '1995', 'Contract', '..', 'For', 'the', 'reasons', 'stated', ',', 'we', 'affirm', '..', 'nan.For', 'the', 'foregoing', 'reasons', ',', 'we', 'conclude', 'the', 'judgment', 'and', 'sentence', 'of', 'the', 'district', 'court', 'should', 'be', 'affirmed', '.', 'We', 'therefore', 'affirm', 'the', 'decision', 'of', 'the', 'Court', 'of', 'Appeals', '..', 'nan.We', 'affirm.For', 'the', 'foregoing', 'reasons', ',', 'we', 'affirm', '..', 'nan.Having', 'reviewed', 'the', 'record', ',', 'we', 'affirm', '..', 'Accordingly', ',', 'we', 'affirm', '..', 'nan.We', 'affirm', 'Defendant', \"'s\", 'convictions', 'and', 'reverse', 'with', 'regard', 'to', 'his', 'sentence', '..', 'We', 'affirm', 'Defendant', \"'s\", 'convictions', '..', 'We', 'reverse', 'his', 'sentence', 'to', 'the', 'extent', 'that', 'it', 'classifies', 'Defendant', 'as', 'a', 'serious', 'violent', 'offender', 'under', 'the', 'EMDA', '.', 'We', 'remand', 'for', 'the', 'district', 'court', 'to', 'enter', 'a', 'proper', 'sentence', 'in', 'accordance', 'with', 'this', 'opinion', '..', 'nan.We', 'reverse', 'and', 'remand', 'for', 'a', 'new', 'trial', 'because', 'there', 'was', 'fundamental', 'error', 'in', 'the', 'jury', 'instructions', '.', 'Because', 'we', 'reverse', 'and', 'remand', 'on', 'issues', '(', '1', ')', 'and', '(', '2', ')', 'relating', 'to', 'instructional', 'error', ',', 'we', 'do', 'not', 'address', 'the', 'remaining', 'issues', 'raised', '..', 'For', 'the', 'foregoing', 'reasons', ',', 'we', 'reverse', 'and', 'remand', 'for', 'a', 'new', 'trial', 'at', 'which', 'the', 'jury', 'instructions', 'for', 'aggravated', 'battery', 'with', 'a', 'deadly', 'weapon', ',', 'self-defense', 'and', 'defense', 'of', 'another', 'must', 'be', 'corrected', 'to', 'accord', 'with', 'our', 'Supreme', 'Court', \"'s\", 'instructions', 'in', 'Parish', 'and', 'NMUJI', '1997', ',', '1445181', 'and', '-5182.23', '..', 'nan', '.', 'We', 'therefore', 'reverse', 'and', 'remand', 'for', 'the', 'district', 'court', 'to', 'vacate', 'its', 'order', 'dismissing', 'the', 'petition', 'and', 'to', 'enter', 'an', 'order', 'severing', 'the', 'clause', 'in', 'question', '..', 'We', 'therefore', 'reverse', 'the', 'dismissal', 'of', 'the', 'City', \"'s\", 'petition', 'for', 'injunctive', 'and', 'declaratory', 'relief', 'and', 'remand', 'for', 'the', 'district', 'court', '(', '1', ')', 'to', 'vacate', 'its', 'order', 'dismissing', 'the', 'petition', ',', 'and', '(', '2', ')', 'to', 'sever', 'the', 'competing', 'system', 'clause', ',', '21', '(', '1', ')', ',', 'from', 'Ordinance', '185-99', '..', 'nan.As', 'a', 'result', ',', 'we', 'vacate', 'the', 'tariff', '..', 'We', 'therefore', 'vacate', 'the', 'tariff', 'and', 'remand', 'this', 'matter', 'to', 'the', 'PRC', 'for', 'further', 'proceedings', '..', 'nan.We', 'reverse', 'on', 'the', 'first', 'issue', 'and', 'affirm', 'on', 'the', 'second', '..', 'We', 'affirm', 'the', 'trial', 'court', \"'s\", 'decision', 'with', 'respect', 'to', 'the', 'use', 'of', 'the', 'deposition', 'to', 'impeach', 'Wiley', '.', 'We', 'reverse', 'the', 'trial', 'court', \"'s\", 'decision', 'to', 'grant', 'a', 'directed', 'verdict', 'and', 'remand', 'to', 'the', 'trial', 'court', 'for', 'trial', 'of', 'the', 'punitive', 'damages', 'claim', ':', 'Plaintiff', 'is', 'awarded', 'her', 'costs', 'on', 'appeal', '..', 'nan.We', 'affirm', '..', 'We', 'disagree', 'with', 'these', 'arguments', 'and', 'affirm', '..', 'In', 'light', 'of', 'the', 'discussion', 'above', ',', 'we', 'affirm', '..', 'nan.Defendant', \"'s\", 'motion', 'is', 'denied', '..', 'nan', '.', 'Finding', 'no', 'error', 'and', 'finding', 'sufficient', 'evidence', 'to', 'support', 'the', 'convictions', ',', 'we', 'affirm.Likewise', ',', 'in', 'this', 'case', ',', 'we', 'affirm', 'the', 'trial', 'court', \"'s\", 'refusal', 'to', 'dismiss', 'the', 'indictment', ',', 'as', 'Defendant', 'had', 'notice', 'of', 'the', 'charge', 'against', 'him', 'and', 'knew', 'that', 'both', 'guns', 'would', 'be', 'used', 'as', 'evidence', 'of', 'the', 'charge', '..', 'Defendant', \"'s\", 'convictions', 'for', 'carrying', 'a', 'deadly', 'weapon', 'on', 'school', 'grounds', 'and', 'negligent', 'use', 'of', 'a', 'firearm', 'are', 'affirmed', '..', 'nan.We', 'therefore', 'affirm', '..', 'We', 'therefore', 'affirm', '..', 'nan.We', 'granted', 'application', 'for', 'interlocutory', 'appeal', 'and', 'now', 'hold', 'that', 'the', 'trial', 'court', 'neither', 'abused', 'its', 'discretion', 'in', 'refusing', 'to', 'reinstate', 'the', 'original', 'plea', 'nor', 'erred', 'in', 'refusing', 'to', 'dismiss', 'the', 'death-penalty', 'proceedings', '..', 'Therefore', ',', 'we', 'affirm', 'the', 'trial', 'court', \"'s\", 'rulings', 'and', 'remand', 'for', 'trial', 'in', 'accordance', 'with', 'this', 'opinion', '..', 'nan.We', 'reverse', 'Defendant', \"'s\", 'conviction', 'and', 'remand', 'for', 'a', 'new', 'trial', '..', 'nan.On', 'that', 'ruling', ',', 'we', 'reverse', '..', 'Accordingly', ',', 'we', 'reverse', 'and', 'remand', 'to', 'the', 'workers', \"'\", 'compensation', 'judge', 'for', 'the', 'purpose', 'of', 'awarding', 'the', 'attorney', 'an', 'appropriate', 'fee', 'for', 'his', 'efforts', 'in', 'preserving', 'to', 'Worker', 'all', 'the', 'benefits', 'of', 'both', 'compensation', 'and', 'tort', 'recovery', 'to', 'which', 'Worker', 'was', 'entitled', '..', 'nan.We', 'affirm', '..', 'Because', 'in', 'this', 'case', 'the', 'trial', 'court', \"'s\", 'findings', 'on', 'limited', 'remand', 'support', 'the', 'existence', 'of', 'an', 'oral', 'agreement', 'to', 'waive', 'the', 'six-month', 'rule', ',', 'we', 'affirm', 'the', 'trial', 'court', \"'s\", 'decision', 'that', 'Defendant', \"'s\", 'case', 'should', 'not', 'be', 'dismissed', 'under', 'Rule', '5-604', '(', 'D', ')', '..', 'Therefore', ',', 'we', 'affirm', '..', 'nan.We', 'affirm', 'the', 'district', 'court', \"'s\", 'confirmation', 'of', 'the', 'arbitration', 'award', 'and', 'remand', 'the', 'order', 'awarding', 'additional', 'attorney', \"'s\", 'fees', 'to', 'be', 'vacated', 'by', 'the', 'district', 'court', '..', 'We', 'therefore', 'affirm', 'the', 'trial', 'court', \"'s\", 'confirmation', 'of', 'the', 'arbitration', 'award', 'in', 'full', '..', 'Consequently', ',', 'because', 'Aguilera', 'has', 'informed', 'us', 'that', 'she', 'is', 'giving', 'up', 'her', 'claim', 'for', 'the', 'attorney', \"'s\", 'fees', 'awarded', 'by', 'the', 'district', 'court', ',', 'we', 'remand', 'for', 'the', 'district', 'court', 'to', 'vacate', 'its', 'order', 'awarding', 'attorney', \"'s\", 'fees', '..', 'Because', 'we', 'hold', 'that', 'it', 'is', 'within', 'the', 'authority', 'of', 'an', 'arbitrator', 'to', 'award', 'punitive', 'damages', 'when', 'permitted', 'by', 'law', 'and', 'supported', 'by', 'the', 'facts', ',', 'we', 'affirm', 'the', 'arbitration', 'award', 'in', 'full', '.', 'We', 'also', 'remand', 'the', 'order', 'awarding', 'additional', 'attorney', \"'s\", 'fees', 'to', 'the', 'district', 'court', 'with', 'instructions', 'to', 'vacate', 'that', 'order', '..', 'nan.We', 'affirm', '..', 'We', 'affirm', 'the', 'court', 'on', 'all', 'grounds', '..', 'nan.Accordingly', ',', 'we', 'reverse', '..', 'The', 'orders', 'of', 'the', 'Grant', 'County', 'district', 'court', 'determining', 'custody', 'of', 'Child', 'are', 'reversed', '..', 'nan.We', 'accepted', 'certification', 'and', 'now', 'reverse', 'the', 'district', 'court', \"'s\", 'order', 'denying', 'Defendant', \"'s\", 'double', 'jeopardy', 'claim', '..', 'We', 'reverse', 'the', 'district', 'court', \"'s\", 'determination', 'that', 'trying', 'Defendant', 'for', 'first-degree', 'murder', 'following', 'his', 'successful', 'appeal', 'of', 'a', 'conviction', 'for', 'second', 'degree', 'murder', 'does', 'not', 'violate', 'his', 'rights', 'under', 'the', 'state', 'double', 'jeopardy', 'clause', '.', 'We', 'remand', 'the', 'ease', 'to', 'the', 'district', 'court', 'for', 'proceedings', 'consistent', 'with', 'this', 'opinion', '..', 'nan', '.', 'We', 'decline', 'to', 'extend', 'Nunez', 'to', 'the', 'circumstances', 'in', 'these', 'cases', ',', 'and', 'therefore', 'reverse', 'the', 'dismissals', 'in', 'both', 'Kirby', 'and', 'Collins', '..', 'For', 'the', 'reasons', 'we', 'set', 'out', 'in', 'our', 'discussion', 'and', 'disposition', 'of', 'Kirby', ',', 'declining', 'to', 'extend', 'Nunez', ',', 'we', 'reverse', 'Collins', '..', 'We', 'reverse', 'State', 'v.', 'Kirby', 'and', 'State', 'v.', 'Collins', '..', 'nan', '.', 'Based', 'on', 'the', 'particular', 'facts', 'of', 'this', 'case', ',', 'we', 'affirm', 'the', 'trial', 'court', \"'s\", 'approval', 'of', 'the', 'settlement', '..', 'For', 'the', 'reasons', 'above', ',', 'we', 'affirm', 'the', 'trial', 'court', \"'s\", 'approval', 'of', 'the', 'mediated', 'settlement', '..', 'nan.Accordingly', ',', 'summary', 'judgment', 'on', 'the', 'MeElhannons', \"'\", 'claim', 'of', 'fraud', 'by', 'affirmative', 'misrepresentation', 'is', 'affirmed', '..', 'Applying', 'Ledbetter', ',', 'we', 'hold', 'that', 'the', 'McElhannons', \"'\", 'claim', 'for', 'damages', 'for', 'nondisclosure', 'sounds', 'solely', 'in', 'de', 'ceit', ',', 'and', 'accordingly', ',', 'we', 'affirm', 'the', 'grant', 'of', 'summary', 'judgment', 'on', 'the', 'McElhannons', \"'\", 'claim', 'for', 'damages', 'for', 'negligent', 'nondisclosure', '..', 'We', 'therefore', 'reverse', 'the', 'grant', 'of', 'summary', 'judgment', 'as', 'to', 'the', 'rescission', 'count.e', '.', 'Unfair', 'Practices', 'Act.Accordingly', ',', 'we', 'affirm', 'the', 'trial', 'court', \"'s\", 'grant', 'of', 'summary', 'judgment', 'on', 'the', 'McElhannons', \"'\", 'UPA', 'claim', '..', 'To', 'summarize', ',', 'we', 'reverse', 'the', 'summary', 'judgment', 'as', 'to', 'the', 'McElhannons', \"'\", 'fraudulent', 'nondisclosure', 'and', 'rescission', 'claims', '..', 'We', 'affirm', 'the', 'grant', 'of', 'summary', 'judgment', 'as', 'to', 'the', 'McElhannons', \"'\", 'fraud', 'by', 'affirmative', 'representation', ',', 'negligent', 'nondisclosure', 'and', 'UPA', 'claims', '..', 'We', 'therefore', 'affirm', 'the', 'grant', 'of', 'summary', 'judgment', 'in', 'favor', 'of', 'Holland', '..', 'We', 'conclude', 'that', 'the', 'proper', 'course', 'is', 'to', 'remand', 'for', 'consideration', 'of', 'the', 'McElhannons', \"'\", 'motion', 'to', 'amend', '.', 'We', 'therefore', 'conditionally', 'affirm', 'the', 'grant', 'of', 'summary', 'judgment', 'in', 'Holland', \"'s\", 'favor', '..', 'We', 'affirm', 'the', 'summary', 'judgment', 'in', 'favor', 'of', 'PNM', '..', 'We', 'affirm', 'the', 'trial', 'court', \"'s\", 'grant', 'of', 'summary', 'judgment', 'on', 'the', 'McElhannons', \"'\", 'fraud', 'by', 'affirmative', 'representation', ',', 'negligent', 'nondisclosure', ',', 'and', 'UPA', 'claims', 'against', 'the', 'Fords', '.', 'We', 'reverse', 'the', 'summary', 'judgment', 'on', 'the', 'McElhannons', \"'\", 'fraudulent', 'nondisclosure', 'and', 'rescission', 'claims', '.', 'We', 'conditionally', 'affirm', 'the', 'dismissal', 'of', 'the', 'McElhannons', \"'\", 'claims', 'against', 'Holland', '.', 'However', ',', 'we', 'remand', 'for', 'consideration', 'of', 'the', 'McElhannons', \"'\", 'motion', 'to', 'amend', 'their', 'complaint', 'against', 'Holland', '.', 'We', 'affirm', 'the', 'grant', 'of', 'summary', 'judgment', 'on', 'the', 'McElhannons', \"'\", 'claim', 'against', 'PNM', '..', 'nan.We', 'affirm', 'Defendant', \"'s\", 'conviction', '..', 'For', 'the', 'foregoing', 'reasons', ',', 'we', 'affirm', 'Defendant', \"'s\", 'conviction', '..', 'nan.Thus', ',', 'we', 'affirm', 'Defendant', \"'s\", 'sentence', '..', 'We', 'affirm', 'Defendant', \"'s\", 'conviction', 'as', 'a', 'habitual', 'offender', 'under', 'Section', '31-18-17', '(', 'D', ')', '..', 'nan', '.', 'We', 'affirm', '..', 'The', 'orders', 'of', 'the', 'district', 'court', 'dismissing', 'Plaintiffs', \"'\", 'claims', 'are', 'affirmed', '..', 'nan.Because', 'the', 'record', 'is', 'devoid', 'of', 'substantial', 'evidence', 'supporting-the', 'order', ',', 'we', 'vacate', 'the', 'order', 'and', 'remand', 'to', 'the', 'Commission.', '.', 'In', 'conclusion', ',', 'because', 'the', 'record', 'does', 'not', 'contain', 'substantial', 'evidence', 'on', 'which', 'the', 'rates', 'set', 'by', 'the', 'Commission', 'could', 'be', 'based', ',', 'we', 'vacate', 'the', 'order', 'of', 'the', 'Commission', 'and', 'remand', 'for', 'further', 'proceedings', 'consistent', 'with', 'this', 'opinion', '..', 'nan.We', 'affirm', '..', 'The', 'decision', 'of', 'the', 'trial', 'court', 'excluding', 'the', 'results', 'of', 'Defendant', \"'s\", 'horizontal', 'gaze', 'nystagmus', 'field', 'sobriety', 'test', 'is', 'affirmed', '..', 'nan.We', 'vacate', 'the', 'order', 'granting', 'Landfill', \"'s\", 'application', 'and', 'remand', 'to', 'the', 'Secretary', 'for', 'de', 'novo', 'review', 'of', 'Landfill', \"'s\", 'application', 'after', 'publication', 'of', 'notice', 'substantially', 'complying', 'with', 'Subsection', '74-9-22', '(', '0', ')', '..', 'The', 'Secretary', \"'s\", 'final', 'order', 'is', 'vacated', 'and', 'this', 'matter', 'is', 'remanded', 'for', 'further', 'proceedings', 'consistent', 'with', 'this', 'opinion', '..', 'Therefore', ',', 'I', 'agree', 'that', 'it', 'is', 'necessary', 'to', 'remand', 'the', 'Secretary', \"'s\", 'decision', 'for', 'further', 'proceedings', 'in', 'compliance', 'with', 'the', 'statute', '..', 'nan.Accordingly', ',', 'we', 'affirm', 'the', 'dismissal', 'of', 'the', 'malpractice', ',', 'breach', 'of', 'contract', ',', 'and', 'a', 'portion', 'of', 'deceit', 'counts', 'of', 'this', 'case', '.', 'We', 'also', 'reverse', 'a', 'portion', 'of', 'the', 'deceit', 'claim', '..', 'The', 'district', 'court', \"'s\", 'dismissal', 'of', 'Plaintiffs', 'action', 'is', 'affirmed', 'in', 'all', 'respects', 'except', 'for', 'the', 'dismissal', 'of', 'the', 'deceit', 'count', 'against', 'Defendant', 'Miller', 'to', 'the', 'extent', 'that', 'the', 'deceit', 'alleged', 'is', 'Miller', \"'s\", 'concealment', 'of', 'the', 'requirement', 'of', 'filing', 'notice', 'of', 'alibi', 'and', 'the', 'resultant', 'failure', 'to', 'investigate', 'and', 'present', 'an', 'alibi', 'defense', '..', 'nan', '.', 'We', 'affirm', 'the', 'Court', 'of', 'Appeals', 'and', 'remand', 'for', 'further', 'proceedings', 'consistent', 'with', 'this', 'opinion', '..', 'We', 'affirm', 'the', 'Court', 'of', 'Appeals', 'and', 'hold', 'that', 'procedures', 'for', 'identifying', 'hazards', 'on', 'roadways', 'and', 'the', 'timeliness', 'of', 'minimizing', 'or', 'eliminating', 'the', 'risk', 'of', 'injury', 'to', 'the', 'motoring', 'public', 'from', 'those', 'hazards', 'constitute', 'maintenance', 'activities', 'for', 'which', 'immunity', 'is', 'waived', 'under', 'the', 'TCA', '..', 'For', 'the', 'foregoing', 'reasons', ',', 'we', 'affirm', 'the', 'Court', 'of', 'Appeals', '.', '.We', 'hold', 'that', 'Chaves', 'County', 'is', 'not', 'immune', 'from', 'suit', 'and', 'remand', 'this', 'case', 'for', 'further', 'proceedings', 'consistent', 'with', 'this', 'opinion', '..', 'nan', '.', 'We', 'therefore', 'affirm', 'the', 'Workers', \"'\", 'Compensation', 'Judge', '(', 'WCJ', ')', '..', 'Having', 'affirmed', 'the', 'WCJ', \"'s\", 'finding', ',', 'we', 'also', 'affirm', 'the', 'award', 'of', 'Worker', \"'s\", 'attorney', 'fees', '..', 'Based', 'on', 'the', 'foregoing', 'conclusions', 'we', 'affirm', 'the', 'WCJ', \"'s\", 'decision', '..', 'nan.We', 'affirm', '..', 'We', 'therefore', 'affirm', '..', 'We', 'affirm', 'the', 'district', 'court', 'in', 'ordering', 'that', 'Petitioner', \"'s\", 'good-time', 'credits', 'be', 'restored', 'and', 'the', 'record', 'of', 'the', 'hearing', 'be', 'stricken', 'from', 'his', 'file', '..', 'We', 'also', 'affirm', 'the', 'court', \"'s\", 'decision', 'to', 'preclude', 'another', 'hearing', 'for', 'the', 'incident', 'at', 'issue.', '.', 'The', 'district', 'court', \"'s\", 'order', 'is', 'therefore', 'affirmed', '..', 'nan', '.', 'The', 'judgment', 'of', 'the', 'Court', 'of', 'Appeals', 'is', 'affirmed', 'in', 'part', 'and', 'reversed', 'in', 'part', '..', 'Therefore', ',', 'Vallejos', 'was', 'not', 'entrapped', ',', 'his', 'right', 'to', 'due', 'process', 'of', 'law', 'under', 'our', 'state', 'constitution', 'was', 'not', 'violated', ',', 'and', 'his', 'conviction', 'is', 'affirmed', '..', 'nan.We', 'affirm', 'in', 'part', 'and', 'reverse', 'and', 'remand', 'this', 'matter', 'in', 'part', 'with', 'instructions', '..', 'We', 'affirm', 'the', 'portion', 'of', 'the', 'trial', 'court', \"'s\", 'decision', 'to', 'continue', 'the', 'placement', 'of', 'the', 'children', 'with', 'the', 'Department', 'until', 'an', 'investigation', 'of', 'the', 'Father', \"'s\", 'fitness', 'and', 'the', 'allegations', 'of', 'abuse', 'is', 'completed', '..', 'We', 'reverse', 'and', 'remand', 'in', 'part', 'to', 'Children', \"'s\", 'Court', ',', 'wherein', 'the', 'Department', 'shall', 'investigate', 'both', 'the', 'underlying', 'allegations', 'of', 'abuse', 'and', 'current', 'fitness', 'of', 'Father', '..', 'Therefore', ',', 'we', 'affirm', 'the', 'trial', 'court', \"'s\", 'determination', 'to', 'continue', 'custody', 'in', 'the', 'Department', 'until', 'the', 'Children', \"'s\", 'Court', 'can', 'investigate', 'and', 'determine', 'the', 'proper', 'placement', 'of', 'the', 'children', '..', 'Additionally', ',', 'to', 'that', 'limited', 'extent', 'only', ',', 'we', 'reverse', 'the', 'order', 'of', 'the', 'Children', \"'s\", 'Court', 'below', 'and', 'remand', 'for', 'further', 'proceedings', 'below', 'before', 'the', 'Children', \"'s\", 'Court', 'pursuant', 'to', 'Section', '32A-4-20', '(', 'J', ')', ',', 'wherein', 'the', 'Department', 'shall', 'investigate', 'both', 'the', 'underlying', 'allegations', 'of', 'abuse', 'and', 'the', 'current', 'fitness', 'of', 'Father', 'subject', 'to', 'the', 'supervision', 'of', 'the', 'Children', \"'s\", 'Court', ',', 'and', 'that', 'ultimately', 'the', 'Children', \"'s\", 'Court', 'may', 'make', 'the', 'necessary', 'findings', 'and', 'conclusions', 'with', 'regard', 'to', 'Father', \"'s\", 'fitness', 'to', 'be', 'a', 'legal', 'custodian', '..', 'We', 'therefore', 'affirm', 'in', 'part', 'and', 'reverse', 'and', 'remand', 'this', 'matter', 'in', 'part', 'with', 'instructions', 'for', 'further', 'proceedings', 'not', 'inconsistent', 'with', 'this', 'opinion', '..', 'nan.For', 'the', 'reasons', 'discussed', 'herein', ',', 'we', 'affirm', 'in', 'part', 'and', 'reverse', 'in', 'part', '..', 'Defendant', \"'s\", 'conviction', 'of', 'reckless', 'driving', 'is', 'affirmed', '.', 'On', 'remand', ',', 'the', 'trial', 'court', 'shall', 'vacate', 'the', 'conviction', 'of', 'child', 'abuse', 'and', 'enter', 'an', 'amended', 'judgment', 'and', 'sentence', 'consistent', 'with', 'the', 'matters', 'discussed', 'herein', '..', 'nan', '.', 'For', 'the', 'reasons', 'discussed', 'below', ',', 'we', 'affirm', '..', 'We', 'affirm', 'the', 'ruling', 'of', 'the', 'trial', 'court', 'as', 'to', 'this', 'issue', '..', 'Upon', 'the', 'facts', 'of', 'this', 'case', ',', 'we', 'disagree', 'and', 'affirm', 'the', 'district', 'court', \"'s\", 'ruling', '..', 'We', 'affirm', 'the', 'district', 'court', \"'s\", 'ruling', 'that', 'Defendant', 'was', 'not', 'competent', 'to', 'stand', 'trial', 'and', 'its', 'denial', 'of', 'the', 'State', \"'s\", 'request', 'for', 'a', 'second', 'psychological', 'evaluation', 'of', 'Defendant', '..', 'nan.We', 'affirm', 'in', 'part', 'and', 'reverse', 'in', 'part', 'the', 'district', 'court', \"'s\", 'grant', 'of', 'summary', 'judgment', 'in', 'Defendant', \"'s\", 'favor', 'on', 'the', 'defamation', 'counts', ',', 'and', 'reverse', 'as', 'to', 'the', 'tortious', 'interference', 'with', 'contract', 'count', '..', 'We', 'remand', 'for', 'further', 'proceedings', 'as', 'to', 'these', 'statements', '..', 'We', 'reverse', 'the', 'district', 'court', \"'s\", 'grant', 'of', 'summary', 'judgment', 'in', 'favor', 'of', 'Defendant', 'with', 'respect', 'to', 'the', 'following', 'alleged', 'defamatory', 'statements', ':', '.We', 'also', 'reverse', 'summary', 'judgment', 'for', 'Defendant', 'on', 'the', 'tortious', 'interference', 'claim', '..', 'We', 'remand', 'this', 'case', 'to', 'the', 'district', 'court', 'for', 'further', 'proceedings', 'consistent', 'with', 'this', 'opinion', '..', 'nan.We', 'affirm', 'the', 'district', 'court', \"'s\", 'dismissal', 'of', 'Defendant', \"'s\", 'appeal', 'from', 'his', 'magistrate', 'court', 'convictions', '..', 'Because', 'we', 'affirm', 'the', 'district', 'court', \"'s\", 'ruling', ',', 'we', 'do', 'not', 'reach', 'the', 'merits', 'of', 'Defendant', \"'s\", 'claim', '..', 'nan.We', 'now', 'affirm', 'the', 'Court', 'of', 'Appeals', 'but', 'on', 'different', 'grounds', '..', 'We', 'affirm', 'the', 'Court', 'of', 'Appeals', 'on', 'different', 'grounds', 'and', 'remand', 'to', 'the', 'district', 'court', 'for', 'further', 'proceedings', 'consistent', 'with', 'this', 'opinion', '..', 'nan.We', 'affirm', '..', 'Given', 'Appellants', \"'\", 'posture', 'in', 'this', 'appeal', ',', 'we', 'affirm', 'the', 'district', 'court', '..', 'We', 'affirm', 'the', 'decision', 'of', 'the', 'district', 'court', '..', 'nan', '.', 'We', 'therefore', 'affirm', '..', 'We', 'therefore', 'affirm', '..', 'nan.For', 'the', 'reasons', 'discussed', 'below', ',', 'we', 'affirm', 'the', 'judgment', 'with', 'respect', 'to', 'Plaintiffs', 'claims', 'against', 'Charter', 'for', 'negligent', 'misrepresentation', 'and', 'negligent', 'selection', 'and', 'supervision', 'of', 'McGregor', '..', 'We', 'affirm', 'the', 'trial', 'court', \"'s\", 'rulings', 'with', 'respect', 'to', 'summary', 'judgment', 'motions', 'filed', 'by', 'the', 'parties', 'as', 'they', 'related', 'to', 'the', 'claims', 'set', 'forth', 'in', 'the', 'Second', 'Amended', 'Complaint', '..', 'We', 'affirm', 'the', 'trial', 'court', \"'s\", 'rulings', 'with', 'respect', 'to', 'the', 'directed', 'verdicts', 'on', 'the', 'claims', 'for', 'punitive', 'damages', 'and', 'violation', 'of', 'the', 'Unfair', 'Practices', 'Act', '..', 'We', 'reverse', 'the', 'judgment', 'on', 'Plaintiffs', 'claim', 'of', 'fraudulent', 'misrepresentation', ',', 'and', 'reverse', 'the', 'trial', 'court', \"'s\", 'decision', 'to', 'grant', 'a', 'directed', 'verdict', 'dismissing', 'Plaintiffs', 'claim', 'against', 'Cook', 'for', 'wrongful', 'disclosure', '..', 'We', 'reverse', 'the', 'trial', 'court', \"'s\", 'ruling', 'and', 'remand', 'for', 'a', 'jury', 'trial', 'on', 'Plaintiffs', 'wrongful', 'disclosure', 'claim', '..', 'We', 'reverse', 'the', 'trial', 'court', \"'s\", 'order', 'granting', 'a', 'directed', 'verdict', 'on', 'Plaintiffs', 'claim', 'of', 'wrongful', 'disclosure', 'and', 'remand', 'for', 'a', 'jury', 'trial', 'on', 'this', 'claim', '..', 'We', 'therefore', 'affirm', 'the', 'judgment', 'with', 'respect', 'to', 'Plaintiffs', 'claim', 'of', 'negligent', 'selection', 'and', 'supervision', '..', 'The', 'judgment', 'as', 'to', 'these', 'claims', 'is', 'affirmed', '..', 'We', 'determine', 'that', 'the', 'trial', 'court', 'erred', 'in', 'submitting', 'the', 'claim', 'of', 'fraudulent', 'misrepresentation', 'to', 'the', 'jury', 'and', 'reverse', 'the', 'judgment', 'with', 'respect', 'to', 'the', 'damages', 'awarded', 'on', 'that', 'claim.We', 'reverse', 'the', 'judgment', 'with', 'respect', 'to', 'Plaintiff', \"'s\", 'claim', 'of', 'fraudulent', 'misrepresentation', '..', 'We', 'affirm', 'the', 'trial', 'court', \"'s\", 'decision', 'to', 'strike', 'the', 'claims', 'for', 'punitive', 'damages', 'as', 'to', 'negligent', 'selection', ',', 'supervision', ',', 'and', 'misrepresentation', '..', 'Therefore', ',', 'we', 'affirm', 'the', 'trial', 'court', \"'s\", 'decision', 'to', 'dismiss', 'Plaintiffs', 'claim', 'for', 'violation', 'of', 'the', 'Unfair', 'Practices', 'Act', '..', 'We', 'affirm', 'the', 'judgment', 'with', 'respect', 'to', 'Plaintiffs', 'claims', 'for', 'negligent', 'misrepresentation', 'and', 'negligent', 'selection', 'and', 'supervision', '.', 'We', 'affirm', 'the', 'trial', 'court', \"'s\", 'decision', 'to', 'grant', 'a', 'directed', 'verdict', 'dismissing', 'Plaintiffs', 'claims', 'for', 'violation', 'of', 'the', 'Unfair', 'Practices', 'Act', 'and', 'punitive', 'damages', '.', 'We', 'reverse', 'the', 'judgment', 'with', 'respect', 'to', 'Plaintiffs', 'claims', 'for', 'fraudulent', 'misrepresentation', ',', 'and', 'we', 'reverse', 'the', 'trial', 'court', \"'s\", 'decision', 'to', 'grant', 'a', 'directed', 'verdict', 'dismissing', 'Plaintiffs', 'claim', 'for', 'wrongful', 'disclosure', '.', 'We', 'remand', 'to', 'the', 'trial', 'court', 'for', 'trial', 'on', 'Plaintiffs', 'wrongful', 'disclosure', 'claim', '..', 'nan.We', 'hold', 'that', 'the', 'record', 'before', 'us', 'is', 'insufficient', 'to', 'support', 'the', 'search', 'and', 'therefore', 'reverse', '..', 'We', 'therefore', 'must', 'reverse', 'the', 'district', 'court', '..', 'For', 'the', 'above', 'reasons', ',', 'the', 'denial', 'of', 'Defendant', \"'s\", 'motion', 'to', 'suppress', 'is', 'reversed', '.', 'We', 'remand', 'for', 'entry', 'of', 'an', 'order', 'suppressing', 'the', 'marijuana', 'and', 'for', 'further', 'proceedings', 'consistent', 'with', 'this', 'opinion', '..', 'nan.We', 'hold', 'that', 'the', 'Children', \"'s\", 'Code', 'preempts', 'the', 'Curfew', 'and', 'the', 'Safe', 'Teen', 'Operation', 'Program', '(', 'STOP', 'program', ')', ',', 'and', 'thus', 'affirm', 'the', 'district', 'court', '..', 'We', 'affirm', 'the', 'district', 'court', '..', 'nan.We', 'affirm', '..', 'We', 'affirm', 'the', 'conviction', '..', 'nan', '.', 'We', 'affirm', '..', 'We', 'do', 'not', 'agree', 'with', 'the', 'State', \"'s\", 'arguments', ',', 'and', 'we', 'therefore', 'affirm', 'the', 'suppression', 'of', 'the', 'child', \"'s\", 'statements', '..', 'For', 'the', 'above', 'stated', 'reasons', ',', 'we', 'affirm', 'the', 'children', \"'s\", 'court', \"'s\", 'grant', 'of', 'the', 'child', \"'s\", 'motion', 'to', 'suppress', '..', 'nan.We', 'therefore', 'deny', 'the', 'petition', 'for', 'the', 'writ', 'and', 'lift', 'the', 'stay', 'of', 'Commission', 'business', '..', 'nan', '.', 'We', 'therefore', 'affirm', 'the', 'trial', 'court', \"'s\", 'order', 'of', 'dismissal', '..', 'For', 'the', 'foregoing', 'reasons', ',', 'we', 'affirm', 'the', 'trial', 'court', \"'s\", 'dismissal', 'of', 'the', 'delinquency', 'petition', 'without', 'prejudice', '..', 'nan.We', 'therefore', 'affirm', '..', 'We', 'affirm', 'the', 'district', 'court', \"'s\", 'dismissal', 'of', 'Plaintiffs', 'case', '..', 'nan', '.', 'We', 'reverse', 'the', 'trial', 'court', \"'s\", 'order', 'suppressing', 'the', 'evidence', '..', 'We', 'reverse', 'the', 'order', 'of', 'the', 'trial', 'court', 'suppressing', 'the', 'evidence', 'and', 'remand', 'for', 'further', 'proceedings', '..', 'nan.For', 'the', 'reasons', 'given', 'the', 'decree', 'of', 'the', 'Trial', 'Court', 'is', 'réversed', 'and', 'a', 'decree', 'will', 'be', 'rendered', 'in', 'this', 'Court', 'in', 'accordance', 'with', 'the', 'views', 'expressed', 'herein', ',', 'and', 'it', 'is', 'so', 'ordered', '..', 'nan.We', 'disagree', 'and', 'affirm', '.', '.We', 'accordingly', 'affirm', '..', 'nan.Therefore', ',', 'we', 'dismiss', 'the', 'appeal', 'as', 'premature', '..', 'Consequently', ',', 'we', 'dismiss', 'the', 'appeal', 'as', 'premature', '..', 'For', 'the', 'reasons', 'above', 'given', ',', 'Homeowners', \"'\", 'appeal', 'is', 'DISMISSED', 'as', 'premature', '..', 'nan.Because', 'we', 'are', 'not', 'persuaded', 'that', 'the', 'legislature', 'intended', 'multiple', 'punishments', 'for', 'the', 'same', 'offense', 'or', 'that', 'the', 'legislature', 'intended', 'to', 'pumsh', 'every', 'CSP', 'that', 'resulted', 'from', 'force', 'and', 'restraint', 'as', 'a', 'second-degree', 'felony', ',', 'we', 'remand', 'this', 'case', 'to', 'the', 'trial', 'court', 'with', 'instructions', 'to', 'vacate', 'Defendant', \"'s\", 'conviction', 'and', 'sentence', 'for', 'kidnapping', 'and', 'CSP', 'II', 'in', 'the', 'commission', 'of', 'a', 'kidnapping', '..', 'We', 'affirm', 'Defendant', \"'s\", 'remaining', 'conviction', 'and', 'sentence', 'for', 'CSP', 'II', 'resulting', 'in', 'personal', 'injury', '..', 'We', 'affirm', 'the', 'trial', 'court', \"'s\", 'decision', 'regarding', 'the', 'use', 'of', 'jury', 'instructions', 'for', 'CSP', 'II', 'in', 'this', 'case.B', '.', 'Double', 'Jeopardy', '..', 'For', 'the', 'foregoing', 'reasons', ',', 'we', 'remand', 'this', 'case', 'to', 'the', 'trial', 'court', 'with', 'instructions', 'to', 'vacate', 'Defendant', \"'s\", 'conviction', 'and', 'sentence', 'for', 'kidnapping', 'and', 'Defendant', \"'s\", 'conviction', 'and', 'sentence', 'for', 'CSP', 'II', '(', 'commission', 'of', 'a', 'felony', ')', '.', 'We', 'affirm', 'Defendant', \"'s\", 'remaining', 'conviction', 'and', 'sentence', 'for', 'CSP', 'II', '(', 'personal', 'injury', ')', '..', 'nan.For', 'the', 'reasons', 'discussed', 'below', ',', 'we', 'reverse', 'the', 'decision', 'of', 'the', 'WCA', 'as', 'it', 'relates', 'to', 'the', 'reimbursement', 'award', 'and', 'imposition', 'of', 'attorney', \"'s\", 'fees', ',', 'and', 'remand', 'the', 'matter', 'for', 'further', 'proceedings', '.', 'We', 'affirm', 'the', 'WCA', \"'s\", 'determination', 'regarding', 'Chavez', \"'\", 'wage', 'upon', 'returning', 'to', 'work', '..', 'We', ',', 'therefore', ',', 'deem', 'Chavez', \"'\", 'argument', 'on', 'this', 'point', 'waived', 'and', 'affirm', 'the', 'WCA', \"'s\", 'ruling', 'that', 'Chavez', 'returned', 'to', 'work', 'at', 'a', 'wage', 'equal', 'to', 'or', 'greater', 'than', 'his', 'pre-injury', 'wage', '..', 'For', 'the', 'foregoing', 'reasons', ',', 'we', 'reverse', 'the', 'WCA', \"'s\", 'reimbursement', 'award', 'and', 'its', 'ruling', 'relating', 'to', 'imposition', 'of', 'attorney', \"'s\", 'fees', '.', 'The', 'matter', 'is', 'remanded', 'to', 'the', 'WCA', 'so', 'that', 'it', 'can', 'recalculate', 'the', 'amount', 'of', 'S.E.D./USF', '&', 'amp', ';', 'G', \"'s\", 'actual', 'reimbursement', 'right', 'in', 'light', 'of', 'Gutierrez', ',', 'and', 'again', 'consider', 'the', 'attorney', \"'s\", 'fee', 'issue', 'after', 'recalculation', 'of', 'those', 'amounts', '.', 'We', 'affirm', 'the', 'WCA', \"'s\", 'determination', 'that', 'Chavez', 'returned', 'to', 'work', 'at', 'a', 'wage', 'greater', 'than', 'or', 'equal', 'to', 'his', 'pre-injury', 'wage', '..', 'nan.We', 'therefore', 'reverse', 'the', 'award', 'of', 'attorney', 'fees', '..', 'Accordingly', ',', 'we', 'reverse', 'the', 'district', 'court', \"'s\", 'decision', 'as', 'to', 'Fidel', 'and', 'remand', 'for', 'further', 'proceedings', 'consistent', 'with', 'this', 'opinion', '..', 'nan.We', 'reverse', 'and', 'remand', 'for', 'reinstatement', 'of', 'the', 'charge', '..', 'We', 'reverse', 'the', 'dismissal', 'of', 'the', 'burglary', 'charge', 'and', 'remand', 'to', 'the', 'trial', 'court', 'for', 'reinstatement', 'of', 'the', 'charge', '..', 'nan.We', 'affirm', 'Defendant', \"'s\", 'conviction', '..', 'Thus', ',', 'we', 'affirm', 'Defendant', \"'s\", 'conviction', '..', 'nan', '.', 'We', 'reverse', '..', 'We', 'reverse', 'and', 'remand', 'to', 'the', 'district', 'court', 'to', 'vacate', 'the', 'order', 'granting', 'Defendants', \"'\", 'motions', 'for', 'summary', 'judgment', 'and', 'dismissing', 'Plaintiffs', \"'\", 'complaint', 'with', 'prejudice', '..', 'nan.We', 'affirm', '..', 'We', 'affirm', 'the', 'orders', 'of', 'the', 'WCJ', 'denying', 'Insurer', \"'s\", 'motion', 'to', 'enforce', 'the', 'settlement', 'agreement', 'and', 'granting', 'summary', 'judgment', 'in', 'favor', 'of', 'Children', '..', 'nan.We', 'hold', 'that', 'attempt', 'to', 'commit', 'a', 'violation', 'of', 'the', 'WQA', 'is', 'a', 'lesser', 'included', 'offense', 'in', 'this', 'instance', ',', 'and', 'we', 'remand', 'to', 'the', 'trial', 'court', 'for', 'adjudication', 'of', 'guilt', 'on', 'attempt', 'and', 'resentencing', '.', '.We', 'reverse', 'Defendant', \"'s\", 'convictions', 'and', 'remand', 'to', 'the', 'trial', 'court', 'for', 'resentencing', 'and', 'affirm', 'the', 'trial', 'court', 'in', 'all', 'other', 'respects.We', 'must', 'therefore', 'reverse', 'Defendant', \"'s\", 'convictions', '..', 'We', 'hold', 'that', ',', 'under', 'the', 'facts', 'of', 'this', 'case', ',', 'there', 'is', 'sufficient', 'evidence', 'to', 'find', 'Defendant', 'guilty', 'of', 'attempt', 'to', 'commit', 'the', 'offenses', 'for', 'which', 'the', 'jury', 'found', 'him', 'guilty', ',', 'and', 'we', 'remand', 'to', 'the', 'trial', 'court', 'for', 'resentencing', 'based', 'on', 'attempt', 'to', 'commit', 'the', 'violations', 'of', 'the', 'statute.We', 'reverse', 'Defendant', \"'s\", 'convictions', 'and', 'remand', 'to', 'the', 'trial', 'court', 'for', 'resentencing', 'on', 'the', 'lesser', 'included', 'offense', 'of', 'attempting', 'to', 'commit', 'the', 'violations', 'of', 'the', 'statute', '.', 'We', 'affirm', 'as', 'to', 'all', 'other', 'issues', '..', 'nan.We', 'now', 'reverse', '..', 'We', 'reverse', 'the', 'Court', 'of', 'Appeals', 'on', 'both', 'issues', 'presented', 'to', 'this', 'Court', 'on', 'certiorari', '.', '.nan.We', 'disagree', 'with', 'Plaintiffs', 'arguments', 'and', 'therefore', 'affirm', 'the', 'dismissal', 'of', 'his', 'suit', '..', 'The', 'order', 'dismissing', 'the', 'complaint', 'is', 'affirmed', '..', 'nan.We', 'vacate', 'the', 'district', 'court', \"'s\", 'order', 'and', 'reverse', 'and', 'remand', 'for', 'entry', 'of', 'an', 'order', 'requiring', 'the', 'Director', 'to', 'submit', 'Petitioner', \"'s\", 'complete', 'application', 'to', 'a', 'panel', '..', 'We', 'vacate', 'the', 'district', 'court', \"'s\", 'order', 'and', 'reverse', 'and', 'remand', 'for', 'entry', 'of', 'an', 'order', 'requiring', 'the', 'Director', 'to', 'submit', 'Petitioner', \"'s\", 'complete', 'application', 'to', 'a', 'panel', '..', 'nan', '..', 'We', 'affirm', '..', 'We', 'therefore', 'conclude', 'that', 'the', 'trial', 'court', 'properly', 'granted', 'summary', 'judgment', 'in', 'favor', 'of', 'Insurer', 'and', 'affirm', '..', 'nan.We', 'affirm', '..', 'For', 'the', 'foregoing', 'reasons', ',', 'the', 'decision', 'of', 'the', 'trial', 'court', 'is', 'affirmed', '.', '.nan.Because', 'CHAMPUS', 'is', 'not', 'a', 'party', 'to', 'this', 'appeal', 'we', 'do', 'not', 'reach', 'point', 'one', ';', 'as', 'to', 'point', 'two', 'we', 'reverse', '..', 'nan.We', 'reverse', 'because', 'Child', 'did', 'not', 'demonstrate', ',', 'as', 'part', 'of', 'his', 'burden', 'below', ',', 'that', 'he', 'was', 'not', 'predisposed', 'to', 'sell', 'the', 'cocaine', 'when', 'he', 'had', 'the', 'burden', 'to', 'do', 'so', 'and', 'because', 'objective', 'entrapment', 'does', 'not', 'apply', 'to', 'this', 'case', '..', 'We', 'reverse', 'the', 'children', \"'s\", 'court', \"'s\", 'order', 'to', 'the', 'extent', 'it', 'is', 'based', 'on', 'subjective', 'entrapment.We', 'reverse', 'the', 'children', \"'s\", 'court', \"'s\", 'grant', 'of', 'child', \"'s\", 'motion', 'to', 'suppress', 'and', 'remand', 'to', 'the', 'children', \"'s\", 'court', '..', 'nan', '.', 'We', 'reverse', 'and', 'remand', 'with', 'instructions', 'for', 'the', 'trial', 'court', 'to', 'set', 'a', 'date', 'for', 'a', 'hearing', 'on', 'Vieira', \"'s\", 'claims', '..', 'nan.We', 'hold', 'that', 'Defendant', 'has', 'the', 'right', 'to', 'appeal', 'from', 'the', 'order', 'permitting', 'a', 'new', 'trial', ',', 'but', 'we', 'affirm', 'the', 'order', 'because', 'Defendant', 'was', 'not', 'acquitted', 'of', 'the', 'CSP', 'charge', '..', 'We', 'affirm', 'the', 'district', 'court', 'order', 'granting', 'a', 'new', 'trial', '..', 'nan', '.', 'We', 'affirm', 'Gonzales', \"'\", 'conviction', 'for', 'felony', 'DWI', '.', 'We', 'reverse', 'his', 'sentence', 'and', 'remand', 'for', 'resentencing', '..', 'Therefore', ',', 'that', 'portion', 'of', 'his', 'sentence', 'that', 'has', 'been', 'enhanced', 'must', 'be', 'reversed', '..', 'For', 'the', 'foregoing', 'reasons', ',', 'we', 'affirm', 'Gonzales', \"'\", 'conviction', 'for', 'a', 'fourth', 'offense', 'of', 'driving', 'while', 'intoxicated', 'under', 'Section', '66-8-102', '(', 'G', ')', '.', 'We', 'reverse', 'the', 'enhancement', 'of', 'his', 'sentence', 'by', 'eight', 'years', 'as', 'an', 'habitual', 'offender', 'under', 'Section', '31-18-17', '.', 'We', 'remand', 'for', 'entry', 'of', 'an', 'amended', 'judgment', 'and', 'sentence', '..', 'nan', '.', 'We', 'hold', 'that', 'the', 'summary', 'judgment', 'motion', 'should', 'not', 'have', 'been', 'granted', ',', 'and', 'therefore', 'we', 'reverse', 'and', 'remand', 'the', 'case', 'to', 'the', 'trial', 'court', 'for', 'hearing.Therefore', ',', 'we', 'reverse', 'the', 'trial', 'court', \"'s\", 'grant', 'of', 'summary', 'judgment', ',', 'finding', 'material', 'issues', 'of', 'fact', 'exist', 'as', 'to', 'whether', 'the', 'attorney-shareholders', 'should', 'be', 'personally', 'liable', 'for', 'their', 'actions', 'regarding', 'the', 'representation', 'of', 'McKay', '..', 'For', 'these', 'reasons', ',', 'the', 'grant', 'of', 'summary', 'judgment', 'is', 'reversed', 'and', 'the', 'case', 'remanded', '..', 'nan.For', 'the', 'reasons', 'stated', 'below', ',', 'we', 'affirm', '..', 'For', 'these', 'reasons', ',', 'we', 'affirm', 'the', 'trial', 'court', \"'s\", 'decision', 'to', 'aggravate', 'Defendant', \"'s\", 'sentence', '..', 'For', 'the', 'foregoing', 'reasons', ',', 'we', 'affirm', 'Defendant', \"'s\", 'conviction', 'for', 'retaliation', 'against', 'a', 'witness', 'and', 'the', 'aggravation', 'of', 'his', 'sentence', '..', 'nan', '.', 'We', 'affirm', 'the', 'verdict', 'and', 'the', 'award', 'of', 'prejudgment', 'interest', 'on', 'the', 'compensatory', 'damages', 'portion', 'of', 'the', 'award', '..', 'The', 'jury', \"'s\", 'verdict', 'is', 'affirmed', '..', 'The', 'trial', 'court', \"'s\", 'determination', 'regarding', 'prejudgement', 'interest', 'is', 'affirmed', '..', 'nan', '.', 'Defendant', \"'s\", 'conviction', 'of', 'harboring', 'a', 'felon', 'is', 'reversed', '..', 'nan.Accordingly', ',', 'we', 'reverse', 'the', 'trial', 'court', \"'s\", 'dismissal', 'of', 'Cigna', 'and', 'remand', 'for', 'further', 'proceedings', 'consistent', 'with', 'this', 'opinion', '..', 'For', 'the', 'foregoing', 'reasons', ',', 'we', 'reverse', 'and', 'remand', 'for', 'further', 'proceedings', 'consistent', 'with', 'this', 'opinion', '..', 'nan.Because', 'the', 'record', 'shows', 'that', 'Defendants', 'were', 'entitled', 'to', 'qualified', 'immunity', ',', 'we', 'remand', 'to', 'the', 'district', 'court', 'with', 'instructions', 'to', 'enter', 'judgment', 'in', 'favor', 'of', 'Defendants', 'on', 'the', '1983', 'claim', '..', 'We', 'reverse', 'the', 'district', 'court', \"'s\", 'denial', 'of', 'Defendants', \"'\", 'motion', 'for', 'a', 'protective', 'order', 'and', 'remand', 'this', 'case', 'to', 'the', 'district', 'court', 'with', 'instructions', 'to', 'enter', 'judgment', 'for', 'Defendants', 'on', 'the', '1983', 'claim', '..', 'nan.Having', 'given', 'careful', 'consideration', 'to', 'Worker', \"'s\", 'arguments', ',', 'we', 'conclude', 'that', 'the', 'judge', \"'s\", 'award', 'of', 'scheduled', 'injury', 'benefits', 'was', 'correct', ',', 'that', 'Worker', 'has', 'not', 'demonstrated', 'that', 'she', 'meets', 'the', 'requirements', 'for', 'total', 'disability', ',', 'and', 'that', 'substantial', 'evidence', 'supports', 'the', 'judge', \"'s\", 'decision', '..', 'nan.We', 'affirm', 'in', 'part', ',', 'reverse', 'in', 'part', ',', 'and', 'remand', '..', 'Accordingly', ',', 'we', 'affirm', 'both', 'the', 'court', \"'s\", 'interpretation', 'of', 'the', 'Lemon', 'Law', 'and', 'its', 'application', 'to', 'this', 'particular', 'case', '..', 'We', 'affirm', 'the', 'judgment', 'of', 'the', 'trial', 'court', 'that', 'Plaintiff', 'is', 'not', 'entitled', 'to', 'recovery', 'under', 'the', 'Motor', 'Vehicle', 'Quality', 'Assurance', 'Act', ',', 'but', 'we', 'reverse', 'the', 'judgment', 'of', 'the', 'trial', 'court', 'that', 'Plaintiff', 'was', 'not', 'entitled', 'to', 'recovery', 'under', 'the', 'Unfair', 'Practices', 'Act', '.', 'On', 'remand', 'the', 'district', 'court', 'shall', 'award', 'Plaintiff', 'reasonable', 'attorneys', \"'\", 'fees', 'and', 'costs', ',', 'including', 'those', 'reasonably', 'incurred', 'on', 'appeal', '..', 'nan', '.', 'We', 'affirm', 'Defendant', \"'s\", 'convictions', 'for', 'aggravated', 'burglary', ',', 'conspiracy', 'to', 'commit', 'burglary', ',', 'and', 'larceny', 'of', 'a', 'firearm', '.', 'We', 'reverse', 'Defendant', \"'s\", 'conviction', 'of', 'larceny', 'over', '$', '250', 'on', 'the', 'ground', 'of', 'double', 'jeopardy', '..', 'Accordingly', ',', 'we', 'affirm', 'Defendant', \"'s\", 'convictions', 'for', 'aggravated', 'burglary', 'and', 'conspiracy', 'to', 'commit', 'burglary', '..', 'Therefore', ',', 'the', 'conviction', 'and', 'sentence', 'for', 'larceny', 'over', '$', '250', 'but', 'not', 'more', 'than', '$', '2500', 'must', 'be', 'vacated', ',', 'and', 'we', 'remand', 'to', 'the', 'district', 'court', 'with', 'instructions', 'to', 'vacate', 'that', 'conviction', 'and', 'sentence', '.', 'We', 'affirm', 'the', 'conviction', 'of', 'Defendant', 'for', 'larceny', 'of', 'a', 'firearm', '..', 'nan.We', 'affirm', 'as', 'to', 'the', 'first', 'two', 'arguments', 'and', 'the', 'payment', 'of', 'interest', 'but', 'reverse', 'as', 'to', 'the', 'payment', 'of', 'penalties', '..', 'We', 'affirm', '..', 'nan.We', 'therefore', 'reverse', 'and', 'remand', 'for', 'a', 'new', 'trial.', '.', 'For', 'this', 'reason', ',', 'we', 'reverse', 'the', 'trial', 'court', \"'s\", 'judgment', 'and', 'remand', 'for', 'a', 'new', 'trial', 'and', 'further', 'proceedings', 'consistent', 'with', 'this', 'opinion', '..', 'nan.We', 'note', 'jurisdiction', 'under', 'SCRA', '1986', ',', '12-102', '(', 'A', ')', '(', '2', ')', '(', 'Repl.Pamp.1992', ')', '(', 'directing', 'to', 'Supreme', 'Court', 'appeals', 'from', 'district', 'courts', 'in', 'which', 'sentence', 'of', 'life', 'imprisonment', 'has', 'been', 'imposed', ')', ',', 'and', 'affirm', '..', 'We', 'therefore', 'affirm', 'the', 'conviction', 'for', 'first-degree', 'murder', '..', 'Appellant', \"'s\", 'convictions', 'are', 'therefore', 'affirmed', '..', 'nan.We', 'affirm', 'the', 'trial', 'court', 'in', 'both', 'respects', '..', 'For', 'the', 'reasons', 'previously', 'stated', ',', 'Defendant', \"'s\", 'conviction', 'for', 'concealing', 'identity', 'is', 'affirmed', '..', 'nan.We', 'hold', 'that', 'PNM', 'has', 'no', 'duty', 'to', 'the', 'public', 'to', 'maintain', 'streetlights', ',', 'under', 'the', 'circumstances', 'of', 'this', 'case', ',', 'and', 'therefore', 'we', 'affirm', 'the', 'trial', 'court', '..', 'We', 'affirm', 'the', 'trial', 'court', \"'s\", 'grant', 'of', 'summary-judgment', 'in', 'favor', 'of', 'PNM', '..', 'nan', '.', 'We', 'affirm', 'the', 'district', 'court', '..', 'The', 'order', 'granting', 'Defendants', 'summary', 'judgment', 'is', 'affirmed', '..', 'nan.Thus', ',', 'we', 'affirm', '..', 'nan.Since', 'the', 'district', 'court', 'did', 'not', 'lack', 'jurisdiction', 'to', 'act', 'upon', 'the', 'State', \"'s\", 'petition', ',', 'we', 'reverse', 'the', 'Court', 'of', 'Appeals', '..', 'Thus', ',', 'we', 'reverse', 'the', 'Court', 'of', 'Appeals', 'and', 'remand', 'to', 'the', 'district', 'court', 'for', 'proceedings', 'consistent', 'with', 'this', 'opinion', '..', 'nan.We', 'affirm', 'the', 'trial', 'court', \"'s\", 'denial', 'of', 'Defendants', \"'\", 'motions', '..', 'We', 'affirm', 'the', 'trial', 'court', \"'s\", 'order', 'and', 'remand', 'to', 'the', 'trial', 'court', 'for', 'trial', 'on', 'the', 'statute', 'of', 'limitations', 'question', 'and', ',', 'if', 'the', 'fact', 'finder', 'determines', 'Plaintiffs', 'claim', 'was', 'timely', ',', 'on', 'the', 'merits', '..', 'nan.Because', 'TPL', 'met', 'its', 'burden', 'to', 'establish', 'that', 'it', 'provided', 'services', 'to', 'an', 'out-of-state', 'buyer', 'that', 'neither', 'made', 'initial', 'use', 'nor', 'took', 'delivery', 'of', 'its', 'product', 'of', 'service', 'in', 'New', 'Mexico', ',', 'we', 'reverse.Because', 'TPL', 'established', 'that', 'it', 'was', 'eligible', 'for', 'the', 'deduction', 'granted', 'under', 'Section', '7-9-57', ',', 'we', 'reverse', 'the', 'judgment', 'of', 'the', 'hearing', 'officer', 'and', 'the', 'Court', 'of', 'Appeals', '..', 'We', 'therefore', 'reverse', 'the', 'judgment', 'of', 'the', 'hearing', 'officer', 'and', 'hold', 'that', 'TPL', 'is', 'entitled', 'to', 'deduct', 'the', 'receipts', 'from', 'its', 'contracts', 'with', 'IOC', '..', 'nan.Reversed', 'and', 'remanded', '..', 'Reversed', 'and', 'remanded', '..', 'nan.We', 'determine', 'that', 'the', 'jury', 'instructions', 'on', 'aggravated', 'battery', 'with', 'a', 'deadly', 'weapon', 'were', 'improper', 'and', 'we', 'therefore', 'reverse', 'and', 'remand', 'on', 'that', 'issue', 'only', '.', 'Being', 'unpersuaded', 'by', 'Defendant', \"'s\", 'arguments', 'on', 'all', 'other', 'issues', ',', 'we', 'affirm', 'on', 'those', 'issues', '...', 'We', 'therefore', 'reverse', 'Defendant', \"'s\", 'conviction', 'and', 'sentence', 'on', 'aggravated', 'battery', 'with', 'a', 'deadly', 'weapon', 'under', 'Issue', '(', '1', ')', 'and', 'affirm', 'the', 'trial', 'court', \"'s\", 'judgment', 'and', 'sentence', 'on', 'Issues', '(', '2', ')', 'and', '(', '3', ')', '.', 'We', 'remand', 'for', 'a', 'new', 'trial', 'on', 'Issue', '(', '1', ')', 'consistent', 'with', 'this', 'opinion', '..', 'nan.We', 'affirm', 'the', 'summary', 'judgment', 'in', 'favor', 'of', 'H.C.', 'and', 'reverse', 'the', 'summary', 'judgment', 'in', 'favor', 'of', 'John.We', 'remand', ',', 'however', ',', 'for', 'the', 'trial', 'court', 'to', 'determine', 'whether', ',', 'under', 'the', 'facts', 'of', 'this', 'case', ',', 'John', 'had', 'a', 'duty', 'to', 'Decedent', 'that', 'would', 'make', 'him', 'individually', 'liable', '..', 'Summary', 'judgment', 'was', 'thus', 'properly', 'granted', 'in', 'favor', 'of', 'H.C.The', 'summary', 'judgment', 'in', 'favor', 'of', 'John', 'is', 'reversed', 'and', 'remanded', 'for', 'further', 'proceedings', 'consistent', 'with', 'this', 'opinion', '..', 'nan.We', 'hold', 'that', 'the', 'policy', 'excluded', 'coverage', 'for', 'injuries', 'to', 'employees', ',', 'and', 'reverse', '..', 'We', 'reverse', 'and', 'remand', 'with', 'instructions', 'to', 'enter', 'summary', 'judgment', 'in', 'favor', 'of', 'the', 'insurance', 'company', '..', 'nan.We', 'affirm', '..', 'However', ',', 'we', 'affirm', 'the', 'trial', 'court', \"'s\", 'grant', 'of', 'summary', 'judgment', 'since', 'there', 'were', 'no', 'damages', 'arising', 'from', 'the', 'breach', 'of', 'this', 'contract', ',', 'a', 'contract', 'for', 'the', 'opening', 'and', 'closing', 'of', 'Kiro', \"'s\", 'gravesite', '..', 'We', 'affirm', 'the', 'district', 'court', \"'s\", 'grant', 'of', 'summary', 'judgment', 'for', 'breach', 'of', 'contract', ',', 'intentional', 'infliction', 'of', 'emotional', 'distress', ',', 'negligent', 'infliction', 'of', 'emotional', 'distress', 'and', 'prima', 'facie', 'tort', '..', 'nan.That', 'date', 'was', 'almost', 'a', 'year', 'earlier', 'than', 'any', 'IRS', 'notice', 'of', 'deficiency', 'was', 'issued', ';', 'the', 'statute', 'of', 'limitations', 'had', 'run', ',', 'and', 'we', 'reverse', 'the', 'district', 'court', '..', 'The', 'district', 'court', \"'s\", 'judgment', 'in', 'favor', 'of', 'the', 'Davises', 'is', 'hereby', 'reversed', '..', 'nan.We', 'remand', 'to', 'the', 'district', 'court', 'for', 'a', 'hearing', 'on', '(', '1', ')', 'whether', 'the', 'State', 'could', 'reasonably', 'have', 'provided', 'greater', 'specificity', 'of', 'the', 'times', 'of', 'the', 'alleged', 'offenses', 'and', '(', '2', ')', 'if', 'so', ',', 'whether', 'the', 'State', \"'s\", 'failure', 'in', 'this', 'regard', 'prejudiced', 'Defendant', '..', 'We', 'remand', 'to', 'the', 'trial', 'court', ',', 'with', 'instructions', 'to', 'consider', 'the', 'indictment', 'and', 'Defendant', \"'s\", 'Motion', 'for', 'a', 'Bill', 'of', 'Particulars', 'in', 'light', 'of', 'this', 'Opinion', '..', 'nan', '.', 'We', 'affirm', 'the', 'trial', 'court', \"'s\", 'decision', 'because', 'the', 'Defendants', \"'\", 'construction', 'of', 'the', 'statute', 'is', 'valid', 'and', 'Carlsbad', 'abandoned', 'any', 'right', 'to', 'oppose', 'enforcement', 'of', 'valid', 'rules', ',', 'regulations', ',', 'and', 'policies', 'when', 'it', 'settled', 'prior', 'litigation', 'with', 'the', 'State', 'Board.FACTSTraining', 'and', 'Experience', 'Index', '{', '2', '}', 'In', '1969', ',', 'the', 'State', 'Legislature', 'enacted', 'the', 'New', 'Mexico', 'State', 'Equalization', 'Guarantee', 'Distribution', '..', 'We', 'affirm', 'the', 'trial', 'court', \"'s\", 'judgment', 'in', 'favor', 'of', 'Defendants', '..', 'nan.We', 'granted', 'the', 'petition', ',', 'and', 'we', 'now', 'reverse', 'and', 'remand', 'to', 'the', 'district', 'court', 'to', 'conduct', 'an', 'appellate', 'review', 'of', 'the', 'Village', 'proceedings', ',', 'using', 'the', 'duly', 'approved', 'minutes', 'of', 'the', 'Village', 'meetings', 'as', 'the', 'official', 'transcript', 'of', 'those', 'proceedings', '..', 'We', 'therefore', 'remand', 'to', 'the', 'district', 'court', 'to', 'conduct', 'a', 'review', 'of', 'this', 'appeal', ',', 'using', 'the', 'approved', 'minutes', 'and', 'all', 'documents', 'and', 'attachments', 'that', 'were', 'formally', 'introduced', 'or', 'incorporated', 'as', 'part', 'of', 'the', 'public', 'records', 'as', 'the', 'official', 'transcript', 'of', 'the', 'Village', 'proceedings', '..', 'We', 'reverse', 'the', 'district', 'court', \"'s\", 'order', 'on', 'appeal', 'and', 'remand', 'for', 'the', 'district', 'court', 'to', 'conduct', 'a', 'review', 'of', 'this', 'appeal', 'under', 'the', 'standard', 'of', 'review', 'outlined', 'in', 'this', 'opinion', ',', 'using', 'the', 'official', 'minutes', 'of', 'the', 'Village', 'proceedings', 'as', 'the', 'transcript', 'for', 'review', 'and', 'Resolutions', '1999-14', 'and', '2000-15', 'as', 'satisfaction', 'of', 'the', 'mandate', 'of', 'Section', '39-3-1.1', 'for', 'a', 'statement', 'of', 'factual', 'and', 'legal', 'basis', '..', 'nan.We', 'affirm', '..', 'We', 'affirm', 'the', 'district', 'court', '..', 'We', 'affirm', '..', 'nan.We', 'reverse', '..', 'We', 'reverse', 'the', 'order', 'dismissing', 'Plaintiffs', 'claims', 'and', 'remand', 'for', 'further', 'proceedings', '..', 'nan.Because', 'we', 'determine', 'that', 'the', 'State', 'failed', 'to', 'bring', 'Defendant', 'to', 'trial', 'within', 'six', 'months', 'of', 'the', 'date', 'the', 'mandate', 'was', 'filed', 'with', 'the', 'district', 'court', ',', 'we', 'reverse', '..', 'We', 'reverse', 'because', 'the', 'State', 'failed', 'to', 'bring', 'the', 'case', 'to', 'trial', 'within', 'six', 'months', 'of', 'the', 'date', 'the', 'mandate', 'was', 'filed', 'with', 'the', 'district', 'court', '..', 'nan.Upon', 'doing', 'so', 'we', 'now', 'affirm', 'the', 'decision', 'of', 'the', 'district', 'court', '..', 'We', 'therefore', 'affirm', 'the', 'decision', 'of', 'the', 'district', 'court', 'dismissing', 'the', 'direct', 'FLSA', 'claims', 'as', 'set', 'forth', 'in', 'Counts', 'I', ',', 'III', 'and', 'IV', 'of', 'the', 'Appellants', \"'\", 'Second', 'Amended', 'Complaint', '.', '.nan.We', 'affirm', 'his', 'convictions', 'for', 'felony', 'murder', 'and', 'conspiracy', ',', 'vacate', 'his', 'conviction', 'for', 'shooting', 'at', 'a', 'dwelling', ',', 'and', 'remand', 'for', 'resentencing', '..', 'Therefore', ',', 'Defendant', \"'s\", 'conviction', 'for', 'shooting', 'at', 'a', 'dwelling', 'is', 'vacated', '..', 'For', 'the', 'foregoing', 'reasons', ',', 'we', 'affirm', 'Defendant', \"'s\", 'convictions', 'for', 'felony', 'murder', 'and', 'conspiracy', ',', 'vacate', 'his', 'conviction', 'for', 'shooting', 'at', 'a', 'dwelling', ',', 'and', 'also', 'vacate', 'the', 'firearm', 'enhancements', '.', 'We', 'remand', 'for', 'resentencing', '..', 'nan.We', 'conclude', 'that', 'Section', '30-7-16', 'does', 'not', 'permit', 'a', 'felon', 'in', 'possession', 'conviction', 'under', 'these', 'circumstances', 'and', 'affirm', 'the', 'district', 'court', \"'s\", 'granting', 'of', 'Defendant', \"'s\", 'motion', 'to', 'dismiss', '..', 'We', 'affirm', 'the', 'district', 'court', \"'s\", 'grant', 'of', 'Defendant', \"'s\", 'motion', 'to', 'dismiss', '.', '{', '.nan.Accordingly', ',', 'we', 'affirm', '..', 'The', 'judgment', 'and', 'sentence', 'are', 'affirmed', '..', 'nan.We', 'reverse', 'the', 'district', 'court', '..', 'We', 'reverse', 'the', 'district', 'court', '..', 'nan.We', 'agree', 'with', 'the', 'court', 'below', 'and', 'affirm', 'its', 'denial', 'of', 'Defendant', \"'s\", 'motion', 'to', 'suppress', '..', 'Accordingly', ',', 'we', 'affirm', 'the', 'judgment', 'and', 'sentence', 'entered', 'below', '..', 'nan.We', 'reverse', 'the', 'revocation', 'of', 'Defendant', \"'s\", 'probation', 'holding', 'that', 'the', 'judgment', 'is', 'not', 'in', 'effect', 'during', 'the', 'pendency', 'of', 'Defendant', \"'s\", 'appeal', '..', 'For', 'the', 'foregoing', 'reasons', ',', 'we', 'reverse', 'the', 'district', 'court', \"'s\", 'denial', 'of', 'Defendant', \"'s\", 'motion', 'to', 'dismiss', 'and', 'remand', 'this', 'matter', 'with', 'instructions', 'to', 'vacate', 'the', 'judgment', 'and', 'sentence', 'resulting', 'from', 'the', 'probation', 'violation', 'proceeding', '..', 'I', 'disagree', 'and', 'would', 'affirm', 'based', 'in', 'part', 'on', 'our', 'Supreme', 'Court', \"'s\", 'observation', 'in', 'Kelly', 'Inn', 'v.', 'Kapnison.nan', '.', 'We', 'reverse', 'the', 'trial', 'court', \"'s\", 'decision', 'to', 'revoke', 'Child', \"'s\", 'probation', ':', '.Applying', 'this', 'standard', 'of', 'review', ',', 'we', 'hold', 'that', 'the', 'evidence', 'establishing', 'the', 'violations', 'was', 'insufficient', 'as', 'a', 'matter', 'of', 'law', 'and', 'reverse', 'the', 'trial', 'court', '..', 'The', 'finding', 'of', 'the', 'trial', 'court', 'is', 'not', 'supported', 'by', 'substantial', 'evidence', ',', 'and', 'is', 'reversed', '..', 'For', 'the', 'reasons', 'stated', ',', 'we', 'reverse', 'the', 'trial', 'court', \"'s\", 'decision', 'to', 'revoke', 'Child', \"'s\", 'probation', '..', 'nan', '.', 'For', 'the', 'reasons', 'discussed', 'below', ',', 'we', 'affirm', 'Defendant', \"'s\", 'convictions', 'and', 'sentence', '..', 'For', 'the', 'reasons', 'discussed', 'above', ',', 'we', 'affirm', 'Defendant', \"'s\", 'convictions', 'and', 'sentences', '..', 'nan.We', 'hold', 'that', 'there', 'are', 'genuine', 'issues', 'of', 'material', 'fact', 'concerning', 'whether', 'the', 'statements', 'are', 'actionable', ',', 'and', 'we', 'remand', 'for', 'further', 'proceedings', 'on', 'Plaintiffs', \"'\", 'claim', 'that', 'Defendant', 'committed', 'malpractice', 'by', 'mishandling', 'the', 'fraud', 'case', '..', 'We', 'reverse', 'this', 'ruling', 'as', 'well', '..', 'Because', 'we', 'reverse', 'the', 'summary', 'judgment', 'with', 'regard', 'to', 'the', 'fraud', 'claim', ',', 'we', 'reverse', 'the', 'summary', 'judgment', 'with', 'regard', 'to', 'the', 'contract', 'claim', '..', 'For', 'these', 'reasons', ',', 'we', 'reverse', 'the', 'grants', 'summary', 'judgment', '..', 'nan.We', 'therefore', 'affirm', '..', 'Accordingly', ',', 'we', 'affirm', 'the', 'trial', 'court', '..', 'For', 'the', 'foregoing', 'reasons', ',', 'we', 'affirm', 'summary', 'judgment', 'dismissing', 'Plaintiffs', 'complaint', '..', 'nan.The', 'State', 'appeals', 'the', 'children', \"'s\", 'court', \"'s\", 'order', ',', 'and', 'we', 'affirm', '..', 'In', 'summary', ',', 'we', 'affirm', 'the', 'children', \"'s\", 'court', 'order', 'that', 'the', 'children', \"'s\", 'court', 'lacked', 'jurisdiction', 'to', 'extend', 'the', 'confinement', 'of', 'Adam', 'M.', 'beyond', 'his', 'eighteenth', 'birthday', '..', 'nan.We', 'conclude', 'that', 'the', 'clause', 'is', 'in', 'violation', 'of', 'public', 'policy', ',', 'but', 'we', 'select', 'a', 'different', 'remedy', 'than', 'the', 'one', 'selected', 'by', 'the', 'Court', 'of', 'Appeals', '..', 'nan', '.', 'We', 'affirm', 'the', 'district', 'court', ',', 'holding', 'that', ',', 'based', 'upon', 'the', 'language', 'of', 'Section', '42A-1-21', 'and', 'the', 'statute', \"'s\", 'history', ',', 'the', 'legislature', 'intended', 'to', 'provide', 'for', 'a', 'jury', 'trial', 'on', 'the', 'issues', 'of', 'public', 'use', 'and', 'necessity', '..', 'We', 'affirm', 'the', 'district', 'court', \"'s\", 'denial', 'of', 'SFSR', \"'s\", 'oral', 'motion', 'to', 'strike', 'Baucis', \"'\", 'jury', 'demand', '..', 'Because', 'the', 'district', 'court', 'denied', 'SFSR', \"'s\", 'request', 'for', 'immediate', 'possession', ',', 'we', 'remand', 'for', 'the', 'appointment', 'of', 'commissioners', 'and', 'assessment', 'of', 'damages', '..', 'nan.Unpersuaded', 'by', 'Design', 'Professionals', \"'\", 'arguments', ',', 'we', 'affirm', '..', 'We', 'affirm', 'the', 'trial', 'court', \"'s\", 'order', 'granting', 'of', 'summary', 'judgment', 'to', 'St.', 'Paul', 'and', 'denying', 'Design', 'Professionals', \"'\", 'partial', 'summary', 'judgment', '..', 'nan.We', 'affirm', 'the', 'district', 'court', \"'s\", 'dismissal', 'for', 'failure', 'to', 'pursue', 'the', 'remedies', 'set', 'forth', 'in', 'the', 'State', 'Personnel', 'Act', '.', 'We', 'also', 'affirm', 'the', 'district', 'court', \"'s\", 'decision', 'to', 'dismiss', 'claims', 'of', 'retaliatory', 'discharge', 'and', 'claims', 'arising', 'under', 'the', 'state', 'constitution', '..', 'We', 'affirm', 'the', 'judgment', 'of', 'the', 'district', 'court', '..', 'nan.For', 'these', 'reasons', ',', 'we', 'affirm', 'the', 'opinion', 'of', 'the', 'Court', 'of', 'Appeals', '..', 'nan.We', 'therefore', 'reverse', 'the', 'grant', 'of', 'summary', 'judgment', 'in', 'Defendants', \"'\", 'favor', '..', 'The', 'summary', 'judgment', 'in', 'Defendants', \"'\", 'favor', 'is', 'reversed', 'and', 'this', 'matter', 'is', 'remanded', 'to', 'the', 'district', 'court', 'for', 'further', 'proceedings', 'consistent', 'with', 'this', 'opinion', '..', 'nan.Concluding', ',', 'for', 'the', 'purposes', 'of', 'qualified', 'immunity', ',', 'that', 'these', 'Defendants', 'have', 'not', 'violated', 'Plaintiffs', 'right', 'to', 'due', 'process', ',', 'we', 'reverse', 'the', 'order', 'of', 'the', 'trial', 'court', 'denying', 'summary', 'judgment', 'as', 'to', 'these', 'individually', 'named', 'Defendants', '..', 'We', 'also', 'reverse', 'the', 'trial', 'court', \"'s\", 'order', 'denying', 'summary', 'judgment', 'as', 'to', 'Defendants', 'Mary', 'Lee', 'Martin', ',', 'Bill', 'Rothanbarger', ',', 'Agatha', 'Lopez', ',', 'Leonard', 'DeLayo', ',', 'Don', 'Patterson', ',', 'Diego', 'Gallegos', ',', 'Pauline', 'Garcia', ',', 'Jimmy', 'Juarez', ',', 'Jack', 'Bobroff', ',', 'and', 'Peter', 'Horoschak', '..', 'We', ',', 'accordingly', ',', 'reverse', 'the', 'order', 'of', 'the', 'trial', 'court', 'denying', 'Defendants', \"'\", 'motion', 'for', 'summary', 'judgment', '.', '.We', 'remand', 'to', 'the', 'trial', 'court', 'for', 'entry', 'of', 'an', 'order', 'granting', 'summary', 'judgment', 'in', 'favor', 'of', 'the', 'individual', 'Defendants', 'and', 'for', 'further', 'proceedings', 'on', 'the', 'Section', '1983', 'liability', 'question', 'against', 'APS', 'and', 'the', 'School', 'Board', ',', 'as', 'entities', '..', 'nan.Because', 'we', 'do', 'not', 'agree', 'that', 'the', 'statutory', 'scheme', 'violated', 'Defendant', \"'s\", 'rights', ',', 'is', 'void', 'for', 'vagueness', ',', 'or', 'that', 'the', 'statute', 'criminalizes', 'the', 'exercise', 'of', 'his', 'Fourth', 'Amendment', 'rights', ',', 'we', 'affirm', 'his', 'convictions', '..', 'We', 'find', 'that', 'Defendant', \"'s\", 'argument', 'is', 'unpersuasive', 'and', 'affirm', 'the', 'district', 'court', 'on', 'this', 'issue', '..', 'For', 'the', 'reasons', 'stated', 'above', ',', 'the', 'decision', 'of', 'the', 'district', 'court', 'is', 'affirmed', '..', 'nan.We', 'therefore', 'affirm', '..', 'We', 'affirm', 'the', 'ruling', 'of', 'the', 'district', 'court', '..', 'nan', '.', 'The', 'district', 'court', 'ruled', 'in', 'the', 'affirmative', ',', 'and', 'for', 'the', 'following', 'reasons', ',', 'we', 'agree', '..', 'The', 'district', 'court', \"'s\", 'dismissal', 'of', 'the', 'indictment', 'against', 'Mother', 'for', 'custodial', 'interference', 'is', 'hereby', 'affirmed', '..', 'nan.We', 'reverse', 'on', 'both', 'issues', 'and', 'remand', 'to', 'the', 'trial', 'court', '..', 'Therefore', ',', 'we', 'reverse', 'the', 'trial', 'court', \"'s\", 'grant', 'of', 'summary', 'judgment', 'on', 'the', 'claim', 'of', 'prima', 'facie', 'tort', 'because', 'the', 'trial', 'court', 'did', 'not', 'consider', 'all', 'of', 'the', 'pertinent', 'evidence', 'and', 'because', 'the', 'Ribbles', 'have', 'overcome', 'their', 'burden', 'to', 'demonstrate', 'a', 'disputed', 'material', 'fact', '..', 'Because', 'the', 'trial', 'court', 'did', 'not', 'consider', 'any', 'evidence', 'except', 'that', 'evidence', 'relating', 'to', 'the', 'June', '1998', 'note', ',', 'we', 'reverse', 'the', 'trial', 'court', \"'s\", 'limitation', 'of', 'remedies', 'under', 'the', 'UPA', 'claim', '..', 'We', 'reverse', 'the', 'grant', 'of', 'summary', 'judgment', 'on', 'the', 'prima', 'facie', 'tort', 'claim', 'and', 'we', 'reverse', 'the', 'limitation', 'of', 'the', 'UPA', 'claim', '.', 'We', 'remand', 'for', 'trial', '..', 'nan.We', 'reverse', 'and', 'remand', '..', 'We', 'reverse', 'and', 'remand', 'for', 'further', 'proceedings', '..', 'nan.The', 'order', 'granting', 'Defendant', \"'s\", 'motion', 'to', 'dismiss', 'for', 'lack', 'of', 'personal', 'jurisdiction', 'is', 'affirmed', '..', 'nan', '.', 'We', 'affirm', 'Defendant', \"'s\", 'convictions', '..', 'We', 'reject', 'each', 'of', 'Defendant', \"'s\", 'challenges', 'to', 'the', 'jury', 'verdict', 'raised', 'in', 'this', 'appeal', '.', 'The', 'judgment', 'on', 'the', 'verdict', 'is', 'affirmed', '..', 'nan', '.', 'We', 'therefore', 'reverse', 'the', 'judgment', 'of', 'the', 'Court', 'of', 'Appeals', 'and', 'affirm', 'the', 'sentence', 'imposed', 'by', 'the', 'district', 'court', '..', 'We', 'therefore', 'affirm', 'the', 'sentence', 'imposed', 'by', 'the', 'district', 'court.We', 'therefore', 'reverse', 'the', 'judgment', 'of', 'the', 'Court', 'of', 'Appeals', ',', 'and', 'affirm', 'the', 'sentence', 'imposed', 'by', 'the', 'district', 'court', '..', 'nan.We', 'hold', 'the', 'receipts', 'are', 'subject', 'to', 'tax', 'and', 'affirm', 'the', 'district', 'court', '..', 'We', 'affirm', 'the', 'final', 'order', 'of', 'the', 'district', 'court', '..', 'nan', '.', 'Because', 'the', 'arbitrator', 'failed', 'to', 'use', 'the', 'correct', 'standard', 'of', 'review', ',', 'we', 'remand', 'for', 'a', 'new', 'arbitration', '..', 'Because', 'we', 'can', 'not', 'determine', 'from', 'this', 'record', 'how', 'the', 'arbitrator', 'would', 'have', 'decided', 'the', 'case', 'if', 'he', 'had', 'employed', 'the', 'correct', 'standard', 'of', 'review', ',', 'we', 'reverse', 'and', 'remand', 'for', 'a', 'new', 'arbitration', '..', 'Because', 'the', 'arbitrator', 'based', 'his', 'determination', 'on', 'whether', 'Vickie', 'Sewing', \"'s\", 'subjective', 'belief', 'in', 'the', 'existence', 'of', 'just', 'cause', 'was', 'objectively', 'reasonable', ',', 'we', 'reverse', 'and', 'remand', 'this', 'case', 'for', 'a', 'new', 'arbitration', '..', 'Because', 'the', 'arbitrator', 'used', 'the', 'wrong', 'standard', 'in', 'reviewing', 'the', 'Board', \"'s\", 'termination', 'of', 'Romero', ',', 'we', 'reverse', 'the', 'arbitrator', \"'s\", 'decision', '.', 'We', 'remand', 'this', 'case', 'for', 'a', 'new', 'hearing', 'with', 'a', 'different', 'arbitrator', 'selected', 'in', 'accordance', 'with', 'Section', '22-10-17.1', '..', 'nan.We', 'hold', 'that', 'the', 'district', 'court', 'properly', 'granted', 'summary', 'judgment', 'in', 'favor', 'of', 'Dr.', 'Furst', 'on', 'these', 'claims', ';', 'we', 'therefore', 'reverse', 'the', 'Court', 'of', 'Appeals', 'in', 'part', ',', 'and', 'remand', 'to', 'the', 'district', 'court', 'for', 'further', 'proceedings', 'consistent', 'with', 'entry', 'of', 'summary', 'judgment', 'in', 'favor', 'of', 'Dr.', 'Furst', '..', 'Because', 'neither', 'recipient', 'of', 'the', 'statements', 'attributed', 'a', 'defamatory', 'meaning', 'to', 'them', ',', 'we', 'must', 'affirm', 'the', 'district', 'court', \"'s\", 'order', 'granting', 'summary', 'judgment', 'in', 'favor', 'of', 'Dr.', 'Furst', 'as', 'to', 'these', 'claims', '..', 'We', 'therefore', 'affirm', 'the', 'district', 'court', \"'s\", 'summary', 'judgment', 'for', 'Dr.', 'Furst', '..', 'nan.Accordingly', ',', 'we', 'affirm', 'the', 'result', 'reached', 'by', 'the', 'Court', 'of', 'Appeals', ',', 'on', 'different', 'grounds', ',', 'and', 'we', 'remand', 'to', 'the', 'district', 'court', 'for', 'further', 'proceedings', 'consistent', 'with', 'this', 'opinion', '..', 'We', 'therefore', 'reverse', 'the', 'district', 'court', \"'s\", 'order', 'granting', 'summary', 'judgment', 'in', 'favor', 'of', 'Running', 'Elk', ',', 'and', 'we', 'affirm', 'the', 'disposition', 'of', 'the', 'Court', 'of', 'Appeals', ',', 'on', 'different', 'grounds', '..', 'We', 'reverse', 'and', 'remand', 'to', 'the', 'district', 'court', 'for', 'further', 'proceedings', 'consistent', 'with', 'this', 'opinion', '..', 'nan.We', 'thus', 'reverse', 'and', 'remand', 'for', 'additional', 'findings', 'and', 'conclusions', '..', 'We', 'therefore', 'believe', 'that', 'a', 'remand', 'is', 'proper', 'for', 'the', 'entry', 'of', 'particularized', 'findings', 'and', 'conclusions', 'based', 'on', 'our', 'adoption', 'of', 'Watchman', \"'s\", 'two-part', 'analysis', '.', '.For', 'these', 'reasons', ',', 'we', 'conclude', 'that', 'remand', 'is', 'necessary', 'for', 'the', 'entry', 'of', 'conclusions', 'of', 'law', 'specifically', 'identifying', 'an', 'appropriate', 'community', 'of', 'reference', 'and', 'the', 'entry', 'of', 'detailed', 'findings', 'supporting', 'those', 'conclusions', '..', 'Because', 'fact-finding', 'is', 'the', 'province', 'of', 'the', 'district', 'court', ',', 'we', 'remand', 'to', 'the', 'district', 'court', 'with', 'instructions', 'to', 'make', 'particularized', 'findings', 'on', 'each', 'of', 'the', 'four', 'prongs', 'of', 'the', 'Watchman', 'test', 'and', 'to', 'determine', ',', 'based', 'on', 'these', 'findings', ',', 'whether', 'the', 'accident', 'site', 'is', 'within', 'a', 'dependent', 'Indian', 'community', '..', 'We', 'reverse', 'and', 'remand', 'to', 'the', 'district', 'court', 'for', 'an', 'evidentiary', 'hearing', 'on', 'two', 'questions', '..', 'nan.We', 'agree', 'and', 'reverse', 'and', 'remand', 'to', 'the', 'district', 'court', 'for', 'a', 'de', 'novo', 'appeal', '..', 'We', 'reverse', 'the', 'judgment', 'upholding', 'the', 'metropolitan', 'court', 'conviction', 'and', 'remand', 'to', 'the', 'district', 'court', 'for', 'a', 'trial', 'de', 'novo', 'on', 'the', 'eluding', 'an', 'officer', 'and', 'reckless', 'driving', 'charges', '..', 'nan.We', 'affirm', '..', 'The', 'hearing', 'officer', \"'s\", 'decision', 'and', 'order', 'is', 'affirmed', '..', 'nan', '.', 'We', 'affirm', '..', 'For', 'the', 'foregoing', 'reasons', ',', 'we', 'affirm', 'Defendant', \"'s\", 'convictions', 'on', 'all', 'counts', '..', 'nan.We', 'disagree', 'and', 'affirm', '..', 'We', ',', 'therefore', ',', 'affirm', 'the', 'trial', 'court', \"'s\", 'exclusion', 'of', 'evidence', '..', 'nan.Thus', ',', 'we', 'affirm', '..', 'Defendant', \"'s\", 'convictions', 'are', 'affirmed', '..', 'nan.Finding', 'reversible', 'error', ',', 'we', 'reverse', 'Defendant', \"'s\", 'conviction', 'for', 'felony', 'murder', 'and', 'remand', 'for', 'a', 'new', 'trial', '..', 'Therefore', ',', 'we', 'hold', 'that', 'retrial', 'is', 'permissible', 'and', 'remand', 'for', 'a', 'new', 'trial', 'consistent', 'with', 'this', 'opinion', '..', 'Therefore', ',', 'we', 'reverse', 'Defendant', \"'s\", 'conviction', 'for', 'felony', 'murder', 'and', 'remand', 'for', 'a', 'new', 'trial', '.', 'We', 'affirm', 'Defendant', \"'s\", 'remaining', 'convictions', '..', 'nan.We', 'affirm', 'the', 'trial', 'court', \"'s\", 'rulings', 'that', 'the', 'NMMFRA', 'does', 'not', 'create', 'a', 'common-law', 'third-party', 'beneficiary', 'relationship', 'between', 'an', 'injured', 'person', 'and', 'the', 'tortfeasor', \"'s\", 'liability', 'insurer', ',', 'and', 'that', 'New', 'Mexico', 'does', 'not', 'recognize', 'a', 'common-law', 'cause', 'of', 'action', 'by', 'an', 'injured', 'third', 'party', 'against', 'the', 'tortfeasor', \"'s\", 'liability', 'insurer', 'for', 'bad', 'faith', 'refusal', 'to', 'settle', '..', 'We', 'reverse', 'the', 'trial', 'court', \"'s\", 'ruling', 'that', 'Plaintiff', 'failed', 'to', 'state', 'a', 'claim', 'under', 'the', 'Insurance', 'Code', '.', 'This', 'case', 'is', 'remanded', 'with', 'instructions', 'to', 'reinstate', 'Count', 'V', 'of', 'Plaintiffs', 'First', 'Amended', 'Complaint', '.', '{', '.nan.We', 'affirm', '..', 'We', 'affirm', 'the', 'summary', 'judgment', 'entered', 'in', 'favor', 'of', 'Johnson', 'Controls', 'on', 'Katcher', \"'s\", 'ADA', 'discrimination', 'claim', 'on', 'the', 'basis', 'that', 'he', 'failed', 'to', 'establish', 'the', 'first', 'element', 'of', 'his', 'prima', 'facie', 'case', 'that', 'he', 'has', 'a', '``', 'disability', \"''\", 'under', 'the', 'ADA', '..', 'nan.We', 'hold', 'that', 'as', 'a', 'matter', 'of', 'law', 'Defendant', 'is', 'not', 'a', 'public', 'employee', ';', 'therefore', ',', 'we', 'reverse', 'his', 'conviction', 'for', 'misappropriating', 'public', 'assistance', '..', 'We', 'further', 'conclude', 'that', 'Defendant', 'has', 'made', 'a', 'prima', 'facie', 'showing', 'of', 'ineffective', 'assistance', 'of', 'counsel', ',', 'thus', ',', 'we', 'remand', 'for', 'an', 'evidentiary', 'hearing', 'before', 'the', 'trial', 'court', 'for', 'a', 'determination', 'of', 'whether', 'Defendant', 'received', 'ineffective', 'assistance', 'of', 'counsel', 'at', 'trial', '..', 'Accordingly', ',', 'Defendant', \"'s\", 'conviction', 'for', 'misappropriation', 'of', 'public', 'assistance', 'is', 'reversed', '..', 'Accordingly', ',', 'we', 'need', 'not', 'reverse', 'Defendant', \"'s\", 'conviction', 'for', 'tampering', 'with', 'public', 'records', 'on', 'the', 'ground', 'of', 'insufficient', 'evidence', '..', 'Accordingly', ',', 'we', 'reverse', 'Defendant', \"'s\", 'six', 'tampering', 'convictions', 'and', 'remand', 'to', 'the', 'trial', 'court', 'for', 'a', 'determination', 'of', 'whether', 'there', 'was', 'a', 'plausible', 'reason', 'for', 'not', 'objecting', 'to', 'the', 'evidence', 'which', 'led', 'to', 'our', 'conclusion', 'that', 'there', 'was', 'a', 'prima', 'facie', 'ease', 'of', 'ineffective', 'assistance', 'of', 'counsel', '..', 'Again', ',', 'if', 'the', 'trial', 'court', 'concludes', 'there', 'was', 'a', 'plausible', 'reason', ',', 'the', 'conviction', 'for', 'tampering', 'with', 'public', 'records', 'shall', 'be', 'affirmed', '.', 'If', 'the', 'failure', 'to', 'object', 'amounted', 'to', 'ineffective', 'assistance', 'of', 'counsel', ',', 'the', 'conviction', 'is', 'reversed', 'and', 'Defendant', 'is', 'entitled', 'to', 'a', 'new', 'trial', '.', 'In', 'the', 'event', 'the', 'State', 'seeks', 'to', 'retry', 'Defendant', ',', 'it', 'may', 'only', 'retry', 'him', 'on', 'the', 'one', 'count', 'of', 'tampering', 'with', 'public', 'records', '.', 'This', 'case', 'is', 'remanded', 'for', 'proceedings', 'consistent', 'with', 'this', 'opinion', '..', 'nan.Based', 'on', 'the', 'foregoing', 'reasons', ',', 'we', 'reverse', 'Defendant', \"'s\", 'convictions', 'for', 'second-degree', 'murder', 'and', 'tampering', 'with', 'evidence', ',', 'and', 'remand', 'the', 'case', 'for', 'a', 'new', 'trial', '..', 'nan.We', 'disagree', 'and', 'affirm', '..', 'For', 'the', 'reasons', 'stated', ',', 'we', 'affirm', '..', 'nan', '.', 'Dealing', 'with', 'each', 'argument', 'in', 'turn', ',', 'we', 'affirm', '..', 'The', 'judgment', 'is', 'affirmed', '..', 'nan.We', 'affirm', 'in', 'part', ',', 'reverse', 'in', 'part', ',', 'and', 'remand', 'with', 'instructions', '..', 'We', 'reverse', 'two', 'of', 'the', '10', '%', 'reductions', 'for', 'Ramirez', '.', 'We', 'also', 'reverse', 'the', '15', '%', 'reduction', 'for', 'Alvarez', 'and', 'note', 'that', ',', 'not', 'only', 'does', 'Section', '52-l-10', '(', 'A', ')', 'not', 'provide', 'for', 'a', '5', '%', 'reduction', 'in', 'benefits', ',', 'we', 'also', 'think', 'it', 'improper', 'to', 'penalize', 'a', 'worker', 'for', 'violating', 'a', 'regulation', 'or', 'failing', 'to', 'use', 'a', 'safety', 'device', '(', 'the', 'non-operational', 'seat', 'beat', ')', 'when', 'the', 'violation', 'or', 'failure', 'was', 'beyond', 'his', 'control', '..', 'We', 'affirm', 'the', 'award', 'of', 'compensation', 'to', 'Ramirez', 'and', 'Alvarez', 'based', 'on', 'the', 'WCJ', \"'s\", 'conclusion', 'that', 'the', 'two', 'were', 'traveling-employees', 'injured', 'in', 'the', 'course', 'and', 'scope', 'of', 'their', 'employment.We', 'reverse', 'the', 'WCJ', \"'s\", 'order', 'of', 'a', '15', '%', 'reduction', 'in', 'Alvarez', \"'\", 'compensation', 'award', 'for', 'the', 'reasons', 'discussed', 'above', ',', 'and', 'hold', 'that', 'Alvarez', 'is', 'not', 'subject', 'to', 'any', 'reduction', '..', 'We', 'likewise', 'reverse', 'the', 'WCJ', \"'s\", 'order', 'of', 'a', 'reduction', 'in', 'Ramirez', \"'\", 'compensation', 'award', ',', 'except', 'the', '10', '%', 'reduction', 'based', 'on', 'the', 'findings', 'related', 'to', 'his', 'driving', 'in', 'excess', 'of', 'the', 'posted', 'speed', 'limit', '..', 'We', 'affirm', 'the', 'denial', 'of', 'benefits', 'to', 'Cervantes', '.', 'We', 'remand', 'for', 'the', 'entry', 'of', 'a', 'new', 'order', 'consistent', 'with', 'this', 'opinion', '..', 'nan.Because', 'this', 'process', 'is', 'properly', 'rooted', 'in', 'a', 'factual', 'determination', 'and', 'the', 'district', 'court', \"'s\", 'decision', 'did', 'not', 'consider', 'factors', 'beyond', 'the', '``', 'current', 'state', 'of', 'the', 'law', ',', \"''\", 'at', 'the', 'time', 'it', 'dismissed', 'the', 'loss', 'of', 'consortium', 'claims', ',', 'we', 'reverse', 'the', 'district', 'court', \"'s\", 'granting', 'of', 'the', 'City', 'of', 'Gallup', \"'s\", 'motion', 'to', 'dismiss', 'and', 'remand', 'for', 'proceedings', 'consistent', 'with', 'this', 'opinion', '..', 'We', 'therefore', 'reverse', 'and', 'remand', 'this', 'matter', 'to', 'allow', 'Plaintiffs', 'to', 'develop', 'such', 'facts', 'as', 'they', 'can', 'to', 'establish', 'the', 'sufficiency', 'of', 'then-claims.For', 'the', 'foregoing', 'reasons', 'we', 'reverse', 'the', 'granting', 'of', 'the', 'City', 'of', 'Gallup', \"'s\", 'motion', 'to', 'dismiss', 'the', 'claims', 'for', 'loss', 'of', 'consortium', 'and', 'remand', 'this', 'case', 'for', 'proceedings', 'consistent', 'with', 'our', 'decision', 'herein.nan.We', 'remand', 'the', 'case', 'to', 'the', 'Board', ',', 'ordering', 'the', 'Board', 'to', 'provide', 'Mills', 'with', 'a', 'reinstatement', 'proceeding', 'which', 'complies', 'with', 'the', 'requirements', 'of', 'due', 'process', '..', 'We', 'reverse', 'the', 'district', 'court', 'Order', 'and', 'remand', 'this', 'ease', 'to', 'the', 'Board', 'for', 'reinstatement', 'proceedings', 'which', 'comply', 'with', 'due', 'process', '..', 'Therefore', ',', 'we', 'remand', 'this', 'case', 'to', 'the', 'Board', 'for', 'a', 'hearing', 'to', 'evaluate', 'whether', 'imposition', 'of', 'the', 'oral', 'examination', 'requirement', 'on', 'Mills', 'is', 'rationally', 'related', 'to', 'a', 'legitimate', 'governmental', 'purpose', '.', '.Thus', ',', 'we', 'remand', 'this', 'case', 'to', 'the', 'Board', 'for', 'a', 'reinstatement', 'proceeding', 'which', 'conforms', 'to', 'the', 'requirements', 'of', 'due', 'process', '..', 'nan.We', 'hold', 'that', 'the', 'present', 'appeal', 'is', 'premature', 'and', 'that', 'unless', 'and', 'until', 'the', 'district', 'court', 'finally', 'disposes', 'of', 'the', 'pending', 'claim', 'for', 'damages', ',', 'or', 'certifies', 'the', 'appeal', 'pursuant', 'to', 'Rule', '1-054', '(', 'C', ')', '(', '1', ')', 'NMRA', '1996', ',', 'there', 'is', 'no', 'final', 'order', 'to', 'support', 'appellate', 'jurisdiction', 'in', 'this', 'Court', '..', 'We', 'conclude', 'that', 'in', 'the', 'absence', 'of', 'a', 'certification', 'pursuant', 'to', 'Rule', '1-054', '(', 'B', ')', '(', '1', ')', ',', 'the', 'order', 'entered', 'by', 'the', 'district', 'court', 'on', 'June', '19', ',', '2001', 'was', 'not', 'a', 'final', ',', 'appealable', 'order', '..', 'nan', '.', 'For', 'the', 'most', 'part', ',', 'we', 'affirm', 'the', 'tidal', 'court', \"'s\", 'decision', 'to', 'adopt', 'a', 'portion', 'of', 'the', 'special', 'master', \"'s\", 'report', ',', 'and', 'we', 'also', 'affirm', 'the', 'court', \"'s\", 'decision', 'not', 'to', 'adopt', 'that', 'portion', 'of', 'the', 'report', 'relating', 'to', 'the', 'computation', 'of', 'Father', \"'s\", 'income.In', 'certain', 'particulars', 'described', 'more', 'fully', 'hereafter', ',', 'we', 'are', 'persuaded', 'by', 'Father', \"'s\", 'argument', 'on', 'appeal', ',', 'and', 'to', 'that', 'extent', 'we', 'reverse', 'and', 'remand', 'for', 'further', 'proceedings', '..', 'We', 'affirm', 'the', 'court', \"'s\", 'decision', 'not', 'to', 'impute', 'additional', 'income', 'to', 'Mother', 'during', 'the', 'time', 'leading', 'up', 'to', 'the', 'close', 'of', 'her', 'business', 'in', 'mid-1996', '..', 'We', 'reverse', 'on', 'this', 'point', 'and', 'remand', 'for', 'revised', 'calculation', 'of', 'Father', \"'s\", 'dividend', 'income', 'for', '1996', 'based', 'upon', '1996', 'information', '..', 'We', 'reverse', 'and', 'remand', 'on', 'this', 'point', '..', 'Accordingly', ',', 'in', 'the', 'absence', 'of', 'any', 'other', 'rationale', ',', 'we', 'believe', 'the', 'court', 'abused', 'its', 'discretion', 'by', 'not', 'considering', 'the', 'merits', 'of', 'Father', \"'s\", 'proposal', ',', 'and', 'we', 'remand', 'for', 'that', 'purpose', '..', 'We', 'affirm', 'in', 'part', 'and', 'reverse', 'in', 'part', 'and', 'remand', 'for', 'further', 'proceedings', 'consistent', 'with', 'this', 'opinion', '.', '.nan.Thus', ',', 'we', 'affirm', 'the', 'district', 'court', \"'s\", 'entry', 'of', 'summary', 'judgment', 'for', 'the', 'homeowner', '..', 'We', 'affirm', 'the', 'entry', 'of', 'summary', 'judgment', 'in', 'favor', 'of', 'Torres', 'against', 'Chavez', 'and', 'remand', 'for', 'further', 'proceedings', 'consistent', 'with', 'this', 'opinion', '..', 'nan.Deciding', 'that', 'Defendant', \"'s\", 'house', 'arrest', 'should', 'not', 'be', 'deemed', 'official', 'confinement', 'under', 'NMSA', '1978', ',', 'Section', '31-20-12', '(', 'Repl.Pamp.1994', ')', ',', 'we', 'affirm', '..', 'The', 'order', 'of', 'the', 'district', 'court', 'is', 'affirmed', '..', 'nan.We', 'reverse', 'and', 'remand', 'for', 'further', 'proceedings', 'on', 'the', 'exemption', 'issue', '..', 'We', 'affirm', 'the', 'dismissal', 'of', 'the', 'refund', 'action', '..', 'We', 'affirm', 'the', 'dismissal', 'of', 'the', 'statutory', 'refund', 'action', '.', 'On', 'the', 'issue', 'of', \"O'Keeffe\", \"'s\", 'entitlement', 'to', 'an', 'exemption', ',', 'we', 'reverse', 'the', 'district', 'court', 'and', 'remand', 'to', 'the', 'district', 'court', 'with', 'instructions', 'that', 'it', 'remand', 'to', 'the', 'Board', 'for', 'further', 'proceedings', 'consistent', 'with', 'this', 'opinion', '..', 'nan.We', 'also', 'agree', ',', 'though', 'for', 'different', 'reasons', ',', 'and', 'we', 'therefore', 'affirm', 'the', 'judgment', 'of', 'the', 'district', 'court', 'and', 'the', 'Court', 'of', 'Appeals', '..', 'The', 'judgment', 'of', 'the', 'district', 'court', 'is', 'affirmed', '..', 'nan.Determining', 'there', 'were', 'no', 'violations', 'of', 'time', 'requirements', 'or', 'Mother', \"'s\", 'procedural', 'rights', 'to', 'due', 'process', 'and', 'further', 'determining', 'that', 'the', 'judgment', 'terminating', 'her', 'parental', 'rights', 'is', 'supported', 'by', 'clear', 'and', 'convincing', 'evidence', ',', 'we', 'affirm', 'the', 'judgment', 'of', 'the', 'Children', \"'s\", 'Court', '..', 'Accordingly', ',', 'the', 'judgment', 'terminating', 'the', 'parent-child', 'relationship', 'between', 'Mother', 'and', 'Child', 'is', 'affirmed', '..', 'nan.We', 'affirm', '..', 'We', 'affirm', 'the', 'order', 'suppressing', 'evidence', 'and', 'remand', 'the', 'remaining', 'counts', 'to', 'be', 'tried', ',', 'if', 'the', 'State', 'has', 'sufficient', 'evidence', 'apart', 'from', 'the', 'evidence', 'we', 'hold', 'the', 'trial', 'court', 'was', 'correct', 'in', 'suppressing', '..', 'nan.We', 'are', 'unpersuaded', 'by', 'Plaintiffs', 'arguments', 'and', 'affirm', 'the', 'district', 'court', \"'s\", 'order', 'granting', 'summary', 'judgment', '..', 'Accordingly', ',', 'for', 'the', 'reasons', 'set', 'forth', 'herein', ',', 'we', 'affirm', 'the', 'district', 'court', \"'s\", 'grant', 'of', 'summary', 'judgment', 'in', 'favor', 'of', 'the', 'Department', '..', 'nan', '.', 'We', 'affirm', '..', 'Therefore', ',', 'Woodruffs', 'conviction', 'for', 'driving', 'while', 'under', 'the', 'influence', 'as', 'a', 'second', 'offense', 'is', 'affirmed', '..', 'nan', '.', 'We', 'affirm', 'in', 'part', 'and', 'reverse', 'in', 'part', '..', 'Therefore', ',', 'we', 'affirm', 'in', 'part', 'and', 'reverse', 'in', 'part', ',', 'and', 'remand', 'to', 'the', 'district', 'court', 'for', 'reinstatement', 'of', 'the', 'OMA', 'and', 'constitutional', 'claims', '..', 'nan', '.', 'Therefore', ',', 'we', 'reverse', 'the', 'district', 'court', 'order', 'upholding', 'the', 'annexation', 'and', 'remand', 'with', 'directions', 'to', 'the', 'district', 'court', 'to', 'set', 'aside', 'the', 'annexation', '..', 'We', 'reverse', 'the', 'judgment', 'of', 'the', 'district', 'court', 'and', 'remand', 'with', 'instructions', 'to', 'set', 'aside', 'the', 'annexation', 'ordinance', '..', 'nan.We', 'reverse', 'the', 'conviction', 'for', 'conspiracy', 'to', 'commit', 'depraved-mind', 'murder', 'and', 'we', 'remand', 'with', 'instructions', 'to', 'dismiss', 'that', 'charge', '.', 'We', 'affirm', 'Baca', \"'s\", 'conviction', 'for', 'aiding', 'and', 'abetting', 'depraved-mind', 'murder', '..', 'For', 'these', 'reasons', ',', 'we', 'reverse', 'Baca', \"'s\", 'conviction', 'for', 'conspiracy', 'to', 'commit', 'first-degree', ',', 'depraved-mind', 'murder.For', 'the', 'foregoing', 'reasons', ',', 'we', 'affirm', 'Baca', \"'s\", 'conviction', 'for', 'aiding', 'and', 'abetting', 'first-degree', ',', 'depraved-mind', 'murder', '.', 'We', 'reverse', 'his', 'conviction', 'for', 'conspiracy', 'and', 'remand', 'with', 'instructions', 'that', 'the', 'district', 'court', 'vacate', 'this', 'conviction', 'and', 'enter', 'an', 'amended', 'judgment', 'and', 'sentence', 'consistent', 'with', 'this', 'opinion', '..', 'nan.We', 'reverse', 'and', 'remand', 'for', 'further', 'proceedings', 'consistent', 'with', 'this', 'opinion', '..', 'Therefore', ',', 'we', 'reverse', 'and', 'remand', 'to', 'the', 'children', \"'s\", 'court', 'to', 'determine', 'whether', 'the', 'remaining', 'admissible', 'testimony', 'constituted', 'clear', 'and', 'convincing', 'evidence', 'of', 'abuse', 'and', 'neglect', 'as', 'defined', 'under', 'Section', '32A-4-2', '(', 'B', ')', '(', '1', ')', ',', '(', 'B', ')', '(', '2', ')', ',', 'and', '(', 'C', ')', '(', '3', ')', 'and', 'further', 'proceedings', 'consistent', 'with', 'this', 'opinion', '..', 'nan', '.', 'Based', 'upon', 'our', 'conclusion', 'that', 'the', 'State', 'complied', 'with', 'the', 'requirement', 'that', 'the', 'penalties', 'be', 'sought', 'in', 'a', 'single', ',', 'bifurcated', 'proceeding', ',', 'we', 'affirm', 'the', 'forfeiture', 'of', 'Defendant', 'Esparza', \"'s\", '$', '33,123.00', 'and', 'the', 'criminal', 'conviction', 'of', 'Defendant', 'Booth', '..', 'We', 'remand', 'to', 'the', 'district', 'court', 'for', 'trial', 'of', 'the', 'complaint', 'for', 'forfeiture', 'of', 'Defendant', 'Reed', \"'s\", '1978', 'Lincoln', 'Continental', 'and', '$', '2955.94.BackgroundState', 'v.', 'Esparza.We', 'reverse', 'the', 'dismissal', 'and', ',', 'in', 'accordance', 'with', 'our', 'determination', 'that', 'the', 'penalties', 'were', 'sought', 'in', 'a', 'single', ',', 'bifurcated', 'proceeding', ',', 'remand', 'to', 'the', 'district', 'court', 'for', 'trial', 'of', 'the', 'forfeiture', 'issue', '..', 'Based', 'upon', 'our', 'determination', 'that', 'the', 'State', 'pursued', 'the', 'criminal', 'prosecution', 'and', 'forfeiture', 'of', 'assets', 'in', 'a', 'single', ',', 'bifurcated', 'proceeding', ',', 'we', 'affirm', 'the', 'forfeiture', 'of', 'De', 'fendant', 'Esparza', \"'s\", '$', '33,123.00', 'and', 'the', 'criminal', 'conviction', 'of', 'Defendant', 'Booth', '.', 'We', 'reverse', 'and', 'remand', 'to', 'the', 'district', 'court', 'for', 'trial', 'of', 'the', 'complaint', 'for', 'forfeiture', 'of', 'Defendant', 'Reed', \"'s\", '1978', 'Lincoln', 'Continental', 'and', '$', '2955.94', '..', 'nan', '.', 'We', 'affirm', 'the', 'decision', 'of', 'the', 'district', 'court', 'on', 'alternative', 'grounds', 'recited', 'in', 'this', 'opinion', '..', 'For', 'the', 'reasons', 'set', 'forth', 'above', ',', 'we', 'affirm', 'the', 'judgment', 'of', 'the', 'district', 'court', '..', 'nan.Because', 'the', 'affidavit', 'in', 'support', 'of', 'the', 'search', 'warrant', 'established', 'probable', 'cause', ',', 'we', 'affirm', '..', 'The', 'district', 'court', \"'s\", 'order', 'denying', 'Defendant', \"'s\", 'suppression', 'motion', 'is', 'affirmed', '..', 'nan.The', 'judgment', 'of', 'the', 'trial', 'court', 'based', 'upon', 'the', 'jury', 'verdict', 'is', 'hereby', 'affirmed', '..', 'nan.We', 'reverse', 'the', 'Court', 'of', 'Appeals', ',', 'holding', 'that', 'Section', '10-11-4.2', '(', 'A', ')', 'is', 'a', 'constitutional', 'statute', 'of', 'repose', '..', 'While', 'we', 'decline', 'to', 'adopt', 'Lawrence', \"'s\", 'proposed', 'bright', 'line', 'rule', ',', 'we', 'reverse', 'the', 'Court', 'of', 'Appeals', 'because', 'we', 'determine', 'that', 'Section', '10-11-4.2', '(', 'A', ')', 'is', 'a', 'constitutional', 'statute', 'of', 'repose', '.', '.We', 'therefore', 'reverse', 'the', 'Court', 'of', 'Appeals', ',', 'and', 'remand', 'to', 'the', 'district', 'court', 'for', 'proceedings', 'consistent', 'with', 'this', 'opinion', '..', 'nan.For', 'the', 'reasons', 'discussed', 'herein', ',', 'we', 'affirm', '..', 'The', 'decision', 'of', 'the', 'district', 'court', 'is', 'affirmed', '..', 'nan.Answering', '``', 'no', \"''\", 'to', 'the', 'first', 'two', 'questions', 'and', '``', 'yes', \"''\", 'to', 'the', 'third', ',', 'we', 'affirm', 'the', 'imposition', 'of', 'the', 'property', 'tax', 'in', 'this', 'ease', '..', 'For', 'the', 'above', 'reasons', ',', 'we', 'affirm', 'the', 'decision', 'of', 'the', 'Sandoval', 'County', 'Valuation', 'Protests', 'Board', '..', 'nan.Because', 'we', 'affirm', 'the', 'district', 'court', \"'s\", 'dismissal', ',', 'we', 'do', 'not', 'address', 'the', 'second', 'issue', '..', 'We', 'affirm', 'the', 'district', 'court', \"'s\", 'granting', 'of', 'the', 'motion', 'to', 'dismiss', 'the', 'garnishment', 'proceeding', '..', 'nan', '.', 'We', 'reverse', 'and', 'hold', 'that', 'the', 'ordinance', 'does', 'not', 'violate', 'the', 'Separation', 'of', 'Powers', 'Clause', 'of', 'the', 'New', 'Mexico', 'Constitution', '..', 'The', 'Judgment', 'of', 'the', 'district', 'court', 'is', 'reversed', '..', 'nan.We', 'hold', 'that', 'there', 'are', 'genuine', 'issues', 'of', 'material', 'fact', 'concerning', 'what', 'occurred', 'the', 'night', 'of', 'the', 'shooting', 'and', 'reverse', 'the', 'order', 'granting', 'summary', 'judgment', 'for', 'Officer', 'LaCuesta', '..', 'We', 'also', 'reverse', 'and', 'remand', 'for', 'reconsideration', 'the', 'order', 'of', 'summary', 'judgment', 'for', 'Officers', 'Hensinger', 'and', 'Denko', 'because', 'it', 'appears', 'that', 'the', 'district', 'court', 'did', 'not', 'assess', 'these', 'claims', 'independently', 'from', 'the', 'claim', 'against', 'Officer', 'LaCuesta', '..', 'Because', 'there', 'is', 'conflicting', 'evidence', 'as', 'to', 'how', 'close', 'Officer', 'Hensinger', 'was', 'to', 'Archuleta', 'at', 'the', 'moment', 'Officer', 'LaCuesta', 'shot', 'Archuleta', 'and', 'as', 'to', 'whether', 'Archuleta', 'was', 'moving', 'toward', 'Officer', 'Hensinger', 'or', 'had', 'made', 'any', 'threatening', 'gesture', ',', 'we', 'reverse', 'the', 'summary', 'judgment', 'granted', 'to', 'Officer', 'LaCuesta', '..', 'We', 'reverse', 'the', 'grant', 'of', 'summary', 'judgment', 'in', 'favor', 'of', 'Officer', 'LaCuesta', 'because', 'there', 'are', 'genuine', 'issues', 'of', 'material', 'fact', '.', '.Because', 'these', 'grounds', 'were', 'not', 'briefed', 'on', 'appeal', 'and', 'because', 'it', 'appears', 'that', 'the', 'district', 'court', 'did', 'not', 'give', 'full', 'consideration', 'to', 'any', 'independent', 'grounds', 'for', 'granting', 'Officers', 'Hensinger', 'and', 'Denko', 'qualified', 'immunity', 'since', 'it', 'decided', 'the', 'matter', 'on', 'summary', 'judgment', ',', 'we', 'reverse', 'and', 'remand', 'for', 'reconsideration', 'the', 'summary', 'judgments', 'granted', 'to', 'Officers', 'Hensinger', 'and', 'Denko', '..', 'Having', 'determined', 'that', 'there', 'are', 'genuine', 'issues', 'of', 'material', 'fact', ',', 'we', 'reverse', 'the', 'summary', 'judgment', 'granted', 'to', 'Officer', 'LaCuesta', '..', 'We', 'also', 'reverse', 'the', 'order', 'granting', 'summary', 'judgment', 'to', 'Officers', 'Hensinger', 'and', 'Denko', 'to', 'allow', 'the', 'district', 'court', 'to', 'consider', 'the', 'independent', 'arguments', 'raised', 'by', 'them', 'in', 'their', 'motions', 'below', '..', 'nan', '.', 'We', 'affirm', '..', 'Accordingly', ',', 'we', 'affirm', 'Defendant', \"'s\", 'sentence', '..', 'nan.We', 'hold', 'that', 'the', 'patdown', 'search', 'that', 'revealed', 'methamphetamine', 'in', 'Defendant', \"'s\", 'sock', 'was', 'illegal', \"'\", ',', '^reverse', 'the', 'denial', 'of', 'the', 'motion', 'to', 'suppress', ',', 'and', 'remand', 'for', 'further', 'proceedings', '..', 'We', 'reverse', 'the', 'denial', 'of', 'the', 'suppression', 'motion', 'and', 'remand', 'for', 'further', 'proceedings', '..', 'nan.We', 'affirm', 'the', 'vehicular', 'homicide', 'convictions', 'but', 'reverse', 'on', 'the', 'double', 'jeopardy', 'and', 'merger', 'issues', '.', 'We', 'therefore', 'remand', 'to', 'the', 'trial', 'court', 'to', '(', '1', ')', 'vacate', 'the', 'convictions', 'for', 'child', 'abuse', 'resulting', 'in', 'death', 'and', 'DWI', 'and', '(', '2', ')', 'resentence', 'Defendant', '..', 'We', 'affirm', 'on', 'all', 'other', 'issues', '..', 'We', 'therefore', 'affirm', 'the', 'vehicular', 'homicide', 'convictions', '..', 'We', 'affirm', 'on', 'all', 'other', 'issues', '..', 'We', 'remand', 'to', 'the', 'trial', 'court', 'for', '(', '1', ')', 'the', 'entry', 'of', 'an', 'order', 'vacating', 'the', 'four', 'convictions', 'of', 'child', 'abuse', 'resulting', 'in', 'death', 'and', 'the', 'DWI', 'conviction', 'and', '(', '2', ')', 'resentencing', 'of', 'Defendant', 'under', 'the', 'remaining', 'convictions', '..', 'nan', '.', 'We', 'reverse', 'the', 'Court', 'of', 'Appeals', 'and', 'the', 'judgment', 'in', 'favor', 'of', 'Jackson', '..', 'We', 'reverse', 'the', 'district', 'court', 'and', 'the', 'Court', 'of', 'Appeals', 'on', 'the', 'claim', 'of', 'malicious', 'abuse', 'of', 'process', ',', 'the', 'award', 'of', 'compensatory', 'and', 'punitive', 'damages', ',', 'and', 'the', 'order', 'on', 'prejudgment', 'interest', '.', 'We', 'remand', 'this', 'case', 'to', 'the', 'trial', 'court', 'for', 'entry', 'of', 'judgment', 'for', 'Weststar', 'and', 'against', 'Jackson', '..', 'nan.We', 'affirm', '..', 'We', 'affirm', 'the', 'summary', 'judgment', 'entered', 'by', 'the', 'district', 'court', '..', 'nan.We', 'reverse', 'and', 'remand', 'because', 'we', 'reject', 'Husband', \"'s\", 'arguments', 'that', ':', '(', '1', ')', 'he', 'was', 'entitled', 'in', 'the', 'proceedings', 'below', 'to', 'show', 'that', 'Oklahoma', 'did', 'not', 'have', 'personal', 'jurisdiction', 'over', 'him', ';', 'and', '(', '2', ')', 'New', 'Mexico', 'did', 'not', 'have', 'to', 'give', 'full', 'faith', 'and', 'credit', 'to', 'the', 'Oklahoma', 'judgment', 'Wife', 'was', 'seeking', 'to', 'file', 'because', 'Oklahoma', 'did', 'not', 'give', 'full', ',', 'faith', 'and', 'credit', 'to', 'an', 'earlier', 'New', 'Mexico', 'judgment', '..', 'We', 'therefore', 'reverse', 'and', 'remand', 'with', 'instructions', 'to', 'give', 'full', 'faith', 'and', 'credit', 'to', 'the', 'Oklahoma', 'judgment', 'and', 'to', 'allow', 'enforcement', 'of', 'this', 'judgment', 'under', 'the', 'NMFJA', '..', 'nan.We', 'affirm', '..', 'We', 'affirm', '..', 'nan', '.', 'We', 'determine', 'that', 'instruction', 'on', 'the', 'record', 'is', 'necessary', ',', 'and', 'for', 'the', 'reasons', 'discussed', 'herein', 'we', 'affirm', 'the', 'order', 'of', 'dismissal', 'in', 'State', 'v.', 'Ulibarri', '&', 'amp', ';', 'Popplewell', ',', 'No', '.', '19,126', ',', 'and', 'reverse', 'the', 'order', 'in', 'State', 'v.', 'Montoya', ',', 'No', '.', '19,451', '..', 'The', 'judgment', 'of', 'the', 'district', 'court', 'in', 'State', 'v.', 'Ulibam', 'and', 'Popplewell', 'is', 'affirmed', '.', 'The', 'judgment', 'of', 'the', 'district', 'court', 'in', 'State', 'v.', 'Montoya', 'is', 'reversed', '..', 'nan', '.', 'Because', 'we', 'determine', 'that', 'the', 'first', 'and', 'second', 'issues', 'raised', 'on', 'appeal', 'are', 'moot', 'and', 'Mother', \"'s\", 'constitutional', 'challenge', 'to', 'the', 'Protection', 'Act', 'is', 'without', 'merit', ',', 'we', 'affirm', '..', 'We', 'therefore', 'affirm', 'the', 'district', 'court', \"'s\", 'denial', 'of', 'Mother', \"'s\", 'Rule', '1-060', '(', 'B', ')', 'motion', '..', 'nan.We', 'agree', 'with', 'the', 'Court', 'of', 'Appeals', \"'\", 'conclusion', ',', 'although', 'we', 'modify', 'its', 'interpretation', 'of', 'a', 'portion', 'of', 'the', 'statute', ',', 'and', 'we', 'affirm', 'the', 'Court', 'of', 'Appeals', \"'\", 'order', 'remanding', 'this', 'cause', 'for', 'a', 'new', 'trial', '..', 'We', 'therefore', 'affirm', 'the', 'Court', 'of', 'Appeals', \"'\", 'holding', 'that', 'the', 'jury', 'was', 'not', 'instructed', 'on', 'the', 'essential', 'element', 'of', 'willfulness', 'and', 'remand', 'the', 'cause', 'for', 'a', 'new', 'trial', '..', 'We', 'affirm', 'the', 'Court', 'of', 'Appeals', \"'\", 'order', '.', 'We', 'therefore', 'reverse', 'Rosaire', \"'s\", 'conviction', 'and', 'remand', 'this', 'case', 'for', 'a', 'new', 'trial', '..', 'nan.We', 'hereby', 'deny', 'the', 'motion', '.', 'We', 'affirm', 'as', 'to', 'issues', 'two', 'and', 'four', 'and', 'reverse', 'on', 'issues', 'one', 'and', 'three', '..', 'For', 'the', 'reasons', 'discussed', 'above', ',', 'we', 'reverse', 'on', 'issues', 'one', 'and', 'three', 'and', 'affirm', 'in', 'all', 'other', 'respects', '.', 'We', 'remand', 'with', 'instructions', 'to', 'vacate', 'that', 'portion', 'of', 'the', 'judgment', 'and', 'sentence', 'that', 'reduces', 'good', 'time', 'credit', 'for', 'the', 'conspiracy', 'to', 'commit', 'armed', 'robbery', 'conviction', ',', 'and', 'to', 'resentence', 'Counts', 'III', 'and', 'IV', 'under', 'Subsections', '31-18-15A', '..', 'nan']\n"
          ]
        }
      ],
      "source": [
        "tokens_clean_text = word_tokenize(\".\".join(df[\"content\"].tolist()))\n",
        "print(tokens_clean_text)"
      ]
    },
    {
      "cell_type": "code",
      "execution_count": 54,
      "metadata": {
        "colab": {
          "base_uri": "https://localhost:8080/"
        },
        "id": "rAe3tnZ6kqST",
        "outputId": "f619841d-d933-4827-cf14-0e74cd89b880"
      },
      "outputs": [
        {
          "name": "stdout",
          "output_type": "stream",
          "text": [
            "Number of tokens found: 30301\n"
          ]
        }
      ],
      "source": [
        "print('Number of tokens found: ' + str(len(tokens_clean_text)))\n"
      ]
    },
    {
      "cell_type": "markdown",
      "metadata": {
        "id": "vjgJp3xckqST"
      },
      "source": [
        "4.2.4 Application to the DataFrame\n"
      ]
    },
    {
      "cell_type": "code",
      "execution_count": 55,
      "metadata": {
        "colab": {
          "base_uri": "https://localhost:8080/",
          "height": 206
        },
        "id": "8WYDODSOkqST",
        "outputId": "8c530ef8-9614-4a82-facc-fccf0a7958c4"
      },
      "outputs": [
        {
          "data": {
            "text/html": [
              "\n",
              "  <div id=\"df-76650e8f-285c-40d3-a655-6d67bce8883a\">\n",
              "    <div class=\"colab-df-container\">\n",
              "      <div>\n",
              "<style scoped>\n",
              "    .dataframe tbody tr th:only-of-type {\n",
              "        vertical-align: middle;\n",
              "    }\n",
              "\n",
              "    .dataframe tbody tr th {\n",
              "        vertical-align: top;\n",
              "    }\n",
              "\n",
              "    .dataframe thead th {\n",
              "        text-align: right;\n",
              "    }\n",
              "</style>\n",
              "<table border=\"1\" class=\"dataframe\">\n",
              "  <thead>\n",
              "    <tr style=\"text-align: right;\">\n",
              "      <th></th>\n",
              "      <th>content</th>\n",
              "      <th>file_name</th>\n",
              "      <th>clean_content</th>\n",
              "    </tr>\n",
              "  </thead>\n",
              "  <tbody>\n",
              "    <tr>\n",
              "      <th>0</th>\n",
              "      <td>We reverse the orders of the trial court denyi...</td>\n",
              "      <td>77129.json</td>\n",
              "      <td>We reverse the orders of the trial court denyi...</td>\n",
              "    </tr>\n",
              "    <tr>\n",
              "      <th>1</th>\n",
              "      <td>We therefore reverse Defendant's conviction an...</td>\n",
              "      <td>77129.json</td>\n",
              "      <td>We therefore reverse Defendant's conviction an...</td>\n",
              "    </tr>\n",
              "    <tr>\n",
              "      <th>2</th>\n",
              "      <td>nan</td>\n",
              "      <td>77129.json</td>\n",
              "      <td>nan</td>\n",
              "    </tr>\n",
              "    <tr>\n",
              "      <th>3</th>\n",
              "      <td>For the reasons discussed herein, we reverse ...</td>\n",
              "      <td>18357.json</td>\n",
              "      <td>For the reasons discussed herein, we reverse ...</td>\n",
              "    </tr>\n",
              "    <tr>\n",
              "      <th>4</th>\n",
              "      <td>Accordingly, the cause is reversed and remande...</td>\n",
              "      <td>18357.json</td>\n",
              "      <td>Accordingly, the cause is reversed and remande...</td>\n",
              "    </tr>\n",
              "  </tbody>\n",
              "</table>\n",
              "</div>\n",
              "      <button class=\"colab-df-convert\" onclick=\"convertToInteractive('df-76650e8f-285c-40d3-a655-6d67bce8883a')\"\n",
              "              title=\"Convert this dataframe to an interactive table.\"\n",
              "              style=\"display:none;\">\n",
              "        \n",
              "  <svg xmlns=\"http://www.w3.org/2000/svg\" height=\"24px\"viewBox=\"0 0 24 24\"\n",
              "       width=\"24px\">\n",
              "    <path d=\"M0 0h24v24H0V0z\" fill=\"none\"/>\n",
              "    <path d=\"M18.56 5.44l.94 2.06.94-2.06 2.06-.94-2.06-.94-.94-2.06-.94 2.06-2.06.94zm-11 1L8.5 8.5l.94-2.06 2.06-.94-2.06-.94L8.5 2.5l-.94 2.06-2.06.94zm10 10l.94 2.06.94-2.06 2.06-.94-2.06-.94-.94-2.06-.94 2.06-2.06.94z\"/><path d=\"M17.41 7.96l-1.37-1.37c-.4-.4-.92-.59-1.43-.59-.52 0-1.04.2-1.43.59L10.3 9.45l-7.72 7.72c-.78.78-.78 2.05 0 2.83L4 21.41c.39.39.9.59 1.41.59.51 0 1.02-.2 1.41-.59l7.78-7.78 2.81-2.81c.8-.78.8-2.07 0-2.86zM5.41 20L4 18.59l7.72-7.72 1.47 1.35L5.41 20z\"/>\n",
              "  </svg>\n",
              "      </button>\n",
              "      \n",
              "  <style>\n",
              "    .colab-df-container {\n",
              "      display:flex;\n",
              "      flex-wrap:wrap;\n",
              "      gap: 12px;\n",
              "    }\n",
              "\n",
              "    .colab-df-convert {\n",
              "      background-color: #E8F0FE;\n",
              "      border: none;\n",
              "      border-radius: 50%;\n",
              "      cursor: pointer;\n",
              "      display: none;\n",
              "      fill: #1967D2;\n",
              "      height: 32px;\n",
              "      padding: 0 0 0 0;\n",
              "      width: 32px;\n",
              "    }\n",
              "\n",
              "    .colab-df-convert:hover {\n",
              "      background-color: #E2EBFA;\n",
              "      box-shadow: 0px 1px 2px rgba(60, 64, 67, 0.3), 0px 1px 3px 1px rgba(60, 64, 67, 0.15);\n",
              "      fill: #174EA6;\n",
              "    }\n",
              "\n",
              "    [theme=dark] .colab-df-convert {\n",
              "      background-color: #3B4455;\n",
              "      fill: #D2E3FC;\n",
              "    }\n",
              "\n",
              "    [theme=dark] .colab-df-convert:hover {\n",
              "      background-color: #434B5C;\n",
              "      box-shadow: 0px 1px 3px 1px rgba(0, 0, 0, 0.15);\n",
              "      filter: drop-shadow(0px 1px 2px rgba(0, 0, 0, 0.3));\n",
              "      fill: #FFFFFF;\n",
              "    }\n",
              "  </style>\n",
              "\n",
              "      <script>\n",
              "        const buttonEl =\n",
              "          document.querySelector('#df-76650e8f-285c-40d3-a655-6d67bce8883a button.colab-df-convert');\n",
              "        buttonEl.style.display =\n",
              "          google.colab.kernel.accessAllowed ? 'block' : 'none';\n",
              "\n",
              "        async function convertToInteractive(key) {\n",
              "          const element = document.querySelector('#df-76650e8f-285c-40d3-a655-6d67bce8883a');\n",
              "          const dataTable =\n",
              "            await google.colab.kernel.invokeFunction('convertToInteractive',\n",
              "                                                     [key], {});\n",
              "          if (!dataTable) return;\n",
              "\n",
              "          const docLinkHtml = 'Like what you see? Visit the ' +\n",
              "            '<a target=\"_blank\" href=https://colab.research.google.com/notebooks/data_table.ipynb>data table notebook</a>'\n",
              "            + ' to learn more about interactive tables.';\n",
              "          element.innerHTML = '';\n",
              "          dataTable['output_type'] = 'display_data';\n",
              "          await google.colab.output.renderOutput(dataTable, element);\n",
              "          const docLink = document.createElement('div');\n",
              "          docLink.innerHTML = docLinkHtml;\n",
              "          element.appendChild(docLink);\n",
              "        }\n",
              "      </script>\n",
              "    </div>\n",
              "  </div>\n",
              "  "
            ],
            "text/plain": [
              "                                             content   file_name  \\\n",
              "0  We reverse the orders of the trial court denyi...  77129.json   \n",
              "1  We therefore reverse Defendant's conviction an...  77129.json   \n",
              "2                                                nan  77129.json   \n",
              "3   For the reasons discussed herein, we reverse ...  18357.json   \n",
              "4  Accordingly, the cause is reversed and remande...  18357.json   \n",
              "\n",
              "                                       clean_content  \n",
              "0  We reverse the orders of the trial court denyi...  \n",
              "1  We therefore reverse Defendant's conviction an...  \n",
              "2                                                nan  \n",
              "3   For the reasons discussed herein, we reverse ...  \n",
              "4  Accordingly, the cause is reversed and remande...  "
            ]
          },
          "execution_count": 55,
          "metadata": {},
          "output_type": "execute_result"
        }
      ],
      "source": [
        "df.head()"
      ]
    },
    {
      "cell_type": "markdown",
      "metadata": {
        "id": "YR1A0abrkqST"
      },
      "source": [
        "Here I set a limit for the column width so that it remains clear. This setting should be reset at the end, otherwise it will remain.\n",
        "\n"
      ]
    },
    {
      "cell_type": "code",
      "execution_count": 56,
      "metadata": {
        "id": "R2s8sQfZkqST"
      },
      "outputs": [],
      "source": [
        "pd.set_option('display.max_colwidth', 30)\n"
      ]
    },
    {
      "cell_type": "code",
      "execution_count": 67,
      "metadata": {
        "id": "mmE8h-IJkqST"
      },
      "outputs": [],
      "source": [
        "df['tokens'] = df['content'].apply(word_tokenize)\n",
        "df['Word_Count'] = df['content'].apply(word_count_func)\n"
      ]
    },
    {
      "cell_type": "code",
      "execution_count": 65,
      "metadata": {
        "colab": {
          "base_uri": "https://localhost:8080/",
          "height": 206
        },
        "id": "kaEz9Tr_kqST",
        "outputId": "9b791930-e7b0-4d03-b950-8f7a37a651f8"
      },
      "outputs": [
        {
          "data": {
            "text/html": [
              "\n",
              "  <div id=\"df-37a1df8d-96fb-47c1-a512-ae1418d816ed\">\n",
              "    <div class=\"colab-df-container\">\n",
              "      <div>\n",
              "<style scoped>\n",
              "    .dataframe tbody tr th:only-of-type {\n",
              "        vertical-align: middle;\n",
              "    }\n",
              "\n",
              "    .dataframe tbody tr th {\n",
              "        vertical-align: top;\n",
              "    }\n",
              "\n",
              "    .dataframe thead th {\n",
              "        text-align: right;\n",
              "    }\n",
              "</style>\n",
              "<table border=\"1\" class=\"dataframe\">\n",
              "  <thead>\n",
              "    <tr style=\"text-align: right;\">\n",
              "      <th></th>\n",
              "      <th>content</th>\n",
              "      <th>file_name</th>\n",
              "      <th>clean_content</th>\n",
              "      <th>tokens</th>\n",
              "      <th>Token_Count</th>\n",
              "      <th>Word_Count</th>\n",
              "    </tr>\n",
              "  </thead>\n",
              "  <tbody>\n",
              "    <tr>\n",
              "      <th>0</th>\n",
              "      <td>We reverse the orders of t...</td>\n",
              "      <td>77129.json</td>\n",
              "      <td>We reverse the orders of t...</td>\n",
              "      <td>[We, reverse, the, orders,...</td>\n",
              "      <td>17</td>\n",
              "      <td>15</td>\n",
              "    </tr>\n",
              "    <tr>\n",
              "      <th>1</th>\n",
              "      <td>We therefore reverse Defen...</td>\n",
              "      <td>77129.json</td>\n",
              "      <td>We therefore reverse Defen...</td>\n",
              "      <td>[We, therefore, reverse, D...</td>\n",
              "      <td>16</td>\n",
              "      <td>14</td>\n",
              "    </tr>\n",
              "    <tr>\n",
              "      <th>2</th>\n",
              "      <td>nan</td>\n",
              "      <td>77129.json</td>\n",
              "      <td>nan</td>\n",
              "      <td>[nan]</td>\n",
              "      <td>1</td>\n",
              "      <td>1</td>\n",
              "    </tr>\n",
              "    <tr>\n",
              "      <th>3</th>\n",
              "      <td>For the reasons discussed...</td>\n",
              "      <td>18357.json</td>\n",
              "      <td>For the reasons discussed...</td>\n",
              "      <td>[For, the, reasons, discus...</td>\n",
              "      <td>14</td>\n",
              "      <td>12</td>\n",
              "    </tr>\n",
              "    <tr>\n",
              "      <th>4</th>\n",
              "      <td>Accordingly, the cause is ...</td>\n",
              "      <td>18357.json</td>\n",
              "      <td>Accordingly, the cause is ...</td>\n",
              "      <td>[Accordingly, ,, the, caus...</td>\n",
              "      <td>16</td>\n",
              "      <td>14</td>\n",
              "    </tr>\n",
              "  </tbody>\n",
              "</table>\n",
              "</div>\n",
              "      <button class=\"colab-df-convert\" onclick=\"convertToInteractive('df-37a1df8d-96fb-47c1-a512-ae1418d816ed')\"\n",
              "              title=\"Convert this dataframe to an interactive table.\"\n",
              "              style=\"display:none;\">\n",
              "        \n",
              "  <svg xmlns=\"http://www.w3.org/2000/svg\" height=\"24px\"viewBox=\"0 0 24 24\"\n",
              "       width=\"24px\">\n",
              "    <path d=\"M0 0h24v24H0V0z\" fill=\"none\"/>\n",
              "    <path d=\"M18.56 5.44l.94 2.06.94-2.06 2.06-.94-2.06-.94-.94-2.06-.94 2.06-2.06.94zm-11 1L8.5 8.5l.94-2.06 2.06-.94-2.06-.94L8.5 2.5l-.94 2.06-2.06.94zm10 10l.94 2.06.94-2.06 2.06-.94-2.06-.94-.94-2.06-.94 2.06-2.06.94z\"/><path d=\"M17.41 7.96l-1.37-1.37c-.4-.4-.92-.59-1.43-.59-.52 0-1.04.2-1.43.59L10.3 9.45l-7.72 7.72c-.78.78-.78 2.05 0 2.83L4 21.41c.39.39.9.59 1.41.59.51 0 1.02-.2 1.41-.59l7.78-7.78 2.81-2.81c.8-.78.8-2.07 0-2.86zM5.41 20L4 18.59l7.72-7.72 1.47 1.35L5.41 20z\"/>\n",
              "  </svg>\n",
              "      </button>\n",
              "      \n",
              "  <style>\n",
              "    .colab-df-container {\n",
              "      display:flex;\n",
              "      flex-wrap:wrap;\n",
              "      gap: 12px;\n",
              "    }\n",
              "\n",
              "    .colab-df-convert {\n",
              "      background-color: #E8F0FE;\n",
              "      border: none;\n",
              "      border-radius: 50%;\n",
              "      cursor: pointer;\n",
              "      display: none;\n",
              "      fill: #1967D2;\n",
              "      height: 32px;\n",
              "      padding: 0 0 0 0;\n",
              "      width: 32px;\n",
              "    }\n",
              "\n",
              "    .colab-df-convert:hover {\n",
              "      background-color: #E2EBFA;\n",
              "      box-shadow: 0px 1px 2px rgba(60, 64, 67, 0.3), 0px 1px 3px 1px rgba(60, 64, 67, 0.15);\n",
              "      fill: #174EA6;\n",
              "    }\n",
              "\n",
              "    [theme=dark] .colab-df-convert {\n",
              "      background-color: #3B4455;\n",
              "      fill: #D2E3FC;\n",
              "    }\n",
              "\n",
              "    [theme=dark] .colab-df-convert:hover {\n",
              "      background-color: #434B5C;\n",
              "      box-shadow: 0px 1px 3px 1px rgba(0, 0, 0, 0.15);\n",
              "      filter: drop-shadow(0px 1px 2px rgba(0, 0, 0, 0.3));\n",
              "      fill: #FFFFFF;\n",
              "    }\n",
              "  </style>\n",
              "\n",
              "      <script>\n",
              "        const buttonEl =\n",
              "          document.querySelector('#df-37a1df8d-96fb-47c1-a512-ae1418d816ed button.colab-df-convert');\n",
              "        buttonEl.style.display =\n",
              "          google.colab.kernel.accessAllowed ? 'block' : 'none';\n",
              "\n",
              "        async function convertToInteractive(key) {\n",
              "          const element = document.querySelector('#df-37a1df8d-96fb-47c1-a512-ae1418d816ed');\n",
              "          const dataTable =\n",
              "            await google.colab.kernel.invokeFunction('convertToInteractive',\n",
              "                                                     [key], {});\n",
              "          if (!dataTable) return;\n",
              "\n",
              "          const docLinkHtml = 'Like what you see? Visit the ' +\n",
              "            '<a target=\"_blank\" href=https://colab.research.google.com/notebooks/data_table.ipynb>data table notebook</a>'\n",
              "            + ' to learn more about interactive tables.';\n",
              "          element.innerHTML = '';\n",
              "          dataTable['output_type'] = 'display_data';\n",
              "          await google.colab.output.renderOutput(dataTable, element);\n",
              "          const docLink = document.createElement('div');\n",
              "          docLink.innerHTML = docLinkHtml;\n",
              "          element.appendChild(docLink);\n",
              "        }\n",
              "      </script>\n",
              "    </div>\n",
              "  </div>\n",
              "  "
            ],
            "text/plain": [
              "                         content   file_name                  clean_content  \\\n",
              "0  We reverse the orders of t...  77129.json  We reverse the orders of t...   \n",
              "1  We therefore reverse Defen...  77129.json  We therefore reverse Defen...   \n",
              "2                            nan  77129.json                            nan   \n",
              "3   For the reasons discussed...  18357.json   For the reasons discussed...   \n",
              "4  Accordingly, the cause is ...  18357.json  Accordingly, the cause is ...   \n",
              "\n",
              "                          tokens  Token_Count  Word_Count  \n",
              "0  [We, reverse, the, orders,...           17          15  \n",
              "1  [We, therefore, reverse, D...           16          14  \n",
              "2                          [nan]            1           1  \n",
              "3  [For, the, reasons, discus...           14          12  \n",
              "4  [Accordingly, ,, the, caus...           16          14  "
            ]
          },
          "execution_count": 65,
          "metadata": {},
          "output_type": "execute_result"
        }
      ],
      "source": [
        "df.head()\n"
      ]
    },
    {
      "cell_type": "code",
      "execution_count": 68,
      "metadata": {
        "colab": {
          "base_uri": "https://localhost:8080/",
          "height": 206
        },
        "id": "VPiF5bEYkqST",
        "outputId": "3840aead-937d-484c-a98a-0a11e10aa01a"
      },
      "outputs": [
        {
          "data": {
            "text/html": [
              "\n",
              "  <div id=\"df-6934274c-9355-410a-b80a-6137ad5cac2f\">\n",
              "    <div class=\"colab-df-container\">\n",
              "      <div>\n",
              "<style scoped>\n",
              "    .dataframe tbody tr th:only-of-type {\n",
              "        vertical-align: middle;\n",
              "    }\n",
              "\n",
              "    .dataframe tbody tr th {\n",
              "        vertical-align: top;\n",
              "    }\n",
              "\n",
              "    .dataframe thead th {\n",
              "        text-align: right;\n",
              "    }\n",
              "</style>\n",
              "<table border=\"1\" class=\"dataframe\">\n",
              "  <thead>\n",
              "    <tr style=\"text-align: right;\">\n",
              "      <th></th>\n",
              "      <th>content</th>\n",
              "      <th>file_name</th>\n",
              "      <th>clean_content</th>\n",
              "      <th>tokens</th>\n",
              "      <th>Token_Count</th>\n",
              "      <th>Word_Count</th>\n",
              "    </tr>\n",
              "  </thead>\n",
              "  <tbody>\n",
              "    <tr>\n",
              "      <th>0</th>\n",
              "      <td>We reverse the orders of t...</td>\n",
              "      <td>77129.json</td>\n",
              "      <td>We reverse the orders of t...</td>\n",
              "      <td>[We, reverse, the, orders,...</td>\n",
              "      <td>17</td>\n",
              "      <td>15</td>\n",
              "    </tr>\n",
              "    <tr>\n",
              "      <th>1</th>\n",
              "      <td>We therefore reverse Defen...</td>\n",
              "      <td>77129.json</td>\n",
              "      <td>We therefore reverse Defen...</td>\n",
              "      <td>[We, therefore, reverse, D...</td>\n",
              "      <td>16</td>\n",
              "      <td>14</td>\n",
              "    </tr>\n",
              "    <tr>\n",
              "      <th>2</th>\n",
              "      <td>nan</td>\n",
              "      <td>77129.json</td>\n",
              "      <td>nan</td>\n",
              "      <td>[nan]</td>\n",
              "      <td>1</td>\n",
              "      <td>1</td>\n",
              "    </tr>\n",
              "    <tr>\n",
              "      <th>3</th>\n",
              "      <td>For the reasons discussed...</td>\n",
              "      <td>18357.json</td>\n",
              "      <td>For the reasons discussed...</td>\n",
              "      <td>[For, the, reasons, discus...</td>\n",
              "      <td>14</td>\n",
              "      <td>12</td>\n",
              "    </tr>\n",
              "    <tr>\n",
              "      <th>4</th>\n",
              "      <td>Accordingly, the cause is ...</td>\n",
              "      <td>18357.json</td>\n",
              "      <td>Accordingly, the cause is ...</td>\n",
              "      <td>[Accordingly, ,, the, caus...</td>\n",
              "      <td>16</td>\n",
              "      <td>14</td>\n",
              "    </tr>\n",
              "  </tbody>\n",
              "</table>\n",
              "</div>\n",
              "      <button class=\"colab-df-convert\" onclick=\"convertToInteractive('df-6934274c-9355-410a-b80a-6137ad5cac2f')\"\n",
              "              title=\"Convert this dataframe to an interactive table.\"\n",
              "              style=\"display:none;\">\n",
              "        \n",
              "  <svg xmlns=\"http://www.w3.org/2000/svg\" height=\"24px\"viewBox=\"0 0 24 24\"\n",
              "       width=\"24px\">\n",
              "    <path d=\"M0 0h24v24H0V0z\" fill=\"none\"/>\n",
              "    <path d=\"M18.56 5.44l.94 2.06.94-2.06 2.06-.94-2.06-.94-.94-2.06-.94 2.06-2.06.94zm-11 1L8.5 8.5l.94-2.06 2.06-.94-2.06-.94L8.5 2.5l-.94 2.06-2.06.94zm10 10l.94 2.06.94-2.06 2.06-.94-2.06-.94-.94-2.06-.94 2.06-2.06.94z\"/><path d=\"M17.41 7.96l-1.37-1.37c-.4-.4-.92-.59-1.43-.59-.52 0-1.04.2-1.43.59L10.3 9.45l-7.72 7.72c-.78.78-.78 2.05 0 2.83L4 21.41c.39.39.9.59 1.41.59.51 0 1.02-.2 1.41-.59l7.78-7.78 2.81-2.81c.8-.78.8-2.07 0-2.86zM5.41 20L4 18.59l7.72-7.72 1.47 1.35L5.41 20z\"/>\n",
              "  </svg>\n",
              "      </button>\n",
              "      \n",
              "  <style>\n",
              "    .colab-df-container {\n",
              "      display:flex;\n",
              "      flex-wrap:wrap;\n",
              "      gap: 12px;\n",
              "    }\n",
              "\n",
              "    .colab-df-convert {\n",
              "      background-color: #E8F0FE;\n",
              "      border: none;\n",
              "      border-radius: 50%;\n",
              "      cursor: pointer;\n",
              "      display: none;\n",
              "      fill: #1967D2;\n",
              "      height: 32px;\n",
              "      padding: 0 0 0 0;\n",
              "      width: 32px;\n",
              "    }\n",
              "\n",
              "    .colab-df-convert:hover {\n",
              "      background-color: #E2EBFA;\n",
              "      box-shadow: 0px 1px 2px rgba(60, 64, 67, 0.3), 0px 1px 3px 1px rgba(60, 64, 67, 0.15);\n",
              "      fill: #174EA6;\n",
              "    }\n",
              "\n",
              "    [theme=dark] .colab-df-convert {\n",
              "      background-color: #3B4455;\n",
              "      fill: #D2E3FC;\n",
              "    }\n",
              "\n",
              "    [theme=dark] .colab-df-convert:hover {\n",
              "      background-color: #434B5C;\n",
              "      box-shadow: 0px 1px 3px 1px rgba(0, 0, 0, 0.15);\n",
              "      filter: drop-shadow(0px 1px 2px rgba(0, 0, 0, 0.3));\n",
              "      fill: #FFFFFF;\n",
              "    }\n",
              "  </style>\n",
              "\n",
              "      <script>\n",
              "        const buttonEl =\n",
              "          document.querySelector('#df-6934274c-9355-410a-b80a-6137ad5cac2f button.colab-df-convert');\n",
              "        buttonEl.style.display =\n",
              "          google.colab.kernel.accessAllowed ? 'block' : 'none';\n",
              "\n",
              "        async function convertToInteractive(key) {\n",
              "          const element = document.querySelector('#df-6934274c-9355-410a-b80a-6137ad5cac2f');\n",
              "          const dataTable =\n",
              "            await google.colab.kernel.invokeFunction('convertToInteractive',\n",
              "                                                     [key], {});\n",
              "          if (!dataTable) return;\n",
              "\n",
              "          const docLinkHtml = 'Like what you see? Visit the ' +\n",
              "            '<a target=\"_blank\" href=https://colab.research.google.com/notebooks/data_table.ipynb>data table notebook</a>'\n",
              "            + ' to learn more about interactive tables.';\n",
              "          element.innerHTML = '';\n",
              "          dataTable['output_type'] = 'display_data';\n",
              "          await google.colab.output.renderOutput(dataTable, element);\n",
              "          const docLink = document.createElement('div');\n",
              "          docLink.innerHTML = docLinkHtml;\n",
              "          element.appendChild(docLink);\n",
              "        }\n",
              "      </script>\n",
              "    </div>\n",
              "  </div>\n",
              "  "
            ],
            "text/plain": [
              "                         content   file_name                  clean_content  \\\n",
              "0  We reverse the orders of t...  77129.json  We reverse the orders of t...   \n",
              "1  We therefore reverse Defen...  77129.json  We therefore reverse Defen...   \n",
              "2                            nan  77129.json                            nan   \n",
              "3   For the reasons discussed...  18357.json   For the reasons discussed...   \n",
              "4  Accordingly, the cause is ...  18357.json  Accordingly, the cause is ...   \n",
              "\n",
              "                          tokens  Token_Count  Word_Count  \n",
              "0  [We, reverse, the, orders,...           17          15  \n",
              "1  [We, therefore, reverse, D...           16          14  \n",
              "2                          [nan]            1           1  \n",
              "3  [For, the, reasons, discus...           14          12  \n",
              "4  [Accordingly, ,, the, caus...           16          14  "
            ]
          },
          "execution_count": 68,
          "metadata": {},
          "output_type": "execute_result"
        }
      ],
      "source": [
        "df['Token_Count'] = df['tokens'].str.len()\n",
        "\n",
        "df.head()"
      ]
    },
    {
      "cell_type": "markdown",
      "metadata": {
        "id": "T3mY311EkqSU"
      },
      "source": [
        "It is always worthwhile (I have made a habit of doing this) to have the number of remaining words or tokens displayed and also to store them in the data record. The advantage of this is that (especially in later process steps) it is very quick and easy to see what influence the operation has had on the quality of my information. Of course, this can only be done on a random basis, but it is easy to see whether the function applied had negative effects that were not intended. Or you look at a case difference if you don’t know which type of algorithm (for example, in normalisation) fits my data better.\n",
        "\n"
      ]
    },
    {
      "cell_type": "code",
      "execution_count": 69,
      "metadata": {
        "colab": {
          "base_uri": "https://localhost:8080/"
        },
        "id": "zk0bQ6EvkqSU",
        "outputId": "4821bb82-e5ba-4f6b-fbfd-c7ac1fb6ee9d"
      },
      "outputs": [
        {
          "name": "stdout",
          "output_type": "stream",
          "text": [
            "Average of words counted: 14.843612334801762\n",
            "Average of tokens counted: 16.868392070484582\n"
          ]
        }
      ],
      "source": [
        "print('Average of words counted: ' + str(df['Word_Count'].mean()))\n",
        "print('Average of tokens counted: ' + str(df['Token_Count'].mean()))\n"
      ]
    },
    {
      "cell_type": "markdown",
      "metadata": {
        "id": "P9aYbNFBkqSU"
      },
      "source": [
        "Ok interesting, the average number of words has increased slightly. Let’s take a look at what caused that:\n",
        "\n"
      ]
    },
    {
      "cell_type": "code",
      "execution_count": 72,
      "metadata": {
        "colab": {
          "base_uri": "https://localhost:8080/",
          "height": 424
        },
        "id": "5eGx5IQVkqSU",
        "outputId": "eca95379-8189-487d-e30b-6ee41d272b75"
      },
      "outputs": [
        {
          "data": {
            "text/html": [
              "\n",
              "  <div id=\"df-233a8119-f598-4542-af0d-6dd8fa78793a\">\n",
              "    <div class=\"colab-df-container\">\n",
              "      <div>\n",
              "<style scoped>\n",
              "    .dataframe tbody tr th:only-of-type {\n",
              "        vertical-align: middle;\n",
              "    }\n",
              "\n",
              "    .dataframe tbody tr th {\n",
              "        vertical-align: top;\n",
              "    }\n",
              "\n",
              "    .dataframe thead th {\n",
              "        text-align: right;\n",
              "    }\n",
              "</style>\n",
              "<table border=\"1\" class=\"dataframe\">\n",
              "  <thead>\n",
              "    <tr style=\"text-align: right;\">\n",
              "      <th></th>\n",
              "      <th>content</th>\n",
              "      <th>Word_Count</th>\n",
              "      <th>tokens</th>\n",
              "      <th>Token_Count</th>\n",
              "      <th>Diff</th>\n",
              "    </tr>\n",
              "  </thead>\n",
              "  <tbody>\n",
              "    <tr>\n",
              "      <th>1740</th>\n",
              "      <td>Therefore, we reverse and ...</td>\n",
              "      <td>40</td>\n",
              "      <td>[Therefore, ,, we, reverse...</td>\n",
              "      <td>61</td>\n",
              "      <td>21</td>\n",
              "    </tr>\n",
              "    <tr>\n",
              "      <th>886</th>\n",
              "      <td>We uphold the district cou...</td>\n",
              "      <td>43</td>\n",
              "      <td>[We, uphold, the, district...</td>\n",
              "      <td>61</td>\n",
              "      <td>18</td>\n",
              "    </tr>\n",
              "    <tr>\n",
              "      <th>737</th>\n",
              "      <td>Concluding that Defendant ...</td>\n",
              "      <td>61</td>\n",
              "      <td>[Concluding, that, Defenda...</td>\n",
              "      <td>76</td>\n",
              "      <td>15</td>\n",
              "    </tr>\n",
              "    <tr>\n",
              "      <th>1236</th>\n",
              "      <td>We affirm the trial court'...</td>\n",
              "      <td>76</td>\n",
              "      <td>[We, affirm, the, trial, c...</td>\n",
              "      <td>90</td>\n",
              "      <td>14</td>\n",
              "    </tr>\n",
              "    <tr>\n",
              "      <th>1456</th>\n",
              "      <td>We note jurisdiction under...</td>\n",
              "      <td>27</td>\n",
              "      <td>[We, note, jurisdiction, u...</td>\n",
              "      <td>40</td>\n",
              "      <td>13</td>\n",
              "    </tr>\n",
              "    <tr>\n",
              "      <th>...</th>\n",
              "      <td>...</td>\n",
              "      <td>...</td>\n",
              "      <td>...</td>\n",
              "      <td>...</td>\n",
              "      <td>...</td>\n",
              "    </tr>\n",
              "    <tr>\n",
              "      <th>1307</th>\n",
              "      <td>We affirm the decision of ...</td>\n",
              "      <td>8</td>\n",
              "      <td>[We, affirm, the, decision...</td>\n",
              "      <td>9</td>\n",
              "      <td>1</td>\n",
              "    </tr>\n",
              "    <tr>\n",
              "      <th>1305</th>\n",
              "      <td>We affirm.</td>\n",
              "      <td>2</td>\n",
              "      <td>[We, affirm, .]</td>\n",
              "      <td>3</td>\n",
              "      <td>1</td>\n",
              "    </tr>\n",
              "    <tr>\n",
              "      <th>1303</th>\n",
              "      <td>We affirm the Court of Ap...</td>\n",
              "      <td>22</td>\n",
              "      <td>[We, affirm, the, Court, o...</td>\n",
              "      <td>23</td>\n",
              "      <td>1</td>\n",
              "    </tr>\n",
              "    <tr>\n",
              "      <th>1302</th>\n",
              "      <td>We now affirm the Court of...</td>\n",
              "      <td>11</td>\n",
              "      <td>[We, now, affirm, the, Cou...</td>\n",
              "      <td>12</td>\n",
              "      <td>1</td>\n",
              "    </tr>\n",
              "    <tr>\n",
              "      <th>901</th>\n",
              "      <td>We affirm.</td>\n",
              "      <td>2</td>\n",
              "      <td>[We, affirm, .]</td>\n",
              "      <td>3</td>\n",
              "      <td>1</td>\n",
              "    </tr>\n",
              "  </tbody>\n",
              "</table>\n",
              "<p>1304 rows × 5 columns</p>\n",
              "</div>\n",
              "      <button class=\"colab-df-convert\" onclick=\"convertToInteractive('df-233a8119-f598-4542-af0d-6dd8fa78793a')\"\n",
              "              title=\"Convert this dataframe to an interactive table.\"\n",
              "              style=\"display:none;\">\n",
              "        \n",
              "  <svg xmlns=\"http://www.w3.org/2000/svg\" height=\"24px\"viewBox=\"0 0 24 24\"\n",
              "       width=\"24px\">\n",
              "    <path d=\"M0 0h24v24H0V0z\" fill=\"none\"/>\n",
              "    <path d=\"M18.56 5.44l.94 2.06.94-2.06 2.06-.94-2.06-.94-.94-2.06-.94 2.06-2.06.94zm-11 1L8.5 8.5l.94-2.06 2.06-.94-2.06-.94L8.5 2.5l-.94 2.06-2.06.94zm10 10l.94 2.06.94-2.06 2.06-.94-2.06-.94-.94-2.06-.94 2.06-2.06.94z\"/><path d=\"M17.41 7.96l-1.37-1.37c-.4-.4-.92-.59-1.43-.59-.52 0-1.04.2-1.43.59L10.3 9.45l-7.72 7.72c-.78.78-.78 2.05 0 2.83L4 21.41c.39.39.9.59 1.41.59.51 0 1.02-.2 1.41-.59l7.78-7.78 2.81-2.81c.8-.78.8-2.07 0-2.86zM5.41 20L4 18.59l7.72-7.72 1.47 1.35L5.41 20z\"/>\n",
              "  </svg>\n",
              "      </button>\n",
              "      \n",
              "  <style>\n",
              "    .colab-df-container {\n",
              "      display:flex;\n",
              "      flex-wrap:wrap;\n",
              "      gap: 12px;\n",
              "    }\n",
              "\n",
              "    .colab-df-convert {\n",
              "      background-color: #E8F0FE;\n",
              "      border: none;\n",
              "      border-radius: 50%;\n",
              "      cursor: pointer;\n",
              "      display: none;\n",
              "      fill: #1967D2;\n",
              "      height: 32px;\n",
              "      padding: 0 0 0 0;\n",
              "      width: 32px;\n",
              "    }\n",
              "\n",
              "    .colab-df-convert:hover {\n",
              "      background-color: #E2EBFA;\n",
              "      box-shadow: 0px 1px 2px rgba(60, 64, 67, 0.3), 0px 1px 3px 1px rgba(60, 64, 67, 0.15);\n",
              "      fill: #174EA6;\n",
              "    }\n",
              "\n",
              "    [theme=dark] .colab-df-convert {\n",
              "      background-color: #3B4455;\n",
              "      fill: #D2E3FC;\n",
              "    }\n",
              "\n",
              "    [theme=dark] .colab-df-convert:hover {\n",
              "      background-color: #434B5C;\n",
              "      box-shadow: 0px 1px 3px 1px rgba(0, 0, 0, 0.15);\n",
              "      filter: drop-shadow(0px 1px 2px rgba(0, 0, 0, 0.3));\n",
              "      fill: #FFFFFF;\n",
              "    }\n",
              "  </style>\n",
              "\n",
              "      <script>\n",
              "        const buttonEl =\n",
              "          document.querySelector('#df-233a8119-f598-4542-af0d-6dd8fa78793a button.colab-df-convert');\n",
              "        buttonEl.style.display =\n",
              "          google.colab.kernel.accessAllowed ? 'block' : 'none';\n",
              "\n",
              "        async function convertToInteractive(key) {\n",
              "          const element = document.querySelector('#df-233a8119-f598-4542-af0d-6dd8fa78793a');\n",
              "          const dataTable =\n",
              "            await google.colab.kernel.invokeFunction('convertToInteractive',\n",
              "                                                     [key], {});\n",
              "          if (!dataTable) return;\n",
              "\n",
              "          const docLinkHtml = 'Like what you see? Visit the ' +\n",
              "            '<a target=\"_blank\" href=https://colab.research.google.com/notebooks/data_table.ipynb>data table notebook</a>'\n",
              "            + ' to learn more about interactive tables.';\n",
              "          element.innerHTML = '';\n",
              "          dataTable['output_type'] = 'display_data';\n",
              "          await google.colab.output.renderOutput(dataTable, element);\n",
              "          const docLink = document.createElement('div');\n",
              "          docLink.innerHTML = docLinkHtml;\n",
              "          element.appendChild(docLink);\n",
              "        }\n",
              "      </script>\n",
              "    </div>\n",
              "  </div>\n",
              "  "
            ],
            "text/plain": [
              "                            content  Word_Count  \\\n",
              "1740  Therefore, we reverse and ...          40   \n",
              "886   We uphold the district cou...          43   \n",
              "737   Concluding that Defendant ...          61   \n",
              "1236  We affirm the trial court'...          76   \n",
              "1456  We note jurisdiction under...          27   \n",
              "...                             ...         ...   \n",
              "1307  We affirm the decision of ...           8   \n",
              "1305                     We affirm.           2   \n",
              "1303   We affirm the Court of Ap...          22   \n",
              "1302  We now affirm the Court of...          11   \n",
              "901                      We affirm.           2   \n",
              "\n",
              "                             tokens  Token_Count  Diff  \n",
              "1740  [Therefore, ,, we, reverse...           61    21  \n",
              "886   [We, uphold, the, district...           61    18  \n",
              "737   [Concluding, that, Defenda...           76    15  \n",
              "1236  [We, affirm, the, trial, c...           90    14  \n",
              "1456  [We, note, jurisdiction, u...           40    13  \n",
              "...                             ...          ...   ...  \n",
              "1307  [We, affirm, the, decision...            9     1  \n",
              "1305                [We, affirm, .]            3     1  \n",
              "1303  [We, affirm, the, Court, o...           23     1  \n",
              "1302  [We, now, affirm, the, Cou...           12     1  \n",
              "901                 [We, affirm, .]            3     1  \n",
              "\n",
              "[1304 rows x 5 columns]"
            ]
          },
          "execution_count": 72,
          "metadata": {},
          "output_type": "execute_result"
        }
      ],
      "source": [
        "df_subset = df[['content', 'Word_Count', 'tokens', 'Token_Count']]\n",
        "df_subset['Diff'] = df_subset['Token_Count'] - df_subset['Word_Count']\n",
        "\n",
        "\n",
        "df_subset = df_subset[(df_subset[\"Diff\"] != 0)]\n",
        "df_subset.sort_values(by='Diff', ascending=False)\n"
      ]
    },
    {
      "cell_type": "markdown",
      "metadata": {
        "id": "78RA05J_kqSU"
      },
      "source": [
        "Note: In the following I do not take the first row from the sorted dataset, but from the created dataset df_subset.\n",
        "\n"
      ]
    },
    {
      "cell_type": "code",
      "execution_count": 78,
      "metadata": {
        "colab": {
          "base_uri": "https://localhost:8080/"
        },
        "id": "HDyEi6gHkqSU",
        "outputId": "e198cfbc-546a-4822-a158-51e9ba41f2ce"
      },
      "outputs": [
        {
          "data": {
            "text/plain": [
              "['We',\n",
              " 'reverse',\n",
              " 'the',\n",
              " 'orders',\n",
              " 'of',\n",
              " 'the',\n",
              " 'trial',\n",
              " 'court',\n",
              " 'denying',\n",
              " \"Defendant's\",\n",
              " 'motion',\n",
              " 'to',\n",
              " 'dismiss',\n",
              " 'the',\n",
              " 'indictment.']"
            ]
          },
          "execution_count": 78,
          "metadata": {},
          "output_type": "execute_result"
        }
      ],
      "source": [
        "df_subset['content'].str.split().iloc[0]\n"
      ]
    },
    {
      "cell_type": "code",
      "execution_count": 75,
      "metadata": {
        "colab": {
          "base_uri": "https://localhost:8080/"
        },
        "id": "Nq4W5T-OkqSU",
        "outputId": "2a360d8e-ccb1-436a-d1b4-492177706dd3"
      },
      "outputs": [
        {
          "data": {
            "text/plain": [
              "['We',\n",
              " 'reverse',\n",
              " 'the',\n",
              " 'orders',\n",
              " 'of',\n",
              " 'the',\n",
              " 'trial',\n",
              " 'court',\n",
              " 'denying',\n",
              " 'Defendant',\n",
              " \"'s\",\n",
              " 'motion',\n",
              " 'to',\n",
              " 'dismiss',\n",
              " 'the',\n",
              " 'indictment',\n",
              " '.']"
            ]
          },
          "execution_count": 75,
          "metadata": {},
          "output_type": "execute_result"
        }
      ],
      "source": [
        "df_subset['tokens'].iloc[0]\n"
      ]
    },
    {
      "cell_type": "markdown",
      "metadata": {
        "id": "Zze2n4J5kqSU"
      },
      "source": [
        "Here we see the reason: The tokenizer has turned ‘cannot’ into ‘can not’."
      ]
    }
  ],
  "metadata": {
    "colab": {
      "provenance": []
    },
    "kernelspec": {
      "display_name": "Python 3.10.7 64-bit (microsoft store)",
      "language": "python",
      "name": "python3"
    },
    "language_info": {
      "name": "python",
      "version": "3.10.8"
    },
    "orig_nbformat": 4,
    "vscode": {
      "interpreter": {
        "hash": "ab330c63be1774c7d4efd28485dada9f7c6eb3392ec4de9472ccb4da1daed7d7"
      }
    }
  },
  "nbformat": 4,
  "nbformat_minor": 0
}
