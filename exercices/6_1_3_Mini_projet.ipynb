{
  "nbformat": 4,
  "nbformat_minor": 0,
  "metadata": {
    "colab": {
      "provenance": []
    },
    "kernelspec": {
      "name": "python3",
      "display_name": "Python 3"
    },
    "language_info": {
      "name": "python"
    }
  },
  "cells": [
    {
      "cell_type": "markdown",
      "source": [
        "# Activité 6.1.3.1"
      ],
      "metadata": {
        "id": "Gr6TZ3K_wp0P"
      }
    },
    {
      "cell_type": "markdown",
      "source": [
        "- Dans 30DaysOfPython, créez un dossier appelé day_2. Dans ce dossier, créez un fichier nommé variables.py.\n",
        "- Ecrivez un commentaire python disant \"Jour 2 : 30 jours de programmation python\".\n",
        "- Déclarez une variable prénom et attribuez-lui une valeur.\n",
        "- Déclarer une variable de nom de famille et lui attribuer une valeur\n",
        "- Déclarer une variable nom complet et lui attribuer une valeur\n",
        "- Déclarer une variable pays et lui attribuer une valeur\n",
        "- Déclarer une variable ville et lui attribuer une valeur\n",
        "- Déclarer une variable âge et lui attribuer une valeur\n",
        "- Déclarer une variable année et lui attribuer une valeur\n",
        "- Déclarer une variable is_married et lui affecter une valeur\n",
        "- Déclarer une variable is_true et lui attribuer une valeur\n",
        "- Déclarer une variable is_light_on et lui attribuer une valeur\n",
        "- Déclarer plusieurs variables sur une ligne\n"
      ],
      "metadata": {
        "id": "sW8CiMZvwn29"
      }
    },
    {
      "cell_type": "markdown",
      "source": [
        "#Activité 6.3.1.2\n",
        "\n",
        "- Vérifier le type de données de toutes vos variables en utilisant la fonction intégrée type()\n",
        "En utilisant la fonction intégrée len(), trouvez la longueur de votre prénom.\n",
        "- Comparez la longueur de votre prénom et de votre nom de famille.\n",
        "- Déclarez 5 comme num_one et 4 comme num_two.\n",
        "- Additionnez num_one et num_two et attribuez la valeur à la variable total.\n",
        "- Soustraire le nombre_deux du nombre_un et affecter la valeur à une variable diff.\n",
        "- Multipliez le nombre_deux et le nombre_deux et attribuez la valeur à une variable product.\n",
        "- Diviser num_one par num_two et affecter la valeur à une variable division\n",
        "- Utilisez la division modulaire pour trouver le nombre_deux divisé par le nombre_un et affectez la valeur à une variable reste.\n",
        "- Calculez num_one à la puissance de num_two et attribuez la valeur à une variable exp.\n",
        "- Trouvez la division plancher de num_one par num_two et attribuez la valeur à une variable - floor_division.\n",
        "- Le rayon d'un cercle est de 30 mètres.\n",
        "- Calculez l'aire d'un cercle et affectez la valeur à une variable nommée aire_du_cercle\n",
        "- Calculez la circonférence d'un cercle et attribuez la valeur à la variable circum_of_circle.\n",
        "- Prenez le rayon comme entrée utilisateur et calculez l'aire.\n",
        "- Utilisez la fonction de saisie intégrée pour obtenir le prénom, le nom, le pays et l'âge d'un utilisateur et stockez la valeur dans les noms de variables correspondants.\n",
        "- Exécutez help('keywords') dans le shell Python ou dans votre fichier pour vérifier les mots réservés ou les mots-clés Python."
      ],
      "metadata": {
        "id": "B-Og7NiUwt0P"
      }
    },
    {
      "cell_type": "code",
      "source": [],
      "metadata": {
        "id": "YDFjK4Fb37IC"
      },
      "execution_count": null,
      "outputs": []
    }
  ]
}