{
 "cells": [
  {
   "cell_type": "code",
   "execution_count": 1,
   "metadata": {},
   "outputs": [
    {
     "name": "stdout",
     "output_type": "stream",
     "text": [
      "Requirement already satisfied: nbautoeval in c:\\users\\home\\anaconda3\\lib\\site-packages (1.7.0)\n",
      "Requirement already satisfied: numpy in c:\\users\\home\\anaconda3\\lib\\site-packages (from nbautoeval) (1.21.5)\n",
      "Requirement already satisfied: ipython in c:\\users\\home\\anaconda3\\lib\\site-packages (from nbautoeval) (8.2.0)\n",
      "Requirement already satisfied: myst-parser in c:\\users\\home\\anaconda3\\lib\\site-packages (from nbautoeval) (0.18.1)\n",
      "Requirement already satisfied: ipywidgets in c:\\users\\home\\anaconda3\\lib\\site-packages (from nbautoeval) (7.6.5)\n",
      "Requirement already satisfied: PyYAML in c:\\users\\home\\anaconda3\\lib\\site-packages (from nbautoeval) (6.0)\n",
      "Requirement already satisfied: decorator in c:\\users\\home\\anaconda3\\lib\\site-packages (from ipython->nbautoeval) (5.1.1)\n",
      "Requirement already satisfied: jedi>=0.16 in c:\\users\\home\\anaconda3\\lib\\site-packages (from ipython->nbautoeval) (0.18.1)\n",
      "Requirement already satisfied: matplotlib-inline in c:\\users\\home\\anaconda3\\lib\\site-packages (from ipython->nbautoeval) (0.1.2)\n",
      "Requirement already satisfied: pickleshare in c:\\users\\home\\anaconda3\\lib\\site-packages (from ipython->nbautoeval) (0.7.5)\n",
      "Requirement already satisfied: traitlets>=5 in c:\\users\\home\\anaconda3\\lib\\site-packages (from ipython->nbautoeval) (5.1.1)\n",
      "Requirement already satisfied: stack-data in c:\\users\\home\\anaconda3\\lib\\site-packages (from ipython->nbautoeval) (0.2.0)\n",
      "Requirement already satisfied: prompt-toolkit!=3.0.0,!=3.0.1,<3.1.0,>=2.0.0 in c:\\users\\home\\anaconda3\\lib\\site-packages (from ipython->nbautoeval) (3.0.20)\n",
      "Requirement already satisfied: colorama in c:\\users\\home\\anaconda3\\lib\\site-packages (from ipython->nbautoeval) (0.4.4)\n",
      "Requirement already satisfied: setuptools>=18.5 in c:\\users\\home\\anaconda3\\lib\\site-packages (from ipython->nbautoeval) (61.2.0)\n",
      "Requirement already satisfied: backcall in c:\\users\\home\\anaconda3\\lib\\site-packages (from ipython->nbautoeval) (0.2.0)\n",
      "Requirement already satisfied: pygments>=2.4.0 in c:\\users\\home\\anaconda3\\lib\\site-packages (from ipython->nbautoeval) (2.11.2)\n",
      "Requirement already satisfied: parso<0.9.0,>=0.8.0 in c:\\users\\home\\anaconda3\\lib\\site-packages (from jedi>=0.16->ipython->nbautoeval) (0.8.3)\n",
      "Requirement already satisfied: wcwidth in c:\\users\\home\\anaconda3\\lib\\site-packages (from prompt-toolkit!=3.0.0,!=3.0.1,<3.1.0,>=2.0.0->ipython->nbautoeval) (0.2.5)\n",
      "Requirement already satisfied: ipykernel>=4.5.1 in c:\\users\\home\\anaconda3\\lib\\site-packages (from ipywidgets->nbautoeval) (6.9.1)\n",
      "Requirement already satisfied: ipython-genutils~=0.2.0 in c:\\users\\home\\anaconda3\\lib\\site-packages (from ipywidgets->nbautoeval) (0.2.0)\n",
      "Requirement already satisfied: nbformat>=4.2.0 in c:\\users\\home\\anaconda3\\lib\\site-packages (from ipywidgets->nbautoeval) (5.3.0)\n",
      "Requirement already satisfied: jupyterlab-widgets>=1.0.0 in c:\\users\\home\\anaconda3\\lib\\site-packages (from ipywidgets->nbautoeval) (1.0.0)\n",
      "Requirement already satisfied: widgetsnbextension~=3.5.0 in c:\\users\\home\\anaconda3\\lib\\site-packages (from ipywidgets->nbautoeval) (3.5.2)\n",
      "Requirement already satisfied: tornado<7.0,>=4.2 in c:\\users\\home\\anaconda3\\lib\\site-packages (from ipykernel>=4.5.1->ipywidgets->nbautoeval) (6.1)\n",
      "Requirement already satisfied: nest-asyncio in c:\\users\\home\\anaconda3\\lib\\site-packages (from ipykernel>=4.5.1->ipywidgets->nbautoeval) (1.5.5)\n",
      "Requirement already satisfied: debugpy<2.0,>=1.0.0 in c:\\users\\home\\anaconda3\\lib\\site-packages (from ipykernel>=4.5.1->ipywidgets->nbautoeval) (1.5.1)\n",
      "Requirement already satisfied: jupyter-client<8.0 in c:\\users\\home\\anaconda3\\lib\\site-packages (from ipykernel>=4.5.1->ipywidgets->nbautoeval) (6.1.12)\n",
      "Requirement already satisfied: pyzmq>=13 in c:\\users\\home\\anaconda3\\lib\\site-packages (from jupyter-client<8.0->ipykernel>=4.5.1->ipywidgets->nbautoeval) (22.3.0)\n",
      "Requirement already satisfied: jupyter-core>=4.6.0 in c:\\users\\home\\anaconda3\\lib\\site-packages (from jupyter-client<8.0->ipykernel>=4.5.1->ipywidgets->nbautoeval) (4.9.2)\n",
      "Requirement already satisfied: python-dateutil>=2.1 in c:\\users\\home\\anaconda3\\lib\\site-packages (from jupyter-client<8.0->ipykernel>=4.5.1->ipywidgets->nbautoeval) (2.8.2)\n",
      "Requirement already satisfied: pywin32>=1.0 in c:\\users\\home\\anaconda3\\lib\\site-packages (from jupyter-core>=4.6.0->jupyter-client<8.0->ipykernel>=4.5.1->ipywidgets->nbautoeval) (302)\n",
      "Requirement already satisfied: fastjsonschema in c:\\users\\home\\anaconda3\\lib\\site-packages (from nbformat>=4.2.0->ipywidgets->nbautoeval) (2.15.1)\n",
      "Requirement already satisfied: jsonschema>=2.6 in c:\\users\\home\\anaconda3\\lib\\site-packages (from nbformat>=4.2.0->ipywidgets->nbautoeval) (4.4.0)\n",
      "Requirement already satisfied: attrs>=17.4.0 in c:\\users\\home\\anaconda3\\lib\\site-packages (from jsonschema>=2.6->nbformat>=4.2.0->ipywidgets->nbautoeval) (21.4.0)\n",
      "Requirement already satisfied: pyrsistent!=0.17.0,!=0.17.1,!=0.17.2,>=0.14.0 in c:\\users\\home\\anaconda3\\lib\\site-packages (from jsonschema>=2.6->nbformat>=4.2.0->ipywidgets->nbautoeval) (0.18.0)\n",
      "Requirement already satisfied: six>=1.5 in c:\\users\\home\\anaconda3\\lib\\site-packages (from python-dateutil>=2.1->jupyter-client<8.0->ipykernel>=4.5.1->ipywidgets->nbautoeval) (1.16.0)\n",
      "Requirement already satisfied: notebook>=4.4.1 in c:\\users\\home\\anaconda3\\lib\\site-packages (from widgetsnbextension~=3.5.0->ipywidgets->nbautoeval) (6.4.8)\n",
      "Requirement already satisfied: terminado>=0.8.3 in c:\\users\\home\\anaconda3\\lib\\site-packages (from notebook>=4.4.1->widgetsnbextension~=3.5.0->ipywidgets->nbautoeval) (0.13.1)\n",
      "Requirement already satisfied: prometheus-client in c:\\users\\home\\anaconda3\\lib\\site-packages (from notebook>=4.4.1->widgetsnbextension~=3.5.0->ipywidgets->nbautoeval) (0.13.1)\n",
      "Requirement already satisfied: Send2Trash>=1.8.0 in c:\\users\\home\\anaconda3\\lib\\site-packages (from notebook>=4.4.1->widgetsnbextension~=3.5.0->ipywidgets->nbautoeval) (1.8.0)\n",
      "Requirement already satisfied: argon2-cffi in c:\\users\\home\\anaconda3\\lib\\site-packages (from notebook>=4.4.1->widgetsnbextension~=3.5.0->ipywidgets->nbautoeval) (21.3.0)\n",
      "Requirement already satisfied: nbconvert in c:\\users\\home\\anaconda3\\lib\\site-packages (from notebook>=4.4.1->widgetsnbextension~=3.5.0->ipywidgets->nbautoeval) (6.4.4)\n",
      "Requirement already satisfied: jinja2 in c:\\users\\home\\anaconda3\\lib\\site-packages (from notebook>=4.4.1->widgetsnbextension~=3.5.0->ipywidgets->nbautoeval) (2.11.3)\n",
      "Requirement already satisfied: pywinpty>=1.1.0 in c:\\users\\home\\anaconda3\\lib\\site-packages (from terminado>=0.8.3->notebook>=4.4.1->widgetsnbextension~=3.5.0->ipywidgets->nbautoeval) (2.0.2)\n",
      "Requirement already satisfied: argon2-cffi-bindings in c:\\users\\home\\anaconda3\\lib\\site-packages (from argon2-cffi->notebook>=4.4.1->widgetsnbextension~=3.5.0->ipywidgets->nbautoeval) (21.2.0)\n",
      "Requirement already satisfied: cffi>=1.0.1 in c:\\users\\home\\anaconda3\\lib\\site-packages (from argon2-cffi-bindings->argon2-cffi->notebook>=4.4.1->widgetsnbextension~=3.5.0->ipywidgets->nbautoeval) (1.15.0)\n",
      "Requirement already satisfied: pycparser in c:\\users\\home\\anaconda3\\lib\\site-packages (from cffi>=1.0.1->argon2-cffi-bindings->argon2-cffi->notebook>=4.4.1->widgetsnbextension~=3.5.0->ipywidgets->nbautoeval) (2.21)\n",
      "Requirement already satisfied: MarkupSafe>=0.23 in c:\\users\\home\\anaconda3\\lib\\site-packages (from jinja2->notebook>=4.4.1->widgetsnbextension~=3.5.0->ipywidgets->nbautoeval) (2.0.1)\n",
      "Requirement already satisfied: mdit-py-plugins~=0.3.1 in c:\\users\\home\\anaconda3\\lib\\site-packages (from myst-parser->nbautoeval) (0.3.1)\n",
      "Requirement already satisfied: docutils<0.20,>=0.15 in c:\\users\\home\\anaconda3\\lib\\site-packages (from myst-parser->nbautoeval) (0.17.1)\n",
      "Requirement already satisfied: sphinx<6,>=4 in c:\\users\\home\\anaconda3\\lib\\site-packages (from myst-parser->nbautoeval) (4.4.0)\n",
      "Requirement already satisfied: markdown-it-py<3.0.0,>=1.0.0 in c:\\users\\home\\anaconda3\\lib\\site-packages (from myst-parser->nbautoeval) (2.1.0)\n",
      "Requirement already satisfied: typing-extensions in c:\\users\\home\\anaconda3\\lib\\site-packages (from myst-parser->nbautoeval) (4.1.1)\n",
      "Requirement already satisfied: mdurl~=0.1 in c:\\users\\home\\anaconda3\\lib\\site-packages (from markdown-it-py<3.0.0,>=1.0.0->myst-parser->nbautoeval) (0.1.2)\n",
      "Requirement already satisfied: requests>=2.5.0 in c:\\users\\home\\anaconda3\\lib\\site-packages (from sphinx<6,>=4->myst-parser->nbautoeval) (2.27.1)\n",
      "Requirement already satisfied: packaging in c:\\users\\home\\anaconda3\\lib\\site-packages (from sphinx<6,>=4->myst-parser->nbautoeval) (21.3)\n",
      "Requirement already satisfied: sphinxcontrib-devhelp in c:\\users\\home\\anaconda3\\lib\\site-packages (from sphinx<6,>=4->myst-parser->nbautoeval) (1.0.2)\n",
      "Requirement already satisfied: sphinxcontrib-htmlhelp>=2.0.0 in c:\\users\\home\\anaconda3\\lib\\site-packages (from sphinx<6,>=4->myst-parser->nbautoeval) (2.0.0)\n",
      "Requirement already satisfied: alabaster<0.8,>=0.7 in c:\\users\\home\\anaconda3\\lib\\site-packages (from sphinx<6,>=4->myst-parser->nbautoeval) (0.7.12)\n",
      "Requirement already satisfied: importlib-metadata>=4.4 in c:\\users\\home\\anaconda3\\lib\\site-packages (from sphinx<6,>=4->myst-parser->nbautoeval) (4.11.3)\n",
      "Requirement already satisfied: babel>=1.3 in c:\\users\\home\\anaconda3\\lib\\site-packages (from sphinx<6,>=4->myst-parser->nbautoeval) (2.9.1)\n",
      "Requirement already satisfied: imagesize in c:\\users\\home\\anaconda3\\lib\\site-packages (from sphinx<6,>=4->myst-parser->nbautoeval) (1.3.0)\n",
      "Requirement already satisfied: sphinxcontrib-qthelp in c:\\users\\home\\anaconda3\\lib\\site-packages (from sphinx<6,>=4->myst-parser->nbautoeval) (1.0.3)\n",
      "Requirement already satisfied: sphinxcontrib-jsmath in c:\\users\\home\\anaconda3\\lib\\site-packages (from sphinx<6,>=4->myst-parser->nbautoeval) (1.0.1)\n",
      "Requirement already satisfied: sphinxcontrib-applehelp in c:\\users\\home\\anaconda3\\lib\\site-packages (from sphinx<6,>=4->myst-parser->nbautoeval) (1.0.2)\n",
      "Requirement already satisfied: sphinxcontrib-serializinghtml>=1.1.5 in c:\\users\\home\\anaconda3\\lib\\site-packages (from sphinx<6,>=4->myst-parser->nbautoeval) (1.1.5)\n",
      "Requirement already satisfied: snowballstemmer>=1.1 in c:\\users\\home\\anaconda3\\lib\\site-packages (from sphinx<6,>=4->myst-parser->nbautoeval) (2.2.0)\n",
      "Requirement already satisfied: pytz>=2015.7 in c:\\users\\home\\anaconda3\\lib\\site-packages (from babel>=1.3->sphinx<6,>=4->myst-parser->nbautoeval) (2021.3)\n",
      "Requirement already satisfied: zipp>=0.5 in c:\\users\\home\\anaconda3\\lib\\site-packages (from importlib-metadata>=4.4->sphinx<6,>=4->myst-parser->nbautoeval) (3.7.0)\n",
      "Requirement already satisfied: certifi>=2017.4.17 in c:\\users\\home\\anaconda3\\lib\\site-packages (from requests>=2.5.0->sphinx<6,>=4->myst-parser->nbautoeval) (2021.10.8)\n",
      "Requirement already satisfied: idna<4,>=2.5 in c:\\users\\home\\anaconda3\\lib\\site-packages (from requests>=2.5.0->sphinx<6,>=4->myst-parser->nbautoeval) (3.3)\n",
      "Requirement already satisfied: urllib3<1.27,>=1.21.1 in c:\\users\\home\\anaconda3\\lib\\site-packages (from requests>=2.5.0->sphinx<6,>=4->myst-parser->nbautoeval) (1.26.9)\n",
      "Requirement already satisfied: charset-normalizer~=2.0.0 in c:\\users\\home\\anaconda3\\lib\\site-packages (from requests>=2.5.0->sphinx<6,>=4->myst-parser->nbautoeval) (2.0.4)\n",
      "Requirement already satisfied: defusedxml in c:\\users\\home\\anaconda3\\lib\\site-packages (from nbconvert->notebook>=4.4.1->widgetsnbextension~=3.5.0->ipywidgets->nbautoeval) (0.7.1)\n",
      "Requirement already satisfied: testpath in c:\\users\\home\\anaconda3\\lib\\site-packages (from nbconvert->notebook>=4.4.1->widgetsnbextension~=3.5.0->ipywidgets->nbautoeval) (0.5.0)\n",
      "Requirement already satisfied: pandocfilters>=1.4.1 in c:\\users\\home\\anaconda3\\lib\\site-packages (from nbconvert->notebook>=4.4.1->widgetsnbextension~=3.5.0->ipywidgets->nbautoeval) (1.5.0)\n",
      "Requirement already satisfied: nbclient<0.6.0,>=0.5.0 in c:\\users\\home\\anaconda3\\lib\\site-packages (from nbconvert->notebook>=4.4.1->widgetsnbextension~=3.5.0->ipywidgets->nbautoeval) (0.5.13)\n",
      "Requirement already satisfied: bleach in c:\\users\\home\\anaconda3\\lib\\site-packages (from nbconvert->notebook>=4.4.1->widgetsnbextension~=3.5.0->ipywidgets->nbautoeval) (4.1.0)\n",
      "Requirement already satisfied: beautifulsoup4 in c:\\users\\home\\anaconda3\\lib\\site-packages (from nbconvert->notebook>=4.4.1->widgetsnbextension~=3.5.0->ipywidgets->nbautoeval) (4.11.1)\n",
      "Requirement already satisfied: jupyterlab-pygments in c:\\users\\home\\anaconda3\\lib\\site-packages (from nbconvert->notebook>=4.4.1->widgetsnbextension~=3.5.0->ipywidgets->nbautoeval) (0.1.2)\n",
      "Requirement already satisfied: entrypoints>=0.2.2 in c:\\users\\home\\anaconda3\\lib\\site-packages (from nbconvert->notebook>=4.4.1->widgetsnbextension~=3.5.0->ipywidgets->nbautoeval) (0.4)\n",
      "Requirement already satisfied: mistune<2,>=0.8.1 in c:\\users\\home\\anaconda3\\lib\\site-packages (from nbconvert->notebook>=4.4.1->widgetsnbextension~=3.5.0->ipywidgets->nbautoeval) (0.8.4)\n",
      "Requirement already satisfied: soupsieve>1.2 in c:\\users\\home\\anaconda3\\lib\\site-packages (from beautifulsoup4->nbconvert->notebook>=4.4.1->widgetsnbextension~=3.5.0->ipywidgets->nbautoeval) (2.3.1)\n",
      "Requirement already satisfied: webencodings in c:\\users\\home\\anaconda3\\lib\\site-packages (from bleach->nbconvert->notebook>=4.4.1->widgetsnbextension~=3.5.0->ipywidgets->nbautoeval) (0.5.1)\n",
      "Requirement already satisfied: pyparsing!=3.0.5,>=2.0.2 in c:\\users\\home\\anaconda3\\lib\\site-packages (from packaging->sphinx<6,>=4->myst-parser->nbautoeval) (3.0.4)\n",
      "Requirement already satisfied: asttokens in c:\\users\\home\\anaconda3\\lib\\site-packages (from stack-data->ipython->nbautoeval) (2.0.5)\n",
      "Requirement already satisfied: pure-eval in c:\\users\\home\\anaconda3\\lib\\site-packages (from stack-data->ipython->nbautoeval) (0.2.2)\n",
      "Requirement already satisfied: executing in c:\\users\\home\\anaconda3\\lib\\site-packages (from stack-data->ipython->nbautoeval) (0.8.3)\n",
      "Note: you may need to restart the kernel to use updated packages.\n"
     ]
    }
   ],
   "source": [
    "!git clone https://github.com/Hotsnown/seminaire-bordeaux-2022.git seminaire &> /dev/null\n",
    "%pip install nbautoeval &> /dev/null\n",
    "from seminaire.evaluation.jour1.strings.string_methods import exo_upper, exo_lower, exo_stripped, exo_capitalize, exo_replace"
   ]
  },
  {
   "cell_type": "code",
   "execution_count": 2,
   "metadata": {},
   "outputs": [
    {
     "ename": "ModuleNotFoundError",
     "evalue": "No module named 'seminaire'",
     "output_type": "error",
     "traceback": [
      "\u001b[1;31m---------------------------------------------------------------------------\u001b[0m",
      "\u001b[1;31mModuleNotFoundError\u001b[0m                       Traceback (most recent call last)",
      "\u001b[1;32mc:\\Users\\Home\\Documents\\seminaire\\exercices\\jour1\\2. strings\\2.2 string_methods.ipynb Cellule 2\u001b[0m in \u001b[0;36m<cell line: 1>\u001b[1;34m()\u001b[0m\n\u001b[1;32m----> <a href='vscode-notebook-cell:/c%3A/Users/Home/Documents/seminaire/exercices/jour1/2.%20strings/2.2%20string_methods.ipynb#W5sZmlsZQ%3D%3D?line=0'>1</a>\u001b[0m \u001b[39mfrom\u001b[39;00m \u001b[39mseminaire\u001b[39;00m\u001b[39m.\u001b[39;00m\u001b[39mevaluation\u001b[39;00m\u001b[39m.\u001b[39;00m\u001b[39mjour1\u001b[39;00m\u001b[39m.\u001b[39;00m\u001b[39mstrings\u001b[39;00m\u001b[39m.\u001b[39;00m\u001b[39mstring_methods\u001b[39;00m \u001b[39mimport\u001b[39;00m exo_upper, exo_lower, exo_stripped, exo_capitalize, exo_replace\n\u001b[0;32m      <a href='vscode-notebook-cell:/c%3A/Users/Home/Documents/seminaire/exercices/jour1/2.%20strings/2.2%20string_methods.ipynb#W5sZmlsZQ%3D%3D?line=2'>3</a>\u001b[0m exo_upper\u001b[39m.\u001b[39mexample()\n",
      "\u001b[1;31mModuleNotFoundError\u001b[0m: No module named 'seminaire'"
     ]
    }
   ],
   "source": []
  },
  {
   "cell_type": "markdown",
   "metadata": {},
   "source": [
    "Python inclut un certain nombre d'opérations sur les strings.\n",
    "\n",
    "Un exemple de méthode disponible en Python est la méthode upper(). <br/> \n",
    "On l'utilise pour mettre en majuscule toutes les lettres d'un string. \n",
    "\n",
    "Par exemple, 'Pierre'.upper() nous donnera le string \"Pierre\"."
   ]
  },
  {
   "cell_type": "code",
   "execution_count": 2,
   "metadata": {},
   "outputs": [
    {
     "data": {
      "text/plain": [
       "'PIERRE'"
      ]
     },
     "execution_count": 2,
     "metadata": {},
     "output_type": "execute_result"
    }
   ],
   "source": [
    "\"Pierre\".upper()"
   ]
  },
  {
   "cell_type": "markdown",
   "metadata": {},
   "source": [
    "### La méthode upper()"
   ]
  },
  {
   "cell_type": "markdown",
   "metadata": {},
   "source": [
    "Sur le modèle de l'exemple précédent, remplacez #TODO par la méthode .upper() pour mettre la variable **string** en majuscule."
   ]
  },
  {
   "cell_type": "code",
   "execution_count": null,
   "metadata": {},
   "outputs": [],
   "source": [
    "exo_upper.example()"
   ]
  },
  {
   "cell_type": "code",
   "execution_count": 3,
   "metadata": {},
   "outputs": [
    {
     "data": {
      "application/vnd.jupyter.widget-view+json": {
       "model_id": "760b6442067546dea6159a6fa96525a4",
       "version_major": 2,
       "version_minor": 0
      },
      "text/plain": [
       "GridBox(children=(HTML(value='<span style=\"font-size:medium;\"\\'>appel</span>', _dom_classes=('header', '')), H…"
      ]
     },
     "metadata": {},
     "output_type": "display_data"
    }
   ],
   "source": [
    "def upper(string):\n",
    "  uppercase = string.#TODO\n",
    "\n",
    "  ## Ne rien changer après cette ligne\n",
    "  return uppercase\n",
    "\n",
    "exo_upper.correction(upper)"
   ]
  },
  {
   "cell_type": "markdown",
   "metadata": {},
   "source": [
    "### La méthode lower()"
   ]
  },
  {
   "cell_type": "code",
   "execution_count": null,
   "metadata": {},
   "outputs": [],
   "source": [
    "exo_lower.example()"
   ]
  },
  {
   "cell_type": "code",
   "execution_count": 4,
   "metadata": {},
   "outputs": [
    {
     "data": {
      "application/vnd.jupyter.widget-view+json": {
       "model_id": "a9047f14a10b42b79803970b7e28566f",
       "version_major": 2,
       "version_minor": 0
      },
      "text/plain": [
       "GridBox(children=(HTML(value='<span style=\"font-size:medium;\"\\'>appel</span>', _dom_classes=('header', '')), H…"
      ]
     },
     "metadata": {},
     "output_type": "display_data"
    }
   ],
   "source": [
    "def lower(string):\n",
    "  lowercase = string.#TODO\n",
    "\n",
    "  ## Ne rien changer après cette ligne\n",
    "  return lowercase\n",
    "\n",
    "exo_lower.correction(lower)"
   ]
  },
  {
   "cell_type": "markdown",
   "metadata": {},
   "source": [
    "### La méthode strip()"
   ]
  },
  {
   "cell_type": "code",
   "execution_count": null,
   "metadata": {},
   "outputs": [],
   "source": [
    "exo_stripped.example()"
   ]
  },
  {
   "cell_type": "code",
   "execution_count": 6,
   "metadata": {},
   "outputs": [
    {
     "data": {
      "application/vnd.jupyter.widget-view+json": {
       "model_id": "3b9effc6c3ed47299007cb0ccb760dbe",
       "version_major": 2,
       "version_minor": 0
      },
      "text/plain": [
       "GridBox(children=(HTML(value='<span style=\"font-size:medium;\"\\'>appel</span>', _dom_classes=('header', '')), H…"
      ]
     },
     "metadata": {},
     "output_type": "display_data"
    }
   ],
   "source": [
    "def strip(string):\n",
    "    stripped = string.#TODO\n",
    "\n",
    "  ## Ne rien changer après cette ligne\n",
    "    return stripped\n",
    "\n",
    "exo_stripped.correction(strip)"
   ]
  },
  {
   "cell_type": "markdown",
   "metadata": {},
   "source": [
    "### La méthode capitalize()"
   ]
  },
  {
   "cell_type": "code",
   "execution_count": null,
   "metadata": {},
   "outputs": [],
   "source": [
    "exo_capitalize.example()"
   ]
  },
  {
   "cell_type": "code",
   "execution_count": null,
   "metadata": {},
   "outputs": [],
   "source": [
    "def capitalize(string):\n",
    "    capitalized = string.#TODO\n",
    "\n",
    "    ## Ne rien changer après cette ligne\n",
    "    return capitalized\n",
    "\n",
    "exo_capitalize.correction(capitalize)"
   ]
  },
  {
   "cell_type": "markdown",
   "metadata": {},
   "source": [
    "### La méthode replace()"
   ]
  },
  {
   "cell_type": "markdown",
   "metadata": {},
   "source": [
    "La méthode replace() est un peu différente. Pour utiliser la méthode replace(), nous devons taper \"Hello World\".replace(\"World\", \"Universe\"). </br>\n",
    "Cette méthode permet de remplacer le string avant le point (c'est-à-dire \"Hello World\") par les mots fournis entre parenthèse. Ainsi, \"Hello World\" sera transformé en \"Hello Universe\"."
   ]
  },
  {
   "cell_type": "code",
   "execution_count": null,
   "metadata": {},
   "outputs": [],
   "source": [
    "old = \"Hello World\"\n",
    "new = \"Hello World\".replace(\"World\", \"Universe\")"
   ]
  },
  {
   "cell_type": "code",
   "execution_count": null,
   "metadata": {},
   "outputs": [],
   "source": [
    "old"
   ]
  },
  {
   "cell_type": "code",
   "execution_count": null,
   "metadata": {},
   "outputs": [],
   "source": [
    "new"
   ]
  },
  {
   "cell_type": "markdown",
   "metadata": {},
   "source": [
    "Dans l'exercice suivant, remplacez **string** avec ces valeurs :"
   ]
  },
  {
   "cell_type": "code",
   "execution_count": null,
   "metadata": {},
   "outputs": [],
   "source": [
    "exo_replace.example()"
   ]
  },
  {
   "cell_type": "code",
   "execution_count": null,
   "metadata": {},
   "outputs": [],
   "source": [
    "def replace(string):\n",
    "    replaced = string.#TODO\n",
    "\n",
    "    ## Ne rien changer après cette ligne\n",
    "    return replaced\n",
    "\n",
    "exo_replace.correction(replace)"
   ]
  },
  {
   "cell_type": "markdown",
   "metadata": {},
   "source": [
    "1. Jour 1\n",
    "    * Variables\n",
    "        * [exercice1](https://colab.research.google.com/github/Hotsnown/seminaire-bordeaux-2022/blob/master/exercices/jour1/1.%20variables/1.1%20helloworld.ipynb)\n",
    "        * [exercice2](https://colab.research.google.com/github/Hotsnown/seminaire-bordeaux-2022/blob/master/exercices/jour1/1.%20variables/1.2%20%C3%A9viter%20les%20errreurs%20de%20nommage.ipynb)\n",
    "        * [mini-projet](https://colab.research.google.com/github/Hotsnown/seminaire-bordeaux-2022/blob/master/exercices/jour1/1.%20variables/1.3%20mini-project.ipynb#scrollTo=RPB2xCMdA6lV)\n",
    "    * Strings\n",
    "        * [exercice1](https://colab.research.google.com/github/Hotsnown/seminaire-bordeaux-2022/blob/master/exercices/jour1/2.%20strings/2.1%20concat.ipynb)\n",
    "        * [exercice2](https://colab.research.google.com/github/Hotsnown/seminaire-bordeaux-2022/blob/master/exercices/jour1/2.%20strings/2.2%20string_methods.ipynb)\n",
    "        * [mini-projet](https://colab.research.google.com/github/Hotsnown/seminaire-bordeaux-2022/blob/master/exercices/jour1/2.%20strings/2.3%20mini-project.ipynb)\n",
    "    * Opérations\n",
    "        * [exercice1](https://colab.research.google.com/github/Hotsnown/seminaire-bordeaux-2022/blob/master/exercices/jour1/3.%20operations/3.1%20math.ipynb)\n",
    "        * [exercice2](https://colab.research.google.com/github/Hotsnown/seminaire-bordeaux-2022/blob/master/exercices/jour1/3.%20operations/3.2%20bool%C3%A9en.ipynb)\n",
    "        * [mini-projet](https://colab.research.google.com/github/Hotsnown/seminaire-bordeaux-2022/blob/master/exercices/jour1/3.%20operations/3.3%20mini-project.ipynb)"
   ]
  }
 ],
 "metadata": {
  "kernelspec": {
   "display_name": "Python 3.9.12 ('base')",
   "language": "python",
   "name": "python3"
  },
  "language_info": {
   "codemirror_mode": {
    "name": "ipython",
    "version": 3
   },
   "file_extension": ".py",
   "mimetype": "text/x-python",
   "name": "python",
   "nbconvert_exporter": "python",
   "pygments_lexer": "ipython3",
   "version": "3.9.12"
  },
  "orig_nbformat": 4,
  "vscode": {
   "interpreter": {
    "hash": "950b5653ccfc34417735dd321d006fd482b31f7611416c3d8236dc5b17587d3f"
   }
  }
 },
 "nbformat": 4,
 "nbformat_minor": 2
}
