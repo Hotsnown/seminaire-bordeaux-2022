{
 "cells": [
  {
   "cell_type": "code",
   "execution_count": 7,
   "metadata": {},
   "outputs": [
    {
     "name": "stdout",
     "output_type": "stream",
     "text": [
      "Requirement already satisfied: nbautoeval in c:\\users\\home\\appdata\\local\\packages\\pythonsoftwarefoundation.python.3.10_qbz5n2kfra8p0\\localcache\\local-packages\\python310\\site-packages (1.7.0)\n",
      "Requirement already satisfied: ipython in c:\\users\\home\\appdata\\local\\packages\\pythonsoftwarefoundation.python.3.10_qbz5n2kfra8p0\\localcache\\local-packages\\python310\\site-packages (from nbautoeval) (8.5.0)\n",
      "Requirement already satisfied: ipywidgets in c:\\users\\home\\appdata\\local\\packages\\pythonsoftwarefoundation.python.3.10_qbz5n2kfra8p0\\localcache\\local-packages\\python310\\site-packages (from nbautoeval) (8.0.2)\n",
      "Requirement already satisfied: PyYAML in c:\\users\\home\\appdata\\local\\packages\\pythonsoftwarefoundation.python.3.10_qbz5n2kfra8p0\\localcache\\local-packages\\python310\\site-packages (from nbautoeval) (6.0)\n",
      "Requirement already satisfied: numpy in c:\\users\\home\\appdata\\local\\packages\\pythonsoftwarefoundation.python.3.10_qbz5n2kfra8p0\\localcache\\local-packages\\python310\\site-packages (from nbautoeval) (1.23.3)\n",
      "Requirement already satisfied: myst-parser in c:\\users\\home\\appdata\\local\\packages\\pythonsoftwarefoundation.python.3.10_qbz5n2kfra8p0\\localcache\\local-packages\\python310\\site-packages (from nbautoeval) (0.18.1)\n",
      "Requirement already satisfied: pygments>=2.4.0 in c:\\users\\home\\appdata\\local\\packages\\pythonsoftwarefoundation.python.3.10_qbz5n2kfra8p0\\localcache\\local-packages\\python310\\site-packages (from ipython->nbautoeval) (2.13.0)\n",
      "Requirement already satisfied: jedi>=0.16 in c:\\users\\home\\appdata\\local\\packages\\pythonsoftwarefoundation.python.3.10_qbz5n2kfra8p0\\localcache\\local-packages\\python310\\site-packages (from ipython->nbautoeval) (0.18.1)\n",
      "Requirement already satisfied: backcall in c:\\users\\home\\appdata\\local\\packages\\pythonsoftwarefoundation.python.3.10_qbz5n2kfra8p0\\localcache\\local-packages\\python310\\site-packages (from ipython->nbautoeval) (0.2.0)\n",
      "Requirement already satisfied: traitlets>=5 in c:\\users\\home\\appdata\\local\\packages\\pythonsoftwarefoundation.python.3.10_qbz5n2kfra8p0\\localcache\\local-packages\\python310\\site-packages (from ipython->nbautoeval) (5.4.0)\n",
      "Requirement already satisfied: matplotlib-inline in c:\\users\\home\\appdata\\local\\packages\\pythonsoftwarefoundation.python.3.10_qbz5n2kfra8p0\\localcache\\local-packages\\python310\\site-packages (from ipython->nbautoeval) (0.1.6)\n",
      "Requirement already satisfied: prompt-toolkit<3.1.0,>3.0.1 in c:\\users\\home\\appdata\\local\\packages\\pythonsoftwarefoundation.python.3.10_qbz5n2kfra8p0\\localcache\\local-packages\\python310\\site-packages (from ipython->nbautoeval) (3.0.31)\n",
      "Requirement already satisfied: colorama in c:\\users\\home\\appdata\\local\\packages\\pythonsoftwarefoundation.python.3.10_qbz5n2kfra8p0\\localcache\\local-packages\\python310\\site-packages (from ipython->nbautoeval) (0.4.5)\n",
      "Requirement already satisfied: decorator in c:\\users\\home\\appdata\\local\\packages\\pythonsoftwarefoundation.python.3.10_qbz5n2kfra8p0\\localcache\\local-packages\\python310\\site-packages (from ipython->nbautoeval) (5.1.1)\n",
      "Requirement already satisfied: pickleshare in c:\\users\\home\\appdata\\local\\packages\\pythonsoftwarefoundation.python.3.10_qbz5n2kfra8p0\\localcache\\local-packages\\python310\\site-packages (from ipython->nbautoeval) (0.7.5)\n",
      "Requirement already satisfied: stack-data in c:\\users\\home\\appdata\\local\\packages\\pythonsoftwarefoundation.python.3.10_qbz5n2kfra8p0\\localcache\\local-packages\\python310\\site-packages (from ipython->nbautoeval) (0.5.0)\n",
      "Requirement already satisfied: jupyterlab-widgets~=3.0 in c:\\users\\home\\appdata\\local\\packages\\pythonsoftwarefoundation.python.3.10_qbz5n2kfra8p0\\localcache\\local-packages\\python310\\site-packages (from ipywidgets->nbautoeval) (3.0.3)\n",
      "Requirement already satisfied: widgetsnbextension~=4.0 in c:\\users\\home\\appdata\\local\\packages\\pythonsoftwarefoundation.python.3.10_qbz5n2kfra8p0\\localcache\\local-packages\\python310\\site-packages (from ipywidgets->nbautoeval) (4.0.3)\n",
      "Requirement already satisfied: ipykernel>=4.5.1 in c:\\users\\home\\appdata\\local\\packages\\pythonsoftwarefoundation.python.3.10_qbz5n2kfra8p0\\localcache\\local-packages\\python310\\site-packages (from ipywidgets->nbautoeval) (6.15.3)\n",
      "Requirement already satisfied: sphinx<6,>=4 in c:\\users\\home\\appdata\\local\\packages\\pythonsoftwarefoundation.python.3.10_qbz5n2kfra8p0\\localcache\\local-packages\\python310\\site-packages (from myst-parser->nbautoeval) (5.2.3)\n",
      "Requirement already satisfied: jinja2 in c:\\users\\home\\appdata\\local\\packages\\pythonsoftwarefoundation.python.3.10_qbz5n2kfra8p0\\localcache\\local-packages\\python310\\site-packages (from myst-parser->nbautoeval) (3.1.2)\n",
      "Requirement already satisfied: markdown-it-py<3.0.0,>=1.0.0 in c:\\users\\home\\appdata\\local\\packages\\pythonsoftwarefoundation.python.3.10_qbz5n2kfra8p0\\localcache\\local-packages\\python310\\site-packages (from myst-parser->nbautoeval) (2.1.0)\n",
      "Requirement already satisfied: typing-extensions in c:\\users\\home\\appdata\\local\\packages\\pythonsoftwarefoundation.python.3.10_qbz5n2kfra8p0\\localcache\\local-packages\\python310\\site-packages (from myst-parser->nbautoeval) (4.3.0)\n",
      "Requirement already satisfied: docutils<0.20,>=0.15 in c:\\users\\home\\appdata\\local\\packages\\pythonsoftwarefoundation.python.3.10_qbz5n2kfra8p0\\localcache\\local-packages\\python310\\site-packages (from myst-parser->nbautoeval) (0.19)\n",
      "Requirement already satisfied: mdit-py-plugins~=0.3.1 in c:\\users\\home\\appdata\\local\\packages\\pythonsoftwarefoundation.python.3.10_qbz5n2kfra8p0\\localcache\\local-packages\\python310\\site-packages (from myst-parser->nbautoeval) (0.3.1)\n",
      "Requirement already satisfied: pyzmq>=17 in c:\\users\\home\\appdata\\local\\packages\\pythonsoftwarefoundation.python.3.10_qbz5n2kfra8p0\\localcache\\local-packages\\python310\\site-packages (from ipykernel>=4.5.1->ipywidgets->nbautoeval) (24.0.1)\n",
      "Requirement already satisfied: packaging in c:\\users\\home\\appdata\\local\\packages\\pythonsoftwarefoundation.python.3.10_qbz5n2kfra8p0\\localcache\\local-packages\\python310\\site-packages (from ipykernel>=4.5.1->ipywidgets->nbautoeval) (21.3)\n",
      "Requirement already satisfied: nest-asyncio in c:\\users\\home\\appdata\\local\\packages\\pythonsoftwarefoundation.python.3.10_qbz5n2kfra8p0\\localcache\\local-packages\\python310\\site-packages (from ipykernel>=4.5.1->ipywidgets->nbautoeval) (1.5.5)\n",
      "Requirement already satisfied: debugpy>=1.0 in c:\\users\\home\\appdata\\local\\packages\\pythonsoftwarefoundation.python.3.10_qbz5n2kfra8p0\\localcache\\local-packages\\python310\\site-packages (from ipykernel>=4.5.1->ipywidgets->nbautoeval) (1.6.3)\n",
      "Requirement already satisfied: psutil in c:\\users\\home\\appdata\\local\\packages\\pythonsoftwarefoundation.python.3.10_qbz5n2kfra8p0\\localcache\\local-packages\\python310\\site-packages (from ipykernel>=4.5.1->ipywidgets->nbautoeval) (5.9.2)\n",
      "Requirement already satisfied: jupyter-client>=6.1.12 in c:\\users\\home\\appdata\\local\\packages\\pythonsoftwarefoundation.python.3.10_qbz5n2kfra8p0\\localcache\\local-packages\\python310\\site-packages (from ipykernel>=4.5.1->ipywidgets->nbautoeval) (7.3.5)\n",
      "Requirement already satisfied: tornado>=6.1 in c:\\users\\home\\appdata\\local\\packages\\pythonsoftwarefoundation.python.3.10_qbz5n2kfra8p0\\localcache\\local-packages\\python310\\site-packages (from ipykernel>=4.5.1->ipywidgets->nbautoeval) (6.2)\n",
      "Requirement already satisfied: parso<0.9.0,>=0.8.0 in c:\\users\\home\\appdata\\local\\packages\\pythonsoftwarefoundation.python.3.10_qbz5n2kfra8p0\\localcache\\local-packages\\python310\\site-packages (from jedi>=0.16->ipython->nbautoeval) (0.8.3)\n",
      "Requirement already satisfied: mdurl~=0.1 in c:\\users\\home\\appdata\\local\\packages\\pythonsoftwarefoundation.python.3.10_qbz5n2kfra8p0\\localcache\\local-packages\\python310\\site-packages (from markdown-it-py<3.0.0,>=1.0.0->myst-parser->nbautoeval) (0.1.2)\n",
      "Requirement already satisfied: wcwidth in c:\\users\\home\\appdata\\local\\packages\\pythonsoftwarefoundation.python.3.10_qbz5n2kfra8p0\\localcache\\local-packages\\python310\\site-packages (from prompt-toolkit<3.1.0,>3.0.1->ipython->nbautoeval) (0.2.5)\n",
      "Requirement already satisfied: sphinxcontrib-jsmath in c:\\users\\home\\appdata\\local\\packages\\pythonsoftwarefoundation.python.3.10_qbz5n2kfra8p0\\localcache\\local-packages\\python310\\site-packages (from sphinx<6,>=4->myst-parser->nbautoeval) (1.0.1)\n",
      "Requirement already satisfied: snowballstemmer>=2.0 in c:\\users\\home\\appdata\\local\\packages\\pythonsoftwarefoundation.python.3.10_qbz5n2kfra8p0\\localcache\\local-packages\\python310\\site-packages (from sphinx<6,>=4->myst-parser->nbautoeval) (2.2.0)\n",
      "Requirement already satisfied: alabaster<0.8,>=0.7 in c:\\users\\home\\appdata\\local\\packages\\pythonsoftwarefoundation.python.3.10_qbz5n2kfra8p0\\localcache\\local-packages\\python310\\site-packages (from sphinx<6,>=4->myst-parser->nbautoeval) (0.7.12)\n",
      "Requirement already satisfied: requests>=2.5.0 in c:\\users\\home\\appdata\\local\\packages\\pythonsoftwarefoundation.python.3.10_qbz5n2kfra8p0\\localcache\\local-packages\\python310\\site-packages (from sphinx<6,>=4->myst-parser->nbautoeval) (2.28.1)\n",
      "Requirement already satisfied: sphinxcontrib-qthelp in c:\\users\\home\\appdata\\local\\packages\\pythonsoftwarefoundation.python.3.10_qbz5n2kfra8p0\\localcache\\local-packages\\python310\\site-packages (from sphinx<6,>=4->myst-parser->nbautoeval) (1.0.3)\n",
      "Requirement already satisfied: babel>=2.9 in c:\\users\\home\\appdata\\local\\packages\\pythonsoftwarefoundation.python.3.10_qbz5n2kfra8p0\\localcache\\local-packages\\python310\\site-packages (from sphinx<6,>=4->myst-parser->nbautoeval) (2.10.3)\n",
      "Requirement already satisfied: sphinxcontrib-serializinghtml>=1.1.5 in c:\\users\\home\\appdata\\local\\packages\\pythonsoftwarefoundation.python.3.10_qbz5n2kfra8p0\\localcache\\local-packages\\python310\\site-packages (from sphinx<6,>=4->myst-parser->nbautoeval) (1.1.5)\n",
      "Requirement already satisfied: imagesize>=1.3 in c:\\users\\home\\appdata\\local\\packages\\pythonsoftwarefoundation.python.3.10_qbz5n2kfra8p0\\localcache\\local-packages\\python310\\site-packages (from sphinx<6,>=4->myst-parser->nbautoeval) (1.4.1)\n",
      "Requirement already satisfied: sphinxcontrib-applehelp in c:\\users\\home\\appdata\\local\\packages\\pythonsoftwarefoundation.python.3.10_qbz5n2kfra8p0\\localcache\\local-packages\\python310\\site-packages (from sphinx<6,>=4->myst-parser->nbautoeval) (1.0.2)\n",
      "Requirement already satisfied: sphinxcontrib-htmlhelp>=2.0.0 in c:\\users\\home\\appdata\\local\\packages\\pythonsoftwarefoundation.python.3.10_qbz5n2kfra8p0\\localcache\\local-packages\\python310\\site-packages (from sphinx<6,>=4->myst-parser->nbautoeval) (2.0.0)\n",
      "Requirement already satisfied: sphinxcontrib-devhelp in c:\\users\\home\\appdata\\local\\packages\\pythonsoftwarefoundation.python.3.10_qbz5n2kfra8p0\\localcache\\local-packages\\python310\\site-packages (from sphinx<6,>=4->myst-parser->nbautoeval) (1.0.2)\n",
      "Requirement already satisfied: MarkupSafe>=2.0 in c:\\users\\home\\appdata\\local\\packages\\pythonsoftwarefoundation.python.3.10_qbz5n2kfra8p0\\localcache\\local-packages\\python310\\site-packages (from jinja2->myst-parser->nbautoeval) (2.1.1)\n",
      "Requirement already satisfied: asttokens in c:\\users\\home\\appdata\\local\\packages\\pythonsoftwarefoundation.python.3.10_qbz5n2kfra8p0\\localcache\\local-packages\\python310\\site-packages (from stack-data->ipython->nbautoeval) (2.0.8)\n",
      "Requirement already satisfied: pure-eval in c:\\users\\home\\appdata\\local\\packages\\pythonsoftwarefoundation.python.3.10_qbz5n2kfra8p0\\localcache\\local-packages\\python310\\site-packages (from stack-data->ipython->nbautoeval) (0.2.2)\n",
      "Requirement already satisfied: executing in c:\\users\\home\\appdata\\local\\packages\\pythonsoftwarefoundation.python.3.10_qbz5n2kfra8p0\\localcache\\local-packages\\python310\\site-packages (from stack-data->ipython->nbautoeval) (1.0.0)\n",
      "Requirement already satisfied: pytz>=2015.7 in c:\\users\\home\\appdata\\local\\packages\\pythonsoftwarefoundation.python.3.10_qbz5n2kfra8p0\\localcache\\local-packages\\python310\\site-packages (from babel>=2.9->sphinx<6,>=4->myst-parser->nbautoeval) (2022.2.1)\n",
      "Requirement already satisfied: python-dateutil>=2.8.2 in c:\\users\\home\\appdata\\local\\packages\\pythonsoftwarefoundation.python.3.10_qbz5n2kfra8p0\\localcache\\local-packages\\python310\\site-packages (from jupyter-client>=6.1.12->ipykernel>=4.5.1->ipywidgets->nbautoeval) (2.8.2)\n",
      "Requirement already satisfied: jupyter-core>=4.9.2 in c:\\users\\home\\appdata\\local\\packages\\pythonsoftwarefoundation.python.3.10_qbz5n2kfra8p0\\localcache\\local-packages\\python310\\site-packages (from jupyter-client>=6.1.12->ipykernel>=4.5.1->ipywidgets->nbautoeval) (4.11.1)\n",
      "Requirement already satisfied: entrypoints in c:\\users\\home\\appdata\\local\\packages\\pythonsoftwarefoundation.python.3.10_qbz5n2kfra8p0\\localcache\\local-packages\\python310\\site-packages (from jupyter-client>=6.1.12->ipykernel>=4.5.1->ipywidgets->nbautoeval) (0.4)\n",
      "Requirement already satisfied: pyparsing!=3.0.5,>=2.0.2 in c:\\users\\home\\appdata\\local\\packages\\pythonsoftwarefoundation.python.3.10_qbz5n2kfra8p0\\localcache\\local-packages\\python310\\site-packages (from packaging->ipykernel>=4.5.1->ipywidgets->nbautoeval) (3.0.9)\n",
      "Requirement already satisfied: urllib3<1.27,>=1.21.1 in c:\\users\\home\\appdata\\local\\packages\\pythonsoftwarefoundation.python.3.10_qbz5n2kfra8p0\\localcache\\local-packages\\python310\\site-packages (from requests>=2.5.0->sphinx<6,>=4->myst-parser->nbautoeval) (1.26.12)\n",
      "Requirement already satisfied: certifi>=2017.4.17 in c:\\users\\home\\appdata\\local\\packages\\pythonsoftwarefoundation.python.3.10_qbz5n2kfra8p0\\localcache\\local-packages\\python310\\site-packages (from requests>=2.5.0->sphinx<6,>=4->myst-parser->nbautoeval) (2022.9.24)\n",
      "Requirement already satisfied: charset-normalizer<3,>=2 in c:\\users\\home\\appdata\\local\\packages\\pythonsoftwarefoundation.python.3.10_qbz5n2kfra8p0\\localcache\\local-packages\\python310\\site-packages (from requests>=2.5.0->sphinx<6,>=4->myst-parser->nbautoeval) (2.1.1)\n",
      "Requirement already satisfied: idna<4,>=2.5 in c:\\users\\home\\appdata\\local\\packages\\pythonsoftwarefoundation.python.3.10_qbz5n2kfra8p0\\localcache\\local-packages\\python310\\site-packages (from requests>=2.5.0->sphinx<6,>=4->myst-parser->nbautoeval) (3.4)\n",
      "Requirement already satisfied: six in c:\\users\\home\\appdata\\local\\packages\\pythonsoftwarefoundation.python.3.10_qbz5n2kfra8p0\\localcache\\local-packages\\python310\\site-packages (from asttokens->stack-data->ipython->nbautoeval) (1.16.0)\n",
      "Requirement already satisfied: pywin32>=1.0 in c:\\users\\home\\appdata\\local\\packages\\pythonsoftwarefoundation.python.3.10_qbz5n2kfra8p0\\localcache\\local-packages\\python310\\site-packages (from jupyter-core>=4.9.2->jupyter-client>=6.1.12->ipykernel>=4.5.1->ipywidgets->nbautoeval) (304)\n",
      "Note: you may need to restart the kernel to use updated packages.\n"
     ]
    },
    {
     "name": "stderr",
     "output_type": "stream",
     "text": [
      "Cloning into 'seminaire'...\n"
     ]
    }
   ],
   "source": [
    "!git clone https://github.com/Hotsnown/seminaire-bordeaux-2022.git seminaire &> /dev/null\n",
    "%pip install nbautoeval &> /dev/null"
   ]
  },
  {
   "cell_type": "code",
   "execution_count": 10,
   "metadata": {},
   "outputs": [],
   "source": [
    "from seminaire.evaluation.jour1.strings.project import exo_identifiant"
   ]
  },
  {
   "cell_type": "markdown",
   "metadata": {},
   "source": [
    "### MINI-PROJET : \n",
    "\n",
    "Vous avez une liste de parties pour lesquels on vous demande de créer une liste de nom de décisions.\n",
    "Une décision ressemble à ceci:"
   ]
  },
  {
   "cell_type": "code",
   "execution_count": null,
   "metadata": {},
   "outputs": [],
   "source": [
    "exo_identifiant.example()"
   ]
  },
  {
   "cell_type": "markdown",
   "metadata": {},
   "source": [
    "Automatisez la création du nom des décisions."
   ]
  },
  {
   "cell_type": "code",
   "execution_count": 11,
   "metadata": {},
   "outputs": [
    {
     "data": {
      "application/vnd.jupyter.widget-view+json": {
       "model_id": "454c58264eb74217881d9dae10f11b85",
       "version_major": 2,
       "version_minor": 0
      },
      "text/plain": [
       "GridBox(children=(HTML(value='<span style=\"font-size:medium;\"\\'>appel</span>', _dom_classes=('header', '')), H…"
      ]
     },
     "execution_count": 11,
     "metadata": {},
     "output_type": "execute_result"
    }
   ],
   "source": [
    "def nom_décision(demandeur, défenseur):\n",
    "  # utilisez concat et les methodes que vous avez apprises\n",
    "  \n",
    "  \n",
    "  # Don't change below this line\n",
    "  return \"\"\n",
    "\n",
    "exo_identifiant.correction(nom_décision)"
   ]
  },
  {
   "cell_type": "markdown",
   "metadata": {},
   "source": [
    "1. Jour 1\n",
    "    * Variables\n",
    "        * [exercice1](https://colab.research.google.com/github/Hotsnown/seminaire-bordeaux-2022/blob/main/exercices/jour1/1.%20variables/1.1%20helloworld.ipynb)\n",
    "        * [exercice2](https://colab.research.google.com/github/Hotsnown/seminaire-bordeaux-2022/blob/main/exercices/jour1/1.%20variables/1.2%20%C3%A9viter%20les%20errreurs%20de%20nommage.ipynb)\n",
    "        * [mini-projet](https://colab.research.google.com/github/Hotsnown/seminaire-bordeaux-2022/blob/main/exercices/jour1/1.%20variables/1.3%20mini-project.ipynb#scrollTo=RPB2xCMdA6lV)\n",
    "    * Strings\n",
    "        * [exercice1](https://colab.research.google.com/github/Hotsnown/seminaire-bordeaux-2022/blob/main/exercices/jour1/2.%20strings/2.1%20concat.ipynb)\n",
    "        * [exercice2](https://colab.research.google.com/github/Hotsnown/seminaire-bordeaux-2022/blob/main/exercices/jour1/2.%20strings/2.2%20string_methods.ipynb)\n",
    "        * [mini-projet](https://colab.research.google.com/github/Hotsnown/seminaire-bordeaux-2022/blob/main/exercices/jour1/2.%20strings/2.3%20mini-project.ipynb)\n",
    "    * Opérations\n",
    "        * [exercice1](https://colab.research.google.com/github/Hotsnown/seminaire-bordeaux-2022/blob/main/exercices/jour1/3.%20operations/3.1%20math.ipynb)\n",
    "        * [exercice2](https://colab.research.google.com/github/Hotsnown/seminaire-bordeaux-2022/blob/main/exercices/jour1/3.%20operations/3.2%20bool%C3%A9en.ipynb)\n",
    "        * [mini-projet](https://colab.research.google.com/github/Hotsnown/seminaire-bordeaux-2022/blob/main/exercices/jour1/3.%20operations/3.3%20mini-project.ipynb)"
   ]
  }
 ],
 "metadata": {
  "kernelspec": {
   "display_name": "Python 3 (ipykernel)",
   "language": "python",
   "name": "python3"
  },
  "language_info": {
   "codemirror_mode": {
    "name": "ipython",
    "version": 3
   },
   "file_extension": ".py",
   "mimetype": "text/x-python",
   "name": "python",
   "nbconvert_exporter": "python",
   "pygments_lexer": "ipython3",
   "version": "3.10.7"
  },
  "vscode": {
   "interpreter": {
    "hash": "ab330c63be1774c7d4efd28485dada9f7c6eb3392ec4de9472ccb4da1daed7d7"
   }
  }
 },
 "nbformat": 4,
 "nbformat_minor": 2
}
