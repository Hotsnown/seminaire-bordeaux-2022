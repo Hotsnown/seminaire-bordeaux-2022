{
  "cells": [
    {
      "cell_type": "markdown",
      "metadata": {
        "id": "CJ-1ECklibVu"
      },
      "source": [
        "## Etape 1: Téléchargement du dataset"
      ]
    },
    {
      "cell_type": "code",
      "execution_count": 7,
      "metadata": {
        "colab": {
          "base_uri": "https://localhost:8080/"
        },
        "id": "1aef2MHrid5F",
        "outputId": "a9726682-f314-420a-ea8b-aa936852906b"
      },
      "outputs": [
        {
          "name": "stdout",
          "output_type": "stream",
          "text": [
            "fatal: destination path 'outcome-prediction' already exists and is not an empty directory.\n"
          ]
        }
      ],
      "source": [
        "import os\n",
        "import json\n",
        "\n",
        "import os, json\n",
        "import pandas as pd\n",
        "\n",
        "!git clone https://github.com/chinmusique/outcome-prediction.git\n",
        "\n",
        "path_to_json = '/content/outcome-prediction/data/manual_annotation/'\n",
        "json_files = [pos_json for pos_json in os.listdir(path_to_json) if pos_json.endswith('.json')]\n",
        "\n",
        "df = pd.DataFrame(columns=['content', 'role'])\n",
        "\n",
        "for index, js in enumerate(json_files):\n",
        "    with open(os.path.join(path_to_json, js)) as json_file:\n",
        "        json_text = json.load(json_file)\n",
        "        if json_text['annotations'][0].get('content'):\n",
        "          content = json_text['content']\n",
        "          role = json_text['annotations'][-1]['role']\n",
        "          df.loc[index] = [content, role]\n",
        "\n",
        "from sklearn.model_selection import train_test_split\n",
        "\n",
        "df, test = train_test_split(df, test_size=0.2)\n"
      ]
    },
    {
      "cell_type": "code",
      "execution_count": 9,
      "metadata": {
        "colab": {
          "base_uri": "https://localhost:8080/"
        },
        "id": "8xfIECMmj3ic",
        "outputId": "f87eeb18-9595-441c-c297-93ff98d175ed"
      },
      "outputs": [
        {
          "data": {
            "text/plain": [
              "399"
            ]
          },
          "execution_count": 9,
          "metadata": {},
          "output_type": "execute_result"
        }
      ],
      "source": [
        "df.head()"
      ]
    },
    {
      "cell_type": "markdown",
      "metadata": {
        "id": "x3hbBdYWlFgZ"
      },
      "source": [
        "## Etape 2: Exploration du dataset"
      ]
    },
    {
      "cell_type": "markdown",
      "metadata": {
        "id": "1NSQgnfEm_y0"
      },
      "source": [
        "Lisez au moins les deux premières décisions de df[\"content\"], puis répondez aux questions suivantes:"
      ]
    },
    {
      "cell_type": "markdown",
      "metadata": {
        "id": "NmsD4Di6nJw-"
      },
      "source": [
        "- Combien y a t'il de d'échantillons dans df ?"
      ]
    },
    {
      "cell_type": "markdown",
      "metadata": {
        "id": "VaGAfoeNnSUQ"
      },
      "source": [
        "- Existe-t'il d'autres rôles que \"Accept\" et \"Reverse\" ?"
      ]
    },
    {
      "cell_type": "code",
      "execution_count": null,
      "metadata": {},
      "outputs": [],
      "source": []
    },
    {
      "cell_type": "markdown",
      "metadata": {
        "id": "wOc0f-XHnKhH"
      },
      "source": [
        "- Combien y a t'il de décisions \"Reverse\" par rapport au nombre total de décisions ?"
      ]
    },
    {
      "cell_type": "markdown",
      "metadata": {
        "id": "J3RzYQvynYqT"
      },
      "source": [
        "- Quels sont les 10 termes les plus fréquents dans les décisions ? Sont-ils pertinents pour déterminer la solution d'une décision ?"
      ]
    },
    {
      "cell_type": "markdown",
      "metadata": {
        "id": "RX4PURgmibV_"
      },
      "source": [
        "## Etape 3 : Extraction des Features\n",
        "\n",
        "1. Créez **X**, où **X** est une featurization de df[\"content\"]\n",
        "    - Le minimum pour la featurization est d'utiliser CountVectorizer()\n",
        "    - Si vous avez le temps, vous pouvez essayer d'utiliser une tokenization avancée et nettoyer le texte.\n",
        "\n",
        "2. Créez **y**, où **y** est une featurization de df[\"role\"]:\n",
        "    - Mappez \"Affirm\" ou \"Reject\" vers 0 et 1."
      ]
    },
    {
      "cell_type": "markdown",
      "metadata": {
        "id": "3--UCI7JibWH"
      },
      "source": [
        "## Etape 4 : Modélisation\n",
        "\n",
        "1. Instanciez un Estimateur de sklearn (par exemple, LogisticRegression())\n",
        "\n",
        "2. Utilisez X et y, définis à l'étape 3, pour entraîner le modèle."
      ]
    },
    {
      "cell_type": "markdown",
      "metadata": {
        "id": "i8VDS2Q_ibWJ"
      },
      "source": [
        "## Etape 5 : Prédiction\n",
        "\n",
        "Lisez la décision suivante. A votre avis, quelle est la solution retenu par les juges ?\n",
        "\n",
        "Après l'avoir lu, vectorizer la décision grâce aux techniques de l'étape 3, puis utilisez la méthode .predict() sur votre modèle entraîné à l'étape 4 pour prédire la solution."
      ]
    },
    {
      "cell_type": "code",
      "execution_count": 11,
      "metadata": {
        "id": "VVrvfjkgnzs8"
      },
      "outputs": [],
      "source": [
        "decision_affirm_test = \"\"\"\n",
        "OPINIONBUSTAMANTE, Judge.1. This case affords us the opportunity to clarify the scope of the district court's authority to impose sanctions for discovery violations in the context of Rule 5-505(B), NMRA 1997. The State of New Mexico (State) appeals from an order striking a key prosecution witness for failure to include his name on pretrial witness lists. It argues that the district court abused its discretion in striking the witness because it did not first consider less severe sanctions and because the Defendant failed to make a particularized showing of prejudice. We affirm.FACTS AND PROCEDURAL HISTORY2. Mario Fernando Martinez (Defendant), Arturo Pereyra (Pereyra), and Sergio Heraldo Arevalo (Arevalo) were arrested for allegedly smuggling sixty-eight pounds of marijuana. According to the testimony before the grand jury, the marijuana was found in an automobile parked at a Las Cruces motel. Pereyra was arrested when he came out of the motel, went to the automobile, and got in. Police officers had seen Defendant and Arevalo drive off in another vehicle a half hour earlier and look at the automobile. There was also evidence that Defendant and Arevalo had been staying at the same motel as Pereyra. Arevalo told police officers that the three had been traveling together and that Defendant and Arevalo were helping guide Pereyra, an illegal alien, through border checkpoints. Arevalo also told the officers that he suspected that there was marijuana in Pereyra's car.3. The three were initially scheduled to be tried together before Judge James Martin due to Judge Graden W. Beal's excusal in the joined case. Defendant then excused Judge Martin and his case was severed and reassigned back to Judge Beal.4. Sometime in June 1996, Pereyra entered into a plea agreement which required him to testify for the prosecution in Defendant's case. On August 12, Pereyra was sentenced pursuant to his plea agreement. Later on August 16, the State requested the issuance of subpoenas for its witnesses, including Pereyra, to be called at Defendant's trial scheduled for August 30. On August 23, the prosecutor filed a request for an interpreter for \"Witness Arturo Rios Pereyra.\" On August 27, the State filed a motion to transport Pereyra which was granted on the same date. This motion included a certificate of mailing/delivery to Defendant's counsel.5. On August 28, an off-the-record pretrial conference was held, at which the district court indicated the State could not call Pereyra at trial since his name had not been included in the State's two pretrial witness lists. The following day on August 29, one day before the scheduled trial, the State filed a witness list that now included Pereyra. On the morning of the trial, the parties again argued their respective positions on the record. The district court stood by its initial ruling precluding Pereyra from testifying. The State, pursuant to NMSA 1978, 39-3-3(B)(2) (1972), appeals the decision to suppress Pereyra's testimony.DISCUSSION6. The State has a duty to disclose or make available to a defendant \"a written list of the names and addresses of all witnesses which the prosecutor intends to call at the trial, together with any statement made by the witness and any record of prior convictions of any such witness which is within the knowledge of the proseeutor[.]\" Rule 5-501(A)(5), NMRA 1997. The State is further under a continuing duty, upon deciding to call additional witnesses, to promptly disclose their existence. Rule 5-505(A). When the State fails to include a witness it intends to call at trial, the district court may, in its discretion, resort to several sanctions, including granting a continuance, prohibiting the party from calling a witness not disclosed, or entering such other order as it deems appropriate under the circumstances. Rule 5-505(B).7. On appeal, we review the district court's order striking Pereyra as a witness for an abuse of discretion. See State v. Luna, 1996 NMCA 071, 7, 122 N.M. 143, 921 P.2d 950. According to our Supreme Court,[A]n abuse of discretion [occurs] when the lower court's decision is clearly against the logic and effect of the facts and circumstances of the case. [W]e will not find an abuse of discretion unless we can characterize [the district court's determination] as clearly untenable or not justified by reason. The moving party bears the burden of establishing an abuse of discretion.State v. Sosa, 1997 NMSC 032, 7, 123 N.M. 564, 943 P.2d 1017 (quotation marks and citations omitted).8. Here, the State contends that the district court abused its discretion when it suppressed Pereyra's testimony without first considering less severe sanctions such as a continuance. The State would have us hold that the district court abuses its discretion any time it does not select the least severe sanction. The district court, however, has the discretion to fashion the least severe sanction that best fits the situation and which will accomplish the desired result. State v. Mathis, 111 N.M. 687, 694, 808 P.2d 972, 979 (Ct.App.), reversed on other grounds in Mathis v. State, 112 N.M. 744, 747-48, 819 P.2d 1302, 1305-06 (1991) (Supreme Court found the district court's order not tó be an abuse of discretion) (Supreme Court opinion hereinafter cited as Mathis). The State's absolutist position overlooks and would unduly limit the district court's breadth of discretion.9. In addition, while the district court generally should fashion the least severe sanction which will accomplish the desired result, we do not believe the district court should be burdened with an independent duty to consider less severe alternatives when they are not raised by the party being sanctioned. See Rule 12-216(A), NMRA 1997 (to preserve question for review, it must appear that a ruling or decision by the district court was fairly invoked); State v. Najar, 94 N.M. 193, 195, 608 P.2d 169, 171 (Ct.App.1980) (trial court had no duty to instruct on voluntary manslaughter unless requested to do so); cf. State v. Flores, 1996 NMCA 059, 21, 122 N.M. 84, 920 P.2d 1038 (state suggests for the first time on appeal, a finding it did not ask the trial court to resolve); State v. Vargas, 1995 NMCA 016, 15, 121 N.M. 316, 910 P.2d 950 (Defendants failed to preserve a pretextual stop issue when they did not request that the trial court rule on the issue).10. In this case, the State did not suggest below that the district court should instead grant a continuance or other sanction instead of striking the witness. See State v. Smith, 88 N.M. 541, 545, 543 P.2d 834, 838 (Ct.App.1975) (defendants' brief contended they were entitled to a continuance but none was sought below). The prosecutor only argued that (1) the other judges in the district did not require a former co-defendant, now State's witness, to be disclosed pursuant to Rule 5-501(A)(5) and (2) Defendant's trial counsel had actual notice that the State would be calling Pereyra since she had told him \"vocally\" and because he was present at Pereyra's sentencing where this part of the plea was discussed. In essence, the prosecutor argued that no sanction was necessary, not that a lesser sanction should be imposed. Consequently, we hold that the State failed to raise and preserve its claim that the district court should have imposed a less severe sanction.11. In any event, the district court's order was not clearly against the logic and effect of the facts and circumstances of the case. See Sosa, 1997 NMSC 32, 7, 123 N.M. 564, 943 P.2d 1017. On appeal, the State concedes that it failed to satisfy the requirements of Rule 5-505(A) by not properly disclosing Pereyra as a witness. The prosecutor conceded in district court that she had intended to include Pereyra's name but had inadvertently left it off. Although the prosecutor argued in district court that defense counsel had actual notice that Pereyra was going to be called as a State's witness, defense counsel disputed the matter and the district court found that Defendant was surprised by the failure to list Pereyra as a witness. That determination finds support in the record. We reject the State's contention on appeal that this finding of \"surprise\" was actually a conclusion of law. It reflected the district court's determination that defense counsel had not known that Pereyra was going to be called as a witness.12. In addition, Defendant made more than an adequate showing of prejudice in the circumstances. A defendant must show prejudice before being entitled to relief stemming from the State's discovery violation. See Mathis, 112 N.M. at 748, 819 P.2d at 1306. The focus in determining prejudice is whether the missing evidence is \"important and critical to the case.\" Id. The record establishes that Pereyra's testimony was clearly \"important and critical to the case.\" Both the prosecutor and defense counsel agreed that Pereyra's testimony would form the foundation of the State's case. The presentation to the grand jury indicated that without his testimony the case against Defendant would be circumstantial and tenuous. Pereyra would provide direct, highly probative testimony. Given such a change in the nature and strength of the State's ease, Defendant was entitled to an adequate opportunity to prepare. When at the hearing the court asked defense counsel if he would be satisfied if the trial were delayed long enough for him to interview Pereyra, defense counsel responded:No, sir, that certainly will not, because now I will also need time to check his background. The state has not disclosed to me anything about his prior criminal record [unintelligible]. This is to talk to the guy a few minutes and then prepare to cross him when he's the key witness in a criminal case? That I don't think is adequate at all, judge. I mean that's just simply take what he tells me at face value with no opportunity to follow up on any of it, not to be able to prepare to impeach him or look for other evidence that could impeach that. I don't know what his criminal record is.In the circumstances, this response made sense. The court could not expect defense counsel to explain precisely how it would prepare to challenge Pereyra's testimony or what defense counsel would uncover from such preparation. The district court was entitled to apply common sense and its own experience.13. We agree with the State's argument on appeal that a continuance may well have resolved any prejudice to Defendant arising from lack of notice of the crucial witness for the State. But the district court need not always agree to \"cure\" a party's mistake in not disclosing a witness by continuing a trial. In this case, for example, apparently the six- month rule, Rule 5-604, NMRA 1997 required that the trial commence by the following Tuesday, only two business days later. This time constraint may have been a reason why the prosecutor did not even suggest a continuance to the district court.14.In sum, we find no abuse of discretion in the district court's ruling under the circumstances of this case.CONCLUSION15. We affirm the decision of the district court suppressing Pereyra's testimony.16. IT IS SO ORDERED.HARTZ, C.J., and FLORES, J., concur.\"\"\""
      ]
    },
    {
      "cell_type": "markdown",
      "metadata": {
        "id": "DG7mdWY5ibWM"
      },
      "source": [
        "## Etape 6 : Evaluation\n",
        "\n",
        "A l'aide de la dataframe test:\n",
        "\n",
        "1. Calculez le score de précision de votre modèle sur les données de test.\n",
        "2. Créez la matrice de confusion de votre modèle pour les données de test."
      ]
    },
    {
      "cell_type": "code",
      "execution_count": 12,
      "metadata": {
        "colab": {
          "base_uri": "https://localhost:8080/",
          "height": 206
        },
        "id": "7jnwR0_DpDQ5",
        "outputId": "48d216e4-15f8-4c93-bdce-98f14ba4cee4"
      },
      "outputs": [
        {
          "data": {
            "text/html": [
              "\n",
              "  <div id=\"df-b647913a-5b93-4fe4-a0c0-6005023cc2b2\">\n",
              "    <div class=\"colab-df-container\">\n",
              "      <div>\n",
              "<style scoped>\n",
              "    .dataframe tbody tr th:only-of-type {\n",
              "        vertical-align: middle;\n",
              "    }\n",
              "\n",
              "    .dataframe tbody tr th {\n",
              "        vertical-align: top;\n",
              "    }\n",
              "\n",
              "    .dataframe thead th {\n",
              "        text-align: right;\n",
              "    }\n",
              "</style>\n",
              "<table border=\"1\" class=\"dataframe\">\n",
              "  <thead>\n",
              "    <tr style=\"text-align: right;\">\n",
              "      <th></th>\n",
              "      <th>content</th>\n",
              "      <th>role</th>\n",
              "    </tr>\n",
              "  </thead>\n",
              "  <tbody>\n",
              "    <tr>\n",
              "      <th>66</th>\n",
              "      <td>OPINIONBUSTAMANTE, Judge.1. This case affords ...</td>\n",
              "      <td>Affirm</td>\n",
              "    </tr>\n",
              "    <tr>\n",
              "      <th>425</th>\n",
              "      <td>OPINIONFRY, Judge.{1} Defendant K-Mart appeals...</td>\n",
              "      <td>Complex</td>\n",
              "    </tr>\n",
              "    <tr>\n",
              "      <th>138</th>\n",
              "      <td>OPINIONMINZNER, Justice.{1} Petitioner Peter F...</td>\n",
              "      <td>Reverse</td>\n",
              "    </tr>\n",
              "    <tr>\n",
              "      <th>210</th>\n",
              "      <td>OPINIONCASTILLO, Judge.{1} This case relates t...</td>\n",
              "      <td>Affirm</td>\n",
              "    </tr>\n",
              "    <tr>\n",
              "      <th>78</th>\n",
              "      <td>OPINIONBOSSON, Chief Judge.{1} California Casu...</td>\n",
              "      <td>Affirm</td>\n",
              "    </tr>\n",
              "  </tbody>\n",
              "</table>\n",
              "</div>\n",
              "      <button class=\"colab-df-convert\" onclick=\"convertToInteractive('df-b647913a-5b93-4fe4-a0c0-6005023cc2b2')\"\n",
              "              title=\"Convert this dataframe to an interactive table.\"\n",
              "              style=\"display:none;\">\n",
              "        \n",
              "  <svg xmlns=\"http://www.w3.org/2000/svg\" height=\"24px\"viewBox=\"0 0 24 24\"\n",
              "       width=\"24px\">\n",
              "    <path d=\"M0 0h24v24H0V0z\" fill=\"none\"/>\n",
              "    <path d=\"M18.56 5.44l.94 2.06.94-2.06 2.06-.94-2.06-.94-.94-2.06-.94 2.06-2.06.94zm-11 1L8.5 8.5l.94-2.06 2.06-.94-2.06-.94L8.5 2.5l-.94 2.06-2.06.94zm10 10l.94 2.06.94-2.06 2.06-.94-2.06-.94-.94-2.06-.94 2.06-2.06.94z\"/><path d=\"M17.41 7.96l-1.37-1.37c-.4-.4-.92-.59-1.43-.59-.52 0-1.04.2-1.43.59L10.3 9.45l-7.72 7.72c-.78.78-.78 2.05 0 2.83L4 21.41c.39.39.9.59 1.41.59.51 0 1.02-.2 1.41-.59l7.78-7.78 2.81-2.81c.8-.78.8-2.07 0-2.86zM5.41 20L4 18.59l7.72-7.72 1.47 1.35L5.41 20z\"/>\n",
              "  </svg>\n",
              "      </button>\n",
              "      \n",
              "  <style>\n",
              "    .colab-df-container {\n",
              "      display:flex;\n",
              "      flex-wrap:wrap;\n",
              "      gap: 12px;\n",
              "    }\n",
              "\n",
              "    .colab-df-convert {\n",
              "      background-color: #E8F0FE;\n",
              "      border: none;\n",
              "      border-radius: 50%;\n",
              "      cursor: pointer;\n",
              "      display: none;\n",
              "      fill: #1967D2;\n",
              "      height: 32px;\n",
              "      padding: 0 0 0 0;\n",
              "      width: 32px;\n",
              "    }\n",
              "\n",
              "    .colab-df-convert:hover {\n",
              "      background-color: #E2EBFA;\n",
              "      box-shadow: 0px 1px 2px rgba(60, 64, 67, 0.3), 0px 1px 3px 1px rgba(60, 64, 67, 0.15);\n",
              "      fill: #174EA6;\n",
              "    }\n",
              "\n",
              "    [theme=dark] .colab-df-convert {\n",
              "      background-color: #3B4455;\n",
              "      fill: #D2E3FC;\n",
              "    }\n",
              "\n",
              "    [theme=dark] .colab-df-convert:hover {\n",
              "      background-color: #434B5C;\n",
              "      box-shadow: 0px 1px 3px 1px rgba(0, 0, 0, 0.15);\n",
              "      filter: drop-shadow(0px 1px 2px rgba(0, 0, 0, 0.3));\n",
              "      fill: #FFFFFF;\n",
              "    }\n",
              "  </style>\n",
              "\n",
              "      <script>\n",
              "        const buttonEl =\n",
              "          document.querySelector('#df-b647913a-5b93-4fe4-a0c0-6005023cc2b2 button.colab-df-convert');\n",
              "        buttonEl.style.display =\n",
              "          google.colab.kernel.accessAllowed ? 'block' : 'none';\n",
              "\n",
              "        async function convertToInteractive(key) {\n",
              "          const element = document.querySelector('#df-b647913a-5b93-4fe4-a0c0-6005023cc2b2');\n",
              "          const dataTable =\n",
              "            await google.colab.kernel.invokeFunction('convertToInteractive',\n",
              "                                                     [key], {});\n",
              "          if (!dataTable) return;\n",
              "\n",
              "          const docLinkHtml = 'Like what you see? Visit the ' +\n",
              "            '<a target=\"_blank\" href=https://colab.research.google.com/notebooks/data_table.ipynb>data table notebook</a>'\n",
              "            + ' to learn more about interactive tables.';\n",
              "          element.innerHTML = '';\n",
              "          dataTable['output_type'] = 'display_data';\n",
              "          await google.colab.output.renderOutput(dataTable, element);\n",
              "          const docLink = document.createElement('div');\n",
              "          docLink.innerHTML = docLinkHtml;\n",
              "          element.appendChild(docLink);\n",
              "        }\n",
              "      </script>\n",
              "    </div>\n",
              "  </div>\n",
              "  "
            ],
            "text/plain": [
              "                                               content     role\n",
              "66   OPINIONBUSTAMANTE, Judge.1. This case affords ...   Affirm\n",
              "425  OPINIONFRY, Judge.{1} Defendant K-Mart appeals...  Complex\n",
              "138  OPINIONMINZNER, Justice.{1} Petitioner Peter F...  Reverse\n",
              "210  OPINIONCASTILLO, Judge.{1} This case relates t...   Affirm\n",
              "78   OPINIONBOSSON, Chief Judge.{1} California Casu...   Affirm"
            ]
          },
          "execution_count": 12,
          "metadata": {},
          "output_type": "execute_result"
        }
      ],
      "source": [
        "test.head()"
      ]
    },
    {
      "cell_type": "markdown",
      "metadata": {
        "id": "wcg0-RGZibWV"
      },
      "source": [
        "## Etape 7 : Optimisation \n",
        "\n",
        "Faites tout ce qui est possible pour augmenter le score de votre modèle, notamment:\n",
        "- Essayez avec un nouvel estimateur sklearn\n",
        "- Modifiez les paramètres de l'estimateur\n",
        "- Nettoyez le texte\n",
        "- Améliorez la tokenization du texte"
      ]
    },
    {
      "cell_type": "markdown",
      "metadata": {
        "id": "A2JDG2IhibWX"
      },
      "source": [
        "1. Jour 1\n",
        "    * Variables\n",
        "        * [exercice1](https://colab.research.google.com/github/Hotsnown/seminaire-bordeaux-2022/blob/master/exercices/jour1/1.%20variables/1.1%20helloworld.ipynb)\n",
        "        * [exercice2](https://colab.research.google.com/github/Hotsnown/seminaire-bordeaux-2022/blob/master/exercices/jour1/1.%20variables/1.2%20%C3%A9viter%20les%20errreurs%20de%20nommage.ipynb)\n",
        "        * [mini-projet](https://colab.research.google.com/github/Hotsnown/seminaire-bordeaux-2022/blob/master/exercices/jour1/1.%20variables/1.3%20mini-project.ipynb#scrollTo=RPB2xCMdA6lV)\n",
        "    * Strings\n",
        "        * [exercice1](https://colab.research.google.com/github/Hotsnown/seminaire-bordeaux-2022/blob/master/exercices/jour1/2.%20strings/2.1%20concat.ipynb)\n",
        "        * [exercice2](https://colab.research.google.com/github/Hotsnown/seminaire-bordeaux-2022/blob/master/exercices/jour1/2.%20strings/2.2%20string_methods.ipynb)\n",
        "        * [mini-projet](https://colab.research.google.com/github/Hotsnown/seminaire-bordeaux-2022/blob/master/exercices/jour1/2.%20strings/2.3%20mini-project.ipynb)\n",
        "    * Opérations\n",
        "        * [exercice1](https://colab.research.google.com/github/Hotsnown/seminaire-bordeaux-2022/blob/master/exercices/jour1/3.%20operations/3.1%20math.ipynb)\n",
        "        * [exercice2](https://colab.research.google.com/github/Hotsnown/seminaire-bordeaux-2022/blob/master/exercices/jour1/3.%20operations/3.2%20bool%C3%A9en.ipynb)\n",
        "        * [mini-projet](https://colab.research.google.com/github/Hotsnown/seminaire-bordeaux-2022/blob/master/exercices/jour1/3.%20operations/3.3%20mini-project.ipynb)\n",
        "\n",
        "2. Jour 2\n",
        "    * Listes\n",
        "        * [Définition](https://colab.research.google.com/github/Hotsnown/seminaire-bordeaux-2022/blob/master/exercices/jour2/2.1%20Listes/2.1.1%20d%C3%A9finition%20liste.ipynb?hl=fr)\n",
        "        * [Strings et listes](https://colab.research.google.com/github/Hotsnown/seminaire-bordeaux-2022/blob/master/exercices/jour2/2.1%20Listes/2.1.2%20String%20as%20list%20of%20characters.ipynb?hl=fr)\n",
        "        * [Mini-projet](https://colab.research.google.com/github/Hotsnown/seminaire-bordeaux-2022/blob/master/exercices/jour2/2.1%20Listes/2.1.3%20mini-project.ipynb?hl=fr)\n",
        "    * Fonctions\n",
        "        * [Définition I](https://colab.research.google.com/github/Hotsnown/seminaire-bordeaux-2022/blob/master/exercices/jour2/2.2%20Fonctions/2.2.1%20d%C3%A9finition%20fonctions.ipynb?hl=fr)\n",
        "        * [Définition II](https://colab.research.google.com/github/Hotsnown/seminaire-bordeaux-2022/blob/master/exercices/jour2/2.2%20Fonctions/2.2.2%20scope%20et%20fonctions%20imbriqu%C3%A9es.ipynb?hl=fr)\n",
        "        * [Mini-projet](https://colab.research.google.com/github/Hotsnown/seminaire-bordeaux-2022/blob/master/exercices/jour2/2.2%20Fonctions/2.2.3%20mini-project.ipynb?hl=fr) \n",
        "    * Librairies\n",
        "        * [Pandas](https://colab.research.google.com/github/Hotsnown/seminaire-bordeaux-2022/blob/master/exercices/jour2/2.3%20Librairies/2.3.1%20Pandas.ipynb?hl=fr)\n",
        "        * [Matplotlib](https://colab.research.google.com/github/Hotsnown/seminaire-bordeaux-2022/blob/master/exercices/jour2/2.3%20Librairies/2.3.2%20Matplotlib.ipynb?hl=fr)\n",
        "        * [Mini-projet](https://colab.research.google.com/github/Hotsnown/seminaire-bordeaux-2022/blob/master/exercices/jour2/2.3%20Librairies/2.3.3%20mini-project.ipynb?hl=fr) \n",
        "3. Jour 3\n",
        "    * Introduction à la NLP\n",
        "        * [Charger des un corpus](https://colab.research.google.com/github/Hotsnown/seminaire-bordeaux-2022/blob/master/exercices/jour3/3.1%20what%20is%20nlp/3.1.1%20Accessing%20Text.ipynb?hl=fr)\n",
        "        * [Traitement de texte dans Pandas](https://colab.research.google.com/github/Hotsnown/seminaire-bordeaux-2022/blob/master/exercices/jour3/3.1%20what%20is%20nlp/3.1.2%20Working%20with%20text%20data%20in%20pandas.ipynb?hl=fr)\n",
        "        * [Mini-projet](https://colab.research.google.com/github/Hotsnown/seminaire-bordeaux-2022/blob/master/exercices/jour3/3.1%20what%20is%20nlp/3.1.3%20mini-project.ipynb?hl=fr)\n",
        "    * Segmentation\n",
        "        * [Segmentation de tokens](https://colab.research.google.com/github/Hotsnown/seminaire-bordeaux-2022/blob/master/exercices/jour3/3.2%20Segmentation/3.2.1%20Token%20segmentation.ipynb?hl=fr)\n",
        "        * [Segmentation de phrase](https://colab.research.google.com/github/Hotsnown/seminaire-bordeaux-2022/blob/master/exercices/jour3/3.2%20Segmentation/3.2.2%20Sentence%20segmentation.ipynb?hl=fr)\n",
        "        * [Mini-projet](https://colab.research.google.com/github/Hotsnown/seminaire-bordeaux-2022/blob/master/exercices/jour3/3.2%20Segmentation/3.2.3%20mini-project.ipynb?hl=fr)\n",
        "    * Nettoyage de texte\n",
        "        * [Stopwords](https://colab.research.google.com/github/Hotsnown/seminaire-bordeaux-2022/blob/master/exercices/jour3/3.3%20text%20cleaning.ipynb/3.3.1%20stopwords.ipynb?hl=fr)\n",
        "        * [Normalisation](https://colab.research.google.com/github/Hotsnown/seminaire-bordeaux-2022/blob/master/exercices/jour3/3.3%20text%20cleaning.ipynb/3.3.2%20Normalizing%20Text.ipynb?hl=fr)\n",
        "        * [Mini-projet](https://colab.research.google.com/github/Hotsnown/seminaire-bordeaux-2022/blob/master/exercices/jour3/3.3%20text%20cleaning.ipynb/3.3.3%20mini-project.ipynb?hl=fr)\n",
        "4. Jour 4\n",
        "    * Apprentissage supervisé\n",
        "        * [Régression linéaire](https://colab.research.google.com/github/Hotsnown/seminaire-bordeaux-2022/blob/master/exercices/jour4/4.1%20supervised%20learning/4.3.1%20linear%20regression.ipynb?hl=fr)\n",
        "        * [Evaluation](https://colab.research.google.com/github/Hotsnown/seminaire-bordeaux-2022/blob/master/exercices/jour4/4.1%20supervised%20learning/4.3.2%20evaluale.ipynb?hl=fr)\n",
        "        * [Mini-projet](https://colab.research.google.com/github/Hotsnown/seminaire-bordeaux-2022/blob/master/exercices/jour4/4.1%20supervised%20learning/4.3.3%20mini-project.ipynb?hl=fr)\n",
        "    * Pré-traitement de texte\n",
        "        * [Featurization de textes](https://colab.research.google.com/github/Hotsnown/seminaire-bordeaux-2022/blob/master/exercices/jour4/4.2%20text%20preprocessing/4.2.1%20text%20featurization.ipynb?hl=fr)\n",
        "        * [Featurization de labels](https://colab.research.google.com/github/Hotsnown/seminaire-bordeaux-2022/blob/master/exercices/jour4/4.2%20text%20preprocessing/4.2.2%20label%20featurization.ipynb?hl=fr)\n",
        "        * [Mini-projet](https://colab.research.google.com/github/Hotsnown/seminaire-bordeaux-2022/blob/master/exercices/jour4/4.2%20text%20preprocessing/4.2.3%20mini-project.ipynb?hl=fr)\n",
        "    * Classification de texte\n",
        "        * [EDA](https://colab.research.google.com/github/Hotsnown/seminaire-bordeaux-2022/blob/master/exercices/jour4/4.3%20text%20classification/4.1.1%20EDA.ipynb?hl=fr)\n",
        "        * [Apprentissage supervisé textuel](https://colab.research.google.com/github/Hotsnown/seminaire-bordeaux-2022/blob/master/exercices/jour4/4.3%20text%20classification/4.1.1%20EDA.ipynb?hl=fr)\n",
        "        * [Mini-projet](https://colab.research.google.com/github/Hotsnown/seminaire-bordeaux-2022/blob/master/exercices/jour4/4.3%20text%20classification/4.1.3%20mini-project.ipynb?hl=fr)\n",
        "5. Jour 5\n",
        "    * [Projet final](https://colab.research.google.com/github/Hotsnown/seminaire-bordeaux-2022/blob/master/exercices/jour5/final-project.ipynb?hl=fr)"
      ]
    }
  ],
  "metadata": {
    "colab": {
      "provenance": []
    },
    "kernelspec": {
      "display_name": "Python 3.10.7 64-bit (microsoft store)",
      "language": "python",
      "name": "python3"
    },
    "language_info": {
      "codemirror_mode": {
        "name": "ipython",
        "version": 3
      },
      "file_extension": ".py",
      "mimetype": "text/x-python",
      "name": "python",
      "nbconvert_exporter": "python",
      "pygments_lexer": "ipython3",
      "version": "3.10.8"
    },
    "orig_nbformat": 4,
    "vscode": {
      "interpreter": {
        "hash": "ab330c63be1774c7d4efd28485dada9f7c6eb3392ec4de9472ccb4da1daed7d7"
      }
    }
  },
  "nbformat": 4,
  "nbformat_minor": 0
}
