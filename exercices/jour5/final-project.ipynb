{
 "cells": [
  {
   "cell_type": "markdown",
   "metadata": {},
   "source": [
    "50. Download and Preprocess DatasetPermalink\n",
    "Download News Aggregator Data Set and create training data (train.txt), validation data (valid.txt) and test data (test.txt) as follows:\n",
    "\n",
    "Unpack the downloaded zip file and read readme.txt.\n",
    "Extract the articles such that the publisher is one of the followings: “Reuters”, “Huffington Post”, “Businessweek”, “Contactmusic.com” and “Daily Mail”.\n",
    "Randomly shuffle the extracted articles.\n",
    "Split the extracted articles in the following ratio: the training data (80%), the validation data (10%) and the test data (10%). Then save them into files train.txt, valid.txt and test.txt, respectively. In each file, each line should contain a single instance. Each instance should contain both the name of the category and the article headline. Use Tab to separate each field.\n",
    "After creating the dataset, check the number of instances contained in each category.\n",
    "\n",
    "51. Feature extractionPermalink\n",
    "Extract a set of features from the training, validation and test data, respectively. Save the features into files as follows: train.feature.txt, valid.feature.txt and test.feature.txt. Design the features that are useful for the news classification. The minimum baseline for the features is the tokenized sequence of the news headline.\n",
    "\n",
    "52. TrainingPermalink\n",
    "Use the training data from the problem 51 and train the logistic regression model.\n",
    "\n",
    "53. PredictionPermalink\n",
    "Use the logistic regression model from the problem 52. Create a program that predicts the category of a given news headline and computes the prediction probability of the model.\n",
    "\n",
    "54. Accuracy scorePermalink\n",
    "Compute the accuracy score of the logistic regression model from the problem 52 on both the training data and the test data.\n",
    "\n",
    "55. Confusion matrixPermalink\n",
    "Create the confusion matrix of the logistic regression model from the problem 52 for both the training data and the test data.\n",
    "\n",
    "56. Precision, recall and F1 scorePermalink\n",
    "Compute the precision, recall and F1 score of the logistic regression model from the problem 52. First, compute these metrics for each category. Then summarize the score of each category using (1) micro-average and (2) macro-average.\n",
    "\n",
    "57. Feature weightsPermalink\n",
    "Use the logistic regression model from the problem 52. Check the feature weights and list the 10 most important features and 10 least important features.\n",
    "\n",
    "58. RegularizationPermalink\n",
    "When training a logistic regression model, one can control the degree of overfitting by manipulating the regularization parameters. Use different regularization parameters to train the model. Then, compute the accuracy score on the training data, validation data and test data. Summarize the results on the graph, where x-axis is the regularization parameter and y-axis is the accuracy score.\n",
    "\n",
    "59. Hyper-parameter tuningPermalink\n",
    "Use different training algorithms and parameters to train the model for the news classification. Search for the training algorithms and parameters that achieves the best accuracy score on the validation data. Then compute its accuracy score on the test data."
   ]
  }
 ],
 "metadata": {
  "kernelspec": {
   "display_name": "Python 3.10.7 64-bit (microsoft store)",
   "language": "python",
   "name": "python3"
  },
  "language_info": {
   "name": "python",
   "version": "3.10.8"
  },
  "orig_nbformat": 4,
  "vscode": {
   "interpreter": {
    "hash": "ab330c63be1774c7d4efd28485dada9f7c6eb3392ec4de9472ccb4da1daed7d7"
   }
  }
 },
 "nbformat": 4,
 "nbformat_minor": 2
}
