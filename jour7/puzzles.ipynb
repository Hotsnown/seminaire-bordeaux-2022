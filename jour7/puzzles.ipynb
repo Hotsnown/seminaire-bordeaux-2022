{
 "cells": [
  {
   "cell_type": "code",
   "execution_count": null,
   "metadata": {
    "vscode": {
     "languageId": "plaintext"
    }
   },
   "outputs": [],
   "source": [
    "!git clone https://github.com/Hotsnown/seminaire-bordeaux-2022.git seminaire &> /dev/null\n",
    "%pip install nbautoeval &> /dev/null\n",
    "from seminaire.evaluation.jour7.puzzles import *"
   ]
  },
  {
   "cell_type": "markdown",
   "metadata": {},
   "source": [
    "# Puzzles"
   ]
  },
  {
   "cell_type": "markdown",
   "metadata": {},
   "source": [
    "## Echauffement"
   ]
  },
  {
   "cell_type": "markdown",
   "metadata": {},
   "source": [
    "### Sleep-in\n",
    "\n",
    "Le paramètre weekday est Vrai si c'est un jour de semaine, et le paramètre vacation est Vrai si nous sommes en vacances. On fait la grasse matinée si ce n'est pas un jour de semaine ou si on est en vacances. Retournez True si on fait la grasse matinée."
   ]
  },
  {
   "cell_type": "code",
   "execution_count": null,
   "metadata": {
    "vscode": {
     "languageId": "plaintext"
    }
   },
   "outputs": [],
   "source": [
    "exo_sleep_in.example()"
   ]
  },
  {
   "cell_type": "code",
   "execution_count": null,
   "metadata": {
    "vscode": {
     "languageId": "plaintext"
    }
   },
   "outputs": [],
   "source": [
    "def sleep_in(weekday, vacation):\n",
    "  return\n",
    "\n",
    "exo_sleep_in.correction(sleep_in)"
   ]
  },
  {
   "cell_type": "markdown",
   "metadata": {},
   "source": [
    "### Missing char\n",
    "\n",
    "Étant donné une chaîne de caractères non vide et un nombre entier n, retourne une nouvelle chaîne de caractères dans laquelle le caractère à l'indice n a été supprimé. La valeur de n sera un index valide d'un caractère dans la chaîne originale (c'est-à-dire que n sera dans la gamme 0..len(str)-1 inclus)."
   ]
  },
  {
   "cell_type": "code",
   "execution_count": null,
   "metadata": {
    "vscode": {
     "languageId": "plaintext"
    }
   },
   "outputs": [],
   "source": [
    "exo_missing_char.example()"
   ]
  },
  {
   "cell_type": "code",
   "execution_count": null,
   "metadata": {
    "vscode": {
     "languageId": "plaintext"
    }
   },
   "outputs": [],
   "source": [
    "def missing_char(str, n):\n",
    "    return\n",
    "    \n",
    "exo_missing_char.correction(missing_char)"
   ]
  },
  {
   "cell_type": "markdown",
   "metadata": {},
   "source": [
    "### Monkey trouble\n",
    "\n",
    "Nous avons deux singes, a et b, et les paramètres a_smile et b_smile indiquent si chacun est souriant. Nous sommes en difficulté s'ils sourient tous les deux ou si aucun d'entre eux ne sourit. Retournez Vrai si nous avons des problèmes."
   ]
  },
  {
   "cell_type": "code",
   "execution_count": null,
   "metadata": {
    "vscode": {
     "languageId": "plaintext"
    }
   },
   "outputs": [],
   "source": [
    "exo_monkey_trouble.example()"
   ]
  },
  {
   "cell_type": "code",
   "execution_count": null,
   "metadata": {
    "vscode": {
     "languageId": "plaintext"
    }
   },
   "outputs": [],
   "source": [
    "def monkey_trouble(a_smile, b_smile):\n",
    "    return\n",
    "\n",
    "exo_monkey_trouble.correction(monkey_trouble)"
   ]
  },
  {
   "cell_type": "markdown",
   "metadata": {},
   "source": [
    "### Front Back\n",
    "\n",
    "Étant donné une chaîne de caractères, retournez une nouvelle chaîne où les premiers et derniers caractères ont été échangés."
   ]
  },
  {
   "cell_type": "code",
   "execution_count": null,
   "metadata": {
    "vscode": {
     "languageId": "plaintext"
    }
   },
   "outputs": [],
   "source": [
    "exo_front_back.example()"
   ]
  },
  {
   "cell_type": "code",
   "execution_count": null,
   "metadata": {
    "vscode": {
     "languageId": "plaintext"
    }
   },
   "outputs": [],
   "source": [
    "def front_back(str):\n",
    "    return\n",
    "\n",
    "exo_front_back.correction(front_back)"
   ]
  },
  {
   "cell_type": "markdown",
   "metadata": {},
   "source": [
    "### Sum Double\n",
    "\n",
    "Étant donné deux valeurs int, retournez leur somme. À moins que les deux valeurs ne soient identiques, il faut retourner le double de leur somme.\n"
   ]
  },
  {
   "cell_type": "code",
   "execution_count": null,
   "metadata": {
    "vscode": {
     "languageId": "plaintext"
    }
   },
   "outputs": [],
   "source": [
    "exo_sum_double.example()"
   ]
  },
  {
   "cell_type": "code",
   "execution_count": null,
   "metadata": {
    "vscode": {
     "languageId": "plaintext"
    }
   },
   "outputs": [],
   "source": [
    "def sum_double(a, b):\n",
    "  return\n",
    "\n",
    "\n",
    "exo_sum_double.correction(sum_double)"
   ]
  },
  {
   "cell_type": "markdown",
   "metadata": {},
   "source": [
    "### makes10\n",
    "\n",
    "Étant donné 2 ints, a et b, retourner True si l'un d'eux est 10 ou si leur somme est 10."
   ]
  },
  {
   "cell_type": "code",
   "execution_count": null,
   "metadata": {
    "vscode": {
     "languageId": "plaintext"
    }
   },
   "outputs": [],
   "source": [
    "exo_makes10.example()"
   ]
  },
  {
   "cell_type": "code",
   "execution_count": null,
   "metadata": {
    "vscode": {
     "languageId": "plaintext"
    }
   },
   "outputs": [],
   "source": [
    "def makes10(a, b):\n",
    "    return\n",
    "  \n",
    "exo_makes10.correction(makes10)"
   ]
  },
  {
   "cell_type": "markdown",
   "metadata": {},
   "source": [
    "### not_string\n",
    "\n",
    "Étant donné une chaîne de caractères, retourne une nouvelle chaîne de caractères dans laquelle \"not\" a été ajouté au début. Toutefois, si la chaîne de caractères commence déjà par \"not\", renvoyez-la telle quelle.\n"
   ]
  },
  {
   "cell_type": "code",
   "execution_count": null,
   "metadata": {
    "vscode": {
     "languageId": "plaintext"
    }
   },
   "outputs": [],
   "source": [
    "exo_not_string.example()"
   ]
  },
  {
   "cell_type": "code",
   "execution_count": null,
   "metadata": {
    "vscode": {
     "languageId": "plaintext"
    }
   },
   "outputs": [],
   "source": [
    "def not_string(str):\n",
    "    return\n",
    "\n",
    "exo_not_string.correction(not_string)"
   ]
  },
  {
   "cell_type": "markdown",
   "metadata": {},
   "source": [
    "## Listes (sans itération)\n",
    "\n",
    "Problèmes basiques de liste en python -- pas de boucles ... Utilisez a[0], a[1], ... pour accéder aux éléments d'une liste, len(a) est la longueur."
   ]
  },
  {
   "cell_type": "markdown",
   "metadata": {},
   "source": [
    "### first_last6\n",
    "\n",
    "Étant donné une liste de chiffre, retournez Vrai si 6 apparaît comme le premier ou le dernier élément du tableau. Le tableau sera de longueur 1 ou plus.\n"
   ]
  },
  {
   "cell_type": "code",
   "execution_count": null,
   "metadata": {
    "vscode": {
     "languageId": "plaintext"
    }
   },
   "outputs": [],
   "source": [
    "exo_first_last6.example()"
   ]
  },
  {
   "cell_type": "code",
   "execution_count": null,
   "metadata": {
    "vscode": {
     "languageId": "plaintext"
    }
   },
   "outputs": [],
   "source": [
    "def first_last6(nums):\n",
    "    return\n",
    "\n",
    "exo_first_last6.correction(first_last6)"
   ]
  },
  {
   "cell_type": "markdown",
   "metadata": {},
   "source": [
    "### common_end\n",
    "\n",
    "Étant donné 2 listes de chiffre, a et b, retournez Vrai s'ils ont le même premier élément ou s'ils ont le même dernier élément. Les deux tableaux seront de longueur 1 ou plus."
   ]
  },
  {
   "cell_type": "code",
   "execution_count": null,
   "metadata": {
    "vscode": {
     "languageId": "plaintext"
    }
   },
   "outputs": [],
   "source": [
    "exo_common_end.example()"
   ]
  },
  {
   "cell_type": "code",
   "execution_count": null,
   "metadata": {
    "vscode": {
     "languageId": "plaintext"
    }
   },
   "outputs": [],
   "source": [
    "def common_end(a, b):\n",
    "    return\n",
    "\n",
    "exo_common_end.correction(common_end)"
   ]
  },
  {
   "cell_type": "markdown",
   "metadata": {},
   "source": [
    "### same_first_last\n",
    "\n",
    "Étant donné une liste de chiffres, retournez True si le tableau a une longueur de 1 ou plus, et si le premier élément et le dernier élément sont égaux.\n",
    "\n"
   ]
  },
  {
   "cell_type": "code",
   "execution_count": null,
   "metadata": {
    "vscode": {
     "languageId": "plaintext"
    }
   },
   "outputs": [],
   "source": [
    "exo_same_first_last.example()"
   ]
  },
  {
   "cell_type": "code",
   "execution_count": null,
   "metadata": {
    "vscode": {
     "languageId": "plaintext"
    }
   },
   "outputs": [],
   "source": [
    "def same_first_last(nums):\n",
    "  return\n",
    "  \n",
    "exo_same_first_last.correction(same_first_last)"
   ]
  },
  {
   "cell_type": "markdown",
   "metadata": {},
   "source": [
    "### sum3\n",
    "\n",
    "Étant donné une liste de chiffres de longueur 3, retournez la somme de tous les éléments."
   ]
  },
  {
   "cell_type": "code",
   "execution_count": null,
   "metadata": {
    "vscode": {
     "languageId": "plaintext"
    }
   },
   "outputs": [],
   "source": [
    "exo_sum3.example()"
   ]
  },
  {
   "cell_type": "code",
   "execution_count": null,
   "metadata": {
    "vscode": {
     "languageId": "plaintext"
    }
   },
   "outputs": [],
   "source": [
    "def sum3(nums):\n",
    "  return\n",
    "  \n",
    "exo_sum3.correction(sum3)"
   ]
  },
  {
   "cell_type": "markdown",
   "metadata": {},
   "source": [
    "## Strings (avec itération)\n",
    "\n",
    "Problèmes moyens de chaînes de caractères en python -- 1 boucle... Utilisez + pour combiner des chaînes de caractères, len(str) est le nombre de caractères dans une chaîne, str[i:j] extrait la sous-chaîne commençant à l'indice i et allant jusqu'à l'indice j non compris."
   ]
  },
  {
   "cell_type": "markdown",
   "metadata": {},
   "source": [
    "### count_hi\n",
    "\n",
    "Retournez le nombre de fois que la chaîne \"hi\" apparaît n'importe où dans la chaîne donnée.\n",
    "\n"
   ]
  },
  {
   "cell_type": "code",
   "execution_count": null,
   "metadata": {
    "vscode": {
     "languageId": "plaintext"
    }
   },
   "outputs": [],
   "source": [
    "exo_count_hi.example()"
   ]
  },
  {
   "cell_type": "code",
   "execution_count": null,
   "metadata": {
    "vscode": {
     "languageId": "plaintext"
    }
   },
   "outputs": [],
   "source": [
    "def count_hi(str):\n",
    "  return\n",
    "  \n",
    "exo_count_hi.correction(count_hi)"
   ]
  },
  {
   "cell_type": "markdown",
   "metadata": {},
   "source": [
    "## Listes (avec itération)"
   ]
  },
  {
   "cell_type": "markdown",
   "metadata": {},
   "source": [
    "### big_diff\n",
    "\n",
    "Étant donné une liste de longueur 1 ou plus de chiffres, retournez la différence entre la plus grande et la plus petite valeur du tableau. Remarque : les fonctions intégrées min(v1, v2) et max(v1, v2) renvoient la plus petite ou la plus grande de deux valeurs."
   ]
  },
  {
   "cell_type": "code",
   "execution_count": null,
   "metadata": {
    "vscode": {
     "languageId": "plaintext"
    }
   },
   "outputs": [],
   "source": [
    "exo_big_diff.example()"
   ]
  },
  {
   "cell_type": "code",
   "execution_count": null,
   "metadata": {
    "vscode": {
     "languageId": "plaintext"
    }
   },
   "outputs": [],
   "source": [
    "def big_diff(nums):\n",
    "  return\n",
    "  \n",
    "exo_big_diff.correction(big_diff)"
   ]
  },
  {
   "cell_type": "markdown",
   "metadata": {},
   "source": [
    "Jour 6\n",
    "1.   Variables\n",
    "  *   [Hello World](https://colab.research.google.com/github/Hotsnown/seminaire-bordeaux-2022/blob/master/jour6/6_1_1_Hello_World.ipynb?hl=fr)\n",
    "  *   [Assignement](https://colab.research.google.com/github/Hotsnown/seminaire-bordeaux-2022/blob/master/jour6/6_1_2_Les_variables.ipynb?hl=fr)\n",
    "  *   [Mini-projet](https://colab.research.google.com/github/Hotsnown/seminaire-bordeaux-2022/blob/master/jour6/6_1_3_Mini_projet.ipynb?hl=fr)\n",
    "2.   String\n",
    "  *   [String (I)](https://colab.research.google.com/github/Hotsnown/seminaire-bordeaux-2022/blob/master/jour6/6_2_1_Strings_(I).ipynb?hl=fr)\n",
    "  *   [String (II)](https://colab.research.google.com/github/Hotsnown/seminaire-bordeaux-2022/blob/master/jour6/6_2_2_Strings_(II).ipynb?hl=fr)\n",
    "  *   [Mini-projet](https://colab.research.google.com/github/Hotsnown/seminaire-bordeaux-2022/blob/master/jour6/6_2_3_Mini_projet.ipynb?hl=fr)\n",
    "3.   Operateurs\n",
    "  *   [Opérateurs mathématiques](https://colab.research.google.com/github/Hotsnown/seminaire-bordeaux-2022/blob/master/jour6/6_3_1_Mathematical_opeators.ipynb?hl=fr)\n",
    "  *   [Opérateurs booléens](https://colab.research.google.com/github/Hotsnown/seminaire-bordeaux-2022/blob/master/jour6/6_3_2_Boolean_operators.ipynb?hl=fr)\n",
    "  *   [Mini-projet](https://colab.research.google.com/github/Hotsnown/seminaire-bordeaux-2022/blob/master/jour6/6_3_3_Mini_projet.ipynb?hl=fr)\n",
    "\n",
    "Jour 7\n",
    "1. [Puzzles](https://colab.research.google.com/github/Hotsnown/seminaire-bordeaux-2022/blob/master/jour7/puzzles.ipynb?hl=fr)\n",
    "2. [Projet](https://colab.research.google.com/github/Hotsnown/seminaire-bordeaux-2022/blob/master/jour7/projet.ipynb?hl=fr)\n"
   ]
  }
 ],
 "metadata": {
  "language_info": {
   "name": "python"
  },
  "orig_nbformat": 4
 },
 "nbformat": 4,
 "nbformat_minor": 2
}
